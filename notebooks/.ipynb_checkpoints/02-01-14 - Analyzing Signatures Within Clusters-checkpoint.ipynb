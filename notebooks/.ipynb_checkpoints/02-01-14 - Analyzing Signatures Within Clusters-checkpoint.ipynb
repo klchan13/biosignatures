{
 "metadata": {
  "name": ""
 },
 "nbformat": 3,
 "nbformat_minor": 0,
 "worksheets": [
  {
   "cells": [
    {
     "cell_type": "code",
     "collapsed": false,
     "input": [
      "import numpy as np\n",
      "import csv"
     ],
     "language": "python",
     "metadata": {},
     "outputs": [],
     "prompt_number": 1
    },
    {
     "cell_type": "code",
     "collapsed": false,
     "input": [
      "cd ~"
     ],
     "language": "python",
     "metadata": {},
     "outputs": [
      {
       "output_type": "stream",
       "stream": "stdout",
       "text": [
        "c:\\Users\\Lirael\n"
       ]
      }
     ],
     "prompt_number": 21
    },
    {
     "cell_type": "code",
     "collapsed": false,
     "input": [
      "# Order: Signature 1, Signature 2, Fe, Cu, Zn, Ca, K, S, P, Cl, Si, Mn\n",
      "bstrp_med = np.loadtxt(\"bootstrap_median.txt\")\n",
      "med_sig = np.loadtxt(\"median_signatures.txt\")"
     ],
     "language": "python",
     "metadata": {},
     "outputs": [],
     "prompt_number": 3
    },
    {
     "cell_type": "code",
     "collapsed": false,
     "input": [
      "def cluster_signatures(sig_out_in, bstrp_med, med_sig, p_thresh=0.05,\n",
      "                       ele_order=np.array([\"Fe\", \"Cu\", \"Zn\", \"Ca\", \"K\", \"S\", \"P\", \"Cl\", \"Si\", \"Mn\"])):\n",
      "    \"\"\"\n",
      "    Analyzes different signatures within a cluster group and finds the elemental trends.\n",
      "    \"\"\"\n",
      "    for s_idx, sig in enumerate(sig_out_in):\n",
      "        if s_idx != len(sig_out_in)-1:\n",
      "            # Grab the two signatures of interst\n",
      "            s1 = sig_out_in[s_idx]\n",
      "            s2 = sig_out_in[s_idx+1]\n",
      "            \n",
      "            # Bootstrap data for the comparison of these two signatures\n",
      "            this_bstrp = np.squeeze(bstrp_med[np.where((bstrp_med[:,0]==s1) & (bstrp_med[:,1]==s2))])\n",
      "            \n",
      "            # Find the elements within the two signatures with significant differences between them\n",
      "            sig_diff_inds = np.squeeze(np.where(this_bstrp[2:] < p_thresh))\n",
      "            red_s1 = med_sig[s1 - 1][sig_diff_inds]\n",
      "            red_s2 = med_sig[s2 - 1][sig_diff_inds]\n",
      "            \n",
      "            bool_s1_larger = red_s1 > red_s2\n",
      "            \n",
      "            if bool_s1_larger.size > 1:\n",
      "                if not all(~bool_s1_larger): # If not all of s2 > s1, then there are some elements where s1 > s2\n",
      "                    s1_larger_ele = ele_order[sig_diff_inds[np.where(bool_s1_larger)]]\n",
      "                    print \"Significant decrease in %s inward from %s to %s\"%(s1_larger_ele, s1, s2)\n",
      "                \n",
      "                if not all(bool_s1_larger): # If not all of s1 > s2, then there are some elements where s2 > s1\n",
      "                    s2_larger_ele = ele_order[sig_diff_inds[np.where(~bool_s1_larger)]]\n",
      "                    print \"Significant increase in %s inward from %s to %s\"%(s2_larger_ele, s1, s2)\n",
      "            elif bool_s1_larger.size == 1:\n",
      "                # If only one element in bool_s1_larger, then only one location of significant difference\n",
      "                larger_ele = ele_order[sig_diff_inds]\n",
      "                if bool_s1_larger:\n",
      "                    print \"Significant decrease in %s inward from %s to %s\"%(larger_ele, s1, s2)\n",
      "                else:\n",
      "                    print \"Significant increase in %s inward from %s to %s\"%(larger_ele, s1, s2)"
     ],
     "language": "python",
     "metadata": {},
     "outputs": [],
     "prompt_number": 15
    },
    {
     "cell_type": "code",
     "collapsed": false,
     "input": [
      "p = [False, False]\n",
      "q = [True, False]"
     ],
     "language": "python",
     "metadata": {},
     "outputs": [],
     "prompt_number": 6
    },
    {
     "cell_type": "code",
     "collapsed": false,
     "input": [
      "p == []"
     ],
     "language": "python",
     "metadata": {},
     "outputs": [
      {
       "metadata": {},
       "output_type": "pyout",
       "prompt_number": 90,
       "text": [
        "False"
       ]
      }
     ],
     "prompt_number": 90
    },
    {
     "cell_type": "code",
     "collapsed": false,
     "input": [
      "cluster_signatures([1,6,8,9,11,15], bstrp_med, med_sig)"
     ],
     "language": "python",
     "metadata": {},
     "outputs": [
      {
       "output_type": "stream",
       "stream": "stdout",
       "text": [
        "Significant increase in ['Fe' 'K' 'Si'] inward from 1 to 6\n",
        "Significant increase in ['Fe' 'Zn' 'Mn'] inward from 6 to 8\n",
        "Significant increase in ['Fe' 'Zn' 'Ca' 'K' 'Cl' 'Si'] inward from 8 to 9\n",
        "Significant decrease in Fe inward from 9 to 11\n",
        "Significant increase in ['Fe' 'Zn' 'Ca' 'K' 'Si' 'Mn'] inward from 11 to 15\n"
       ]
      }
     ],
     "prompt_number": 16
    },
    {
     "cell_type": "code",
     "collapsed": false,
     "input": [
      "debug"
     ],
     "language": "python",
     "metadata": {},
     "outputs": [
      {
       "output_type": "stream",
       "stream": "stdout",
       "text": [
        "> \u001b[1;32m<ipython-input-9-b499b48d7b04>\u001b[0m(33)\u001b[0;36mcluster_signatures\u001b[1;34m()\u001b[0m\n",
        "\u001b[1;32m     32 \u001b[1;33m            \u001b[1;32melse\u001b[0m\u001b[1;33m:\u001b[0m\u001b[1;33m\u001b[0m\u001b[0m\n",
        "\u001b[0m\u001b[1;32m---> 33 \u001b[1;33m                \u001b[0mlarger_ele\u001b[0m \u001b[1;33m=\u001b[0m \u001b[0mele_order\u001b[0m\u001b[1;33m[\u001b[0m\u001b[0msig_diff_inds\u001b[0m\u001b[1;33m[\u001b[0m\u001b[1;36m0\u001b[0m\u001b[1;33m]\u001b[0m\u001b[1;33m]\u001b[0m\u001b[1;33m\u001b[0m\u001b[0m\n",
        "\u001b[0m\u001b[1;32m     34 \u001b[1;33m                \u001b[1;32mif\u001b[0m \u001b[0mbool_s1_larger\u001b[0m\u001b[1;33m:\u001b[0m\u001b[1;33m\u001b[0m\u001b[0m\n",
        "\u001b[0m\n"
       ]
      },
      {
       "name": "stdout",
       "output_type": "stream",
       "stream": "stdout",
       "text": [
        "ipdb> sig_diff_inds\n"
       ]
      },
      {
       "output_type": "stream",
       "stream": "stdout",
       "text": [
        "array(0L, dtype=int64)\n"
       ]
      },
      {
       "name": "stdout",
       "output_type": "stream",
       "stream": "stdout",
       "text": [
        "ipdb> sig_diff_inds[0]\n"
       ]
      },
      {
       "output_type": "stream",
       "stream": "stdout",
       "text": [
        "*** IndexError: 0-d arrays can't be indexed\n"
       ]
      },
      {
       "name": "stdout",
       "output_type": "stream",
       "stream": "stdout",
       "text": [
        "ipdb> exit\n"
       ]
      }
     ],
     "prompt_number": 11
    },
    {
     "cell_type": "code",
     "collapsed": false,
     "input": [
      "import biosig_py"
     ],
     "language": "python",
     "metadata": {},
     "outputs": [
      {
       "ename": "ImportError",
       "evalue": "No module named biosig_py",
       "output_type": "pyerr",
       "traceback": [
        "\u001b[1;31m---------------------------------------------------------------------------\u001b[0m\n\u001b[1;31mImportError\u001b[0m                               Traceback (most recent call last)",
        "\u001b[1;32m<ipython-input-26-c7d0856f73a1>\u001b[0m in \u001b[0;36m<module>\u001b[1;34m()\u001b[0m\n\u001b[1;32m----> 1\u001b[1;33m \u001b[1;32mimport\u001b[0m \u001b[0mbiosig_py\u001b[0m\u001b[1;33m\u001b[0m\u001b[0m\n\u001b[0m",
        "\u001b[1;31mImportError\u001b[0m: No module named biosig_py"
       ]
      }
     ],
     "prompt_number": 26
    },
    {
     "cell_type": "code",
     "collapsed": false,
     "input": [],
     "language": "python",
     "metadata": {},
     "outputs": []
    }
   ],
   "metadata": {}
  }
 ]
}