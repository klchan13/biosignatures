{
 "metadata": {
  "name": ""
 },
 "nbformat": 3,
 "nbformat_minor": 0,
 "worksheets": [
  {
   "cells": [
    {
     "cell_type": "code",
     "collapsed": false,
     "input": [
      "import numpy as np\n",
      "import matplotlib.pyplot as plt\n",
      "import Image as im\n",
      "from scipy.ndimage.measurements import label"
     ],
     "language": "python",
     "metadata": {},
     "outputs": [],
     "prompt_number": 34
    },
    {
     "cell_type": "code",
     "collapsed": false,
     "input": [
      "%pylab inline"
     ],
     "language": "python",
     "metadata": {},
     "outputs": [
      {
       "output_type": "stream",
       "stream": "stdout",
       "text": [
        "Populating the interactive namespace from numpy and matplotlib\n"
       ]
      }
     ],
     "prompt_number": 20
    },
    {
     "cell_type": "code",
     "collapsed": false,
     "input": [
      "cd data"
     ],
     "language": "python",
     "metadata": {},
     "outputs": [
      {
       "output_type": "stream",
       "stream": "stdout",
       "text": [
        "c:\\Users\\Lirael\\Source\\biosignatures\\data\n"
       ]
      }
     ],
     "prompt_number": 5
    },
    {
     "cell_type": "code",
     "collapsed": false,
     "input": [
      "def cluster_sizes(allSig_mask):\n",
      "    \"\"\"\n",
      "    Find the sizes of each cluster.\n",
      "    \"\"\"\n",
      "    \n",
      "    labels, numL = label(allSig_mask)\n",
      "    clust_arr = np.arange(numL)\n",
      "    clust_sizes = np.zeros(len(clust_arr))\n",
      "    for clust_idx, clust_num in enumerate(clust_arr):\n",
      "        clust_sizes[clust_idx] = len(np.where(np.ravel(labels) == clust_num)[0])\n",
      "        \n",
      "    return clust_sizes, labels, numL"
     ],
     "language": "python",
     "metadata": {},
     "outputs": [],
     "prompt_number": 37
    },
    {
     "cell_type": "code",
     "collapsed": false,
     "input": [
      "clust_mask = np.loadtxt(\"clust_mask_forwards.txt\")"
     ],
     "language": "python",
     "metadata": {},
     "outputs": [],
     "prompt_number": 9
    },
    {
     "cell_type": "code",
     "collapsed": false,
     "input": [
      "clust_mask.shape"
     ],
     "language": "python",
     "metadata": {},
     "outputs": [
      {
       "metadata": {},
       "output_type": "pyout",
       "prompt_number": 15,
       "text": [
        "(330443L,)"
       ]
      }
     ],
     "prompt_number": 15
    },
    {
     "cell_type": "code",
     "collapsed": false,
     "input": [
      "491*673"
     ],
     "language": "python",
     "metadata": {},
     "outputs": [
      {
       "metadata": {},
       "output_type": "pyout",
       "prompt_number": 13,
       "text": [
        "330443"
       ]
      }
     ],
     "prompt_number": 13
    },
    {
     "cell_type": "code",
     "collapsed": false,
     "input": [
      "im.ROTATE_90?"
     ],
     "language": "python",
     "metadata": {},
     "outputs": [],
     "prompt_number": 25
    },
    {
     "cell_type": "code",
     "collapsed": false,
     "input": [
      "clust_mask_xy = np.reshape(clust_mask, (491, 673))"
     ],
     "language": "python",
     "metadata": {},
     "outputs": [],
     "prompt_number": 28
    },
    {
     "cell_type": "code",
     "collapsed": false,
     "input": [
      "imshow(clust_mask_xy.T)"
     ],
     "language": "python",
     "metadata": {},
     "outputs": [
      {
       "metadata": {},
       "output_type": "pyout",
       "prompt_number": 31,
       "text": [
        "<matplotlib.image.AxesImage at 0xab7c128>"
       ]
      },
      {
       "metadata": {},
       "output_type": "display_data",
       "png": "[encoded data removed]",
       "text": [
        "<matplotlib.figure.Figure at 0xab5fac8>"
       ]
      }
     ],
     "prompt_number": 31
    },
    {
     "cell_type": "code",
     "collapsed": false,
     "input": [
      "clust_sizes, labels, numL = cluster_sizes(clust_mask_xy.T)"
     ],
     "language": "python",
     "metadata": {},
     "outputs": [],
     "prompt_number": 38
    },
    {
     "cell_type": "code",
     "collapsed": false,
     "input": [
      "num = 1\n",
      "one_clust = np.zeros(labels.shape)\n",
      "one_clust[np.where(labels == num)] = 1\n",
      "imshow(one_clust) \n",
      "print clust_sizes[num]"
     ],
     "language": "python",
     "metadata": {},
     "outputs": [
      {
       "output_type": "stream",
       "stream": "stdout",
       "text": [
        "352.0\n"
       ]
      },
      {
       "metadata": {},
       "output_type": "display_data",
       "png": "[encoded data removed]",
       "text": [
        "<matplotlib.figure.Figure at 0x9117d68>"
       ]
      }
     ],
     "prompt_number": 51
    },
    {
     "cell_type": "code",
     "collapsed": false,
     "input": [
      "num = 10\n",
      "\n",
      "figure(figsize=(12, 10))\n",
      "plt.subplot(121)\n",
      "imshow(clust_mask_xy.T)\n",
      "\n",
      "plt.subplot(122)\n",
      "one_clust = np.zeros(labels.shape)\n",
      "one_clust[np.where(labels == num)] = 1\n",
      "imshow(one_clust) \n",
      "print clust_sizes[num]"
     ],
     "language": "python",
     "metadata": {},
     "outputs": [
      {
       "output_type": "stream",
       "stream": "stdout",
       "text": [
        "484.0\n"
       ]
      },
      {
       "metadata": {},
       "output_type": "display_data",
       "png": "[encoded data removed]",
       "text": [
        "<matplotlib.figure.Figure at 0x91e79b0>"
       ]
      }
     ],
     "prompt_number": 59
    },
    {
     "cell_type": "code",
     "collapsed": false,
     "input": [
      "clust_sizes"
     ],
     "language": "python",
     "metadata": {},
     "outputs": [
      {
       "metadata": {},
       "output_type": "pyout",
       "prompt_number": 39,
       "text": [
        "array([  3.05200000e+05,   3.52000000e+02,   1.95000000e+02,\n",
        "         2.00000000e+00,   1.60000000e+01,   2.00000000e+00,\n",
        "         4.00000000e+01,   5.00000000e+00,   6.70000000e+01,\n",
        "         9.50000000e+01,   4.84000000e+02,   9.97000000e+02,\n",
        "         6.00000000e+01,   7.00000000e+00,   1.00000000e+00,\n",
        "         2.28000000e+02,   4.10000000e+01,   4.88000000e+02,\n",
        "         2.30200000e+03,   1.28900000e+03,   2.31000000e+02,\n",
        "         1.05000000e+02,   1.18000000e+02,   2.43000000e+02,\n",
        "         1.86000000e+02,   9.73000000e+02,   4.90000000e+02,\n",
        "         5.47000000e+02,   1.57000000e+02,   3.85000000e+02,\n",
        "         5.05000000e+02,   4.91000000e+02,   4.45000000e+02,\n",
        "         6.30000000e+01,   4.30000000e+01,   1.64000000e+03,\n",
        "         3.54000000e+02,   4.10000000e+01,   2.09000000e+02,\n",
        "         6.62000000e+02,   2.70000000e+01,   2.66000000e+02,\n",
        "         1.23000000e+02,   1.00000000e+00,   1.64000000e+02,\n",
        "         1.92800000e+03,   9.25000000e+02,   6.50000000e+01,\n",
        "         7.10000000e+01,   5.30000000e+01,   4.78000000e+02,\n",
        "         1.12000000e+02,   1.65600000e+03,   3.28000000e+02,\n",
        "         8.63000000e+02,   6.61000000e+02,   4.90000000e+01,\n",
        "         3.70000000e+01,   1.00000000e+00,   2.65000000e+02,\n",
        "         5.76000000e+02,   1.02000000e+02,   1.20600000e+03,\n",
        "         4.81000000e+02])"
       ]
      }
     ],
     "prompt_number": 39
    },
    {
     "cell_type": "code",
     "collapsed": false,
     "input": [],
     "language": "python",
     "metadata": {},
     "outputs": []
    }
   ],
   "metadata": {}
  }
 ]
}