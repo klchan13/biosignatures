{
 "metadata": {
  "name": ""
 },
 "nbformat": 3,
 "nbformat_minor": 0,
 "worksheets": [
  {
   "cells": [
    {
     "cell_type": "code",
     "collapsed": false,
     "input": [
      "import matplotlib.pyplot as plt\n",
      "import Image as im\n",
      "\n",
      "#These are needed in the cluster classification\n",
      "import numpy as np\n",
      "from scipy.ndimage.measurements import label\n",
      "import scipy.io\n",
      "from math import factorial as f\n",
      "import itertools"
     ],
     "language": "python",
     "metadata": {},
     "outputs": [],
     "prompt_number": 95
    },
    {
     "cell_type": "code",
     "collapsed": false,
     "input": [
      "import sys\n",
      "sys.path.append('c:/Users/Lirael/Source/osmosis/')\n",
      "import osmosis.utils as ozu"
     ],
     "language": "python",
     "metadata": {},
     "outputs": [],
     "prompt_number": 99
    },
    {
     "cell_type": "code",
     "collapsed": false,
     "input": [
      "%pylab inline"
     ],
     "language": "python",
     "metadata": {},
     "outputs": [
      {
       "output_type": "stream",
       "stream": "stdout",
       "text": [
        "Populating the interactive namespace from numpy and matplotlib\n"
       ]
      }
     ],
     "prompt_number": 2
    },
    {
     "cell_type": "code",
     "collapsed": false,
     "input": [
      "cd ~/Source/biosignatures/data/"
     ],
     "language": "python",
     "metadata": {},
     "outputs": [
      {
       "output_type": "stream",
       "stream": "stdout",
       "text": [
        "c:\\Users\\Lirael\\Source\\biosignatures\\data\n"
       ]
      }
     ],
     "prompt_number": 4
    },
    {
     "cell_type": "code",
     "collapsed": false,
     "input": [
      "def cluster_sizes(allSig_mask):\n",
      "    \"\"\"\n",
      "    Find the sizes of each cluster.\n",
      "    \"\"\"\n",
      "    \n",
      "    labels, numL = label(allSig_mask)\n",
      "    clust_arr = np.arange(numL)\n",
      "    clust_sizes = np.zeros(len(clust_arr))\n",
      "    for clust_idx, clust_num in enumerate(clust_arr):\n",
      "        clust_sizes[clust_idx] = len(np.where(np.ravel(labels) == clust_num)[0])\n",
      "        \n",
      "    return clust_sizes, labels, numL"
     ],
     "language": "python",
     "metadata": {},
     "outputs": [],
     "prompt_number": 5
    },
    {
     "cell_type": "code",
     "collapsed": false,
     "input": [
      "clust_mask = np.loadtxt(\"clust_mask_forwards.txt\")"
     ],
     "language": "python",
     "metadata": {},
     "outputs": [],
     "prompt_number": 6
    },
    {
     "cell_type": "code",
     "collapsed": false,
     "input": [
      "clust_mask.shape"
     ],
     "language": "python",
     "metadata": {},
     "outputs": [
      {
       "metadata": {},
       "output_type": "pyout",
       "prompt_number": 15,
       "text": [
        "(330443L,)"
       ]
      }
     ],
     "prompt_number": 15
    },
    {
     "cell_type": "code",
     "collapsed": false,
     "input": [
      "491*673"
     ],
     "language": "python",
     "metadata": {},
     "outputs": [
      {
       "metadata": {},
       "output_type": "pyout",
       "prompt_number": 13,
       "text": [
        "330443"
       ]
      }
     ],
     "prompt_number": 13
    },
    {
     "cell_type": "code",
     "collapsed": false,
     "input": [
      "im.ROTATE_90?"
     ],
     "language": "python",
     "metadata": {},
     "outputs": [],
     "prompt_number": 25
    },
    {
     "cell_type": "code",
     "collapsed": false,
     "input": [
      "clust_mask_xy = np.reshape(clust_mask, (491, 673))"
     ],
     "language": "python",
     "metadata": {},
     "outputs": [],
     "prompt_number": 7
    },
    {
     "cell_type": "code",
     "collapsed": false,
     "input": [
      "imshow(clust_mask_xy.T)"
     ],
     "language": "python",
     "metadata": {},
     "outputs": [
      {
       "metadata": {},
       "output_type": "pyout",
       "prompt_number": 8,
       "text": [
        "<matplotlib.image.AxesImage at 0xc1b8b70>"
       ]
      },
      {
       "metadata": {},
       "output_type": "display_data",
       "png": "[encoded data removed]",
       "text": [
        "<matplotlib.figure.Figure at 0x8d62a90>"
       ]
      }
     ],
     "prompt_number": 8
    },
    {
     "cell_type": "code",
     "collapsed": false,
     "input": [
      "clust_sizes, labels, numL = cluster_sizes(clust_mask_xy.T)"
     ],
     "language": "python",
     "metadata": {},
     "outputs": [],
     "prompt_number": 10
    },
    {
     "cell_type": "code",
     "collapsed": false,
     "input": [
      "num = 1\n",
      "one_clust = np.zeros(labels.shape)\n",
      "one_clust[np.where(labels == num)] = 1\n",
      "imshow(one_clust) \n",
      "print clust_sizes[num]"
     ],
     "language": "python",
     "metadata": {},
     "outputs": [
      {
       "output_type": "stream",
       "stream": "stdout",
       "text": [
        "352.0\n"
       ]
      },
      {
       "metadata": {},
       "output_type": "display_data",
       "png": "[encoded data removed]",
       "text": [
        "<matplotlib.figure.Figure at 0x9117d68>"
       ]
      }
     ],
     "prompt_number": 51
    },
    {
     "cell_type": "code",
     "collapsed": false,
     "input": [
      "num = 0\n",
      "\n",
      "figure(figsize=(12, 10))\n",
      "plt.subplot(121)\n",
      "imshow(clust_mask_xy.T)\n",
      "\n",
      "plt.subplot(122)\n",
      "one_clust = np.zeros(labels.shape)\n",
      "one_clust[np.where(labels == num)] = 1\n",
      "imshow(one_clust) \n",
      "print clust_sizes[num]"
     ],
     "language": "python",
     "metadata": {},
     "outputs": [
      {
       "output_type": "stream",
       "stream": "stdout",
       "text": [
        "305200.0\n"
       ]
      },
      {
       "metadata": {},
       "output_type": "display_data",
       "png": "[encoded data removed]",
       "text": [
        "<matplotlib.figure.Figure at 0x17dc6c18>"
       ]
      }
     ],
     "prompt_number": 200
    },
    {
     "cell_type": "code",
     "collapsed": false,
     "input": [
      "figure(figsize=(12, 10))\n",
      "imshow(labels)"
     ],
     "language": "python",
     "metadata": {},
     "outputs": [
      {
       "metadata": {},
       "output_type": "pyout",
       "prompt_number": 13,
       "text": [
        "<matplotlib.image.AxesImage at 0xc5dd1d0>"
       ]
      },
      {
       "metadata": {},
       "output_type": "display_data",
       "png": "[encoded data removed]",
       "text": [
        "<matplotlib.figure.Figure at 0xc5d10f0>"
       ]
      }
     ],
     "prompt_number": 13
    },
    {
     "cell_type": "code",
     "collapsed": false,
     "input": [
      "numL"
     ],
     "language": "python",
     "metadata": {},
     "outputs": [
      {
       "metadata": {},
       "output_type": "pyout",
       "prompt_number": 199,
       "text": [
        "64"
       ]
      }
     ],
     "prompt_number": 199
    },
    {
     "cell_type": "code",
     "collapsed": false,
     "input": [
      "unpack_this = scipy.io.loadmat('data.mat')\n",
      "unpack_sigs = scipy.io.loadmat('median_forwards_reassign.mat')"
     ],
     "language": "python",
     "metadata": {},
     "outputs": [],
     "prompt_number": 223
    },
    {
     "cell_type": "code",
     "collapsed": false,
     "input": [
      "sigs = np.squeeze(unpack_sigs['allSig'])\n",
      "cube_data = np.squeeze(unpack_this['cubeData'])\n",
      "lin_data = np.squeeze(unpack_this['linearData'])"
     ],
     "language": "python",
     "metadata": {},
     "outputs": [],
     "prompt_number": 224
    },
    {
     "cell_type": "code",
     "collapsed": false,
     "input": [
      "clust_sizes, labels, numL = cluster_sizes(clust_mask_xy.T)"
     ],
     "language": "python",
     "metadata": {},
     "outputs": []
    },
    {
     "cell_type": "code",
     "collapsed": false,
     "input": [
      "figure(figsize=(12, 10))\n",
      "imshow(signature_map(sigs, 491, 673))"
     ],
     "language": "python",
     "metadata": {},
     "outputs": [
      {
       "metadata": {},
       "output_type": "pyout",
       "prompt_number": 225,
       "text": [
        "<matplotlib.image.AxesImage at 0x216b8240>"
       ]
      },
      {
       "metadata": {},
       "output_type": "display_data",
       "png": "[encoded data removed]",
       "text": [
        "<matplotlib.figure.Figure at 0x183912e8>"
       ]
      }
     ],
     "prompt_number": 225
    },
    {
     "cell_type": "code",
     "collapsed": false,
     "input": [
      "sig_mask = np.reshape(sigs[0], (673, 491))"
     ],
     "language": "python",
     "metadata": {},
     "outputs": [],
     "prompt_number": 218
    },
    {
     "cell_type": "code",
     "collapsed": false,
     "input": [
      "imshow(sig_mask)"
     ],
     "language": "python",
     "metadata": {},
     "outputs": [
      {
       "metadata": {},
       "output_type": "pyout",
       "prompt_number": 219,
       "text": [
        "<matplotlib.image.AxesImage at 0x1887fb70>"
       ]
      },
      {
       "metadata": {},
       "output_type": "display_data",
       "png": "[encoded data removed]",
       "text": [
        "<matplotlib.figure.Figure at 0x18866940>"
       ]
      }
     ],
     "prompt_number": 219
    },
    {
     "cell_type": "code",
     "collapsed": false,
     "input": [
      "def signature_map(sig_masks, xLen, yLen):\n",
      "    \"\"\"\n",
      "    Create a color-coded signature map.\n",
      "    \"\"\"\n",
      "    sig_map = np.zeros((yLen, xLen))\n",
      "    for sig_idx in np.arange(len(sig_masks)):\n",
      "        sig_mask = np.reshape(sig_masks[sig_idx], (yLen, xLen))\n",
      "        sig_map[np.where(sig_mask)] = sig_idx + 1\n",
      "                \n",
      "    return sig_map"
     ],
     "language": "python",
     "metadata": {},
     "outputs": [],
     "prompt_number": 220
    },
    {
     "cell_type": "code",
     "collapsed": false,
     "input": [
      "def classify_clusters(sig_map, separate_clusters, clust_num):\n",
      "    \"\"\"\n",
      "    Code to automatically and empirically classify clusters.\n",
      "    \"\"\"\n",
      "    # First find all the signatures within a cluster\n",
      "    clust_sig_list = []\n",
      "    for clust_idx in np.arange(1, clust_num): # Don't include the background so start at 1\n",
      "        clust_sig_map = sig_map[np.where(separate_clusters == clust_idx)]\n",
      "        clust_sig_list.append(np.unique(clust_sig_map))\n",
      "    \n",
      "    # Compare the signatures from each cluster to each other to create classes\n",
      "    # of clusters with similar signatures.\n",
      "    count = 0\n",
      "    clust_class_list = []\n",
      "    # For tracking if a cluster is already classified, non-zero if not already classified\n",
      "    clust_track = np.arange(len(clust_sig_list))\n",
      "    for sigs1_idx, sigs1 in enumerate(clust_track):\n",
      "        if (sigs1 != 0) | (sigs1_idx == 0):\n",
      "            for sigs2 in clust_track[(sigs1 + 1):]:\n",
      "                if sigs2 != 0:                       \n",
      "                    if np.shape(clust_sig_list[sigs1]) == np.shape(clust_sig_list[sigs2]):\n",
      "                        # For equal number of signatures in each cluster:\n",
      "                        # If they have the exact same signatures, put them in the same class\n",
      "                        # and update the tracking array\n",
      "                        if np.all(clust_sig_list[sigs1] == clust_sig_list[sigs2]):\n",
      "                            if count == 0:\n",
      "                                clust_class_arr = np.array([sigs1, sigs2])\n",
      "                                count = count + 1\n",
      "                            else:\n",
      "                                clust_class_arr = np.concatenate((clust_class_arr, np.array([sigs2])))\n",
      "                            clust_track[sigs1] = 0\n",
      "                            clust_track[sigs2] = 0\n",
      "                    elif abs(len(clust_sig_list[sigs1]) - len(clust_sig_list[sigs2])) == 1:\n",
      "                        # For unequal number of sigs in each cluster:\n",
      "                        # Find which cluster has more signatures.\n",
      "                        if len(clust_sig_list[sigs1]) - len(clust_sig_list[sigs2]):\n",
      "                            less_sigs = sigs1\n",
      "                            more_sigs = sigs2\n",
      "                        else:\n",
      "                            less_sigs = sigs2\n",
      "                            more_sigs = sigs1\n",
      "                        \n",
      "                        # Check to see if the signature with less signatures share all its signatures\n",
      "                        # With the cluster with more signatures:\n",
      "                        sig_compare = np.zeros(len(clust_sig_list[less_sigs]))\n",
      "                        for sig_idx, this_sig in enumerate(clust_sig_list[less_sigs]):\n",
      "                            if this_sig in clust_sig_list[more_sigs]:\n",
      "                                sig_compare[sig_idx] = 1\n",
      "                        \n",
      "                        # Add to the same class if they do, and update tracking array\n",
      "                        if all(sig_compare):\n",
      "                            if count == 0:\n",
      "                                clust_class_arr = np.array([sigs1, sigs2])\n",
      "                                count = count + 1\n",
      "                            else:\n",
      "                                clust_class_arr = np.concatenate((clust_class_arr, np.array([sigs2])))\n",
      "                            \n",
      "                            clust_track[sigs1] = 0\n",
      "                            clust_track[sigs2] = 0\n",
      "                            \n",
      "            count = 0\n",
      "            if clust_class_list == []:\n",
      "                clust_class_list.append(clust_class_arr)\n",
      "            elif clust_class_list[len(clust_class_list)-1] is not clust_class_arr:\n",
      "                clust_class_list.append(clust_class_arr)\n",
      "            \n",
      "    # Find the homeless clusters:\n",
      "    homeless_clust = np.where(clust_track)\n",
      "    \n",
      "    return clust_class_list, homeless_clust, clust_sig_list"
     ],
     "language": "python",
     "metadata": {},
     "outputs": [],
     "prompt_number": 326
    },
    {
     "cell_type": "code",
     "collapsed": false,
     "input": [
      "sig_map = signature_map(sigs, 491, 673)\n",
      "clust_class_list, homeless_clust, clust_sig_list = classify_clusters(sig_map, labels, numL)"
     ],
     "language": "python",
     "metadata": {},
     "outputs": [],
     "prompt_number": 327
    },
    {
     "cell_type": "code",
     "collapsed": false,
     "input": [
      "clust_sig_list[0], clust_sig_list[61], clust_sig_list[62]"
     ],
     "language": "python",
     "metadata": {},
     "outputs": [
      {
       "metadata": {},
       "output_type": "pyout",
       "prompt_number": 331,
       "text": [
        "(array([  1.,   3.,  12.]),\n",
        " array([  1.,   3.,   4.,  12.]),\n",
        " array([  1.,   3.,  12.]))"
       ]
      }
     ],
     "prompt_number": 331
    },
    {
     "cell_type": "code",
     "collapsed": false,
     "input": [
      "homeless_clust"
     ],
     "language": "python",
     "metadata": {},
     "outputs": [
      {
       "metadata": {},
       "output_type": "pyout",
       "prompt_number": 330,
       "text": [
        "(array([17, 18, 19, 21, 27, 31, 34, 58], dtype=int64),)"
       ]
      }
     ],
     "prompt_number": 330
    },
    {
     "cell_type": "code",
     "collapsed": false,
     "input": [
      "clust_class_list"
     ],
     "language": "python",
     "metadata": {},
     "outputs": [
      {
       "metadata": {},
       "output_type": "pyout",
       "prompt_number": 329,
       "text": [
        "[array([ 0, 61, 62]),\n",
        " array([ 1,  9, 10, 14, 15, 16, 20, 22, 25, 26, 40, 44]),\n",
        " array([ 2,  3,  4,  5,  6,  7,  8, 11, 12, 13, 28, 29, 33, 35, 36, 38, 39,\n",
        "       41, 42, 43, 47, 48, 49, 50, 52, 55, 60]),\n",
        " array([23, 30, 51]),\n",
        " array([24, 45]),\n",
        " array([32, 37, 56]),\n",
        " array([46, 57]),\n",
        " array([53, 54, 59])]"
       ]
      }
     ],
     "prompt_number": 329
    },
    {
     "cell_type": "code",
     "collapsed": false,
     "input": [
      "separate_clusters = labels\n",
      "clust_num = numL"
     ],
     "language": "python",
     "metadata": {},
     "outputs": [],
     "prompt_number": 299
    },
    {
     "cell_type": "code",
     "collapsed": false,
     "input": [
      "clust_sig_list = []\n",
      "for clust_idx in np.arange(1, clust_num): # Don't include the background so start at 1\n",
      "    clust_sig_map = sig_map[np.where(separate_clusters == clust_idx)]\n",
      "    clust_sig_list.append(np.unique(clust_sig_map))"
     ],
     "language": "python",
     "metadata": {},
     "outputs": [],
     "prompt_number": 300
    },
    {
     "cell_type": "code",
     "collapsed": false,
     "input": [
      "len(clust_sig_list[0]) - clust_sig_list[2]"
     ],
     "language": "python",
     "metadata": {},
     "outputs": [
      {
       "metadata": {},
       "output_type": "pyout",
       "prompt_number": 304,
       "text": [
        "array([ 2.])"
       ]
      }
     ],
     "prompt_number": 304
    },
    {
     "cell_type": "code",
     "collapsed": false,
     "input": [
      "clust_sig_list[0],clust_sig_list[2], clust_sig_list[3], clust_sig_list[4], clust_sig_list[5]"
     ],
     "language": "python",
     "metadata": {},
     "outputs": [
      {
       "metadata": {},
       "output_type": "pyout",
       "prompt_number": 303,
       "text": [
        "(array([  1.,   3.,  12.]),\n",
        " array([ 1.]),\n",
        " array([ 1.]),\n",
        " array([ 1.]),\n",
        " array([ 1.]))"
       ]
      }
     ],
     "prompt_number": 303
    },
    {
     "cell_type": "code",
     "collapsed": false,
     "input": [
      "clust_class_list"
     ],
     "language": "python",
     "metadata": {},
     "outputs": [
      {
       "metadata": {},
       "output_type": "pyout",
       "prompt_number": 302,
       "text": [
        "[array([ 0,  2,  3,  4,  5,  6,  8, 11, 12, 13, 28, 33, 35, 39, 42, 46, 47,\n",
        "       48, 49, 50, 52, 57, 61, 62]),\n",
        " array([ 7, 31, 36, 38, 43, 51, 55, 60]),\n",
        " array([54, 59]),\n",
        " array([54, 59])]"
       ]
      }
     ],
     "prompt_number": 302
    },
    {
     "cell_type": "code",
     "collapsed": false,
     "input": [
      "homeless_clust"
     ],
     "language": "python",
     "metadata": {},
     "outputs": [
      {
       "metadata": {},
       "output_type": "pyout",
       "prompt_number": 282,
       "text": [
        "(array([21, 29, 30, 41], dtype=int64),)"
       ]
      }
     ],
     "prompt_number": 282
    },
    {
     "cell_type": "code",
     "collapsed": false,
     "input": [
      "clust_class_list"
     ],
     "language": "python",
     "metadata": {},
     "outputs": [
      {
       "metadata": {},
       "output_type": "pyout",
       "prompt_number": 283,
       "text": [
        "[array([ 1,  2,  3,  4,  5,  6,  8,  9, 10, 11, 12, 13, 14, 15, 16, 17, 20,\n",
        "       22, 25, 26, 28, 33, 34, 35, 39, 40, 42, 44, 47, 48, 49, 50, 52, 53,\n",
        "       54, 59]),\n",
        " array([ 7, 24, 31, 36, 38, 43, 45, 46, 51, 55, 57, 58, 60, 61, 62])]"
       ]
      }
     ],
     "prompt_number": 283
    },
    {
     "cell_type": "code",
     "collapsed": false,
     "input": [
      "pearsons_correlation_coeff(sig_meds[0], sig_meds[1])"
     ],
     "language": "python",
     "metadata": {},
     "outputs": [
      {
       "metadata": {},
       "output_type": "pyout",
       "prompt_number": 192,
       "text": [
        "0.95568233701464211"
       ]
      }
     ],
     "prompt_number": 192
    },
    {
     "cell_type": "code",
     "collapsed": false,
     "input": [
      "sig_meds = np.zeros((len(sigs), np.shape(lin_data)[0]))\n",
      "tsigs = np.arange(len(sigs))\n",
      "# Find all the median values for each signature\n",
      "for sig_idx in tsigs:\n",
      "    sig_meds[sig_idx] = np.squeeze(np.median(lin_data[:, np.where(np.squeeze(sigs[sig_idx]))], -1))"
     ],
     "language": "python",
     "metadata": {},
     "outputs": [],
     "prompt_number": 169
    },
    {
     "cell_type": "code",
     "collapsed": false,
     "input": [
      "ozu.coeff_of_determination(sig_meds[6], sig_meds[11])"
     ],
     "language": "python",
     "metadata": {},
     "outputs": [
      {
       "metadata": {},
       "output_type": "pyout",
       "prompt_number": 176,
       "text": [
        "0.95453964667352609"
       ]
      }
     ],
     "prompt_number": 176
    },
    {
     "cell_type": "code",
     "collapsed": false,
     "input": [
      "def twin_sigs(sig_masks, lin_data, cod_thresh = 0.95):\n",
      "    \"\"\"\n",
      "    Find signatures that are similar enough to be considered interchangeable.\n",
      "    \"\"\"\n",
      "    sig_meds = np.zeros((len(sig_masks), np.shape(lin_data)[0]))\n",
      "    sigs = np.arange(len(sig_masks))\n",
      "    # Find all the median values for each signature\n",
      "    for sig_idx in sigs:\n",
      "        sig_meds[sig_idx] = np.squeeze(np.median(lin_data[:, np.where(np.squeeze(sig_masks[sig_idx]))], -1))\n",
      "\n",
      "    count = 0\n",
      "    initial_count = 0\n",
      "    prev_first_sig = 0\n",
      "    twin_list = []\n",
      "    \n",
      "    # Now find the coefficent of determination between the medians of each sig and the medians of other\n",
      "    # sigs to find those that are similar enough to be grouped together\n",
      "    this_twins_list = []\n",
      "    for sig_inds in itertools.combinations(sigs, 2):\n",
      "        if sig_inds[0] == prev_first_sig:\n",
      "            count, this_twins_list = _add_sigs(count, sig_inds, sig_meds, this_twins_list, cod_thresh)\n",
      "        else:\n",
      "            prev_first_sig = sig_inds[0]\n",
      "            twin_list.append(this_twins_list)\n",
      "            this_twins_list = []\n",
      "            count = 0\n",
      "            count, this_twins_list = _add_sigs(count, sig_inds, sig_meds, this_twins_list, cod_thresh)\n",
      "    \n",
      "    return twin_list"
     ],
     "language": "python",
     "metadata": {},
     "outputs": [],
     "prompt_number": 155
    },
    {
     "cell_type": "code",
     "collapsed": false,
     "input": [
      "def pearsons_correlation_coeff(vector1, vector2):\n",
      "    \"\"\"\n",
      "    Pearson's correlation coefficient between two vectors.\n",
      "    \"\"\"\n",
      "    return dot(vector1, vector2)/(np.sqrt(np.sum(vector1**2))*np.sqrt(np.sum(vector2**2)))"
     ],
     "language": "python",
     "metadata": {},
     "outputs": [],
     "prompt_number": 186
    },
    {
     "cell_type": "code",
     "collapsed": false,
     "input": [
      "def _add_sigs(count, sig_inds, sig_meds, this_twins_list, cod_thresh):\n",
      "    \"\"\"\n",
      "    Helper function of twin sigs\n",
      "    \"\"\"\n",
      "    if count == 0:\n",
      "        this_twins_list.append(sig_inds[0])\n",
      "        count = count + 1\n",
      "        \n",
      "    sig_cod = pearsons_correlation_coeff(sig_meds[sig_inds[0]], sig_meds[sig_inds[1]])\n",
      "    if sig_cod > cod_thresh:\n",
      "        this_twins_list.append(sig_inds[1])\n",
      "\n",
      "    return count, this_twins_list"
     ],
     "language": "python",
     "metadata": {},
     "outputs": [],
     "prompt_number": 187
    },
    {
     "cell_type": "code",
     "collapsed": false,
     "input": [
      "def nchoosek(n,k):\n",
      "    \"\"\"\n",
      "    Finds all the number of unique combinations from choosing groups of k from a pool of n.\n",
      "    \n",
      "    Parameters\n",
      "    ----------\n",
      "    n: int\n",
      "        Number of items in the pool you are choosing from\n",
      "    k: int\n",
      "        Size of the groups you are choosing from the pool\n",
      "        \n",
      "    n!/(k!*(n-k)!)\n",
      "    \"\"\"\n",
      "    return f(n)/(f(k)*f(n-k))"
     ],
     "language": "python",
     "metadata": {},
     "outputs": [],
     "prompt_number": 79
    },
    {
     "cell_type": "code",
     "collapsed": false,
     "input": [
      "test = [(1,2), (3,4)]"
     ],
     "language": "python",
     "metadata": {},
     "outputs": [],
     "prompt_number": 88
    },
    {
     "cell_type": "code",
     "collapsed": false,
     "input": [
      "np.ravel(np.squeeze(np.array(test)))"
     ],
     "language": "python",
     "metadata": {},
     "outputs": [
      {
       "metadata": {},
       "output_type": "pyout",
       "prompt_number": 93,
       "text": [
        "1"
       ]
      }
     ],
     "prompt_number": 93
    },
    {
     "cell_type": "code",
     "collapsed": false,
     "input": [
      "np.shape(lin_data)[0]"
     ],
     "language": "python",
     "metadata": {},
     "outputs": [
      {
       "metadata": {},
       "output_type": "pyout",
       "prompt_number": 73,
       "text": [
        "(10L, 330443L)"
       ]
      }
     ],
     "prompt_number": 73
    },
    {
     "cell_type": "code",
     "collapsed": false,
     "input": [
      "cube_data.shape"
     ],
     "language": "python",
     "metadata": {},
     "outputs": [
      {
       "metadata": {},
       "output_type": "pyout",
       "prompt_number": 52,
       "text": [
        "(673L, 491L, 10L)"
       ]
      }
     ],
     "prompt_number": 52
    },
    {
     "cell_type": "code",
     "collapsed": false,
     "input": [
      "sigs[0]"
     ],
     "language": "python",
     "metadata": {},
     "outputs": [
      {
       "metadata": {},
       "output_type": "pyout",
       "prompt_number": 60,
       "text": [
        "array([[0, 0, 0, ..., 0, 0, 0]], dtype=uint8)"
       ]
      }
     ],
     "prompt_number": 60
    },
    {
     "cell_type": "code",
     "collapsed": false,
     "input": [
      "np.where(np.where(sigs[0][0]"
     ],
     "language": "python",
     "metadata": {},
     "outputs": [
      {
       "metadata": {},
       "output_type": "pyout",
       "prompt_number": 57,
       "text": [
        "(array([    0,     1,     2, ..., 13873, 13874, 13875], dtype=int64),)"
       ]
      }
     ],
     "prompt_number": 57
    },
    {
     "cell_type": "code",
     "collapsed": false,
     "input": [],
     "language": "python",
     "metadata": {},
     "outputs": []
    }
   ],
   "metadata": {}
  }
 ]
}