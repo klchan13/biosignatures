{
 "metadata": {
  "name": ""
 },
 "nbformat": 3,
 "nbformat_minor": 0,
 "worksheets": [
  {
   "cells": [
    {
     "cell_type": "code",
     "collapsed": false,
     "input": [
      "import matplotlib.pyplot as plt\n",
      "import Image as im\n",
      "\n",
      "#These are needed in the cluster classification\n",
      "import numpy as np\n",
      "from scipy.ndimage.measurements import label\n",
      "import scipy.io\n",
      "from math import factorial as f\n",
      "import itertools\n",
      "import scipy.stats.stats as stats"
     ],
     "language": "python",
     "metadata": {},
     "outputs": [],
     "prompt_number": 8
    },
    {
     "cell_type": "code",
     "collapsed": false,
     "input": [
      "import sys\n",
      "sys.path.append('c:/Users/Lirael/Source/osmosis/')\n",
      "import osmosis.utils as ozu\n",
      "import osmosis.viz.mpl as viz"
     ],
     "language": "python",
     "metadata": {},
     "outputs": [],
     "prompt_number": 54
    },
    {
     "cell_type": "code",
     "collapsed": false,
     "input": [
      "import biosignatures.cluster_analysis as ca"
     ],
     "language": "python",
     "metadata": {},
     "outputs": [],
     "prompt_number": 9
    },
    {
     "cell_type": "code",
     "collapsed": false,
     "input": [
      "reload(ca)"
     ],
     "language": "python",
     "metadata": {},
     "outputs": [
      {
       "metadata": {},
       "output_type": "pyout",
       "prompt_number": 10,
       "text": [
        "<module 'biosignatures.cluster_analysis' from 'c:\\Anaconda\\lib\\site-packages\\biosignatures\\cluster_analysis.pyc'>"
       ]
      }
     ],
     "prompt_number": 10
    },
    {
     "cell_type": "code",
     "collapsed": false,
     "input": [
      "cd ~/Source/biosignatures/data/"
     ],
     "language": "python",
     "metadata": {},
     "outputs": [
      {
       "output_type": "stream",
       "stream": "stdout",
       "text": [
        "c:\\Users\\Lirael\\Source\\biosignatures\\data\n"
       ]
      }
     ],
     "prompt_number": 3
    },
    {
     "cell_type": "code",
     "collapsed": false,
     "input": [
      "unpack_data_unalt = scipy.io.loadmat('data_unaltered.mat')\n",
      "unpack_data_alt = scipy.io.loadmat('data_altered.mat')\n",
      "# Median\n",
      "unpack_med_forw_sigs = scipy.io.loadmat('median_forwards_reassign.mat')\n",
      "unpack_med_back_sigs = scipy.io.loadmat('median_backwards_reassign.mat')\n",
      "\n",
      "# First pixel\n",
      "unpack_forw_sigs = scipy.io.loadmat('forwards.mat')\n",
      "unpack_back_sigs = scipy.io.loadmat('backwards.mat')"
     ],
     "language": "python",
     "metadata": {},
     "outputs": [],
     "prompt_number": 28
    },
    {
     "cell_type": "code",
     "collapsed": false,
     "input": [
      "med_forw_sigs = np.squeeze(unpack_med_forw_sigs['allSig'])\n",
      "med_back_sigs = np.squeeze(unpack_med_back_sigs['allSig_backwards'])\n",
      "\n",
      "forw_sigs = np.squeeze(unpack_forw_sigs['allSig'])\n",
      "back_sigs = np.squeeze(unpack_back_sigs['allSig'])\n",
      "\n",
      "lin_data_alt = np.squeeze(unpack_data_alt['linearData_alt'])\n",
      "lin_data = np.squeeze(unpack_data_unalt['linearData'])"
     ],
     "language": "python",
     "metadata": {},
     "outputs": [],
     "prompt_number": 32
    },
    {
     "cell_type": "code",
     "collapsed": false,
     "input": [
      "def sig_reliability(lin_data_alt, sig_forwards, sig_backwards, sz_diff=0.4):\n",
      "    \"\"\"\n",
      "    Measuring the reliability of the signature finding algorithm using Pearson's Correlation Coefficient.\n",
      "    \"\"\"\n",
      "    sig_meds_forw = np.zeros((len(sig_forwards), np.shape(lin_data_alt)[0]))\n",
      "    sig_meds_back = np.zeros((len(sig_backwards), np.shape(lin_data_alt)[0]))\n",
      "    sig_forw_sz = np.zeros(len(sig_forwards))\n",
      "    sig_back_sz = np.zeros(len(sig_backwards))\n",
      "    \n",
      "    # Find all the median values and sizes for each signature\n",
      "    for sig_idx in np.arange(len(sig_forwards)):\n",
      "        sig_meds_forw[sig_idx] = np.squeeze(np.median(lin_data_alt[:, np.where(np.squeeze(sig_forwards[sig_idx]))], -1))\n",
      "        sig_forw_sz[sig_idx] = np.sum(sig_forwards[sig_idx])\n",
      "        \n",
      "    for sig_idx in np.arange(len(sig_backwards)):\n",
      "        sig_meds_back[sig_idx] = np.squeeze(np.median(lin_data_alt[:, np.where(np.squeeze(sig_backwards[sig_idx]))], -1))\n",
      "        sig_back_sz[sig_idx] = np.sum(sig_backwards[sig_idx])\n",
      "    \n",
      "    # If unequal number of signatures in forwards and backwards,\n",
      "    # find CC for the one with less signatures\n",
      "    if (len(sig_forwards) < len(sig_backwards)) | (len(sig_forwards) == len(sig_backwards)):\n",
      "        less_sigs = [sig_meds_forw, sig_forw_sz]\n",
      "        more_sigs = [sig_meds_back, sig_back_sz]\n",
      "    else:\n",
      "        less_sigs = [sig_meds_back, sig_back_sz]\n",
      "        more_sigs = [sig_meds_forw, sig_forw_sz]\n",
      "        \n",
      "    cc_arr = np.zeros(len(less_sigs[0]))\n",
      "    sim_sig = np.zeros(len(less_sigs[0]))\n",
      "    # Now find the reliability\n",
      "    for less_idx in np.arange(len(less_sigs[0])):\n",
      "        # Find signatures within more_sigs with comparable size to the current sig in less_sigs\n",
      "        less_sz = less_sigs[1][less_idx]\n",
      "        idx = abs(less_sz*np.ones(len(more_sigs[1])) - more_sigs[1])/float(less_sz) < sz_diff\n",
      "        this_more_sig = more_sigs[0][idx]\n",
      "        this_cc_arr = np.zeros(len(this_more_sig))\n",
      "        \n",
      "        # Find the signature in more_sig closest to the one in less_sigs\n",
      "        for more_idx in np.arange(len(this_more_sig)):\n",
      "            this_cc_arr[more_idx] = stats.pearsonr(less_sigs[0][less_idx], this_more_sig[more_idx])[0]\n",
      "            \n",
      "        cc_arr[less_idx] = max(this_cc_arr)\n",
      "        sim_sig[less_idx] = np.where(idx)[0][np.where(this_cc_arr == cc_arr[less_idx])]\n",
      "        \n",
      "    return cc_arr, sim_sig"
     ],
     "language": "python",
     "metadata": {},
     "outputs": [],
     "prompt_number": 79
    },
    {
     "cell_type": "code",
     "collapsed": false,
     "input": [
      "cc_arr, sim_sig = sig_reliability(lin_data_alt, med_forw_sigs, med_back_sigs, sz_diff=0.4)"
     ],
     "language": "python",
     "metadata": {},
     "outputs": [],
     "prompt_number": 80
    },
    {
     "cell_type": "code",
     "collapsed": false,
     "input": [
      "cc_arr"
     ],
     "language": "python",
     "metadata": {},
     "outputs": [
      {
       "metadata": {},
       "output_type": "pyout",
       "prompt_number": 81,
       "text": [
        "array([ 0.99922306,  0.99507886,  0.99579892,  0.4541517 ,  0.93104301,\n",
        "        0.2865729 ,  0.99993661,  0.99999093,  0.99798794,  0.99578661,\n",
        "        0.99777615,  0.09068264,  0.85106645])"
       ]
      }
     ],
     "prompt_number": 81
    },
    {
     "cell_type": "code",
     "collapsed": false,
     "input": [
      "sim_sig"
     ],
     "language": "python",
     "metadata": {},
     "outputs": [
      {
       "metadata": {},
       "output_type": "pyout",
       "prompt_number": 82,
       "text": [
        "array([  0.,   2.,   3.,  12.,   4.,  11.,  13.,  12.,  11.,   5.,   6.,\n",
        "         9.,  11.])"
       ]
      }
     ],
     "prompt_number": 82
    },
    {
     "cell_type": "code",
     "collapsed": false,
     "input": [
      "np.mean(cc_arr)"
     ],
     "language": "python",
     "metadata": {},
     "outputs": [
      {
       "metadata": {},
       "output_type": "pyout",
       "prompt_number": 75,
       "text": [
        "0.96155073647258493"
       ]
      }
     ],
     "prompt_number": 75
    },
    {
     "cell_type": "code",
     "collapsed": false,
     "input": [
      "cc_arr, sim_sig = sig_reliability(lin_data_alt, forw_sigs, back_sigs, sz_diff=0.4)"
     ],
     "language": "python",
     "metadata": {},
     "outputs": [],
     "prompt_number": 76
    },
    {
     "cell_type": "code",
     "collapsed": false,
     "input": [
      "cc_arr"
     ],
     "language": "python",
     "metadata": {},
     "outputs": [
      {
       "metadata": {},
       "output_type": "pyout",
       "prompt_number": 77,
       "text": [
        "array([ 0.98971537,  0.99687108,  0.99269051,  0.99066212,  0.9290952 ,\n",
        "        0.94188471,  0.90166993,  0.99405527,  0.99880291,  0.99924484,\n",
        "        0.95510701,  0.99999743,  0.99796144,  0.80853579,  0.96279878,\n",
        "        0.84059576])"
       ]
      }
     ],
     "prompt_number": 77
    },
    {
     "cell_type": "code",
     "collapsed": false,
     "input": [
      "np.mean(cc_arr)"
     ],
     "language": "python",
     "metadata": {},
     "outputs": [
      {
       "metadata": {},
       "output_type": "pyout",
       "prompt_number": 78,
       "text": [
        "0.95623050985930114"
       ]
      }
     ],
     "prompt_number": 78
    },
    {
     "cell_type": "code",
     "collapsed": false,
     "input": [],
     "language": "python",
     "metadata": {},
     "outputs": []
    }
   ],
   "metadata": {}
  }
 ]
}