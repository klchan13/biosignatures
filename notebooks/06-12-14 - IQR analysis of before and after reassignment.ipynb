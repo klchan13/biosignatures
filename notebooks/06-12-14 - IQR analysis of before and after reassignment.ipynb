{
 "metadata": {
  "name": ""
 },
 "nbformat": 3,
 "nbformat_minor": 0,
 "worksheets": [
  {
   "cells": [
    {
     "cell_type": "code",
     "collapsed": false,
     "input": [
      "import matplotlib.pyplot as plt\n",
      "import Image as im\n",
      "\n",
      "#These are needed in the cluster classification\n",
      "import numpy as np\n",
      "from scipy.ndimage.measurements import label\n",
      "import scipy.io\n",
      "from math import factorial as f\n",
      "import itertools\n",
      "import scipy.stats.stats as stats"
     ],
     "language": "python",
     "metadata": {},
     "outputs": [],
     "prompt_number": 1
    },
    {
     "cell_type": "code",
     "collapsed": false,
     "input": [
      "import sys\n",
      "sys.path.append('c:/Users/Lirael/Source/osmosis/')\n",
      "import osmosis.utils as ozu\n",
      "import osmosis.viz.mpl as viz"
     ],
     "language": "python",
     "metadata": {},
     "outputs": [],
     "prompt_number": 57
    },
    {
     "cell_type": "code",
     "collapsed": false,
     "input": [
      "import biosignatures.cluster_analysis as ca\n",
      "import biosignatures.signature_analysis as sa\n",
      "import biosignatures.utils as bsu"
     ],
     "language": "python",
     "metadata": {},
     "outputs": [],
     "prompt_number": 19
    },
    {
     "cell_type": "code",
     "collapsed": false,
     "input": [
      "reload(sa)"
     ],
     "language": "python",
     "metadata": {},
     "outputs": [
      {
       "metadata": {},
       "output_type": "pyout",
       "prompt_number": 20,
       "text": [
        "<module 'biosignatures.signature_analysis' from 'c:\\Anaconda\\lib\\site-packages\\biosignatures\\signature_analysis.pyc'>"
       ]
      }
     ],
     "prompt_number": 20
    },
    {
     "cell_type": "code",
     "collapsed": false,
     "input": [
      "cd ~/Source/biosignatures/data/"
     ],
     "language": "python",
     "metadata": {},
     "outputs": [
      {
       "output_type": "stream",
       "stream": "stdout",
       "text": [
        "c:\\Users\\Lirael\\Source\\biosignatures\\data\n"
       ]
      }
     ],
     "prompt_number": 3
    },
    {
     "cell_type": "code",
     "collapsed": false,
     "input": [
      "unpack_data_unalt = scipy.io.loadmat('data_unaltered.mat')\n",
      "unpack_data_alt = scipy.io.loadmat('data_altered.mat')\n",
      "# Median\n",
      "unpack_med_forw_sigs_nor = scipy.io.loadmat('median_forwards.mat')\n",
      "unpack_med_forw_sigs = scipy.io.loadmat('median_forwards_reassign.mat')\n",
      "unpack_med_back_sigs = scipy.io.loadmat('median_backwards_reassign.mat')"
     ],
     "language": "python",
     "metadata": {},
     "outputs": [],
     "prompt_number": 49
    },
    {
     "cell_type": "code",
     "collapsed": false,
     "input": [
      "med_forw_sigs = np.squeeze(unpack_med_forw_sigs['allSig'])\n",
      "med_back_sigs = np.squeeze(unpack_med_back_sigs['allSig_backwards'])\n",
      "med_forw_sigs_nor = np.squeeze(unpack_med_forw_sigs_nor['allSig'])\n",
      "\n",
      "lin_data_alt = np.squeeze(unpack_data_alt['linearData_alt'])\n",
      "lin_data = np.squeeze(unpack_data_unalt['linearData'])"
     ],
     "language": "python",
     "metadata": {},
     "outputs": [],
     "prompt_number": 50
    },
    {
     "cell_type": "code",
     "collapsed": false,
     "input": [
      "stats.scoreatpercentile(np.ones((3,4)), 25, axis = 0)"
     ],
     "language": "python",
     "metadata": {},
     "outputs": [
      {
       "metadata": {},
       "output_type": "pyout",
       "prompt_number": 11,
       "text": [
        "array([ 1.,  1.,  1.,  1.])"
       ]
      }
     ],
     "prompt_number": 11
    },
    {
     "cell_type": "code",
     "collapsed": false,
     "input": [
      "def sig_quartile(lin_data, sigs, percentile):\n",
      "    \"\"\"\n",
      "    Evaluating the quartile for each element of each signature.\n",
      "    \"\"\"\n",
      "    quartile = np.zeros((len(sigs), lin_data.shape[0]))\n",
      "    for s_idx in np.arange(len(sigs)):\n",
      "        quartile[s_idx] = stats.scoreatpercentile(np.squeeze(sa.signature(sigs, lin_data, s_idx)),\n",
      "                                                  percentile, axis=-1)\n",
      "        \n",
      "    return quartile"
     ],
     "language": "python",
     "metadata": {},
     "outputs": [],
     "prompt_number": 37
    },
    {
     "cell_type": "code",
     "collapsed": false,
     "input": [
      "def sig_iqr(lin_data, sigs):\n",
      "    \"\"\"\n",
      "    Evaluating the interquartile ranges for each element of each signqture.\n",
      "    \"\"\"\n",
      "    q25s = sig_quartile(lin_data, sigs, 25)\n",
      "    q75s = sig_quartile(lin_data, sigs, 75)\n",
      "    \n",
      "    return np.squeeze(q75s - q25s)"
     ],
     "language": "python",
     "metadata": {},
     "outputs": [],
     "prompt_number": 53
    },
    {
     "cell_type": "code",
     "collapsed": false,
     "input": [
      "iqr_reassign = sig_iqr(lin_data, med_forw_sigs)\n",
      "iqr_no_reassign = sig_iqr(lin_data, med_forw_sigs_nor)"
     ],
     "language": "python",
     "metadata": {},
     "outputs": [],
     "prompt_number": 54
    },
    {
     "cell_type": "code",
     "collapsed": false,
     "input": [
      "iqr_reassign[:, 0]"
     ],
     "language": "python",
     "metadata": {},
     "outputs": [
      {
       "metadata": {},
       "output_type": "pyout",
       "prompt_number": 59,
       "text": [
        "array([  11.  ,   10.  ,   28.  ,   21.  ,   92.75,   14.  ,  136.5 ,\n",
        "         60.25,   10.75,    9.  ,    9.75,   45.  ,  100.5 ,   43.5 ])"
       ]
      }
     ],
     "prompt_number": 59
    },
    {
     "cell_type": "code",
     "collapsed": false,
     "input": [
      "iqr_reassign"
     ],
     "language": "python",
     "metadata": {},
     "outputs": [
      {
       "metadata": {},
       "output_type": "pyout",
       "prompt_number": 55,
       "text": [
        "array([[  11.  ,    2.  ,    2.  ,    2.  ,    5.  ,    2.  ,    1.  ,\n",
        "           4.  ,    2.  ,    1.  ],\n",
        "       [  10.  ,    1.  ,    1.5 ,    5.  ,    6.  ,    3.  ,    2.  ,\n",
        "           7.  ,    2.  ,    2.  ],\n",
        "       [  28.  ,    2.  ,    2.  ,    2.  ,    5.  ,    2.  ,    1.  ,\n",
        "           3.  ,    3.  ,    2.  ],\n",
        "       [  21.  ,    2.  ,    2.  ,    7.  ,    6.  ,    4.  ,    2.  ,\n",
        "           6.  ,    2.  ,    2.  ],\n",
        "       [  92.75,    2.  ,    2.  ,    4.  ,   12.  ,    2.75,    2.  ,\n",
        "           4.  ,    5.  ,    3.  ],\n",
        "       [  14.  ,    3.  ,    3.  ,    6.  ,    6.  ,    3.75,    2.  ,\n",
        "           6.  ,    2.  ,    2.  ],\n",
        "       [ 136.5 ,    2.  ,    2.  ,    1.  ,    5.  ,    2.  ,    2.  ,\n",
        "           3.  ,    3.  ,    3.  ],\n",
        "       [  60.25,    2.  ,    2.  ,    3.  ,    7.  ,    2.  ,    3.  ,\n",
        "           4.  ,    4.75,    4.  ],\n",
        "       [  10.75,    1.  ,    2.  ,    1.  ,    4.75,    2.  ,    2.  ,\n",
        "           3.  ,    3.  ,    1.  ],\n",
        "       [   9.  ,    1.25,    1.  ,    2.  ,    4.25,    1.  ,    1.  ,\n",
        "           4.  ,    3.25,    2.  ],\n",
        "       [   9.75,    2.  ,    1.  ,    2.  ,    4.  ,    2.  ,    1.  ,\n",
        "           3.  ,    2.  ,    1.  ],\n",
        "       [  45.  ,    2.  ,    3.  ,    4.  ,    6.  ,    3.  ,    2.  ,\n",
        "           6.  ,    3.  ,    2.  ],\n",
        "       [ 100.5 ,    1.  ,    1.  ,    1.  ,    4.  ,    2.  ,    1.  ,\n",
        "           3.  ,    2.  ,    2.  ],\n",
        "       [  43.5 ,    2.  ,    2.  ,    3.  ,   17.  ,    3.  ,    2.  ,\n",
        "           3.  ,    3.  ,    2.  ]])"
       ]
      }
     ],
     "prompt_number": 55
    },
    {
     "cell_type": "code",
     "collapsed": false,
     "input": [
      "iqr_no_reassign"
     ],
     "language": "python",
     "metadata": {},
     "outputs": [
      {
       "metadata": {},
       "output_type": "pyout",
       "prompt_number": 56,
       "text": [
        "array([[  13.  ,    2.  ,    2.  ,    3.  ,    5.  ,    2.  ,    1.  ,\n",
        "           4.  ,    2.  ,    2.  ],\n",
        "       [  12.  ,    2.  ,    2.  ,    4.  ,    5.  ,    3.  ,    2.  ,\n",
        "           8.  ,    2.  ,    1.  ],\n",
        "       [  37.  ,    2.  ,    1.  ,    2.  ,    6.  ,    2.  ,    2.  ,\n",
        "           4.  ,    2.  ,    1.  ],\n",
        "       [  22.  ,    3.  ,    3.  ,    7.  ,    6.  ,    4.  ,    2.  ,\n",
        "           6.  ,    2.  ,    2.  ],\n",
        "       [ 108.  ,    2.  ,    3.  ,    5.  ,   15.  ,    3.  ,    2.  ,\n",
        "           4.  ,    5.  ,    3.  ],\n",
        "       [  15.  ,    3.  ,    3.  ,    6.  ,    5.  ,    3.  ,    2.  ,\n",
        "           6.  ,    2.  ,    3.  ],\n",
        "       [ 143.  ,    2.  ,    2.  ,    1.  ,    6.  ,    2.  ,    2.  ,\n",
        "           3.  ,    3.  ,    2.  ],\n",
        "       [  60.25,    2.  ,    2.  ,    3.  ,    7.  ,    2.  ,    3.  ,\n",
        "           4.  ,    4.75,    4.  ],\n",
        "       [   9.5 ,    1.  ,    2.  ,    1.  ,    5.  ,    2.  ,    2.  ,\n",
        "           3.  ,    3.  ,    1.  ],\n",
        "       [   9.  ,    1.25,    1.  ,    2.  ,    4.25,    1.  ,    1.  ,\n",
        "           4.  ,    3.25,    2.  ],\n",
        "       [  10.  ,    2.  ,    1.  ,    2.  ,    4.  ,    2.  ,    1.  ,\n",
        "           3.  ,    2.  ,    1.  ],\n",
        "       [  51.  ,    3.  ,    2.  ,    6.  ,    8.  ,    3.  ,    2.  ,\n",
        "           7.  ,    3.  ,    3.  ],\n",
        "       [ 105.25,    1.  ,    1.  ,    1.  ,    4.75,    2.  ,    1.  ,\n",
        "           3.  ,    2.  ,    2.  ],\n",
        "       [  35.5 ,    1.  ,    2.  ,    3.  ,   16.  ,    2.  ,    2.5 ,\n",
        "           4.  ,    4.  ,    3.  ]])"
       ]
      }
     ],
     "prompt_number": 56
    },
    {
     "cell_type": "code",
     "collapsed": false,
     "input": [
      "fig = viz.probability_hist(iqr_reassign[:, 0])\n",
      "fig = viz.probability_hist(iqr_no_reassign[:, 0], fig = fig)"
     ],
     "language": "python",
     "metadata": {},
     "outputs": [],
     "prompt_number": 60
    },
    {
     "cell_type": "code",
     "collapsed": false,
     "input": [],
     "language": "python",
     "metadata": {},
     "outputs": []
    }
   ],
   "metadata": {}
  }
 ]
}