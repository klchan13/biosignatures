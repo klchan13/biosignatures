{
 "metadata": {
  "name": ""
 },
 "nbformat": 3,
 "nbformat_minor": 0,
 "worksheets": [
  {
   "cells": [
    {
     "cell_type": "code",
     "collapsed": false,
     "input": [
      "%pylab inline"
     ],
     "language": "python",
     "metadata": {},
     "outputs": [
      {
       "output_type": "stream",
       "stream": "stdout",
       "text": [
        "Populating the interactive namespace from numpy and matplotlib\n"
       ]
      },
      {
       "output_type": "stream",
       "stream": "stderr",
       "text": [
        "WARNING: pylab import has clobbered these variables: ['f']\n",
        "`%pylab --no-import-all` prevents importing * from pylab and numpy\n"
       ]
      }
     ],
     "prompt_number": 20
    },
    {
     "cell_type": "code",
     "collapsed": false,
     "input": [
      "import matplotlib.pyplot as plt\n",
      "import Image as im\n",
      "\n",
      "#These are needed in the cluster classification\n",
      "import numpy as np\n",
      "from scipy.ndimage.measurements import label\n",
      "import scipy.io\n",
      "from math import factorial as f\n",
      "import itertools\n",
      "import scipy.stats.stats as stats"
     ],
     "language": "python",
     "metadata": {},
     "outputs": [],
     "prompt_number": 2
    },
    {
     "cell_type": "code",
     "collapsed": false,
     "input": [
      "import sys\n",
      "sys.path.append('c:/Users/Lirael/Source/osmosis/')\n",
      "import osmosis.utils as ozu\n",
      "import osmosis.viz.mpl as viz"
     ],
     "language": "python",
     "metadata": {},
     "outputs": [],
     "prompt_number": 4
    },
    {
     "cell_type": "code",
     "collapsed": false,
     "input": [
      "import biosignatures.cluster_analysis as ca\n",
      "import biosignatures.signature_analysis as sa\n",
      "import biosignatures.utils as bsu"
     ],
     "language": "python",
     "metadata": {},
     "outputs": [],
     "prompt_number": 5
    },
    {
     "cell_type": "code",
     "collapsed": false,
     "input": [
      "reload(sa)"
     ],
     "language": "python",
     "metadata": {},
     "outputs": [],
     "prompt_number": "*"
    },
    {
     "cell_type": "code",
     "collapsed": false,
     "input": [
      "cd ~/Source/biosignatures/data/"
     ],
     "language": "python",
     "metadata": {},
     "outputs": [
      {
       "output_type": "stream",
       "stream": "stdout",
       "text": [
        "c:\\Users\\Lirael\\Source\\biosignatures\\data\n"
       ]
      }
     ],
     "prompt_number": 6
    },
    {
     "cell_type": "code",
     "collapsed": false,
     "input": [
      "unpack_data_unalt = scipy.io.loadmat('data_unaltered.mat')\n",
      "unpack_data_alt = scipy.io.loadmat('data_altered.mat')\n",
      "# Median\n",
      "unpack_med_forw_sigs_nor = scipy.io.loadmat('median_forwards.mat')\n",
      "unpack_med_forw_sigs = scipy.io.loadmat('median_forwards_reassign.mat')\n",
      "unpack_med_back_sigs = scipy.io.loadmat('median_backwards_reassign.mat')"
     ],
     "language": "python",
     "metadata": {},
     "outputs": [],
     "prompt_number": 7
    },
    {
     "cell_type": "code",
     "collapsed": false,
     "input": [
      "med_forw_sigs = np.squeeze(unpack_med_forw_sigs['allSig'])\n",
      "med_back_sigs = np.squeeze(unpack_med_back_sigs['allSig_backwards'])\n",
      "med_forw_sigs_nor = np.squeeze(unpack_med_forw_sigs_nor['allSig'])\n",
      "\n",
      "lin_data_alt = np.squeeze(unpack_data_alt['linearData_alt'])\n",
      "lin_data = np.squeeze(unpack_data_unalt['linearData'])"
     ],
     "language": "python",
     "metadata": {},
     "outputs": [],
     "prompt_number": 8
    },
    {
     "cell_type": "code",
     "collapsed": false,
     "input": [
      "stats.scoreatpercentile(np.ones((3,4)), 25, axis = 0)"
     ],
     "language": "python",
     "metadata": {},
     "outputs": [
      {
       "metadata": {},
       "output_type": "pyout",
       "prompt_number": 9,
       "text": [
        "array([ 1.,  1.,  1.,  1.])"
       ]
      },
      {
       "metadata": {},
       "output_type": "pyout",
       "prompt_number": 10,
       "text": [
        "array([ 1.,  1.,  1.,  1.])"
       ]
      }
     ],
     "prompt_number": 10
    },
    {
     "cell_type": "code",
     "collapsed": false,
     "input": [
      "def sig_quartile(lin_data, sigs, percentile):\n",
      "    \"\"\"\n",
      "    Evaluating the quartile for each element of each signature.\n",
      "    \"\"\"\n",
      "    quartile = np.zeros((len(sigs), lin_data.shape[0]))\n",
      "    for s_idx in np.arange(len(sigs)):\n",
      "        quartile[s_idx] = stats.scoreatpercentile(np.squeeze(sa.signature(sigs, lin_data, s_idx)),\n",
      "                                                  percentile, axis=-1)\n",
      "        \n",
      "    return quartile"
     ],
     "language": "python",
     "metadata": {},
     "outputs": [],
     "prompt_number": 11
    },
    {
     "cell_type": "code",
     "collapsed": false,
     "input": [
      "def sig_iqr(lin_data, sigs):\n",
      "    \"\"\"\n",
      "    Evaluating the interquartile ranges for each element of each signqture.\n",
      "    \"\"\"\n",
      "    q25s = sig_quartile(lin_data, sigs, 25)\n",
      "    q75s = sig_quartile(lin_data, sigs, 75)\n",
      "    \n",
      "    return np.squeeze(q75s - q25s)"
     ],
     "language": "python",
     "metadata": {},
     "outputs": [],
     "prompt_number": 12
    },
    {
     "cell_type": "code",
     "collapsed": false,
     "input": [
      "iqr_reassign = sig_iqr(lin_data, med_forw_sigs)\n",
      "iqr_no_reassign = sig_iqr(lin_data, med_forw_sigs_nor)"
     ],
     "language": "python",
     "metadata": {},
     "outputs": [],
     "prompt_number": 13
    },
    {
     "cell_type": "code",
     "collapsed": false,
     "input": [
      "bar(np.arange(10), np.sum(iqr_no_reassign, 0) - np.sum(iqr_reassign, 0))"
     ],
     "language": "python",
     "metadata": {},
     "outputs": [
      {
       "metadata": {},
       "output_type": "pyout",
       "prompt_number": 72,
       "text": [
        "<Container object of 10 artists>"
       ]
      },
      {
       "metadata": {},
       "output_type": "display_data",
       "png": "[encoded data removed]",
       "text": [
        "<matplotlib.figure.Figure at 0x1c3c5b70>"
       ]
      }
     ],
     "prompt_number": 72
    },
    {
     "cell_type": "code",
     "collapsed": false,
     "input": [
      "fig = viz.probability_hist(iqr_reassign[:, 0], bins = 5)\n",
      "fig = viz.probability_hist(iqr_no_reassign[:, 0], fig = fig, bins = 5)"
     ],
     "language": "python",
     "metadata": {},
     "outputs": [
      {
       "metadata": {},
       "output_type": "display_data",
       "png": "[encoded data removed]",
       "text": [
        "<matplotlib.figure.Figure at 0x1c172ba8>"
       ]
      }
     ],
     "prompt_number": 66
    },
    {
     "cell_type": "code",
     "collapsed": false,
     "input": [],
     "language": "python",
     "metadata": {},
     "outputs": []
    }
   ],
   "metadata": {}
  }
 ]
}