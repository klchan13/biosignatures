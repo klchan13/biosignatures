{
 "metadata": {
  "name": ""
 },
 "nbformat": 3,
 "nbformat_minor": 0,
 "worksheets": [
  {
   "cells": [
    {
     "cell_type": "code",
     "collapsed": false,
     "input": [
      "%pylab inline"
     ],
     "language": "python",
     "metadata": {},
     "outputs": [
      {
       "output_type": "stream",
       "stream": "stdout",
       "text": [
        "Populating the interactive namespace from numpy and matplotlib\n"
       ]
      },
      {
       "output_type": "stream",
       "stream": "stderr",
       "text": [
        "WARNING: pylab import has clobbered these variables: ['f']\n",
        "`%pylab --no-import-all` prevents importing * from pylab and numpy\n"
       ]
      }
     ],
     "prompt_number": 170
    },
    {
     "cell_type": "code",
     "collapsed": false,
     "input": [
      "import matplotlib.pyplot as plt\n",
      "import Image as im\n",
      "\n",
      "#These are needed in the cluster classification\n",
      "import numpy as np\n",
      "from scipy.ndimage.measurements import label\n",
      "import scipy.io\n",
      "from math import factorial as f\n",
      "import itertools\n",
      "import scipy.stats.stats as stats"
     ],
     "language": "python",
     "metadata": {},
     "outputs": [],
     "prompt_number": 171
    },
    {
     "cell_type": "code",
     "collapsed": false,
     "input": [
      "import sys\n",
      "sys.path.append('c:/Users/Lirael/Source/osmosis/')\n",
      "import osmosis.utils as ozu\n",
      "import osmosis.viz.mpl as viz"
     ],
     "language": "python",
     "metadata": {},
     "outputs": [],
     "prompt_number": 3
    },
    {
     "cell_type": "code",
     "collapsed": false,
     "input": [
      "import biosignatures.cluster_analysis as ca\n",
      "import biosignatures.signature_analysis as sa\n",
      "import biosignatures.utils as bsu"
     ],
     "language": "python",
     "metadata": {},
     "outputs": [],
     "prompt_number": 4
    },
    {
     "cell_type": "code",
     "collapsed": false,
     "input": [
      "reload(sa)"
     ],
     "language": "python",
     "metadata": {},
     "outputs": [
      {
       "metadata": {},
       "output_type": "pyout",
       "prompt_number": 306,
       "text": [
        "<module 'biosignatures.signature_analysis' from 'c:\\Anaconda\\lib\\site-packages\\biosignatures\\signature_analysis.pyc'>"
       ]
      }
     ],
     "prompt_number": 306
    },
    {
     "cell_type": "code",
     "collapsed": false,
     "input": [
      "cd ~/Source/biosignatures/data/"
     ],
     "language": "python",
     "metadata": {},
     "outputs": [
      {
       "output_type": "stream",
       "stream": "stdout",
       "text": [
        "c:\\Users\\Lirael\\Source\\biosignatures\\data\n"
       ]
      }
     ],
     "prompt_number": 5
    },
    {
     "cell_type": "code",
     "collapsed": false,
     "input": [
      "unpack_data_unalt = scipy.io.loadmat('data_unaltered.mat')\n",
      "unpack_data_alt = scipy.io.loadmat('data_altered.mat')\n",
      "# Median\n",
      "unpack_med_forw_sigs_nor = scipy.io.loadmat('median_forwards.mat')\n",
      "unpack_med_forw_sigs = scipy.io.loadmat('median_forwards_reassign.mat')\n",
      "unpack_med_back_sigs = scipy.io.loadmat('median_backwards_reassign.mat')"
     ],
     "language": "python",
     "metadata": {},
     "outputs": [],
     "prompt_number": 6
    },
    {
     "cell_type": "code",
     "collapsed": false,
     "input": [
      "med_forw_sigs = np.squeeze(unpack_med_forw_sigs['allSig'])\n",
      "med_back_sigs = np.squeeze(unpack_med_back_sigs['allSig_backwards'])\n",
      "med_forw_sigs_nor = np.squeeze(unpack_med_forw_sigs_nor['allSig'])\n",
      "\n",
      "lin_data_alt = np.squeeze(unpack_data_alt['linearData_alt'])\n",
      "lin_data = np.squeeze(unpack_data_unalt['linearData'])"
     ],
     "language": "python",
     "metadata": {},
     "outputs": [],
     "prompt_number": 251
    },
    {
     "cell_type": "code",
     "collapsed": false,
     "input": [
      "def reclassification(lin_data_alt, allSig, minReassignPix=115):\n",
      "    \"\"\"\n",
      "    For reclassifying over and over and over...until the end of time.\n",
      "    \n",
      "    Re-adapted from the MATLAB code.\n",
      "    \"\"\"\n",
      "    sigList = []\n",
      "    for idx in np.arange(len(allSig)):\n",
      "        sigList.append(np.where(np.squeeze(allSig[idx]))[0])\n",
      "        \n",
      "    new_sig_list = []    \n",
      "    medians = sa.signature_medians(allSig, lin_data_alt)\n",
      "    for s_idx in np.arange(len(sigList)):\n",
      "        new_sig_list.append(np.zeros(len(sigList[s_idx])))\n",
      "    \n",
      "    # Go through each pixels signature in each rough aggregate and find the\n",
      "    # correlation between that and the median of each signature.\n",
      "    for ref_idx in np.arange(len(sigList)):\n",
      "        for pix_sig_idx in np.arange(len(sigList[ref_idx])):\n",
      "            pixel = sigList[ref_idx][pix_sig_idx]\n",
      "            pix_sig = lin_data_alt[:, pixel]\n",
      "            \n",
      "            # Keep track of the correlation between the current pixel signature\n",
      "            # and the median of the other rough aggregate.\n",
      "            p_ref_arr = zeros(len(sigList))\n",
      "            for in_idx in np.arange(len(sigList)):\n",
      "                # You don't want to be accidentally assigning pixels from other\n",
      "                # signatures to a small signature that may be biased (due \n",
      "                # simply to its small amount).  Since these signatures may not\n",
      "                # be real, bias them towards assigning them to larger\n",
      "                # signatures and don't let pixels from larger signatures be\n",
      "                # assigned to the small signatures.  However, keep these\n",
      "                # signatures as they may be real.\n",
      "                if (len(sigList[in_idx]) > minReassignPix)| (in_idx == ref_idx):\n",
      "                    p_ref_arr[in_idx] = bsu.pearsons_correlation_coeff(medians[in_idx], pix_sig)\n",
      "                else:\n",
      "                    p_ref_arr[in_idx] = 0\n",
      "            new_sig_list[ref_idx][pix_sig_idx] = np.where(p_ref_arr == max(p_ref_arr))[0][0]\n",
      "    \n",
      "    # Now use some fancy indexing to find the misfits and prep the pixels\n",
      "    # for reassigment.\n",
      "    reassign = list(np.arange(len(new_sig_list)))\n",
      "    for ai in np.arange(1, len(new_sig_list)):\n",
      "        where_misfits = np.where(new_sig_list[ai] != ai*np.ones(len(new_sig_list[ai])))\n",
      "        misfits = new_sig_list[ai][where_misfits]\n",
      "        for m_idx in np.arange(len(where_misfits[0])):\n",
      "            if reassign[int(misfits[m_idx])].shape:\n",
      "                reassign[int(misfits[m_idx])] = np.concatenate((reassign[int(misfits[m_idx])],\n",
      "                                                               np.array([sigList[ai][where_misfits[0][m_idx]]])))\n",
      "            else:\n",
      "                reassign[int(misfits[m_idx])] = np.array([sigList[ai][where_misfits[0][m_idx]]])           \n",
      "\n",
      "    # Now add the misfits to their appropriate signature\n",
      "    fin_sig_list = []\n",
      "    for ai in np.arange(len(sigList)):\n",
      "        real_vox = np.where(new_sig_list[ai] == ai*np.ones(len(new_sig_list[ai])))\n",
      "        if reassign[ai].shape:\n",
      "            fin_sig_list.append(np.squeeze(np.concatenate((sigList[ai][real_vox], reassign[ai]))))\n",
      "        else:\n",
      "            fin_sig_list.append(sigList[ai][real_vox])\n",
      "        \n",
      "    return fin_sig_list"
     ],
     "language": "python",
     "metadata": {},
     "outputs": [],
     "prompt_number": 236
    },
    {
     "cell_type": "code",
     "collapsed": false,
     "input": [
      "fin_sig_list = reclassification(lin_data_alt, med_forw_sigs, minReassignPix=115)"
     ],
     "language": "python",
     "metadata": {},
     "outputs": [],
     "prompt_number": 235
    },
    {
     "cell_type": "code",
     "collapsed": false,
     "input": [
      "mask_list = []\n",
      "for idx in np.arange(len(fin_sig_list)):\n",
      "    this_mask = np.zeros((1, np.shape(med_forw_sigs[idx])[1]))\n",
      "    this_mask[0, (fin_sig_list[idx],)] = 1\n",
      "    mask_list.append(this_mask)"
     ],
     "language": "python",
     "metadata": {},
     "outputs": [],
     "prompt_number": 194
    },
    {
     "cell_type": "code",
     "collapsed": false,
     "input": [
      "sig_meds_ra2 = sa.signature_medians(mask_list, lin_data)"
     ],
     "language": "python",
     "metadata": {},
     "outputs": [],
     "prompt_number": 199
    },
    {
     "cell_type": "code",
     "collapsed": false,
     "input": [
      "sig_meds_ra1 = sa.signature_medians(med_forw_sigs, lin_data)"
     ],
     "language": "python",
     "metadata": {},
     "outputs": [],
     "prompt_number": 198
    },
    {
     "cell_type": "code",
     "collapsed": false,
     "input": [
      "iqr_ra1 = sa.sig_iqr(lin_data, med_forw_sigs)\n",
      "iqr_ra2 = sa.sig_iqr(lin_data, mask_list)"
     ],
     "language": "python",
     "metadata": {},
     "outputs": [],
     "prompt_number": 228
    },
    {
     "cell_type": "code",
     "collapsed": false,
     "input": [
      "plot(sig_meds_ra1[4])\n",
      "plot(sig_meds_ra2[4])"
     ],
     "language": "python",
     "metadata": {},
     "outputs": [
      {
       "metadata": {},
       "output_type": "pyout",
       "prompt_number": 225,
       "text": [
        "[<matplotlib.lines.Line2D at 0x14cc1320>]"
       ]
      },
      {
       "metadata": {},
       "output_type": "display_data",
       "png": "[encoded data removed]",
       "text": [
        "<matplotlib.figure.Figure at 0x14cc1898>"
       ]
      }
     ],
     "prompt_number": 225
    },
    {
     "cell_type": "code",
     "collapsed": false,
     "input": [
      "sigs = np.copy(med_forw_sigs)\n",
      "cur_iqr = sa.sig_iqr(lin_data, med_forw_sigs)\n",
      "prev_iqr = sa.sig_iqr(lin_data, med_forw_sigs_nor)\n",
      "err_diff = np.sum((prev_iqr - cur_iqr)/np.median(np.concatenate([prev_iqr, cur_iqr]), 0))\n",
      "\n",
      "while np.sum(err_diff) > 1:\n",
      "    fin_sig_list = reclassification(lin_data_alt, sigs, minReassignPix=115)\n",
      "    mask_list = []\n",
      "    for idx in np.arange(len(fin_sig_list)):\n",
      "        this_mask = np.zeros((1, np.shape(med_forw_sigs[idx])[1]))\n",
      "        this_mask[0, (fin_sig_list[idx],)] = 1\n",
      "        mask_list.append(this_mask)\n",
      "    \n",
      "    cur_iqr = sa.sig_iqr(lin_data, mask_list)\n",
      "    prev_iqr = sa.sig_iqr(lin_data, sigs)\n",
      "    err_diff = np.sum((prev_iqr - cur_iqr)/np.median(np.concatenate([prev_iqr, cur_iqr]), 0))\n",
      "    \n",
      "    sigs = mask_list"
     ],
     "language": "python",
     "metadata": {},
     "outputs": [],
     "prompt_number": 268
    },
    {
     "cell_type": "code",
     "collapsed": false,
     "input": [
      "cur_iqr = sa.sig_iqr(lin_data_alt, med_forw_sigs)\n",
      "prev_iqr = sa.sig_iqr(lin_data_alt, med_forw_sigs_nor)\n",
      "\n",
      "prev_medians = sa.signature_medians(med_forw_sigs, lin_data_alt) \n",
      "cur_medians = sa.signature_medians(med_forw_sigs_nor, lin_data_alt)\n",
      "\n",
      "err = np.sum((prev_iqr - cur_iqr)/np.median(np.concatenate([prev_medians, cur_medians]), 0))"
     ],
     "language": "python",
     "metadata": {},
     "outputs": []
    },
    {
     "cell_type": "code",
     "collapsed": false,
     "input": [
      "itr = 40\n",
      "sigs = np.copy(med_forw_sigs)\n",
      "\n",
      "err_arr = np.zeros(itr)\n",
      "for i in np.arange(itr):\n",
      "    fin_sig_list = reclassification(lin_data_alt, sigs, minReassignPix=115)\n",
      "    mask_list = []\n",
      "    for idx in np.arange(len(fin_sig_list)):\n",
      "        this_mask = np.zeros((1, np.shape(med_forw_sigs[idx])[1]))\n",
      "        this_mask[0, (fin_sig_list[idx],)] = 1\n",
      "        mask_list.append(this_mask)\n",
      "    \n",
      "    prev_iqr = sa.sig_iqr(lin_data, sigs)\n",
      "    cur_iqr = sa.sig_iqr(lin_data, mask_list)\n",
      "    \n",
      "    prev_medians = sa.signature_medians(sigs, lin_data_alt) \n",
      "    cur_medians = sa.signature_medians(mask_list, lin_data_alt)\n",
      "    \n",
      "    err_arr[i] = np.sum((prev_iqr - cur_iqr)/np.median(np.concatenate([prev_medians, cur_medians]), 0))\n",
      "    \n",
      "    sigs = mask_list"
     ],
     "language": "python",
     "metadata": {},
     "outputs": [],
     "prompt_number": 286
    },
    {
     "cell_type": "code",
     "collapsed": false,
     "input": [
      "sig_meds_ra1 = sa.signature_medians(med_forw_sigs, lin_data)\n",
      "sig_meds_ra40 = sa.signature_medians(sigs, lin_data)"
     ],
     "language": "python",
     "metadata": {},
     "outputs": [
      {
       "metadata": {},
       "output_type": "pyout",
       "prompt_number": 305,
       "text": [
        "[<matplotlib.lines.Line2D at 0x1f3c7be0>]"
       ]
      },
      {
       "metadata": {},
       "output_type": "display_data",
       "png": "[encoded data removed]",
       "text": [
        "<matplotlib.figure.Figure at 0x1f3c7630>"
       ]
      }
     ],
     "prompt_number": 305
    },
    {
     "cell_type": "code",
     "collapsed": false,
     "input": [
      "plot(err_arr)s"
     ],
     "language": "python",
     "metadata": {},
     "outputs": [
      {
       "metadata": {},
       "output_type": "pyout",
       "prompt_number": 287,
       "text": [
        "[<matplotlib.lines.Line2D at 0x1f36eef0>]"
       ]
      },
      {
       "metadata": {},
       "output_type": "display_data",
       "png": "[encoded data removed]",
       "text": [
        "<matplotlib.figure.Figure at 0x1f398908>"
       ]
      }
     ],
     "prompt_number": 287
    },
    {
     "cell_type": "code",
     "collapsed": false,
     "input": [
      "reload(sa)"
     ],
     "language": "python",
     "metadata": {},
     "outputs": [
      {
       "metadata": {},
       "output_type": "pyout",
       "prompt_number": 326,
       "text": [
        "<module 'biosignatures.signature_analysis' from 'c:\\Anaconda\\lib\\site-packages\\biosignatures\\signature_analysis.pyc'>"
       ]
      }
     ],
     "prompt_number": 326
    },
    {
     "cell_type": "code",
     "collapsed": false,
     "input": [
      "sigs, err_arr = sa.refine_reclass(med_forw_sigs, lin_data_alt, itr = 10)"
     ],
     "language": "python",
     "metadata": {},
     "outputs": [],
     "prompt_number": "*"
    },
    {
     "cell_type": "code",
     "collapsed": false,
     "input": [
      "plot(err_arr)"
     ],
     "language": "python",
     "metadata": {},
     "outputs": [],
     "prompt_number": "*"
    },
    {
     "cell_type": "code",
     "collapsed": false,
     "input": [
      "cur_iqr = sa.sig_iqr(lin_data, mask_list)\n",
      "prev_iqr = sa.sig_iqr(lin_data, med_forw_sigs)"
     ],
     "language": "python",
     "metadata": {},
     "outputs": [],
     "prompt_number": 277
    },
    {
     "cell_type": "code",
     "collapsed": false,
     "input": [
      "begin_iqr = sa.sig_iqr(lin_data, med_forw_sigs)\n",
      "end_iqr = sa.sig_iqr(lin_data, sigs)\n",
      "\n",
      "begin_iqr - end_iqr"
     ],
     "language": "python",
     "metadata": {},
     "outputs": [
      {
       "metadata": {},
       "output_type": "pyout",
       "prompt_number": 303,
       "text": [
        "array([[  2.  ,   0.  ,   0.  ,  -1.  ,   0.  ,   0.  ,   0.  ,   0.  ,\n",
        "          0.  ,   0.  ],\n",
        "       [  1.  ,   0.  ,   0.5 ,   1.  ,   1.  ,   0.  ,   0.  ,   0.  ,\n",
        "          0.  ,   0.  ],\n",
        "       [  8.  ,   0.  ,   0.  ,   0.  ,  -1.  ,   0.  ,   0.  ,   0.  ,\n",
        "          0.  ,   0.  ],\n",
        "       [  8.  ,   0.  ,   0.  ,   2.  ,   1.  ,   1.  ,   0.  ,   1.  ,\n",
        "          0.  ,   1.  ],\n",
        "       [ -5.  ,   0.  ,  -1.  ,   0.  ,  -1.  ,   0.75,   0.  ,   0.  ,\n",
        "          0.  ,   0.  ],\n",
        "       [-10.  ,   0.  ,   0.  ,  -2.  ,   0.  ,  -0.25,   0.  ,   0.  ,\n",
        "          0.  ,  -1.  ],\n",
        "       [ 51.5 ,   0.  ,   0.  ,  -1.  ,  -1.  ,   0.  ,   0.  ,   0.  ,\n",
        "          0.  ,   0.  ],\n",
        "       [  0.  ,   0.  ,   0.  ,   0.  ,   0.  ,   0.  ,   0.  ,   0.  ,\n",
        "          0.  ,   0.  ],\n",
        "       [  0.  ,   0.  ,   0.  ,   0.  ,   0.  ,   0.  ,   0.  ,   0.  ,\n",
        "          0.  ,   0.  ],\n",
        "       [  0.  ,   0.  ,   0.  ,   0.  ,   0.  ,   0.  ,   0.  ,   0.  ,\n",
        "          0.  ,   0.  ],\n",
        "       [  0.  ,   0.  ,   0.  ,   0.  ,   0.  ,   0.  ,   0.  ,   0.25,\n",
        "          0.  ,   0.  ],\n",
        "       [  7.  ,   0.  ,   1.  ,   1.  ,  -1.  ,   0.  ,   0.  ,   3.  ,\n",
        "          0.  ,   0.  ],\n",
        "       [ -5.5 ,   0.  ,   0.  ,   0.  ,   0.  ,   0.  ,   0.  ,   0.  ,\n",
        "          0.  ,   0.  ],\n",
        "       [ -0.5 ,   0.  ,   1.  ,   0.  ,   0.  ,   0.  ,   0.  ,  -1.  ,\n",
        "         -1.  ,   0.  ]])"
       ]
      }
     ],
     "prompt_number": 303
    },
    {
     "cell_type": "code",
     "collapsed": false,
     "input": [],
     "language": "python",
     "metadata": {},
     "outputs": []
    }
   ],
   "metadata": {}
  }
 ]
}