{
 "metadata": {
  "name": ""
 },
 "nbformat": 3,
 "nbformat_minor": 0,
 "worksheets": [
  {
   "cells": [
    {
     "cell_type": "code",
     "collapsed": false,
     "input": [
      "%pylab inline"
     ],
     "language": "python",
     "metadata": {},
     "outputs": [
      {
       "output_type": "stream",
       "stream": "stdout",
       "text": [
        "Populating the interactive namespace from numpy and matplotlib\n"
       ]
      }
     ],
     "prompt_number": 1
    },
    {
     "cell_type": "code",
     "collapsed": false,
     "input": [
      "import matplotlib.pyplot as plt\n",
      "import Image as im\n",
      "\n",
      "#These are needed in the cluster classification\n",
      "import numpy as np\n",
      "from scipy.ndimage.measurements import label\n",
      "import scipy.io\n",
      "from math import factorial as f\n",
      "import itertools\n",
      "import sys\n",
      "import scipy.stats.stats as stats\n",
      "import time"
     ],
     "language": "python",
     "metadata": {},
     "outputs": [],
     "prompt_number": 2
    },
    {
     "cell_type": "code",
     "collapsed": false,
     "input": [
      "import sys\n",
      "sys.path.append('c:/Users/Lirael/Source/osmosis/')\n",
      "import osmosis.utils as ozu\n",
      "import osmosis.viz.mpl as viz"
     ],
     "language": "python",
     "metadata": {},
     "outputs": [],
     "prompt_number": 3
    },
    {
     "cell_type": "code",
     "collapsed": false,
     "input": [
      "import biosignatures.cluster_analysis as ca\n",
      "import biosignatures.signature_analysis as sa\n",
      "import biosignatures.utils as bsu"
     ],
     "language": "python",
     "metadata": {},
     "outputs": [],
     "prompt_number": 4
    },
    {
     "cell_type": "code",
     "collapsed": false,
     "input": [
      "reload(ca)\n",
      "reload(sa)\n",
      "reload(bsu)"
     ],
     "language": "python",
     "metadata": {},
     "outputs": [
      {
       "metadata": {},
       "output_type": "pyout",
       "prompt_number": 5,
       "text": [
        "<module 'biosignatures.utils' from 'c:\\Anaconda\\lib\\site-packages\\biosignatures\\utils.pyc'>"
       ]
      }
     ],
     "prompt_number": 5
    },
    {
     "cell_type": "code",
     "collapsed": false,
     "input": [
      "cd ~/Source/biosignatures/data/"
     ],
     "language": "python",
     "metadata": {},
     "outputs": [
      {
       "output_type": "stream",
       "stream": "stdout",
       "text": [
        "c:\\Users\\Lirael\\Source\\biosignatures\\data\n"
       ]
      }
     ],
     "prompt_number": 14
    },
    {
     "cell_type": "code",
     "collapsed": false,
     "input": [
      "unpack_data_unalt = scipy.io.loadmat('data_unaltered.mat')\n",
      "unpack_data_alt = scipy.io.loadmat('data_altered.mat')\n",
      "# Median\n",
      "unpack_random = scipy.io.loadmat('random_sig_list.mat')"
     ],
     "language": "python",
     "metadata": {},
     "outputs": [],
     "prompt_number": 15
    },
    {
     "cell_type": "code",
     "collapsed": false,
     "input": [
      "#random_sig_list = np.squeeze(unpack_random['random_sig_list1'])\n",
      "lin_data_alt = np.squeeze(unpack_data_alt['linearData_alt'])\n",
      "lin_data = np.squeeze(unpack_data_unalt['linearData'])"
     ],
     "language": "python",
     "metadata": {},
     "outputs": [],
     "prompt_number": 18
    },
    {
     "cell_type": "code",
     "collapsed": false,
     "input": [
      "random_sigs = []\n",
      "for sig in np.arange(len(random_sig_list)):\n",
      "    rand_sigs_arr = np.zeros((1, 491*673))\n",
      "    if np.squeeze(random_sig_list[sig]).shape:\n",
      "        rand_sigs_arr[0, (np.squeeze(random_sig_list[sig]),)] = 1\n",
      "        random_sigs.append(rand_sigs_arr)"
     ],
     "language": "python",
     "metadata": {},
     "outputs": [
      {
       "output_type": "stream",
       "stream": "stdout",
       "text": [
        "Traceback (most recent call last):\n",
        "  File \"c:\\Anaconda\\lib\\site-packages\\ipython-1.0.0_dev-py2.7.egg\\IPython\\core\\ultratb.py\", line 759, in structured_traceback\n",
        "    records = _fixed_getinnerframes(etb, context, tb_offset)\n"
       ]
      },
      {
       "output_type": "stream",
       "stream": "stdout",
       "text": [
        "  File \"c:\\Anaconda\\lib\\site-packages\\ipython-1.0.0_dev-py2.7.egg\\IPython\\core\\ultratb.py\", line 242, in _fixed_getinnerframes\n",
        "    records  = fix_frame_records_filenames(inspect.getinnerframes(etb, context))\n",
        "  File \"c:\\Anaconda\\lib\\inspect.py\", line 1043, in getinnerframes\n",
        "    framelist.append((tb.tb_frame,) + getframeinfo(tb, context))\n"
       ]
      },
      {
       "output_type": "stream",
       "stream": "stdout",
       "text": [
        "  File \"c:\\Anaconda\\lib\\inspect.py\", line 1003, in getframeinfo\n",
        "    filename = getsourcefile(frame) or getfile(frame)\n",
        "  File \"c:\\Anaconda\\lib\\inspect.py\", line 454, in getsourcefile\n",
        "    if hasattr(getmodule(object, filename), '__loader__'):\n",
        "  File \"c:\\Anaconda\\lib\\inspect.py\", line 497, in getmodule\n",
        "    f = getabsfile(module)\n",
        "  File \"c:\\Anaconda\\lib\\inspect.py\", line 466, in getabsfile\n",
        "    _filename = getsourcefile(object) or getfile(object)\n",
        "  File \"c:\\Anaconda\\lib\\inspect.py\", line 451, in getsourcefile\n",
        "    if os.path.exists(filename):\n",
        "  File \"c:\\Anaconda\\lib\\genericpath.py\", line 18, in exists\n",
        "    os.stat(path)\n"
       ]
      },
      {
       "output_type": "stream",
       "stream": "stderr",
       "text": [
        "ERROR: Internal Python error in the inspect module.\n",
        "Below is the traceback from this internal error.\n",
        "\n"
       ]
      },
      {
       "ename": "NameError",
       "evalue": "name 'random_sig_list' is not defined",
       "output_type": "pyerr",
       "traceback": ""
      },
      {
       "output_type": "stream",
       "stream": "stdout",
       "text": [
        "KeyboardInterrupt\n"
       ]
      },
      {
       "output_type": "stream",
       "stream": "stderr",
       "text": [
        "\n",
        "Unfortunately, your original traceback can not be constructed.\n",
        "\n"
       ]
      }
     ],
     "prompt_number": 17
    },
    {
     "cell_type": "code",
     "collapsed": false,
     "input": [
      "figure(figsize=(10, 10))\n",
      "imshow(bsu.signature_map(random_sigs, 491, 673))"
     ],
     "language": "python",
     "metadata": {},
     "outputs": [
      {
       "metadata": {},
       "output_type": "pyout",
       "prompt_number": 18,
       "text": [
        "<matplotlib.image.AxesImage at 0x12ee1940>"
       ]
      },
      {
       "metadata": {},
       "output_type": "display_data",
       "png": "[encoded data removed]",
       "text": [
        "<matplotlib.figure.Figure at 0x12c79630>"
       ]
      }
     ],
     "prompt_number": 18
    },
    {
     "cell_type": "code",
     "collapsed": false,
     "input": [
      "rand_reclass1 = sa.reclass(lin_data_alt, sigList=random_sig_list, minReassignPix=10)"
     ],
     "language": "python",
     "metadata": {},
     "outputs": [],
     "prompt_number": 90
    },
    {
     "cell_type": "code",
     "collapsed": false,
     "input": [
      "rand_reclass1_masks = bsu.sig_list_to_mask(rand_reclass1)"
     ],
     "language": "python",
     "metadata": {},
     "outputs": [],
     "prompt_number": 91
    },
    {
     "cell_type": "code",
     "collapsed": false,
     "input": [
      "rand_reclass2_masks = bsu.sig_list_to_mask(sa.reclass(lin_data_alt, allSig=rand_reclass1_masks, minReassignPix=10))"
     ],
     "language": "python",
     "metadata": {},
     "outputs": [],
     "prompt_number": 92
    },
    {
     "cell_type": "code",
     "collapsed": false,
     "input": [
      "rand_reclass3_masks = bsu.sig_list_to_mask(sa.reclass(lin_data_alt, allSig=rand_reclass2_masks, minReassignPix=10))"
     ],
     "language": "python",
     "metadata": {},
     "outputs": [],
     "prompt_number": 101
    },
    {
     "cell_type": "code",
     "collapsed": false,
     "input": [
      "rand_reclass4_masks = bsu.sig_list_to_mask(sa.reclass(lin_data_alt, allSig=rand_reclass3_masks, minReassignPix=10))"
     ],
     "language": "python",
     "metadata": {},
     "outputs": [],
     "prompt_number": 105
    },
    {
     "cell_type": "code",
     "collapsed": false,
     "input": [
      "rand_reclass5_masks = bsu.sig_list_to_mask(sa.reclass(lin_data_alt, allSig=rand_reclass4_masks, minReassignPix=10))"
     ],
     "language": "python",
     "metadata": {},
     "outputs": [],
     "prompt_number": 112
    },
    {
     "cell_type": "code",
     "collapsed": false,
     "input": [
      "rand_reclass6_masks = bsu.sig_list_to_mask(sa.reclass(lin_data_alt, allSig=rand_reclass5_masks, minReassignPix=10))"
     ],
     "language": "python",
     "metadata": {},
     "outputs": [],
     "prompt_number": 117
    },
    {
     "cell_type": "code",
     "collapsed": false,
     "input": [
      "rand_reclass7_masks = bsu.sig_list_to_mask(sa.reclass(lin_data_alt, allSig=rand_reclass6_masks, minReassignPix=10))"
     ],
     "language": "python",
     "metadata": {},
     "outputs": [],
     "prompt_number": 124
    },
    {
     "cell_type": "code",
     "collapsed": false,
     "input": [
      "rand_reclass8_masks = bsu.sig_list_to_mask(sa.reclass(lin_data_alt, allSig=rand_reclass7_masks, minReassignPix=10))"
     ],
     "language": "python",
     "metadata": {},
     "outputs": [],
     "prompt_number": 129
    },
    {
     "cell_type": "code",
     "collapsed": false,
     "input": [
      "rand_reclass9_masks = bsu.sig_list_to_mask(sa.reclass(lin_data_alt, allSig=rand_reclass8_masks, minReassignPix=10))"
     ],
     "language": "python",
     "metadata": {},
     "outputs": [],
     "prompt_number": 133
    },
    {
     "cell_type": "code",
     "collapsed": false,
     "input": [
      "rand_reclass10_masks = bsu.sig_list_to_mask(sa.reclass(lin_data_alt, allSig=rand_reclass9_masks, minReassignPix=10))"
     ],
     "language": "python",
     "metadata": {},
     "outputs": [],
     "prompt_number": 137
    },
    {
     "cell_type": "code",
     "collapsed": false,
     "input": [
      "rand_reclass11_masks = bsu.sig_list_to_mask(sa.reclass(lin_data_alt, allSig=rand_reclass10_masks, minReassignPix=10))"
     ],
     "language": "python",
     "metadata": {},
     "outputs": [],
     "prompt_number": 140
    },
    {
     "cell_type": "code",
     "collapsed": false,
     "input": [
      "rand_reclass12_masks = bsu.sig_list_to_mask(sa.reclass(lin_data_alt, allSig=rand_reclass11_masks, minReassignPix=10))"
     ],
     "language": "python",
     "metadata": {},
     "outputs": [],
     "prompt_number": 146
    },
    {
     "cell_type": "code",
     "collapsed": false,
     "input": [
      "rand_reclass13_masks = bsu.sig_list_to_mask(sa.reclass(lin_data_alt, allSig=rand_reclass12_masks, minReassignPix=10))"
     ],
     "language": "python",
     "metadata": {},
     "outputs": [],
     "prompt_number": 149
    },
    {
     "cell_type": "code",
     "collapsed": false,
     "input": [
      "rand_reclass14_masks = bsu.sig_list_to_mask(sa.reclass(lin_data_alt, allSig=rand_reclass13_masks, minReassignPix=10))"
     ],
     "language": "python",
     "metadata": {},
     "outputs": [],
     "prompt_number": 156
    },
    {
     "cell_type": "code",
     "collapsed": false,
     "input": [
      "rand_reclass15_masks = bsu.sig_list_to_mask(sa.reclass(lin_data_alt, allSig=rand_reclass13_masks, minReassignPix=10))"
     ],
     "language": "python",
     "metadata": {},
     "outputs": []
    },
    {
     "cell_type": "code",
     "collapsed": false,
     "input": [
      "clust_diffs, clust_diff_list = ca.clust_diff(rand_reclass1_masks, rand_reclass2_masks, lin_data_alt)"
     ],
     "language": "python",
     "metadata": {},
     "outputs": [],
     "prompt_number": 98
    },
    {
     "cell_type": "code",
     "collapsed": false,
     "input": [
      "clust_diffs2, clust_diff_list = ca.clust_diff(rand_reclass2_masks, rand_reclass3_masks, lin_data_alt)"
     ],
     "language": "python",
     "metadata": {},
     "outputs": [],
     "prompt_number": 102
    },
    {
     "cell_type": "code",
     "collapsed": false,
     "input": [
      "clust_diffs3, clust_diff_list = ca.clust_diff(rand_reclass3_masks, rand_reclass4_masks, lin_data_alt)"
     ],
     "language": "python",
     "metadata": {},
     "outputs": [],
     "prompt_number": 106
    },
    {
     "cell_type": "code",
     "collapsed": false,
     "input": [
      "clust_diffs4, clust_diff_list = ca.clust_diff(rand_reclass4_masks, rand_reclass5_masks, lin_data_alt)"
     ],
     "language": "python",
     "metadata": {},
     "outputs": [],
     "prompt_number": 113
    },
    {
     "cell_type": "code",
     "collapsed": false,
     "input": [
      "clust_diffs5, clust_diff_list = ca.clust_diff(rand_reclass5_masks, rand_reclass6_masks, lin_data_alt)"
     ],
     "language": "python",
     "metadata": {},
     "outputs": [],
     "prompt_number": 121
    },
    {
     "cell_type": "code",
     "collapsed": false,
     "input": [
      "clust_diffs6, clust_diff_list = ca.clust_diff(rand_reclass6_masks, rand_reclass7_masks, lin_data_alt)"
     ],
     "language": "python",
     "metadata": {},
     "outputs": [],
     "prompt_number": 125
    },
    {
     "cell_type": "code",
     "collapsed": false,
     "input": [
      "clust_diffs7, clust_diff_list = ca.clust_diff(rand_reclass7_masks, rand_reclass8_masks, lin_data_alt)"
     ],
     "language": "python",
     "metadata": {},
     "outputs": [],
     "prompt_number": 130
    },
    {
     "cell_type": "code",
     "collapsed": false,
     "input": [
      "clust_diffs8, clust_diff_list = ca.clust_diff(rand_reclass8_masks, rand_reclass9_masks, lin_data_alt)"
     ],
     "language": "python",
     "metadata": {},
     "outputs": [],
     "prompt_number": 134
    },
    {
     "cell_type": "code",
     "collapsed": false,
     "input": [
      "clust_diffs9, clust_diff_list = ca.clust_diff(rand_reclass9_masks, rand_reclass10_masks, lin_data_alt)"
     ],
     "language": "python",
     "metadata": {},
     "outputs": [],
     "prompt_number": 138
    },
    {
     "cell_type": "code",
     "collapsed": false,
     "input": [
      "clust_diffs10, clust_diff_list = ca.clust_diff(rand_reclass10_masks, rand_reclass11_masks, lin_data_alt)"
     ],
     "language": "python",
     "metadata": {},
     "outputs": [],
     "prompt_number": 141
    },
    {
     "cell_type": "code",
     "collapsed": false,
     "input": [
      "clust_diffs11, clust_diff_list = ca.clust_diff(rand_reclass11_masks, rand_reclass12_masks, lin_data_alt)"
     ],
     "language": "python",
     "metadata": {},
     "outputs": [],
     "prompt_number": 147
    },
    {
     "cell_type": "code",
     "collapsed": false,
     "input": [
      "clust_diffs12, clust_diff_list = ca.clust_diff(rand_reclass12_masks, rand_reclass13_masks, lin_data_alt)"
     ],
     "language": "python",
     "metadata": {},
     "outputs": [],
     "prompt_number": 150
    },
    {
     "cell_type": "code",
     "collapsed": false,
     "input": [
      "clust_diffs13, clust_diff_list = ca.clust_diff(rand_reclass13_masks, rand_reclass14_masks, lin_data_alt)"
     ],
     "language": "python",
     "metadata": {},
     "outputs": [],
     "prompt_number": 157
    },
    {
     "cell_type": "code",
     "collapsed": false,
     "input": [
      "plt.rcParams['lines.linewidth'] = 2"
     ],
     "language": "python",
     "metadata": {},
     "outputs": [],
     "prompt_number": 99
    },
    {
     "cell_type": "code",
     "collapsed": false,
     "input": [
      "np.max(clust_diffs13)"
     ],
     "language": "python",
     "metadata": {},
     "outputs": [
      {
       "metadata": {},
       "output_type": "pyout",
       "prompt_number": 159,
       "text": [
        "62.0"
       ]
      }
     ],
     "prompt_number": 159
    },
    {
     "cell_type": "code",
     "collapsed": false,
     "input": [
      "fig = viz.probability_hist(clust_diffs, bins = 10)\n",
      "fig = viz.probability_hist(clust_diffs2, bins = 10, fig=fig)\n",
      "fig = viz.probability_hist(clust_diffs3, bins = 10, fig=fig)\n",
      "fig = viz.probability_hist(clust_diffs4, bins = 10, fig=fig)\n",
      "fig = viz.probability_hist(clust_diffs5, bins = 10, fig=fig)\n",
      "fig = viz.probability_hist(clust_diffs6, bins = 10, fig=fig)\n",
      "fig = viz.probability_hist(clust_diffs7, bins = 10, fig=fig)\n",
      "fig = viz.probability_hist(clust_diffs8, bins = 10, fig=fig)\n",
      "fig = viz.probability_hist(clust_diffs9, bins = 10, fig=fig)\n",
      "fig = viz.probability_hist(clust_diffs10, bins = 10, fig=fig)\n",
      "fig = viz.probability_hist(clust_diffs11, bins = 10, fig=fig)\n",
      "fig = viz.probability_hist(clust_diffs12, bins = 10, fig=fig)\n",
      "fig = viz.probability_hist(clust_diffs13, bins = 10, fig=fig)\n",
      "\n",
      "plt.xlabel('Differences in pixel number\\nbetween signatures of clusters', size = 18)\n",
      "plt.ylabel('Probability', size = 18)\n",
      "\n",
      "params = {'legend.fontsize': 15,\n",
      "          'legend.linewidth': 2}"
     ],
     "language": "python",
     "metadata": {},
     "outputs": [
      {
       "metadata": {},
       "output_type": "display_data",
       "png": "[encoded data removed]",
       "text": [
        "<matplotlib.figure.Figure at 0x39d11518>"
       ]
      }
     ],
     "prompt_number": 158
    },
    {
     "cell_type": "code",
     "collapsed": false,
     "input": [
      "figure(figsize=(12, 10))\n",
      "plt.subplot(121)\n",
      "imshow(bsu.signature_map(rand_reclass13_masks))\n",
      "\n",
      "plt.subplot(122)\n",
      "imshow(bsu.signature_map(rand_reclass14_masks))"
     ],
     "language": "python",
     "metadata": {},
     "outputs": [
      {
       "metadata": {},
       "output_type": "pyout",
       "prompt_number": 160,
       "text": [
        "<matplotlib.image.AxesImage at 0x3973dbe0>"
       ]
      },
      {
       "metadata": {},
       "output_type": "display_data",
       "png": "[encoded data removed]",
       "text": [
        "<matplotlib.figure.Figure at 0x39d0e5c0>"
       ]
      }
     ],
     "prompt_number": 160
    },
    {
     "cell_type": "code",
     "collapsed": false,
     "input": [
      "rand_reclass1[0]"
     ],
     "language": "python",
     "metadata": {},
     "outputs": [
      {
       "metadata": {},
       "output_type": "pyout",
       "prompt_number": 68,
       "text": [
        "array([222229,   7632, 294408, ...,   9099, 219309, 278226])"
       ]
      }
     ],
     "prompt_number": 68
    },
    {
     "cell_type": "code",
     "collapsed": false,
     "input": [
      "import itertools"
     ],
     "language": "python",
     "metadata": {},
     "outputs": [],
     "prompt_number": 161
    },
    {
     "cell_type": "code",
     "collapsed": false,
     "input": [
      "data_sets[0][0]"
     ],
     "language": "python",
     "metadata": {},
     "outputs": [
      {
       "metadata": {},
       "output_type": "pyout",
       "prompt_number": 179,
       "text": [
        "array([[ 51110, 253414,  99617, ...,  56028, 167453, 180105]])"
       ]
      }
     ],
     "prompt_number": 179
    },
    {
     "cell_type": "code",
     "collapsed": false,
     "input": [
      "data_sets = []\n",
      "for d_num in np.arange(1,11):\n",
      "    data_sets.append(np.squeeze(unpack_random['random_sig_list%s'%d_num]))"
     ],
     "language": "python",
     "metadata": {},
     "outputs": [],
     "prompt_number": 9
    },
    {
     "cell_type": "code",
     "collapsed": false,
     "input": [
      "new_data_sets = []\n",
      "for i in np.arange(len(all_masks_list)):\n",
      "    new_data_sets.append(all_masks_list[i][19])"
     ],
     "language": "python",
     "metadata": {},
     "outputs": [],
     "prompt_number": 48
    },
    {
     "cell_type": "code",
     "collapsed": false,
     "input": [
      "sig_list_60_80 = np.load(\"sig_list_60_80.npy\")"
     ],
     "language": "python",
     "metadata": {},
     "outputs": [],
     "prompt_number": 10
    },
    {
     "cell_type": "code",
     "collapsed": false,
     "input": [
      "cd ~/Source/biosignatures/data/analyses/"
     ],
     "language": "python",
     "metadata": {},
     "outputs": [
      {
       "output_type": "stream",
       "stream": "stdout",
       "text": [
        "c:\\Users\\Lirael\\Source\\biosignatures\\data\\analyses\n"
       ]
      }
     ],
     "prompt_number": 20
    },
    {
     "cell_type": "code",
     "collapsed": false,
     "input": [
      "med_clust_diffs_60_78 = np.load(\"med_clust_diffs_60_78.npy\")"
     ],
     "language": "python",
     "metadata": {},
     "outputs": [],
     "prompt_number": 21
    },
    {
     "cell_type": "code",
     "collapsed": false,
     "input": [
      "new_data_sets = []\n",
      "for i in np.arange(sig_list_60_80.shape[0]):\n",
      "    new_data_sets.append(sig_list_60_80[i][17])"
     ],
     "language": "python",
     "metadata": {},
     "outputs": [],
     "prompt_number": 12
    },
    {
     "cell_type": "code",
     "collapsed": false,
     "input": [
      "max_itr = 120\n",
      "xLen = 491\n",
      "yLen = 673\n",
      "all_masks_list = []\n",
      "t1 = time.time()\n",
      "for d_idx, data in enumerate(new_data_sets):\n",
      "    t2 = time.time()\n",
      "    # Initial reclassification after data generation.\n",
      "    sys.stdout.write('\\r' + \"Reclassification %s for data set %s.  Elapsed time: %s mins\"%(79, d_idx+1,(t2-t1)/60.))\n",
      "    sys.stdout.flush() \n",
      "    rand_reclass = sa.reclass(lin_data_alt, sigList=data, minReassignPix=10)\n",
      "    \n",
      "    # Initialize an array to include all the masks from the reassignment.\n",
      "    # After the first relcassification, all the 1 pixel signatures should be gone\n",
      "    # and the number of signatures should be constant.\n",
      "    all_masks = []#np.zeros((max_itr, len(rand_reclass_masks), xLen*yLen))\n",
      "    for itr in np.arange(80, max_itr):\n",
      "        t2 = time.time()\n",
      "        sys.stdout.write('\\r' + \"Reclassification %s for data set %s.  Elapsed time: %s mins\"%(itr+2, d_idx+1,(t2-t1)/60.))\n",
      "        sys.stdout.flush() \n",
      "\n",
      "        # Reclassify and change from signature list to mask.\n",
      "        rand_reclass = sa.reclass(lin_data_alt, sigList=rand_reclass, minReassignPix=10)\n",
      "        all_masks.append(np.squeeze(np.array(rand_reclass)))\n",
      "    \n",
      "    # Save the masks for this data set.\n",
      "    all_masks_list.append(all_masks)\n",
      "    \n",
      "np.save(\"sig_list_79_120.npy\", all_masks_list)"
     ],
     "language": "python",
     "metadata": {},
     "outputs": [
      {
       "output_type": "stream",
       "stream": "stdout",
       "text": [
        "\r",
        "Reclassification 79 for data set 1.  Elapsed time: 0.0 mins"
       ]
      },
      {
       "output_type": "stream",
       "stream": "stdout",
       "text": [
        "\r",
        "Reclassification 82 for data set 1.  Elapsed time: 0.248249999682 mins"
       ]
      },
      {
       "output_type": "stream",
       "stream": "stdout",
       "text": [
        "\r",
        "Reclassification 83 for data set 1.  Elapsed time: 0.478716667493 mins"
       ]
      },
      {
       "output_type": "stream",
       "stream": "stdout",
       "text": [
        "\r",
        "Reclassification 84 for data set 1.  Elapsed time: 0.696116665999 mins"
       ]
      },
      {
       "output_type": "stream",
       "stream": "stdout",
       "text": [
        "\r",
        "Reclassification 85 for data set 1.  Elapsed time: 0.924916668733 mins"
       ]
      },
      {
       "output_type": "stream",
       "stream": "stdout",
       "text": [
        "\r",
        "Reclassification 86 for data set 1.  Elapsed time: 1.1503000021 mins"
       ]
      },
      {
       "output_type": "stream",
       "stream": "stdout",
       "text": [
        "\r",
        "Reclassification 87 for data set 1.  Elapsed time: 1.40265000264 mins"
       ]
      },
      {
       "output_type": "stream",
       "stream": "stdout",
       "text": [
        "\r",
        "Reclassification 88 for data set 1.  Elapsed time: 1.62596666813 mins"
       ]
      },
      {
       "output_type": "stream",
       "stream": "stdout",
       "text": [
        "\r",
        "Reclassification 89 for data set 1.  Elapsed time: 1.84976666768 mins"
       ]
      },
      {
       "output_type": "stream",
       "stream": "stdout",
       "text": [
        "\r",
        "Reclassification 90 for data set 1.  Elapsed time: 2.09190000296 mins"
       ]
      },
      {
       "output_type": "stream",
       "stream": "stdout",
       "text": [
        "\r",
        "Reclassification 91 for data set 1.  Elapsed time: 3.10245000124 mins"
       ]
      },
      {
       "output_type": "stream",
       "stream": "stdout",
       "text": [
        "\r",
        "Reclassification 92 for data set 1.  Elapsed time: 3.32551666896 mins"
       ]
      },
      {
       "output_type": "stream",
       "stream": "stdout",
       "text": [
        "\r",
        "Reclassification 93 for data set 1.  Elapsed time: 3.54626666705 mins"
       ]
      },
      {
       "output_type": "stream",
       "stream": "stdout",
       "text": [
        "\r",
        "Reclassification 94 for data set 1.  Elapsed time: 3.77143333356 mins"
       ]
      },
      {
       "output_type": "stream",
       "stream": "stdout",
       "text": [
        "\r",
        "Reclassification 95 for data set 1.  Elapsed time: 3.99410000245 mins"
       ]
      },
      {
       "output_type": "stream",
       "stream": "stdout",
       "text": [
        "\r",
        "Reclassification 96 for data set 1.  Elapsed time: 4.21201666594 mins"
       ]
      },
      {
       "output_type": "stream",
       "stream": "stdout",
       "text": [
        "\r",
        "Reclassification 97 for data set 1.  Elapsed time: 4.43640000025 mins"
       ]
      },
      {
       "output_type": "stream",
       "stream": "stdout",
       "text": [
        "\r",
        "Reclassification 98 for data set 1.  Elapsed time: 4.69331666629 mins"
       ]
      },
      {
       "output_type": "stream",
       "stream": "stdout",
       "text": [
        "\r",
        "Reclassification 99 for data set 1.  Elapsed time: 4.94776666959 mins"
       ]
      },
      {
       "output_type": "stream",
       "stream": "stdout",
       "text": [
        "\r",
        "Reclassification 100 for data set 1.  Elapsed time: 5.18596666654 mins"
       ]
      },
      {
       "output_type": "stream",
       "stream": "stdout",
       "text": [
        "\r",
        "Reclassification 101 for data set 1.  Elapsed time: 5.40700000127 mins"
       ]
      },
      {
       "output_type": "stream",
       "stream": "stdout",
       "text": [
        "\r",
        "Reclassification 102 for data set 1.  Elapsed time: 5.64418333371 mins"
       ]
      },
      {
       "output_type": "stream",
       "stream": "stdout",
       "text": [
        "\r",
        "Reclassification 103 for data set 1.  Elapsed time: 5.88799999952 mins"
       ]
      },
      {
       "output_type": "stream",
       "stream": "stdout",
       "text": [
        "\r",
        "Reclassification 104 for data set 1.  Elapsed time: 6.10946666797 mins"
       ]
      },
      {
       "output_type": "stream",
       "stream": "stdout",
       "text": [
        "\r",
        "Reclassification 105 for data set 1.  Elapsed time: 6.32741666635 mins"
       ]
      },
      {
       "output_type": "stream",
       "stream": "stdout",
       "text": [
        "\r",
        "Reclassification 106 for data set 1.  Elapsed time: 6.55116666953 mins"
       ]
      },
      {
       "output_type": "stream",
       "stream": "stdout",
       "text": [
        "\r",
        "Reclassification 107 for data set 1.  Elapsed time: 6.7954666694 mins"
       ]
      },
      {
       "output_type": "stream",
       "stream": "stdout",
       "text": [
        "\r",
        "Reclassification 108 for data set 1.  Elapsed time: 7.06151666641 mins"
       ]
      },
      {
       "output_type": "stream",
       "stream": "stdout",
       "text": [
        "\r",
        "Reclassification 109 for data set 1.  Elapsed time: 7.28308333556 mins"
       ]
      },
      {
       "output_type": "stream",
       "stream": "stdout",
       "text": [
        "\r",
        "Reclassification 110 for data set 1.  Elapsed time: 7.49700000286 mins"
       ]
      },
      {
       "output_type": "stream",
       "stream": "stdout",
       "text": [
        "\r",
        "Reclassification 111 for data set 1.  Elapsed time: 7.70959999959 mins"
       ]
      },
      {
       "output_type": "stream",
       "stream": "stdout",
       "text": [
        "\r",
        "Reclassification 112 for data set 1.  Elapsed time: 7.92570000092 mins"
       ]
      },
      {
       "output_type": "stream",
       "stream": "stdout",
       "text": [
        "\r",
        "Reclassification 113 for data set 1.  Elapsed time: 8.13838333289 mins"
       ]
      },
      {
       "output_type": "stream",
       "stream": "stdout",
       "text": [
        "\r",
        "Reclassification 114 for data set 1.  Elapsed time: 8.35005000035 mins"
       ]
      },
      {
       "output_type": "stream",
       "stream": "stdout",
       "text": [
        "\r",
        "Reclassification 115 for data set 1.  Elapsed time: 8.56253333489 mins"
       ]
      },
      {
       "output_type": "stream",
       "stream": "stdout",
       "text": [
        "\r",
        "Reclassification 116 for data set 1.  Elapsed time: 8.77285000086 mins"
       ]
      },
      {
       "output_type": "stream",
       "stream": "stdout",
       "text": [
        "\r",
        "Reclassification 117 for data set 1.  Elapsed time: 8.98940000137 mins"
       ]
      },
      {
       "output_type": "stream",
       "stream": "stdout",
       "text": [
        "\r",
        "Reclassification 118 for data set 1.  Elapsed time: 9.20158333381 mins"
       ]
      },
      {
       "output_type": "stream",
       "stream": "stdout",
       "text": [
        "\r",
        "Reclassification 119 for data set 1.  Elapsed time: 9.41163333257 mins"
       ]
      },
      {
       "output_type": "stream",
       "stream": "stdout",
       "text": [
        "\r",
        "Reclassification 120 for data set 1.  Elapsed time: 9.62640000184 mins"
       ]
      },
      {
       "output_type": "stream",
       "stream": "stdout",
       "text": [
        "\r",
        "Reclassification 121 for data set 1.  Elapsed time: 9.88436666727 mins"
       ]
      },
      {
       "output_type": "stream",
       "stream": "stdout",
       "text": [
        "\r",
        "Reclassification 79 for data set 2.  Elapsed time: 10.0995000005 mins"
       ]
      },
      {
       "output_type": "stream",
       "stream": "stdout",
       "text": [
        "\r",
        "Reclassification 82 for data set 2.  Elapsed time: 10.3152999997 mins"
       ]
      },
      {
       "output_type": "stream",
       "stream": "stdout",
       "text": [
        "\r",
        "Reclassification 83 for data set 2.  Elapsed time: 10.5191999992 mins"
       ]
      },
      {
       "output_type": "stream",
       "stream": "stdout",
       "text": [
        "\r",
        "Reclassification 84 for data set 2.  Elapsed time: 10.7230500023 mins"
       ]
      },
      {
       "output_type": "stream",
       "stream": "stdout",
       "text": [
        "\r",
        "Reclassification 85 for data set 2.  Elapsed time: 10.9311666687 mins"
       ]
      },
      {
       "output_type": "stream",
       "stream": "stdout",
       "text": [
        "\r",
        "Reclassification 86 for data set 2.  Elapsed time: 11.1336666663 mins"
       ]
      },
      {
       "output_type": "stream",
       "stream": "stdout",
       "text": [
        "\r",
        "Reclassification 87 for data set 2.  Elapsed time: 11.3360000014 mins"
       ]
      },
      {
       "output_type": "stream",
       "stream": "stdout",
       "text": [
        "\r",
        "Reclassification 88 for data set 2.  Elapsed time: 11.5405500015 mins"
       ]
      },
      {
       "output_type": "stream",
       "stream": "stdout",
       "text": [
        "\r",
        "Reclassification 89 for data set 2.  Elapsed time: 11.7453166684 mins"
       ]
      },
      {
       "output_type": "stream",
       "stream": "stdout",
       "text": [
        "\r",
        "Reclassification 90 for data set 2.  Elapsed time: 11.9517333349 mins"
       ]
      },
      {
       "output_type": "stream",
       "stream": "stdout",
       "text": [
        "\r",
        "Reclassification 91 for data set 2.  Elapsed time: 12.1563333352 mins"
       ]
      },
      {
       "output_type": "stream",
       "stream": "stdout",
       "text": [
        "\r",
        "Reclassification 92 for data set 2.  Elapsed time: 12.3578499993 mins"
       ]
      },
      {
       "output_type": "stream",
       "stream": "stdout",
       "text": [
        "\r",
        "Reclassification 93 for data set 2.  Elapsed time: 12.5609666665 mins"
       ]
      },
      {
       "output_type": "stream",
       "stream": "stdout",
       "text": [
        "\r",
        "Reclassification 94 for data set 2.  Elapsed time: 12.7623833338 mins"
       ]
      },
      {
       "output_type": "stream",
       "stream": "stdout",
       "text": [
        "\r",
        "Reclassification 95 for data set 2.  Elapsed time: 12.9709833344 mins"
       ]
      },
      {
       "output_type": "stream",
       "stream": "stdout",
       "text": [
        "\r",
        "Reclassification 96 for data set 2.  Elapsed time: 13.1732833346 mins"
       ]
      },
      {
       "output_type": "stream",
       "stream": "stdout",
       "text": [
        "\r",
        "Reclassification 97 for data set 2.  Elapsed time: 13.3750666658 mins"
       ]
      },
      {
       "output_type": "stream",
       "stream": "stdout",
       "text": [
        "\r",
        "Reclassification 98 for data set 2.  Elapsed time: 13.5781833331 mins"
       ]
      },
      {
       "output_type": "stream",
       "stream": "stdout",
       "text": [
        "\r",
        "Reclassification 99 for data set 2.  Elapsed time: 13.7810500026 mins"
       ]
      },
      {
       "output_type": "stream",
       "stream": "stdout",
       "text": [
        "\r",
        "Reclassification 100 for data set 2.  Elapsed time: 13.9895666679 mins"
       ]
      },
      {
       "output_type": "stream",
       "stream": "stdout",
       "text": [
        "\r",
        "Reclassification 101 for data set 2.  Elapsed time: 14.1928666671 mins"
       ]
      },
      {
       "output_type": "stream",
       "stream": "stdout",
       "text": [
        "\r",
        "Reclassification 102 for data set 2.  Elapsed time: 14.3941333334 mins"
       ]
      },
      {
       "output_type": "stream",
       "stream": "stdout",
       "text": [
        "\r",
        "Reclassification 103 for data set 2.  Elapsed time: 14.6065500021 mins"
       ]
      },
      {
       "output_type": "stream",
       "stream": "stdout",
       "text": [
        "\r",
        "Reclassification 104 for data set 2.  Elapsed time: 14.8117166678 mins"
       ]
      },
      {
       "output_type": "stream",
       "stream": "stdout",
       "text": [
        "\r",
        "Reclassification 105 for data set 2.  Elapsed time: 15.0629999995 mins"
       ]
      },
      {
       "output_type": "stream",
       "stream": "stdout",
       "text": [
        "\r",
        "Reclassification 106 for data set 2.  Elapsed time: 15.2706333359 mins"
       ]
      },
      {
       "output_type": "stream",
       "stream": "stdout",
       "text": [
        "\r",
        "Reclassification 107 for data set 2.  Elapsed time: 15.4771333337 mins"
       ]
      },
      {
       "output_type": "stream",
       "stream": "stdout",
       "text": [
        "\r",
        "Reclassification 108 for data set 2.  Elapsed time: 15.6797833323 mins"
       ]
      },
      {
       "output_type": "stream",
       "stream": "stdout",
       "text": [
        "\r",
        "Reclassification 109 for data set 2.  Elapsed time: 15.8977666696 mins"
       ]
      },
      {
       "output_type": "stream",
       "stream": "stdout",
       "text": [
        "\r",
        "Reclassification 110 for data set 2.  Elapsed time: 16.1011500001 mins"
       ]
      },
      {
       "output_type": "stream",
       "stream": "stdout",
       "text": [
        "\r",
        "Reclassification 111 for data set 2.  Elapsed time: 16.3046500007 mins"
       ]
      },
      {
       "output_type": "stream",
       "stream": "stdout",
       "text": [
        "\r",
        "Reclassification 112 for data set 2.  Elapsed time: 16.5149666667 mins"
       ]
      },
      {
       "output_type": "stream",
       "stream": "stdout",
       "text": [
        "\r",
        "Reclassification 113 for data set 2.  Elapsed time: 16.7343500018 mins"
       ]
      },
      {
       "output_type": "stream",
       "stream": "stdout",
       "text": [
        "\r",
        "Reclassification 114 for data set 2.  Elapsed time: 16.9476166685 mins"
       ]
      },
      {
       "output_type": "stream",
       "stream": "stdout",
       "text": [
        "\r",
        "Reclassification 115 for data set 2.  Elapsed time: 17.1531000018 mins"
       ]
      },
      {
       "output_type": "stream",
       "stream": "stdout",
       "text": [
        "\r",
        "Reclassification 116 for data set 2.  Elapsed time: 17.3634000023 mins"
       ]
      },
      {
       "output_type": "stream",
       "stream": "stdout",
       "text": [
        "\r",
        "Reclassification 117 for data set 2.  Elapsed time: 17.5865833362 mins"
       ]
      },
      {
       "output_type": "stream",
       "stream": "stdout",
       "text": [
        "\r",
        "Reclassification 118 for data set 2.  Elapsed time: 17.8396000028 mins"
       ]
      },
      {
       "output_type": "stream",
       "stream": "stdout",
       "text": [
        "\r",
        "Reclassification 119 for data set 2.  Elapsed time: 18.1155833324 mins"
       ]
      },
      {
       "output_type": "stream",
       "stream": "stdout",
       "text": [
        "\r",
        "Reclassification 120 for data set 2.  Elapsed time: 18.3360166669 mins"
       ]
      },
      {
       "output_type": "stream",
       "stream": "stdout",
       "text": [
        "\r",
        "Reclassification 121 for data set 2.  Elapsed time: 18.563166666 mins"
       ]
      },
      {
       "output_type": "stream",
       "stream": "stdout",
       "text": [
        "\r",
        "Reclassification 79 for data set 3.  Elapsed time: 18.7922833323 mins"
       ]
      },
      {
       "output_type": "stream",
       "stream": "stdout",
       "text": [
        "\r",
        "Reclassification 82 for data set 3.  Elapsed time: 19.0514666677 mins"
       ]
      },
      {
       "output_type": "stream",
       "stream": "stdout",
       "text": [
        "\r",
        "Reclassification 83 for data set 3.  Elapsed time: 19.2703166684 mins"
       ]
      },
      {
       "output_type": "stream",
       "stream": "stdout",
       "text": [
        "\r",
        "Reclassification 84 for data set 3.  Elapsed time: 19.4909833352 mins"
       ]
      },
      {
       "output_type": "stream",
       "stream": "stdout",
       "text": [
        "\r",
        "Reclassification 85 for data set 3.  Elapsed time: 19.7188000003 mins"
       ]
      },
      {
       "output_type": "stream",
       "stream": "stdout",
       "text": [
        "\r",
        "Reclassification 86 for data set 3.  Elapsed time: 19.9461000005 mins"
       ]
      },
      {
       "output_type": "stream",
       "stream": "stdout",
       "text": [
        "\r",
        "Reclassification 87 for data set 3.  Elapsed time: 20.1684666673 mins"
       ]
      },
      {
       "output_type": "stream",
       "stream": "stdout",
       "text": [
        "\r",
        "Reclassification 88 for data set 3.  Elapsed time: 20.3868666689 mins"
       ]
      },
      {
       "output_type": "stream",
       "stream": "stdout",
       "text": [
        "\r",
        "Reclassification 89 for data set 3.  Elapsed time: 20.6054500024 mins"
       ]
      },
      {
       "output_type": "stream",
       "stream": "stdout",
       "text": [
        "\r",
        "Reclassification 90 for data set 3.  Elapsed time: 20.8235333323 mins"
       ]
      },
      {
       "output_type": "stream",
       "stream": "stdout",
       "text": [
        "\r",
        "Reclassification 91 for data set 3.  Elapsed time: 21.0483166695 mins"
       ]
      },
      {
       "output_type": "stream",
       "stream": "stdout",
       "text": [
        "\r",
        "Reclassification 92 for data set 3.  Elapsed time: 21.2882000009 mins"
       ]
      },
      {
       "output_type": "stream",
       "stream": "stdout",
       "text": [
        "\r",
        "Reclassification 93 for data set 3.  Elapsed time: 21.5015999993 mins"
       ]
      },
      {
       "output_type": "stream",
       "stream": "stdout",
       "text": [
        "\r",
        "Reclassification 94 for data set 3.  Elapsed time: 21.7285333355 mins"
       ]
      },
      {
       "output_type": "stream",
       "stream": "stdout",
       "text": [
        "\r",
        "Reclassification 95 for data set 3.  Elapsed time: 21.9662666678 mins"
       ]
      },
      {
       "output_type": "stream",
       "stream": "stdout",
       "text": [
        "\r",
        "Reclassification 96 for data set 3.  Elapsed time: 22.1968333324 mins"
       ]
      },
      {
       "output_type": "stream",
       "stream": "stdout",
       "text": [
        "\r",
        "Reclassification 97 for data set 3.  Elapsed time: 22.4197833339 mins"
       ]
      },
      {
       "output_type": "stream",
       "stream": "stdout",
       "text": [
        "\r",
        "Reclassification 98 for data set 3.  Elapsed time: 22.6440500021 mins"
       ]
      },
      {
       "output_type": "stream",
       "stream": "stdout",
       "text": [
        "\r",
        "Reclassification 99 for data set 3.  Elapsed time: 22.8617833336 mins"
       ]
      },
      {
       "output_type": "stream",
       "stream": "stdout",
       "text": [
        "\r",
        "Reclassification 100 for data set 3.  Elapsed time: 23.0736833334 mins"
       ]
      },
      {
       "output_type": "stream",
       "stream": "stdout",
       "text": [
        "\r",
        "Reclassification 101 for data set 3.  Elapsed time: 23.2830500007 mins"
       ]
      },
      {
       "output_type": "stream",
       "stream": "stdout",
       "text": [
        "\r",
        "Reclassification 102 for data set 3.  Elapsed time: 23.4946166674 mins"
       ]
      },
      {
       "output_type": "stream",
       "stream": "stdout",
       "text": [
        "\r",
        "Reclassification 103 for data set 3.  Elapsed time: 23.7069333355 mins"
       ]
      },
      {
       "output_type": "stream",
       "stream": "stdout",
       "text": [
        "\r",
        "Reclassification 104 for data set 3.  Elapsed time: 23.9252500017 mins"
       ]
      },
      {
       "output_type": "stream",
       "stream": "stdout",
       "text": [
        "\r",
        "Reclassification 105 for data set 3.  Elapsed time: 24.1362833341 mins"
       ]
      },
      {
       "output_type": "stream",
       "stream": "stdout",
       "text": [
        "\r",
        "Reclassification 106 for data set 3.  Elapsed time: 24.3475500027 mins"
       ]
      },
      {
       "output_type": "stream",
       "stream": "stdout",
       "text": [
        "\r",
        "Reclassification 107 for data set 3.  Elapsed time: 24.5604000012 mins"
       ]
      },
      {
       "output_type": "stream",
       "stream": "stdout",
       "text": [
        "\r",
        "Reclassification 108 for data set 3.  Elapsed time: 24.7717166662 mins"
       ]
      },
      {
       "output_type": "stream",
       "stream": "stdout",
       "text": [
        "\r",
        "Reclassification 109 for data set 3.  Elapsed time: 24.9859000007 mins"
       ]
      },
      {
       "output_type": "stream",
       "stream": "stdout",
       "text": [
        "\r",
        "Reclassification 110 for data set 3.  Elapsed time: 25.1979000012 mins"
       ]
      },
      {
       "output_type": "stream",
       "stream": "stdout",
       "text": [
        "\r",
        "Reclassification 111 for data set 3.  Elapsed time: 25.4109000007 mins"
       ]
      },
      {
       "output_type": "stream",
       "stream": "stdout",
       "text": [
        "\r",
        "Reclassification 112 for data set 3.  Elapsed time: 25.6229000012 mins"
       ]
      },
      {
       "output_type": "stream",
       "stream": "stdout",
       "text": [
        "\r",
        "Reclassification 113 for data set 3.  Elapsed time: 25.8390333335 mins"
       ]
      },
      {
       "output_type": "stream",
       "stream": "stdout",
       "text": [
        "\r",
        "Reclassification 114 for data set 3.  Elapsed time: 26.0555333336 mins"
       ]
      },
      {
       "output_type": "stream",
       "stream": "stdout",
       "text": [
        "\r",
        "Reclassification 115 for data set 3.  Elapsed time: 26.268900001 mins"
       ]
      },
      {
       "output_type": "stream",
       "stream": "stdout",
       "text": [
        "\r",
        "Reclassification 116 for data set 3.  Elapsed time: 26.479733336 mins"
       ]
      },
      {
       "output_type": "stream",
       "stream": "stdout",
       "text": [
        "\r",
        "Reclassification 117 for data set 3.  Elapsed time: 26.6940166672 mins"
       ]
      },
      {
       "output_type": "stream",
       "stream": "stdout",
       "text": [
        "\r",
        "Reclassification 118 for data set 3.  Elapsed time: 26.919266669 mins"
       ]
      },
      {
       "output_type": "stream",
       "stream": "stdout",
       "text": [
        "\r",
        "Reclassification 119 for data set 3.  Elapsed time: 27.1338666677 mins"
       ]
      },
      {
       "output_type": "stream",
       "stream": "stdout",
       "text": [
        "\r",
        "Reclassification 120 for data set 3.  Elapsed time: 27.3463666677 mins"
       ]
      },
      {
       "output_type": "stream",
       "stream": "stdout",
       "text": [
        "\r",
        "Reclassification 121 for data set 3.  Elapsed time: 27.5608333349 mins"
       ]
      },
      {
       "output_type": "stream",
       "stream": "stdout",
       "text": [
        "\r",
        "Reclassification 79 for data set 4.  Elapsed time: 27.7837500016 mins"
       ]
      },
      {
       "output_type": "stream",
       "stream": "stdout",
       "text": [
        "\r",
        "Reclassification 82 for data set 4.  Elapsed time: 28.0142333349 mins"
       ]
      },
      {
       "output_type": "stream",
       "stream": "stdout",
       "text": [
        "\r",
        "Reclassification 83 for data set 4.  Elapsed time: 28.2270666679 mins"
       ]
      },
      {
       "output_type": "stream",
       "stream": "stdout",
       "text": [
        "\r",
        "Reclassification 84 for data set 4.  Elapsed time: 28.4393333356 mins"
       ]
      },
      {
       "output_type": "stream",
       "stream": "stdout",
       "text": [
        "\r",
        "Reclassification 85 for data set 4.  Elapsed time: 28.6502500017 mins"
       ]
      },
      {
       "output_type": "stream",
       "stream": "stdout",
       "text": [
        "\r",
        "Reclassification 86 for data set 4.  Elapsed time: 28.8655166666 mins"
       ]
      },
      {
       "output_type": "stream",
       "stream": "stdout",
       "text": [
        "\r",
        "Reclassification 87 for data set 4.  Elapsed time: 29.0752166669 mins"
       ]
      },
      {
       "output_type": "stream",
       "stream": "stdout",
       "text": [
        "\r",
        "Reclassification 88 for data set 4.  Elapsed time: 29.2874166687 mins"
       ]
      },
      {
       "output_type": "stream",
       "stream": "stdout",
       "text": [
        "\r",
        "Reclassification 89 for data set 4.  Elapsed time: 29.4975333333 mins"
       ]
      },
      {
       "output_type": "stream",
       "stream": "stdout",
       "text": [
        "\r",
        "Reclassification 90 for data set 4.  Elapsed time: 29.707616667 mins"
       ]
      },
      {
       "output_type": "stream",
       "stream": "stdout",
       "text": [
        "\r",
        "Reclassification 91 for data set 4.  Elapsed time: 29.9225833337 mins"
       ]
      },
      {
       "output_type": "stream",
       "stream": "stdout",
       "text": [
        "\r",
        "Reclassification 92 for data set 4.  Elapsed time: 30.1314500014 mins"
       ]
      },
      {
       "output_type": "stream",
       "stream": "stdout",
       "text": [
        "\r",
        "Reclassification 93 for data set 4.  Elapsed time: 30.3405500015 mins"
       ]
      },
      {
       "output_type": "stream",
       "stream": "stdout",
       "text": [
        "\r",
        "Reclassification 94 for data set 4.  Elapsed time: 30.5514333328 mins"
       ]
      },
      {
       "output_type": "stream",
       "stream": "stdout",
       "text": [
        "\r",
        "Reclassification 95 for data set 4.  Elapsed time: 30.7617333333 mins"
       ]
      },
      {
       "output_type": "stream",
       "stream": "stdout",
       "text": [
        "\r",
        "Reclassification 96 for data set 4.  Elapsed time: 30.977183334 mins"
       ]
      },
      {
       "output_type": "stream",
       "stream": "stdout",
       "text": [
        "\r",
        "Reclassification 97 for data set 4.  Elapsed time: 31.186833334 mins"
       ]
      },
      {
       "output_type": "stream",
       "stream": "stdout",
       "text": [
        "\r",
        "Reclassification 98 for data set 4.  Elapsed time: 31.3960833351 mins"
       ]
      },
      {
       "output_type": "stream",
       "stream": "stdout",
       "text": [
        "\r",
        "Reclassification 99 for data set 4.  Elapsed time: 31.606066668 mins"
       ]
      },
      {
       "output_type": "stream",
       "stream": "stdout",
       "text": [
        "\r",
        "Reclassification 100 for data set 4.  Elapsed time: 31.8163000027 mins"
       ]
      },
      {
       "output_type": "stream",
       "stream": "stdout",
       "text": [
        "\r",
        "Reclassification 101 for data set 4.  Elapsed time: 32.0323166688 mins"
       ]
      },
      {
       "output_type": "stream",
       "stream": "stdout",
       "text": [
        "\r",
        "Reclassification 102 for data set 4.  Elapsed time: 32.2408499996 mins"
       ]
      },
      {
       "output_type": "stream",
       "stream": "stdout",
       "text": [
        "\r",
        "Reclassification 103 for data set 4.  Elapsed time: 32.4513833324 mins"
       ]
      },
      {
       "output_type": "stream",
       "stream": "stdout",
       "text": [
        "\r",
        "Reclassification 104 for data set 4.  Elapsed time: 32.667233336 mins"
       ]
      },
      {
       "output_type": "stream",
       "stream": "stdout",
       "text": [
        "\r",
        "Reclassification 105 for data set 4.  Elapsed time: 32.9114333351 mins"
       ]
      },
      {
       "output_type": "stream",
       "stream": "stdout",
       "text": [
        "\r",
        "Reclassification 106 for data set 4.  Elapsed time: 33.179733336 mins"
       ]
      },
      {
       "output_type": "stream",
       "stream": "stdout",
       "text": [
        "\r",
        "Reclassification 107 for data set 4.  Elapsed time: 33.4386333346 mins"
       ]
      },
      {
       "output_type": "stream",
       "stream": "stdout",
       "text": [
        "\r",
        "Reclassification 108 for data set 4.  Elapsed time: 33.6735166669 mins"
       ]
      },
      {
       "output_type": "stream",
       "stream": "stdout",
       "text": [
        "\r",
        "Reclassification 109 for data set 4.  Elapsed time: 33.8865833362 mins"
       ]
      },
      {
       "output_type": "stream",
       "stream": "stdout",
       "text": [
        "\r",
        "Reclassification 110 for data set 4.  Elapsed time: 34.0973500013 mins"
       ]
      },
      {
       "output_type": "stream",
       "stream": "stdout",
       "text": [
        "\r",
        "Reclassification 111 for data set 4.  Elapsed time: 34.3074833353 mins"
       ]
      },
      {
       "output_type": "stream",
       "stream": "stdout",
       "text": [
        "\r",
        "Reclassification 112 for data set 4.  Elapsed time: 34.5171666662 mins"
       ]
      },
      {
       "output_type": "stream",
       "stream": "stdout",
       "text": [
        "\r",
        "Reclassification 113 for data set 4.  Elapsed time: 34.729400003 mins"
       ]
      },
      {
       "output_type": "stream",
       "stream": "stdout",
       "text": [
        "\r",
        "Reclassification 114 for data set 4.  Elapsed time: 34.9441666683 mins"
       ]
      },
      {
       "output_type": "stream",
       "stream": "stdout",
       "text": [
        "\r",
        "Reclassification 115 for data set 4.  Elapsed time: 35.1538333337 mins"
       ]
      },
      {
       "output_type": "stream",
       "stream": "stdout",
       "text": [
        "\r",
        "Reclassification 116 for data set 4.  Elapsed time: 35.3649166663 mins"
       ]
      },
      {
       "output_type": "stream",
       "stream": "stdout",
       "text": [
        "\r",
        "Reclassification 117 for data set 4.  Elapsed time: 35.5768000007 mins"
       ]
      },
      {
       "output_type": "stream",
       "stream": "stdout",
       "text": [
        "\r",
        "Reclassification 118 for data set 4.  Elapsed time: 35.7881333351 mins"
       ]
      },
      {
       "output_type": "stream",
       "stream": "stdout",
       "text": [
        "\r",
        "Reclassification 119 for data set 4.  Elapsed time: 36.0063500007 mins"
       ]
      },
      {
       "output_type": "stream",
       "stream": "stdout",
       "text": [
        "\r",
        "Reclassification 120 for data set 4.  Elapsed time: 36.216533335 mins"
       ]
      },
      {
       "output_type": "stream",
       "stream": "stdout",
       "text": [
        "\r",
        "Reclassification 121 for data set 4.  Elapsed time: 36.4287500024 mins"
       ]
      },
      {
       "output_type": "stream",
       "stream": "stdout",
       "text": [
        "\r",
        "Reclassification 79 for data set 5.  Elapsed time: 36.6402999997 mins"
       ]
      },
      {
       "output_type": "stream",
       "stream": "stdout",
       "text": [
        "\r",
        "Reclassification 82 for data set 5.  Elapsed time: 36.8764333328 mins"
       ]
      },
      {
       "output_type": "stream",
       "stream": "stdout",
       "text": [
        "\r",
        "Reclassification 83 for data set 5.  Elapsed time: 37.096966668 mins"
       ]
      },
      {
       "output_type": "stream",
       "stream": "stdout",
       "text": [
        "\r",
        "Reclassification 84 for data set 5.  Elapsed time: 37.3135999997 mins"
       ]
      },
      {
       "output_type": "stream",
       "stream": "stdout",
       "text": [
        "\r",
        "Reclassification 85 for data set 5.  Elapsed time: 37.5294166684 mins"
       ]
      },
      {
       "output_type": "stream",
       "stream": "stdout",
       "text": [
        "\r",
        "Reclassification 86 for data set 5.  Elapsed time: 37.7473833362 mins"
       ]
      },
      {
       "output_type": "stream",
       "stream": "stdout",
       "text": [
        "\r",
        "Reclassification 87 for data set 5.  Elapsed time: 37.9717166662 mins"
       ]
      },
      {
       "output_type": "stream",
       "stream": "stdout",
       "text": [
        "\r",
        "Reclassification 88 for data set 5.  Elapsed time: 38.1899666667 mins"
       ]
      },
      {
       "output_type": "stream",
       "stream": "stdout",
       "text": [
        "\r",
        "Reclassification 89 for data set 5.  Elapsed time: 38.5509166678 mins"
       ]
      },
      {
       "output_type": "stream",
       "stream": "stdout",
       "text": [
        "\r",
        "Reclassification 90 for data set 5.  Elapsed time: 38.8787833333 mins"
       ]
      },
      {
       "output_type": "stream",
       "stream": "stdout",
       "text": [
        "\r",
        "Reclassification 91 for data set 5.  Elapsed time: 39.1591833353 mins"
       ]
      },
      {
       "output_type": "stream",
       "stream": "stdout",
       "text": [
        "\r",
        "Reclassification 92 for data set 5.  Elapsed time: 39.4698499997 mins"
       ]
      },
      {
       "output_type": "stream",
       "stream": "stdout",
       "text": [
        "\r",
        "Reclassification 93 for data set 5.  Elapsed time: 39.7463833332 mins"
       ]
      },
      {
       "output_type": "stream",
       "stream": "stdout",
       "text": [
        "\r",
        "Reclassification 94 for data set 5.  Elapsed time: 39.9811833342 mins"
       ]
      },
      {
       "output_type": "stream",
       "stream": "stdout",
       "text": [
        "\r",
        "Reclassification 95 for data set 5.  Elapsed time: 40.2035666664 mins"
       ]
      },
      {
       "output_type": "stream",
       "stream": "stdout",
       "text": [
        "\r",
        "Reclassification 96 for data set 5.  Elapsed time: 40.4303666671 mins"
       ]
      },
      {
       "output_type": "stream",
       "stream": "stdout",
       "text": [
        "\r",
        "Reclassification 97 for data set 5.  Elapsed time: 40.652366666 mins"
       ]
      },
      {
       "output_type": "stream",
       "stream": "stdout",
       "text": [
        "\r",
        "Reclassification 98 for data set 5.  Elapsed time: 40.8874666691 mins"
       ]
      },
      {
       "output_type": "stream",
       "stream": "stdout",
       "text": [
        "\r",
        "Reclassification 99 for data set 5.  Elapsed time: 41.1065500021 mins"
       ]
      },
      {
       "output_type": "stream",
       "stream": "stdout",
       "text": [
        "\r",
        "Reclassification 100 for data set 5.  Elapsed time: 41.3282500029 mins"
       ]
      },
      {
       "output_type": "stream",
       "stream": "stdout",
       "text": [
        "\r",
        "Reclassification 101 for data set 5.  Elapsed time: 41.545933334 mins"
       ]
      },
      {
       "output_type": "stream",
       "stream": "stdout",
       "text": [
        "\r",
        "Reclassification 102 for data set 5.  Elapsed time: 41.7628666679 mins"
       ]
      },
      {
       "output_type": "stream",
       "stream": "stdout",
       "text": [
        "\r",
        "Reclassification 103 for data set 5.  Elapsed time: 41.9865500013 mins"
       ]
      },
      {
       "output_type": "stream",
       "stream": "stdout",
       "text": [
        "\r",
        "Reclassification 104 for data set 5.  Elapsed time: 42.2056666692 mins"
       ]
      },
      {
       "output_type": "stream",
       "stream": "stdout",
       "text": [
        "\r",
        "Reclassification 105 for data set 5.  Elapsed time: 42.4252166669 mins"
       ]
      },
      {
       "output_type": "stream",
       "stream": "stdout",
       "text": [
        "\r",
        "Reclassification 106 for data set 5.  Elapsed time: 42.6423166672 mins"
       ]
      },
      {
       "output_type": "stream",
       "stream": "stdout",
       "text": [
        "\r",
        "Reclassification 107 for data set 5.  Elapsed time: 42.8680499991 mins"
       ]
      },
      {
       "output_type": "stream",
       "stream": "stdout",
       "text": [
        "\r",
        "Reclassification 108 for data set 5.  Elapsed time: 43.0862666686 mins"
       ]
      },
      {
       "output_type": "stream",
       "stream": "stdout",
       "text": [
        "\r",
        "Reclassification 109 for data set 5.  Elapsed time: 43.3046333353 mins"
       ]
      },
      {
       "output_type": "stream",
       "stream": "stdout",
       "text": [
        "\r",
        "Reclassification 110 for data set 5.  Elapsed time: 43.5391166687 mins"
       ]
      },
      {
       "output_type": "stream",
       "stream": "stdout",
       "text": [
        "\r",
        "Reclassification 111 for data set 5.  Elapsed time: 43.7661833326 mins"
       ]
      },
      {
       "output_type": "stream",
       "stream": "stdout",
       "text": [
        "\r",
        "Reclassification 112 for data set 5.  Elapsed time: 43.9899833361 mins"
       ]
      },
      {
       "output_type": "stream",
       "stream": "stdout",
       "text": [
        "\r",
        "Reclassification 113 for data set 5.  Elapsed time: 44.2086666663 mins"
       ]
      },
      {
       "output_type": "stream",
       "stream": "stdout",
       "text": [
        "\r",
        "Reclassification 114 for data set 5.  Elapsed time: 44.4238666693 mins"
       ]
      },
      {
       "output_type": "stream",
       "stream": "stdout",
       "text": [
        "\r",
        "Reclassification 115 for data set 5.  Elapsed time: 44.6443166693 mins"
       ]
      },
      {
       "output_type": "stream",
       "stream": "stdout",
       "text": [
        "\r",
        "Reclassification 116 for data set 5.  Elapsed time: 44.878700002 mins"
       ]
      },
      {
       "output_type": "stream",
       "stream": "stdout",
       "text": [
        "\r",
        "Reclassification 117 for data set 5.  Elapsed time: 45.1213000019 mins"
       ]
      },
      {
       "output_type": "stream",
       "stream": "stdout",
       "text": [
        "\r",
        "Reclassification 118 for data set 5.  Elapsed time: 45.3392666658 mins"
       ]
      },
      {
       "output_type": "stream",
       "stream": "stdout",
       "text": [
        "\r",
        "Reclassification 119 for data set 5.  Elapsed time: 45.5678333362 mins"
       ]
      },
      {
       "output_type": "stream",
       "stream": "stdout",
       "text": [
        "\r",
        "Reclassification 120 for data set 5.  Elapsed time: 45.8000166694 mins"
       ]
      },
      {
       "output_type": "stream",
       "stream": "stdout",
       "text": [
        "\r",
        "Reclassification 121 for data set 5.  Elapsed time: 46.0350666682 mins"
       ]
      },
      {
       "output_type": "stream",
       "stream": "stdout",
       "text": [
        "\r",
        "Reclassification 79 for data set 6.  Elapsed time: 46.2631500006 mins"
       ]
      },
      {
       "output_type": "stream",
       "stream": "stdout",
       "text": [
        "\r",
        "Reclassification 82 for data set 6.  Elapsed time: 46.4975833337 mins"
       ]
      },
      {
       "output_type": "stream",
       "stream": "stdout",
       "text": [
        "\r",
        "Reclassification 83 for data set 6.  Elapsed time: 46.7159166694 mins"
       ]
      },
      {
       "output_type": "stream",
       "stream": "stdout",
       "text": [
        "\r",
        "Reclassification 84 for data set 6.  Elapsed time: 46.9336000005 mins"
       ]
      },
      {
       "output_type": "stream",
       "stream": "stdout",
       "text": [
        "\r",
        "Reclassification 85 for data set 6.  Elapsed time: 47.1436166684 mins"
       ]
      },
      {
       "output_type": "stream",
       "stream": "stdout",
       "text": [
        "\r",
        "Reclassification 86 for data set 6.  Elapsed time: 47.3518666665 mins"
       ]
      },
      {
       "output_type": "stream",
       "stream": "stdout",
       "text": [
        "\r",
        "Reclassification 87 for data set 6.  Elapsed time: 47.562650001 mins"
       ]
      },
      {
       "output_type": "stream",
       "stream": "stdout",
       "text": [
        "\r",
        "Reclassification 88 for data set 6.  Elapsed time: 47.7730166674 mins"
       ]
      },
      {
       "output_type": "stream",
       "stream": "stdout",
       "text": [
        "\r",
        "Reclassification 89 for data set 6.  Elapsed time: 47.9945833325 mins"
       ]
      },
      {
       "output_type": "stream",
       "stream": "stdout",
       "text": [
        "\r",
        "Reclassification 90 for data set 6.  Elapsed time: 48.2145166675 mins"
       ]
      },
      {
       "output_type": "stream",
       "stream": "stdout",
       "text": [
        "\r",
        "Reclassification 91 for data set 6.  Elapsed time: 48.4270000021 mins"
       ]
      },
      {
       "output_type": "stream",
       "stream": "stdout",
       "text": [
        "\r",
        "Reclassification 92 for data set 6.  Elapsed time: 48.635466667 mins"
       ]
      },
      {
       "output_type": "stream",
       "stream": "stdout",
       "text": [
        "\r",
        "Reclassification 93 for data set 6.  Elapsed time: 48.8474000017 mins"
       ]
      },
      {
       "output_type": "stream",
       "stream": "stdout",
       "text": [
        "\r",
        "Reclassification 94 for data set 6.  Elapsed time: 49.0797833323 mins"
       ]
      },
      {
       "output_type": "stream",
       "stream": "stdout",
       "text": [
        "\r",
        "Reclassification 95 for data set 6.  Elapsed time: 49.393900001 mins"
       ]
      },
      {
       "output_type": "stream",
       "stream": "stdout",
       "text": [
        "\r",
        "Reclassification 96 for data set 6.  Elapsed time: 49.6933833361 mins"
       ]
      },
      {
       "output_type": "stream",
       "stream": "stdout",
       "text": [
        "\r",
        "Reclassification 97 for data set 6.  Elapsed time: 49.9546666662 mins"
       ]
      },
      {
       "output_type": "stream",
       "stream": "stdout",
       "text": [
        "\r",
        "Reclassification 98 for data set 6.  Elapsed time: 50.1945333362 mins"
       ]
      },
      {
       "output_type": "stream",
       "stream": "stdout",
       "text": [
        "\r",
        "Reclassification 99 for data set 6.  Elapsed time: 50.4461666663 mins"
       ]
      },
      {
       "output_type": "stream",
       "stream": "stdout",
       "text": [
        "\r",
        "Reclassification 100 for data set 6.  Elapsed time: 50.7049666683 mins"
       ]
      },
      {
       "output_type": "stream",
       "stream": "stdout",
       "text": [
        "\r",
        "Reclassification 101 for data set 6.  Elapsed time: 50.9755499999 mins"
       ]
      },
      {
       "output_type": "stream",
       "stream": "stdout",
       "text": [
        "\r",
        "Reclassification 102 for data set 6.  Elapsed time: 51.2453000029 mins"
       ]
      },
      {
       "output_type": "stream",
       "stream": "stdout",
       "text": [
        "\r",
        "Reclassification 103 for data set 6.  Elapsed time: 51.5132666667 mins"
       ]
      },
      {
       "output_type": "stream",
       "stream": "stdout",
       "text": [
        "\r",
        "Reclassification 104 for data set 6.  Elapsed time: 51.7520000021 mins"
       ]
      },
      {
       "output_type": "stream",
       "stream": "stdout",
       "text": [
        "\r",
        "Reclassification 105 for data set 6.  Elapsed time: 51.9929666678 mins"
       ]
      },
      {
       "output_type": "stream",
       "stream": "stdout",
       "text": [
        "\r",
        "Reclassification 106 for data set 6.  Elapsed time: 52.2180499991 mins"
       ]
      },
      {
       "output_type": "stream",
       "stream": "stdout",
       "text": [
        "\r",
        "Reclassification 107 for data set 6.  Elapsed time: 52.4413999995 mins"
       ]
      },
      {
       "output_type": "stream",
       "stream": "stdout",
       "text": [
        "\r",
        "Reclassification 108 for data set 6.  Elapsed time: 52.6598500013 mins"
       ]
      },
      {
       "output_type": "stream",
       "stream": "stdout",
       "text": [
        "\r",
        "Reclassification 109 for data set 6.  Elapsed time: 52.8842166662 mins"
       ]
      },
      {
       "output_type": "stream",
       "stream": "stdout",
       "text": [
        "\r",
        "Reclassification 110 for data set 6.  Elapsed time: 53.1006166657 mins"
       ]
      },
      {
       "output_type": "stream",
       "stream": "stdout",
       "text": [
        "\r",
        "Reclassification 111 for data set 6.  Elapsed time: 53.3178666671 mins"
       ]
      },
      {
       "output_type": "stream",
       "stream": "stdout",
       "text": [
        "\r",
        "Reclassification 112 for data set 6.  Elapsed time: 53.5382000009 mins"
       ]
      },
      {
       "output_type": "stream",
       "stream": "stdout",
       "text": [
        "\r",
        "Reclassification 113 for data set 6.  Elapsed time: 53.7543833335 mins"
       ]
      },
      {
       "output_type": "stream",
       "stream": "stdout",
       "text": [
        "\r",
        "Reclassification 114 for data set 6.  Elapsed time: 53.9767833352 mins"
       ]
      },
      {
       "output_type": "stream",
       "stream": "stdout",
       "text": [
        "\r",
        "Reclassification 115 for data set 6.  Elapsed time: 54.193233335 mins"
       ]
      },
      {
       "output_type": "stream",
       "stream": "stdout",
       "text": [
        "\r",
        "Reclassification 116 for data set 6.  Elapsed time: 54.4089666684 mins"
       ]
      },
      {
       "output_type": "stream",
       "stream": "stdout",
       "text": [
        "\r",
        "Reclassification 117 for data set 6.  Elapsed time: 54.6274500012 mins"
       ]
      },
      {
       "output_type": "stream",
       "stream": "stdout",
       "text": [
        "\r",
        "Reclassification 118 for data set 6.  Elapsed time: 54.85455 mins"
       ]
      },
      {
       "output_type": "stream",
       "stream": "stdout",
       "text": [
        "\r",
        "Reclassification 119 for data set 6.  Elapsed time: 55.068900001 mins"
       ]
      },
      {
       "output_type": "stream",
       "stream": "stdout",
       "text": [
        "\r",
        "Reclassification 120 for data set 6.  Elapsed time: 55.2832500021 mins"
       ]
      },
      {
       "output_type": "stream",
       "stream": "stdout",
       "text": [
        "\r",
        "Reclassification 121 for data set 6.  Elapsed time: 55.4971499999 mins"
       ]
      },
      {
       "output_type": "stream",
       "stream": "stdout",
       "text": [
        "\r",
        "Reclassification 79 for data set 7.  Elapsed time: 55.7092166662 mins"
       ]
      },
      {
       "output_type": "stream",
       "stream": "stdout",
       "text": [
        "\r",
        "Reclassification 82 for data set 7.  Elapsed time: 55.9644166668 mins"
       ]
      },
      {
       "output_type": "stream",
       "stream": "stdout",
       "text": [
        "\r",
        "Reclassification 83 for data set 7.  Elapsed time: 56.2053166668 mins"
       ]
      },
      {
       "output_type": "stream",
       "stream": "stdout",
       "text": [
        "\r",
        "Reclassification 84 for data set 7.  Elapsed time: 56.4550166686 mins"
       ]
      },
      {
       "output_type": "stream",
       "stream": "stdout",
       "text": [
        "\r",
        "Reclassification 85 for data set 7.  Elapsed time: 56.6771333337 mins"
       ]
      },
      {
       "output_type": "stream",
       "stream": "stdout",
       "text": [
        "\r",
        "Reclassification 86 for data set 7.  Elapsed time: 56.9827166677 mins"
       ]
      },
      {
       "output_type": "stream",
       "stream": "stdout",
       "text": [
        "\r",
        "Reclassification 87 for data set 7.  Elapsed time: 57.3009500027 mins"
       ]
      },
      {
       "output_type": "stream",
       "stream": "stdout",
       "text": [
        "\r",
        "Reclassification 88 for data set 7.  Elapsed time: 57.5424000025 mins"
       ]
      },
      {
       "output_type": "stream",
       "stream": "stdout",
       "text": [
        "\r",
        "Reclassification 89 for data set 7.  Elapsed time: 57.7628666679 mins"
       ]
      },
      {
       "output_type": "stream",
       "stream": "stdout",
       "text": [
        "\r",
        "Reclassification 90 for data set 7.  Elapsed time: 57.9804166675 mins"
       ]
      },
      {
       "output_type": "stream",
       "stream": "stdout",
       "text": [
        "\r",
        "Reclassification 91 for data set 7.  Elapsed time: 58.1949500004 mins"
       ]
      },
      {
       "output_type": "stream",
       "stream": "stdout",
       "text": [
        "\r",
        "Reclassification 92 for data set 7.  Elapsed time: 58.4049833337 mins"
       ]
      },
      {
       "output_type": "stream",
       "stream": "stdout",
       "text": [
        "\r",
        "Reclassification 93 for data set 7.  Elapsed time: 58.6155833324 mins"
       ]
      },
      {
       "output_type": "stream",
       "stream": "stdout",
       "text": [
        "\r",
        "Reclassification 94 for data set 7.  Elapsed time: 58.8282000025 mins"
       ]
      },
      {
       "output_type": "stream",
       "stream": "stdout",
       "text": [
        "\r",
        "Reclassification 95 for data set 7.  Elapsed time: 59.0423166672 mins"
       ]
      },
      {
       "output_type": "stream",
       "stream": "stdout",
       "text": [
        "\r",
        "Reclassification 96 for data set 7.  Elapsed time: 59.2512000004 mins"
       ]
      },
      {
       "output_type": "stream",
       "stream": "stdout",
       "text": [
        "\r",
        "Reclassification 97 for data set 7.  Elapsed time: 59.4601166685 mins"
       ]
      },
      {
       "output_type": "stream",
       "stream": "stdout",
       "text": [
        "\r",
        "Reclassification 98 for data set 7.  Elapsed time: 59.6674000025 mins"
       ]
      },
      {
       "output_type": "stream",
       "stream": "stdout",
       "text": [
        "\r",
        "Reclassification 99 for data set 7.  Elapsed time: 59.8807500005 mins"
       ]
      },
      {
       "output_type": "stream",
       "stream": "stdout",
       "text": [
        "\r",
        "Reclassification 100 for data set 7.  Elapsed time: 60.0878500024 mins"
       ]
      },
      {
       "output_type": "stream",
       "stream": "stdout",
       "text": [
        "\r",
        "Reclassification 101 for data set 7.  Elapsed time: 60.2955833356 mins"
       ]
      },
      {
       "output_type": "stream",
       "stream": "stdout",
       "text": [
        "\r",
        "Reclassification 102 for data set 7.  Elapsed time: 60.5033833345 mins"
       ]
      },
      {
       "output_type": "stream",
       "stream": "stdout",
       "text": [
        "\r",
        "Reclassification 103 for data set 7.  Elapsed time: 60.7112833341 mins"
       ]
      },
      {
       "output_type": "stream",
       "stream": "stdout",
       "text": [
        "\r",
        "Reclassification 104 for data set 7.  Elapsed time: 60.9237499992 mins"
       ]
      },
      {
       "output_type": "stream",
       "stream": "stdout",
       "text": [
        "\r",
        "Reclassification 105 for data set 7.  Elapsed time: 61.1304166675 mins"
       ]
      },
      {
       "output_type": "stream",
       "stream": "stdout",
       "text": [
        "\r",
        "Reclassification 106 for data set 7.  Elapsed time: 61.3373000026 mins"
       ]
      },
      {
       "output_type": "stream",
       "stream": "stdout",
       "text": [
        "\r",
        "Reclassification 107 for data set 7.  Elapsed time: 61.548816669 mins"
       ]
      },
      {
       "output_type": "stream",
       "stream": "stdout",
       "text": [
        "\r",
        "Reclassification 108 for data set 7.  Elapsed time: 61.7551666657 mins"
       ]
      },
      {
       "output_type": "stream",
       "stream": "stdout",
       "text": [
        "\r",
        "Reclassification 109 for data set 7.  Elapsed time: 61.9660666664 mins"
       ]
      },
      {
       "output_type": "stream",
       "stream": "stdout",
       "text": [
        "\r",
        "Reclassification 110 for data set 7.  Elapsed time: 62.1718000015 mins"
       ]
      },
      {
       "output_type": "stream",
       "stream": "stdout",
       "text": [
        "\r",
        "Reclassification 111 for data set 7.  Elapsed time: 62.3776166677 mins"
       ]
      },
      {
       "output_type": "stream",
       "stream": "stdout",
       "text": [
        "\r",
        "Reclassification 112 for data set 7.  Elapsed time: 62.5848166664 mins"
       ]
      },
      {
       "output_type": "stream",
       "stream": "stdout",
       "text": [
        "\r",
        "Reclassification 113 for data set 7.  Elapsed time: 62.7901666681 mins"
       ]
      },
      {
       "output_type": "stream",
       "stream": "stdout",
       "text": [
        "\r",
        "Reclassification 114 for data set 7.  Elapsed time: 63.0031166673 mins"
       ]
      },
      {
       "output_type": "stream",
       "stream": "stdout",
       "text": [
        "\r",
        "Reclassification 115 for data set 7.  Elapsed time: 63.2115666668 mins"
       ]
      },
      {
       "output_type": "stream",
       "stream": "stdout",
       "text": [
        "\r",
        "Reclassification 116 for data set 7.  Elapsed time: 63.4186999997 mins"
       ]
      },
      {
       "output_type": "stream",
       "stream": "stdout",
       "text": [
        "\r",
        "Reclassification 117 for data set 7.  Elapsed time: 63.6252000014 mins"
       ]
      },
      {
       "output_type": "stream",
       "stream": "stdout",
       "text": [
        "\r",
        "Reclassification 118 for data set 7.  Elapsed time: 63.845116667 mins"
       ]
      },
      {
       "output_type": "stream",
       "stream": "stdout",
       "text": [
        "\r",
        "Reclassification 119 for data set 7.  Elapsed time: 64.0583833337 mins"
       ]
      },
      {
       "output_type": "stream",
       "stream": "stdout",
       "text": [
        "\r",
        "Reclassification 120 for data set 7.  Elapsed time: 64.2637666663 mins"
       ]
      },
      {
       "output_type": "stream",
       "stream": "stdout",
       "text": [
        "\r",
        "Reclassification 121 for data set 7.  Elapsed time: 64.4777833343 mins"
       ]
      },
      {
       "output_type": "stream",
       "stream": "stdout",
       "text": [
        "\r",
        "Reclassification 79 for data set 8.  Elapsed time: 64.6847666661 mins"
       ]
      },
      {
       "output_type": "stream",
       "stream": "stdout",
       "text": [
        "\r",
        "Reclassification 82 for data set 8.  Elapsed time: 64.9105833332 mins"
       ]
      },
      {
       "output_type": "stream",
       "stream": "stdout",
       "text": [
        "\r",
        "Reclassification 83 for data set 8.  Elapsed time: 65.1225500027 mins"
       ]
      },
      {
       "output_type": "stream",
       "stream": "stdout",
       "text": [
        "\r",
        "Reclassification 84 for data set 8.  Elapsed time: 65.3342333357 mins"
       ]
      },
      {
       "output_type": "stream",
       "stream": "stdout",
       "text": [
        "\r",
        "Reclassification 85 for data set 8.  Elapsed time: 65.5459166686 mins"
       ]
      },
      {
       "output_type": "stream",
       "stream": "stdout",
       "text": [
        "\r",
        "Reclassification 86 for data set 8.  Elapsed time: 65.7582333326 mins"
       ]
      },
      {
       "output_type": "stream",
       "stream": "stdout",
       "text": [
        "\r",
        "Reclassification 87 for data set 8.  Elapsed time: 65.9740333358 mins"
       ]
      },
      {
       "output_type": "stream",
       "stream": "stdout",
       "text": [
        "\r",
        "Reclassification 88 for data set 8.  Elapsed time: 66.1854000012 mins"
       ]
      },
      {
       "output_type": "stream",
       "stream": "stdout",
       "text": [
        "\r",
        "Reclassification 89 for data set 8.  Elapsed time: 66.399816668 mins"
       ]
      },
      {
       "output_type": "stream",
       "stream": "stdout",
       "text": [
        "\r",
        "Reclassification 90 for data set 8.  Elapsed time: 66.6172166665 mins"
       ]
      },
      {
       "output_type": "stream",
       "stream": "stdout",
       "text": [
        "\r",
        "Reclassification 91 for data set 8.  Elapsed time: 66.8315333327 mins"
       ]
      },
      {
       "output_type": "stream",
       "stream": "stdout",
       "text": [
        "\r",
        "Reclassification 92 for data set 8.  Elapsed time: 67.0491333326 mins"
       ]
      },
      {
       "output_type": "stream",
       "stream": "stdout",
       "text": [
        "\r",
        "Reclassification 93 for data set 8.  Elapsed time: 67.2611000021 mins"
       ]
      },
      {
       "output_type": "stream",
       "stream": "stdout",
       "text": [
        "\r",
        "Reclassification 94 for data set 8.  Elapsed time: 67.4799333334 mins"
       ]
      },
      {
       "output_type": "stream",
       "stream": "stdout",
       "text": [
        "\r",
        "Reclassification 95 for data set 8.  Elapsed time: 67.7888000011 mins"
       ]
      },
      {
       "output_type": "stream",
       "stream": "stdout",
       "text": [
        "\r",
        "Reclassification 96 for data set 8.  Elapsed time: 68.0547666669 mins"
       ]
      },
      {
       "output_type": "stream",
       "stream": "stdout",
       "text": [
        "\r",
        "Reclassification 97 for data set 8.  Elapsed time: 68.3266833345 mins"
       ]
      },
      {
       "output_type": "stream",
       "stream": "stdout",
       "text": [
        "\r",
        "Reclassification 98 for data set 8.  Elapsed time: 68.5714166681 mins"
       ]
      },
      {
       "output_type": "stream",
       "stream": "stdout",
       "text": [
        "\r",
        "Reclassification 99 for data set 8.  Elapsed time: 68.7954666694 mins"
       ]
      },
      {
       "output_type": "stream",
       "stream": "stdout",
       "text": [
        "\r",
        "Reclassification 100 for data set 8.  Elapsed time: 69.0330500007 mins"
       ]
      },
      {
       "output_type": "stream",
       "stream": "stdout",
       "text": [
        "\r",
        "Reclassification 101 for data set 8.  Elapsed time: 69.2721499999 mins"
       ]
      },
      {
       "output_type": "stream",
       "stream": "stdout",
       "text": [
        "\r",
        "Reclassification 102 for data set 8.  Elapsed time: 69.5068833351 mins"
       ]
      },
      {
       "output_type": "stream",
       "stream": "stdout",
       "text": [
        "\r",
        "Reclassification 103 for data set 8.  Elapsed time: 69.7339166681 mins"
       ]
      },
      {
       "output_type": "stream",
       "stream": "stdout",
       "text": [
        "\r",
        "Reclassification 104 for data set 8.  Elapsed time: 69.9650333325 mins"
       ]
      },
      {
       "output_type": "stream",
       "stream": "stdout",
       "text": [
        "\r",
        "Reclassification 105 for data set 8.  Elapsed time: 70.191200002 mins"
       ]
      },
      {
       "output_type": "stream",
       "stream": "stdout",
       "text": [
        "\r",
        "Reclassification 106 for data set 8.  Elapsed time: 70.4153500001 mins"
       ]
      },
      {
       "output_type": "stream",
       "stream": "stdout",
       "text": [
        "\r",
        "Reclassification 107 for data set 8.  Elapsed time: 70.6363333344 mins"
       ]
      },
      {
       "output_type": "stream",
       "stream": "stdout",
       "text": [
        "\r",
        "Reclassification 108 for data set 8.  Elapsed time: 70.8722833355 mins"
       ]
      },
      {
       "output_type": "stream",
       "stream": "stdout",
       "text": [
        "\r",
        "Reclassification 109 for data set 8.  Elapsed time: 71.1026666681 mins"
       ]
      },
      {
       "output_type": "stream",
       "stream": "stdout",
       "text": [
        "\r",
        "Reclassification 110 for data set 8.  Elapsed time: 71.3386166692 mins"
       ]
      },
      {
       "output_type": "stream",
       "stream": "stdout",
       "text": [
        "\r",
        "Reclassification 111 for data set 8.  Elapsed time: 71.5690500021 mins"
       ]
      },
      {
       "output_type": "stream",
       "stream": "stdout",
       "text": [
        "\r",
        "Reclassification 112 for data set 8.  Elapsed time: 71.8016666691 mins"
       ]
      },
      {
       "output_type": "stream",
       "stream": "stdout",
       "text": [
        "\r",
        "Reclassification 113 for data set 8.  Elapsed time: 72.0317333341 mins"
       ]
      },
      {
       "output_type": "stream",
       "stream": "stdout",
       "text": [
        "\r",
        "Reclassification 114 for data set 8.  Elapsed time: 72.2531666676 mins"
       ]
      },
      {
       "output_type": "stream",
       "stream": "stdout",
       "text": [
        "\r",
        "Reclassification 115 for data set 8.  Elapsed time: 72.4852166692 mins"
       ]
      },
      {
       "output_type": "stream",
       "stream": "stdout",
       "text": [
        "\r",
        "Reclassification 116 for data set 8.  Elapsed time: 72.7112833341 mins"
       ]
      },
      {
       "output_type": "stream",
       "stream": "stdout",
       "text": [
        "\r",
        "Reclassification 117 for data set 8.  Elapsed time: 72.9491833329 mins"
       ]
      },
      {
       "output_type": "stream",
       "stream": "stdout",
       "text": [
        "\r",
        "Reclassification 118 for data set 8.  Elapsed time: 73.1856666684 mins"
       ]
      },
      {
       "output_type": "stream",
       "stream": "stdout",
       "text": [
        "\r",
        "Reclassification 119 for data set 8.  Elapsed time: 73.4507333358 mins"
       ]
      },
      {
       "output_type": "stream",
       "stream": "stdout",
       "text": [
        "\r",
        "Reclassification 120 for data set 8.  Elapsed time: 73.6960500002 mins"
       ]
      },
      {
       "output_type": "stream",
       "stream": "stdout",
       "text": [
        "\r",
        "Reclassification 121 for data set 8.  Elapsed time: 73.9197999994 mins"
       ]
      },
      {
       "output_type": "stream",
       "stream": "stdout",
       "text": [
        "\r",
        "Reclassification 79 for data set 9.  Elapsed time: 74.1366166671 mins"
       ]
      },
      {
       "output_type": "stream",
       "stream": "stdout",
       "text": [
        "\r",
        "Reclassification 82 for data set 9.  Elapsed time: 74.3518666665 mins"
       ]
      },
      {
       "output_type": "stream",
       "stream": "stdout",
       "text": [
        "\r",
        "Reclassification 83 for data set 9.  Elapsed time: 74.5598666668 mins"
       ]
      },
      {
       "output_type": "stream",
       "stream": "stdout",
       "text": [
        "\r",
        "Reclassification 84 for data set 9.  Elapsed time: 74.768566668 mins"
       ]
      },
      {
       "output_type": "stream",
       "stream": "stdout",
       "text": [
        "\r",
        "Reclassification 85 for data set 9.  Elapsed time: 74.9826333324 mins"
       ]
      },
      {
       "output_type": "stream",
       "stream": "stdout",
       "text": [
        "\r",
        "Reclassification 86 for data set 9.  Elapsed time: 75.1918666681 mins"
       ]
      },
      {
       "output_type": "stream",
       "stream": "stdout",
       "text": [
        "\r",
        "Reclassification 87 for data set 9.  Elapsed time: 75.4032333334 mins"
       ]
      },
      {
       "output_type": "stream",
       "stream": "stdout",
       "text": [
        "\r",
        "Reclassification 88 for data set 9.  Elapsed time: 75.6177833358 mins"
       ]
      },
      {
       "output_type": "stream",
       "stream": "stdout",
       "text": [
        "\r",
        "Reclassification 89 for data set 9.  Elapsed time: 75.8309833328 mins"
       ]
      },
      {
       "output_type": "stream",
       "stream": "stdout",
       "text": [
        "\r",
        "Reclassification 90 for data set 9.  Elapsed time: 76.0455333352 mins"
       ]
      },
      {
       "output_type": "stream",
       "stream": "stdout",
       "text": [
        "\r",
        "Reclassification 91 for data set 9.  Elapsed time: 76.2549833337 mins"
       ]
      },
      {
       "output_type": "stream",
       "stream": "stdout",
       "text": [
        "\r",
        "Reclassification 92 for data set 9.  Elapsed time: 76.463166666 mins"
       ]
      },
      {
       "output_type": "stream",
       "stream": "stdout",
       "text": [
        "\r",
        "Reclassification 93 for data set 9.  Elapsed time: 76.6738499999 mins"
       ]
      },
      {
       "output_type": "stream",
       "stream": "stdout",
       "text": [
        "\r",
        "Reclassification 94 for data set 9.  Elapsed time: 76.8907999992 mins"
       ]
      },
      {
       "output_type": "stream",
       "stream": "stdout",
       "text": [
        "\r",
        "Reclassification 95 for data set 9.  Elapsed time: 77.0972500006 mins"
       ]
      },
      {
       "output_type": "stream",
       "stream": "stdout",
       "text": [
        "\r",
        "Reclassification 96 for data set 9.  Elapsed time: 77.3035666664 mins"
       ]
      },
      {
       "output_type": "stream",
       "stream": "stdout",
       "text": [
        "\r",
        "Reclassification 97 for data set 9.  Elapsed time: 77.5108666658 mins"
       ]
      },
      {
       "output_type": "stream",
       "stream": "stdout",
       "text": [
        "\r",
        "Reclassification 98 for data set 9.  Elapsed time: 77.7186000029 mins"
       ]
      },
      {
       "output_type": "stream",
       "stream": "stdout",
       "text": [
        "\r",
        "Reclassification 99 for data set 9.  Elapsed time: 77.9335500002 mins"
       ]
      },
      {
       "output_type": "stream",
       "stream": "stdout",
       "text": [
        "\r",
        "Reclassification 100 for data set 9.  Elapsed time: 78.1393666665 mins"
       ]
      },
      {
       "output_type": "stream",
       "stream": "stdout",
       "text": [
        "\r",
        "Reclassification 101 for data set 9.  Elapsed time: 78.3450166663 mins"
       ]
      },
      {
       "output_type": "stream",
       "stream": "stdout",
       "text": [
        "\r",
        "Reclassification 102 for data set 9.  Elapsed time: 78.5513833324 mins"
       ]
      },
      {
       "output_type": "stream",
       "stream": "stdout",
       "text": [
        "\r",
        "Reclassification 103 for data set 9.  Elapsed time: 78.7555999994 mins"
       ]
      },
      {
       "output_type": "stream",
       "stream": "stdout",
       "text": [
        "\r",
        "Reclassification 104 for data set 9.  Elapsed time: 78.9691999992 mins"
       ]
      },
      {
       "output_type": "stream",
       "stream": "stdout",
       "text": [
        "\r",
        "Reclassification 105 for data set 9.  Elapsed time: 79.1753500024 mins"
       ]
      },
      {
       "output_type": "stream",
       "stream": "stdout",
       "text": [
        "\r",
        "Reclassification 106 for data set 9.  Elapsed time: 79.3806166689 mins"
       ]
      },
      {
       "output_type": "stream",
       "stream": "stdout",
       "text": [
        "\r",
        "Reclassification 107 for data set 9.  Elapsed time: 79.5881166657 mins"
       ]
      },
      {
       "output_type": "stream",
       "stream": "stdout",
       "text": [
        "\r",
        "Reclassification 108 for data set 9.  Elapsed time: 79.802183334 mins"
       ]
      },
      {
       "output_type": "stream",
       "stream": "stdout",
       "text": [
        "\r",
        "Reclassification 109 for data set 9.  Elapsed time: 80.0156333327 mins"
       ]
      },
      {
       "output_type": "stream",
       "stream": "stdout",
       "text": [
        "\r",
        "Reclassification 110 for data set 9.  Elapsed time: 80.2217000008 mins"
       ]
      },
      {
       "output_type": "stream",
       "stream": "stdout",
       "text": [
        "\r",
        "Reclassification 111 for data set 9.  Elapsed time: 80.4645666679 mins"
       ]
      },
      {
       "output_type": "stream",
       "stream": "stdout",
       "text": [
        "\r",
        "Reclassification 112 for data set 9.  Elapsed time: 80.7036500017 mins"
       ]
      },
      {
       "output_type": "stream",
       "stream": "stdout",
       "text": [
        "\r",
        "Reclassification 113 for data set 9.  Elapsed time: 80.9229833325 mins"
       ]
      },
      {
       "output_type": "stream",
       "stream": "stdout",
       "text": [
        "\r",
        "Reclassification 114 for data set 9.  Elapsed time: 81.1427666664 mins"
       ]
      },
      {
       "output_type": "stream",
       "stream": "stdout",
       "text": [
        "\r",
        "Reclassification 115 for data set 9.  Elapsed time: 81.3697000027 mins"
       ]
      },
      {
       "output_type": "stream",
       "stream": "stdout",
       "text": [
        "\r",
        "Reclassification 116 for data set 9.  Elapsed time: 81.599333334 mins"
       ]
      },
      {
       "output_type": "stream",
       "stream": "stdout",
       "text": [
        "\r",
        "Reclassification 117 for data set 9.  Elapsed time: 81.834983333 mins"
       ]
      },
      {
       "output_type": "stream",
       "stream": "stdout",
       "text": [
        "\r",
        "Reclassification 118 for data set 9.  Elapsed time: 82.0485166669 mins"
       ]
      },
      {
       "output_type": "stream",
       "stream": "stdout",
       "text": [
        "\r",
        "Reclassification 119 for data set 9.  Elapsed time: 82.2586000005 mins"
       ]
      },
      {
       "output_type": "stream",
       "stream": "stdout",
       "text": [
        "\r",
        "Reclassification 120 for data set 9.  Elapsed time: 82.4845499992 mins"
       ]
      },
      {
       "output_type": "stream",
       "stream": "stdout",
       "text": [
        "\r",
        "Reclassification 121 for data set 9.  Elapsed time: 82.7323833346 mins"
       ]
      },
      {
       "output_type": "stream",
       "stream": "stdout",
       "text": [
        "\r",
        "Reclassification 79 for data set 10.  Elapsed time: 82.9570333362 mins"
       ]
      },
      {
       "output_type": "stream",
       "stream": "stdout",
       "text": [
        "\r",
        "Reclassification 82 for data set 10.  Elapsed time: 83.1870833357 mins"
       ]
      },
      {
       "output_type": "stream",
       "stream": "stdout",
       "text": [
        "\r",
        "Reclassification 83 for data set 10.  Elapsed time: 83.4027166684 mins"
       ]
      },
      {
       "output_type": "stream",
       "stream": "stdout",
       "text": [
        "\r",
        "Reclassification 84 for data set 10.  Elapsed time: 83.6196333329 mins"
       ]
      },
      {
       "output_type": "stream",
       "stream": "stdout",
       "text": [
        "\r",
        "Reclassification 85 for data set 10.  Elapsed time: 83.8368499994 mins"
       ]
      },
      {
       "output_type": "stream",
       "stream": "stdout",
       "text": [
        "\r",
        "Reclassification 86 for data set 10.  Elapsed time: 84.0565166672 mins"
       ]
      },
      {
       "output_type": "stream",
       "stream": "stdout",
       "text": [
        "\r",
        "Reclassification 87 for data set 10.  Elapsed time: 84.2714333336 mins"
       ]
      },
      {
       "output_type": "stream",
       "stream": "stdout",
       "text": [
        "\r",
        "Reclassification 88 for data set 10.  Elapsed time: 84.4901000023 mins"
       ]
      },
      {
       "output_type": "stream",
       "stream": "stdout",
       "text": [
        "\r",
        "Reclassification 89 for data set 10.  Elapsed time: 84.7061166684 mins"
       ]
      },
      {
       "output_type": "stream",
       "stream": "stdout",
       "text": [
        "\r",
        "Reclassification 90 for data set 10.  Elapsed time: 84.9290833354 mins"
       ]
      },
      {
       "output_type": "stream",
       "stream": "stdout",
       "text": [
        "\r",
        "Reclassification 91 for data set 10.  Elapsed time: 85.1448833346 mins"
       ]
      },
      {
       "output_type": "stream",
       "stream": "stdout",
       "text": [
        "\r",
        "Reclassification 92 for data set 10.  Elapsed time: 85.3635666688 mins"
       ]
      },
      {
       "output_type": "stream",
       "stream": "stdout",
       "text": [
        "\r",
        "Reclassification 93 for data set 10.  Elapsed time: 85.5799666683 mins"
       ]
      },
      {
       "output_type": "stream",
       "stream": "stdout",
       "text": [
        "\r",
        "Reclassification 94 for data set 10.  Elapsed time: 85.7951833328 mins"
       ]
      },
      {
       "output_type": "stream",
       "stream": "stdout",
       "text": [
        "\r",
        "Reclassification 95 for data set 10.  Elapsed time: 86.0168500026 mins"
       ]
      },
      {
       "output_type": "stream",
       "stream": "stdout",
       "text": [
        "\r",
        "Reclassification 96 for data set 10.  Elapsed time: 86.2325166663 mins"
       ]
      },
      {
       "output_type": "stream",
       "stream": "stdout",
       "text": [
        "\r",
        "Reclassification 97 for data set 10.  Elapsed time: 86.4460166693 mins"
       ]
      },
      {
       "output_type": "stream",
       "stream": "stdout",
       "text": [
        "\r",
        "Reclassification 98 for data set 10.  Elapsed time: 86.6601499995 mins"
       ]
      },
      {
       "output_type": "stream",
       "stream": "stdout",
       "text": [
        "\r",
        "Reclassification 99 for data set 10.  Elapsed time: 86.8798166672 mins"
       ]
      },
      {
       "output_type": "stream",
       "stream": "stdout",
       "text": [
        "\r",
        "Reclassification 100 for data set 10.  Elapsed time: 87.0949166695 mins"
       ]
      },
      {
       "output_type": "stream",
       "stream": "stdout",
       "text": [
        "\r",
        "Reclassification 101 for data set 10.  Elapsed time: 87.309283336 mins"
       ]
      },
      {
       "output_type": "stream",
       "stream": "stdout",
       "text": [
        "\r",
        "Reclassification 102 for data set 10.  Elapsed time: 87.5243666689 mins"
       ]
      },
      {
       "output_type": "stream",
       "stream": "stdout",
       "text": [
        "\r",
        "Reclassification 103 for data set 10.  Elapsed time: 87.7414833347 mins"
       ]
      },
      {
       "output_type": "stream",
       "stream": "stdout",
       "text": [
        "\r",
        "Reclassification 104 for data set 10.  Elapsed time: 87.9691666683 mins"
       ]
      },
      {
       "output_type": "stream",
       "stream": "stdout",
       "text": [
        "\r",
        "Reclassification 105 for data set 10.  Elapsed time: 88.190866669 mins"
       ]
      },
      {
       "output_type": "stream",
       "stream": "stdout",
       "text": [
        "\r",
        "Reclassification 106 for data set 10.  Elapsed time: 88.4067833344 mins"
       ]
      },
      {
       "output_type": "stream",
       "stream": "stdout",
       "text": [
        "\r",
        "Reclassification 107 for data set 10.  Elapsed time: 88.6217166662 mins"
       ]
      },
      {
       "output_type": "stream",
       "stream": "stdout",
       "text": [
        "\r",
        "Reclassification 108 for data set 10.  Elapsed time: 88.8381833355 mins"
       ]
      },
      {
       "output_type": "stream",
       "stream": "stdout",
       "text": [
        "\r",
        "Reclassification 109 for data set 10.  Elapsed time: 89.0568666657 mins"
       ]
      },
      {
       "output_type": "stream",
       "stream": "stdout",
       "text": [
        "\r",
        "Reclassification 110 for data set 10.  Elapsed time: 89.2803500017 mins"
       ]
      },
      {
       "output_type": "stream",
       "stream": "stdout",
       "text": [
        "\r",
        "Reclassification 111 for data set 10.  Elapsed time: 89.5257333358 mins"
       ]
      },
      {
       "output_type": "stream",
       "stream": "stdout",
       "text": [
        "\r",
        "Reclassification 112 for data set 10.  Elapsed time: 89.7433000008 mins"
       ]
      },
      {
       "output_type": "stream",
       "stream": "stdout",
       "text": [
        "\r",
        "Reclassification 113 for data set 10.  Elapsed time: 89.9643666665 mins"
       ]
      },
      {
       "output_type": "stream",
       "stream": "stdout",
       "text": [
        "\r",
        "Reclassification 114 for data set 10.  Elapsed time: 90.1774666667 mins"
       ]
      },
      {
       "output_type": "stream",
       "stream": "stdout",
       "text": [
        "\r",
        "Reclassification 115 for data set 10.  Elapsed time: 90.3914666692 mins"
       ]
      },
      {
       "output_type": "stream",
       "stream": "stdout",
       "text": [
        "\r",
        "Reclassification 116 for data set 10.  Elapsed time: 90.6075666666 mins"
       ]
      },
      {
       "output_type": "stream",
       "stream": "stdout",
       "text": [
        "\r",
        "Reclassification 117 for data set 10.  Elapsed time: 90.8279333353 mins"
       ]
      },
      {
       "output_type": "stream",
       "stream": "stdout",
       "text": [
        "\r",
        "Reclassification 118 for data set 10.  Elapsed time: 91.0649000009 mins"
       ]
      },
      {
       "output_type": "stream",
       "stream": "stdout",
       "text": [
        "\r",
        "Reclassification 119 for data set 10.  Elapsed time: 91.2850000024 mins"
       ]
      },
      {
       "output_type": "stream",
       "stream": "stdout",
       "text": [
        "\r",
        "Reclassification 120 for data set 10.  Elapsed time: 91.4974333326 mins"
       ]
      },
      {
       "output_type": "stream",
       "stream": "stdout",
       "text": [
        "\r",
        "Reclassification 121 for data set 10.  Elapsed time: 91.7108833353 mins"
       ]
      }
     ],
     "prompt_number": 25
    },
    {
     "cell_type": "code",
     "collapsed": false,
     "input": [
      "t1 = time.time()\n",
      "aggre_clust_diffs = []\n",
      "med_clust_diffs = np.zeros(max_itr - 80)\n",
      "for itr in np.arange(0, 40):   \n",
      "    for d_inds, di in enumerate(itertools.combinations(np.arange(len(new_data_sets)), 2)):\n",
      "        t2 = time.time()\n",
      "        \n",
      "        # Change from minutes to hours if current run time is longer than an hour\n",
      "        if ((t2-t1)/60.) > 60.:\n",
      "            n = 60.\n",
      "            units = \"hours\"\n",
      "        else:\n",
      "            n = 1.\n",
      "            units = \"mins\"\n",
      "        sys.stdout.write('\\r' + \"Finding differences of reclassification %s for data pairs %s of %s.  Elapsed time: %s %s\"%(itr+1,\n",
      "                                                              d_inds+1, bsu.nchoosek(len(new_data_sets),2),(t2-t1)/(60.*n),units))\n",
      "        sys.stdout.flush()\n",
      "        # Find the cluster differences between mask lists from different data sets\n",
      "        # at the same iteration of reassignment.\n",
      "        clust_diffs, _ = ca.clust_diff(bsu.sig_list_to_mask(all_masks_list[di[0]][itr]),\n",
      "                                       bsu.sig_list_to_mask(all_masks_list[di[1]][itr]),\n",
      "                                       lin_data_alt)\n",
      "        if d_inds == 0:\n",
      "            # Initialize the array\n",
      "            clust_diffs_arr = clust_diffs\n",
      "        else:\n",
      "            clust_diffs_arr = np.concatenate((clust_diffs_arr, clust_diffs))\n",
      "    \n",
      "    # Save the cluster differences and their medians.\n",
      "    aggre_clust_diffs.append(clust_diffs_arr)\n",
      "    med_clust_diffs[itr] = np.median(clust_diffs_arr)"
     ],
     "language": "python",
     "metadata": {},
     "outputs": [
      {
       "output_type": "stream",
       "stream": "stdout",
       "text": [
        "\r",
        "Finding differences of reclassification 1 for data pairs 1 of 45.  Elapsed time: 1.66654586792e-05 mins"
       ]
      },
      {
       "output_type": "stream",
       "stream": "stdout",
       "text": [
        "\r",
        "Finding differences of reclassification 1 for data pairs 2 of 45.  Elapsed time: 0.195983334382 mins"
       ]
      },
      {
       "output_type": "stream",
       "stream": "stdout",
       "text": [
        "\r",
        "Finding differences of reclassification 1 for data pairs 3 of 45.  Elapsed time: 0.28591666619 mins"
       ]
      },
      {
       "output_type": "stream",
       "stream": "stdout",
       "text": [
        "\r",
        "Finding differences of reclassification 1 for data pairs 4 of 45.  Elapsed time: 0.376699999968 mins"
       ]
      },
      {
       "output_type": "stream",
       "stream": "stdout",
       "text": [
        "\r",
        "Finding differences of reclassification 1 for data pairs 5 of 45.  Elapsed time: 0.465133333206 mins"
       ]
      },
      {
       "output_type": "stream",
       "stream": "stdout",
       "text": [
        "\r",
        "Finding differences of reclassification 1 for data pairs 6 of 45.  Elapsed time: 0.55471666654 mins"
       ]
      },
      {
       "output_type": "stream",
       "stream": "stdout",
       "text": [
        "\r",
        "Finding differences of reclassification 1 for data pairs 7 of 45.  Elapsed time: 0.648016667366 mins"
       ]
      },
      {
       "output_type": "stream",
       "stream": "stdout",
       "text": [
        "\r",
        "Finding differences of reclassification 1 for data pairs 8 of 45.  Elapsed time: 0.739966666698 mins"
       ]
      },
      {
       "output_type": "stream",
       "stream": "stdout",
       "text": [
        "\r",
        "Finding differences of reclassification 1 for data pairs 9 of 45.  Elapsed time: 0.832183333238 mins"
       ]
      },
      {
       "output_type": "stream",
       "stream": "stdout",
       "text": [
        "\r",
        "Finding differences of reclassification 1 for data pairs 10 of 45.  Elapsed time: 0.924500000477 mins"
       ]
      },
      {
       "output_type": "stream",
       "stream": "stdout",
       "text": [
        "\r",
        "Finding differences of reclassification 1 for data pairs 11 of 45.  Elapsed time: 1.01330000162 mins"
       ]
      },
      {
       "output_type": "stream",
       "stream": "stdout",
       "text": [
        "\r",
        "Finding differences of reclassification 1 for data pairs 12 of 45.  Elapsed time: 1.10379999876 mins"
       ]
      },
      {
       "output_type": "stream",
       "stream": "stdout",
       "text": [
        "\r",
        "Finding differences of reclassification 1 for data pairs 13 of 45.  Elapsed time: 1.19376666546 mins"
       ]
      },
      {
       "output_type": "stream",
       "stream": "stdout",
       "text": [
        "\r",
        "Finding differences of reclassification 1 for data pairs 14 of 45.  Elapsed time: 1.28178333441 mins"
       ]
      },
      {
       "output_type": "stream",
       "stream": "stdout",
       "text": [
        "\r",
        "Finding differences of reclassification 1 for data pairs 15 of 45.  Elapsed time: 1.37043333451 mins"
       ]
      },
      {
       "output_type": "stream",
       "stream": "stdout",
       "text": [
        "\r",
        "Finding differences of reclassification 1 for data pairs 16 of 45.  Elapsed time: 1.45886666775 mins"
       ]
      },
      {
       "output_type": "stream",
       "stream": "stdout",
       "text": [
        "\r",
        "Finding differences of reclassification 1 for data pairs 17 of 45.  Elapsed time: 1.54804999828 mins"
       ]
      },
      {
       "output_type": "stream",
       "stream": "stdout",
       "text": [
        "\r",
        "Finding differences of reclassification 1 for data pairs 18 of 45.  Elapsed time: 1.63949999809 mins"
       ]
      },
      {
       "output_type": "stream",
       "stream": "stdout",
       "text": [
        "\r",
        "Finding differences of reclassification 1 for data pairs 19 of 45.  Elapsed time: 1.73600000143 mins"
       ]
      },
      {
       "output_type": "stream",
       "stream": "stdout",
       "text": [
        "\r",
        "Finding differences of reclassification 1 for data pairs 20 of 45.  Elapsed time: 1.83669999838 mins"
       ]
      },
      {
       "output_type": "stream",
       "stream": "stdout",
       "text": [
        "\r",
        "Finding differences of reclassification 1 for data pairs 21 of 45.  Elapsed time: 1.93195000092 mins"
       ]
      },
      {
       "output_type": "stream",
       "stream": "stdout",
       "text": [
        "\r",
        "Finding differences of reclassification 1 for data pairs 22 of 45.  Elapsed time: 2.03181666533 mins"
       ]
      },
      {
       "output_type": "stream",
       "stream": "stdout",
       "text": [
        "\r",
        "Finding differences of reclassification 1 for data pairs 23 of 45.  Elapsed time: 2.13765000105 mins"
       ]
      },
      {
       "output_type": "stream",
       "stream": "stdout",
       "text": [
        "\r",
        "Finding differences of reclassification 1 for data pairs 24 of 45.  Elapsed time: 2.23490000168 mins"
       ]
      },
      {
       "output_type": "stream",
       "stream": "stdout",
       "text": [
        "\r",
        "Finding differences of reclassification 1 for data pairs 25 of 45.  Elapsed time: 2.33833333254 mins"
       ]
      },
      {
       "output_type": "stream",
       "stream": "stdout",
       "text": [
        "\r",
        "Finding differences of reclassification 1 for data pairs 26 of 45.  Elapsed time: 2.4372999986 mins"
       ]
      },
      {
       "output_type": "stream",
       "stream": "stdout",
       "text": [
        "\r",
        "Finding differences of reclassification 1 for data pairs 27 of 45.  Elapsed time: 2.5423333327 mins"
       ]
      },
      {
       "output_type": "stream",
       "stream": "stdout",
       "text": [
        "\r",
        "Finding differences of reclassification 1 for data pairs 28 of 45.  Elapsed time: 2.65396666527 mins"
       ]
      },
      {
       "output_type": "stream",
       "stream": "stdout",
       "text": [
        "\r",
        "Finding differences of reclassification 1 for data pairs 29 of 45.  Elapsed time: 2.7483833313 mins"
       ]
      },
      {
       "output_type": "stream",
       "stream": "stdout",
       "text": [
        "\r",
        "Finding differences of reclassification 1 for data pairs 30 of 45.  Elapsed time: 2.85763333241 mins"
       ]
      },
      {
       "output_type": "stream",
       "stream": "stdout",
       "text": [
        "\r",
        "Finding differences of reclassification 1 for data pairs 31 of 45.  Elapsed time: 2.95683333476 mins"
       ]
      },
      {
       "output_type": "stream",
       "stream": "stdout",
       "text": [
        "\r",
        "Finding differences of reclassification 1 for data pairs 32 of 45.  Elapsed time: 3.05153333346 mins"
       ]
      },
      {
       "output_type": "stream",
       "stream": "stdout",
       "text": [
        "\r",
        "Finding differences of reclassification 1 for data pairs 33 of 45.  Elapsed time: 3.14603333473 mins"
       ]
      },
      {
       "output_type": "stream",
       "stream": "stdout",
       "text": [
        "\r",
        "Finding differences of reclassification 1 for data pairs 34 of 45.  Elapsed time: 3.23621666829 mins"
       ]
      },
      {
       "output_type": "stream",
       "stream": "stdout",
       "text": [
        "\r",
        "Finding differences of reclassification 1 for data pairs 35 of 45.  Elapsed time: 3.33293333451 mins"
       ]
      },
      {
       "output_type": "stream",
       "stream": "stdout",
       "text": [
        "\r",
        "Finding differences of reclassification 1 for data pairs 36 of 45.  Elapsed time: 3.4252000014 mins"
       ]
      },
      {
       "output_type": "stream",
       "stream": "stdout",
       "text": [
        "\r",
        "Finding differences of reclassification 1 for data pairs 37 of 45.  Elapsed time: 3.52863333225 mins"
       ]
      },
      {
       "output_type": "stream",
       "stream": "stdout",
       "text": [
        "\r",
        "Finding differences of reclassification 1 for data pairs 38 of 45.  Elapsed time: 3.63164999882 mins"
       ]
      },
      {
       "output_type": "stream",
       "stream": "stdout",
       "text": [
        "\r",
        "Finding differences of reclassification 1 for data pairs 39 of 45.  Elapsed time: 3.73296666543 mins"
       ]
      },
      {
       "output_type": "stream",
       "stream": "stdout",
       "text": [
        "\r",
        "Finding differences of reclassification 1 for data pairs 40 of 45.  Elapsed time: 3.83485000134 mins"
       ]
      },
      {
       "output_type": "stream",
       "stream": "stdout",
       "text": [
        "\r",
        "Finding differences of reclassification 1 for data pairs 41 of 45.  Elapsed time: 3.93140000105 mins"
       ]
      },
      {
       "output_type": "stream",
       "stream": "stdout",
       "text": [
        "\r",
        "Finding differences of reclassification 1 for data pairs 42 of 45.  Elapsed time: 4.03691666524 mins"
       ]
      },
      {
       "output_type": "stream",
       "stream": "stdout",
       "text": [
        "\r",
        "Finding differences of reclassification 1 for data pairs 43 of 45.  Elapsed time: 4.138349998 mins"
       ]
      },
      {
       "output_type": "stream",
       "stream": "stdout",
       "text": [
        "\r",
        "Finding differences of reclassification 1 for data pairs 44 of 45.  Elapsed time: 4.23926666578 mins"
       ]
      },
      {
       "output_type": "stream",
       "stream": "stdout",
       "text": [
        "\r",
        "Finding differences of reclassification 1 for data pairs 45 of 45.  Elapsed time: 4.33876666625 mins"
       ]
      },
      {
       "output_type": "stream",
       "stream": "stdout",
       "text": [
        "\r",
        "Finding differences of reclassification 2 for data pairs 1 of 45.  Elapsed time: 4.43238333464 mins"
       ]
      },
      {
       "output_type": "stream",
       "stream": "stdout",
       "text": [
        "\r",
        "Finding differences of reclassification 2 for data pairs 2 of 45.  Elapsed time: 4.54330000083 mins"
       ]
      },
      {
       "output_type": "stream",
       "stream": "stdout",
       "text": [
        "\r",
        "Finding differences of reclassification 2 for data pairs 3 of 45.  Elapsed time: 4.66188333432 mins"
       ]
      },
      {
       "output_type": "stream",
       "stream": "stdout",
       "text": [
        "\r",
        "Finding differences of reclassification 2 for data pairs 4 of 45.  Elapsed time: 4.75821666718 mins"
       ]
      },
      {
       "output_type": "stream",
       "stream": "stdout",
       "text": [
        "\r",
        "Finding differences of reclassification 2 for data pairs 5 of 45.  Elapsed time: 4.85334999959 mins"
       ]
      },
      {
       "output_type": "stream",
       "stream": "stdout",
       "text": [
        "\r",
        "Finding differences of reclassification 2 for data pairs 6 of 45.  Elapsed time: 4.94241666794 mins"
       ]
      },
      {
       "output_type": "stream",
       "stream": "stdout",
       "text": [
        "\r",
        "Finding differences of reclassification 2 for data pairs 7 of 45.  Elapsed time: 5.03178333441 mins"
       ]
      },
      {
       "output_type": "stream",
       "stream": "stdout",
       "text": [
        "\r",
        "Finding differences of reclassification 2 for data pairs 8 of 45.  Elapsed time: 5.12116666635 mins"
       ]
      },
      {
       "output_type": "stream",
       "stream": "stdout",
       "text": [
        "\r",
        "Finding differences of reclassification 2 for data pairs 9 of 45.  Elapsed time: 5.20959999959 mins"
       ]
      },
      {
       "output_type": "stream",
       "stream": "stdout",
       "text": [
        "\r",
        "Finding differences of reclassification 2 for data pairs 10 of 45.  Elapsed time: 5.29748333295 mins"
       ]
      },
      {
       "output_type": "stream",
       "stream": "stdout",
       "text": [
        "\r",
        "Finding differences of reclassification 2 for data pairs 11 of 45.  Elapsed time: 5.38463333448 mins"
       ]
      },
      {
       "output_type": "stream",
       "stream": "stdout",
       "text": [
        "\r",
        "Finding differences of reclassification 2 for data pairs 12 of 45.  Elapsed time: 5.47336666584 mins"
       ]
      },
      {
       "output_type": "stream",
       "stream": "stdout",
       "text": [
        "\r",
        "Finding differences of reclassification 2 for data pairs 13 of 45.  Elapsed time: 5.56176666816 mins"
       ]
      },
      {
       "output_type": "stream",
       "stream": "stdout",
       "text": [
        "\r",
        "Finding differences of reclassification 2 for data pairs 14 of 45.  Elapsed time: 5.65300000111 mins"
       ]
      },
      {
       "output_type": "stream",
       "stream": "stdout",
       "text": [
        "\r",
        "Finding differences of reclassification 2 for data pairs 15 of 45.  Elapsed time: 5.7426333348 mins"
       ]
      },
      {
       "output_type": "stream",
       "stream": "stdout",
       "text": [
        "\r",
        "Finding differences of reclassification 2 for data pairs 16 of 45.  Elapsed time: 5.83085000118 mins"
       ]
      },
      {
       "output_type": "stream",
       "stream": "stdout",
       "text": [
        "\r",
        "Finding differences of reclassification 2 for data pairs 17 of 45.  Elapsed time: 5.9188500007 mins"
       ]
      },
      {
       "output_type": "stream",
       "stream": "stdout",
       "text": [
        "\r",
        "Finding differences of reclassification 2 for data pairs 18 of 45.  Elapsed time: 6.00611666838 mins"
       ]
      },
      {
       "output_type": "stream",
       "stream": "stdout",
       "text": [
        "\r",
        "Finding differences of reclassification 2 for data pairs 19 of 45.  Elapsed time: 6.09586666822 mins"
       ]
      },
      {
       "output_type": "stream",
       "stream": "stdout",
       "text": [
        "\r",
        "Finding differences of reclassification 2 for data pairs 20 of 45.  Elapsed time: 6.18439999819 mins"
       ]
      },
      {
       "output_type": "stream",
       "stream": "stdout",
       "text": [
        "\r",
        "Finding differences of reclassification 2 for data pairs 21 of 45.  Elapsed time: 6.27379999955 mins"
       ]
      },
      {
       "output_type": "stream",
       "stream": "stdout",
       "text": [
        "\r",
        "Finding differences of reclassification 2 for data pairs 22 of 45.  Elapsed time: 6.364016668 mins"
       ]
      },
      {
       "output_type": "stream",
       "stream": "stdout",
       "text": [
        "\r",
        "Finding differences of reclassification 2 for data pairs 23 of 45.  Elapsed time: 6.45218333403 mins"
       ]
      },
      {
       "output_type": "stream",
       "stream": "stdout",
       "text": [
        "\r",
        "Finding differences of reclassification 2 for data pairs 24 of 45.  Elapsed time: 6.54008333286 mins"
       ]
      },
      {
       "output_type": "stream",
       "stream": "stdout",
       "text": [
        "\r",
        "Finding differences of reclassification 2 for data pairs 25 of 45.  Elapsed time: 6.6337166667 mins"
       ]
      },
      {
       "output_type": "stream",
       "stream": "stdout",
       "text": [
        "\r",
        "Finding differences of reclassification 2 for data pairs 26 of 45.  Elapsed time: 6.72251666784 mins"
       ]
      },
      {
       "output_type": "stream",
       "stream": "stdout",
       "text": [
        "\r",
        "Finding differences of reclassification 2 for data pairs 27 of 45.  Elapsed time: 6.81233333349 mins"
       ]
      },
      {
       "output_type": "stream",
       "stream": "stdout",
       "text": [
        "\r",
        "Finding differences of reclassification 2 for data pairs 28 of 45.  Elapsed time: 6.90329999924 mins"
       ]
      },
      {
       "output_type": "stream",
       "stream": "stdout",
       "text": [
        "\r",
        "Finding differences of reclassification 2 for data pairs 29 of 45.  Elapsed time: 6.99188333352 mins"
       ]
      },
      {
       "output_type": "stream",
       "stream": "stdout",
       "text": [
        "\r",
        "Finding differences of reclassification 2 for data pairs 30 of 45.  Elapsed time: 7.08068333467 mins"
       ]
      },
      {
       "output_type": "stream",
       "stream": "stdout",
       "text": [
        "\r",
        "Finding differences of reclassification 2 for data pairs 31 of 45.  Elapsed time: 7.16981666485 mins"
       ]
      },
      {
       "output_type": "stream",
       "stream": "stdout",
       "text": [
        "\r",
        "Finding differences of reclassification 2 for data pairs 32 of 45.  Elapsed time: 7.25798333486 mins"
       ]
      },
      {
       "output_type": "stream",
       "stream": "stdout",
       "text": [
        "\r",
        "Finding differences of reclassification 2 for data pairs 33 of 45.  Elapsed time: 7.34726666609 mins"
       ]
      },
      {
       "output_type": "stream",
       "stream": "stdout",
       "text": [
        "\r",
        "Finding differences of reclassification 2 for data pairs 34 of 45.  Elapsed time: 7.43641666571 mins"
       ]
      },
      {
       "output_type": "stream",
       "stream": "stdout",
       "text": [
        "\r",
        "Finding differences of reclassification 2 for data pairs 35 of 45.  Elapsed time: 7.52763333321 mins"
       ]
      },
      {
       "output_type": "stream",
       "stream": "stdout",
       "text": [
        "\r",
        "Finding differences of reclassification 2 for data pairs 36 of 45.  Elapsed time: 7.6220666647 mins"
       ]
      },
      {
       "output_type": "stream",
       "stream": "stdout",
       "text": [
        "\r",
        "Finding differences of reclassification 2 for data pairs 37 of 45.  Elapsed time: 7.7121999979 mins"
       ]
      },
      {
       "output_type": "stream",
       "stream": "stdout",
       "text": [
        "\r",
        "Finding differences of reclassification 2 for data pairs 38 of 45.  Elapsed time: 7.80046666463 mins"
       ]
      },
      {
       "output_type": "stream",
       "stream": "stdout",
       "text": [
        "\r",
        "Finding differences of reclassification 2 for data pairs 39 of 45.  Elapsed time: 7.88804999987 mins"
       ]
      },
      {
       "output_type": "stream",
       "stream": "stdout",
       "text": [
        "\r",
        "Finding differences of reclassification 2 for data pairs 40 of 45.  Elapsed time: 7.97659999927 mins"
       ]
      },
      {
       "output_type": "stream",
       "stream": "stdout",
       "text": [
        "\r",
        "Finding differences of reclassification 2 for data pairs 41 of 45.  Elapsed time: 8.06578333378 mins"
       ]
      },
      {
       "output_type": "stream",
       "stream": "stdout",
       "text": [
        "\r",
        "Finding differences of reclassification 2 for data pairs 42 of 45.  Elapsed time: 8.15443333387 mins"
       ]
      },
      {
       "output_type": "stream",
       "stream": "stdout",
       "text": [
        "\r",
        "Finding differences of reclassification 2 for data pairs 43 of 45.  Elapsed time: 8.24380000035 mins"
       ]
      },
      {
       "output_type": "stream",
       "stream": "stdout",
       "text": [
        "\r",
        "Finding differences of reclassification 2 for data pairs 44 of 45.  Elapsed time: 8.33203333219 mins"
       ]
      },
      {
       "output_type": "stream",
       "stream": "stdout",
       "text": [
        "\r",
        "Finding differences of reclassification 2 for data pairs 45 of 45.  Elapsed time: 8.41988333464 mins"
       ]
      },
      {
       "output_type": "stream",
       "stream": "stdout",
       "text": [
        "\r",
        "Finding differences of reclassification 3 for data pairs 1 of 45.  Elapsed time: 8.50678333441 mins"
       ]
      },
      {
       "output_type": "stream",
       "stream": "stdout",
       "text": [
        "\r",
        "Finding differences of reclassification 3 for data pairs 2 of 45.  Elapsed time: 8.59833333492 mins"
       ]
      },
      {
       "output_type": "stream",
       "stream": "stdout",
       "text": [
        "\r",
        "Finding differences of reclassification 3 for data pairs 3 of 45.  Elapsed time: 8.68673333327 mins"
       ]
      },
      {
       "output_type": "stream",
       "stream": "stdout",
       "text": [
        "\r",
        "Finding differences of reclassification 3 for data pairs 4 of 45.  Elapsed time: 8.77570000092 mins"
       ]
      },
      {
       "output_type": "stream",
       "stream": "stdout",
       "text": [
        "\r",
        "Finding differences of reclassification 3 for data pairs 5 of 45.  Elapsed time: 8.86451666752 mins"
       ]
      },
      {
       "output_type": "stream",
       "stream": "stdout",
       "text": [
        "\r",
        "Finding differences of reclassification 3 for data pairs 6 of 45.  Elapsed time: 8.95240000089 mins"
       ]
      },
      {
       "output_type": "stream",
       "stream": "stdout",
       "text": [
        "\r",
        "Finding differences of reclassification 3 for data pairs 7 of 45.  Elapsed time: 9.04066666762 mins"
       ]
      },
      {
       "output_type": "stream",
       "stream": "stdout",
       "text": [
        "\r",
        "Finding differences of reclassification 3 for data pairs 8 of 45.  Elapsed time: 9.12928333282 mins"
       ]
      },
      {
       "output_type": "stream",
       "stream": "stdout",
       "text": [
        "\r",
        "Finding differences of reclassification 3 for data pairs 9 of 45.  Elapsed time: 9.21696666479 mins"
       ]
      },
      {
       "output_type": "stream",
       "stream": "stdout",
       "text": [
        "\r",
        "Finding differences of reclassification 3 for data pairs 10 of 45.  Elapsed time: 9.30451666514 mins"
       ]
      },
      {
       "output_type": "stream",
       "stream": "stdout",
       "text": [
        "\r",
        "Finding differences of reclassification 3 for data pairs 11 of 45.  Elapsed time: 9.39205000003 mins"
       ]
      },
      {
       "output_type": "stream",
       "stream": "stdout",
       "text": [
        "\r",
        "Finding differences of reclassification 3 for data pairs 12 of 45.  Elapsed time: 9.48073333502 mins"
       ]
      },
      {
       "output_type": "stream",
       "stream": "stdout",
       "text": [
        "\r",
        "Finding differences of reclassification 3 for data pairs 13 of 45.  Elapsed time: 9.56833333174 mins"
       ]
      },
      {
       "output_type": "stream",
       "stream": "stdout",
       "text": [
        "\r",
        "Finding differences of reclassification 3 for data pairs 14 of 45.  Elapsed time: 9.65941666762 mins"
       ]
      },
      {
       "output_type": "stream",
       "stream": "stdout",
       "text": [
        "\r",
        "Finding differences of reclassification 3 for data pairs 15 of 45.  Elapsed time: 9.7475333333 mins"
       ]
      },
      {
       "output_type": "stream",
       "stream": "stdout",
       "text": [
        "\r",
        "Finding differences of reclassification 3 for data pairs 16 of 45.  Elapsed time: 9.83559999863 mins"
       ]
      },
      {
       "output_type": "stream",
       "stream": "stdout",
       "text": [
        "\r",
        "Finding differences of reclassification 3 for data pairs 17 of 45.  Elapsed time: 9.92703333298 mins"
       ]
      },
      {
       "output_type": "stream",
       "stream": "stdout",
       "text": [
        "\r",
        "Finding differences of reclassification 3 for data pairs 18 of 45.  Elapsed time: 10.0143000007 mins"
       ]
      },
      {
       "output_type": "stream",
       "stream": "stdout",
       "text": [
        "\r",
        "Finding differences of reclassification 3 for data pairs 19 of 45.  Elapsed time: 10.1043666681 mins"
       ]
      },
      {
       "output_type": "stream",
       "stream": "stdout",
       "text": [
        "\r",
        "Finding differences of reclassification 3 for data pairs 20 of 45.  Elapsed time: 10.1958166679 mins"
       ]
      },
      {
       "output_type": "stream",
       "stream": "stdout",
       "text": [
        "\r",
        "Finding differences of reclassification 3 for data pairs 21 of 45.  Elapsed time: 10.2846333345 mins"
       ]
      },
      {
       "output_type": "stream",
       "stream": "stdout",
       "text": [
        "\r",
        "Finding differences of reclassification 3 for data pairs 22 of 45.  Elapsed time: 10.3743999998 mins"
       ]
      },
      {
       "output_type": "stream",
       "stream": "stdout",
       "text": [
        "\r",
        "Finding differences of reclassification 3 for data pairs 23 of 45.  Elapsed time: 10.4614666661 mins"
       ]
      },
      {
       "output_type": "stream",
       "stream": "stdout",
       "text": [
        "\r",
        "Finding differences of reclassification 3 for data pairs 24 of 45.  Elapsed time: 10.5484500011 mins"
       ]
      },
      {
       "output_type": "stream",
       "stream": "stdout",
       "text": [
        "\r",
        "Finding differences of reclassification 3 for data pairs 25 of 45.  Elapsed time: 10.6415833314 mins"
       ]
      },
      {
       "output_type": "stream",
       "stream": "stdout",
       "text": [
        "\r",
        "Finding differences of reclassification 3 for data pairs 26 of 45.  Elapsed time: 10.7305333336 mins"
       ]
      },
      {
       "output_type": "stream",
       "stream": "stdout",
       "text": [
        "\r",
        "Finding differences of reclassification 3 for data pairs 27 of 45.  Elapsed time: 10.8190333327 mins"
       ]
      },
      {
       "output_type": "stream",
       "stream": "stdout",
       "text": [
        "\r",
        "Finding differences of reclassification 3 for data pairs 28 of 45.  Elapsed time: 10.910466667 mins"
       ]
      },
      {
       "output_type": "stream",
       "stream": "stdout",
       "text": [
        "\r",
        "Finding differences of reclassification 3 for data pairs 29 of 45.  Elapsed time: 11.0002666672 mins"
       ]
      },
      {
       "output_type": "stream",
       "stream": "stdout",
       "text": [
        "\r",
        "Finding differences of reclassification 3 for data pairs 30 of 45.  Elapsed time: 11.0887833317 mins"
       ]
      },
      {
       "output_type": "stream",
       "stream": "stdout",
       "text": [
        "\r",
        "Finding differences of reclassification 3 for data pairs 31 of 45.  Elapsed time: 11.1779666662 mins"
       ]
      },
      {
       "output_type": "stream",
       "stream": "stdout",
       "text": [
        "\r",
        "Finding differences of reclassification 3 for data pairs 32 of 45.  Elapsed time: 11.2652666648 mins"
       ]
      },
      {
       "output_type": "stream",
       "stream": "stdout",
       "text": [
        "\r",
        "Finding differences of reclassification 3 for data pairs 33 of 45.  Elapsed time: 11.3538499991 mins"
       ]
      },
      {
       "output_type": "stream",
       "stream": "stdout",
       "text": [
        "\r",
        "Finding differences of reclassification 3 for data pairs 34 of 45.  Elapsed time: 11.4437333345 mins"
       ]
      },
      {
       "output_type": "stream",
       "stream": "stdout",
       "text": [
        "\r",
        "Finding differences of reclassification 3 for data pairs 35 of 45.  Elapsed time: 11.5322666645 mins"
       ]
      },
      {
       "output_type": "stream",
       "stream": "stdout",
       "text": [
        "\r",
        "Finding differences of reclassification 3 for data pairs 36 of 45.  Elapsed time: 11.6242166678 mins"
       ]
      },
      {
       "output_type": "stream",
       "stream": "stdout",
       "text": [
        "\r",
        "Finding differences of reclassification 3 for data pairs 37 of 45.  Elapsed time: 11.7130333344 mins"
       ]
      },
      {
       "output_type": "stream",
       "stream": "stdout",
       "text": [
        "\r",
        "Finding differences of reclassification 3 for data pairs 38 of 45.  Elapsed time: 11.8017166654 mins"
       ]
      },
      {
       "output_type": "stream",
       "stream": "stdout",
       "text": [
        "\r",
        "Finding differences of reclassification 3 for data pairs 39 of 45.  Elapsed time: 11.8885333339 mins"
       ]
      },
      {
       "output_type": "stream",
       "stream": "stdout",
       "text": [
        "\r",
        "Finding differences of reclassification 3 for data pairs 40 of 45.  Elapsed time: 11.977033333 mins"
       ]
      },
      {
       "output_type": "stream",
       "stream": "stdout",
       "text": [
        "\r",
        "Finding differences of reclassification 3 for data pairs 41 of 45.  Elapsed time: 12.0655833324 mins"
       ]
      },
      {
       "output_type": "stream",
       "stream": "stdout",
       "text": [
        "\r",
        "Finding differences of reclassification 3 for data pairs 42 of 45.  Elapsed time: 12.1542666674 mins"
       ]
      },
      {
       "output_type": "stream",
       "stream": "stdout",
       "text": [
        "\r",
        "Finding differences of reclassification 3 for data pairs 43 of 45.  Elapsed time: 12.2435333331 mins"
       ]
      },
      {
       "output_type": "stream",
       "stream": "stdout",
       "text": [
        "\r",
        "Finding differences of reclassification 3 for data pairs 44 of 45.  Elapsed time: 12.3311499993 mins"
       ]
      },
      {
       "output_type": "stream",
       "stream": "stdout",
       "text": [
        "\r",
        "Finding differences of reclassification 3 for data pairs 45 of 45.  Elapsed time: 12.4189166665 mins"
       ]
      },
      {
       "output_type": "stream",
       "stream": "stdout",
       "text": [
        "\r",
        "Finding differences of reclassification 4 for data pairs 1 of 45.  Elapsed time: 12.5057666659 mins"
       ]
      },
      {
       "output_type": "stream",
       "stream": "stdout",
       "text": [
        "\r",
        "Finding differences of reclassification 4 for data pairs 2 of 45.  Elapsed time: 12.5970999996 mins"
       ]
      },
      {
       "output_type": "stream",
       "stream": "stdout",
       "text": [
        "\r",
        "Finding differences of reclassification 4 for data pairs 3 of 45.  Elapsed time: 12.6852666656 mins"
       ]
      },
      {
       "output_type": "stream",
       "stream": "stdout",
       "text": [
        "\r",
        "Finding differences of reclassification 4 for data pairs 4 of 45.  Elapsed time: 12.7742666682 mins"
       ]
      },
      {
       "output_type": "stream",
       "stream": "stdout",
       "text": [
        "\r",
        "Finding differences of reclassification 4 for data pairs 5 of 45.  Elapsed time: 12.8620000005 mins"
       ]
      },
      {
       "output_type": "stream",
       "stream": "stdout",
       "text": [
        "\r",
        "Finding differences of reclassification 4 for data pairs 6 of 45.  Elapsed time: 12.9492499987 mins"
       ]
      },
      {
       "output_type": "stream",
       "stream": "stdout",
       "text": [
        "\r",
        "Finding differences of reclassification 4 for data pairs 7 of 45.  Elapsed time: 13.0377833327 mins"
       ]
      },
      {
       "output_type": "stream",
       "stream": "stdout",
       "text": [
        "\r",
        "Finding differences of reclassification 4 for data pairs 8 of 45.  Elapsed time: 13.1254999995 mins"
       ]
      },
      {
       "output_type": "stream",
       "stream": "stdout",
       "text": [
        "\r",
        "Finding differences of reclassification 4 for data pairs 9 of 45.  Elapsed time: 13.2128499985 mins"
       ]
      },
      {
       "output_type": "stream",
       "stream": "stdout",
       "text": [
        "\r",
        "Finding differences of reclassification 4 for data pairs 10 of 45.  Elapsed time: 13.2997333328 mins"
       ]
      },
      {
       "output_type": "stream",
       "stream": "stdout",
       "text": [
        "\r",
        "Finding differences of reclassification 4 for data pairs 11 of 45.  Elapsed time: 13.387650001 mins"
       ]
      },
      {
       "output_type": "stream",
       "stream": "stdout",
       "text": [
        "\r",
        "Finding differences of reclassification 4 for data pairs 12 of 45.  Elapsed time: 13.4757666667 mins"
       ]
      },
      {
       "output_type": "stream",
       "stream": "stdout",
       "text": [
        "\r",
        "Finding differences of reclassification 4 for data pairs 13 of 45.  Elapsed time: 13.563683335 mins"
       ]
      },
      {
       "output_type": "stream",
       "stream": "stdout",
       "text": [
        "\r",
        "Finding differences of reclassification 4 for data pairs 14 of 45.  Elapsed time: 13.654066666 mins"
       ]
      },
      {
       "output_type": "stream",
       "stream": "stdout",
       "text": [
        "\r",
        "Finding differences of reclassification 4 for data pairs 15 of 45.  Elapsed time: 13.74205 mins"
       ]
      },
      {
       "output_type": "stream",
       "stream": "stdout",
       "text": [
        "\r",
        "Finding differences of reclassification 4 for data pairs 16 of 45.  Elapsed time: 13.8293666681 mins"
       ]
      },
      {
       "output_type": "stream",
       "stream": "stdout",
       "text": [
        "\r",
        "Finding differences of reclassification 4 for data pairs 17 of 45.  Elapsed time: 13.9163666646 mins"
       ]
      },
      {
       "output_type": "stream",
       "stream": "stdout",
       "text": [
        "\r",
        "Finding differences of reclassification 4 for data pairs 18 of 45.  Elapsed time: 14.0031999985 mins"
       ]
      },
      {
       "output_type": "stream",
       "stream": "stdout",
       "text": [
        "\r",
        "Finding differences of reclassification 4 for data pairs 19 of 45.  Elapsed time: 14.0920333346 mins"
       ]
      },
      {
       "output_type": "stream",
       "stream": "stdout",
       "text": [
        "\r",
        "Finding differences of reclassification 4 for data pairs 20 of 45.  Elapsed time: 14.1795333346 mins"
       ]
      },
      {
       "output_type": "stream",
       "stream": "stdout",
       "text": [
        "\r",
        "Finding differences of reclassification 4 for data pairs 21 of 45.  Elapsed time: 14.2681833347 mins"
       ]
      },
      {
       "output_type": "stream",
       "stream": "stdout",
       "text": [
        "\r",
        "Finding differences of reclassification 4 for data pairs 22 of 45.  Elapsed time: 14.360283335 mins"
       ]
      },
      {
       "output_type": "stream",
       "stream": "stdout",
       "text": [
        "\r",
        "Finding differences of reclassification 4 for data pairs 23 of 45.  Elapsed time: 14.4535333316 mins"
       ]
      },
      {
       "output_type": "stream",
       "stream": "stdout",
       "text": [
        "\r",
        "Finding differences of reclassification 4 for data pairs 24 of 45.  Elapsed time: 14.5401499987 mins"
       ]
      },
      {
       "output_type": "stream",
       "stream": "stdout",
       "text": [
        "\r",
        "Finding differences of reclassification 4 for data pairs 25 of 45.  Elapsed time: 14.6332666675 mins"
       ]
      },
      {
       "output_type": "stream",
       "stream": "stdout",
       "text": [
        "\r",
        "Finding differences of reclassification 4 for data pairs 26 of 45.  Elapsed time: 14.7226833344 mins"
       ]
      },
      {
       "output_type": "stream",
       "stream": "stdout",
       "text": [
        "\r",
        "Finding differences of reclassification 4 for data pairs 27 of 45.  Elapsed time: 14.8125 mins"
       ]
      },
      {
       "output_type": "stream",
       "stream": "stdout",
       "text": [
        "\r",
        "Finding differences of reclassification 4 for data pairs 28 of 45.  Elapsed time: 14.9071166674 mins"
       ]
      },
      {
       "output_type": "stream",
       "stream": "stdout",
       "text": [
        "\r",
        "Finding differences of reclassification 4 for data pairs 29 of 45.  Elapsed time: 15.0005333344 mins"
       ]
      },
      {
       "output_type": "stream",
       "stream": "stdout",
       "text": [
        "\r",
        "Finding differences of reclassification 4 for data pairs 30 of 45.  Elapsed time: 15.0931666652 mins"
       ]
      },
      {
       "output_type": "stream",
       "stream": "stdout",
       "text": [
        "\r",
        "Finding differences of reclassification 4 for data pairs 31 of 45.  Elapsed time: 15.1891166647 mins"
       ]
      },
      {
       "output_type": "stream",
       "stream": "stdout",
       "text": [
        "\r",
        "Finding differences of reclassification 4 for data pairs 32 of 45.  Elapsed time: 15.283283333 mins"
       ]
      },
      {
       "output_type": "stream",
       "stream": "stdout",
       "text": [
        "\r",
        "Finding differences of reclassification 4 for data pairs 33 of 45.  Elapsed time: 15.3771666646 mins"
       ]
      },
      {
       "output_type": "stream",
       "stream": "stdout",
       "text": [
        "\r",
        "Finding differences of reclassification 4 for data pairs 34 of 45.  Elapsed time: 15.4712333322 mins"
       ]
      },
      {
       "output_type": "stream",
       "stream": "stdout",
       "text": [
        "\r",
        "Finding differences of reclassification 4 for data pairs 35 of 45.  Elapsed time: 15.5625166655 mins"
       ]
      },
      {
       "output_type": "stream",
       "stream": "stdout",
       "text": [
        "\r",
        "Finding differences of reclassification 4 for data pairs 36 of 45.  Elapsed time: 15.6557500005 mins"
       ]
      },
      {
       "output_type": "stream",
       "stream": "stdout",
       "text": [
        "\r",
        "Finding differences of reclassification 4 for data pairs 37 of 45.  Elapsed time: 15.747300001 mins"
       ]
      },
      {
       "output_type": "stream",
       "stream": "stdout",
       "text": [
        "\r",
        "Finding differences of reclassification 4 for data pairs 38 of 45.  Elapsed time: 15.8376166662 mins"
       ]
      },
      {
       "output_type": "stream",
       "stream": "stdout",
       "text": [
        "\r",
        "Finding differences of reclassification 4 for data pairs 39 of 45.  Elapsed time: 15.927033333 mins"
       ]
      },
      {
       "output_type": "stream",
       "stream": "stdout",
       "text": [
        "\r",
        "Finding differences of reclassification 4 for data pairs 40 of 45.  Elapsed time: 16.0183166663 mins"
       ]
      },
      {
       "output_type": "stream",
       "stream": "stdout",
       "text": [
        "\r",
        "Finding differences of reclassification 4 for data pairs 41 of 45.  Elapsed time: 16.1092166662 mins"
       ]
      },
      {
       "output_type": "stream",
       "stream": "stdout",
       "text": [
        "\r",
        "Finding differences of reclassification 4 for data pairs 42 of 45.  Elapsed time: 16.2001333316 mins"
       ]
      },
      {
       "output_type": "stream",
       "stream": "stdout",
       "text": [
        "\r",
        "Finding differences of reclassification 4 for data pairs 43 of 45.  Elapsed time: 16.2915000002 mins"
       ]
      },
      {
       "output_type": "stream",
       "stream": "stdout",
       "text": [
        "\r",
        "Finding differences of reclassification 4 for data pairs 44 of 45.  Elapsed time: 16.3808166663 mins"
       ]
      },
      {
       "output_type": "stream",
       "stream": "stdout",
       "text": [
        "\r",
        "Finding differences of reclassification 4 for data pairs 45 of 45.  Elapsed time: 16.4705833316 mins"
       ]
      },
      {
       "output_type": "stream",
       "stream": "stdout",
       "text": [
        "\r",
        "Finding differences of reclassification 5 for data pairs 1 of 45.  Elapsed time: 16.5598500013 mins"
       ]
      },
      {
       "output_type": "stream",
       "stream": "stdout",
       "text": [
        "\r",
        "Finding differences of reclassification 5 for data pairs 2 of 45.  Elapsed time: 16.6550333341 mins"
       ]
      },
      {
       "output_type": "stream",
       "stream": "stdout",
       "text": [
        "\r",
        "Finding differences of reclassification 5 for data pairs 3 of 45.  Elapsed time: 16.7445166667 mins"
       ]
      },
      {
       "output_type": "stream",
       "stream": "stdout",
       "text": [
        "\r",
        "Finding differences of reclassification 5 for data pairs 4 of 45.  Elapsed time: 16.8348166664 mins"
       ]
      },
      {
       "output_type": "stream",
       "stream": "stdout",
       "text": [
        "\r",
        "Finding differences of reclassification 5 for data pairs 5 of 45.  Elapsed time: 16.9251333316 mins"
       ]
      },
      {
       "output_type": "stream",
       "stream": "stdout",
       "text": [
        "\r",
        "Finding differences of reclassification 5 for data pairs 6 of 45.  Elapsed time: 17.0151833336 mins"
       ]
      },
      {
       "output_type": "stream",
       "stream": "stdout",
       "text": [
        "\r",
        "Finding differences of reclassification 5 for data pairs 7 of 45.  Elapsed time: 17.1065499981 mins"
       ]
      },
      {
       "output_type": "stream",
       "stream": "stdout",
       "text": [
        "\r",
        "Finding differences of reclassification 5 for data pairs 8 of 45.  Elapsed time: 17.1974166671 mins"
       ]
      },
      {
       "output_type": "stream",
       "stream": "stdout",
       "text": [
        "\r",
        "Finding differences of reclassification 5 for data pairs 9 of 45.  Elapsed time: 17.2879666646 mins"
       ]
      },
      {
       "output_type": "stream",
       "stream": "stdout",
       "text": [
        "\r",
        "Finding differences of reclassification 5 for data pairs 10 of 45.  Elapsed time: 17.3781666676 mins"
       ]
      },
      {
       "output_type": "stream",
       "stream": "stdout",
       "text": [
        "\r",
        "Finding differences of reclassification 5 for data pairs 11 of 45.  Elapsed time: 17.4692833344 mins"
       ]
      },
      {
       "output_type": "stream",
       "stream": "stdout",
       "text": [
        "\r",
        "Finding differences of reclassification 5 for data pairs 12 of 45.  Elapsed time: 17.563166666 mins"
       ]
      },
      {
       "output_type": "stream",
       "stream": "stdout",
       "text": [
        "\r",
        "Finding differences of reclassification 5 for data pairs 13 of 45.  Elapsed time: 17.6610333323 mins"
       ]
      },
      {
       "output_type": "stream",
       "stream": "stdout",
       "text": [
        "\r",
        "Finding differences of reclassification 5 for data pairs 14 of 45.  Elapsed time: 17.754216667 mins"
       ]
      },
      {
       "output_type": "stream",
       "stream": "stdout",
       "text": [
        "\r",
        "Finding differences of reclassification 5 for data pairs 15 of 45.  Elapsed time: 17.8489166657 mins"
       ]
      },
      {
       "output_type": "stream",
       "stream": "stdout",
       "text": [
        "\r",
        "Finding differences of reclassification 5 for data pairs 16 of 45.  Elapsed time: 17.941716667 mins"
       ]
      },
      {
       "output_type": "stream",
       "stream": "stdout",
       "text": [
        "\r",
        "Finding differences of reclassification 5 for data pairs 17 of 45.  Elapsed time: 18.0355499983 mins"
       ]
      },
      {
       "output_type": "stream",
       "stream": "stdout",
       "text": [
        "\r",
        "Finding differences of reclassification 5 for data pairs 18 of 45.  Elapsed time: 18.1283999999 mins"
       ]
      },
      {
       "output_type": "stream",
       "stream": "stdout",
       "text": [
        "\r",
        "Finding differences of reclassification 5 for data pairs 19 of 45.  Elapsed time: 18.2220166683 mins"
       ]
      },
      {
       "output_type": "stream",
       "stream": "stdout",
       "text": [
        "\r",
        "Finding differences of reclassification 5 for data pairs 20 of 45.  Elapsed time: 18.3135166645 mins"
       ]
      },
      {
       "output_type": "stream",
       "stream": "stdout",
       "text": [
        "\r",
        "Finding differences of reclassification 5 for data pairs 21 of 45.  Elapsed time: 18.4108166655 mins"
       ]
      },
      {
       "output_type": "stream",
       "stream": "stdout",
       "text": [
        "\r",
        "Finding differences of reclassification 5 for data pairs 22 of 45.  Elapsed time: 18.528216668 mins"
       ]
      },
      {
       "output_type": "stream",
       "stream": "stdout",
       "text": [
        "\r",
        "Finding differences of reclassification 5 for data pairs 23 of 45.  Elapsed time: 18.6347166657 mins"
       ]
      },
      {
       "output_type": "stream",
       "stream": "stdout",
       "text": [
        "\r",
        "Finding differences of reclassification 5 for data pairs 24 of 45.  Elapsed time: 18.7271499991 mins"
       ]
      },
      {
       "output_type": "stream",
       "stream": "stdout",
       "text": [
        "\r",
        "Finding differences of reclassification 5 for data pairs 25 of 45.  Elapsed time: 18.8191333334 mins"
       ]
      },
      {
       "output_type": "stream",
       "stream": "stdout",
       "text": [
        "\r",
        "Finding differences of reclassification 5 for data pairs 26 of 45.  Elapsed time: 18.9110999982 mins"
       ]
      },
      {
       "output_type": "stream",
       "stream": "stdout",
       "text": [
        "\r",
        "Finding differences of reclassification 5 for data pairs 27 of 45.  Elapsed time: 19.0022499998 mins"
       ]
      },
      {
       "output_type": "stream",
       "stream": "stdout",
       "text": [
        "\r",
        "Finding differences of reclassification 5 for data pairs 28 of 45.  Elapsed time: 19.0973333319 mins"
       ]
      },
      {
       "output_type": "stream",
       "stream": "stdout",
       "text": [
        "\r",
        "Finding differences of reclassification 5 for data pairs 29 of 45.  Elapsed time: 19.1884666681 mins"
       ]
      },
      {
       "output_type": "stream",
       "stream": "stdout",
       "text": [
        "\r",
        "Finding differences of reclassification 5 for data pairs 30 of 45.  Elapsed time: 19.2797666669 mins"
       ]
      },
      {
       "output_type": "stream",
       "stream": "stdout",
       "text": [
        "\r",
        "Finding differences of reclassification 5 for data pairs 31 of 45.  Elapsed time: 19.3705666661 mins"
       ]
      },
      {
       "output_type": "stream",
       "stream": "stdout",
       "text": [
        "\r",
        "Finding differences of reclassification 5 for data pairs 32 of 45.  Elapsed time: 19.4595166683 mins"
       ]
      },
      {
       "output_type": "stream",
       "stream": "stdout",
       "text": [
        "\r",
        "Finding differences of reclassification 5 for data pairs 33 of 45.  Elapsed time: 19.5509666681 mins"
       ]
      },
      {
       "output_type": "stream",
       "stream": "stdout",
       "text": [
        "\r",
        "Finding differences of reclassification 5 for data pairs 34 of 45.  Elapsed time: 19.6467166662 mins"
       ]
      },
      {
       "output_type": "stream",
       "stream": "stdout",
       "text": [
        "\r",
        "Finding differences of reclassification 5 for data pairs 35 of 45.  Elapsed time: 19.7366333326 mins"
       ]
      },
      {
       "output_type": "stream",
       "stream": "stdout",
       "text": [
        "\r",
        "Finding differences of reclassification 5 for data pairs 36 of 45.  Elapsed time: 19.8258666674 mins"
       ]
      },
      {
       "output_type": "stream",
       "stream": "stdout",
       "text": [
        "\r",
        "Finding differences of reclassification 5 for data pairs 37 of 45.  Elapsed time: 19.9163499991 mins"
       ]
      },
      {
       "output_type": "stream",
       "stream": "stdout",
       "text": [
        "\r",
        "Finding differences of reclassification 5 for data pairs 38 of 45.  Elapsed time: 20.0058166663 mins"
       ]
      },
      {
       "output_type": "stream",
       "stream": "stdout",
       "text": [
        "\r",
        "Finding differences of reclassification 5 for data pairs 39 of 45.  Elapsed time: 20.0945500016 mins"
       ]
      },
      {
       "output_type": "stream",
       "stream": "stdout",
       "text": [
        "\r",
        "Finding differences of reclassification 5 for data pairs 40 of 45.  Elapsed time: 20.185283335 mins"
       ]
      },
      {
       "output_type": "stream",
       "stream": "stdout",
       "text": [
        "\r",
        "Finding differences of reclassification 5 for data pairs 41 of 45.  Elapsed time: 20.2784333348 mins"
       ]
      },
      {
       "output_type": "stream",
       "stream": "stdout",
       "text": [
        "\r",
        "Finding differences of reclassification 5 for data pairs 42 of 45.  Elapsed time: 20.3707499981 mins"
       ]
      },
      {
       "output_type": "stream",
       "stream": "stdout",
       "text": [
        "\r",
        "Finding differences of reclassification 5 for data pairs 43 of 45.  Elapsed time: 20.4695666671 mins"
       ]
      },
      {
       "output_type": "stream",
       "stream": "stdout",
       "text": [
        "\r",
        "Finding differences of reclassification 5 for data pairs 44 of 45.  Elapsed time: 20.5593666673 mins"
       ]
      },
      {
       "output_type": "stream",
       "stream": "stdout",
       "text": [
        "\r",
        "Finding differences of reclassification 5 for data pairs 45 of 45.  Elapsed time: 20.653733333 mins"
       ]
      },
      {
       "output_type": "stream",
       "stream": "stdout",
       "text": [
        "\r",
        "Finding differences of reclassification 6 for data pairs 1 of 45.  Elapsed time: 20.7467500011 mins"
       ]
      },
      {
       "output_type": "stream",
       "stream": "stdout",
       "text": [
        "\r",
        "Finding differences of reclassification 6 for data pairs 2 of 45.  Elapsed time: 20.8341500004 mins"
       ]
      },
      {
       "output_type": "stream",
       "stream": "stdout",
       "text": [
        "\r",
        "Finding differences of reclassification 6 for data pairs 3 of 45.  Elapsed time: 20.9206166665 mins"
       ]
      },
      {
       "output_type": "stream",
       "stream": "stdout",
       "text": [
        "\r",
        "Finding differences of reclassification 6 for data pairs 4 of 45.  Elapsed time: 21.0089333336 mins"
       ]
      },
      {
       "output_type": "stream",
       "stream": "stdout",
       "text": [
        "\r",
        "Finding differences of reclassification 6 for data pairs 5 of 45.  Elapsed time: 21.0970333338 mins"
       ]
      },
      {
       "output_type": "stream",
       "stream": "stdout",
       "text": [
        "\r",
        "Finding differences of reclassification 6 for data pairs 6 of 45.  Elapsed time: 21.1844999989 mins"
       ]
      },
      {
       "output_type": "stream",
       "stream": "stdout",
       "text": [
        "\r",
        "Finding differences of reclassification 6 for data pairs 7 of 45.  Elapsed time: 21.2737499992 mins"
       ]
      },
      {
       "output_type": "stream",
       "stream": "stdout",
       "text": [
        "\r",
        "Finding differences of reclassification 6 for data pairs 8 of 45.  Elapsed time: 21.3637166659 mins"
       ]
      },
      {
       "output_type": "stream",
       "stream": "stdout",
       "text": [
        "\r",
        "Finding differences of reclassification 6 for data pairs 9 of 45.  Elapsed time: 21.4523333311 mins"
       ]
      },
      {
       "output_type": "stream",
       "stream": "stdout",
       "text": [
        "\r",
        "Finding differences of reclassification 6 for data pairs 10 of 45.  Elapsed time: 21.5445500016 mins"
       ]
      },
      {
       "output_type": "stream",
       "stream": "stdout",
       "text": [
        "\r",
        "Finding differences of reclassification 6 for data pairs 11 of 45.  Elapsed time: 21.6357666651 mins"
       ]
      },
      {
       "output_type": "stream",
       "stream": "stdout",
       "text": [
        "\r",
        "Finding differences of reclassification 6 for data pairs 12 of 45.  Elapsed time: 21.7283999999 mins"
       ]
      },
      {
       "output_type": "stream",
       "stream": "stdout",
       "text": [
        "\r",
        "Finding differences of reclassification 6 for data pairs 13 of 45.  Elapsed time: 21.8214666645 mins"
       ]
      },
      {
       "output_type": "stream",
       "stream": "stdout",
       "text": [
        "\r",
        "Finding differences of reclassification 6 for data pairs 14 of 45.  Elapsed time: 21.910133334 mins"
       ]
      },
      {
       "output_type": "stream",
       "stream": "stdout",
       "text": [
        "\r",
        "Finding differences of reclassification 6 for data pairs 15 of 45.  Elapsed time: 21.9985999982 mins"
       ]
      },
      {
       "output_type": "stream",
       "stream": "stdout",
       "text": [
        "\r",
        "Finding differences of reclassification 6 for data pairs 16 of 45.  Elapsed time: 22.0859166662 mins"
       ]
      },
      {
       "output_type": "stream",
       "stream": "stdout",
       "text": [
        "\r",
        "Finding differences of reclassification 6 for data pairs 17 of 45.  Elapsed time: 22.1735833327 mins"
       ]
      },
      {
       "output_type": "stream",
       "stream": "stdout",
       "text": [
        "\r",
        "Finding differences of reclassification 6 for data pairs 18 of 45.  Elapsed time: 22.2607166648 mins"
       ]
      },
      {
       "output_type": "stream",
       "stream": "stdout",
       "text": [
        "\r",
        "Finding differences of reclassification 6 for data pairs 19 of 45.  Elapsed time: 22.3495000005 mins"
       ]
      },
      {
       "output_type": "stream",
       "stream": "stdout",
       "text": [
        "\r",
        "Finding differences of reclassification 6 for data pairs 20 of 45.  Elapsed time: 22.4359000007 mins"
       ]
      },
      {
       "output_type": "stream",
       "stream": "stdout",
       "text": [
        "\r",
        "Finding differences of reclassification 6 for data pairs 21 of 45.  Elapsed time: 22.5243666649 mins"
       ]
      },
      {
       "output_type": "stream",
       "stream": "stdout",
       "text": [
        "\r",
        "Finding differences of reclassification 6 for data pairs 22 of 45.  Elapsed time: 22.6174333334 mins"
       ]
      },
      {
       "output_type": "stream",
       "stream": "stdout",
       "text": [
        "\r",
        "Finding differences of reclassification 6 for data pairs 23 of 45.  Elapsed time: 22.704033335 mins"
       ]
      },
      {
       "output_type": "stream",
       "stream": "stdout",
       "text": [
        "\r",
        "Finding differences of reclassification 6 for data pairs 24 of 45.  Elapsed time: 22.7902166645 mins"
       ]
      },
      {
       "output_type": "stream",
       "stream": "stdout",
       "text": [
        "\r",
        "Finding differences of reclassification 6 for data pairs 25 of 45.  Elapsed time: 22.8784166654 mins"
       ]
      },
      {
       "output_type": "stream",
       "stream": "stdout",
       "text": [
        "\r",
        "Finding differences of reclassification 6 for data pairs 26 of 45.  Elapsed time: 22.96705 mins"
       ]
      },
      {
       "output_type": "stream",
       "stream": "stdout",
       "text": [
        "\r",
        "Finding differences of reclassification 6 for data pairs 27 of 45.  Elapsed time: 23.0563666662 mins"
       ]
      },
      {
       "output_type": "stream",
       "stream": "stdout",
       "text": [
        "\r",
        "Finding differences of reclassification 6 for data pairs 28 of 45.  Elapsed time: 23.1466833313 mins"
       ]
      },
      {
       "output_type": "stream",
       "stream": "stdout",
       "text": [
        "\r",
        "Finding differences of reclassification 6 for data pairs 29 of 45.  Elapsed time: 23.2362166683 mins"
       ]
      },
      {
       "output_type": "stream",
       "stream": "stdout",
       "text": [
        "\r",
        "Finding differences of reclassification 6 for data pairs 30 of 45.  Elapsed time: 23.3243666649 mins"
       ]
      },
      {
       "output_type": "stream",
       "stream": "stdout",
       "text": [
        "\r",
        "Finding differences of reclassification 6 for data pairs 31 of 45.  Elapsed time: 23.4126666665 mins"
       ]
      },
      {
       "output_type": "stream",
       "stream": "stdout",
       "text": [
        "\r",
        "Finding differences of reclassification 6 for data pairs 32 of 45.  Elapsed time: 23.4997166673 mins"
       ]
      },
      {
       "output_type": "stream",
       "stream": "stdout",
       "text": [
        "\r",
        "Finding differences of reclassification 6 for data pairs 33 of 45.  Elapsed time: 23.5901333332 mins"
       ]
      },
      {
       "output_type": "stream",
       "stream": "stdout",
       "text": [
        "\r",
        "Finding differences of reclassification 6 for data pairs 34 of 45.  Elapsed time: 23.684283332 mins"
       ]
      },
      {
       "output_type": "stream",
       "stream": "stdout",
       "text": [
        "\r",
        "Finding differences of reclassification 6 for data pairs 35 of 45.  Elapsed time: 23.7791166663 mins"
       ]
      },
      {
       "output_type": "stream",
       "stream": "stdout",
       "text": [
        "\r",
        "Finding differences of reclassification 6 for data pairs 36 of 45.  Elapsed time: 23.8680166682 mins"
       ]
      },
      {
       "output_type": "stream",
       "stream": "stdout",
       "text": [
        "\r",
        "Finding differences of reclassification 6 for data pairs 37 of 45.  Elapsed time: 23.9649500012 mins"
       ]
      },
      {
       "output_type": "stream",
       "stream": "stdout",
       "text": [
        "\r",
        "Finding differences of reclassification 6 for data pairs 38 of 45.  Elapsed time: 24.0520999988 mins"
       ]
      },
      {
       "output_type": "stream",
       "stream": "stdout",
       "text": [
        "\r",
        "Finding differences of reclassification 6 for data pairs 39 of 45.  Elapsed time: 24.1427666664 mins"
       ]
      },
      {
       "output_type": "stream",
       "stream": "stdout",
       "text": [
        "\r",
        "Finding differences of reclassification 6 for data pairs 40 of 45.  Elapsed time: 24.2344333331 mins"
       ]
      },
      {
       "output_type": "stream",
       "stream": "stdout",
       "text": [
        "\r",
        "Finding differences of reclassification 6 for data pairs 41 of 45.  Elapsed time: 24.3254166683 mins"
       ]
      },
      {
       "output_type": "stream",
       "stream": "stdout",
       "text": [
        "\r",
        "Finding differences of reclassification 6 for data pairs 42 of 45.  Elapsed time: 24.4224499981 mins"
       ]
      },
      {
       "output_type": "stream",
       "stream": "stdout",
       "text": [
        "\r",
        "Finding differences of reclassification 6 for data pairs 43 of 45.  Elapsed time: 24.5192999999 mins"
       ]
      },
      {
       "output_type": "stream",
       "stream": "stdout",
       "text": [
        "\r",
        "Finding differences of reclassification 6 for data pairs 44 of 45.  Elapsed time: 24.6179333329 mins"
       ]
      },
      {
       "output_type": "stream",
       "stream": "stdout",
       "text": [
        "\r",
        "Finding differences of reclassification 6 for data pairs 45 of 45.  Elapsed time: 24.7100166678 mins"
       ]
      },
      {
       "output_type": "stream",
       "stream": "stdout",
       "text": [
        "\r",
        "Finding differences of reclassification 7 for data pairs 1 of 45.  Elapsed time: 24.8012000004 mins"
       ]
      },
      {
       "output_type": "stream",
       "stream": "stdout",
       "text": [
        "\r",
        "Finding differences of reclassification 7 for data pairs 2 of 45.  Elapsed time: 24.891566666 mins"
       ]
      },
      {
       "output_type": "stream",
       "stream": "stdout",
       "text": [
        "\r",
        "Finding differences of reclassification 7 for data pairs 3 of 45.  Elapsed time: 24.9808166663 mins"
       ]
      },
      {
       "output_type": "stream",
       "stream": "stdout",
       "text": [
        "\r",
        "Finding differences of reclassification 7 for data pairs 4 of 45.  Elapsed time: 25.0714166681 mins"
       ]
      },
      {
       "output_type": "stream",
       "stream": "stdout",
       "text": [
        "\r",
        "Finding differences of reclassification 7 for data pairs 5 of 45.  Elapsed time: 25.161649998 mins"
       ]
      },
      {
       "output_type": "stream",
       "stream": "stdout",
       "text": [
        "\r",
        "Finding differences of reclassification 7 for data pairs 6 of 45.  Elapsed time: 25.2506166657 mins"
       ]
      },
      {
       "output_type": "stream",
       "stream": "stdout",
       "text": [
        "\r",
        "Finding differences of reclassification 7 for data pairs 7 of 45.  Elapsed time: 25.341383334 mins"
       ]
      },
      {
       "output_type": "stream",
       "stream": "stdout",
       "text": [
        "\r",
        "Finding differences of reclassification 7 for data pairs 8 of 45.  Elapsed time: 25.4315999985 mins"
       ]
      },
      {
       "output_type": "stream",
       "stream": "stdout",
       "text": [
        "\r",
        "Finding differences of reclassification 7 for data pairs 9 of 45.  Elapsed time: 25.5218333324 mins"
       ]
      },
      {
       "output_type": "stream",
       "stream": "stdout",
       "text": [
        "\r",
        "Finding differences of reclassification 7 for data pairs 10 of 45.  Elapsed time: 25.6163999995 mins"
       ]
      },
      {
       "output_type": "stream",
       "stream": "stdout",
       "text": [
        "\r",
        "Finding differences of reclassification 7 for data pairs 11 of 45.  Elapsed time: 25.7059333324 mins"
       ]
      },
      {
       "output_type": "stream",
       "stream": "stdout",
       "text": [
        "\r",
        "Finding differences of reclassification 7 for data pairs 12 of 45.  Elapsed time: 25.7969333331 mins"
       ]
      },
      {
       "output_type": "stream",
       "stream": "stdout",
       "text": [
        "\r",
        "Finding differences of reclassification 7 for data pairs 13 of 45.  Elapsed time: 25.887349999 mins"
       ]
      },
      {
       "output_type": "stream",
       "stream": "stdout",
       "text": [
        "\r",
        "Finding differences of reclassification 7 for data pairs 14 of 45.  Elapsed time: 25.9765666684 mins"
       ]
      },
      {
       "output_type": "stream",
       "stream": "stdout",
       "text": [
        "\r",
        "Finding differences of reclassification 7 for data pairs 15 of 45.  Elapsed time: 26.0672500014 mins"
       ]
      },
      {
       "output_type": "stream",
       "stream": "stdout",
       "text": [
        "\r",
        "Finding differences of reclassification 7 for data pairs 16 of 45.  Elapsed time: 26.1582000017 mins"
       ]
      },
      {
       "output_type": "stream",
       "stream": "stdout",
       "text": [
        "\r",
        "Finding differences of reclassification 7 for data pairs 17 of 45.  Elapsed time: 26.2532499989 mins"
       ]
      },
      {
       "output_type": "stream",
       "stream": "stdout",
       "text": [
        "\r",
        "Finding differences of reclassification 7 for data pairs 18 of 45.  Elapsed time: 26.3435166677 mins"
       ]
      },
      {
       "output_type": "stream",
       "stream": "stdout",
       "text": [
        "\r",
        "Finding differences of reclassification 7 for data pairs 19 of 45.  Elapsed time: 26.4343499978 mins"
       ]
      },
      {
       "output_type": "stream",
       "stream": "stdout",
       "text": [
        "\r",
        "Finding differences of reclassification 7 for data pairs 20 of 45.  Elapsed time: 26.5275000016 mins"
       ]
      },
      {
       "output_type": "stream",
       "stream": "stdout",
       "text": [
        "\r",
        "Finding differences of reclassification 7 for data pairs 21 of 45.  Elapsed time: 26.6433833321 mins"
       ]
      },
      {
       "output_type": "stream",
       "stream": "stdout",
       "text": [
        "\r",
        "Finding differences of reclassification 7 for data pairs 22 of 45.  Elapsed time: 26.7448666652 mins"
       ]
      },
      {
       "output_type": "stream",
       "stream": "stdout",
       "text": [
        "\r",
        "Finding differences of reclassification 7 for data pairs 23 of 45.  Elapsed time: 26.8338333329 mins"
       ]
      },
      {
       "output_type": "stream",
       "stream": "stdout",
       "text": [
        "\r",
        "Finding differences of reclassification 7 for data pairs 24 of 45.  Elapsed time: 26.9242333333 mins"
       ]
      },
      {
       "output_type": "stream",
       "stream": "stdout",
       "text": [
        "\r",
        "Finding differences of reclassification 7 for data pairs 25 of 45.  Elapsed time: 27.0199000001 mins"
       ]
      },
      {
       "output_type": "stream",
       "stream": "stdout",
       "text": [
        "\r",
        "Finding differences of reclassification 7 for data pairs 26 of 45.  Elapsed time: 27.1117166678 mins"
       ]
      },
      {
       "output_type": "stream",
       "stream": "stdout",
       "text": [
        "\r",
        "Finding differences of reclassification 7 for data pairs 27 of 45.  Elapsed time: 27.2027333339 mins"
       ]
      },
      {
       "output_type": "stream",
       "stream": "stdout",
       "text": [
        "\r",
        "Finding differences of reclassification 7 for data pairs 28 of 45.  Elapsed time: 27.2962000012 mins"
       ]
      },
      {
       "output_type": "stream",
       "stream": "stdout",
       "text": [
        "\r",
        "Finding differences of reclassification 7 for data pairs 29 of 45.  Elapsed time: 27.3870666663 mins"
       ]
      },
      {
       "output_type": "stream",
       "stream": "stdout",
       "text": [
        "\r",
        "Finding differences of reclassification 7 for data pairs 30 of 45.  Elapsed time: 27.478883334 mins"
       ]
      },
      {
       "output_type": "stream",
       "stream": "stdout",
       "text": [
        "\r",
        "Finding differences of reclassification 7 for data pairs 31 of 45.  Elapsed time: 27.574483335 mins"
       ]
      },
      {
       "output_type": "stream",
       "stream": "stdout",
       "text": [
        "\r",
        "Finding differences of reclassification 7 for data pairs 32 of 45.  Elapsed time: 27.6683666666 mins"
       ]
      },
      {
       "output_type": "stream",
       "stream": "stdout",
       "text": [
        "\r",
        "Finding differences of reclassification 7 for data pairs 33 of 45.  Elapsed time: 27.7596333345 mins"
       ]
      },
      {
       "output_type": "stream",
       "stream": "stdout",
       "text": [
        "\r",
        "Finding differences of reclassification 7 for data pairs 34 of 45.  Elapsed time: 27.8504333337 mins"
       ]
      },
      {
       "output_type": "stream",
       "stream": "stdout",
       "text": [
        "\r",
        "Finding differences of reclassification 7 for data pairs 35 of 45.  Elapsed time: 27.9407833338 mins"
       ]
      },
      {
       "output_type": "stream",
       "stream": "stdout",
       "text": [
        "\r",
        "Finding differences of reclassification 7 for data pairs 36 of 45.  Elapsed time: 28.030916667 mins"
       ]
      },
      {
       "output_type": "stream",
       "stream": "stdout",
       "text": [
        "\r",
        "Finding differences of reclassification 7 for data pairs 37 of 45.  Elapsed time: 28.1218833327 mins"
       ]
      },
      {
       "output_type": "stream",
       "stream": "stdout",
       "text": [
        "\r",
        "Finding differences of reclassification 7 for data pairs 38 of 45.  Elapsed time: 28.2114166657 mins"
       ]
      },
      {
       "output_type": "stream",
       "stream": "stdout",
       "text": [
        "\r",
        "Finding differences of reclassification 7 for data pairs 39 of 45.  Elapsed time: 28.3015999993 mins"
       ]
      },
      {
       "output_type": "stream",
       "stream": "stdout",
       "text": [
        "\r",
        "Finding differences of reclassification 7 for data pairs 40 of 45.  Elapsed time: 28.3920166651 mins"
       ]
      },
      {
       "output_type": "stream",
       "stream": "stdout",
       "text": [
        "\r",
        "Finding differences of reclassification 7 for data pairs 41 of 45.  Elapsed time: 28.4830166658 mins"
       ]
      },
      {
       "output_type": "stream",
       "stream": "stdout",
       "text": [
        "\r",
        "Finding differences of reclassification 7 for data pairs 42 of 45.  Elapsed time: 28.5827333331 mins"
       ]
      },
      {
       "output_type": "stream",
       "stream": "stdout",
       "text": [
        "\r",
        "Finding differences of reclassification 7 for data pairs 43 of 45.  Elapsed time: 28.6786999981 mins"
       ]
      },
      {
       "output_type": "stream",
       "stream": "stdout",
       "text": [
        "\r",
        "Finding differences of reclassification 7 for data pairs 44 of 45.  Elapsed time: 28.7746166666 mins"
       ]
      },
      {
       "output_type": "stream",
       "stream": "stdout",
       "text": [
        "\r",
        "Finding differences of reclassification 7 for data pairs 45 of 45.  Elapsed time: 28.8701499979 mins"
       ]
      },
      {
       "output_type": "stream",
       "stream": "stdout",
       "text": [
        "\r",
        "Finding differences of reclassification 8 for data pairs 1 of 45.  Elapsed time: 28.9603500009 mins"
       ]
      },
      {
       "output_type": "stream",
       "stream": "stdout",
       "text": [
        "\r",
        "Finding differences of reclassification 8 for data pairs 2 of 45.  Elapsed time: 29.0507333318 mins"
       ]
      },
      {
       "output_type": "stream",
       "stream": "stdout",
       "text": [
        "\r",
        "Finding differences of reclassification 8 for data pairs 3 of 45.  Elapsed time: 29.1401666681 mins"
       ]
      },
      {
       "output_type": "stream",
       "stream": "stdout",
       "text": [
        "\r",
        "Finding differences of reclassification 8 for data pairs 4 of 45.  Elapsed time: 29.2341500004 mins"
       ]
      },
      {
       "output_type": "stream",
       "stream": "stdout",
       "text": [
        "\r",
        "Finding differences of reclassification 8 for data pairs 5 of 45.  Elapsed time: 29.3284833312 mins"
       ]
      },
      {
       "output_type": "stream",
       "stream": "stdout",
       "text": [
        "\r",
        "Finding differences of reclassification 8 for data pairs 6 of 45.  Elapsed time: 29.4190666676 mins"
       ]
      },
      {
       "output_type": "stream",
       "stream": "stdout",
       "text": [
        "\r",
        "Finding differences of reclassification 8 for data pairs 7 of 45.  Elapsed time: 29.5100666682 mins"
       ]
      },
      {
       "output_type": "stream",
       "stream": "stdout",
       "text": [
        "\r",
        "Finding differences of reclassification 8 for data pairs 8 of 45.  Elapsed time: 29.6060499986 mins"
       ]
      },
      {
       "output_type": "stream",
       "stream": "stdout",
       "text": [
        "\r",
        "Finding differences of reclassification 8 for data pairs 9 of 45.  Elapsed time: 29.6958499988 mins"
       ]
      },
      {
       "output_type": "stream",
       "stream": "stdout",
       "text": [
        "\r",
        "Finding differences of reclassification 8 for data pairs 10 of 45.  Elapsed time: 29.7849666675 mins"
       ]
      },
      {
       "output_type": "stream",
       "stream": "stdout",
       "text": [
        "\r",
        "Finding differences of reclassification 8 for data pairs 11 of 45.  Elapsed time: 29.8740333319 mins"
       ]
      },
      {
       "output_type": "stream",
       "stream": "stdout",
       "text": [
        "\r",
        "Finding differences of reclassification 8 for data pairs 12 of 45.  Elapsed time: 29.9658166647 mins"
       ]
      },
      {
       "output_type": "stream",
       "stream": "stdout",
       "text": [
        "\r",
        "Finding differences of reclassification 8 for data pairs 13 of 45.  Elapsed time: 30.055916667 mins"
       ]
      },
      {
       "output_type": "stream",
       "stream": "stdout",
       "text": [
        "\r",
        "Finding differences of reclassification 8 for data pairs 14 of 45.  Elapsed time: 30.1462166667 mins"
       ]
      },
      {
       "output_type": "stream",
       "stream": "stdout",
       "text": [
        "\r",
        "Finding differences of reclassification 8 for data pairs 15 of 45.  Elapsed time: 30.2381833315 mins"
       ]
      },
      {
       "output_type": "stream",
       "stream": "stdout",
       "text": [
        "\r",
        "Finding differences of reclassification 8 for data pairs 16 of 45.  Elapsed time: 30.3291166663 mins"
       ]
      },
      {
       "output_type": "stream",
       "stream": "stdout",
       "text": [
        "\r",
        "Finding differences of reclassification 8 for data pairs 17 of 45.  Elapsed time: 30.4219999989 mins"
       ]
      },
      {
       "output_type": "stream",
       "stream": "stdout",
       "text": [
        "\r",
        "Finding differences of reclassification 8 for data pairs 18 of 45.  Elapsed time: 30.5128833334 mins"
       ]
      },
      {
       "output_type": "stream",
       "stream": "stdout",
       "text": [
        "\r",
        "Finding differences of reclassification 8 for data pairs 19 of 45.  Elapsed time: 30.6085666656 mins"
       ]
      },
      {
       "output_type": "stream",
       "stream": "stdout",
       "text": [
        "\r",
        "Finding differences of reclassification 8 for data pairs 20 of 45.  Elapsed time: 30.6979166667 mins"
       ]
      },
      {
       "output_type": "stream",
       "stream": "stdout",
       "text": [
        "\r",
        "Finding differences of reclassification 8 for data pairs 21 of 45.  Elapsed time: 30.7885666649 mins"
       ]
      },
      {
       "output_type": "stream",
       "stream": "stdout",
       "text": [
        "\r",
        "Finding differences of reclassification 8 for data pairs 22 of 45.  Elapsed time: 30.8803000013 mins"
       ]
      },
      {
       "output_type": "stream",
       "stream": "stdout",
       "text": [
        "\r",
        "Finding differences of reclassification 8 for data pairs 23 of 45.  Elapsed time: 30.9700000008 mins"
       ]
      },
      {
       "output_type": "stream",
       "stream": "stdout",
       "text": [
        "\r",
        "Finding differences of reclassification 8 for data pairs 24 of 45.  Elapsed time: 31.0604000012 mins"
       ]
      },
      {
       "output_type": "stream",
       "stream": "stdout",
       "text": [
        "\r",
        "Finding differences of reclassification 8 for data pairs 25 of 45.  Elapsed time: 31.1520166675 mins"
       ]
      },
      {
       "output_type": "stream",
       "stream": "stdout",
       "text": [
        "\r",
        "Finding differences of reclassification 8 for data pairs 26 of 45.  Elapsed time: 31.2431499998 mins"
       ]
      },
      {
       "output_type": "stream",
       "stream": "stdout",
       "text": [
        "\r",
        "Finding differences of reclassification 8 for data pairs 27 of 45.  Elapsed time: 31.3371500015 mins"
       ]
      },
      {
       "output_type": "stream",
       "stream": "stdout",
       "text": [
        "\r",
        "Finding differences of reclassification 8 for data pairs 28 of 45.  Elapsed time: 31.4299666683 mins"
       ]
      },
      {
       "output_type": "stream",
       "stream": "stdout",
       "text": [
        "\r",
        "Finding differences of reclassification 8 for data pairs 29 of 45.  Elapsed time: 31.5203833342 mins"
       ]
      },
      {
       "output_type": "stream",
       "stream": "stdout",
       "text": [
        "\r",
        "Finding differences of reclassification 8 for data pairs 30 of 45.  Elapsed time: 31.6156666676 mins"
       ]
      },
      {
       "output_type": "stream",
       "stream": "stdout",
       "text": [
        "\r",
        "Finding differences of reclassification 8 for data pairs 31 of 45.  Elapsed time: 31.7064999978 mins"
       ]
      },
      {
       "output_type": "stream",
       "stream": "stdout",
       "text": [
        "\r",
        "Finding differences of reclassification 8 for data pairs 32 of 45.  Elapsed time: 31.7957999984 mins"
       ]
      },
      {
       "output_type": "stream",
       "stream": "stdout",
       "text": [
        "\r",
        "Finding differences of reclassification 8 for data pairs 33 of 45.  Elapsed time: 31.8864500006 mins"
       ]
      },
      {
       "output_type": "stream",
       "stream": "stdout",
       "text": [
        "\r",
        "Finding differences of reclassification 8 for data pairs 34 of 45.  Elapsed time: 31.9789499998 mins"
       ]
      },
      {
       "output_type": "stream",
       "stream": "stdout",
       "text": [
        "\r",
        "Finding differences of reclassification 8 for data pairs 35 of 45.  Elapsed time: 32.0689833323 mins"
       ]
      },
      {
       "output_type": "stream",
       "stream": "stdout",
       "text": [
        "\r",
        "Finding differences of reclassification 8 for data pairs 36 of 45.  Elapsed time: 32.1596833348 mins"
       ]
      },
      {
       "output_type": "stream",
       "stream": "stdout",
       "text": [
        "\r",
        "Finding differences of reclassification 8 for data pairs 37 of 45.  Elapsed time: 32.2515666684 mins"
       ]
      },
      {
       "output_type": "stream",
       "stream": "stdout",
       "text": [
        "\r",
        "Finding differences of reclassification 8 for data pairs 38 of 45.  Elapsed time: 32.3411666671 mins"
       ]
      },
      {
       "output_type": "stream",
       "stream": "stdout",
       "text": [
        "\r",
        "Finding differences of reclassification 8 for data pairs 39 of 45.  Elapsed time: 32.4309499979 mins"
       ]
      },
      {
       "output_type": "stream",
       "stream": "stdout",
       "text": [
        "\r",
        "Finding differences of reclassification 8 for data pairs 40 of 45.  Elapsed time: 32.5237333337 mins"
       ]
      },
      {
       "output_type": "stream",
       "stream": "stdout",
       "text": [
        "\r",
        "Finding differences of reclassification 8 for data pairs 41 of 45.  Elapsed time: 32.6188666662 mins"
       ]
      },
      {
       "output_type": "stream",
       "stream": "stdout",
       "text": [
        "\r",
        "Finding differences of reclassification 8 for data pairs 42 of 45.  Elapsed time: 32.7101833344 mins"
       ]
      },
      {
       "output_type": "stream",
       "stream": "stdout",
       "text": [
        "\r",
        "Finding differences of reclassification 8 for data pairs 43 of 45.  Elapsed time: 32.8007500013 mins"
       ]
      },
      {
       "output_type": "stream",
       "stream": "stdout",
       "text": [
        "\r",
        "Finding differences of reclassification 8 for data pairs 44 of 45.  Elapsed time: 32.8903500001 mins"
       ]
      },
      {
       "output_type": "stream",
       "stream": "stdout",
       "text": [
        "\r",
        "Finding differences of reclassification 8 for data pairs 45 of 45.  Elapsed time: 32.9792499979 mins"
       ]
      },
      {
       "output_type": "stream",
       "stream": "stdout",
       "text": [
        "\r",
        "Finding differences of reclassification 9 for data pairs 1 of 45.  Elapsed time: 33.0686499993 mins"
       ]
      },
      {
       "output_type": "stream",
       "stream": "stdout",
       "text": [
        "\r",
        "Finding differences of reclassification 9 for data pairs 2 of 45.  Elapsed time: 33.1586500009 mins"
       ]
      },
      {
       "output_type": "stream",
       "stream": "stdout",
       "text": [
        "\r",
        "Finding differences of reclassification 9 for data pairs 3 of 45.  Elapsed time: 33.2483500004 mins"
       ]
      },
      {
       "output_type": "stream",
       "stream": "stdout",
       "text": [
        "\r",
        "Finding differences of reclassification 9 for data pairs 4 of 45.  Elapsed time: 33.3387500008 mins"
       ]
      },
      {
       "output_type": "stream",
       "stream": "stdout",
       "text": [
        "\r",
        "Finding differences of reclassification 9 for data pairs 5 of 45.  Elapsed time: 33.4291666667 mins"
       ]
      },
      {
       "output_type": "stream",
       "stream": "stdout",
       "text": [
        "\r",
        "Finding differences of reclassification 9 for data pairs 6 of 45.  Elapsed time: 33.5195500016 mins"
       ]
      },
      {
       "output_type": "stream",
       "stream": "stdout",
       "text": [
        "\r",
        "Finding differences of reclassification 9 for data pairs 7 of 45.  Elapsed time: 33.612833333 mins"
       ]
      },
      {
       "output_type": "stream",
       "stream": "stdout",
       "text": [
        "\r",
        "Finding differences of reclassification 9 for data pairs 8 of 45.  Elapsed time: 33.7027333339 mins"
       ]
      },
      {
       "output_type": "stream",
       "stream": "stdout",
       "text": [
        "\r",
        "Finding differences of reclassification 9 for data pairs 9 of 45.  Elapsed time: 33.7932500005 mins"
       ]
      },
      {
       "output_type": "stream",
       "stream": "stdout",
       "text": [
        "\r",
        "Finding differences of reclassification 9 for data pairs 10 of 45.  Elapsed time: 33.8858 mins"
       ]
      },
      {
       "output_type": "stream",
       "stream": "stdout",
       "text": [
        "\r",
        "Finding differences of reclassification 9 for data pairs 11 of 45.  Elapsed time: 33.9746000012 mins"
       ]
      },
      {
       "output_type": "stream",
       "stream": "stdout",
       "text": [
        "\r",
        "Finding differences of reclassification 9 for data pairs 12 of 45.  Elapsed time: 34.0707000017 mins"
       ]
      },
      {
       "output_type": "stream",
       "stream": "stdout",
       "text": [
        "\r",
        "Finding differences of reclassification 9 for data pairs 13 of 45.  Elapsed time: 34.1607499997 mins"
       ]
      },
      {
       "output_type": "stream",
       "stream": "stdout",
       "text": [
        "\r",
        "Finding differences of reclassification 9 for data pairs 14 of 45.  Elapsed time: 34.2502499978 mins"
       ]
      },
      {
       "output_type": "stream",
       "stream": "stdout",
       "text": [
        "\r",
        "Finding differences of reclassification 9 for data pairs 15 of 45.  Elapsed time: 34.3410833319 mins"
       ]
      },
      {
       "output_type": "stream",
       "stream": "stdout",
       "text": [
        "\r",
        "Finding differences of reclassification 9 for data pairs 16 of 45.  Elapsed time: 34.4312833349 mins"
       ]
      },
      {
       "output_type": "stream",
       "stream": "stdout",
       "text": [
        "\r",
        "Finding differences of reclassification 9 for data pairs 17 of 45.  Elapsed time: 34.5218833327 mins"
       ]
      },
      {
       "output_type": "stream",
       "stream": "stdout",
       "text": [
        "\r",
        "Finding differences of reclassification 9 for data pairs 18 of 45.  Elapsed time: 34.6151666681 mins"
       ]
      },
      {
       "output_type": "stream",
       "stream": "stdout",
       "text": [
        "\r",
        "Finding differences of reclassification 9 for data pairs 19 of 45.  Elapsed time: 34.7056166649 mins"
       ]
      },
      {
       "output_type": "stream",
       "stream": "stdout",
       "text": [
        "\r",
        "Finding differences of reclassification 9 for data pairs 20 of 45.  Elapsed time: 34.7938666662 mins"
       ]
      },
      {
       "output_type": "stream",
       "stream": "stdout",
       "text": [
        "\r",
        "Finding differences of reclassification 9 for data pairs 21 of 45.  Elapsed time: 34.8840666652 mins"
       ]
      },
      {
       "output_type": "stream",
       "stream": "stdout",
       "text": [
        "\r",
        "Finding differences of reclassification 9 for data pairs 22 of 45.  Elapsed time: 34.9746500015 mins"
       ]
      },
      {
       "output_type": "stream",
       "stream": "stdout",
       "text": [
        "\r",
        "Finding differences of reclassification 9 for data pairs 23 of 45.  Elapsed time: 35.0631166657 mins"
       ]
      },
      {
       "output_type": "stream",
       "stream": "stdout",
       "text": [
        "\r",
        "Finding differences of reclassification 9 for data pairs 24 of 45.  Elapsed time: 35.1519500017 mins"
       ]
      },
      {
       "output_type": "stream",
       "stream": "stdout",
       "text": [
        "\r",
        "Finding differences of reclassification 9 for data pairs 25 of 45.  Elapsed time: 35.2421833316 mins"
       ]
      },
      {
       "output_type": "stream",
       "stream": "stdout",
       "text": [
        "\r",
        "Finding differences of reclassification 9 for data pairs 26 of 45.  Elapsed time: 35.3326333324 mins"
       ]
      },
      {
       "output_type": "stream",
       "stream": "stdout",
       "text": [
        "\r",
        "Finding differences of reclassification 9 for data pairs 27 of 45.  Elapsed time: 35.4215666652 mins"
       ]
      },
      {
       "output_type": "stream",
       "stream": "stdout",
       "text": [
        "\r",
        "Finding differences of reclassification 9 for data pairs 28 of 45.  Elapsed time: 35.5130499999 mins"
       ]
      },
      {
       "output_type": "stream",
       "stream": "stdout",
       "text": [
        "\r",
        "Finding differences of reclassification 9 for data pairs 29 of 45.  Elapsed time: 35.6052166661 mins"
       ]
      },
      {
       "output_type": "stream",
       "stream": "stdout",
       "text": [
        "\r",
        "Finding differences of reclassification 9 for data pairs 30 of 45.  Elapsed time: 35.6944500009 mins"
       ]
      },
      {
       "output_type": "stream",
       "stream": "stdout",
       "text": [
        "\r",
        "Finding differences of reclassification 9 for data pairs 31 of 45.  Elapsed time: 35.7841000001 mins"
       ]
      },
      {
       "output_type": "stream",
       "stream": "stdout",
       "text": [
        "\r",
        "Finding differences of reclassification 9 for data pairs 32 of 45.  Elapsed time: 35.8727166653 mins"
       ]
      },
      {
       "output_type": "stream",
       "stream": "stdout",
       "text": [
        "\r",
        "Finding differences of reclassification 9 for data pairs 33 of 45.  Elapsed time: 35.9632166664 mins"
       ]
      },
      {
       "output_type": "stream",
       "stream": "stdout",
       "text": [
        "\r",
        "Finding differences of reclassification 9 for data pairs 34 of 45.  Elapsed time: 36.0530166666 mins"
       ]
      },
      {
       "output_type": "stream",
       "stream": "stdout",
       "text": [
        "\r",
        "Finding differences of reclassification 9 for data pairs 35 of 45.  Elapsed time: 36.1424833337 mins"
       ]
      },
      {
       "output_type": "stream",
       "stream": "stdout",
       "text": [
        "\r",
        "Finding differences of reclassification 9 for data pairs 36 of 45.  Elapsed time: 36.2311166684 mins"
       ]
      },
      {
       "output_type": "stream",
       "stream": "stdout",
       "text": [
        "\r",
        "Finding differences of reclassification 9 for data pairs 37 of 45.  Elapsed time: 36.3218333324 mins"
       ]
      },
      {
       "output_type": "stream",
       "stream": "stdout",
       "text": [
        "\r",
        "Finding differences of reclassification 9 for data pairs 38 of 45.  Elapsed time: 36.4104000012 mins"
       ]
      },
      {
       "output_type": "stream",
       "stream": "stdout",
       "text": [
        "\r",
        "Finding differences of reclassification 9 for data pairs 39 of 45.  Elapsed time: 36.4990166664 mins"
       ]
      },
      {
       "output_type": "stream",
       "stream": "stdout",
       "text": [
        "\r",
        "Finding differences of reclassification 9 for data pairs 40 of 45.  Elapsed time: 36.591899999 mins"
       ]
      },
      {
       "output_type": "stream",
       "stream": "stdout",
       "text": [
        "\r",
        "Finding differences of reclassification 9 for data pairs 41 of 45.  Elapsed time: 36.6845833341 mins"
       ]
      },
      {
       "output_type": "stream",
       "stream": "stdout",
       "text": [
        "\r",
        "Finding differences of reclassification 9 for data pairs 42 of 45.  Elapsed time: 36.7760833343 mins"
       ]
      },
      {
       "output_type": "stream",
       "stream": "stdout",
       "text": [
        "\r",
        "Finding differences of reclassification 9 for data pairs 43 of 45.  Elapsed time: 36.8668666681 mins"
       ]
      },
      {
       "output_type": "stream",
       "stream": "stdout",
       "text": [
        "\r",
        "Finding differences of reclassification 9 for data pairs 44 of 45.  Elapsed time: 36.9566666683 mins"
       ]
      },
      {
       "output_type": "stream",
       "stream": "stdout",
       "text": [
        "\r",
        "Finding differences of reclassification 9 for data pairs 45 of 45.  Elapsed time: 37.0458166679 mins"
       ]
      },
      {
       "output_type": "stream",
       "stream": "stdout",
       "text": [
        "\r",
        "Finding differences of reclassification 10 for data pairs 1 of 45.  Elapsed time: 37.1350999991 mins"
       ]
      },
      {
       "output_type": "stream",
       "stream": "stdout",
       "text": [
        "\r",
        "Finding differences of reclassification 10 for data pairs 2 of 45.  Elapsed time: 37.224816668 mins"
       ]
      },
      {
       "output_type": "stream",
       "stream": "stdout",
       "text": [
        "\r",
        "Finding differences of reclassification 10 for data pairs 3 of 45.  Elapsed time: 37.3138833324 mins"
       ]
      },
      {
       "output_type": "stream",
       "stream": "stdout",
       "text": [
        "\r",
        "Finding differences of reclassification 10 for data pairs 4 of 45.  Elapsed time: 37.4047666669 mins"
       ]
      },
      {
       "output_type": "stream",
       "stream": "stdout",
       "text": [
        "\r",
        "Finding differences of reclassification 10 for data pairs 5 of 45.  Elapsed time: 37.4950833321 mins"
       ]
      },
      {
       "output_type": "stream",
       "stream": "stdout",
       "text": [
        "\r",
        "Finding differences of reclassification 10 for data pairs 6 of 45.  Elapsed time: 37.5911666671 mins"
       ]
      },
      {
       "output_type": "stream",
       "stream": "stdout",
       "text": [
        "\r",
        "Finding differences of reclassification 10 for data pairs 7 of 45.  Elapsed time: 37.6869666656 mins"
       ]
      },
      {
       "output_type": "stream",
       "stream": "stdout",
       "text": [
        "\r",
        "Finding differences of reclassification 10 for data pairs 8 of 45.  Elapsed time: 37.7800999999 mins"
       ]
      },
      {
       "output_type": "stream",
       "stream": "stdout",
       "text": [
        "\r",
        "Finding differences of reclassification 10 for data pairs 9 of 45.  Elapsed time: 37.8735000014 mins"
       ]
      },
      {
       "output_type": "stream",
       "stream": "stdout",
       "text": [
        "\r",
        "Finding differences of reclassification 10 for data pairs 10 of 45.  Elapsed time: 37.9660333316 mins"
       ]
      },
      {
       "output_type": "stream",
       "stream": "stdout",
       "text": [
        "\r",
        "Finding differences of reclassification 10 for data pairs 11 of 45.  Elapsed time: 38.0615666668 mins"
       ]
      },
      {
       "output_type": "stream",
       "stream": "stdout",
       "text": [
        "\r",
        "Finding differences of reclassification 10 for data pairs 12 of 45.  Elapsed time: 38.1576999982 mins"
       ]
      },
      {
       "output_type": "stream",
       "stream": "stdout",
       "text": [
        "\r",
        "Finding differences of reclassification 10 for data pairs 13 of 45.  Elapsed time: 38.2549333334 mins"
       ]
      },
      {
       "output_type": "stream",
       "stream": "stdout",
       "text": [
        "\r",
        "Finding differences of reclassification 10 for data pairs 14 of 45.  Elapsed time: 38.3549499989 mins"
       ]
      },
      {
       "output_type": "stream",
       "stream": "stdout",
       "text": [
        "\r",
        "Finding differences of reclassification 10 for data pairs 15 of 45.  Elapsed time: 38.4663666646 mins"
       ]
      },
      {
       "output_type": "stream",
       "stream": "stdout",
       "text": [
        "\r",
        "Finding differences of reclassification 10 for data pairs 16 of 45.  Elapsed time: 38.5652166645 mins"
       ]
      },
      {
       "output_type": "stream",
       "stream": "stdout",
       "text": [
        "\r",
        "Finding differences of reclassification 10 for data pairs 17 of 45.  Elapsed time: 38.6609333316 mins"
       ]
      },
      {
       "output_type": "stream",
       "stream": "stdout",
       "text": [
        "\r",
        "Finding differences of reclassification 10 for data pairs 18 of 45.  Elapsed time: 38.7498999993 mins"
       ]
      },
      {
       "output_type": "stream",
       "stream": "stdout",
       "text": [
        "\r",
        "Finding differences of reclassification 10 for data pairs 19 of 45.  Elapsed time: 38.8404833317 mins"
       ]
      },
      {
       "output_type": "stream",
       "stream": "stdout",
       "text": [
        "\r",
        "Finding differences of reclassification 10 for data pairs 20 of 45.  Elapsed time: 38.9294999997 mins"
       ]
      },
      {
       "output_type": "stream",
       "stream": "stdout",
       "text": [
        "\r",
        "Finding differences of reclassification 10 for data pairs 21 of 45.  Elapsed time: 39.02045 mins"
       ]
      },
      {
       "output_type": "stream",
       "stream": "stdout",
       "text": [
        "\r",
        "Finding differences of reclassification 10 for data pairs 22 of 45.  Elapsed time: 39.1103833318 mins"
       ]
      },
      {
       "output_type": "stream",
       "stream": "stdout",
       "text": [
        "\r",
        "Finding differences of reclassification 10 for data pairs 23 of 45.  Elapsed time: 39.1990166664 mins"
       ]
      },
      {
       "output_type": "stream",
       "stream": "stdout",
       "text": [
        "\r",
        "Finding differences of reclassification 10 for data pairs 24 of 45.  Elapsed time: 39.2889166673 mins"
       ]
      },
      {
       "output_type": "stream",
       "stream": "stdout",
       "text": [
        "\r",
        "Finding differences of reclassification 10 for data pairs 25 of 45.  Elapsed time: 39.3808500012 mins"
       ]
      },
      {
       "output_type": "stream",
       "stream": "stdout",
       "text": [
        "\r",
        "Finding differences of reclassification 10 for data pairs 26 of 45.  Elapsed time: 39.4752333323 mins"
       ]
      },
      {
       "output_type": "stream",
       "stream": "stdout",
       "text": [
        "\r",
        "Finding differences of reclassification 10 for data pairs 27 of 45.  Elapsed time: 39.5723166664 mins"
       ]
      },
      {
       "output_type": "stream",
       "stream": "stdout",
       "text": [
        "\r",
        "Finding differences of reclassification 10 for data pairs 28 of 45.  Elapsed time: 39.6745333314 mins"
       ]
      },
      {
       "output_type": "stream",
       "stream": "stdout",
       "text": [
        "\r",
        "Finding differences of reclassification 10 for data pairs 29 of 45.  Elapsed time: 39.7669833342 mins"
       ]
      },
      {
       "output_type": "stream",
       "stream": "stdout",
       "text": [
        "\r",
        "Finding differences of reclassification 10 for data pairs 30 of 45.  Elapsed time: 39.8581166665 mins"
       ]
      },
      {
       "output_type": "stream",
       "stream": "stdout",
       "text": [
        "\r",
        "Finding differences of reclassification 10 for data pairs 31 of 45.  Elapsed time: 39.9539166649 mins"
       ]
      },
      {
       "output_type": "stream",
       "stream": "stdout",
       "text": [
        "\r",
        "Finding differences of reclassification 10 for data pairs 32 of 45.  Elapsed time: 40.0502000014 mins"
       ]
      },
      {
       "output_type": "stream",
       "stream": "stdout",
       "text": [
        "\r",
        "Finding differences of reclassification 10 for data pairs 33 of 45.  Elapsed time: 40.1440499981 mins"
       ]
      },
      {
       "output_type": "stream",
       "stream": "stdout",
       "text": [
        "\r",
        "Finding differences of reclassification 10 for data pairs 34 of 45.  Elapsed time: 40.2390999993 mins"
       ]
      },
      {
       "output_type": "stream",
       "stream": "stdout",
       "text": [
        "\r",
        "Finding differences of reclassification 10 for data pairs 35 of 45.  Elapsed time: 40.3435333331 mins"
       ]
      },
      {
       "output_type": "stream",
       "stream": "stdout",
       "text": [
        "\r",
        "Finding differences of reclassification 10 for data pairs 36 of 45.  Elapsed time: 40.4475499988 mins"
       ]
      },
      {
       "output_type": "stream",
       "stream": "stdout",
       "text": [
        "\r",
        "Finding differences of reclassification 10 for data pairs 37 of 45.  Elapsed time: 40.5438333313 mins"
       ]
      },
      {
       "output_type": "stream",
       "stream": "stdout",
       "text": [
        "\r",
        "Finding differences of reclassification 10 for data pairs 38 of 45.  Elapsed time: 40.6416833321 mins"
       ]
      },
      {
       "output_type": "stream",
       "stream": "stdout",
       "text": [
        "\r",
        "Finding differences of reclassification 10 for data pairs 39 of 45.  Elapsed time: 40.7349499981 mins"
       ]
      },
      {
       "output_type": "stream",
       "stream": "stdout",
       "text": [
        "\r",
        "Finding differences of reclassification 10 for data pairs 40 of 45.  Elapsed time: 40.8343833327 mins"
       ]
      },
      {
       "output_type": "stream",
       "stream": "stdout",
       "text": [
        "\r",
        "Finding differences of reclassification 10 for data pairs 41 of 45.  Elapsed time: 40.927516667 mins"
       ]
      },
      {
       "output_type": "stream",
       "stream": "stdout",
       "text": [
        "\r",
        "Finding differences of reclassification 10 for data pairs 42 of 45.  Elapsed time: 41.019599998 mins"
       ]
      },
      {
       "output_type": "stream",
       "stream": "stdout",
       "text": [
        "\r",
        "Finding differences of reclassification 10 for data pairs 43 of 45.  Elapsed time: 41.1112333337 mins"
       ]
      },
      {
       "output_type": "stream",
       "stream": "stdout",
       "text": [
        "\r",
        "Finding differences of reclassification 10 for data pairs 44 of 45.  Elapsed time: 41.2016666651 mins"
       ]
      },
      {
       "output_type": "stream",
       "stream": "stdout",
       "text": [
        "\r",
        "Finding differences of reclassification 10 for data pairs 45 of 45.  Elapsed time: 41.2916500012 mins"
       ]
      },
      {
       "output_type": "stream",
       "stream": "stdout",
       "text": [
        "\r",
        "Finding differences of reclassification 11 for data pairs 1 of 45.  Elapsed time: 41.3817333341 mins"
       ]
      },
      {
       "output_type": "stream",
       "stream": "stdout",
       "text": [
        "\r",
        "Finding differences of reclassification 11 for data pairs 2 of 45.  Elapsed time: 41.471966668 mins"
       ]
      },
      {
       "output_type": "stream",
       "stream": "stdout",
       "text": [
        "\r",
        "Finding differences of reclassification 11 for data pairs 3 of 45.  Elapsed time: 41.5614166657 mins"
       ]
      },
      {
       "output_type": "stream",
       "stream": "stdout",
       "text": [
        "\r",
        "Finding differences of reclassification 11 for data pairs 4 of 45.  Elapsed time: 41.6576666673 mins"
       ]
      },
      {
       "output_type": "stream",
       "stream": "stdout",
       "text": [
        "\r",
        "Finding differences of reclassification 11 for data pairs 5 of 45.  Elapsed time: 41.7480333328 mins"
       ]
      },
      {
       "output_type": "stream",
       "stream": "stdout",
       "text": [
        "\r",
        "Finding differences of reclassification 11 for data pairs 6 of 45.  Elapsed time: 41.8373666684 mins"
       ]
      },
      {
       "output_type": "stream",
       "stream": "stdout",
       "text": [
        "\r",
        "Finding differences of reclassification 11 for data pairs 7 of 45.  Elapsed time: 41.9294999997 mins"
       ]
      },
      {
       "output_type": "stream",
       "stream": "stdout",
       "text": [
        "\r",
        "Finding differences of reclassification 11 for data pairs 8 of 45.  Elapsed time: 42.0202499986 mins"
       ]
      },
      {
       "output_type": "stream",
       "stream": "stdout",
       "text": [
        "\r",
        "Finding differences of reclassification 11 for data pairs 9 of 45.  Elapsed time: 42.1104333321 mins"
       ]
      },
      {
       "output_type": "stream",
       "stream": "stdout",
       "text": [
        "\r",
        "Finding differences of reclassification 11 for data pairs 10 of 45.  Elapsed time: 42.1997333328 mins"
       ]
      },
      {
       "output_type": "stream",
       "stream": "stdout",
       "text": [
        "\r",
        "Finding differences of reclassification 11 for data pairs 11 of 45.  Elapsed time: 42.2895999988 mins"
       ]
      },
      {
       "output_type": "stream",
       "stream": "stdout",
       "text": [
        "\r",
        "Finding differences of reclassification 11 for data pairs 12 of 45.  Elapsed time: 42.3811499993 mins"
       ]
      },
      {
       "output_type": "stream",
       "stream": "stdout",
       "text": [
        "\r",
        "Finding differences of reclassification 11 for data pairs 13 of 45.  Elapsed time: 42.4712166667 mins"
       ]
      },
      {
       "output_type": "stream",
       "stream": "stdout",
       "text": [
        "\r",
        "Finding differences of reclassification 11 for data pairs 14 of 45.  Elapsed time: 42.5635166645 mins"
       ]
      },
      {
       "output_type": "stream",
       "stream": "stdout",
       "text": [
        "\r",
        "Finding differences of reclassification 11 for data pairs 15 of 45.  Elapsed time: 42.6593833327 mins"
       ]
      },
      {
       "output_type": "stream",
       "stream": "stdout",
       "text": [
        "\r",
        "Finding differences of reclassification 11 for data pairs 16 of 45.  Elapsed time: 42.7496999979 mins"
       ]
      },
      {
       "output_type": "stream",
       "stream": "stdout",
       "text": [
        "\r",
        "Finding differences of reclassification 11 for data pairs 17 of 45.  Elapsed time: 42.8403333346 mins"
       ]
      },
      {
       "output_type": "stream",
       "stream": "stdout",
       "text": [
        "\r",
        "Finding differences of reclassification 11 for data pairs 18 of 45.  Elapsed time: 42.929733332 mins"
       ]
      },
      {
       "output_type": "stream",
       "stream": "stdout",
       "text": [
        "\r",
        "Finding differences of reclassification 11 for data pairs 19 of 45.  Elapsed time: 43.020966665 mins"
       ]
      },
      {
       "output_type": "stream",
       "stream": "stdout",
       "text": [
        "\r",
        "Finding differences of reclassification 11 for data pairs 20 of 45.  Elapsed time: 43.1094833334 mins"
       ]
      },
      {
       "output_type": "stream",
       "stream": "stdout",
       "text": [
        "\r",
        "Finding differences of reclassification 11 for data pairs 21 of 45.  Elapsed time: 43.2002999981 mins"
       ]
      },
      {
       "output_type": "stream",
       "stream": "stdout",
       "text": [
        "\r",
        "Finding differences of reclassification 11 for data pairs 22 of 45.  Elapsed time: 43.296633335 mins"
       ]
      },
      {
       "output_type": "stream",
       "stream": "stdout",
       "text": [
        "\r",
        "Finding differences of reclassification 11 for data pairs 23 of 45.  Elapsed time: 43.391050001 mins"
       ]
      },
      {
       "output_type": "stream",
       "stream": "stdout",
       "text": [
        "\r",
        "Finding differences of reclassification 11 for data pairs 24 of 45.  Elapsed time: 43.4826999982 mins"
       ]
      },
      {
       "output_type": "stream",
       "stream": "stdout",
       "text": [
        "\r",
        "Finding differences of reclassification 11 for data pairs 25 of 45.  Elapsed time: 43.577033333 mins"
       ]
      },
      {
       "output_type": "stream",
       "stream": "stdout",
       "text": [
        "\r",
        "Finding differences of reclassification 11 for data pairs 26 of 45.  Elapsed time: 43.6811666648 mins"
       ]
      },
      {
       "output_type": "stream",
       "stream": "stdout",
       "text": [
        "\r",
        "Finding differences of reclassification 11 for data pairs 27 of 45.  Elapsed time: 43.7784666657 mins"
       ]
      },
      {
       "output_type": "stream",
       "stream": "stdout",
       "text": [
        "\r",
        "Finding differences of reclassification 11 for data pairs 28 of 45.  Elapsed time: 43.8814166665 mins"
       ]
      },
      {
       "output_type": "stream",
       "stream": "stdout",
       "text": [
        "\r",
        "Finding differences of reclassification 11 for data pairs 29 of 45.  Elapsed time: 43.9819333315 mins"
       ]
      },
      {
       "output_type": "stream",
       "stream": "stdout",
       "text": [
        "\r",
        "Finding differences of reclassification 11 for data pairs 30 of 45.  Elapsed time: 44.0798666676 mins"
       ]
      },
      {
       "output_type": "stream",
       "stream": "stdout",
       "text": [
        "\r",
        "Finding differences of reclassification 11 for data pairs 31 of 45.  Elapsed time: 44.1831500014 mins"
       ]
      },
      {
       "output_type": "stream",
       "stream": "stdout",
       "text": [
        "\r",
        "Finding differences of reclassification 11 for data pairs 32 of 45.  Elapsed time: 44.2888333321 mins"
       ]
      },
      {
       "output_type": "stream",
       "stream": "stdout",
       "text": [
        "\r",
        "Finding differences of reclassification 11 for data pairs 33 of 45.  Elapsed time: 44.4006333311 mins"
       ]
      },
      {
       "output_type": "stream",
       "stream": "stdout",
       "text": [
        "\r",
        "Finding differences of reclassification 11 for data pairs 34 of 45.  Elapsed time: 44.5063666662 mins"
       ]
      },
      {
       "output_type": "stream",
       "stream": "stdout",
       "text": [
        "\r",
        "Finding differences of reclassification 11 for data pairs 35 of 45.  Elapsed time: 44.622483333 mins"
       ]
      },
      {
       "output_type": "stream",
       "stream": "stdout",
       "text": [
        "\r",
        "Finding differences of reclassification 11 for data pairs 36 of 45.  Elapsed time: 44.7304666678 mins"
       ]
      },
      {
       "output_type": "stream",
       "stream": "stdout",
       "text": [
        "\r",
        "Finding differences of reclassification 11 for data pairs 37 of 45.  Elapsed time: 44.8324166656 mins"
       ]
      },
      {
       "output_type": "stream",
       "stream": "stdout",
       "text": [
        "\r",
        "Finding differences of reclassification 11 for data pairs 38 of 45.  Elapsed time: 44.9301333348 mins"
       ]
      },
      {
       "output_type": "stream",
       "stream": "stdout",
       "text": [
        "\r",
        "Finding differences of reclassification 11 for data pairs 39 of 45.  Elapsed time: 45.0254833341 mins"
       ]
      },
      {
       "output_type": "stream",
       "stream": "stdout",
       "text": [
        "\r",
        "Finding differences of reclassification 11 for data pairs 40 of 45.  Elapsed time: 45.125150001 mins"
       ]
      },
      {
       "output_type": "stream",
       "stream": "stdout",
       "text": [
        "\r",
        "Finding differences of reclassification 11 for data pairs 41 of 45.  Elapsed time: 45.2223166664 mins"
       ]
      },
      {
       "output_type": "stream",
       "stream": "stdout",
       "text": [
        "\r",
        "Finding differences of reclassification 11 for data pairs 42 of 45.  Elapsed time: 45.3218666673 mins"
       ]
      },
      {
       "output_type": "stream",
       "stream": "stdout",
       "text": [
        "\r",
        "Finding differences of reclassification 11 for data pairs 43 of 45.  Elapsed time: 45.4168166677 mins"
       ]
      },
      {
       "output_type": "stream",
       "stream": "stdout",
       "text": [
        "\r",
        "Finding differences of reclassification 11 for data pairs 44 of 45.  Elapsed time: 45.5167666674 mins"
       ]
      },
      {
       "output_type": "stream",
       "stream": "stdout",
       "text": [
        "\r",
        "Finding differences of reclassification 11 for data pairs 45 of 45.  Elapsed time: 45.6211000005 mins"
       ]
      },
      {
       "output_type": "stream",
       "stream": "stdout",
       "text": [
        "\r",
        "Finding differences of reclassification 12 for data pairs 1 of 45.  Elapsed time: 45.719083333 mins"
       ]
      },
      {
       "output_type": "stream",
       "stream": "stdout",
       "text": [
        "\r",
        "Finding differences of reclassification 12 for data pairs 2 of 45.  Elapsed time: 45.8156166673 mins"
       ]
      },
      {
       "output_type": "stream",
       "stream": "stdout",
       "text": [
        "\r",
        "Finding differences of reclassification 12 for data pairs 3 of 45.  Elapsed time: 45.9052666664 mins"
       ]
      },
      {
       "output_type": "stream",
       "stream": "stdout",
       "text": [
        "\r",
        "Finding differences of reclassification 12 for data pairs 4 of 45.  Elapsed time: 45.9963833332 mins"
       ]
      },
      {
       "output_type": "stream",
       "stream": "stdout",
       "text": [
        "\r",
        "Finding differences of reclassification 12 for data pairs 5 of 45.  Elapsed time: 46.0870833317 mins"
       ]
      },
      {
       "output_type": "stream",
       "stream": "stdout",
       "text": [
        "\r",
        "Finding differences of reclassification 12 for data pairs 6 of 45.  Elapsed time: 46.1765999993 mins"
       ]
      },
      {
       "output_type": "stream",
       "stream": "stdout",
       "text": [
        "\r",
        "Finding differences of reclassification 12 for data pairs 7 of 45.  Elapsed time: 46.2676833312 mins"
       ]
      },
      {
       "output_type": "stream",
       "stream": "stdout",
       "text": [
        "\r",
        "Finding differences of reclassification 12 for data pairs 8 of 45.  Elapsed time: 46.3586833318 mins"
       ]
      },
      {
       "output_type": "stream",
       "stream": "stdout",
       "text": [
        "\r",
        "Finding differences of reclassification 12 for data pairs 9 of 45.  Elapsed time: 46.4491000017 mins"
       ]
      },
      {
       "output_type": "stream",
       "stream": "stdout",
       "text": [
        "\r",
        "Finding differences of reclassification 12 for data pairs 10 of 45.  Elapsed time: 46.5384333332 mins"
       ]
      },
      {
       "output_type": "stream",
       "stream": "stdout",
       "text": [
        "\r",
        "Finding differences of reclassification 12 for data pairs 11 of 45.  Elapsed time: 46.6319000006 mins"
       ]
      },
      {
       "output_type": "stream",
       "stream": "stdout",
       "text": [
        "\r",
        "Finding differences of reclassification 12 for data pairs 12 of 45.  Elapsed time: 46.7235833327 mins"
       ]
      },
      {
       "output_type": "stream",
       "stream": "stdout",
       "text": [
        "\r",
        "Finding differences of reclassification 12 for data pairs 13 of 45.  Elapsed time: 46.8129666646 mins"
       ]
      },
      {
       "output_type": "stream",
       "stream": "stdout",
       "text": [
        "\r",
        "Finding differences of reclassification 12 for data pairs 14 of 45.  Elapsed time: 46.901516668 mins"
       ]
      },
      {
       "output_type": "stream",
       "stream": "stdout",
       "text": [
        "\r",
        "Finding differences of reclassification 12 for data pairs 15 of 45.  Elapsed time: 46.9923166672 mins"
       ]
      },
      {
       "output_type": "stream",
       "stream": "stdout",
       "text": [
        "\r",
        "Finding differences of reclassification 12 for data pairs 16 of 45.  Elapsed time: 47.0820166667 mins"
       ]
      },
      {
       "output_type": "stream",
       "stream": "stdout",
       "text": [
        "\r",
        "Finding differences of reclassification 12 for data pairs 17 of 45.  Elapsed time: 47.171783332 mins"
       ]
      },
      {
       "output_type": "stream",
       "stream": "stdout",
       "text": [
        "\r",
        "Finding differences of reclassification 12 for data pairs 18 of 45.  Elapsed time: 47.260466667 mins"
       ]
      },
      {
       "output_type": "stream",
       "stream": "stdout",
       "text": [
        "\r",
        "Finding differences of reclassification 12 for data pairs 19 of 45.  Elapsed time: 47.3517833312 mins"
       ]
      },
      {
       "output_type": "stream",
       "stream": "stdout",
       "text": [
        "\r",
        "Finding differences of reclassification 12 for data pairs 20 of 45.  Elapsed time: 47.4474000017 mins"
       ]
      },
      {
       "output_type": "stream",
       "stream": "stdout",
       "text": [
        "\r",
        "Finding differences of reclassification 12 for data pairs 21 of 45.  Elapsed time: 47.5457000017 mins"
       ]
      },
      {
       "output_type": "stream",
       "stream": "stdout",
       "text": [
        "\r",
        "Finding differences of reclassification 12 for data pairs 22 of 45.  Elapsed time: 47.6446999987 mins"
       ]
      },
      {
       "output_type": "stream",
       "stream": "stdout",
       "text": [
        "\r",
        "Finding differences of reclassification 12 for data pairs 23 of 45.  Elapsed time: 47.7345333338 mins"
       ]
      },
      {
       "output_type": "stream",
       "stream": "stdout",
       "text": [
        "\r",
        "Finding differences of reclassification 12 for data pairs 24 of 45.  Elapsed time: 47.8242666682 mins"
       ]
      },
      {
       "output_type": "stream",
       "stream": "stdout",
       "text": [
        "\r",
        "Finding differences of reclassification 12 for data pairs 25 of 45.  Elapsed time: 47.9152666648 mins"
       ]
      },
      {
       "output_type": "stream",
       "stream": "stdout",
       "text": [
        "\r",
        "Finding differences of reclassification 12 for data pairs 26 of 45.  Elapsed time: 48.0056499998 mins"
       ]
      },
      {
       "output_type": "stream",
       "stream": "stdout",
       "text": [
        "\r",
        "Finding differences of reclassification 12 for data pairs 27 of 45.  Elapsed time: 48.096266667 mins"
       ]
      },
      {
       "output_type": "stream",
       "stream": "stdout",
       "text": [
        "\r",
        "Finding differences of reclassification 12 for data pairs 28 of 45.  Elapsed time: 48.1895666679 mins"
       ]
      },
      {
       "output_type": "stream",
       "stream": "stdout",
       "text": [
        "\r",
        "Finding differences of reclassification 12 for data pairs 29 of 45.  Elapsed time: 48.2806166649 mins"
       ]
      },
      {
       "output_type": "stream",
       "stream": "stdout",
       "text": [
        "\r",
        "Finding differences of reclassification 12 for data pairs 30 of 45.  Elapsed time: 48.381066668 mins"
       ]
      },
      {
       "output_type": "stream",
       "stream": "stdout",
       "text": [
        "\r",
        "Finding differences of reclassification 12 for data pairs 31 of 45.  Elapsed time: 48.4765499989 mins"
       ]
      },
      {
       "output_type": "stream",
       "stream": "stdout",
       "text": [
        "\r",
        "Finding differences of reclassification 12 for data pairs 32 of 45.  Elapsed time: 48.5662166675 mins"
       ]
      },
      {
       "output_type": "stream",
       "stream": "stdout",
       "text": [
        "\r",
        "Finding differences of reclassification 12 for data pairs 33 of 45.  Elapsed time: 48.6612833341 mins"
       ]
      },
      {
       "output_type": "stream",
       "stream": "stdout",
       "text": [
        "\r",
        "Finding differences of reclassification 12 for data pairs 34 of 45.  Elapsed time: 48.7532666683 mins"
       ]
      },
      {
       "output_type": "stream",
       "stream": "stdout",
       "text": [
        "\r",
        "Finding differences of reclassification 12 for data pairs 35 of 45.  Elapsed time: 48.8450000008 mins"
       ]
      },
      {
       "output_type": "stream",
       "stream": "stdout",
       "text": [
        "\r",
        "Finding differences of reclassification 12 for data pairs 36 of 45.  Elapsed time: 48.9348500013 mins"
       ]
      },
      {
       "output_type": "stream",
       "stream": "stdout",
       "text": [
        "\r",
        "Finding differences of reclassification 12 for data pairs 37 of 45.  Elapsed time: 49.0256833315 mins"
       ]
      },
      {
       "output_type": "stream",
       "stream": "stdout",
       "text": [
        "\r",
        "Finding differences of reclassification 12 for data pairs 38 of 45.  Elapsed time: 49.1163333337 mins"
       ]
      },
      {
       "output_type": "stream",
       "stream": "stdout",
       "text": [
        "\r",
        "Finding differences of reclassification 12 for data pairs 39 of 45.  Elapsed time: 49.2062833349 mins"
       ]
      },
      {
       "output_type": "stream",
       "stream": "stdout",
       "text": [
        "\r",
        "Finding differences of reclassification 12 for data pairs 40 of 45.  Elapsed time: 49.2970666647 mins"
       ]
      },
      {
       "output_type": "stream",
       "stream": "stdout",
       "text": [
        "\r",
        "Finding differences of reclassification 12 for data pairs 41 of 45.  Elapsed time: 49.3878666679 mins"
       ]
      },
      {
       "output_type": "stream",
       "stream": "stdout",
       "text": [
        "\r",
        "Finding differences of reclassification 12 for data pairs 42 of 45.  Elapsed time: 49.4786166668 mins"
       ]
      },
      {
       "output_type": "stream",
       "stream": "stdout",
       "text": [
        "\r",
        "Finding differences of reclassification 12 for data pairs 43 of 45.  Elapsed time: 49.5700666666 mins"
       ]
      },
      {
       "output_type": "stream",
       "stream": "stdout",
       "text": [
        "\r",
        "Finding differences of reclassification 12 for data pairs 44 of 45.  Elapsed time: 49.6689500014 mins"
       ]
      },
      {
       "output_type": "stream",
       "stream": "stdout",
       "text": [
        "\r",
        "Finding differences of reclassification 12 for data pairs 45 of 45.  Elapsed time: 49.7612999996 mins"
       ]
      },
      {
       "output_type": "stream",
       "stream": "stdout",
       "text": [
        "\r",
        "Finding differences of reclassification 13 for data pairs 1 of 45.  Elapsed time: 49.8524500012 mins"
       ]
      },
      {
       "output_type": "stream",
       "stream": "stdout",
       "text": [
        "\r",
        "Finding differences of reclassification 13 for data pairs 2 of 45.  Elapsed time: 49.9450833321 mins"
       ]
      },
      {
       "output_type": "stream",
       "stream": "stdout",
       "text": [
        "\r",
        "Finding differences of reclassification 13 for data pairs 3 of 45.  Elapsed time: 50.0343166669 mins"
       ]
      },
      {
       "output_type": "stream",
       "stream": "stdout",
       "text": [
        "\r",
        "Finding differences of reclassification 13 for data pairs 4 of 45.  Elapsed time: 50.1254499992 mins"
       ]
      },
      {
       "output_type": "stream",
       "stream": "stdout",
       "text": [
        "\r",
        "Finding differences of reclassification 13 for data pairs 5 of 45.  Elapsed time: 50.2164333344 mins"
       ]
      },
      {
       "output_type": "stream",
       "stream": "stdout",
       "text": [
        "\r",
        "Finding differences of reclassification 13 for data pairs 6 of 45.  Elapsed time: 50.3072166681 mins"
       ]
      },
      {
       "output_type": "stream",
       "stream": "stdout",
       "text": [
        "\r",
        "Finding differences of reclassification 13 for data pairs 7 of 45.  Elapsed time: 50.3983166655 mins"
       ]
      },
      {
       "output_type": "stream",
       "stream": "stdout",
       "text": [
        "\r",
        "Finding differences of reclassification 13 for data pairs 8 of 45.  Elapsed time: 50.4917833328 mins"
       ]
      },
      {
       "output_type": "stream",
       "stream": "stdout",
       "text": [
        "\r",
        "Finding differences of reclassification 13 for data pairs 9 of 45.  Elapsed time: 50.586500001 mins"
       ]
      },
      {
       "output_type": "stream",
       "stream": "stdout",
       "text": [
        "\r",
        "Finding differences of reclassification 13 for data pairs 10 of 45.  Elapsed time: 50.6822333336 mins"
       ]
      },
      {
       "output_type": "stream",
       "stream": "stdout",
       "text": [
        "\r",
        "Finding differences of reclassification 13 for data pairs 11 of 45.  Elapsed time: 50.7716666659 mins"
       ]
      },
      {
       "output_type": "stream",
       "stream": "stdout",
       "text": [
        "\r",
        "Finding differences of reclassification 13 for data pairs 12 of 45.  Elapsed time: 50.8629833341 mins"
       ]
      },
      {
       "output_type": "stream",
       "stream": "stdout",
       "text": [
        "\r",
        "Finding differences of reclassification 13 for data pairs 13 of 45.  Elapsed time: 50.9533166647 mins"
       ]
      },
      {
       "output_type": "stream",
       "stream": "stdout",
       "text": [
        "\r",
        "Finding differences of reclassification 13 for data pairs 14 of 45.  Elapsed time: 51.0429666678 mins"
       ]
      },
      {
       "output_type": "stream",
       "stream": "stdout",
       "text": [
        "\r",
        "Finding differences of reclassification 13 for data pairs 15 of 45.  Elapsed time: 51.1352166653 mins"
       ]
      },
      {
       "output_type": "stream",
       "stream": "stdout",
       "text": [
        "\r",
        "Finding differences of reclassification 13 for data pairs 16 of 45.  Elapsed time: 51.2251333316 mins"
       ]
      },
      {
       "output_type": "stream",
       "stream": "stdout",
       "text": [
        "\r",
        "Finding differences of reclassification 13 for data pairs 17 of 45.  Elapsed time: 51.3148333311 mins"
       ]
      },
      {
       "output_type": "stream",
       "stream": "stdout",
       "text": [
        "\r",
        "Finding differences of reclassification 13 for data pairs 18 of 45.  Elapsed time: 51.4031833331 mins"
       ]
      },
      {
       "output_type": "stream",
       "stream": "stdout",
       "text": [
        "\r",
        "Finding differences of reclassification 13 for data pairs 19 of 45.  Elapsed time: 51.4934999983 mins"
       ]
      },
      {
       "output_type": "stream",
       "stream": "stdout",
       "text": [
        "\r",
        "Finding differences of reclassification 13 for data pairs 20 of 45.  Elapsed time: 51.5834166646 mins"
       ]
      },
      {
       "output_type": "stream",
       "stream": "stdout",
       "text": [
        "\r",
        "Finding differences of reclassification 13 for data pairs 21 of 45.  Elapsed time: 51.6767666658 mins"
       ]
      },
      {
       "output_type": "stream",
       "stream": "stdout",
       "text": [
        "\r",
        "Finding differences of reclassification 13 for data pairs 22 of 45.  Elapsed time: 51.7677166661 mins"
       ]
      },
      {
       "output_type": "stream",
       "stream": "stdout",
       "text": [
        "\r",
        "Finding differences of reclassification 13 for data pairs 23 of 45.  Elapsed time: 51.8576833328 mins"
       ]
      },
      {
       "output_type": "stream",
       "stream": "stdout",
       "text": [
        "\r",
        "Finding differences of reclassification 13 for data pairs 24 of 45.  Elapsed time: 51.948483332 mins"
       ]
      },
      {
       "output_type": "stream",
       "stream": "stdout",
       "text": [
        "\r",
        "Finding differences of reclassification 13 for data pairs 25 of 45.  Elapsed time: 52.0388333321 mins"
       ]
      },
      {
       "output_type": "stream",
       "stream": "stdout",
       "text": [
        "\r",
        "Finding differences of reclassification 13 for data pairs 26 of 45.  Elapsed time: 52.1290000002 mins"
       ]
      },
      {
       "output_type": "stream",
       "stream": "stdout",
       "text": [
        "\r",
        "Finding differences of reclassification 13 for data pairs 27 of 45.  Elapsed time: 52.2205666661 mins"
       ]
      },
      {
       "output_type": "stream",
       "stream": "stdout",
       "text": [
        "\r",
        "Finding differences of reclassification 13 for data pairs 28 of 45.  Elapsed time: 52.3137500008 mins"
       ]
      },
      {
       "output_type": "stream",
       "stream": "stdout",
       "text": [
        "\r",
        "Finding differences of reclassification 13 for data pairs 29 of 45.  Elapsed time: 52.4053333322 mins"
       ]
      },
      {
       "output_type": "stream",
       "stream": "stdout",
       "text": [
        "\r",
        "Finding differences of reclassification 13 for data pairs 30 of 45.  Elapsed time: 52.4966500004 mins"
       ]
      },
      {
       "output_type": "stream",
       "stream": "stdout",
       "text": [
        "\r",
        "Finding differences of reclassification 13 for data pairs 31 of 45.  Elapsed time: 52.5899166663 mins"
       ]
      },
      {
       "output_type": "stream",
       "stream": "stdout",
       "text": [
        "\r",
        "Finding differences of reclassification 13 for data pairs 32 of 45.  Elapsed time: 52.6807666659 mins"
       ]
      },
      {
       "output_type": "stream",
       "stream": "stdout",
       "text": [
        "\r",
        "Finding differences of reclassification 13 for data pairs 33 of 45.  Elapsed time: 52.7702999989 mins"
       ]
      },
      {
       "output_type": "stream",
       "stream": "stdout",
       "text": [
        "\r",
        "Finding differences of reclassification 13 for data pairs 34 of 45.  Elapsed time: 52.8605833332 mins"
       ]
      },
      {
       "output_type": "stream",
       "stream": "stdout",
       "text": [
        "\r",
        "Finding differences of reclassification 13 for data pairs 35 of 45.  Elapsed time: 52.9513000011 mins"
       ]
      },
      {
       "output_type": "stream",
       "stream": "stdout",
       "text": [
        "\r",
        "Finding differences of reclassification 13 for data pairs 36 of 45.  Elapsed time: 53.0418333332 mins"
       ]
      },
      {
       "output_type": "stream",
       "stream": "stdout",
       "text": [
        "\r",
        "Finding differences of reclassification 13 for data pairs 37 of 45.  Elapsed time: 53.1331666668 mins"
       ]
      },
      {
       "output_type": "stream",
       "stream": "stdout",
       "text": [
        "\r",
        "Finding differences of reclassification 13 for data pairs 38 of 45.  Elapsed time: 53.2243666649 mins"
       ]
      },
      {
       "output_type": "stream",
       "stream": "stdout",
       "text": [
        "\r",
        "Finding differences of reclassification 13 for data pairs 39 of 45.  Elapsed time: 53.3164166649 mins"
       ]
      },
      {
       "output_type": "stream",
       "stream": "stdout",
       "text": [
        "\r",
        "Finding differences of reclassification 13 for data pairs 40 of 45.  Elapsed time: 53.408466665 mins"
       ]
      },
      {
       "output_type": "stream",
       "stream": "stdout",
       "text": [
        "\r",
        "Finding differences of reclassification 13 for data pairs 41 of 45.  Elapsed time: 53.4997999986 mins"
       ]
      },
      {
       "output_type": "stream",
       "stream": "stdout",
       "text": [
        "\r",
        "Finding differences of reclassification 13 for data pairs 42 of 45.  Elapsed time: 53.5953833342 mins"
       ]
      },
      {
       "output_type": "stream",
       "stream": "stdout",
       "text": [
        "\r",
        "Finding differences of reclassification 13 for data pairs 43 of 45.  Elapsed time: 53.696116666 mins"
       ]
      },
      {
       "output_type": "stream",
       "stream": "stdout",
       "text": [
        "\r",
        "Finding differences of reclassification 13 for data pairs 44 of 45.  Elapsed time: 53.788683335 mins"
       ]
      },
      {
       "output_type": "stream",
       "stream": "stdout",
       "text": [
        "\r",
        "Finding differences of reclassification 13 for data pairs 45 of 45.  Elapsed time: 53.8781833331 mins"
       ]
      },
      {
       "output_type": "stream",
       "stream": "stdout",
       "text": [
        "\r",
        "Finding differences of reclassification 14 for data pairs 1 of 45.  Elapsed time: 53.9673333327 mins"
       ]
      },
      {
       "output_type": "stream",
       "stream": "stdout",
       "text": [
        "\r",
        "Finding differences of reclassification 14 for data pairs 2 of 45.  Elapsed time: 54.056916666 mins"
       ]
      },
      {
       "output_type": "stream",
       "stream": "stdout",
       "text": [
        "\r",
        "Finding differences of reclassification 14 for data pairs 3 of 45.  Elapsed time: 54.1458999991 mins"
       ]
      },
      {
       "output_type": "stream",
       "stream": "stdout",
       "text": [
        "\r",
        "Finding differences of reclassification 14 for data pairs 4 of 45.  Elapsed time: 54.237316668 mins"
       ]
      },
      {
       "output_type": "stream",
       "stream": "stdout",
       "text": [
        "\r",
        "Finding differences of reclassification 14 for data pairs 5 of 45.  Elapsed time: 54.3284166654 mins"
       ]
      },
      {
       "output_type": "stream",
       "stream": "stdout",
       "text": [
        "\r",
        "Finding differences of reclassification 14 for data pairs 6 of 45.  Elapsed time: 54.417899998 mins"
       ]
      },
      {
       "output_type": "stream",
       "stream": "stdout",
       "text": [
        "\r",
        "Finding differences of reclassification 14 for data pairs 7 of 45.  Elapsed time: 54.5085166653 mins"
       ]
      },
      {
       "output_type": "stream",
       "stream": "stdout",
       "text": [
        "\r",
        "Finding differences of reclassification 14 for data pairs 8 of 45.  Elapsed time: 54.6021666646 mins"
       ]
      },
      {
       "output_type": "stream",
       "stream": "stdout",
       "text": [
        "\r",
        "Finding differences of reclassification 14 for data pairs 9 of 45.  Elapsed time: 54.6916500012 mins"
       ]
      },
      {
       "output_type": "stream",
       "stream": "stdout",
       "text": [
        "\r",
        "Finding differences of reclassification 14 for data pairs 10 of 45.  Elapsed time: 54.7797999978 mins"
       ]
      },
      {
       "output_type": "stream",
       "stream": "stdout",
       "text": [
        "\r",
        "Finding differences of reclassification 14 for data pairs 11 of 45.  Elapsed time: 54.8683166663 mins"
       ]
      },
      {
       "output_type": "stream",
       "stream": "stdout",
       "text": [
        "\r",
        "Finding differences of reclassification 14 for data pairs 12 of 45.  Elapsed time: 54.9583999991 mins"
       ]
      },
      {
       "output_type": "stream",
       "stream": "stdout",
       "text": [
        "\r",
        "Finding differences of reclassification 14 for data pairs 13 of 45.  Elapsed time: 55.0483666658 mins"
       ]
      },
      {
       "output_type": "stream",
       "stream": "stdout",
       "text": [
        "\r",
        "Finding differences of reclassification 14 for data pairs 14 of 45.  Elapsed time: 55.1385833343 mins"
       ]
      },
      {
       "output_type": "stream",
       "stream": "stdout",
       "text": [
        "\r",
        "Finding differences of reclassification 14 for data pairs 15 of 45.  Elapsed time: 55.2291166663 mins"
       ]
      },
      {
       "output_type": "stream",
       "stream": "stdout",
       "text": [
        "\r",
        "Finding differences of reclassification 14 for data pairs 16 of 45.  Elapsed time: 55.3188333313 mins"
       ]
      },
      {
       "output_type": "stream",
       "stream": "stdout",
       "text": [
        "\r",
        "Finding differences of reclassification 14 for data pairs 17 of 45.  Elapsed time: 55.4090166648 mins"
       ]
      },
      {
       "output_type": "stream",
       "stream": "stdout",
       "text": [
        "\r",
        "Finding differences of reclassification 14 for data pairs 18 of 45.  Elapsed time: 55.4985000014 mins"
       ]
      },
      {
       "output_type": "stream",
       "stream": "stdout",
       "text": [
        "\r",
        "Finding differences of reclassification 14 for data pairs 19 of 45.  Elapsed time: 55.5920333346 mins"
       ]
      },
      {
       "output_type": "stream",
       "stream": "stdout",
       "text": [
        "\r",
        "Finding differences of reclassification 14 for data pairs 20 of 45.  Elapsed time: 55.6822833339 mins"
       ]
      },
      {
       "output_type": "stream",
       "stream": "stdout",
       "text": [
        "\r",
        "Finding differences of reclassification 14 for data pairs 21 of 45.  Elapsed time: 55.7730833332 mins"
       ]
      },
      {
       "output_type": "stream",
       "stream": "stdout",
       "text": [
        "\r",
        "Finding differences of reclassification 14 for data pairs 22 of 45.  Elapsed time: 55.8634666681 mins"
       ]
      },
      {
       "output_type": "stream",
       "stream": "stdout",
       "text": [
        "\r",
        "Finding differences of reclassification 14 for data pairs 23 of 45.  Elapsed time: 55.9524166663 mins"
       ]
      },
      {
       "output_type": "stream",
       "stream": "stdout",
       "text": [
        "\r",
        "Finding differences of reclassification 14 for data pairs 24 of 45.  Elapsed time: 56.0414333344 mins"
       ]
      },
      {
       "output_type": "stream",
       "stream": "stdout",
       "text": [
        "\r",
        "Finding differences of reclassification 14 for data pairs 25 of 45.  Elapsed time: 56.1318333348 mins"
       ]
      },
      {
       "output_type": "stream",
       "stream": "stdout",
       "text": [
        "\r",
        "Finding differences of reclassification 14 for data pairs 26 of 45.  Elapsed time: 56.2222333312 mins"
       ]
      },
      {
       "output_type": "stream",
       "stream": "stdout",
       "text": [
        "\r",
        "Finding differences of reclassification 14 for data pairs 27 of 45.  Elapsed time: 56.3129999995 mins"
       ]
      },
      {
       "output_type": "stream",
       "stream": "stdout",
       "text": [
        "\r",
        "Finding differences of reclassification 14 for data pairs 28 of 45.  Elapsed time: 56.4058833321 mins"
       ]
      },
      {
       "output_type": "stream",
       "stream": "stdout",
       "text": [
        "\r",
        "Finding differences of reclassification 14 for data pairs 29 of 45.  Elapsed time: 56.4957333326 mins"
       ]
      },
      {
       "output_type": "stream",
       "stream": "stdout",
       "text": [
        "\r",
        "Finding differences of reclassification 14 for data pairs 30 of 45.  Elapsed time: 56.588866667 mins"
       ]
      },
      {
       "output_type": "stream",
       "stream": "stdout",
       "text": [
        "\r",
        "Finding differences of reclassification 14 for data pairs 31 of 45.  Elapsed time: 56.6818666657 mins"
       ]
      },
      {
       "output_type": "stream",
       "stream": "stdout",
       "text": [
        "\r",
        "Finding differences of reclassification 14 for data pairs 32 of 45.  Elapsed time: 56.7711500009 mins"
       ]
      },
      {
       "output_type": "stream",
       "stream": "stdout",
       "text": [
        "\r",
        "Finding differences of reclassification 14 for data pairs 33 of 45.  Elapsed time: 56.8618833343 mins"
       ]
      },
      {
       "output_type": "stream",
       "stream": "stdout",
       "text": [
        "\r",
        "Finding differences of reclassification 14 for data pairs 34 of 45.  Elapsed time: 56.9519333323 mins"
       ]
      },
      {
       "output_type": "stream",
       "stream": "stdout",
       "text": [
        "\r",
        "Finding differences of reclassification 14 for data pairs 35 of 45.  Elapsed time: 57.0407833338 mins"
       ]
      },
      {
       "output_type": "stream",
       "stream": "stdout",
       "text": [
        "\r",
        "Finding differences of reclassification 14 for data pairs 36 of 45.  Elapsed time: 57.1300166647 mins"
       ]
      },
      {
       "output_type": "stream",
       "stream": "stdout",
       "text": [
        "\r",
        "Finding differences of reclassification 14 for data pairs 37 of 45.  Elapsed time: 57.2218000015 mins"
       ]
      },
      {
       "output_type": "stream",
       "stream": "stdout",
       "text": [
        "\r",
        "Finding differences of reclassification 14 for data pairs 38 of 45.  Elapsed time: 57.3109166662 mins"
       ]
      },
      {
       "output_type": "stream",
       "stream": "stdout",
       "text": [
        "\r",
        "Finding differences of reclassification 14 for data pairs 39 of 45.  Elapsed time: 57.4006833315 mins"
       ]
      },
      {
       "output_type": "stream",
       "stream": "stdout",
       "text": [
        "\r",
        "Finding differences of reclassification 14 for data pairs 40 of 45.  Elapsed time: 57.4906833331 mins"
       ]
      },
      {
       "output_type": "stream",
       "stream": "stdout",
       "text": [
        "\r",
        "Finding differences of reclassification 14 for data pairs 41 of 45.  Elapsed time: 57.5848500013 mins"
       ]
      },
      {
       "output_type": "stream",
       "stream": "stdout",
       "text": [
        "\r",
        "Finding differences of reclassification 14 for data pairs 42 of 45.  Elapsed time: 57.6780833324 mins"
       ]
      },
      {
       "output_type": "stream",
       "stream": "stdout",
       "text": [
        "\r",
        "Finding differences of reclassification 14 for data pairs 43 of 45.  Elapsed time: 57.7690333327 mins"
       ]
      },
      {
       "output_type": "stream",
       "stream": "stdout",
       "text": [
        "\r",
        "Finding differences of reclassification 14 for data pairs 44 of 45.  Elapsed time: 57.8585500002 mins"
       ]
      },
      {
       "output_type": "stream",
       "stream": "stdout",
       "text": [
        "\r",
        "Finding differences of reclassification 14 for data pairs 45 of 45.  Elapsed time: 57.9476666649 mins"
       ]
      },
      {
       "output_type": "stream",
       "stream": "stdout",
       "text": [
        "\r",
        "Finding differences of reclassification 15 for data pairs 1 of 45.  Elapsed time: 58.0367499987 mins"
       ]
      },
      {
       "output_type": "stream",
       "stream": "stdout",
       "text": [
        "\r",
        "Finding differences of reclassification 15 for data pairs 2 of 45.  Elapsed time: 58.1260166645 mins"
       ]
      },
      {
       "output_type": "stream",
       "stream": "stdout",
       "text": [
        "\r",
        "Finding differences of reclassification 15 for data pairs 3 of 45.  Elapsed time: 58.2143833319 mins"
       ]
      },
      {
       "output_type": "stream",
       "stream": "stdout",
       "text": [
        "\r",
        "Finding differences of reclassification 15 for data pairs 4 of 45.  Elapsed time: 58.308616666 mins"
       ]
      },
      {
       "output_type": "stream",
       "stream": "stdout",
       "text": [
        "\r",
        "Finding differences of reclassification 15 for data pairs 5 of 45.  Elapsed time: 58.4093833327 mins"
       ]
      },
      {
       "output_type": "stream",
       "stream": "stdout",
       "text": [
        "\r",
        "Finding differences of reclassification 15 for data pairs 6 of 45.  Elapsed time: 58.4984666665 mins"
       ]
      },
      {
       "output_type": "stream",
       "stream": "stdout",
       "text": [
        "\r",
        "Finding differences of reclassification 15 for data pairs 7 of 45.  Elapsed time: 58.5941499988 mins"
       ]
      },
      {
       "output_type": "stream",
       "stream": "stdout",
       "text": [
        "\r",
        "Finding differences of reclassification 15 for data pairs 8 of 45.  Elapsed time: 58.6889999986 mins"
       ]
      },
      {
       "output_type": "stream",
       "stream": "stdout",
       "text": [
        "\r",
        "Finding differences of reclassification 15 for data pairs 9 of 45.  Elapsed time: 58.777033333 mins"
       ]
      },
      {
       "output_type": "stream",
       "stream": "stdout",
       "text": [
        "\r",
        "Finding differences of reclassification 15 for data pairs 10 of 45.  Elapsed time: 58.8646499991 mins"
       ]
      },
      {
       "output_type": "stream",
       "stream": "stdout",
       "text": [
        "\r",
        "Finding differences of reclassification 15 for data pairs 11 of 45.  Elapsed time: 58.9528166652 mins"
       ]
      },
      {
       "output_type": "stream",
       "stream": "stdout",
       "text": [
        "\r",
        "Finding differences of reclassification 15 for data pairs 12 of 45.  Elapsed time: 59.0416500012 mins"
       ]
      },
      {
       "output_type": "stream",
       "stream": "stdout",
       "text": [
        "\r",
        "Finding differences of reclassification 15 for data pairs 13 of 45.  Elapsed time: 59.129216667 mins"
       ]
      },
      {
       "output_type": "stream",
       "stream": "stdout",
       "text": [
        "\r",
        "Finding differences of reclassification 15 for data pairs 14 of 45.  Elapsed time: 59.2170333346 mins"
       ]
      },
      {
       "output_type": "stream",
       "stream": "stdout",
       "text": [
        "\r",
        "Finding differences of reclassification 15 for data pairs 15 of 45.  Elapsed time: 59.3108833313 mins"
       ]
      },
      {
       "output_type": "stream",
       "stream": "stdout",
       "text": [
        "\r",
        "Finding differences of reclassification 15 for data pairs 16 of 45.  Elapsed time: 59.4004666646 mins"
       ]
      },
      {
       "output_type": "stream",
       "stream": "stdout",
       "text": [
        "\r",
        "Finding differences of reclassification 15 for data pairs 17 of 45.  Elapsed time: 59.4911833326 mins"
       ]
      },
      {
       "output_type": "stream",
       "stream": "stdout",
       "text": [
        "\r",
        "Finding differences of reclassification 15 for data pairs 18 of 45.  Elapsed time: 59.5796166658 mins"
       ]
      },
      {
       "output_type": "stream",
       "stream": "stdout",
       "text": [
        "\r",
        "Finding differences of reclassification 15 for data pairs 19 of 45.  Elapsed time: 59.6718333324 mins"
       ]
      },
      {
       "output_type": "stream",
       "stream": "stdout",
       "text": [
        "\r",
        "Finding differences of reclassification 15 for data pairs 20 of 45.  Elapsed time: 59.7594499985 mins"
       ]
      },
      {
       "output_type": "stream",
       "stream": "stdout",
       "text": [
        "\r",
        "Finding differences of reclassification 15 for data pairs 21 of 45.  Elapsed time: 59.8487666647 mins"
       ]
      },
      {
       "output_type": "stream",
       "stream": "stdout",
       "text": [
        "\r",
        "Finding differences of reclassification 15 for data pairs 22 of 45.  Elapsed time: 59.9382166664 mins"
       ]
      },
      {
       "output_type": "stream",
       "stream": "stdout",
       "text": [
        "\r",
        "Finding differences of reclassification 15 for data pairs 23 of 45.  Elapsed time: 1.00042861111 hours"
       ]
      },
      {
       "output_type": "stream",
       "stream": "stdout",
       "text": [
        "\r",
        "Finding differences of reclassification 15 for data pairs 24 of 45.  Elapsed time: 1.00188388891 hours"
       ]
      },
      {
       "output_type": "stream",
       "stream": "stdout",
       "text": [
        "\r",
        "Finding differences of reclassification 15 for data pairs 25 of 45.  Elapsed time: 1.00336638888 hours"
       ]
      },
      {
       "output_type": "stream",
       "stream": "stdout",
       "text": [
        "\r",
        "Finding differences of reclassification 15 for data pairs 26 of 45.  Elapsed time: 1.0048522222 hours"
       ]
      },
      {
       "output_type": "stream",
       "stream": "stdout",
       "text": [
        "\r",
        "Finding differences of reclassification 15 for data pairs 27 of 45.  Elapsed time: 1.00633999997 hours"
       ]
      },
      {
       "output_type": "stream",
       "stream": "stdout",
       "text": [
        "\r",
        "Finding differences of reclassification 15 for data pairs 28 of 45.  Elapsed time: 1.00787055552 hours"
       ]
      },
      {
       "output_type": "stream",
       "stream": "stdout",
       "text": [
        "\r",
        "Finding differences of reclassification 15 for data pairs 29 of 45.  Elapsed time: 1.00934833335 hours"
       ]
      },
      {
       "output_type": "stream",
       "stream": "stdout",
       "text": [
        "\r",
        "Finding differences of reclassification 15 for data pairs 30 of 45.  Elapsed time: 1.01088805556 hours"
       ]
      },
      {
       "output_type": "stream",
       "stream": "stdout",
       "text": [
        "\r",
        "Finding differences of reclassification 15 for data pairs 31 of 45.  Elapsed time: 1.01236611108 hours"
       ]
      },
      {
       "output_type": "stream",
       "stream": "stdout",
       "text": [
        "\r",
        "Finding differences of reclassification 15 for data pairs 32 of 45.  Elapsed time: 1.01381666667 hours"
       ]
      },
      {
       "output_type": "stream",
       "stream": "stdout",
       "text": [
        "\r",
        "Finding differences of reclassification 15 for data pairs 33 of 45.  Elapsed time: 1.01529611111 hours"
       ]
      },
      {
       "output_type": "stream",
       "stream": "stdout",
       "text": [
        "\r",
        "Finding differences of reclassification 15 for data pairs 34 of 45.  Elapsed time: 1.01677222219 hours"
       ]
      },
      {
       "output_type": "stream",
       "stream": "stdout",
       "text": [
        "\r",
        "Finding differences of reclassification 15 for data pairs 35 of 45.  Elapsed time: 1.01823749999 hours"
       ]
      },
      {
       "output_type": "stream",
       "stream": "stdout",
       "text": [
        "\r",
        "Finding differences of reclassification 15 for data pairs 36 of 45.  Elapsed time: 1.01968805558 hours"
       ]
      },
      {
       "output_type": "stream",
       "stream": "stdout",
       "text": [
        "\r",
        "Finding differences of reclassification 15 for data pairs 37 of 45.  Elapsed time: 1.02118611111 hours"
       ]
      },
      {
       "output_type": "stream",
       "stream": "stdout",
       "text": [
        "\r",
        "Finding differences of reclassification 15 for data pairs 38 of 45.  Elapsed time: 1.0226477778 hours"
       ]
      },
      {
       "output_type": "stream",
       "stream": "stdout",
       "text": [
        "\r",
        "Finding differences of reclassification 15 for data pairs 39 of 45.  Elapsed time: 1.02410499997 hours"
       ]
      },
      {
       "output_type": "stream",
       "stream": "stdout",
       "text": [
        "\r",
        "Finding differences of reclassification 15 for data pairs 40 of 45.  Elapsed time: 1.02559499999 hours"
       ]
      },
      {
       "output_type": "stream",
       "stream": "stdout",
       "text": [
        "\r",
        "Finding differences of reclassification 15 for data pairs 41 of 45.  Elapsed time: 1.02714361111 hours"
       ]
      },
      {
       "output_type": "stream",
       "stream": "stdout",
       "text": [
        "\r",
        "Finding differences of reclassification 15 for data pairs 42 of 45.  Elapsed time: 1.02862083336 hours"
       ]
      },
      {
       "output_type": "stream",
       "stream": "stdout",
       "text": [
        "\r",
        "Finding differences of reclassification 15 for data pairs 43 of 45.  Elapsed time: 1.03010972222 hours"
       ]
      },
      {
       "output_type": "stream",
       "stream": "stdout",
       "text": [
        "\r",
        "Finding differences of reclassification 15 for data pairs 44 of 45.  Elapsed time: 1.03157027774 hours"
       ]
      },
      {
       "output_type": "stream",
       "stream": "stdout",
       "text": [
        "\r",
        "Finding differences of reclassification 15 for data pairs 45 of 45.  Elapsed time: 1.03303499997 hours"
       ]
      },
      {
       "output_type": "stream",
       "stream": "stdout",
       "text": [
        "\r",
        "Finding differences of reclassification 16 for data pairs 1 of 45.  Elapsed time: 1.0345063889 hours"
       ]
      },
      {
       "output_type": "stream",
       "stream": "stdout",
       "text": [
        "\r",
        "Finding differences of reclassification 16 for data pairs 2 of 45.  Elapsed time: 1.03597583334 hours"
       ]
      },
      {
       "output_type": "stream",
       "stream": "stdout",
       "text": [
        "\r",
        "Finding differences of reclassification 16 for data pairs 3 of 45.  Elapsed time: 1.03743583335 hours"
       ]
      },
      {
       "output_type": "stream",
       "stream": "stdout",
       "text": [
        "\r",
        "Finding differences of reclassification 16 for data pairs 4 of 45.  Elapsed time: 1.03892333335 hours"
       ]
      },
      {
       "output_type": "stream",
       "stream": "stdout",
       "text": [
        "\r",
        "Finding differences of reclassification 16 for data pairs 5 of 45.  Elapsed time: 1.04041166663 hours"
       ]
      },
      {
       "output_type": "stream",
       "stream": "stdout",
       "text": [
        "\r",
        "Finding differences of reclassification 16 for data pairs 6 of 45.  Elapsed time: 1.04187888887 hours"
       ]
      },
      {
       "output_type": "stream",
       "stream": "stdout",
       "text": [
        "\r",
        "Finding differences of reclassification 16 for data pairs 7 of 45.  Elapsed time: 1.04342777775 hours"
       ]
      },
      {
       "output_type": "stream",
       "stream": "stdout",
       "text": [
        "\r",
        "Finding differences of reclassification 16 for data pairs 8 of 45.  Elapsed time: 1.04491694444 hours"
       ]
      },
      {
       "output_type": "stream",
       "stream": "stdout",
       "text": [
        "\r",
        "Finding differences of reclassification 16 for data pairs 9 of 45.  Elapsed time: 1.04639833331 hours"
       ]
      },
      {
       "output_type": "stream",
       "stream": "stdout",
       "text": [
        "\r",
        "Finding differences of reclassification 16 for data pairs 10 of 45.  Elapsed time: 1.04784805556 hours"
       ]
      },
      {
       "output_type": "stream",
       "stream": "stdout",
       "text": [
        "\r",
        "Finding differences of reclassification 16 for data pairs 11 of 45.  Elapsed time: 1.04931499998 hours"
       ]
      },
      {
       "output_type": "stream",
       "stream": "stdout",
       "text": [
        "\r",
        "Finding differences of reclassification 16 for data pairs 12 of 45.  Elapsed time: 1.05079416666 hours"
       ]
      },
      {
       "output_type": "stream",
       "stream": "stdout",
       "text": [
        "\r",
        "Finding differences of reclassification 16 for data pairs 13 of 45.  Elapsed time: 1.05226166666 hours"
       ]
      },
      {
       "output_type": "stream",
       "stream": "stdout",
       "text": [
        "\r",
        "Finding differences of reclassification 16 for data pairs 14 of 45.  Elapsed time: 1.05372166667 hours"
       ]
      },
      {
       "output_type": "stream",
       "stream": "stdout",
       "text": [
        "\r",
        "Finding differences of reclassification 16 for data pairs 15 of 45.  Elapsed time: 1.05521416664 hours"
       ]
      },
      {
       "output_type": "stream",
       "stream": "stdout",
       "text": [
        "\r",
        "Finding differences of reclassification 16 for data pairs 16 of 45.  Elapsed time: 1.05668944445 hours"
       ]
      },
      {
       "output_type": "stream",
       "stream": "stdout",
       "text": [
        "\r",
        "Finding differences of reclassification 16 for data pairs 17 of 45.  Elapsed time: 1.05823055552 hours"
       ]
      },
      {
       "output_type": "stream",
       "stream": "stdout",
       "text": [
        "\r",
        "Finding differences of reclassification 16 for data pairs 18 of 45.  Elapsed time: 1.05970805552 hours"
       ]
      },
      {
       "output_type": "stream",
       "stream": "stdout",
       "text": [
        "\r",
        "Finding differences of reclassification 16 for data pairs 19 of 45.  Elapsed time: 1.06124722222 hours"
       ]
      },
      {
       "output_type": "stream",
       "stream": "stdout",
       "text": [
        "\r",
        "Finding differences of reclassification 16 for data pairs 20 of 45.  Elapsed time: 1.06269805557 hours"
       ]
      },
      {
       "output_type": "stream",
       "stream": "stdout",
       "text": [
        "\r",
        "Finding differences of reclassification 16 for data pairs 21 of 45.  Elapsed time: 1.06417750001 hours"
       ]
      },
      {
       "output_type": "stream",
       "stream": "stdout",
       "text": [
        "\r",
        "Finding differences of reclassification 16 for data pairs 22 of 45.  Elapsed time: 1.06565972222 hours"
       ]
      },
      {
       "output_type": "stream",
       "stream": "stdout",
       "text": [
        "\r",
        "Finding differences of reclassification 16 for data pairs 23 of 45.  Elapsed time: 1.06712361111 hours"
       ]
      },
      {
       "output_type": "stream",
       "stream": "stdout",
       "text": [
        "\r",
        "Finding differences of reclassification 16 for data pairs 24 of 45.  Elapsed time: 1.06857861108 hours"
       ]
      },
      {
       "output_type": "stream",
       "stream": "stdout",
       "text": [
        "\r",
        "Finding differences of reclassification 16 for data pairs 25 of 45.  Elapsed time: 1.07005666667 hours"
       ]
      },
      {
       "output_type": "stream",
       "stream": "stdout",
       "text": [
        "\r",
        "Finding differences of reclassification 16 for data pairs 26 of 45.  Elapsed time: 1.07153999998 hours"
       ]
      },
      {
       "output_type": "stream",
       "stream": "stdout",
       "text": [
        "\r",
        "Finding differences of reclassification 16 for data pairs 27 of 45.  Elapsed time: 1.07303499997 hours"
       ]
      },
      {
       "output_type": "stream",
       "stream": "stdout",
       "text": [
        "\r",
        "Finding differences of reclassification 16 for data pairs 28 of 45.  Elapsed time: 1.07456333333 hours"
       ]
      },
      {
       "output_type": "stream",
       "stream": "stdout",
       "text": [
        "\r",
        "Finding differences of reclassification 16 for data pairs 29 of 45.  Elapsed time: 1.07604638888 hours"
       ]
      },
      {
       "output_type": "stream",
       "stream": "stdout",
       "text": [
        "\r",
        "Finding differences of reclassification 16 for data pairs 30 of 45.  Elapsed time: 1.07763111108 hours"
       ]
      },
      {
       "output_type": "stream",
       "stream": "stdout",
       "text": [
        "\r",
        "Finding differences of reclassification 16 for data pairs 31 of 45.  Elapsed time: 1.07914944443 hours"
       ]
      },
      {
       "output_type": "stream",
       "stream": "stdout",
       "text": [
        "\r",
        "Finding differences of reclassification 16 for data pairs 32 of 45.  Elapsed time: 1.08063750002 hours"
       ]
      },
      {
       "output_type": "stream",
       "stream": "stdout",
       "text": [
        "\r",
        "Finding differences of reclassification 16 for data pairs 33 of 45.  Elapsed time: 1.08229027775 hours"
       ]
      },
      {
       "output_type": "stream",
       "stream": "stdout",
       "text": [
        "\r",
        "Finding differences of reclassification 16 for data pairs 34 of 45.  Elapsed time: 1.0838127778 hours"
       ]
      },
      {
       "output_type": "stream",
       "stream": "stdout",
       "text": [
        "\r",
        "Finding differences of reclassification 16 for data pairs 35 of 45.  Elapsed time: 1.08532083333 hours"
       ]
      },
      {
       "output_type": "stream",
       "stream": "stdout",
       "text": [
        "\r",
        "Finding differences of reclassification 16 for data pairs 36 of 45.  Elapsed time: 1.08680638889 hours"
       ]
      },
      {
       "output_type": "stream",
       "stream": "stdout",
       "text": [
        "\r",
        "Finding differences of reclassification 16 for data pairs 37 of 45.  Elapsed time: 1.08832416667 hours"
       ]
      },
      {
       "output_type": "stream",
       "stream": "stdout",
       "text": [
        "\r",
        "Finding differences of reclassification 16 for data pairs 38 of 45.  Elapsed time: 1.08980361111 hours"
       ]
      },
      {
       "output_type": "stream",
       "stream": "stdout",
       "text": [
        "\r",
        "Finding differences of reclassification 16 for data pairs 39 of 45.  Elapsed time: 1.09132499999 hours"
       ]
      },
      {
       "output_type": "stream",
       "stream": "stdout",
       "text": [
        "\r",
        "Finding differences of reclassification 16 for data pairs 40 of 45.  Elapsed time: 1.09285277777 hours"
       ]
      },
      {
       "output_type": "stream",
       "stream": "stdout",
       "text": [
        "\r",
        "Finding differences of reclassification 16 for data pairs 41 of 45.  Elapsed time: 1.09453722219 hours"
       ]
      },
      {
       "output_type": "stream",
       "stream": "stdout",
       "text": [
        "\r",
        "Finding differences of reclassification 16 for data pairs 42 of 45.  Elapsed time: 1.09619694445 hours"
       ]
      },
      {
       "output_type": "stream",
       "stream": "stdout",
       "text": [
        "\r",
        "Finding differences of reclassification 16 for data pairs 43 of 45.  Elapsed time: 1.09783250001 hours"
       ]
      },
      {
       "output_type": "stream",
       "stream": "stdout",
       "text": [
        "\r",
        "Finding differences of reclassification 16 for data pairs 44 of 45.  Elapsed time: 1.0993597222 hours"
       ]
      },
      {
       "output_type": "stream",
       "stream": "stdout",
       "text": [
        "\r",
        "Finding differences of reclassification 16 for data pairs 45 of 45.  Elapsed time: 1.10086416668 hours"
       ]
      },
      {
       "output_type": "stream",
       "stream": "stdout",
       "text": [
        "\r",
        "Finding differences of reclassification 17 for data pairs 1 of 45.  Elapsed time: 1.10237277779 hours"
       ]
      },
      {
       "output_type": "stream",
       "stream": "stdout",
       "text": [
        "\r",
        "Finding differences of reclassification 17 for data pairs 2 of 45.  Elapsed time: 1.10387749996 hours"
       ]
      },
      {
       "output_type": "stream",
       "stream": "stdout",
       "text": [
        "\r",
        "Finding differences of reclassification 17 for data pairs 3 of 45.  Elapsed time: 1.1053863889 hours"
       ]
      },
      {
       "output_type": "stream",
       "stream": "stdout",
       "text": [
        "\r",
        "Finding differences of reclassification 17 for data pairs 4 of 45.  Elapsed time: 1.10692916665 hours"
       ]
      },
      {
       "output_type": "stream",
       "stream": "stdout",
       "text": [
        "\r",
        "Finding differences of reclassification 17 for data pairs 5 of 45.  Elapsed time: 1.10848111113 hours"
       ]
      },
      {
       "output_type": "stream",
       "stream": "stdout",
       "text": [
        "\r",
        "Finding differences of reclassification 17 for data pairs 6 of 45.  Elapsed time: 1.1101658333 hours"
       ]
      },
      {
       "output_type": "stream",
       "stream": "stdout",
       "text": [
        "\r",
        "Finding differences of reclassification 17 for data pairs 7 of 45.  Elapsed time: 1.11171305557 hours"
       ]
      },
      {
       "output_type": "stream",
       "stream": "stdout",
       "text": [
        "\r",
        "Finding differences of reclassification 17 for data pairs 8 of 45.  Elapsed time: 1.11323166668 hours"
       ]
      },
      {
       "output_type": "stream",
       "stream": "stdout",
       "text": [
        "\r",
        "Finding differences of reclassification 17 for data pairs 9 of 45.  Elapsed time: 1.11476361109 hours"
       ]
      },
      {
       "output_type": "stream",
       "stream": "stdout",
       "text": [
        "\r",
        "Finding differences of reclassification 17 for data pairs 10 of 45.  Elapsed time: 1.11626361112 hours"
       ]
      },
      {
       "output_type": "stream",
       "stream": "stdout",
       "text": [
        "\r",
        "Finding differences of reclassification 17 for data pairs 11 of 45.  Elapsed time: 1.11776777777 hours"
       ]
      },
      {
       "output_type": "stream",
       "stream": "stdout",
       "text": [
        "\r",
        "Finding differences of reclassification 17 for data pairs 12 of 45.  Elapsed time: 1.11932444447 hours"
       ]
      },
      {
       "output_type": "stream",
       "stream": "stdout",
       "text": [
        "\r",
        "Finding differences of reclassification 17 for data pairs 13 of 45.  Elapsed time: 1.12083666669 hours"
       ]
      },
      {
       "output_type": "stream",
       "stream": "stdout",
       "text": [
        "\r",
        "Finding differences of reclassification 17 for data pairs 14 of 45.  Elapsed time: 1.12237805552 hours"
       ]
      },
      {
       "output_type": "stream",
       "stream": "stdout",
       "text": [
        "\r",
        "Finding differences of reclassification 17 for data pairs 15 of 45.  Elapsed time: 1.12410305553 hours"
       ]
      },
      {
       "output_type": "stream",
       "stream": "stdout",
       "text": [
        "\r",
        "Finding differences of reclassification 17 for data pairs 16 of 45.  Elapsed time: 1.12573027776 hours"
       ]
      },
      {
       "output_type": "stream",
       "stream": "stdout",
       "text": [
        "\r",
        "Finding differences of reclassification 17 for data pairs 17 of 45.  Elapsed time: 1.12734944443 hours"
       ]
      },
      {
       "output_type": "stream",
       "stream": "stdout",
       "text": [
        "\r",
        "Finding differences of reclassification 17 for data pairs 18 of 45.  Elapsed time: 1.12888111108 hours"
       ]
      },
      {
       "output_type": "stream",
       "stream": "stdout",
       "text": [
        "\r",
        "Finding differences of reclassification 17 for data pairs 19 of 45.  Elapsed time: 1.13040083336 hours"
       ]
      },
      {
       "output_type": "stream",
       "stream": "stdout",
       "text": [
        "\r",
        "Finding differences of reclassification 17 for data pairs 20 of 45.  Elapsed time: 1.13188750002 hours"
       ]
      },
      {
       "output_type": "stream",
       "stream": "stdout",
       "text": [
        "\r",
        "Finding differences of reclassification 17 for data pairs 21 of 45.  Elapsed time: 1.13347638885 hours"
       ]
      },
      {
       "output_type": "stream",
       "stream": "stdout",
       "text": [
        "\r",
        "Finding differences of reclassification 17 for data pairs 22 of 45.  Elapsed time: 1.13507000003 hours"
       ]
      },
      {
       "output_type": "stream",
       "stream": "stdout",
       "text": [
        "\r",
        "Finding differences of reclassification 17 for data pairs 23 of 45.  Elapsed time: 1.13655861113 hours"
       ]
      },
      {
       "output_type": "stream",
       "stream": "stdout",
       "text": [
        "\r",
        "Finding differences of reclassification 17 for data pairs 24 of 45.  Elapsed time: 1.13804916667 hours"
       ]
      },
      {
       "output_type": "stream",
       "stream": "stdout",
       "text": [
        "\r",
        "Finding differences of reclassification 17 for data pairs 25 of 45.  Elapsed time: 1.13956972222 hours"
       ]
      },
      {
       "output_type": "stream",
       "stream": "stdout",
       "text": [
        "\r",
        "Finding differences of reclassification 17 for data pairs 26 of 45.  Elapsed time: 1.14107722223 hours"
       ]
      },
      {
       "output_type": "stream",
       "stream": "stdout",
       "text": [
        "\r",
        "Finding differences of reclassification 17 for data pairs 27 of 45.  Elapsed time: 1.14258944445 hours"
       ]
      },
      {
       "output_type": "stream",
       "stream": "stdout",
       "text": [
        "\r",
        "Finding differences of reclassification 17 for data pairs 28 of 45.  Elapsed time: 1.14418944445 hours"
       ]
      },
      {
       "output_type": "stream",
       "stream": "stdout",
       "text": [
        "\r",
        "Finding differences of reclassification 17 for data pairs 29 of 45.  Elapsed time: 1.14569027775 hours"
       ]
      },
      {
       "output_type": "stream",
       "stream": "stdout",
       "text": [
        "\r",
        "Finding differences of reclassification 17 for data pairs 30 of 45.  Elapsed time: 1.14720249997 hours"
       ]
      },
      {
       "output_type": "stream",
       "stream": "stdout",
       "text": [
        "\r",
        "Finding differences of reclassification 17 for data pairs 31 of 45.  Elapsed time: 1.14871666663 hours"
       ]
      },
      {
       "output_type": "stream",
       "stream": "stdout",
       "text": [
        "\r",
        "Finding differences of reclassification 17 for data pairs 32 of 45.  Elapsed time: 1.15018611113 hours"
       ]
      },
      {
       "output_type": "stream",
       "stream": "stdout",
       "text": [
        "\r",
        "Finding differences of reclassification 17 for data pairs 33 of 45.  Elapsed time: 1.15168583333 hours"
       ]
      },
      {
       "output_type": "stream",
       "stream": "stdout",
       "text": [
        "\r",
        "Finding differences of reclassification 17 for data pairs 34 of 45.  Elapsed time: 1.15318638888 hours"
       ]
      },
      {
       "output_type": "stream",
       "stream": "stdout",
       "text": [
        "\r",
        "Finding differences of reclassification 17 for data pairs 35 of 45.  Elapsed time: 1.15466749999 hours"
       ]
      },
      {
       "output_type": "stream",
       "stream": "stdout",
       "text": [
        "\r",
        "Finding differences of reclassification 17 for data pairs 36 of 45.  Elapsed time: 1.15615249998 hours"
       ]
      },
      {
       "output_type": "stream",
       "stream": "stdout",
       "text": [
        "\r",
        "Finding differences of reclassification 17 for data pairs 37 of 45.  Elapsed time: 1.15765388886 hours"
       ]
      },
      {
       "output_type": "stream",
       "stream": "stdout",
       "text": [
        "\r",
        "Finding differences of reclassification 17 for data pairs 38 of 45.  Elapsed time: 1.15913305554 hours"
       ]
      },
      {
       "output_type": "stream",
       "stream": "stdout",
       "text": [
        "\r",
        "Finding differences of reclassification 17 for data pairs 39 of 45.  Elapsed time: 1.16067583336 hours"
       ]
      },
      {
       "output_type": "stream",
       "stream": "stdout",
       "text": [
        "\r",
        "Finding differences of reclassification 17 for data pairs 40 of 45.  Elapsed time: 1.16218194445 hours"
       ]
      },
      {
       "output_type": "stream",
       "stream": "stdout",
       "text": [
        "\r",
        "Finding differences of reclassification 17 for data pairs 41 of 45.  Elapsed time: 1.16368999998 hours"
       ]
      },
      {
       "output_type": "stream",
       "stream": "stdout",
       "text": [
        "\r",
        "Finding differences of reclassification 17 for data pairs 42 of 45.  Elapsed time: 1.16518805557 hours"
       ]
      },
      {
       "output_type": "stream",
       "stream": "stdout",
       "text": [
        "\r",
        "Finding differences of reclassification 17 for data pairs 43 of 45.  Elapsed time: 1.16669583334 hours"
       ]
      },
      {
       "output_type": "stream",
       "stream": "stdout",
       "text": [
        "\r",
        "Finding differences of reclassification 17 for data pairs 44 of 45.  Elapsed time: 1.16816972223 hours"
       ]
      },
      {
       "output_type": "stream",
       "stream": "stdout",
       "text": [
        "\r",
        "Finding differences of reclassification 17 for data pairs 45 of 45.  Elapsed time: 1.16964694447 hours"
       ]
      },
      {
       "output_type": "stream",
       "stream": "stdout",
       "text": [
        "\r",
        "Finding differences of reclassification 18 for data pairs 1 of 45.  Elapsed time: 1.17112388889 hours"
       ]
      },
      {
       "output_type": "stream",
       "stream": "stdout",
       "text": [
        "\r",
        "Finding differences of reclassification 18 for data pairs 2 of 45.  Elapsed time: 1.17260972222 hours"
       ]
      },
      {
       "output_type": "stream",
       "stream": "stdout",
       "text": [
        "\r",
        "Finding differences of reclassification 18 for data pairs 3 of 45.  Elapsed time: 1.17409027775 hours"
       ]
      },
      {
       "output_type": "stream",
       "stream": "stdout",
       "text": [
        "\r",
        "Finding differences of reclassification 18 for data pairs 4 of 45.  Elapsed time: 1.17559111112 hours"
       ]
      },
      {
       "output_type": "stream",
       "stream": "stdout",
       "text": [
        "\r",
        "Finding differences of reclassification 18 for data pairs 5 of 45.  Elapsed time: 1.17715305554 hours"
       ]
      },
      {
       "output_type": "stream",
       "stream": "stdout",
       "text": [
        "\r",
        "Finding differences of reclassification 18 for data pairs 6 of 45.  Elapsed time: 1.17862611108 hours"
       ]
      },
      {
       "output_type": "stream",
       "stream": "stdout",
       "text": [
        "\r",
        "Finding differences of reclassification 18 for data pairs 7 of 45.  Elapsed time: 1.18012888889 hours"
       ]
      },
      {
       "output_type": "stream",
       "stream": "stdout",
       "text": [
        "\r",
        "Finding differences of reclassification 18 for data pairs 8 of 45.  Elapsed time: 1.18162972225 hours"
       ]
      },
      {
       "output_type": "stream",
       "stream": "stdout",
       "text": [
        "\r",
        "Finding differences of reclassification 18 for data pairs 9 of 45.  Elapsed time: 1.18311916669 hours"
       ]
      },
      {
       "output_type": "stream",
       "stream": "stdout",
       "text": [
        "\r",
        "Finding differences of reclassification 18 for data pairs 10 of 45.  Elapsed time: 1.18459500002 hours"
       ]
      },
      {
       "output_type": "stream",
       "stream": "stdout",
       "text": [
        "\r",
        "Finding differences of reclassification 18 for data pairs 11 of 45.  Elapsed time: 1.18607444445 hours"
       ]
      },
      {
       "output_type": "stream",
       "stream": "stdout",
       "text": [
        "\r",
        "Finding differences of reclassification 18 for data pairs 12 of 45.  Elapsed time: 1.18757916669 hours"
       ]
      },
      {
       "output_type": "stream",
       "stream": "stdout",
       "text": [
        "\r",
        "Finding differences of reclassification 18 for data pairs 13 of 45.  Elapsed time: 1.18906027781 hours"
       ]
      },
      {
       "output_type": "stream",
       "stream": "stdout",
       "text": [
        "\r",
        "Finding differences of reclassification 18 for data pairs 14 of 45.  Elapsed time: 1.19058249997 hours"
       ]
      },
      {
       "output_type": "stream",
       "stream": "stdout",
       "text": [
        "\r",
        "Finding differences of reclassification 18 for data pairs 15 of 45.  Elapsed time: 1.19210055557 hours"
       ]
      },
      {
       "output_type": "stream",
       "stream": "stdout",
       "text": [
        "\r",
        "Finding differences of reclassification 18 for data pairs 16 of 45.  Elapsed time: 1.1936427778 hours"
       ]
      },
      {
       "output_type": "stream",
       "stream": "stdout",
       "text": [
        "\r",
        "Finding differences of reclassification 18 for data pairs 17 of 45.  Elapsed time: 1.19513388885 hours"
       ]
      },
      {
       "output_type": "stream",
       "stream": "stdout",
       "text": [
        "\r",
        "Finding differences of reclassification 18 for data pairs 18 of 45.  Elapsed time: 1.1966211111 hours"
       ]
      },
      {
       "output_type": "stream",
       "stream": "stdout",
       "text": [
        "\r",
        "Finding differences of reclassification 18 for data pairs 19 of 45.  Elapsed time: 1.19813972221 hours"
       ]
      },
      {
       "output_type": "stream",
       "stream": "stdout",
       "text": [
        "\r",
        "Finding differences of reclassification 18 for data pairs 20 of 45.  Elapsed time: 1.19961749997 hours"
       ]
      },
      {
       "output_type": "stream",
       "stream": "stdout",
       "text": [
        "\r",
        "Finding differences of reclassification 18 for data pairs 21 of 45.  Elapsed time: 1.20112944444 hours"
       ]
      },
      {
       "output_type": "stream",
       "stream": "stdout",
       "text": [
        "\r",
        "Finding differences of reclassification 18 for data pairs 22 of 45.  Elapsed time: 1.20263916665 hours"
       ]
      },
      {
       "output_type": "stream",
       "stream": "stdout",
       "text": [
        "\r",
        "Finding differences of reclassification 18 for data pairs 23 of 45.  Elapsed time: 1.20411694447 hours"
       ]
      },
      {
       "output_type": "stream",
       "stream": "stdout",
       "text": [
        "\r",
        "Finding differences of reclassification 18 for data pairs 24 of 45.  Elapsed time: 1.20560861111 hours"
       ]
      },
      {
       "output_type": "stream",
       "stream": "stdout",
       "text": [
        "\r",
        "Finding differences of reclassification 18 for data pairs 25 of 45.  Elapsed time: 1.20717444446 hours"
       ]
      },
      {
       "output_type": "stream",
       "stream": "stdout",
       "text": [
        "\r",
        "Finding differences of reclassification 18 for data pairs 26 of 45.  Elapsed time: 1.20867444442 hours"
       ]
      },
      {
       "output_type": "stream",
       "stream": "stdout",
       "text": [
        "\r",
        "Finding differences of reclassification 18 for data pairs 27 of 45.  Elapsed time: 1.21024694443 hours"
       ]
      },
      {
       "output_type": "stream",
       "stream": "stdout",
       "text": [
        "\r",
        "Finding differences of reclassification 18 for data pairs 28 of 45.  Elapsed time: 1.21178499997 hours"
       ]
      },
      {
       "output_type": "stream",
       "stream": "stdout",
       "text": [
        "\r",
        "Finding differences of reclassification 18 for data pairs 29 of 45.  Elapsed time: 1.2133425 hours"
       ]
      },
      {
       "output_type": "stream",
       "stream": "stdout",
       "text": [
        "\r",
        "Finding differences of reclassification 18 for data pairs 30 of 45.  Elapsed time: 1.21489805553 hours"
       ]
      },
      {
       "output_type": "stream",
       "stream": "stdout",
       "text": [
        "\r",
        "Finding differences of reclassification 18 for data pairs 31 of 45.  Elapsed time: 1.21640555554 hours"
       ]
      },
      {
       "output_type": "stream",
       "stream": "stdout",
       "text": [
        "\r",
        "Finding differences of reclassification 18 for data pairs 32 of 45.  Elapsed time: 1.21787972225 hours"
       ]
      },
      {
       "output_type": "stream",
       "stream": "stdout",
       "text": [
        "\r",
        "Finding differences of reclassification 18 for data pairs 33 of 45.  Elapsed time: 1.21938555552 hours"
       ]
      },
      {
       "output_type": "stream",
       "stream": "stdout",
       "text": [
        "\r",
        "Finding differences of reclassification 18 for data pairs 34 of 45.  Elapsed time: 1.2208911111 hours"
       ]
      },
      {
       "output_type": "stream",
       "stream": "stdout",
       "text": [
        "\r",
        "Finding differences of reclassification 18 for data pairs 35 of 45.  Elapsed time: 1.22237444447 hours"
       ]
      },
      {
       "output_type": "stream",
       "stream": "stdout",
       "text": [
        "\r",
        "Finding differences of reclassification 18 for data pairs 36 of 45.  Elapsed time: 1.2238472222 hours"
       ]
      },
      {
       "output_type": "stream",
       "stream": "stdout",
       "text": [
        "\r",
        "Finding differences of reclassification 18 for data pairs 37 of 45.  Elapsed time: 1.22535694447 hours"
       ]
      },
      {
       "output_type": "stream",
       "stream": "stdout",
       "text": [
        "\r",
        "Finding differences of reclassification 18 for data pairs 38 of 45.  Elapsed time: 1.22690916664 hours"
       ]
      },
      {
       "output_type": "stream",
       "stream": "stdout",
       "text": [
        "\r",
        "Finding differences of reclassification 18 for data pairs 39 of 45.  Elapsed time: 1.22838222219 hours"
       ]
      },
      {
       "output_type": "stream",
       "stream": "stdout",
       "text": [
        "\r",
        "Finding differences of reclassification 18 for data pairs 40 of 45.  Elapsed time: 1.2298908333 hours"
       ]
      },
      {
       "output_type": "stream",
       "stream": "stdout",
       "text": [
        "\r",
        "Finding differences of reclassification 18 for data pairs 41 of 45.  Elapsed time: 1.23144083334 hours"
       ]
      },
      {
       "output_type": "stream",
       "stream": "stdout",
       "text": [
        "\r",
        "Finding differences of reclassification 18 for data pairs 42 of 45.  Elapsed time: 1.23332472225 hours"
       ]
      },
      {
       "output_type": "stream",
       "stream": "stdout",
       "text": [
        "\r",
        "Finding differences of reclassification 18 for data pairs 43 of 45.  Elapsed time: 1.23501305554 hours"
       ]
      },
      {
       "output_type": "stream",
       "stream": "stdout",
       "text": [
        "\r",
        "Finding differences of reclassification 18 for data pairs 44 of 45.  Elapsed time: 1.23655972222 hours"
       ]
      },
      {
       "output_type": "stream",
       "stream": "stdout",
       "text": [
        "\r",
        "Finding differences of reclassification 18 for data pairs 45 of 45.  Elapsed time: 1.23808305555 hours"
       ]
      },
      {
       "output_type": "stream",
       "stream": "stdout",
       "text": [
        "\r",
        "Finding differences of reclassification 19 for data pairs 1 of 45.  Elapsed time: 1.23962861107 hours"
       ]
      },
      {
       "output_type": "stream",
       "stream": "stdout",
       "text": [
        "\r",
        "Finding differences of reclassification 19 for data pairs 2 of 45.  Elapsed time: 1.24113888886 hours"
       ]
      },
      {
       "output_type": "stream",
       "stream": "stdout",
       "text": [
        "\r",
        "Finding differences of reclassification 19 for data pairs 3 of 45.  Elapsed time: 1.24267055558 hours"
       ]
      },
      {
       "output_type": "stream",
       "stream": "stdout",
       "text": [
        "\r",
        "Finding differences of reclassification 19 for data pairs 4 of 45.  Elapsed time: 1.24433194445 hours"
       ]
      },
      {
       "output_type": "stream",
       "stream": "stdout",
       "text": [
        "\r",
        "Finding differences of reclassification 19 for data pairs 5 of 45.  Elapsed time: 1.24588416669 hours"
       ]
      },
      {
       "output_type": "stream",
       "stream": "stdout",
       "text": [
        "\r",
        "Finding differences of reclassification 19 for data pairs 6 of 45.  Elapsed time: 1.24754027777 hours"
       ]
      },
      {
       "output_type": "stream",
       "stream": "stdout",
       "text": [
        "\r",
        "Finding differences of reclassification 19 for data pairs 7 of 45.  Elapsed time: 1.24910749998 hours"
       ]
      },
      {
       "output_type": "stream",
       "stream": "stdout",
       "text": [
        "\r",
        "Finding differences of reclassification 19 for data pairs 8 of 45.  Elapsed time: 1.25076499999 hours"
       ]
      },
      {
       "output_type": "stream",
       "stream": "stdout",
       "text": [
        "\r",
        "Finding differences of reclassification 19 for data pairs 9 of 45.  Elapsed time: 1.25233722223 hours"
       ]
      },
      {
       "output_type": "stream",
       "stream": "stdout",
       "text": [
        "\r",
        "Finding differences of reclassification 19 for data pairs 10 of 45.  Elapsed time: 1.25394416663 hours"
       ]
      },
      {
       "output_type": "stream",
       "stream": "stdout",
       "text": [
        "\r",
        "Finding differences of reclassification 19 for data pairs 11 of 45.  Elapsed time: 1.2555147222 hours"
       ]
      },
      {
       "output_type": "stream",
       "stream": "stdout",
       "text": [
        "\r",
        "Finding differences of reclassification 19 for data pairs 12 of 45.  Elapsed time: 1.2573927778 hours"
       ]
      },
      {
       "output_type": "stream",
       "stream": "stdout",
       "text": [
        "\r",
        "Finding differences of reclassification 19 for data pairs 13 of 45.  Elapsed time: 1.25923305558 hours"
       ]
      },
      {
       "output_type": "stream",
       "stream": "stdout",
       "text": [
        "\r",
        "Finding differences of reclassification 19 for data pairs 14 of 45.  Elapsed time: 1.26086861114 hours"
       ]
      },
      {
       "output_type": "stream",
       "stream": "stdout",
       "text": [
        "\r",
        "Finding differences of reclassification 19 for data pairs 15 of 45.  Elapsed time: 1.26267749998 hours"
       ]
      },
      {
       "output_type": "stream",
       "stream": "stdout",
       "text": [
        "\r",
        "Finding differences of reclassification 19 for data pairs 16 of 45.  Elapsed time: 1.26432944443 hours"
       ]
      },
      {
       "output_type": "stream",
       "stream": "stdout",
       "text": [
        "\r",
        "Finding differences of reclassification 19 for data pairs 17 of 45.  Elapsed time: 1.26592277779 hours"
       ]
      },
      {
       "output_type": "stream",
       "stream": "stdout",
       "text": [
        "\r",
        "Finding differences of reclassification 19 for data pairs 18 of 45.  Elapsed time: 1.26746749997 hours"
       ]
      },
      {
       "output_type": "stream",
       "stream": "stdout",
       "text": [
        "\r",
        "Finding differences of reclassification 19 for data pairs 19 of 45.  Elapsed time: 1.26906305558 hours"
       ]
      },
      {
       "output_type": "stream",
       "stream": "stdout",
       "text": [
        "\r",
        "Finding differences of reclassification 19 for data pairs 20 of 45.  Elapsed time: 1.27063138889 hours"
       ]
      },
      {
       "output_type": "stream",
       "stream": "stdout",
       "text": [
        "\r",
        "Finding differences of reclassification 19 for data pairs 21 of 45.  Elapsed time: 1.27219555557 hours"
       ]
      },
      {
       "output_type": "stream",
       "stream": "stdout",
       "text": [
        "\r",
        "Finding differences of reclassification 19 for data pairs 22 of 45.  Elapsed time: 1.27395277778 hours"
       ]
      },
      {
       "output_type": "stream",
       "stream": "stdout",
       "text": [
        "\r",
        "Finding differences of reclassification 19 for data pairs 23 of 45.  Elapsed time: 1.27563805554 hours"
       ]
      },
      {
       "output_type": "stream",
       "stream": "stdout",
       "text": [
        "\r",
        "Finding differences of reclassification 19 for data pairs 24 of 45.  Elapsed time: 1.27731805556 hours"
       ]
      },
      {
       "output_type": "stream",
       "stream": "stdout",
       "text": [
        "\r",
        "Finding differences of reclassification 19 for data pairs 25 of 45.  Elapsed time: 1.27889194442 hours"
       ]
      },
      {
       "output_type": "stream",
       "stream": "stdout",
       "text": [
        "\r",
        "Finding differences of reclassification 19 for data pairs 26 of 45.  Elapsed time: 1.28052972224 hours"
       ]
      },
      {
       "output_type": "stream",
       "stream": "stdout",
       "text": [
        "\r",
        "Finding differences of reclassification 19 for data pairs 27 of 45.  Elapsed time: 1.28239638891 hours"
       ]
      },
      {
       "output_type": "stream",
       "stream": "stdout",
       "text": [
        "\r",
        "Finding differences of reclassification 19 for data pairs 28 of 45.  Elapsed time: 1.28430916667 hours"
       ]
      },
      {
       "output_type": "stream",
       "stream": "stdout",
       "text": [
        "\r",
        "Finding differences of reclassification 19 for data pairs 29 of 45.  Elapsed time: 1.28595888886 hours"
       ]
      },
      {
       "output_type": "stream",
       "stream": "stdout",
       "text": [
        "\r",
        "Finding differences of reclassification 19 for data pairs 30 of 45.  Elapsed time: 1.28760222223 hours"
       ]
      },
      {
       "output_type": "stream",
       "stream": "stdout",
       "text": [
        "\r",
        "Finding differences of reclassification 19 for data pairs 31 of 45.  Elapsed time: 1.2893152778 hours"
       ]
      },
      {
       "output_type": "stream",
       "stream": "stdout",
       "text": [
        "\r",
        "Finding differences of reclassification 19 for data pairs 32 of 45.  Elapsed time: 1.29083999998 hours"
       ]
      },
      {
       "output_type": "stream",
       "stream": "stdout",
       "text": [
        "\r",
        "Finding differences of reclassification 19 for data pairs 33 of 45.  Elapsed time: 1.29244749996 hours"
       ]
      },
      {
       "output_type": "stream",
       "stream": "stdout",
       "text": [
        "\r",
        "Finding differences of reclassification 19 for data pairs 34 of 45.  Elapsed time: 1.29419999997 hours"
       ]
      },
      {
       "output_type": "stream",
       "stream": "stdout",
       "text": [
        "\r",
        "Finding differences of reclassification 19 for data pairs 35 of 45.  Elapsed time: 1.29583999998 hours"
       ]
      },
      {
       "output_type": "stream",
       "stream": "stdout",
       "text": [
        "\r",
        "Finding differences of reclassification 19 for data pairs 36 of 45.  Elapsed time: 1.297405 hours"
       ]
      },
      {
       "output_type": "stream",
       "stream": "stdout",
       "text": [
        "\r",
        "Finding differences of reclassification 19 for data pairs 37 of 45.  Elapsed time: 1.29899222222 hours"
       ]
      },
      {
       "output_type": "stream",
       "stream": "stdout",
       "text": [
        "\r",
        "Finding differences of reclassification 19 for data pairs 38 of 45.  Elapsed time: 1.30055083334 hours"
       ]
      },
      {
       "output_type": "stream",
       "stream": "stdout",
       "text": [
        "\r",
        "Finding differences of reclassification 19 for data pairs 39 of 45.  Elapsed time: 1.3020813889 hours"
       ]
      },
      {
       "output_type": "stream",
       "stream": "stdout",
       "text": [
        "\r",
        "Finding differences of reclassification 19 for data pairs 40 of 45.  Elapsed time: 1.30363750001 hours"
       ]
      },
      {
       "output_type": "stream",
       "stream": "stdout",
       "text": [
        "\r",
        "Finding differences of reclassification 19 for data pairs 41 of 45.  Elapsed time: 1.30517194443 hours"
       ]
      },
      {
       "output_type": "stream",
       "stream": "stdout",
       "text": [
        "\r",
        "Finding differences of reclassification 19 for data pairs 42 of 45.  Elapsed time: 1.30670194447 hours"
       ]
      },
      {
       "output_type": "stream",
       "stream": "stdout",
       "text": [
        "\r",
        "Finding differences of reclassification 19 for data pairs 43 of 45.  Elapsed time: 1.30821833332 hours"
       ]
      },
      {
       "output_type": "stream",
       "stream": "stdout",
       "text": [
        "\r",
        "Finding differences of reclassification 19 for data pairs 44 of 45.  Elapsed time: 1.30972000003 hours"
       ]
      },
      {
       "output_type": "stream",
       "stream": "stdout",
       "text": [
        "\r",
        "Finding differences of reclassification 19 for data pairs 45 of 45.  Elapsed time: 1.31123805556 hours"
       ]
      },
      {
       "output_type": "stream",
       "stream": "stdout",
       "text": [
        "\r",
        "Finding differences of reclassification 20 for data pairs 1 of 45.  Elapsed time: 1.31273472223 hours"
       ]
      },
      {
       "output_type": "stream",
       "stream": "stdout",
       "text": [
        "\r",
        "Finding differences of reclassification 20 for data pairs 2 of 45.  Elapsed time: 1.31424638887 hours"
       ]
      },
      {
       "output_type": "stream",
       "stream": "stdout",
       "text": [
        "\r",
        "Finding differences of reclassification 20 for data pairs 3 of 45.  Elapsed time: 1.31573694441 hours"
       ]
      },
      {
       "output_type": "stream",
       "stream": "stdout",
       "text": [
        "\r",
        "Finding differences of reclassification 20 for data pairs 4 of 45.  Elapsed time: 1.31723138889 hours"
       ]
      },
      {
       "output_type": "stream",
       "stream": "stdout",
       "text": [
        "\r",
        "Finding differences of reclassification 20 for data pairs 5 of 45.  Elapsed time: 1.31873638888 hours"
       ]
      },
      {
       "output_type": "stream",
       "stream": "stdout",
       "text": [
        "\r",
        "Finding differences of reclassification 20 for data pairs 6 of 45.  Elapsed time: 1.32021444447 hours"
       ]
      },
      {
       "output_type": "stream",
       "stream": "stdout",
       "text": [
        "\r",
        "Finding differences of reclassification 20 for data pairs 7 of 45.  Elapsed time: 1.32172500001 hours"
       ]
      },
      {
       "output_type": "stream",
       "stream": "stdout",
       "text": [
        "\r",
        "Finding differences of reclassification 20 for data pairs 8 of 45.  Elapsed time: 1.32323416664 hours"
       ]
      },
      {
       "output_type": "stream",
       "stream": "stdout",
       "text": [
        "\r",
        "Finding differences of reclassification 20 for data pairs 9 of 45.  Elapsed time: 1.32471777777 hours"
       ]
      },
      {
       "output_type": "stream",
       "stream": "stdout",
       "text": [
        "\r",
        "Finding differences of reclassification 20 for data pairs 10 of 45.  Elapsed time: 1.32618611111 hours"
       ]
      },
      {
       "output_type": "stream",
       "stream": "stdout",
       "text": [
        "\r",
        "Finding differences of reclassification 20 for data pairs 11 of 45.  Elapsed time: 1.32772472223 hours"
       ]
      },
      {
       "output_type": "stream",
       "stream": "stdout",
       "text": [
        "\r",
        "Finding differences of reclassification 20 for data pairs 12 of 45.  Elapsed time: 1.3292325 hours"
       ]
      },
      {
       "output_type": "stream",
       "stream": "stdout",
       "text": [
        "\r",
        "Finding differences of reclassification 20 for data pairs 13 of 45.  Elapsed time: 1.33070861108 hours"
       ]
      },
      {
       "output_type": "stream",
       "stream": "stdout",
       "text": [
        "\r",
        "Finding differences of reclassification 20 for data pairs 14 of 45.  Elapsed time: 1.33218000001 hours"
       ]
      },
      {
       "output_type": "stream",
       "stream": "stdout",
       "text": [
        "\r",
        "Finding differences of reclassification 20 for data pairs 15 of 45.  Elapsed time: 1.33368555552 hours"
       ]
      },
      {
       "output_type": "stream",
       "stream": "stdout",
       "text": [
        "\r",
        "Finding differences of reclassification 20 for data pairs 16 of 45.  Elapsed time: 1.3351647222 hours"
       ]
      },
      {
       "output_type": "stream",
       "stream": "stdout",
       "text": [
        "\r",
        "Finding differences of reclassification 20 for data pairs 17 of 45.  Elapsed time: 1.33666083336 hours"
       ]
      },
      {
       "output_type": "stream",
       "stream": "stdout",
       "text": [
        "\r",
        "Finding differences of reclassification 20 for data pairs 18 of 45.  Elapsed time: 1.33814138889 hours"
       ]
      },
      {
       "output_type": "stream",
       "stream": "stdout",
       "text": [
        "\r",
        "Finding differences of reclassification 20 for data pairs 19 of 45.  Elapsed time: 1.33965666665 hours"
       ]
      },
      {
       "output_type": "stream",
       "stream": "stdout",
       "text": [
        "\r",
        "Finding differences of reclassification 20 for data pairs 20 of 45.  Elapsed time: 1.34112194445 hours"
       ]
      },
      {
       "output_type": "stream",
       "stream": "stdout",
       "text": [
        "\r",
        "Finding differences of reclassification 20 for data pairs 21 of 45.  Elapsed time: 1.3426202778 hours"
       ]
      },
      {
       "output_type": "stream",
       "stream": "stdout",
       "text": [
        "\r",
        "Finding differences of reclassification 20 for data pairs 22 of 45.  Elapsed time: 1.34417805552 hours"
       ]
      },
      {
       "output_type": "stream",
       "stream": "stdout",
       "text": [
        "\r",
        "Finding differences of reclassification 20 for data pairs 23 of 45.  Elapsed time: 1.3456513889 hours"
       ]
      },
      {
       "output_type": "stream",
       "stream": "stdout",
       "text": [
        "\r",
        "Finding differences of reclassification 20 for data pairs 24 of 45.  Elapsed time: 1.34713361111 hours"
       ]
      },
      {
       "output_type": "stream",
       "stream": "stdout",
       "text": [
        "\r",
        "Finding differences of reclassification 20 for data pairs 25 of 45.  Elapsed time: 1.3486275 hours"
       ]
      },
      {
       "output_type": "stream",
       "stream": "stdout",
       "text": [
        "\r",
        "Finding differences of reclassification 20 for data pairs 26 of 45.  Elapsed time: 1.35012305558 hours"
       ]
      },
      {
       "output_type": "stream",
       "stream": "stdout",
       "text": [
        "\r",
        "Finding differences of reclassification 20 for data pairs 27 of 45.  Elapsed time: 1.35161194444 hours"
       ]
      },
      {
       "output_type": "stream",
       "stream": "stdout",
       "text": [
        "\r",
        "Finding differences of reclassification 20 for data pairs 28 of 45.  Elapsed time: 1.3531361111 hours"
       ]
      },
      {
       "output_type": "stream",
       "stream": "stdout",
       "text": [
        "\r",
        "Finding differences of reclassification 20 for data pairs 29 of 45.  Elapsed time: 1.35462277777 hours"
       ]
      },
      {
       "output_type": "stream",
       "stream": "stdout",
       "text": [
        "\r",
        "Finding differences of reclassification 20 for data pairs 30 of 45.  Elapsed time: 1.35612416665 hours"
       ]
      },
      {
       "output_type": "stream",
       "stream": "stdout",
       "text": [
        "\r",
        "Finding differences of reclassification 20 for data pairs 31 of 45.  Elapsed time: 1.35762444443 hours"
       ]
      },
      {
       "output_type": "stream",
       "stream": "stdout",
       "text": [
        "\r",
        "Finding differences of reclassification 20 for data pairs 32 of 45.  Elapsed time: 1.35907999999 hours"
       ]
      },
      {
       "output_type": "stream",
       "stream": "stdout",
       "text": [
        "\r",
        "Finding differences of reclassification 20 for data pairs 33 of 45.  Elapsed time: 1.36063999997 hours"
       ]
      },
      {
       "output_type": "stream",
       "stream": "stdout",
       "text": [
        "\r",
        "Finding differences of reclassification 20 for data pairs 34 of 45.  Elapsed time: 1.36211944441 hours"
       ]
      },
      {
       "output_type": "stream",
       "stream": "stdout",
       "text": [
        "\r",
        "Finding differences of reclassification 20 for data pairs 35 of 45.  Elapsed time: 1.36358805557 hours"
       ]
      },
      {
       "output_type": "stream",
       "stream": "stdout",
       "text": [
        "\r",
        "Finding differences of reclassification 20 for data pairs 36 of 45.  Elapsed time: 1.36506249997 hours"
       ]
      },
      {
       "output_type": "stream",
       "stream": "stdout",
       "text": [
        "\r",
        "Finding differences of reclassification 20 for data pairs 37 of 45.  Elapsed time: 1.36655722221 hours"
       ]
      },
      {
       "output_type": "stream",
       "stream": "stdout",
       "text": [
        "\r",
        "Finding differences of reclassification 20 for data pairs 38 of 45.  Elapsed time: 1.36802083333 hours"
       ]
      },
      {
       "output_type": "stream",
       "stream": "stdout",
       "text": [
        "\r",
        "Finding differences of reclassification 20 for data pairs 39 of 45.  Elapsed time: 1.36947083334 hours"
       ]
      },
      {
       "output_type": "stream",
       "stream": "stdout",
       "text": [
        "\r",
        "Finding differences of reclassification 20 for data pairs 40 of 45.  Elapsed time: 1.37094361113 hours"
       ]
      },
      {
       "output_type": "stream",
       "stream": "stdout",
       "text": [
        "\r",
        "Finding differences of reclassification 20 for data pairs 41 of 45.  Elapsed time: 1.37242555552 hours"
       ]
      },
      {
       "output_type": "stream",
       "stream": "stdout",
       "text": [
        "\r",
        "Finding differences of reclassification 20 for data pairs 42 of 45.  Elapsed time: 1.37391555554 hours"
       ]
      },
      {
       "output_type": "stream",
       "stream": "stdout",
       "text": [
        "\r",
        "Finding differences of reclassification 20 for data pairs 43 of 45.  Elapsed time: 1.37540083336 hours"
       ]
      },
      {
       "output_type": "stream",
       "stream": "stdout",
       "text": [
        "\r",
        "Finding differences of reclassification 20 for data pairs 44 of 45.  Elapsed time: 1.37692972223 hours"
       ]
      },
      {
       "output_type": "stream",
       "stream": "stdout",
       "text": [
        "\r",
        "Finding differences of reclassification 20 for data pairs 45 of 45.  Elapsed time: 1.37838138892 hours"
       ]
      },
      {
       "output_type": "stream",
       "stream": "stdout",
       "text": [
        "\r",
        "Finding differences of reclassification 21 for data pairs 1 of 45.  Elapsed time: 1.37983777775 hours"
       ]
      },
      {
       "output_type": "stream",
       "stream": "stdout",
       "text": [
        "\r",
        "Finding differences of reclassification 21 for data pairs 2 of 45.  Elapsed time: 1.38129805558 hours"
       ]
      },
      {
       "output_type": "stream",
       "stream": "stdout",
       "text": [
        "\r",
        "Finding differences of reclassification 21 for data pairs 3 of 45.  Elapsed time: 1.38274166663 hours"
       ]
      },
      {
       "output_type": "stream",
       "stream": "stdout",
       "text": [
        "\r",
        "Finding differences of reclassification 21 for data pairs 4 of 45.  Elapsed time: 1.38424944447 hours"
       ]
      },
      {
       "output_type": "stream",
       "stream": "stdout",
       "text": [
        "\r",
        "Finding differences of reclassification 21 for data pairs 5 of 45.  Elapsed time: 1.38575944444 hours"
       ]
      },
      {
       "output_type": "stream",
       "stream": "stdout",
       "text": [
        "\r",
        "Finding differences of reclassification 21 for data pairs 6 of 45.  Elapsed time: 1.38721416665 hours"
       ]
      },
      {
       "output_type": "stream",
       "stream": "stdout",
       "text": [
        "\r",
        "Finding differences of reclassification 21 for data pairs 7 of 45.  Elapsed time: 1.38869361109 hours"
       ]
      },
      {
       "output_type": "stream",
       "stream": "stdout",
       "text": [
        "\r",
        "Finding differences of reclassification 21 for data pairs 8 of 45.  Elapsed time: 1.39016083333 hours"
       ]
      },
      {
       "output_type": "stream",
       "stream": "stdout",
       "text": [
        "\r",
        "Finding differences of reclassification 21 for data pairs 9 of 45.  Elapsed time: 1.39162444446 hours"
       ]
      },
      {
       "output_type": "stream",
       "stream": "stdout",
       "text": [
        "\r",
        "Finding differences of reclassification 21 for data pairs 10 of 45.  Elapsed time: 1.39310111112 hours"
       ]
      },
      {
       "output_type": "stream",
       "stream": "stdout",
       "text": [
        "\r",
        "Finding differences of reclassification 21 for data pairs 11 of 45.  Elapsed time: 1.39457944446 hours"
       ]
      },
      {
       "output_type": "stream",
       "stream": "stdout",
       "text": [
        "\r",
        "Finding differences of reclassification 21 for data pairs 12 of 45.  Elapsed time: 1.39606527779 hours"
       ]
      },
      {
       "output_type": "stream",
       "stream": "stdout",
       "text": [
        "\r",
        "Finding differences of reclassification 21 for data pairs 13 of 45.  Elapsed time: 1.39751888891 hours"
       ]
      },
      {
       "output_type": "stream",
       "stream": "stdout",
       "text": [
        "\r",
        "Finding differences of reclassification 21 for data pairs 14 of 45.  Elapsed time: 1.39898305555 hours"
       ]
      },
      {
       "output_type": "stream",
       "stream": "stdout",
       "text": [
        "\r",
        "Finding differences of reclassification 21 for data pairs 15 of 45.  Elapsed time: 1.40047249999 hours"
       ]
      },
      {
       "output_type": "stream",
       "stream": "stdout",
       "text": [
        "\r",
        "Finding differences of reclassification 21 for data pairs 16 of 45.  Elapsed time: 1.40194027775 hours"
       ]
      },
      {
       "output_type": "stream",
       "stream": "stdout",
       "text": [
        "\r",
        "Finding differences of reclassification 21 for data pairs 17 of 45.  Elapsed time: 1.40341611114 hours"
       ]
      },
      {
       "output_type": "stream",
       "stream": "stdout",
       "text": [
        "\r",
        "Finding differences of reclassification 21 for data pairs 18 of 45.  Elapsed time: 1.40487194445 hours"
       ]
      },
      {
       "output_type": "stream",
       "stream": "stdout",
       "text": [
        "\r",
        "Finding differences of reclassification 21 for data pairs 19 of 45.  Elapsed time: 1.40635083331 hours"
       ]
      },
      {
       "output_type": "stream",
       "stream": "stdout",
       "text": [
        "\r",
        "Finding differences of reclassification 21 for data pairs 20 of 45.  Elapsed time: 1.4078002778 hours"
       ]
      },
      {
       "output_type": "stream",
       "stream": "stdout",
       "text": [
        "\r",
        "Finding differences of reclassification 21 for data pairs 21 of 45.  Elapsed time: 1.40929083334 hours"
       ]
      },
      {
       "output_type": "stream",
       "stream": "stdout",
       "text": [
        "\r",
        "Finding differences of reclassification 21 for data pairs 22 of 45.  Elapsed time: 1.41084916664 hours"
       ]
      },
      {
       "output_type": "stream",
       "stream": "stdout",
       "text": [
        "\r",
        "Finding differences of reclassification 21 for data pairs 23 of 45.  Elapsed time: 1.41230666664 hours"
       ]
      },
      {
       "output_type": "stream",
       "stream": "stdout",
       "text": [
        "\r",
        "Finding differences of reclassification 21 for data pairs 24 of 45.  Elapsed time: 1.41377666665 hours"
       ]
      },
      {
       "output_type": "stream",
       "stream": "stdout",
       "text": [
        "\r",
        "Finding differences of reclassification 21 for data pairs 25 of 45.  Elapsed time: 1.41526305556 hours"
       ]
      },
      {
       "output_type": "stream",
       "stream": "stdout",
       "text": [
        "\r",
        "Finding differences of reclassification 21 for data pairs 26 of 45.  Elapsed time: 1.41674083332 hours"
       ]
      },
      {
       "output_type": "stream",
       "stream": "stdout",
       "text": [
        "\r",
        "Finding differences of reclassification 21 for data pairs 27 of 45.  Elapsed time: 1.41822555555 hours"
       ]
      },
      {
       "output_type": "stream",
       "stream": "stdout",
       "text": [
        "\r",
        "Finding differences of reclassification 21 for data pairs 28 of 45.  Elapsed time: 1.41974138889 hours"
       ]
      },
      {
       "output_type": "stream",
       "stream": "stdout",
       "text": [
        "\r",
        "Finding differences of reclassification 21 for data pairs 29 of 45.  Elapsed time: 1.42122166667 hours"
       ]
      },
      {
       "output_type": "stream",
       "stream": "stdout",
       "text": [
        "\r",
        "Finding differences of reclassification 21 for data pairs 30 of 45.  Elapsed time: 1.42280416667 hours"
       ]
      },
      {
       "output_type": "stream",
       "stream": "stdout",
       "text": [
        "\r",
        "Finding differences of reclassification 21 for data pairs 31 of 45.  Elapsed time: 1.42470499999 hours"
       ]
      },
      {
       "output_type": "stream",
       "stream": "stdout",
       "text": [
        "\r",
        "Finding differences of reclassification 21 for data pairs 32 of 45.  Elapsed time: 1.42665416665 hours"
       ]
      },
      {
       "output_type": "stream",
       "stream": "stdout",
       "text": [
        "\r",
        "Finding differences of reclassification 21 for data pairs 33 of 45.  Elapsed time: 1.4285183333 hours"
       ]
      },
      {
       "output_type": "stream",
       "stream": "stdout",
       "text": [
        "\r",
        "Finding differences of reclassification 21 for data pairs 34 of 45.  Elapsed time: 1.43028888888 hours"
       ]
      },
      {
       "output_type": "stream",
       "stream": "stdout",
       "text": [
        "\r",
        "Finding differences of reclassification 21 for data pairs 35 of 45.  Elapsed time: 1.43202416665 hours"
       ]
      },
      {
       "output_type": "stream",
       "stream": "stdout",
       "text": [
        "\r",
        "Finding differences of reclassification 21 for data pairs 36 of 45.  Elapsed time: 1.43366166664 hours"
       ]
      },
      {
       "output_type": "stream",
       "stream": "stdout",
       "text": [
        "\r",
        "Finding differences of reclassification 21 for data pairs 37 of 45.  Elapsed time: 1.43531472219 hours"
       ]
      },
      {
       "output_type": "stream",
       "stream": "stdout",
       "text": [
        "\r",
        "Finding differences of reclassification 21 for data pairs 38 of 45.  Elapsed time: 1.43693027774 hours"
       ]
      },
      {
       "output_type": "stream",
       "stream": "stdout",
       "text": [
        "\r",
        "Finding differences of reclassification 21 for data pairs 39 of 45.  Elapsed time: 1.43862166663 hours"
       ]
      },
      {
       "output_type": "stream",
       "stream": "stdout",
       "text": [
        "\r",
        "Finding differences of reclassification 21 for data pairs 40 of 45.  Elapsed time: 1.44038194444 hours"
       ]
      },
      {
       "output_type": "stream",
       "stream": "stdout",
       "text": [
        "\r",
        "Finding differences of reclassification 21 for data pairs 41 of 45.  Elapsed time: 1.44225777778 hours"
       ]
      },
      {
       "output_type": "stream",
       "stream": "stdout",
       "text": [
        "\r",
        "Finding differences of reclassification 21 for data pairs 42 of 45.  Elapsed time: 1.44421333333 hours"
       ]
      },
      {
       "output_type": "stream",
       "stream": "stdout",
       "text": [
        "\r",
        "Finding differences of reclassification 21 for data pairs 43 of 45.  Elapsed time: 1.44603749997 hours"
       ]
      },
      {
       "output_type": "stream",
       "stream": "stdout",
       "text": [
        "\r",
        "Finding differences of reclassification 21 for data pairs 44 of 45.  Elapsed time: 1.44774888886 hours"
       ]
      },
      {
       "output_type": "stream",
       "stream": "stdout",
       "text": [
        "\r",
        "Finding differences of reclassification 21 for data pairs 45 of 45.  Elapsed time: 1.44932083335 hours"
       ]
      },
      {
       "output_type": "stream",
       "stream": "stdout",
       "text": [
        "\r",
        "Finding differences of reclassification 22 for data pairs 1 of 45.  Elapsed time: 1.45081305557 hours"
       ]
      },
      {
       "output_type": "stream",
       "stream": "stdout",
       "text": [
        "\r",
        "Finding differences of reclassification 22 for data pairs 2 of 45.  Elapsed time: 1.45232305553 hours"
       ]
      },
      {
       "output_type": "stream",
       "stream": "stdout",
       "text": [
        "\r",
        "Finding differences of reclassification 22 for data pairs 3 of 45.  Elapsed time: 1.45388027781 hours"
       ]
      },
      {
       "output_type": "stream",
       "stream": "stdout",
       "text": [
        "\r",
        "Finding differences of reclassification 22 for data pairs 4 of 45.  Elapsed time: 1.45540083336 hours"
       ]
      },
      {
       "output_type": "stream",
       "stream": "stdout",
       "text": [
        "\r",
        "Finding differences of reclassification 22 for data pairs 5 of 45.  Elapsed time: 1.45690361109 hours"
       ]
      },
      {
       "output_type": "stream",
       "stream": "stdout",
       "text": [
        "\r",
        "Finding differences of reclassification 22 for data pairs 6 of 45.  Elapsed time: 1.45838444445 hours"
       ]
      },
      {
       "output_type": "stream",
       "stream": "stdout",
       "text": [
        "\r",
        "Finding differences of reclassification 22 for data pairs 7 of 45.  Elapsed time: 1.45994916664 hours"
       ]
      },
      {
       "output_type": "stream",
       "stream": "stdout",
       "text": [
        "\r",
        "Finding differences of reclassification 22 for data pairs 8 of 45.  Elapsed time: 1.46146694442 hours"
       ]
      },
      {
       "output_type": "stream",
       "stream": "stdout",
       "text": [
        "\r",
        "Finding differences of reclassification 22 for data pairs 9 of 45.  Elapsed time: 1.46295138889 hours"
       ]
      },
      {
       "output_type": "stream",
       "stream": "stdout",
       "text": [
        "\r",
        "Finding differences of reclassification 22 for data pairs 10 of 45.  Elapsed time: 1.46441333334 hours"
       ]
      },
      {
       "output_type": "stream",
       "stream": "stdout",
       "text": [
        "\r",
        "Finding differences of reclassification 22 for data pairs 11 of 45.  Elapsed time: 1.46587805556 hours"
       ]
      },
      {
       "output_type": "stream",
       "stream": "stdout",
       "text": [
        "\r",
        "Finding differences of reclassification 22 for data pairs 12 of 45.  Elapsed time: 1.46738750001 hours"
       ]
      },
      {
       "output_type": "stream",
       "stream": "stdout",
       "text": [
        "\r",
        "Finding differences of reclassification 22 for data pairs 13 of 45.  Elapsed time: 1.46886361109 hours"
       ]
      },
      {
       "output_type": "stream",
       "stream": "stdout",
       "text": [
        "\r",
        "Finding differences of reclassification 22 for data pairs 14 of 45.  Elapsed time: 1.47034166667 hours"
       ]
      },
      {
       "output_type": "stream",
       "stream": "stdout",
       "text": [
        "\r",
        "Finding differences of reclassification 22 for data pairs 15 of 45.  Elapsed time: 1.47185000002 hours"
       ]
      },
      {
       "output_type": "stream",
       "stream": "stdout",
       "text": [
        "\r",
        "Finding differences of reclassification 22 for data pairs 16 of 45.  Elapsed time: 1.47332500001 hours"
       ]
      },
      {
       "output_type": "stream",
       "stream": "stdout",
       "text": [
        "\r",
        "Finding differences of reclassification 22 for data pairs 17 of 45.  Elapsed time: 1.47481805556 hours"
       ]
      },
      {
       "output_type": "stream",
       "stream": "stdout",
       "text": [
        "\r",
        "Finding differences of reclassification 22 for data pairs 18 of 45.  Elapsed time: 1.47631888886 hours"
       ]
      },
      {
       "output_type": "stream",
       "stream": "stdout",
       "text": [
        "\r",
        "Finding differences of reclassification 22 for data pairs 19 of 45.  Elapsed time: 1.47787694441 hours"
       ]
      },
      {
       "output_type": "stream",
       "stream": "stdout",
       "text": [
        "\r",
        "Finding differences of reclassification 22 for data pairs 20 of 45.  Elapsed time: 1.47935027778 hours"
       ]
      },
      {
       "output_type": "stream",
       "stream": "stdout",
       "text": [
        "\r",
        "Finding differences of reclassification 22 for data pairs 21 of 45.  Elapsed time: 1.48084777779 hours"
       ]
      },
      {
       "output_type": "stream",
       "stream": "stdout",
       "text": [
        "\r",
        "Finding differences of reclassification 22 for data pairs 22 of 45.  Elapsed time: 1.48235277779 hours"
       ]
      },
      {
       "output_type": "stream",
       "stream": "stdout",
       "text": [
        "\r",
        "Finding differences of reclassification 22 for data pairs 23 of 45.  Elapsed time: 1.4838227778 hours"
       ]
      },
      {
       "output_type": "stream",
       "stream": "stdout",
       "text": [
        "\r",
        "Finding differences of reclassification 22 for data pairs 24 of 45.  Elapsed time: 1.48532166666 hours"
       ]
      },
      {
       "output_type": "stream",
       "stream": "stdout",
       "text": [
        "\r",
        "Finding differences of reclassification 22 for data pairs 25 of 45.  Elapsed time: 1.48681416664 hours"
       ]
      },
      {
       "output_type": "stream",
       "stream": "stdout",
       "text": [
        "\r",
        "Finding differences of reclassification 22 for data pairs 26 of 45.  Elapsed time: 1.48834972223 hours"
       ]
      },
      {
       "output_type": "stream",
       "stream": "stdout",
       "text": [
        "\r",
        "Finding differences of reclassification 22 for data pairs 27 of 45.  Elapsed time: 1.48986527774 hours"
       ]
      },
      {
       "output_type": "stream",
       "stream": "stdout",
       "text": [
        "\r",
        "Finding differences of reclassification 22 for data pairs 28 of 45.  Elapsed time: 1.49139277776 hours"
       ]
      },
      {
       "output_type": "stream",
       "stream": "stdout",
       "text": [
        "\r",
        "Finding differences of reclassification 22 for data pairs 29 of 45.  Elapsed time: 1.49288027777 hours"
       ]
      },
      {
       "output_type": "stream",
       "stream": "stdout",
       "text": [
        "\r",
        "Finding differences of reclassification 22 for data pairs 30 of 45.  Elapsed time: 1.4944558333 hours"
       ]
      },
      {
       "output_type": "stream",
       "stream": "stdout",
       "text": [
        "\r",
        "Finding differences of reclassification 22 for data pairs 31 of 45.  Elapsed time: 1.49595111112 hours"
       ]
      },
      {
       "output_type": "stream",
       "stream": "stdout",
       "text": [
        "\r",
        "Finding differences of reclassification 22 for data pairs 32 of 45.  Elapsed time: 1.49740999997 hours"
       ]
      },
      {
       "output_type": "stream",
       "stream": "stdout",
       "text": [
        "\r",
        "Finding differences of reclassification 22 for data pairs 33 of 45.  Elapsed time: 1.49889888889 hours"
       ]
      },
      {
       "output_type": "stream",
       "stream": "stdout",
       "text": [
        "\r",
        "Finding differences of reclassification 22 for data pairs 34 of 45.  Elapsed time: 1.50038916667 hours"
       ]
      },
      {
       "output_type": "stream",
       "stream": "stdout",
       "text": [
        "\r",
        "Finding differences of reclassification 22 for data pairs 35 of 45.  Elapsed time: 1.50186861111 hours"
       ]
      },
      {
       "output_type": "stream",
       "stream": "stdout",
       "text": [
        "\r",
        "Finding differences of reclassification 22 for data pairs 36 of 45.  Elapsed time: 1.50333972222 hours"
       ]
      },
      {
       "output_type": "stream",
       "stream": "stdout",
       "text": [
        "\r",
        "Finding differences of reclassification 22 for data pairs 37 of 45.  Elapsed time: 1.50483444446 hours"
       ]
      },
      {
       "output_type": "stream",
       "stream": "stdout",
       "text": [
        "\r",
        "Finding differences of reclassification 22 for data pairs 38 of 45.  Elapsed time: 1.50629666666 hours"
       ]
      },
      {
       "output_type": "stream",
       "stream": "stdout",
       "text": [
        "\r",
        "Finding differences of reclassification 22 for data pairs 39 of 45.  Elapsed time: 1.50776638885 hours"
       ]
      },
      {
       "output_type": "stream",
       "stream": "stdout",
       "text": [
        "\r",
        "Finding differences of reclassification 22 for data pairs 40 of 45.  Elapsed time: 1.50926027775 hours"
       ]
      },
      {
       "output_type": "stream",
       "stream": "stdout",
       "text": [
        "\r",
        "Finding differences of reclassification 22 for data pairs 41 of 45.  Elapsed time: 1.51081083331 hours"
       ]
      },
      {
       "output_type": "stream",
       "stream": "stdout",
       "text": [
        "\r",
        "Finding differences of reclassification 22 for data pairs 42 of 45.  Elapsed time: 1.51230805556 hours"
       ]
      },
      {
       "output_type": "stream",
       "stream": "stdout",
       "text": [
        "\r",
        "Finding differences of reclassification 22 for data pairs 43 of 45.  Elapsed time: 1.51379083335 hours"
       ]
      },
      {
       "output_type": "stream",
       "stream": "stdout",
       "text": [
        "\r",
        "Finding differences of reclassification 22 for data pairs 44 of 45.  Elapsed time: 1.51525861111 hours"
       ]
      },
      {
       "output_type": "stream",
       "stream": "stdout",
       "text": [
        "\r",
        "Finding differences of reclassification 22 for data pairs 45 of 45.  Elapsed time: 1.51672083331 hours"
       ]
      },
      {
       "output_type": "stream",
       "stream": "stdout",
       "text": [
        "\r",
        "Finding differences of reclassification 23 for data pairs 1 of 45.  Elapsed time: 1.51818277776 hours"
       ]
      },
      {
       "output_type": "stream",
       "stream": "stdout",
       "text": [
        "\r",
        "Finding differences of reclassification 23 for data pairs 2 of 45.  Elapsed time: 1.51964333336 hours"
       ]
      },
      {
       "output_type": "stream",
       "stream": "stdout",
       "text": [
        "\r",
        "Finding differences of reclassification 23 for data pairs 3 of 45.  Elapsed time: 1.5210952778 hours"
       ]
      },
      {
       "output_type": "stream",
       "stream": "stdout",
       "text": [
        "\r",
        "Finding differences of reclassification 23 for data pairs 4 of 45.  Elapsed time: 1.52257472224 hours"
       ]
      },
      {
       "output_type": "stream",
       "stream": "stdout",
       "text": [
        "\r",
        "Finding differences of reclassification 23 for data pairs 5 of 45.  Elapsed time: 1.52405222224 hours"
       ]
      },
      {
       "output_type": "stream",
       "stream": "stdout",
       "text": [
        "\r",
        "Finding differences of reclassification 23 for data pairs 6 of 45.  Elapsed time: 1.52550333334 hours"
       ]
      },
      {
       "output_type": "stream",
       "stream": "stdout",
       "text": [
        "\r",
        "Finding differences of reclassification 23 for data pairs 7 of 45.  Elapsed time: 1.52705277774 hours"
       ]
      },
      {
       "output_type": "stream",
       "stream": "stdout",
       "text": [
        "\r",
        "Finding differences of reclassification 23 for data pairs 8 of 45.  Elapsed time: 1.52852944447 hours"
       ]
      },
      {
       "output_type": "stream",
       "stream": "stdout",
       "text": [
        "\r",
        "Finding differences of reclassification 23 for data pairs 9 of 45.  Elapsed time: 1.52998972224 hours"
       ]
      },
      {
       "output_type": "stream",
       "stream": "stdout",
       "text": [
        "\r",
        "Finding differences of reclassification 23 for data pairs 10 of 45.  Elapsed time: 1.53145055552 hours"
       ]
      },
      {
       "output_type": "stream",
       "stream": "stdout",
       "text": [
        "\r",
        "Finding differences of reclassification 23 for data pairs 11 of 45.  Elapsed time: 1.53296861112 hours"
       ]
      },
      {
       "output_type": "stream",
       "stream": "stdout",
       "text": [
        "\r",
        "Finding differences of reclassification 23 for data pairs 12 of 45.  Elapsed time: 1.53446638889 hours"
       ]
      },
      {
       "output_type": "stream",
       "stream": "stdout",
       "text": [
        "\r",
        "Finding differences of reclassification 23 for data pairs 13 of 45.  Elapsed time: 1.5359275 hours"
       ]
      },
      {
       "output_type": "stream",
       "stream": "stdout",
       "text": [
        "\r",
        "Finding differences of reclassification 23 for data pairs 14 of 45.  Elapsed time: 1.53738472223 hours"
       ]
      },
      {
       "output_type": "stream",
       "stream": "stdout",
       "text": [
        "\r",
        "Finding differences of reclassification 23 for data pairs 15 of 45.  Elapsed time: 1.53887555553 hours"
       ]
      },
      {
       "output_type": "stream",
       "stream": "stdout",
       "text": [
        "\r",
        "Finding differences of reclassification 23 for data pairs 16 of 45.  Elapsed time: 1.5403477778 hours"
       ]
      },
      {
       "output_type": "stream",
       "stream": "stdout",
       "text": [
        "\r",
        "Finding differences of reclassification 23 for data pairs 17 of 45.  Elapsed time: 1.54182138887 hours"
       ]
      },
      {
       "output_type": "stream",
       "stream": "stdout",
       "text": [
        "\r",
        "Finding differences of reclassification 23 for data pairs 18 of 45.  Elapsed time: 1.54332916664 hours"
       ]
      },
      {
       "output_type": "stream",
       "stream": "stdout",
       "text": [
        "\r",
        "Finding differences of reclassification 23 for data pairs 19 of 45.  Elapsed time: 1.54482333336 hours"
       ]
      },
      {
       "output_type": "stream",
       "stream": "stdout",
       "text": [
        "\r",
        "Finding differences of reclassification 23 for data pairs 20 of 45.  Elapsed time: 1.54640694446 hours"
       ]
      },
      {
       "output_type": "stream",
       "stream": "stdout",
       "text": [
        "\r",
        "Finding differences of reclassification 23 for data pairs 21 of 45.  Elapsed time: 1.5479936111 hours"
       ]
      },
      {
       "output_type": "stream",
       "stream": "stdout",
       "text": [
        "\r",
        "Finding differences of reclassification 23 for data pairs 22 of 45.  Elapsed time: 1.54979055557 hours"
       ]
      },
      {
       "output_type": "stream",
       "stream": "stdout",
       "text": [
        "\r",
        "Finding differences of reclassification 23 for data pairs 23 of 45.  Elapsed time: 1.55144499997 hours"
       ]
      },
      {
       "output_type": "stream",
       "stream": "stdout",
       "text": [
        "\r",
        "Finding differences of reclassification 23 for data pairs 24 of 45.  Elapsed time: 1.55295388891 hours"
       ]
      },
      {
       "output_type": "stream",
       "stream": "stdout",
       "text": [
        "\r",
        "Finding differences of reclassification 23 for data pairs 25 of 45.  Elapsed time: 1.55454138888 hours"
       ]
      },
      {
       "output_type": "stream",
       "stream": "stdout",
       "text": [
        "\r",
        "Finding differences of reclassification 23 for data pairs 26 of 45.  Elapsed time: 1.55624805556 hours"
       ]
      },
      {
       "output_type": "stream",
       "stream": "stdout",
       "text": [
        "\r",
        "Finding differences of reclassification 23 for data pairs 27 of 45.  Elapsed time: 1.55804888891 hours"
       ]
      },
      {
       "output_type": "stream",
       "stream": "stdout",
       "text": [
        "\r",
        "Finding differences of reclassification 23 for data pairs 28 of 45.  Elapsed time: 1.5598311111 hours"
       ]
      },
      {
       "output_type": "stream",
       "stream": "stdout",
       "text": [
        "\r",
        "Finding differences of reclassification 23 for data pairs 29 of 45.  Elapsed time: 1.56144722223 hours"
       ]
      },
      {
       "output_type": "stream",
       "stream": "stdout",
       "text": [
        "\r",
        "Finding differences of reclassification 23 for data pairs 30 of 45.  Elapsed time: 1.56298888889 hours"
       ]
      },
      {
       "output_type": "stream",
       "stream": "stdout",
       "text": [
        "\r",
        "Finding differences of reclassification 23 for data pairs 31 of 45.  Elapsed time: 1.5646136111 hours"
       ]
      },
      {
       "output_type": "stream",
       "stream": "stdout",
       "text": [
        "\r",
        "Finding differences of reclassification 23 for data pairs 32 of 45.  Elapsed time: 1.56613333331 hours"
       ]
      },
      {
       "output_type": "stream",
       "stream": "stdout",
       "text": [
        "\r",
        "Finding differences of reclassification 23 for data pairs 33 of 45.  Elapsed time: 1.56775416666 hours"
       ]
      },
      {
       "output_type": "stream",
       "stream": "stdout",
       "text": [
        "\r",
        "Finding differences of reclassification 23 for data pairs 34 of 45.  Elapsed time: 1.56952888886 hours"
       ]
      },
      {
       "output_type": "stream",
       "stream": "stdout",
       "text": [
        "\r",
        "Finding differences of reclassification 23 for data pairs 35 of 45.  Elapsed time: 1.57149138888 hours"
       ]
      },
      {
       "output_type": "stream",
       "stream": "stdout",
       "text": [
        "\r",
        "Finding differences of reclassification 23 for data pairs 36 of 45.  Elapsed time: 1.57348416666 hours"
       ]
      },
      {
       "output_type": "stream",
       "stream": "stdout",
       "text": [
        "\r",
        "Finding differences of reclassification 23 for data pairs 37 of 45.  Elapsed time: 1.57529416667 hours"
       ]
      },
      {
       "output_type": "stream",
       "stream": "stdout",
       "text": [
        "\r",
        "Finding differences of reclassification 23 for data pairs 38 of 45.  Elapsed time: 1.57743083331 hours"
       ]
      },
      {
       "output_type": "stream",
       "stream": "stdout",
       "text": [
        "\r",
        "Finding differences of reclassification 23 for data pairs 39 of 45.  Elapsed time: 1.57967944443 hours"
       ]
      },
      {
       "output_type": "stream",
       "stream": "stdout",
       "text": [
        "\r",
        "Finding differences of reclassification 23 for data pairs 40 of 45.  Elapsed time: 1.58163722224 hours"
       ]
      },
      {
       "output_type": "stream",
       "stream": "stdout",
       "text": [
        "\r",
        "Finding differences of reclassification 23 for data pairs 41 of 45.  Elapsed time: 1.58327194446 hours"
       ]
      },
      {
       "output_type": "stream",
       "stream": "stdout",
       "text": [
        "\r",
        "Finding differences of reclassification 23 for data pairs 42 of 45.  Elapsed time: 1.58487305555 hours"
       ]
      },
      {
       "output_type": "stream",
       "stream": "stdout",
       "text": [
        "\r",
        "Finding differences of reclassification 23 for data pairs 43 of 45.  Elapsed time: 1.5864563889 hours"
       ]
      },
      {
       "output_type": "stream",
       "stream": "stdout",
       "text": [
        "\r",
        "Finding differences of reclassification 23 for data pairs 44 of 45.  Elapsed time: 1.58796861112 hours"
       ]
      },
      {
       "output_type": "stream",
       "stream": "stdout",
       "text": [
        "\r",
        "Finding differences of reclassification 23 for data pairs 45 of 45.  Elapsed time: 1.58947416663 hours"
       ]
      },
      {
       "output_type": "stream",
       "stream": "stdout",
       "text": [
        "\r",
        "Finding differences of reclassification 24 for data pairs 1 of 45.  Elapsed time: 1.59098194447 hours"
       ]
      },
      {
       "output_type": "stream",
       "stream": "stdout",
       "text": [
        "\r",
        "Finding differences of reclassification 24 for data pairs 2 of 45.  Elapsed time: 1.59251694441 hours"
       ]
      },
      {
       "output_type": "stream",
       "stream": "stdout",
       "text": [
        "\r",
        "Finding differences of reclassification 24 for data pairs 3 of 45.  Elapsed time: 1.59408222225 hours"
       ]
      },
      {
       "output_type": "stream",
       "stream": "stdout",
       "text": [
        "\r",
        "Finding differences of reclassification 24 for data pairs 4 of 45.  Elapsed time: 1.59561972221 hours"
       ]
      },
      {
       "output_type": "stream",
       "stream": "stdout",
       "text": [
        "\r",
        "Finding differences of reclassification 24 for data pairs 5 of 45.  Elapsed time: 1.59714055558 hours"
       ]
      },
      {
       "output_type": "stream",
       "stream": "stdout",
       "text": [
        "\r",
        "Finding differences of reclassification 24 for data pairs 6 of 45.  Elapsed time: 1.59863611109 hours"
       ]
      },
      {
       "output_type": "stream",
       "stream": "stdout",
       "text": [
        "\r",
        "Finding differences of reclassification 24 for data pairs 7 of 45.  Elapsed time: 1.60016638888 hours"
       ]
      },
      {
       "output_type": "stream",
       "stream": "stdout",
       "text": [
        "\r",
        "Finding differences of reclassification 24 for data pairs 8 of 45.  Elapsed time: 1.60168222222 hours"
       ]
      },
      {
       "output_type": "stream",
       "stream": "stdout",
       "text": [
        "\r",
        "Finding differences of reclassification 24 for data pairs 9 of 45.  Elapsed time: 1.60317333334 hours"
       ]
      },
      {
       "output_type": "stream",
       "stream": "stdout",
       "text": [
        "\r",
        "Finding differences of reclassification 24 for data pairs 10 of 45.  Elapsed time: 1.60466499998 hours"
       ]
      },
      {
       "output_type": "stream",
       "stream": "stdout",
       "text": [
        "\r",
        "Finding differences of reclassification 24 for data pairs 11 of 45.  Elapsed time: 1.60616472224 hours"
       ]
      },
      {
       "output_type": "stream",
       "stream": "stdout",
       "text": [
        "\r",
        "Finding differences of reclassification 24 for data pairs 12 of 45.  Elapsed time: 1.60768749999 hours"
       ]
      },
      {
       "output_type": "stream",
       "stream": "stdout",
       "text": [
        "\r",
        "Finding differences of reclassification 24 for data pairs 13 of 45.  Elapsed time: 1.60918555558 hours"
       ]
      },
      {
       "output_type": "stream",
       "stream": "stdout",
       "text": [
        "\r",
        "Finding differences of reclassification 24 for data pairs 14 of 45.  Elapsed time: 1.61075111111 hours"
       ]
      },
      {
       "output_type": "stream",
       "stream": "stdout",
       "text": [
        "\r",
        "Finding differences of reclassification 24 for data pairs 15 of 45.  Elapsed time: 1.61227305558 hours"
       ]
      },
      {
       "output_type": "stream",
       "stream": "stdout",
       "text": [
        "\r",
        "Finding differences of reclassification 24 for data pairs 16 of 45.  Elapsed time: 1.61376638889 hours"
       ]
      },
      {
       "output_type": "stream",
       "stream": "stdout",
       "text": [
        "\r",
        "Finding differences of reclassification 24 for data pairs 17 of 45.  Elapsed time: 1.61528666668 hours"
       ]
      },
      {
       "output_type": "stream",
       "stream": "stdout",
       "text": [
        "\r",
        "Finding differences of reclassification 24 for data pairs 18 of 45.  Elapsed time: 1.61677749998 hours"
       ]
      },
      {
       "output_type": "stream",
       "stream": "stdout",
       "text": [
        "\r",
        "Finding differences of reclassification 24 for data pairs 19 of 45.  Elapsed time: 1.61830361108 hours"
       ]
      },
      {
       "output_type": "stream",
       "stream": "stdout",
       "text": [
        "\r",
        "Finding differences of reclassification 24 for data pairs 20 of 45.  Elapsed time: 1.61979666664 hours"
       ]
      },
      {
       "output_type": "stream",
       "stream": "stdout",
       "text": [
        "\r",
        "Finding differences of reclassification 24 for data pairs 21 of 45.  Elapsed time: 1.62130944444 hours"
       ]
      },
      {
       "output_type": "stream",
       "stream": "stdout",
       "text": [
        "\r",
        "Finding differences of reclassification 24 for data pairs 22 of 45.  Elapsed time: 1.62283666664 hours"
       ]
      },
      {
       "output_type": "stream",
       "stream": "stdout",
       "text": [
        "\r",
        "Finding differences of reclassification 24 for data pairs 23 of 45.  Elapsed time: 1.62432527781 hours"
       ]
      },
      {
       "output_type": "stream",
       "stream": "stdout",
       "text": [
        "\r",
        "Finding differences of reclassification 24 for data pairs 24 of 45.  Elapsed time: 1.62585055557 hours"
       ]
      },
      {
       "output_type": "stream",
       "stream": "stdout",
       "text": [
        "\r",
        "Finding differences of reclassification 24 for data pairs 25 of 45.  Elapsed time: 1.62743277775 hours"
       ]
      },
      {
       "output_type": "stream",
       "stream": "stdout",
       "text": [
        "\r",
        "Finding differences of reclassification 24 for data pairs 26 of 45.  Elapsed time: 1.62894277778 hours"
       ]
      },
      {
       "output_type": "stream",
       "stream": "stdout",
       "text": [
        "\r",
        "Finding differences of reclassification 24 for data pairs 27 of 45.  Elapsed time: 1.63044861111 hours"
       ]
      },
      {
       "output_type": "stream",
       "stream": "stdout",
       "text": [
        "\r",
        "Finding differences of reclassification 24 for data pairs 28 of 45.  Elapsed time: 1.63198805557 hours"
       ]
      },
      {
       "output_type": "stream",
       "stream": "stdout",
       "text": [
        "\r",
        "Finding differences of reclassification 24 for data pairs 29 of 45.  Elapsed time: 1.63350083331 hours"
       ]
      },
      {
       "output_type": "stream",
       "stream": "stdout",
       "text": [
        "\r",
        "Finding differences of reclassification 24 for data pairs 30 of 45.  Elapsed time: 1.6350152778 hours"
       ]
      },
      {
       "output_type": "stream",
       "stream": "stdout",
       "text": [
        "\r",
        "Finding differences of reclassification 24 for data pairs 31 of 45.  Elapsed time: 1.63652999997 hours"
       ]
      },
      {
       "output_type": "stream",
       "stream": "stdout",
       "text": [
        "\r",
        "Finding differences of reclassification 24 for data pairs 32 of 45.  Elapsed time: 1.63801194443 hours"
       ]
      },
      {
       "output_type": "stream",
       "stream": "stdout",
       "text": [
        "\r",
        "Finding differences of reclassification 24 for data pairs 33 of 45.  Elapsed time: 1.63951833334 hours"
       ]
      },
      {
       "output_type": "stream",
       "stream": "stdout",
       "text": [
        "\r",
        "Finding differences of reclassification 24 for data pairs 34 of 45.  Elapsed time: 1.6410213889 hours"
       ]
      },
      {
       "output_type": "stream",
       "stream": "stdout",
       "text": [
        "\r",
        "Finding differences of reclassification 24 for data pairs 35 of 45.  Elapsed time: 1.64250694447 hours"
       ]
      },
      {
       "output_type": "stream",
       "stream": "stdout",
       "text": [
        "\r",
        "Finding differences of reclassification 24 for data pairs 36 of 45.  Elapsed time: 1.6440625 hours"
       ]
      },
      {
       "output_type": "stream",
       "stream": "stdout",
       "text": [
        "\r",
        "Finding differences of reclassification 24 for data pairs 37 of 45.  Elapsed time: 1.6455675 hours"
       ]
      },
      {
       "output_type": "stream",
       "stream": "stdout",
       "text": [
        "\r",
        "Finding differences of reclassification 24 for data pairs 38 of 45.  Elapsed time: 1.64704944445 hours"
       ]
      },
      {
       "output_type": "stream",
       "stream": "stdout",
       "text": [
        "\r",
        "Finding differences of reclassification 24 for data pairs 39 of 45.  Elapsed time: 1.64853916665 hours"
       ]
      },
      {
       "output_type": "stream",
       "stream": "stdout",
       "text": [
        "\r",
        "Finding differences of reclassification 24 for data pairs 40 of 45.  Elapsed time: 1.65004277779 hours"
       ]
      },
      {
       "output_type": "stream",
       "stream": "stdout",
       "text": [
        "\r",
        "Finding differences of reclassification 24 for data pairs 41 of 45.  Elapsed time: 1.65155305558 hours"
       ]
      },
      {
       "output_type": "stream",
       "stream": "stdout",
       "text": [
        "\r",
        "Finding differences of reclassification 24 for data pairs 42 of 45.  Elapsed time: 1.65306888892 hours"
       ]
      },
      {
       "output_type": "stream",
       "stream": "stdout",
       "text": [
        "\r",
        "Finding differences of reclassification 24 for data pairs 43 of 45.  Elapsed time: 1.65459305558 hours"
       ]
      },
      {
       "output_type": "stream",
       "stream": "stdout",
       "text": [
        "\r",
        "Finding differences of reclassification 24 for data pairs 44 of 45.  Elapsed time: 1.65608972225 hours"
       ]
      },
      {
       "output_type": "stream",
       "stream": "stdout",
       "text": [
        "\r",
        "Finding differences of reclassification 24 for data pairs 45 of 45.  Elapsed time: 1.65763694445 hours"
       ]
      },
      {
       "output_type": "stream",
       "stream": "stdout",
       "text": [
        "\r",
        "Finding differences of reclassification 25 for data pairs 1 of 45.  Elapsed time: 1.65914194445 hours"
       ]
      },
      {
       "output_type": "stream",
       "stream": "stdout",
       "text": [
        "\r",
        "Finding differences of reclassification 25 for data pairs 2 of 45.  Elapsed time: 1.66075361113 hours"
       ]
      },
      {
       "output_type": "stream",
       "stream": "stdout",
       "text": [
        "\r",
        "Finding differences of reclassification 25 for data pairs 3 of 45.  Elapsed time: 1.66237361113 hours"
       ]
      },
      {
       "output_type": "stream",
       "stream": "stdout",
       "text": [
        "\r",
        "Finding differences of reclassification 25 for data pairs 4 of 45.  Elapsed time: 1.66414499998 hours"
       ]
      },
      {
       "output_type": "stream",
       "stream": "stdout",
       "text": [
        "\r",
        "Finding differences of reclassification 25 for data pairs 5 of 45.  Elapsed time: 1.66589250002 hours"
       ]
      },
      {
       "output_type": "stream",
       "stream": "stdout",
       "text": [
        "\r",
        "Finding differences of reclassification 25 for data pairs 6 of 45.  Elapsed time: 1.66785777774 hours"
       ]
      },
      {
       "output_type": "stream",
       "stream": "stdout",
       "text": [
        "\r",
        "Finding differences of reclassification 25 for data pairs 7 of 45.  Elapsed time: 1.67002916667 hours"
       ]
      },
      {
       "output_type": "stream",
       "stream": "stdout",
       "text": [
        "\r",
        "Finding differences of reclassification 25 for data pairs 8 of 45.  Elapsed time: 1.6716808333 hours"
       ]
      },
      {
       "output_type": "stream",
       "stream": "stdout",
       "text": [
        "\r",
        "Finding differences of reclassification 25 for data pairs 9 of 45.  Elapsed time: 1.6733038889 hours"
       ]
      },
      {
       "output_type": "stream",
       "stream": "stdout",
       "text": [
        "\r",
        "Finding differences of reclassification 25 for data pairs 10 of 45.  Elapsed time: 1.67493555552 hours"
       ]
      },
      {
       "output_type": "stream",
       "stream": "stdout",
       "text": [
        "\r",
        "Finding differences of reclassification 25 for data pairs 11 of 45.  Elapsed time: 1.67699055552 hours"
       ]
      },
      {
       "output_type": "stream",
       "stream": "stdout",
       "text": [
        "\r",
        "Finding differences of reclassification 25 for data pairs 12 of 45.  Elapsed time: 1.6787347222 hours"
       ]
      },
      {
       "output_type": "stream",
       "stream": "stdout",
       "text": [
        "\r",
        "Finding differences of reclassification 25 for data pairs 13 of 45.  Elapsed time: 1.68036138886 hours"
       ]
      },
      {
       "output_type": "stream",
       "stream": "stdout",
       "text": [
        "\r",
        "Finding differences of reclassification 25 for data pairs 14 of 45.  Elapsed time: 1.6820116667 hours"
       ]
      },
      {
       "output_type": "stream",
       "stream": "stdout",
       "text": [
        "\r",
        "Finding differences of reclassification 25 for data pairs 15 of 45.  Elapsed time: 1.68376472221 hours"
       ]
      },
      {
       "output_type": "stream",
       "stream": "stdout",
       "text": [
        "\r",
        "Finding differences of reclassification 25 for data pairs 16 of 45.  Elapsed time: 1.6854772222 hours"
       ]
      },
      {
       "output_type": "stream",
       "stream": "stdout",
       "text": [
        "\r",
        "Finding differences of reclassification 25 for data pairs 17 of 45.  Elapsed time: 1.68737722225 hours"
       ]
      },
      {
       "output_type": "stream",
       "stream": "stdout",
       "text": [
        "\r",
        "Finding differences of reclassification 25 for data pairs 18 of 45.  Elapsed time: 1.6890302778 hours"
       ]
      },
      {
       "output_type": "stream",
       "stream": "stdout",
       "text": [
        "\r",
        "Finding differences of reclassification 25 for data pairs 19 of 45.  Elapsed time: 1.69058555557 hours"
       ]
      },
      {
       "output_type": "stream",
       "stream": "stdout",
       "text": [
        "\r",
        "Finding differences of reclassification 25 for data pairs 20 of 45.  Elapsed time: 1.69230083333 hours"
       ]
      },
      {
       "output_type": "stream",
       "stream": "stdout",
       "text": [
        "\r",
        "Finding differences of reclassification 25 for data pairs 21 of 45.  Elapsed time: 1.69404888888 hours"
       ]
      },
      {
       "output_type": "stream",
       "stream": "stdout",
       "text": [
        "\r",
        "Finding differences of reclassification 25 for data pairs 22 of 45.  Elapsed time: 1.69566444443 hours"
       ]
      },
      {
       "output_type": "stream",
       "stream": "stdout",
       "text": [
        "\r",
        "Finding differences of reclassification 25 for data pairs 23 of 45.  Elapsed time: 1.69715666665 hours"
       ]
      },
      {
       "output_type": "stream",
       "stream": "stdout",
       "text": [
        "\r",
        "Finding differences of reclassification 25 for data pairs 24 of 45.  Elapsed time: 1.6986297222 hours"
       ]
      },
      {
       "output_type": "stream",
       "stream": "stdout",
       "text": [
        "\r",
        "Finding differences of reclassification 25 for data pairs 25 of 45.  Elapsed time: 1.70012527777 hours"
       ]
      },
      {
       "output_type": "stream",
       "stream": "stdout",
       "text": [
        "\r",
        "Finding differences of reclassification 25 for data pairs 26 of 45.  Elapsed time: 1.70161888891 hours"
       ]
      },
      {
       "output_type": "stream",
       "stream": "stdout",
       "text": [
        "\r",
        "Finding differences of reclassification 25 for data pairs 27 of 45.  Elapsed time: 1.70312194447 hours"
       ]
      },
      {
       "output_type": "stream",
       "stream": "stdout",
       "text": [
        "\r",
        "Finding differences of reclassification 25 for data pairs 28 of 45.  Elapsed time: 1.70465666665 hours"
       ]
      },
      {
       "output_type": "stream",
       "stream": "stdout",
       "text": [
        "\r",
        "Finding differences of reclassification 25 for data pairs 29 of 45.  Elapsed time: 1.70616305557 hours"
       ]
      },
      {
       "output_type": "stream",
       "stream": "stdout",
       "text": [
        "\r",
        "Finding differences of reclassification 25 for data pairs 30 of 45.  Elapsed time: 1.70766194443 hours"
       ]
      },
      {
       "output_type": "stream",
       "stream": "stdout",
       "text": [
        "\r",
        "Finding differences of reclassification 25 for data pairs 31 of 45.  Elapsed time: 1.70916166663 hours"
       ]
      },
      {
       "output_type": "stream",
       "stream": "stdout",
       "text": [
        "\r",
        "Finding differences of reclassification 25 for data pairs 32 of 45.  Elapsed time: 1.7107058333 hours"
       ]
      },
      {
       "output_type": "stream",
       "stream": "stdout",
       "text": [
        "\r",
        "Finding differences of reclassification 25 for data pairs 33 of 45.  Elapsed time: 1.71219472223 hours"
       ]
      },
      {
       "output_type": "stream",
       "stream": "stdout",
       "text": [
        "\r",
        "Finding differences of reclassification 25 for data pairs 34 of 45.  Elapsed time: 1.71368166665 hours"
       ]
      },
      {
       "output_type": "stream",
       "stream": "stdout",
       "text": [
        "\r",
        "Finding differences of reclassification 25 for data pairs 35 of 45.  Elapsed time: 1.71517277777 hours"
       ]
      },
      {
       "output_type": "stream",
       "stream": "stdout",
       "text": [
        "\r",
        "Finding differences of reclassification 25 for data pairs 36 of 45.  Elapsed time: 1.71664361113 hours"
       ]
      },
      {
       "output_type": "stream",
       "stream": "stdout",
       "text": [
        "\r",
        "Finding differences of reclassification 25 for data pairs 37 of 45.  Elapsed time: 1.71814861112 hours"
       ]
      },
      {
       "output_type": "stream",
       "stream": "stdout",
       "text": [
        "\r",
        "Finding differences of reclassification 25 for data pairs 38 of 45.  Elapsed time: 1.71961972223 hours"
       ]
      },
      {
       "output_type": "stream",
       "stream": "stdout",
       "text": [
        "\r",
        "Finding differences of reclassification 25 for data pairs 39 of 45.  Elapsed time: 1.72109722224 hours"
       ]
      },
      {
       "output_type": "stream",
       "stream": "stdout",
       "text": [
        "\r",
        "Finding differences of reclassification 25 for data pairs 40 of 45.  Elapsed time: 1.7225827778 hours"
       ]
      },
      {
       "output_type": "stream",
       "stream": "stdout",
       "text": [
        "\r",
        "Finding differences of reclassification 25 for data pairs 41 of 45.  Elapsed time: 1.72408500002 hours"
       ]
      },
      {
       "output_type": "stream",
       "stream": "stdout",
       "text": [
        "\r",
        "Finding differences of reclassification 25 for data pairs 42 of 45.  Elapsed time: 1.72559305555 hours"
       ]
      },
      {
       "output_type": "stream",
       "stream": "stdout",
       "text": [
        "\r",
        "Finding differences of reclassification 25 for data pairs 43 of 45.  Elapsed time: 1.72716361112 hours"
       ]
      },
      {
       "output_type": "stream",
       "stream": "stdout",
       "text": [
        "\r",
        "Finding differences of reclassification 25 for data pairs 44 of 45.  Elapsed time: 1.72863777777 hours"
       ]
      },
      {
       "output_type": "stream",
       "stream": "stdout",
       "text": [
        "\r",
        "Finding differences of reclassification 25 for data pairs 45 of 45.  Elapsed time: 1.73010638886 hours"
       ]
      },
      {
       "output_type": "stream",
       "stream": "stdout",
       "text": [
        "\r",
        "Finding differences of reclassification 26 for data pairs 1 of 45.  Elapsed time: 1.73157500002 hours"
       ]
      },
      {
       "output_type": "stream",
       "stream": "stdout",
       "text": [
        "\r",
        "Finding differences of reclassification 26 for data pairs 2 of 45.  Elapsed time: 1.73305805557 hours"
       ]
      },
      {
       "output_type": "stream",
       "stream": "stdout",
       "text": [
        "\r",
        "Finding differences of reclassification 26 for data pairs 3 of 45.  Elapsed time: 1.7345397222 hours"
       ]
      },
      {
       "output_type": "stream",
       "stream": "stdout",
       "text": [
        "\r",
        "Finding differences of reclassification 26 for data pairs 4 of 45.  Elapsed time: 1.73603027774 hours"
       ]
      },
      {
       "output_type": "stream",
       "stream": "stdout",
       "text": [
        "\r",
        "Finding differences of reclassification 26 for data pairs 5 of 45.  Elapsed time: 1.73751805557 hours"
       ]
      },
      {
       "output_type": "stream",
       "stream": "stdout",
       "text": [
        "\r",
        "Finding differences of reclassification 26 for data pairs 6 of 45.  Elapsed time: 1.73900527775 hours"
       ]
      },
      {
       "output_type": "stream",
       "stream": "stdout",
       "text": [
        "\r",
        "Finding differences of reclassification 26 for data pairs 7 of 45.  Elapsed time: 1.74048472219 hours"
       ]
      },
      {
       "output_type": "stream",
       "stream": "stdout",
       "text": [
        "\r",
        "Finding differences of reclassification 26 for data pairs 8 of 45.  Elapsed time: 1.74196972224 hours"
       ]
      },
      {
       "output_type": "stream",
       "stream": "stdout",
       "text": [
        "\r",
        "Finding differences of reclassification 26 for data pairs 9 of 45.  Elapsed time: 1.74353500002 hours"
       ]
      },
      {
       "output_type": "stream",
       "stream": "stdout",
       "text": [
        "\r",
        "Finding differences of reclassification 26 for data pairs 10 of 45.  Elapsed time: 1.74500472221 hours"
       ]
      },
      {
       "output_type": "stream",
       "stream": "stdout",
       "text": [
        "\r",
        "Finding differences of reclassification 26 for data pairs 11 of 45.  Elapsed time: 1.74649444441 hours"
       ]
      },
      {
       "output_type": "stream",
       "stream": "stdout",
       "text": [
        "\r",
        "Finding differences of reclassification 26 for data pairs 12 of 45.  Elapsed time: 1.74801305552 hours"
       ]
      },
      {
       "output_type": "stream",
       "stream": "stdout",
       "text": [
        "\r",
        "Finding differences of reclassification 26 for data pairs 13 of 45.  Elapsed time: 1.74954888887 hours"
       ]
      },
      {
       "output_type": "stream",
       "stream": "stdout",
       "text": [
        "\r",
        "Finding differences of reclassification 26 for data pairs 14 of 45.  Elapsed time: 1.75107194444 hours"
       ]
      },
      {
       "output_type": "stream",
       "stream": "stdout",
       "text": [
        "\r",
        "Finding differences of reclassification 26 for data pairs 15 of 45.  Elapsed time: 1.75264305552 hours"
       ]
      },
      {
       "output_type": "stream",
       "stream": "stdout",
       "text": [
        "\r",
        "Finding differences of reclassification 26 for data pairs 16 of 45.  Elapsed time: 1.75414888885 hours"
       ]
      },
      {
       "output_type": "stream",
       "stream": "stdout",
       "text": [
        "\r",
        "Finding differences of reclassification 26 for data pairs 17 of 45.  Elapsed time: 1.75568638888 hours"
       ]
      },
      {
       "output_type": "stream",
       "stream": "stdout",
       "text": [
        "\r",
        "Finding differences of reclassification 26 for data pairs 18 of 45.  Elapsed time: 1.75717861109 hours"
       ]
      },
      {
       "output_type": "stream",
       "stream": "stdout",
       "text": [
        "\r",
        "Finding differences of reclassification 26 for data pairs 19 of 45.  Elapsed time: 1.75867583334 hours"
       ]
      },
      {
       "output_type": "stream",
       "stream": "stdout",
       "text": [
        "\r",
        "Finding differences of reclassification 26 for data pairs 20 of 45.  Elapsed time: 1.76030055556 hours"
       ]
      },
      {
       "output_type": "stream",
       "stream": "stdout",
       "text": [
        "\r",
        "Finding differences of reclassification 26 for data pairs 21 of 45.  Elapsed time: 1.76180666665 hours"
       ]
      },
      {
       "output_type": "stream",
       "stream": "stdout",
       "text": [
        "\r",
        "Finding differences of reclassification 26 for data pairs 22 of 45.  Elapsed time: 1.76333749996 hours"
       ]
      },
      {
       "output_type": "stream",
       "stream": "stdout",
       "text": [
        "\r",
        "Finding differences of reclassification 26 for data pairs 23 of 45.  Elapsed time: 1.76483805557 hours"
       ]
      },
      {
       "output_type": "stream",
       "stream": "stdout",
       "text": [
        "\r",
        "Finding differences of reclassification 26 for data pairs 24 of 45.  Elapsed time: 1.76630166663 hours"
       ]
      },
      {
       "output_type": "stream",
       "stream": "stdout",
       "text": [
        "\r",
        "Finding differences of reclassification 26 for data pairs 25 of 45.  Elapsed time: 1.76778916664 hours"
       ]
      },
      {
       "output_type": "stream",
       "stream": "stdout",
       "text": [
        "\r",
        "Finding differences of reclassification 26 for data pairs 26 of 45.  Elapsed time: 1.7692758333 hours"
       ]
      },
      {
       "output_type": "stream",
       "stream": "stdout",
       "text": [
        "\r",
        "Finding differences of reclassification 26 for data pairs 27 of 45.  Elapsed time: 1.77079611109 hours"
       ]
      },
      {
       "output_type": "stream",
       "stream": "stdout",
       "text": [
        "\r",
        "Finding differences of reclassification 26 for data pairs 28 of 45.  Elapsed time: 1.7723675 hours"
       ]
      },
      {
       "output_type": "stream",
       "stream": "stdout",
       "text": [
        "\r",
        "Finding differences of reclassification 26 for data pairs 29 of 45.  Elapsed time: 1.77387722221 hours"
       ]
      },
      {
       "output_type": "stream",
       "stream": "stdout",
       "text": [
        "\r",
        "Finding differences of reclassification 26 for data pairs 30 of 45.  Elapsed time: 1.77541777776 hours"
       ]
      },
      {
       "output_type": "stream",
       "stream": "stdout",
       "text": [
        "\r",
        "Finding differences of reclassification 26 for data pairs 31 of 45.  Elapsed time: 1.77702305555 hours"
       ]
      },
      {
       "output_type": "stream",
       "stream": "stdout",
       "text": [
        "\r",
        "Finding differences of reclassification 26 for data pairs 32 of 45.  Elapsed time: 1.77851999998 hours"
       ]
      },
      {
       "output_type": "stream",
       "stream": "stdout",
       "text": [
        "\r",
        "Finding differences of reclassification 26 for data pairs 33 of 45.  Elapsed time: 1.78003083335 hours"
       ]
      },
      {
       "output_type": "stream",
       "stream": "stdout",
       "text": [
        "\r",
        "Finding differences of reclassification 26 for data pairs 34 of 45.  Elapsed time: 1.78156888889 hours"
       ]
      },
      {
       "output_type": "stream",
       "stream": "stdout",
       "text": [
        "\r",
        "Finding differences of reclassification 26 for data pairs 35 of 45.  Elapsed time: 1.78312111113 hours"
       ]
      },
      {
       "output_type": "stream",
       "stream": "stdout",
       "text": [
        "\r",
        "Finding differences of reclassification 26 for data pairs 36 of 45.  Elapsed time: 1.78463555555 hours"
       ]
      },
      {
       "output_type": "stream",
       "stream": "stdout",
       "text": [
        "\r",
        "Finding differences of reclassification 26 for data pairs 37 of 45.  Elapsed time: 1.78621833331 hours"
       ]
      },
      {
       "output_type": "stream",
       "stream": "stdout",
       "text": [
        "\r",
        "Finding differences of reclassification 26 for data pairs 38 of 45.  Elapsed time: 1.78774694443 hours"
       ]
      },
      {
       "output_type": "stream",
       "stream": "stdout",
       "text": [
        "\r",
        "Finding differences of reclassification 26 for data pairs 39 of 45.  Elapsed time: 1.78927250001 hours"
       ]
      },
      {
       "output_type": "stream",
       "stream": "stdout",
       "text": [
        "\r",
        "Finding differences of reclassification 26 for data pairs 40 of 45.  Elapsed time: 1.7909497222 hours"
       ]
      },
      {
       "output_type": "stream",
       "stream": "stdout",
       "text": [
        "\r",
        "Finding differences of reclassification 26 for data pairs 41 of 45.  Elapsed time: 1.79249111109 hours"
       ]
      },
      {
       "output_type": "stream",
       "stream": "stdout",
       "text": [
        "\r",
        "Finding differences of reclassification 26 for data pairs 42 of 45.  Elapsed time: 1.7940947222 hours"
       ]
      },
      {
       "output_type": "stream",
       "stream": "stdout",
       "text": [
        "\r",
        "Finding differences of reclassification 26 for data pairs 43 of 45.  Elapsed time: 1.79559944444 hours"
       ]
      },
      {
       "output_type": "stream",
       "stream": "stdout",
       "text": [
        "\r",
        "Finding differences of reclassification 26 for data pairs 44 of 45.  Elapsed time: 1.79707361109 hours"
       ]
      },
      {
       "output_type": "stream",
       "stream": "stdout",
       "text": [
        "\r",
        "Finding differences of reclassification 26 for data pairs 45 of 45.  Elapsed time: 1.79855194443 hours"
       ]
      },
      {
       "output_type": "stream",
       "stream": "stdout",
       "text": [
        "\r",
        "Finding differences of reclassification 27 for data pairs 1 of 45.  Elapsed time: 1.80002972219 hours"
       ]
      },
      {
       "output_type": "stream",
       "stream": "stdout",
       "text": [
        "\r",
        "Finding differences of reclassification 27 for data pairs 2 of 45.  Elapsed time: 1.80150916669 hours"
       ]
      },
      {
       "output_type": "stream",
       "stream": "stdout",
       "text": [
        "\r",
        "Finding differences of reclassification 27 for data pairs 3 of 45.  Elapsed time: 1.80297222224 hours"
       ]
      },
      {
       "output_type": "stream",
       "stream": "stdout",
       "text": [
        "\r",
        "Finding differences of reclassification 27 for data pairs 4 of 45.  Elapsed time: 1.80448888891 hours"
       ]
      },
      {
       "output_type": "stream",
       "stream": "stdout",
       "text": [
        "\r",
        "Finding differences of reclassification 27 for data pairs 5 of 45.  Elapsed time: 1.80603527778 hours"
       ]
      },
      {
       "output_type": "stream",
       "stream": "stdout",
       "text": [
        "\r",
        "Finding differences of reclassification 27 for data pairs 6 of 45.  Elapsed time: 1.80750972225 hours"
       ]
      },
      {
       "output_type": "stream",
       "stream": "stdout",
       "text": [
        "\r",
        "Finding differences of reclassification 27 for data pairs 7 of 45.  Elapsed time: 1.80902083331 hours"
       ]
      },
      {
       "output_type": "stream",
       "stream": "stdout",
       "text": [
        "\r",
        "Finding differences of reclassification 27 for data pairs 8 of 45.  Elapsed time: 1.81059000002 hours"
       ]
      },
      {
       "output_type": "stream",
       "stream": "stdout",
       "text": [
        "\r",
        "Finding differences of reclassification 27 for data pairs 9 of 45.  Elapsed time: 1.81209555553 hours"
       ]
      },
      {
       "output_type": "stream",
       "stream": "stdout",
       "text": [
        "\r",
        "Finding differences of reclassification 27 for data pairs 10 of 45.  Elapsed time: 1.81360138887 hours"
       ]
      },
      {
       "output_type": "stream",
       "stream": "stdout",
       "text": [
        "\r",
        "Finding differences of reclassification 27 for data pairs 11 of 45.  Elapsed time: 1.81510750002 hours"
       ]
      },
      {
       "output_type": "stream",
       "stream": "stdout",
       "text": [
        "\r",
        "Finding differences of reclassification 27 for data pairs 12 of 45.  Elapsed time: 1.81661416663 hours"
       ]
      },
      {
       "output_type": "stream",
       "stream": "stdout",
       "text": [
        "\r",
        "Finding differences of reclassification 27 for data pairs 13 of 45.  Elapsed time: 1.81809722225 hours"
       ]
      },
      {
       "output_type": "stream",
       "stream": "stdout",
       "text": [
        "\r",
        "Finding differences of reclassification 27 for data pairs 14 of 45.  Elapsed time: 1.81957750003 hours"
       ]
      },
      {
       "output_type": "stream",
       "stream": "stdout",
       "text": [
        "\r",
        "Finding differences of reclassification 27 for data pairs 15 of 45.  Elapsed time: 1.82107833332 hours"
       ]
      },
      {
       "output_type": "stream",
       "stream": "stdout",
       "text": [
        "\r",
        "Finding differences of reclassification 27 for data pairs 16 of 45.  Elapsed time: 1.82255111112 hours"
       ]
      },
      {
       "output_type": "stream",
       "stream": "stdout",
       "text": [
        "\r",
        "Finding differences of reclassification 27 for data pairs 17 of 45.  Elapsed time: 1.8240502778 hours"
       ]
      },
      {
       "output_type": "stream",
       "stream": "stdout",
       "text": [
        "\r",
        "Finding differences of reclassification 27 for data pairs 18 of 45.  Elapsed time: 1.82552250001 hours"
       ]
      },
      {
       "output_type": "stream",
       "stream": "stdout",
       "text": [
        "\r",
        "Finding differences of reclassification 27 for data pairs 19 of 45.  Elapsed time: 1.82709222224 hours"
       ]
      },
      {
       "output_type": "stream",
       "stream": "stdout",
       "text": [
        "\r",
        "Finding differences of reclassification 27 for data pairs 20 of 45.  Elapsed time: 1.82855555554 hours"
       ]
      },
      {
       "output_type": "stream",
       "stream": "stdout",
       "text": [
        "\r",
        "Finding differences of reclassification 27 for data pairs 21 of 45.  Elapsed time: 1.83004083335 hours"
       ]
      },
      {
       "output_type": "stream",
       "stream": "stdout",
       "text": [
        "\r",
        "Finding differences of reclassification 27 for data pairs 22 of 45.  Elapsed time: 1.83153472225 hours"
       ]
      },
      {
       "output_type": "stream",
       "stream": "stdout",
       "text": [
        "\r",
        "Finding differences of reclassification 27 for data pairs 23 of 45.  Elapsed time: 1.83300138891 hours"
       ]
      },
      {
       "output_type": "stream",
       "stream": "stdout",
       "text": [
        "\r",
        "Finding differences of reclassification 27 for data pairs 24 of 45.  Elapsed time: 1.83447194444 hours"
       ]
      },
      {
       "output_type": "stream",
       "stream": "stdout",
       "text": [
        "\r",
        "Finding differences of reclassification 27 for data pairs 25 of 45.  Elapsed time: 1.83595916669 hours"
       ]
      },
      {
       "output_type": "stream",
       "stream": "stdout",
       "text": [
        "\r",
        "Finding differences of reclassification 27 for data pairs 26 of 45.  Elapsed time: 1.83746500002 hours"
       ]
      },
      {
       "output_type": "stream",
       "stream": "stdout",
       "text": [
        "\r",
        "Finding differences of reclassification 27 for data pairs 27 of 45.  Elapsed time: 1.83897055553 hours"
       ]
      },
      {
       "output_type": "stream",
       "stream": "stdout",
       "text": [
        "\r",
        "Finding differences of reclassification 27 for data pairs 28 of 45.  Elapsed time: 1.84053833332 hours"
       ]
      },
      {
       "output_type": "stream",
       "stream": "stdout",
       "text": [
        "\r",
        "Finding differences of reclassification 27 for data pairs 29 of 45.  Elapsed time: 1.84208333333 hours"
       ]
      },
      {
       "output_type": "stream",
       "stream": "stdout",
       "text": [
        "\r",
        "Finding differences of reclassification 27 for data pairs 30 of 45.  Elapsed time: 1.84364555558 hours"
       ]
      },
      {
       "output_type": "stream",
       "stream": "stdout",
       "text": [
        "\r",
        "Finding differences of reclassification 27 for data pairs 31 of 45.  Elapsed time: 1.8451658333 hours"
       ]
      },
      {
       "output_type": "stream",
       "stream": "stdout",
       "text": [
        "\r",
        "Finding differences of reclassification 27 for data pairs 32 of 45.  Elapsed time: 1.84665111111 hours"
       ]
      },
      {
       "output_type": "stream",
       "stream": "stdout",
       "text": [
        "\r",
        "Finding differences of reclassification 27 for data pairs 33 of 45.  Elapsed time: 1.84820055558 hours"
       ]
      },
      {
       "output_type": "stream",
       "stream": "stdout",
       "text": [
        "\r",
        "Finding differences of reclassification 27 for data pairs 34 of 45.  Elapsed time: 1.84968055553 hours"
       ]
      },
      {
       "output_type": "stream",
       "stream": "stdout",
       "text": [
        "\r",
        "Finding differences of reclassification 27 for data pairs 35 of 45.  Elapsed time: 1.8511508333 hours"
       ]
      },
      {
       "output_type": "stream",
       "stream": "stdout",
       "text": [
        "\r",
        "Finding differences of reclassification 27 for data pairs 36 of 45.  Elapsed time: 1.85260972222 hours"
       ]
      },
      {
       "output_type": "stream",
       "stream": "stdout",
       "text": [
        "\r",
        "Finding differences of reclassification 27 for data pairs 37 of 45.  Elapsed time: 1.85411222219 hours"
       ]
      },
      {
       "output_type": "stream",
       "stream": "stdout",
       "text": [
        "\r",
        "Finding differences of reclassification 27 for data pairs 38 of 45.  Elapsed time: 1.85557444447 hours"
       ]
      },
      {
       "output_type": "stream",
       "stream": "stdout",
       "text": [
        "\r",
        "Finding differences of reclassification 27 for data pairs 39 of 45.  Elapsed time: 1.85705277774 hours"
       ]
      },
      {
       "output_type": "stream",
       "stream": "stdout",
       "text": [
        "\r",
        "Finding differences of reclassification 27 for data pairs 40 of 45.  Elapsed time: 1.85853416668 hours"
       ]
      },
      {
       "output_type": "stream",
       "stream": "stdout",
       "text": [
        "\r",
        "Finding differences of reclassification 27 for data pairs 41 of 45.  Elapsed time: 1.86008750002 hours"
       ]
      },
      {
       "output_type": "stream",
       "stream": "stdout",
       "text": [
        "\r",
        "Finding differences of reclassification 27 for data pairs 42 of 45.  Elapsed time: 1.86159666664 hours"
       ]
      },
      {
       "output_type": "stream",
       "stream": "stdout",
       "text": [
        "\r",
        "Finding differences of reclassification 27 for data pairs 43 of 45.  Elapsed time: 1.86310916669 hours"
       ]
      },
      {
       "output_type": "stream",
       "stream": "stdout",
       "text": [
        "\r",
        "Finding differences of reclassification 27 for data pairs 44 of 45.  Elapsed time: 1.8645913889 hours"
       ]
      },
      {
       "output_type": "stream",
       "stream": "stdout",
       "text": [
        "\r",
        "Finding differences of reclassification 27 for data pairs 45 of 45.  Elapsed time: 1.86607222219 hours"
       ]
      },
      {
       "output_type": "stream",
       "stream": "stdout",
       "text": [
        "\r",
        "Finding differences of reclassification 28 for data pairs 1 of 45.  Elapsed time: 1.86760388891 hours"
       ]
      },
      {
       "output_type": "stream",
       "stream": "stdout",
       "text": [
        "\r",
        "Finding differences of reclassification 28 for data pairs 2 of 45.  Elapsed time: 1.86913944443 hours"
       ]
      },
      {
       "output_type": "stream",
       "stream": "stdout",
       "text": [
        "\r",
        "Finding differences of reclassification 28 for data pairs 3 of 45.  Elapsed time: 1.87063972221 hours"
       ]
      },
      {
       "output_type": "stream",
       "stream": "stdout",
       "text": [
        "\r",
        "Finding differences of reclassification 28 for data pairs 4 of 45.  Elapsed time: 1.87243500001 hours"
       ]
      },
      {
       "output_type": "stream",
       "stream": "stdout",
       "text": [
        "\r",
        "Finding differences of reclassification 28 for data pairs 5 of 45.  Elapsed time: 1.87412444446 hours"
       ]
      },
      {
       "output_type": "stream",
       "stream": "stdout",
       "text": [
        "\r",
        "Finding differences of reclassification 28 for data pairs 6 of 45.  Elapsed time: 1.87568305552 hours"
       ]
      },
      {
       "output_type": "stream",
       "stream": "stdout",
       "text": [
        "\r",
        "Finding differences of reclassification 28 for data pairs 7 of 45.  Elapsed time: 1.87736138887 hours"
       ]
      },
      {
       "output_type": "stream",
       "stream": "stdout",
       "text": [
        "\r",
        "Finding differences of reclassification 28 for data pairs 8 of 45.  Elapsed time: 1.87920527776 hours"
       ]
      },
      {
       "output_type": "stream",
       "stream": "stdout",
       "text": [
        "\r",
        "Finding differences of reclassification 28 for data pairs 9 of 45.  Elapsed time: 1.88070194443 hours"
       ]
      },
      {
       "output_type": "stream",
       "stream": "stdout",
       "text": [
        "\r",
        "Finding differences of reclassification 28 for data pairs 10 of 45.  Elapsed time: 1.88221694443 hours"
       ]
      },
      {
       "output_type": "stream",
       "stream": "stdout",
       "text": [
        "\r",
        "Finding differences of reclassification 28 for data pairs 11 of 45.  Elapsed time: 1.88373333335 hours"
       ]
      },
      {
       "output_type": "stream",
       "stream": "stdout",
       "text": [
        "\r",
        "Finding differences of reclassification 28 for data pairs 12 of 45.  Elapsed time: 1.88525833335 hours"
       ]
      },
      {
       "output_type": "stream",
       "stream": "stdout",
       "text": [
        "\r",
        "Finding differences of reclassification 28 for data pairs 13 of 45.  Elapsed time: 1.8867547222 hours"
       ]
      },
      {
       "output_type": "stream",
       "stream": "stdout",
       "text": [
        "\r",
        "Finding differences of reclassification 28 for data pairs 14 of 45.  Elapsed time: 1.88824555556 hours"
       ]
      },
      {
       "output_type": "stream",
       "stream": "stdout",
       "text": [
        "\r",
        "Finding differences of reclassification 28 for data pairs 15 of 45.  Elapsed time: 1.88977277776 hours"
       ]
      },
      {
       "output_type": "stream",
       "stream": "stdout",
       "text": [
        "\r",
        "Finding differences of reclassification 28 for data pairs 16 of 45.  Elapsed time: 1.89128388888 hours"
       ]
      },
      {
       "output_type": "stream",
       "stream": "stdout",
       "text": [
        "\r",
        "Finding differences of reclassification 28 for data pairs 17 of 45.  Elapsed time: 1.89280888889 hours"
       ]
      },
      {
       "output_type": "stream",
       "stream": "stdout",
       "text": [
        "\r",
        "Finding differences of reclassification 28 for data pairs 18 of 45.  Elapsed time: 1.89435361114 hours"
       ]
      },
      {
       "output_type": "stream",
       "stream": "stdout",
       "text": [
        "\r",
        "Finding differences of reclassification 28 for data pairs 19 of 45.  Elapsed time: 1.89589472221 hours"
       ]
      },
      {
       "output_type": "stream",
       "stream": "stdout",
       "text": [
        "\r",
        "Finding differences of reclassification 28 for data pairs 20 of 45.  Elapsed time: 1.89740666668 hours"
       ]
      },
      {
       "output_type": "stream",
       "stream": "stdout",
       "text": [
        "\r",
        "Finding differences of reclassification 28 for data pairs 21 of 45.  Elapsed time: 1.89893138885 hours"
       ]
      },
      {
       "output_type": "stream",
       "stream": "stdout",
       "text": [
        "\r",
        "Finding differences of reclassification 28 for data pairs 22 of 45.  Elapsed time: 1.90045750002 hours"
       ]
      },
      {
       "output_type": "stream",
       "stream": "stdout",
       "text": [
        "\r",
        "Finding differences of reclassification 28 for data pairs 23 of 45.  Elapsed time: 1.90195166667 hours"
       ]
      },
      {
       "output_type": "stream",
       "stream": "stdout",
       "text": [
        "\r",
        "Finding differences of reclassification 28 for data pairs 24 of 45.  Elapsed time: 1.90350305557 hours"
       ]
      },
      {
       "output_type": "stream",
       "stream": "stdout",
       "text": [
        "\r",
        "Finding differences of reclassification 28 for data pairs 25 of 45.  Elapsed time: 1.9051477778 hours"
       ]
      },
      {
       "output_type": "stream",
       "stream": "stdout",
       "text": [
        "\r",
        "Finding differences of reclassification 28 for data pairs 26 of 45.  Elapsed time: 1.90674972223 hours"
       ]
      },
      {
       "output_type": "stream",
       "stream": "stdout",
       "text": [
        "\r",
        "Finding differences of reclassification 28 for data pairs 27 of 45.  Elapsed time: 1.90833527777 hours"
       ]
      },
      {
       "output_type": "stream",
       "stream": "stdout",
       "text": [
        "\r",
        "Finding differences of reclassification 28 for data pairs 28 of 45.  Elapsed time: 1.91000527779 hours"
       ]
      },
      {
       "output_type": "stream",
       "stream": "stdout",
       "text": [
        "\r",
        "Finding differences of reclassification 28 for data pairs 29 of 45.  Elapsed time: 1.9115302778 hours"
       ]
      },
      {
       "output_type": "stream",
       "stream": "stdout",
       "text": [
        "\r",
        "Finding differences of reclassification 28 for data pairs 30 of 45.  Elapsed time: 1.91304666665 hours"
       ]
      },
      {
       "output_type": "stream",
       "stream": "stdout",
       "text": [
        "\r",
        "Finding differences of reclassification 28 for data pairs 31 of 45.  Elapsed time: 1.9145438889 hours"
       ]
      },
      {
       "output_type": "stream",
       "stream": "stdout",
       "text": [
        "\r",
        "Finding differences of reclassification 28 for data pairs 32 of 45.  Elapsed time: 1.91605361111 hours"
       ]
      },
      {
       "output_type": "stream",
       "stream": "stdout",
       "text": [
        "\r",
        "Finding differences of reclassification 28 for data pairs 33 of 45.  Elapsed time: 1.91766305553 hours"
       ]
      },
      {
       "output_type": "stream",
       "stream": "stdout",
       "text": [
        "\r",
        "Finding differences of reclassification 28 for data pairs 34 of 45.  Elapsed time: 1.91926694446 hours"
       ]
      },
      {
       "output_type": "stream",
       "stream": "stdout",
       "text": [
        "\r",
        "Finding differences of reclassification 28 for data pairs 35 of 45.  Elapsed time: 1.92089444445 hours"
       ]
      },
      {
       "output_type": "stream",
       "stream": "stdout",
       "text": [
        "\r",
        "Finding differences of reclassification 28 for data pairs 36 of 45.  Elapsed time: 1.9225727778 hours"
       ]
      },
      {
       "output_type": "stream",
       "stream": "stdout",
       "text": [
        "\r",
        "Finding differences of reclassification 28 for data pairs 37 of 45.  Elapsed time: 1.92426166667 hours"
       ]
      },
      {
       "output_type": "stream",
       "stream": "stdout",
       "text": [
        "\r",
        "Finding differences of reclassification 28 for data pairs 38 of 45.  Elapsed time: 1.92582388891 hours"
       ]
      },
      {
       "output_type": "stream",
       "stream": "stdout",
       "text": [
        "\r",
        "Finding differences of reclassification 28 for data pairs 39 of 45.  Elapsed time: 1.92743194441 hours"
       ]
      },
      {
       "output_type": "stream",
       "stream": "stdout",
       "text": [
        "\r",
        "Finding differences of reclassification 28 for data pairs 40 of 45.  Elapsed time: 1.92893 hours"
       ]
      },
      {
       "output_type": "stream",
       "stream": "stdout",
       "text": [
        "\r",
        "Finding differences of reclassification 28 for data pairs 41 of 45.  Elapsed time: 1.93043861111 hours"
       ]
      },
      {
       "output_type": "stream",
       "stream": "stdout",
       "text": [
        "\r",
        "Finding differences of reclassification 28 for data pairs 42 of 45.  Elapsed time: 1.93208666669 hours"
       ]
      },
      {
       "output_type": "stream",
       "stream": "stdout",
       "text": [
        "\r",
        "Finding differences of reclassification 28 for data pairs 43 of 45.  Elapsed time: 1.93374361111 hours"
       ]
      },
      {
       "output_type": "stream",
       "stream": "stdout",
       "text": [
        "\r",
        "Finding differences of reclassification 28 for data pairs 44 of 45.  Elapsed time: 1.93533416669 hours"
       ]
      },
      {
       "output_type": "stream",
       "stream": "stdout",
       "text": [
        "\r",
        "Finding differences of reclassification 28 for data pairs 45 of 45.  Elapsed time: 1.9369236111 hours"
       ]
      },
      {
       "output_type": "stream",
       "stream": "stdout",
       "text": [
        "\r",
        "Finding differences of reclassification 29 for data pairs 1 of 45.  Elapsed time: 1.9384263889 hours"
       ]
      },
      {
       "output_type": "stream",
       "stream": "stdout",
       "text": [
        "\r",
        "Finding differences of reclassification 29 for data pairs 2 of 45.  Elapsed time: 1.94003694442 hours"
       ]
      },
      {
       "output_type": "stream",
       "stream": "stdout",
       "text": [
        "\r",
        "Finding differences of reclassification 29 for data pairs 3 of 45.  Elapsed time: 1.94154944446 hours"
       ]
      },
      {
       "output_type": "stream",
       "stream": "stdout",
       "text": [
        "\r",
        "Finding differences of reclassification 29 for data pairs 4 of 45.  Elapsed time: 1.94309333331 hours"
       ]
      },
      {
       "output_type": "stream",
       "stream": "stdout",
       "text": [
        "\r",
        "Finding differences of reclassification 29 for data pairs 5 of 45.  Elapsed time: 1.94471694443 hours"
       ]
      },
      {
       "output_type": "stream",
       "stream": "stdout",
       "text": [
        "\r",
        "Finding differences of reclassification 29 for data pairs 6 of 45.  Elapsed time: 1.94622333335 hours"
       ]
      },
      {
       "output_type": "stream",
       "stream": "stdout",
       "text": [
        "\r",
        "Finding differences of reclassification 29 for data pairs 7 of 45.  Elapsed time: 1.94770944443 hours"
       ]
      },
      {
       "output_type": "stream",
       "stream": "stdout",
       "text": [
        "\r",
        "Finding differences of reclassification 29 for data pairs 8 of 45.  Elapsed time: 1.94920861112 hours"
       ]
      },
      {
       "output_type": "stream",
       "stream": "stdout",
       "text": [
        "\r",
        "Finding differences of reclassification 29 for data pairs 9 of 45.  Elapsed time: 1.95072611113 hours"
       ]
      },
      {
       "output_type": "stream",
       "stream": "stdout",
       "text": [
        "\r",
        "Finding differences of reclassification 29 for data pairs 10 of 45.  Elapsed time: 1.95234361112 hours"
       ]
      },
      {
       "output_type": "stream",
       "stream": "stdout",
       "text": [
        "\r",
        "Finding differences of reclassification 29 for data pairs 11 of 45.  Elapsed time: 1.95395416664 hours"
       ]
      },
      {
       "output_type": "stream",
       "stream": "stdout",
       "text": [
        "\r",
        "Finding differences of reclassification 29 for data pairs 12 of 45.  Elapsed time: 1.95559583333 hours"
       ]
      },
      {
       "output_type": "stream",
       "stream": "stdout",
       "text": [
        "\r",
        "Finding differences of reclassification 29 for data pairs 13 of 45.  Elapsed time: 1.95718166669 hours"
       ]
      },
      {
       "output_type": "stream",
       "stream": "stdout",
       "text": [
        "\r",
        "Finding differences of reclassification 29 for data pairs 14 of 45.  Elapsed time: 1.95875777774 hours"
       ]
      },
      {
       "output_type": "stream",
       "stream": "stdout",
       "text": [
        "\r",
        "Finding differences of reclassification 29 for data pairs 15 of 45.  Elapsed time: 1.96046222223 hours"
       ]
      },
      {
       "output_type": "stream",
       "stream": "stdout",
       "text": [
        "\r",
        "Finding differences of reclassification 29 for data pairs 16 of 45.  Elapsed time: 1.96207555552 hours"
       ]
      },
      {
       "output_type": "stream",
       "stream": "stdout",
       "text": [
        "\r",
        "Finding differences of reclassification 29 for data pairs 17 of 45.  Elapsed time: 1.96381888886 hours"
       ]
      },
      {
       "output_type": "stream",
       "stream": "stdout",
       "text": [
        "\r",
        "Finding differences of reclassification 29 for data pairs 18 of 45.  Elapsed time: 1.9661397222 hours"
       ]
      },
      {
       "output_type": "stream",
       "stream": "stdout",
       "text": [
        "\r",
        "Finding differences of reclassification 29 for data pairs 19 of 45.  Elapsed time: 1.96792555557 hours"
       ]
      },
      {
       "output_type": "stream",
       "stream": "stdout",
       "text": [
        "\r",
        "Finding differences of reclassification 29 for data pairs 20 of 45.  Elapsed time: 1.96954527775 hours"
       ]
      },
      {
       "output_type": "stream",
       "stream": "stdout",
       "text": [
        "\r",
        "Finding differences of reclassification 29 for data pairs 21 of 45.  Elapsed time: 1.97116750002 hours"
       ]
      },
      {
       "output_type": "stream",
       "stream": "stdout",
       "text": [
        "\r",
        "Finding differences of reclassification 29 for data pairs 22 of 45.  Elapsed time: 1.97280638887 hours"
       ]
      },
      {
       "output_type": "stream",
       "stream": "stdout",
       "text": [
        "\r",
        "Finding differences of reclassification 29 for data pairs 23 of 45.  Elapsed time: 1.97440305558 hours"
       ]
      },
      {
       "output_type": "stream",
       "stream": "stdout",
       "text": [
        "\r",
        "Finding differences of reclassification 29 for data pairs 24 of 45.  Elapsed time: 1.97600638886 hours"
       ]
      },
      {
       "output_type": "stream",
       "stream": "stdout",
       "text": [
        "\r",
        "Finding differences of reclassification 29 for data pairs 25 of 45.  Elapsed time: 1.97780194441 hours"
       ]
      },
      {
       "output_type": "stream",
       "stream": "stdout",
       "text": [
        "\r",
        "Finding differences of reclassification 29 for data pairs 26 of 45.  Elapsed time: 1.97942749997 hours"
       ]
      },
      {
       "output_type": "stream",
       "stream": "stdout",
       "text": [
        "\r",
        "Finding differences of reclassification 29 for data pairs 27 of 45.  Elapsed time: 1.98105138891 hours"
       ]
      },
      {
       "output_type": "stream",
       "stream": "stdout",
       "text": [
        "\r",
        "Finding differences of reclassification 29 for data pairs 28 of 45.  Elapsed time: 1.9827297222 hours"
       ]
      },
      {
       "output_type": "stream",
       "stream": "stdout",
       "text": [
        "\r",
        "Finding differences of reclassification 29 for data pairs 29 of 45.  Elapsed time: 1.98435499999 hours"
       ]
      },
      {
       "output_type": "stream",
       "stream": "stdout",
       "text": [
        "\r",
        "Finding differences of reclassification 29 for data pairs 30 of 45.  Elapsed time: 1.9860102778 hours"
       ]
      },
      {
       "output_type": "stream",
       "stream": "stdout",
       "text": [
        "\r",
        "Finding differences of reclassification 29 for data pairs 31 of 45.  Elapsed time: 1.98765999999 hours"
       ]
      },
      {
       "output_type": "stream",
       "stream": "stdout",
       "text": [
        "\r",
        "Finding differences of reclassification 29 for data pairs 32 of 45.  Elapsed time: 1.98929777775 hours"
       ]
      },
      {
       "output_type": "stream",
       "stream": "stdout",
       "text": [
        "\r",
        "Finding differences of reclassification 29 for data pairs 33 of 45.  Elapsed time: 1.99092555556 hours"
       ]
      },
      {
       "output_type": "stream",
       "stream": "stdout",
       "text": [
        "\r",
        "Finding differences of reclassification 29 for data pairs 34 of 45.  Elapsed time: 1.99253916668 hours"
       ]
      },
      {
       "output_type": "stream",
       "stream": "stdout",
       "text": [
        "\r",
        "Finding differences of reclassification 29 for data pairs 35 of 45.  Elapsed time: 1.99424166666 hours"
       ]
      },
      {
       "output_type": "stream",
       "stream": "stdout",
       "text": [
        "\r",
        "Finding differences of reclassification 29 for data pairs 36 of 45.  Elapsed time: 1.99582999998 hours"
       ]
      },
      {
       "output_type": "stream",
       "stream": "stdout",
       "text": [
        "\r",
        "Finding differences of reclassification 29 for data pairs 37 of 45.  Elapsed time: 1.99754888886 hours"
       ]
      },
      {
       "output_type": "stream",
       "stream": "stdout",
       "text": [
        "\r",
        "Finding differences of reclassification 29 for data pairs 38 of 45.  Elapsed time: 1.99917694443 hours"
       ]
      },
      {
       "output_type": "stream",
       "stream": "stdout",
       "text": [
        "\r",
        "Finding differences of reclassification 29 for data pairs 39 of 45.  Elapsed time: 2.00074361112 hours"
       ]
      },
      {
       "output_type": "stream",
       "stream": "stdout",
       "text": [
        "\r",
        "Finding differences of reclassification 29 for data pairs 40 of 45.  Elapsed time: 2.00233638889 hours"
       ]
      },
      {
       "output_type": "stream",
       "stream": "stdout",
       "text": [
        "\r",
        "Finding differences of reclassification 29 for data pairs 41 of 45.  Elapsed time: 2.00389722221 hours"
       ]
      },
      {
       "output_type": "stream",
       "stream": "stdout",
       "text": [
        "\r",
        "Finding differences of reclassification 29 for data pairs 42 of 45.  Elapsed time: 2.00559944444 hours"
       ]
      },
      {
       "output_type": "stream",
       "stream": "stdout",
       "text": [
        "\r",
        "Finding differences of reclassification 29 for data pairs 43 of 45.  Elapsed time: 2.00736222221 hours"
       ]
      },
      {
       "output_type": "stream",
       "stream": "stdout",
       "text": [
        "\r",
        "Finding differences of reclassification 29 for data pairs 44 of 45.  Elapsed time: 2.00910666664 hours"
       ]
      },
      {
       "output_type": "stream",
       "stream": "stdout",
       "text": [
        "\r",
        "Finding differences of reclassification 29 for data pairs 45 of 45.  Elapsed time: 2.01091805557 hours"
       ]
      },
      {
       "output_type": "stream",
       "stream": "stdout",
       "text": [
        "\r",
        "Finding differences of reclassification 30 for data pairs 1 of 45.  Elapsed time: 2.01263916665 hours"
       ]
      },
      {
       "output_type": "stream",
       "stream": "stdout",
       "text": [
        "\r",
        "Finding differences of reclassification 30 for data pairs 2 of 45.  Elapsed time: 2.01436916669 hours"
       ]
      },
      {
       "output_type": "stream",
       "stream": "stdout",
       "text": [
        "\r",
        "Finding differences of reclassification 30 for data pairs 3 of 45.  Elapsed time: 2.01607083334 hours"
       ]
      },
      {
       "output_type": "stream",
       "stream": "stdout",
       "text": [
        "\r",
        "Finding differences of reclassification 30 for data pairs 4 of 45.  Elapsed time: 2.01780638887 hours"
       ]
      },
      {
       "output_type": "stream",
       "stream": "stdout",
       "text": [
        "\r",
        "Finding differences of reclassification 30 for data pairs 5 of 45.  Elapsed time: 2.01951888886 hours"
       ]
      },
      {
       "output_type": "stream",
       "stream": "stdout",
       "text": [
        "\r",
        "Finding differences of reclassification 30 for data pairs 6 of 45.  Elapsed time: 2.02117944446 hours"
       ]
      },
      {
       "output_type": "stream",
       "stream": "stdout",
       "text": [
        "\r",
        "Finding differences of reclassification 30 for data pairs 7 of 45.  Elapsed time: 2.02289305554 hours"
       ]
      },
      {
       "output_type": "stream",
       "stream": "stdout",
       "text": [
        "\r",
        "Finding differences of reclassification 30 for data pairs 8 of 45.  Elapsed time: 2.02460861113 hours"
       ]
      },
      {
       "output_type": "stream",
       "stream": "stdout",
       "text": [
        "\r",
        "Finding differences of reclassification 30 for data pairs 9 of 45.  Elapsed time: 2.02616555558 hours"
       ]
      },
      {
       "output_type": "stream",
       "stream": "stdout",
       "text": [
        "\r",
        "Finding differences of reclassification 30 for data pairs 10 of 45.  Elapsed time: 2.02778888888 hours"
       ]
      },
      {
       "output_type": "stream",
       "stream": "stdout",
       "text": [
        "\r",
        "Finding differences of reclassification 30 for data pairs 11 of 45.  Elapsed time: 2.02940305558 hours"
       ]
      },
      {
       "output_type": "stream",
       "stream": "stdout",
       "text": [
        "\r",
        "Finding differences of reclassification 30 for data pairs 12 of 45.  Elapsed time: 2.03102222224 hours"
       ]
      },
      {
       "output_type": "stream",
       "stream": "stdout",
       "text": [
        "\r",
        "Finding differences of reclassification 30 for data pairs 13 of 45.  Elapsed time: 2.032585 hours"
       ]
      },
      {
       "output_type": "stream",
       "stream": "stdout",
       "text": [
        "\r",
        "Finding differences of reclassification 30 for data pairs 14 of 45.  Elapsed time: 2.03417638891 hours"
       ]
      },
      {
       "output_type": "stream",
       "stream": "stdout",
       "text": [
        "\r",
        "Finding differences of reclassification 30 for data pairs 15 of 45.  Elapsed time: 2.03578583333 hours"
       ]
      },
      {
       "output_type": "stream",
       "stream": "stdout",
       "text": [
        "\r",
        "Finding differences of reclassification 30 for data pairs 16 of 45.  Elapsed time: 2.0373633333 hours"
       ]
      },
      {
       "output_type": "stream",
       "stream": "stdout",
       "text": [
        "\r",
        "Finding differences of reclassification 30 for data pairs 17 of 45.  Elapsed time: 2.03893805557 hours"
       ]
      },
      {
       "output_type": "stream",
       "stream": "stdout",
       "text": [
        "\r",
        "Finding differences of reclassification 30 for data pairs 18 of 45.  Elapsed time: 2.0404438889 hours"
       ]
      },
      {
       "output_type": "stream",
       "stream": "stdout",
       "text": [
        "\r",
        "Finding differences of reclassification 30 for data pairs 19 of 45.  Elapsed time: 2.04197944442 hours"
       ]
      },
      {
       "output_type": "stream",
       "stream": "stdout",
       "text": [
        "\r",
        "Finding differences of reclassification 30 for data pairs 20 of 45.  Elapsed time: 2.04354527778 hours"
       ]
      },
      {
       "output_type": "stream",
       "stream": "stdout",
       "text": [
        "\r",
        "Finding differences of reclassification 30 for data pairs 21 of 45.  Elapsed time: 2.04514555554 hours"
       ]
      },
      {
       "output_type": "stream",
       "stream": "stdout",
       "text": [
        "\r",
        "Finding differences of reclassification 30 for data pairs 22 of 45.  Elapsed time: 2.04671472225 hours"
       ]
      },
      {
       "output_type": "stream",
       "stream": "stdout",
       "text": [
        "\r",
        "Finding differences of reclassification 30 for data pairs 23 of 45.  Elapsed time: 2.0482322222 hours"
       ]
      },
      {
       "output_type": "stream",
       "stream": "stdout",
       "text": [
        "\r",
        "Finding differences of reclassification 30 for data pairs 24 of 45.  Elapsed time: 2.049735 hours"
       ]
      },
      {
       "output_type": "stream",
       "stream": "stdout",
       "text": [
        "\r",
        "Finding differences of reclassification 30 for data pairs 25 of 45.  Elapsed time: 2.05126666665 hours"
       ]
      },
      {
       "output_type": "stream",
       "stream": "stdout",
       "text": [
        "\r",
        "Finding differences of reclassification 30 for data pairs 26 of 45.  Elapsed time: 2.05280305558 hours"
       ]
      },
      {
       "output_type": "stream",
       "stream": "stdout",
       "text": [
        "\r",
        "Finding differences of reclassification 30 for data pairs 27 of 45.  Elapsed time: 2.05435833335 hours"
       ]
      },
      {
       "output_type": "stream",
       "stream": "stdout",
       "text": [
        "\r",
        "Finding differences of reclassification 30 for data pairs 28 of 45.  Elapsed time: 2.05595361114 hours"
       ]
      },
      {
       "output_type": "stream",
       "stream": "stdout",
       "text": [
        "\r",
        "Finding differences of reclassification 30 for data pairs 29 of 45.  Elapsed time: 2.05751555555 hours"
       ]
      },
      {
       "output_type": "stream",
       "stream": "stdout",
       "text": [
        "\r",
        "Finding differences of reclassification 30 for data pairs 30 of 45.  Elapsed time: 2.05909027775 hours"
       ]
      },
      {
       "output_type": "stream",
       "stream": "stdout",
       "text": [
        "\r",
        "Finding differences of reclassification 30 for data pairs 31 of 45.  Elapsed time: 2.06072527779 hours"
       ]
      },
      {
       "output_type": "stream",
       "stream": "stdout",
       "text": [
        "\r",
        "Finding differences of reclassification 30 for data pairs 32 of 45.  Elapsed time: 2.06225500001 hours"
       ]
      },
      {
       "output_type": "stream",
       "stream": "stdout",
       "text": [
        "\r",
        "Finding differences of reclassification 30 for data pairs 33 of 45.  Elapsed time: 2.06382305556 hours"
       ]
      },
      {
       "output_type": "stream",
       "stream": "stdout",
       "text": [
        "\r",
        "Finding differences of reclassification 30 for data pairs 34 of 45.  Elapsed time: 2.06536416663 hours"
       ]
      },
      {
       "output_type": "stream",
       "stream": "stdout",
       "text": [
        "\r",
        "Finding differences of reclassification 30 for data pairs 35 of 45.  Elapsed time: 2.06689527777 hours"
       ]
      },
      {
       "output_type": "stream",
       "stream": "stdout",
       "text": [
        "\r",
        "Finding differences of reclassification 30 for data pairs 36 of 45.  Elapsed time: 2.06846361114 hours"
       ]
      },
      {
       "output_type": "stream",
       "stream": "stdout",
       "text": [
        "\r",
        "Finding differences of reclassification 30 for data pairs 37 of 45.  Elapsed time: 2.07006499999 hours"
       ]
      },
      {
       "output_type": "stream",
       "stream": "stdout",
       "text": [
        "\r",
        "Finding differences of reclassification 30 for data pairs 38 of 45.  Elapsed time: 2.07164472222 hours"
       ]
      },
      {
       "output_type": "stream",
       "stream": "stdout",
       "text": [
        "\r",
        "Finding differences of reclassification 30 for data pairs 39 of 45.  Elapsed time: 2.07321361111 hours"
       ]
      },
      {
       "output_type": "stream",
       "stream": "stdout",
       "text": [
        "\r",
        "Finding differences of reclassification 30 for data pairs 40 of 45.  Elapsed time: 2.07482055558 hours"
       ]
      },
      {
       "output_type": "stream",
       "stream": "stdout",
       "text": [
        "\r",
        "Finding differences of reclassification 30 for data pairs 41 of 45.  Elapsed time: 2.07643055558 hours"
       ]
      },
      {
       "output_type": "stream",
       "stream": "stdout",
       "text": [
        "\r",
        "Finding differences of reclassification 30 for data pairs 42 of 45.  Elapsed time: 2.07808277779 hours"
       ]
      },
      {
       "output_type": "stream",
       "stream": "stdout",
       "text": [
        "\r",
        "Finding differences of reclassification 30 for data pairs 43 of 45.  Elapsed time: 2.07969361113 hours"
       ]
      },
      {
       "output_type": "stream",
       "stream": "stdout",
       "text": [
        "\r",
        "Finding differences of reclassification 30 for data pairs 44 of 45.  Elapsed time: 2.0812752778 hours"
       ]
      },
      {
       "output_type": "stream",
       "stream": "stdout",
       "text": [
        "\r",
        "Finding differences of reclassification 30 for data pairs 45 of 45.  Elapsed time: 2.08284500003 hours"
       ]
      },
      {
       "output_type": "stream",
       "stream": "stdout",
       "text": [
        "\r",
        "Finding differences of reclassification 31 for data pairs 1 of 45.  Elapsed time: 2.08441972223 hours"
       ]
      },
      {
       "output_type": "stream",
       "stream": "stdout",
       "text": [
        "\r",
        "Finding differences of reclassification 31 for data pairs 2 of 45.  Elapsed time: 2.08601388892 hours"
       ]
      },
      {
       "output_type": "stream",
       "stream": "stdout",
       "text": [
        "\r",
        "Finding differences of reclassification 31 for data pairs 3 of 45.  Elapsed time: 2.08758666668 hours"
       ]
      },
      {
       "output_type": "stream",
       "stream": "stdout",
       "text": [
        "\r",
        "Finding differences of reclassification 31 for data pairs 4 of 45.  Elapsed time: 2.08918694443 hours"
       ]
      },
      {
       "output_type": "stream",
       "stream": "stdout",
       "text": [
        "\r",
        "Finding differences of reclassification 31 for data pairs 5 of 45.  Elapsed time: 2.09078555557 hours"
       ]
      },
      {
       "output_type": "stream",
       "stream": "stdout",
       "text": [
        "\r",
        "Finding differences of reclassification 31 for data pairs 6 of 45.  Elapsed time: 2.09236583332 hours"
       ]
      },
      {
       "output_type": "stream",
       "stream": "stdout",
       "text": [
        "\r",
        "Finding differences of reclassification 31 for data pairs 7 of 45.  Elapsed time: 2.09400666667 hours"
       ]
      },
      {
       "output_type": "stream",
       "stream": "stdout",
       "text": [
        "\r",
        "Finding differences of reclassification 31 for data pairs 8 of 45.  Elapsed time: 2.09550861114 hours"
       ]
      },
      {
       "output_type": "stream",
       "stream": "stdout",
       "text": [
        "\r",
        "Finding differences of reclassification 31 for data pairs 9 of 45.  Elapsed time: 2.09699583332 hours"
       ]
      },
      {
       "output_type": "stream",
       "stream": "stdout",
       "text": [
        "\r",
        "Finding differences of reclassification 31 for data pairs 10 of 45.  Elapsed time: 2.09847999997 hours"
       ]
      },
      {
       "output_type": "stream",
       "stream": "stdout",
       "text": [
        "\r",
        "Finding differences of reclassification 31 for data pairs 11 of 45.  Elapsed time: 2.09997166667 hours"
       ]
      },
      {
       "output_type": "stream",
       "stream": "stdout",
       "text": [
        "\r",
        "Finding differences of reclassification 31 for data pairs 12 of 45.  Elapsed time: 2.10149694443 hours"
       ]
      },
      {
       "output_type": "stream",
       "stream": "stdout",
       "text": [
        "\r",
        "Finding differences of reclassification 31 for data pairs 13 of 45.  Elapsed time: 2.10299194442 hours"
       ]
      },
      {
       "output_type": "stream",
       "stream": "stdout",
       "text": [
        "\r",
        "Finding differences of reclassification 31 for data pairs 14 of 45.  Elapsed time: 2.10448083334 hours"
       ]
      },
      {
       "output_type": "stream",
       "stream": "stdout",
       "text": [
        "\r",
        "Finding differences of reclassification 31 for data pairs 15 of 45.  Elapsed time: 2.10600361109 hours"
       ]
      },
      {
       "output_type": "stream",
       "stream": "stdout",
       "text": [
        "\r",
        "Finding differences of reclassification 31 for data pairs 16 of 45.  Elapsed time: 2.10750666665 hours"
       ]
      },
      {
       "output_type": "stream",
       "stream": "stdout",
       "text": [
        "\r",
        "Finding differences of reclassification 31 for data pairs 17 of 45.  Elapsed time: 2.10902222223 hours"
       ]
      },
      {
       "output_type": "stream",
       "stream": "stdout",
       "text": [
        "\r",
        "Finding differences of reclassification 31 for data pairs 18 of 45.  Elapsed time: 2.11058166669 hours"
       ]
      },
      {
       "output_type": "stream",
       "stream": "stdout",
       "text": [
        "\r",
        "Finding differences of reclassification 31 for data pairs 19 of 45.  Elapsed time: 2.11209472219 hours"
       ]
      },
      {
       "output_type": "stream",
       "stream": "stdout",
       "text": [
        "\r",
        "Finding differences of reclassification 31 for data pairs 20 of 45.  Elapsed time: 2.11359277778 hours"
       ]
      },
      {
       "output_type": "stream",
       "stream": "stdout",
       "text": [
        "\r",
        "Finding differences of reclassification 31 for data pairs 21 of 45.  Elapsed time: 2.11519305554 hours"
       ]
      },
      {
       "output_type": "stream",
       "stream": "stdout",
       "text": [
        "\r",
        "Finding differences of reclassification 31 for data pairs 22 of 45.  Elapsed time: 2.1167161111 hours"
       ]
      },
      {
       "output_type": "stream",
       "stream": "stdout",
       "text": [
        "\r",
        "Finding differences of reclassification 31 for data pairs 23 of 45.  Elapsed time: 2.1181988889 hours"
       ]
      },
      {
       "output_type": "stream",
       "stream": "stdout",
       "text": [
        "\r",
        "Finding differences of reclassification 31 for data pairs 24 of 45.  Elapsed time: 2.11968472222 hours"
       ]
      },
      {
       "output_type": "stream",
       "stream": "stdout",
       "text": [
        "\r",
        "Finding differences of reclassification 31 for data pairs 25 of 45.  Elapsed time: 2.1211983333 hours"
       ]
      },
      {
       "output_type": "stream",
       "stream": "stdout",
       "text": [
        "\r",
        "Finding differences of reclassification 31 for data pairs 26 of 45.  Elapsed time: 2.12271111111 hours"
       ]
      },
      {
       "output_type": "stream",
       "stream": "stdout",
       "text": [
        "\r",
        "Finding differences of reclassification 31 for data pairs 27 of 45.  Elapsed time: 2.12423583335 hours"
       ]
      },
      {
       "output_type": "stream",
       "stream": "stdout",
       "text": [
        "\r",
        "Finding differences of reclassification 31 for data pairs 28 of 45.  Elapsed time: 2.12579666668 hours"
       ]
      },
      {
       "output_type": "stream",
       "stream": "stdout",
       "text": [
        "\r",
        "Finding differences of reclassification 31 for data pairs 29 of 45.  Elapsed time: 2.12740472224 hours"
       ]
      },
      {
       "output_type": "stream",
       "stream": "stdout",
       "text": [
        "\r",
        "Finding differences of reclassification 31 for data pairs 30 of 45.  Elapsed time: 2.12894499997 hours"
       ]
      },
      {
       "output_type": "stream",
       "stream": "stdout",
       "text": [
        "\r",
        "Finding differences of reclassification 31 for data pairs 31 of 45.  Elapsed time: 2.13046416667 hours"
       ]
      },
      {
       "output_type": "stream",
       "stream": "stdout",
       "text": [
        "\r",
        "Finding differences of reclassification 31 for data pairs 32 of 45.  Elapsed time: 2.13194444444 hours"
       ]
      },
      {
       "output_type": "stream",
       "stream": "stdout",
       "text": [
        "\r",
        "Finding differences of reclassification 31 for data pairs 33 of 45.  Elapsed time: 2.13345444441 hours"
       ]
      },
      {
       "output_type": "stream",
       "stream": "stdout",
       "text": [
        "\r",
        "Finding differences of reclassification 31 for data pairs 34 of 45.  Elapsed time: 2.13495972223 hours"
       ]
      },
      {
       "output_type": "stream",
       "stream": "stdout",
       "text": [
        "\r",
        "Finding differences of reclassification 31 for data pairs 35 of 45.  Elapsed time: 2.13644944443 hours"
       ]
      },
      {
       "output_type": "stream",
       "stream": "stdout",
       "text": [
        "\r",
        "Finding differences of reclassification 31 for data pairs 36 of 45.  Elapsed time: 2.1379327778 hours"
       ]
      },
      {
       "output_type": "stream",
       "stream": "stdout",
       "text": [
        "\r",
        "Finding differences of reclassification 31 for data pairs 37 of 45.  Elapsed time: 2.13944444444 hours"
       ]
      },
      {
       "output_type": "stream",
       "stream": "stdout",
       "text": [
        "\r",
        "Finding differences of reclassification 31 for data pairs 38 of 45.  Elapsed time: 2.14093527781 hours"
       ]
      },
      {
       "output_type": "stream",
       "stream": "stdout",
       "text": [
        "\r",
        "Finding differences of reclassification 31 for data pairs 39 of 45.  Elapsed time: 2.14242472225 hours"
       ]
      },
      {
       "output_type": "stream",
       "stream": "stdout",
       "text": [
        "\r",
        "Finding differences of reclassification 31 for data pairs 40 of 45.  Elapsed time: 2.14399805552 hours"
       ]
      },
      {
       "output_type": "stream",
       "stream": "stdout",
       "text": [
        "\r",
        "Finding differences of reclassification 31 for data pairs 41 of 45.  Elapsed time: 2.14550416668 hours"
       ]
      },
      {
       "output_type": "stream",
       "stream": "stdout",
       "text": [
        "\r",
        "Finding differences of reclassification 31 for data pairs 42 of 45.  Elapsed time: 2.14715333336 hours"
       ]
      },
      {
       "output_type": "stream",
       "stream": "stdout",
       "text": [
        "\r",
        "Finding differences of reclassification 31 for data pairs 43 of 45.  Elapsed time: 2.14866305557 hours"
       ]
      },
      {
       "output_type": "stream",
       "stream": "stdout",
       "text": [
        "\r",
        "Finding differences of reclassification 31 for data pairs 44 of 45.  Elapsed time: 2.15014749997 hours"
       ]
      },
      {
       "output_type": "stream",
       "stream": "stdout",
       "text": [
        "\r",
        "Finding differences of reclassification 31 for data pairs 45 of 45.  Elapsed time: 2.15162583331 hours"
       ]
      },
      {
       "output_type": "stream",
       "stream": "stdout",
       "text": [
        "\r",
        "Finding differences of reclassification 32 for data pairs 1 of 45.  Elapsed time: 2.15311611109 hours"
       ]
      },
      {
       "output_type": "stream",
       "stream": "stdout",
       "text": [
        "\r",
        "Finding differences of reclassification 32 for data pairs 2 of 45.  Elapsed time: 2.15461611112 hours"
       ]
      },
      {
       "output_type": "stream",
       "stream": "stdout",
       "text": [
        "\r",
        "Finding differences of reclassification 32 for data pairs 3 of 45.  Elapsed time: 2.15609444446 hours"
       ]
      },
      {
       "output_type": "stream",
       "stream": "stdout",
       "text": [
        "\r",
        "Finding differences of reclassification 32 for data pairs 4 of 45.  Elapsed time: 2.15760861112 hours"
       ]
      },
      {
       "output_type": "stream",
       "stream": "stdout",
       "text": [
        "\r",
        "Finding differences of reclassification 32 for data pairs 5 of 45.  Elapsed time: 2.15912972225 hours"
       ]
      },
      {
       "output_type": "stream",
       "stream": "stdout",
       "text": [
        "\r",
        "Finding differences of reclassification 32 for data pairs 6 of 45.  Elapsed time: 2.16071749998 hours"
       ]
      },
      {
       "output_type": "stream",
       "stream": "stdout",
       "text": [
        "\r",
        "Finding differences of reclassification 32 for data pairs 7 of 45.  Elapsed time: 2.16227277776 hours"
       ]
      },
      {
       "output_type": "stream",
       "stream": "stdout",
       "text": [
        "\r",
        "Finding differences of reclassification 32 for data pairs 8 of 45.  Elapsed time: 2.16379527774 hours"
       ]
      },
      {
       "output_type": "stream",
       "stream": "stdout",
       "text": [
        "\r",
        "Finding differences of reclassification 32 for data pairs 9 of 45.  Elapsed time: 2.16531305558 hours"
       ]
      },
      {
       "output_type": "stream",
       "stream": "stdout",
       "text": [
        "\r",
        "Finding differences of reclassification 32 for data pairs 10 of 45.  Elapsed time: 2.16683611108 hours"
       ]
      },
      {
       "output_type": "stream",
       "stream": "stdout",
       "text": [
        "\r",
        "Finding differences of reclassification 32 for data pairs 11 of 45.  Elapsed time: 2.16833749996 hours"
       ]
      },
      {
       "output_type": "stream",
       "stream": "stdout",
       "text": [
        "\r",
        "Finding differences of reclassification 32 for data pairs 12 of 45.  Elapsed time: 2.16988583333 hours"
       ]
      },
      {
       "output_type": "stream",
       "stream": "stdout",
       "text": [
        "\r",
        "Finding differences of reclassification 32 for data pairs 13 of 45.  Elapsed time: 2.17139916665 hours"
       ]
      },
      {
       "output_type": "stream",
       "stream": "stdout",
       "text": [
        "\r",
        "Finding differences of reclassification 32 for data pairs 14 of 45.  Elapsed time: 2.17291277779 hours"
       ]
      },
      {
       "output_type": "stream",
       "stream": "stdout",
       "text": [
        "\r",
        "Finding differences of reclassification 32 for data pairs 15 of 45.  Elapsed time: 2.17445638888 hours"
       ]
      },
      {
       "output_type": "stream",
       "stream": "stdout",
       "text": [
        "\r",
        "Finding differences of reclassification 32 for data pairs 16 of 45.  Elapsed time: 2.1759497222 hours"
       ]
      },
      {
       "output_type": "stream",
       "stream": "stdout",
       "text": [
        "\r",
        "Finding differences of reclassification 32 for data pairs 17 of 45.  Elapsed time: 2.17755333331 hours"
       ]
      },
      {
       "output_type": "stream",
       "stream": "stdout",
       "text": [
        "\r",
        "Finding differences of reclassification 32 for data pairs 18 of 45.  Elapsed time: 2.17908055557 hours"
       ]
      },
      {
       "output_type": "stream",
       "stream": "stdout",
       "text": [
        "\r",
        "Finding differences of reclassification 32 for data pairs 19 of 45.  Elapsed time: 2.18058555557 hours"
       ]
      },
      {
       "output_type": "stream",
       "stream": "stdout",
       "text": [
        "\r",
        "Finding differences of reclassification 32 for data pairs 20 of 45.  Elapsed time: 2.18206972222 hours"
       ]
      },
      {
       "output_type": "stream",
       "stream": "stdout",
       "text": [
        "\r",
        "Finding differences of reclassification 32 for data pairs 21 of 45.  Elapsed time: 2.18358083334 hours"
       ]
      },
      {
       "output_type": "stream",
       "stream": "stdout",
       "text": [
        "\r",
        "Finding differences of reclassification 32 for data pairs 22 of 45.  Elapsed time: 2.18512611111 hours"
       ]
      },
      {
       "output_type": "stream",
       "stream": "stdout",
       "text": [
        "\r",
        "Finding differences of reclassification 32 for data pairs 23 of 45.  Elapsed time: 2.18665388889 hours"
       ]
      },
      {
       "output_type": "stream",
       "stream": "stdout",
       "text": [
        "\r",
        "Finding differences of reclassification 32 for data pairs 24 of 45.  Elapsed time: 2.18817666663 hours"
       ]
      },
      {
       "output_type": "stream",
       "stream": "stdout",
       "text": [
        "\r",
        "Finding differences of reclassification 32 for data pairs 25 of 45.  Elapsed time: 2.18971416665 hours"
       ]
      },
      {
       "output_type": "stream",
       "stream": "stdout",
       "text": [
        "\r",
        "Finding differences of reclassification 32 for data pairs 26 of 45.  Elapsed time: 2.19125722223 hours"
       ]
      },
      {
       "output_type": "stream",
       "stream": "stdout",
       "text": [
        "\r",
        "Finding differences of reclassification 32 for data pairs 27 of 45.  Elapsed time: 2.19284666664 hours"
       ]
      },
      {
       "output_type": "stream",
       "stream": "stdout",
       "text": [
        "\r",
        "Finding differences of reclassification 32 for data pairs 28 of 45.  Elapsed time: 2.19452333331 hours"
       ]
      },
      {
       "output_type": "stream",
       "stream": "stdout",
       "text": [
        "\r",
        "Finding differences of reclassification 32 for data pairs 29 of 45.  Elapsed time: 2.19604833331 hours"
       ]
      },
      {
       "output_type": "stream",
       "stream": "stdout",
       "text": [
        "\r",
        "Finding differences of reclassification 32 for data pairs 30 of 45.  Elapsed time: 2.19775666667 hours"
       ]
      },
      {
       "output_type": "stream",
       "stream": "stdout",
       "text": [
        "\r",
        "Finding differences of reclassification 32 for data pairs 31 of 45.  Elapsed time: 2.19931555556 hours"
       ]
      },
      {
       "output_type": "stream",
       "stream": "stdout",
       "text": [
        "\r",
        "Finding differences of reclassification 32 for data pairs 32 of 45.  Elapsed time: 2.20083805554 hours"
       ]
      },
      {
       "output_type": "stream",
       "stream": "stdout",
       "text": [
        "\r",
        "Finding differences of reclassification 32 for data pairs 33 of 45.  Elapsed time: 2.20235277779 hours"
       ]
      },
      {
       "output_type": "stream",
       "stream": "stdout",
       "text": [
        "\r",
        "Finding differences of reclassification 32 for data pairs 34 of 45.  Elapsed time: 2.20387777779 hours"
       ]
      },
      {
       "output_type": "stream",
       "stream": "stdout",
       "text": [
        "\r",
        "Finding differences of reclassification 32 for data pairs 35 of 45.  Elapsed time: 2.20541777776 hours"
       ]
      },
      {
       "output_type": "stream",
       "stream": "stdout",
       "text": [
        "\r",
        "Finding differences of reclassification 32 for data pairs 36 of 45.  Elapsed time: 2.2071036111 hours"
       ]
      },
      {
       "output_type": "stream",
       "stream": "stdout",
       "text": [
        "\r",
        "Finding differences of reclassification 32 for data pairs 37 of 45.  Elapsed time: 2.20874916666 hours"
       ]
      },
      {
       "output_type": "stream",
       "stream": "stdout",
       "text": [
        "\r",
        "Finding differences of reclassification 32 for data pairs 38 of 45.  Elapsed time: 2.21063944446 hours"
       ]
      },
      {
       "output_type": "stream",
       "stream": "stdout",
       "text": [
        "\r",
        "Finding differences of reclassification 32 for data pairs 39 of 45.  Elapsed time: 2.21238416665 hours"
       ]
      },
      {
       "output_type": "stream",
       "stream": "stdout",
       "text": [
        "\r",
        "Finding differences of reclassification 32 for data pairs 40 of 45.  Elapsed time: 2.21397055553 hours"
       ]
      },
      {
       "output_type": "stream",
       "stream": "stdout",
       "text": [
        "\r",
        "Finding differences of reclassification 32 for data pairs 41 of 45.  Elapsed time: 2.21559194446 hours"
       ]
      },
      {
       "output_type": "stream",
       "stream": "stdout",
       "text": [
        "\r",
        "Finding differences of reclassification 32 for data pairs 42 of 45.  Elapsed time: 2.21719833334 hours"
       ]
      },
      {
       "output_type": "stream",
       "stream": "stdout",
       "text": [
        "\r",
        "Finding differences of reclassification 32 for data pairs 43 of 45.  Elapsed time: 2.21876888891 hours"
       ]
      },
      {
       "output_type": "stream",
       "stream": "stdout",
       "text": [
        "\r",
        "Finding differences of reclassification 32 for data pairs 44 of 45.  Elapsed time: 2.22029361109 hours"
       ]
      },
      {
       "output_type": "stream",
       "stream": "stdout",
       "text": [
        "\r",
        "Finding differences of reclassification 32 for data pairs 45 of 45.  Elapsed time: 2.22185777777 hours"
       ]
      },
      {
       "output_type": "stream",
       "stream": "stdout",
       "text": [
        "\r",
        "Finding differences of reclassification 33 for data pairs 1 of 45.  Elapsed time: 2.22344722225 hours"
       ]
      },
      {
       "output_type": "stream",
       "stream": "stdout",
       "text": [
        "\r",
        "Finding differences of reclassification 33 for data pairs 2 of 45.  Elapsed time: 2.22499749998 hours"
       ]
      },
      {
       "output_type": "stream",
       "stream": "stdout",
       "text": [
        "\r",
        "Finding differences of reclassification 33 for data pairs 3 of 45.  Elapsed time: 2.22656777779 hours"
       ]
      },
      {
       "output_type": "stream",
       "stream": "stdout",
       "text": [
        "\r",
        "Finding differences of reclassification 33 for data pairs 4 of 45.  Elapsed time: 2.22815222224 hours"
       ]
      },
      {
       "output_type": "stream",
       "stream": "stdout",
       "text": [
        "\r",
        "Finding differences of reclassification 33 for data pairs 5 of 45.  Elapsed time: 2.22979833331 hours"
       ]
      },
      {
       "output_type": "stream",
       "stream": "stdout",
       "text": [
        "\r",
        "Finding differences of reclassification 33 for data pairs 6 of 45.  Elapsed time: 2.23138472219 hours"
       ]
      },
      {
       "output_type": "stream",
       "stream": "stdout",
       "text": [
        "\r",
        "Finding differences of reclassification 33 for data pairs 7 of 45.  Elapsed time: 2.23291777776 hours"
       ]
      },
      {
       "output_type": "stream",
       "stream": "stdout",
       "text": [
        "\r",
        "Finding differences of reclassification 33 for data pairs 8 of 45.  Elapsed time: 2.23446083334 hours"
       ]
      },
      {
       "output_type": "stream",
       "stream": "stdout",
       "text": [
        "\r",
        "Finding differences of reclassification 33 for data pairs 9 of 45.  Elapsed time: 2.23604666664 hours"
       ]
      },
      {
       "output_type": "stream",
       "stream": "stdout",
       "text": [
        "\r",
        "Finding differences of reclassification 33 for data pairs 10 of 45.  Elapsed time: 2.23754972219 hours"
       ]
      },
      {
       "output_type": "stream",
       "stream": "stdout",
       "text": [
        "\r",
        "Finding differences of reclassification 33 for data pairs 11 of 45.  Elapsed time: 2.23914722224 hours"
       ]
      },
      {
       "output_type": "stream",
       "stream": "stdout",
       "text": [
        "\r",
        "Finding differences of reclassification 33 for data pairs 12 of 45.  Elapsed time: 2.24072638889 hours"
       ]
      },
      {
       "output_type": "stream",
       "stream": "stdout",
       "text": [
        "\r",
        "Finding differences of reclassification 33 for data pairs 13 of 45.  Elapsed time: 2.24225194441 hours"
       ]
      },
      {
       "output_type": "stream",
       "stream": "stdout",
       "text": [
        "\r",
        "Finding differences of reclassification 33 for data pairs 14 of 45.  Elapsed time: 2.24390305552 hours"
       ]
      },
      {
       "output_type": "stream",
       "stream": "stdout",
       "text": [
        "\r",
        "Finding differences of reclassification 33 for data pairs 15 of 45.  Elapsed time: 2.24544722219 hours"
       ]
      },
      {
       "output_type": "stream",
       "stream": "stdout",
       "text": [
        "\r",
        "Finding differences of reclassification 33 for data pairs 16 of 45.  Elapsed time: 2.24697277778 hours"
       ]
      },
      {
       "output_type": "stream",
       "stream": "stdout",
       "text": [
        "\r",
        "Finding differences of reclassification 33 for data pairs 17 of 45.  Elapsed time: 2.24851305558 hours"
       ]
      },
      {
       "output_type": "stream",
       "stream": "stdout",
       "text": [
        "\r",
        "Finding differences of reclassification 33 for data pairs 18 of 45.  Elapsed time: 2.25001916667 hours"
       ]
      },
      {
       "output_type": "stream",
       "stream": "stdout",
       "text": [
        "\r",
        "Finding differences of reclassification 33 for data pairs 19 of 45.  Elapsed time: 2.25173749997 hours"
       ]
      },
      {
       "output_type": "stream",
       "stream": "stdout",
       "text": [
        "\r",
        "Finding differences of reclassification 33 for data pairs 20 of 45.  Elapsed time: 2.25332999998 hours"
       ]
      },
      {
       "output_type": "stream",
       "stream": "stdout",
       "text": [
        "\r",
        "Finding differences of reclassification 33 for data pairs 21 of 45.  Elapsed time: 2.2548938889 hours"
       ]
      },
      {
       "output_type": "stream",
       "stream": "stdout",
       "text": [
        "\r",
        "Finding differences of reclassification 33 for data pairs 22 of 45.  Elapsed time: 2.2564411111 hours"
       ]
      },
      {
       "output_type": "stream",
       "stream": "stdout",
       "text": [
        "\r",
        "Finding differences of reclassification 33 for data pairs 23 of 45.  Elapsed time: 2.25795805554 hours"
       ]
      },
      {
       "output_type": "stream",
       "stream": "stdout",
       "text": [
        "\r",
        "Finding differences of reclassification 33 for data pairs 24 of 45.  Elapsed time: 2.25949027777 hours"
       ]
      },
      {
       "output_type": "stream",
       "stream": "stdout",
       "text": [
        "\r",
        "Finding differences of reclassification 33 for data pairs 25 of 45.  Elapsed time: 2.26110805558 hours"
       ]
      },
      {
       "output_type": "stream",
       "stream": "stdout",
       "text": [
        "\r",
        "Finding differences of reclassification 33 for data pairs 26 of 45.  Elapsed time: 2.26263972223 hours"
       ]
      },
      {
       "output_type": "stream",
       "stream": "stdout",
       "text": [
        "\r",
        "Finding differences of reclassification 33 for data pairs 27 of 45.  Elapsed time: 2.26417861111 hours"
       ]
      },
      {
       "output_type": "stream",
       "stream": "stdout",
       "text": [
        "\r",
        "Finding differences of reclassification 33 for data pairs 28 of 45.  Elapsed time: 2.26574944443 hours"
       ]
      },
      {
       "output_type": "stream",
       "stream": "stdout",
       "text": [
        "\r",
        "Finding differences of reclassification 33 for data pairs 29 of 45.  Elapsed time: 2.26729305552 hours"
       ]
      },
      {
       "output_type": "stream",
       "stream": "stdout",
       "text": [
        "\r",
        "Finding differences of reclassification 33 for data pairs 30 of 45.  Elapsed time: 2.26884999997 hours"
       ]
      },
      {
       "output_type": "stream",
       "stream": "stdout",
       "text": [
        "\r",
        "Finding differences of reclassification 33 for data pairs 31 of 45.  Elapsed time: 2.27039194445 hours"
       ]
      },
      {
       "output_type": "stream",
       "stream": "stdout",
       "text": [
        "\r",
        "Finding differences of reclassification 33 for data pairs 32 of 45.  Elapsed time: 2.27189888888 hours"
       ]
      },
      {
       "output_type": "stream",
       "stream": "stdout",
       "text": [
        "\r",
        "Finding differences of reclassification 33 for data pairs 33 of 45.  Elapsed time: 2.2734252778 hours"
       ]
      },
      {
       "output_type": "stream",
       "stream": "stdout",
       "text": [
        "\r",
        "Finding differences of reclassification 33 for data pairs 34 of 45.  Elapsed time: 2.27495500002 hours"
       ]
      },
      {
       "output_type": "stream",
       "stream": "stdout",
       "text": [
        "\r",
        "Finding differences of reclassification 33 for data pairs 35 of 45.  Elapsed time: 2.27650999996 hours"
       ]
      },
      {
       "output_type": "stream",
       "stream": "stdout",
       "text": [
        "\r",
        "Finding differences of reclassification 33 for data pairs 36 of 45.  Elapsed time: 2.2780511111 hours"
       ]
      },
      {
       "output_type": "stream",
       "stream": "stdout",
       "text": [
        "\r",
        "Finding differences of reclassification 33 for data pairs 37 of 45.  Elapsed time: 2.27958555553 hours"
       ]
      },
      {
       "output_type": "stream",
       "stream": "stdout",
       "text": [
        "\r",
        "Finding differences of reclassification 33 for data pairs 38 of 45.  Elapsed time: 2.28109805557 hours"
       ]
      },
      {
       "output_type": "stream",
       "stream": "stdout",
       "text": [
        "\r",
        "Finding differences of reclassification 33 for data pairs 39 of 45.  Elapsed time: 2.28267083334 hours"
       ]
      },
      {
       "output_type": "stream",
       "stream": "stdout",
       "text": [
        "\r",
        "Finding differences of reclassification 33 for data pairs 40 of 45.  Elapsed time: 2.28426055557 hours"
       ]
      },
      {
       "output_type": "stream",
       "stream": "stdout",
       "text": [
        "\r",
        "Finding differences of reclassification 33 for data pairs 41 of 45.  Elapsed time: 2.28589749999 hours"
       ]
      },
      {
       "output_type": "stream",
       "stream": "stdout",
       "text": [
        "\r",
        "Finding differences of reclassification 33 for data pairs 42 of 45.  Elapsed time: 2.28751666665 hours"
       ]
      },
      {
       "output_type": "stream",
       "stream": "stdout",
       "text": [
        "\r",
        "Finding differences of reclassification 33 for data pairs 43 of 45.  Elapsed time: 2.28915277779 hours"
       ]
      },
      {
       "output_type": "stream",
       "stream": "stdout",
       "text": [
        "\r",
        "Finding differences of reclassification 33 for data pairs 44 of 45.  Elapsed time: 2.29071694447 hours"
       ]
      },
      {
       "output_type": "stream",
       "stream": "stdout",
       "text": [
        "\r",
        "Finding differences of reclassification 33 for data pairs 45 of 45.  Elapsed time: 2.2923077778 hours"
       ]
      },
      {
       "output_type": "stream",
       "stream": "stdout",
       "text": [
        "\r",
        "Finding differences of reclassification 34 for data pairs 1 of 45.  Elapsed time: 2.29389888889 hours"
       ]
      },
      {
       "output_type": "stream",
       "stream": "stdout",
       "text": [
        "\r",
        "Finding differences of reclassification 34 for data pairs 2 of 45.  Elapsed time: 2.29540722224 hours"
       ]
      },
      {
       "output_type": "stream",
       "stream": "stdout",
       "text": [
        "\r",
        "Finding differences of reclassification 34 for data pairs 3 of 45.  Elapsed time: 2.29686444441 hours"
       ]
      },
      {
       "output_type": "stream",
       "stream": "stdout",
       "text": [
        "\r",
        "Finding differences of reclassification 34 for data pairs 4 of 45.  Elapsed time: 2.29834916664 hours"
       ]
      },
      {
       "output_type": "stream",
       "stream": "stdout",
       "text": [
        "\r",
        "Finding differences of reclassification 34 for data pairs 5 of 45.  Elapsed time: 2.29981916666 hours"
       ]
      },
      {
       "output_type": "stream",
       "stream": "stdout",
       "text": [
        "\r",
        "Finding differences of reclassification 34 for data pairs 6 of 45.  Elapsed time: 2.30127166669 hours"
       ]
      },
      {
       "output_type": "stream",
       "stream": "stdout",
       "text": [
        "\r",
        "Finding differences of reclassification 34 for data pairs 7 of 45.  Elapsed time: 2.30275527775 hours"
       ]
      },
      {
       "output_type": "stream",
       "stream": "stdout",
       "text": [
        "\r",
        "Finding differences of reclassification 34 for data pairs 8 of 45.  Elapsed time: 2.3042436111 hours"
       ]
      },
      {
       "output_type": "stream",
       "stream": "stdout",
       "text": [
        "\r",
        "Finding differences of reclassification 34 for data pairs 9 of 45.  Elapsed time: 2.30571805557 hours"
       ]
      },
      {
       "output_type": "stream",
       "stream": "stdout",
       "text": [
        "\r",
        "Finding differences of reclassification 34 for data pairs 10 of 45.  Elapsed time: 2.30717166669 hours"
       ]
      },
      {
       "output_type": "stream",
       "stream": "stdout",
       "text": [
        "\r",
        "Finding differences of reclassification 34 for data pairs 11 of 45.  Elapsed time: 2.30864305556 hours"
       ]
      },
      {
       "output_type": "stream",
       "stream": "stdout",
       "text": [
        "\r",
        "Finding differences of reclassification 34 for data pairs 12 of 45.  Elapsed time: 2.31023527775 hours"
       ]
      },
      {
       "output_type": "stream",
       "stream": "stdout",
       "text": [
        "\r",
        "Finding differences of reclassification 34 for data pairs 13 of 45.  Elapsed time: 2.31171361109 hours"
       ]
      },
      {
       "output_type": "stream",
       "stream": "stdout",
       "text": [
        "\r",
        "Finding differences of reclassification 34 for data pairs 14 of 45.  Elapsed time: 2.31320972224 hours"
       ]
      },
      {
       "output_type": "stream",
       "stream": "stdout",
       "text": [
        "\r",
        "Finding differences of reclassification 34 for data pairs 15 of 45.  Elapsed time: 2.31472611109 hours"
       ]
      },
      {
       "output_type": "stream",
       "stream": "stdout",
       "text": [
        "\r",
        "Finding differences of reclassification 34 for data pairs 16 of 45.  Elapsed time: 2.31619972222 hours"
       ]
      },
      {
       "output_type": "stream",
       "stream": "stdout",
       "text": [
        "\r",
        "Finding differences of reclassification 34 for data pairs 17 of 45.  Elapsed time: 2.3176922222 hours"
       ]
      },
      {
       "output_type": "stream",
       "stream": "stdout",
       "text": [
        "\r",
        "Finding differences of reclassification 34 for data pairs 18 of 45.  Elapsed time: 2.31916305555 hours"
       ]
      },
      {
       "output_type": "stream",
       "stream": "stdout",
       "text": [
        "\r",
        "Finding differences of reclassification 34 for data pairs 19 of 45.  Elapsed time: 2.32064638886 hours"
       ]
      },
      {
       "output_type": "stream",
       "stream": "stdout",
       "text": [
        "\r",
        "Finding differences of reclassification 34 for data pairs 20 of 45.  Elapsed time: 2.32210166666 hours"
       ]
      },
      {
       "output_type": "stream",
       "stream": "stdout",
       "text": [
        "\r",
        "Finding differences of reclassification 34 for data pairs 21 of 45.  Elapsed time: 2.32357527779 hours"
       ]
      },
      {
       "output_type": "stream",
       "stream": "stdout",
       "text": [
        "\r",
        "Finding differences of reclassification 34 for data pairs 22 of 45.  Elapsed time: 2.32506138888 hours"
       ]
      },
      {
       "output_type": "stream",
       "stream": "stdout",
       "text": [
        "\r",
        "Finding differences of reclassification 34 for data pairs 23 of 45.  Elapsed time: 2.32655777779 hours"
       ]
      },
      {
       "output_type": "stream",
       "stream": "stdout",
       "text": [
        "\r",
        "Finding differences of reclassification 34 for data pairs 24 of 45.  Elapsed time: 2.32805833333 hours"
       ]
      },
      {
       "output_type": "stream",
       "stream": "stdout",
       "text": [
        "\r",
        "Finding differences of reclassification 34 for data pairs 25 of 45.  Elapsed time: 2.32953111112 hours"
       ]
      },
      {
       "output_type": "stream",
       "stream": "stdout",
       "text": [
        "\r",
        "Finding differences of reclassification 34 for data pairs 26 of 45.  Elapsed time: 2.33100138889 hours"
       ]
      },
      {
       "output_type": "stream",
       "stream": "stdout",
       "text": [
        "\r",
        "Finding differences of reclassification 34 for data pairs 27 of 45.  Elapsed time: 2.33248527779 hours"
       ]
      },
      {
       "output_type": "stream",
       "stream": "stdout",
       "text": [
        "\r",
        "Finding differences of reclassification 34 for data pairs 28 of 45.  Elapsed time: 2.33409416669 hours"
       ]
      },
      {
       "output_type": "stream",
       "stream": "stdout",
       "text": [
        "\r",
        "Finding differences of reclassification 34 for data pairs 29 of 45.  Elapsed time: 2.33585916665 hours"
       ]
      },
      {
       "output_type": "stream",
       "stream": "stdout",
       "text": [
        "\r",
        "Finding differences of reclassification 34 for data pairs 30 of 45.  Elapsed time: 2.33757833335 hours"
       ]
      },
      {
       "output_type": "stream",
       "stream": "stdout",
       "text": [
        "\r",
        "Finding differences of reclassification 34 for data pairs 31 of 45.  Elapsed time: 2.33912583331 hours"
       ]
      },
      {
       "output_type": "stream",
       "stream": "stdout",
       "text": [
        "\r",
        "Finding differences of reclassification 34 for data pairs 32 of 45.  Elapsed time: 2.34057694442 hours"
       ]
      },
      {
       "output_type": "stream",
       "stream": "stdout",
       "text": [
        "\r",
        "Finding differences of reclassification 34 for data pairs 33 of 45.  Elapsed time: 2.34209972223 hours"
       ]
      },
      {
       "output_type": "stream",
       "stream": "stdout",
       "text": [
        "\r",
        "Finding differences of reclassification 34 for data pairs 34 of 45.  Elapsed time: 2.34371500002 hours"
       ]
      },
      {
       "output_type": "stream",
       "stream": "stdout",
       "text": [
        "\r",
        "Finding differences of reclassification 34 for data pairs 35 of 45.  Elapsed time: 2.3453833333 hours"
       ]
      },
      {
       "output_type": "stream",
       "stream": "stdout",
       "text": [
        "\r",
        "Finding differences of reclassification 34 for data pairs 36 of 45.  Elapsed time: 2.34699777775 hours"
       ]
      },
      {
       "output_type": "stream",
       "stream": "stdout",
       "text": [
        "\r",
        "Finding differences of reclassification 34 for data pairs 37 of 45.  Elapsed time: 2.34859777775 hours"
       ]
      },
      {
       "output_type": "stream",
       "stream": "stdout",
       "text": [
        "\r",
        "Finding differences of reclassification 34 for data pairs 38 of 45.  Elapsed time: 2.35010583334 hours"
       ]
      },
      {
       "output_type": "stream",
       "stream": "stdout",
       "text": [
        "\r",
        "Finding differences of reclassification 34 for data pairs 39 of 45.  Elapsed time: 2.35157666663 hours"
       ]
      },
      {
       "output_type": "stream",
       "stream": "stdout",
       "text": [
        "\r",
        "Finding differences of reclassification 34 for data pairs 40 of 45.  Elapsed time: 2.35307499998 hours"
       ]
      },
      {
       "output_type": "stream",
       "stream": "stdout",
       "text": [
        "\r",
        "Finding differences of reclassification 34 for data pairs 41 of 45.  Elapsed time: 2.35457916664 hours"
       ]
      },
      {
       "output_type": "stream",
       "stream": "stdout",
       "text": [
        "\r",
        "Finding differences of reclassification 34 for data pairs 42 of 45.  Elapsed time: 2.35615305556 hours"
       ]
      },
      {
       "output_type": "stream",
       "stream": "stdout",
       "text": [
        "\r",
        "Finding differences of reclassification 34 for data pairs 43 of 45.  Elapsed time: 2.35775472224 hours"
       ]
      },
      {
       "output_type": "stream",
       "stream": "stdout",
       "text": [
        "\r",
        "Finding differences of reclassification 34 for data pairs 44 of 45.  Elapsed time: 2.35923222224 hours"
       ]
      },
      {
       "output_type": "stream",
       "stream": "stdout",
       "text": [
        "\r",
        "Finding differences of reclassification 34 for data pairs 45 of 45.  Elapsed time: 2.3608161111 hours"
       ]
      },
      {
       "output_type": "stream",
       "stream": "stdout",
       "text": [
        "\r",
        "Finding differences of reclassification 35 for data pairs 1 of 45.  Elapsed time: 2.36235027777 hours"
       ]
      },
      {
       "output_type": "stream",
       "stream": "stdout",
       "text": [
        "\r",
        "Finding differences of reclassification 35 for data pairs 2 of 45.  Elapsed time: 2.36384361108 hours"
       ]
      },
      {
       "output_type": "stream",
       "stream": "stdout",
       "text": [
        "\r",
        "Finding differences of reclassification 35 for data pairs 3 of 45.  Elapsed time: 2.36531666663 hours"
       ]
      },
      {
       "output_type": "stream",
       "stream": "stdout",
       "text": [
        "\r",
        "Finding differences of reclassification 35 for data pairs 4 of 45.  Elapsed time: 2.36681111111 hours"
       ]
      },
      {
       "output_type": "stream",
       "stream": "stdout",
       "text": [
        "\r",
        "Finding differences of reclassification 35 for data pairs 5 of 45.  Elapsed time: 2.36830194447 hours"
       ]
      },
      {
       "output_type": "stream",
       "stream": "stdout",
       "text": [
        "\r",
        "Finding differences of reclassification 35 for data pairs 6 of 45.  Elapsed time: 2.36977194442 hours"
       ]
      },
      {
       "output_type": "stream",
       "stream": "stdout",
       "text": [
        "\r",
        "Finding differences of reclassification 35 for data pairs 7 of 45.  Elapsed time: 2.3712652778 hours"
       ]
      },
      {
       "output_type": "stream",
       "stream": "stdout",
       "text": [
        "\r",
        "Finding differences of reclassification 35 for data pairs 8 of 45.  Elapsed time: 2.37277166665 hours"
       ]
      },
      {
       "output_type": "stream",
       "stream": "stdout",
       "text": [
        "\r",
        "Finding differences of reclassification 35 for data pairs 9 of 45.  Elapsed time: 2.37424027774 hours"
       ]
      },
      {
       "output_type": "stream",
       "stream": "stdout",
       "text": [
        "\r",
        "Finding differences of reclassification 35 for data pairs 10 of 45.  Elapsed time: 2.37570166667 hours"
       ]
      },
      {
       "output_type": "stream",
       "stream": "stdout",
       "text": [
        "\r",
        "Finding differences of reclassification 35 for data pairs 11 of 45.  Elapsed time: 2.37724916663 hours"
       ]
      },
      {
       "output_type": "stream",
       "stream": "stdout",
       "text": [
        "\r",
        "Finding differences of reclassification 35 for data pairs 12 of 45.  Elapsed time: 2.37874749998 hours"
       ]
      },
      {
       "output_type": "stream",
       "stream": "stdout",
       "text": [
        "\r",
        "Finding differences of reclassification 35 for data pairs 13 of 45.  Elapsed time: 2.38020833333 hours"
       ]
      },
      {
       "output_type": "stream",
       "stream": "stdout",
       "text": [
        "\r",
        "Finding differences of reclassification 35 for data pairs 14 of 45.  Elapsed time: 2.3816738889 hours"
       ]
      },
      {
       "output_type": "stream",
       "stream": "stdout",
       "text": [
        "\r",
        "Finding differences of reclassification 35 for data pairs 15 of 45.  Elapsed time: 2.38317500002 hours"
       ]
      },
      {
       "output_type": "stream",
       "stream": "stdout",
       "text": [
        "\r",
        "Finding differences of reclassification 35 for data pairs 16 of 45.  Elapsed time: 2.38464972225 hours"
       ]
      },
      {
       "output_type": "stream",
       "stream": "stdout",
       "text": [
        "\r",
        "Finding differences of reclassification 35 for data pairs 17 of 45.  Elapsed time: 2.38615361108 hours"
       ]
      },
      {
       "output_type": "stream",
       "stream": "stdout",
       "text": [
        "\r",
        "Finding differences of reclassification 35 for data pairs 18 of 45.  Elapsed time: 2.38762166666 hours"
       ]
      },
      {
       "output_type": "stream",
       "stream": "stdout",
       "text": [
        "\r",
        "Finding differences of reclassification 35 for data pairs 19 of 45.  Elapsed time: 2.38911944442 hours"
       ]
      },
      {
       "output_type": "stream",
       "stream": "stdout",
       "text": [
        "\r",
        "Finding differences of reclassification 35 for data pairs 20 of 45.  Elapsed time: 2.39058444447 hours"
       ]
      },
      {
       "output_type": "stream",
       "stream": "stdout",
       "text": [
        "\r",
        "Finding differences of reclassification 35 for data pairs 21 of 45.  Elapsed time: 2.39207083331 hours"
       ]
      },
      {
       "output_type": "stream",
       "stream": "stdout",
       "text": [
        "\r",
        "Finding differences of reclassification 35 for data pairs 22 of 45.  Elapsed time: 2.39362194445 hours"
       ]
      },
      {
       "output_type": "stream",
       "stream": "stdout",
       "text": [
        "\r",
        "Finding differences of reclassification 35 for data pairs 23 of 45.  Elapsed time: 2.39508638885 hours"
       ]
      },
      {
       "output_type": "stream",
       "stream": "stdout",
       "text": [
        "\r",
        "Finding differences of reclassification 35 for data pairs 24 of 45.  Elapsed time: 2.39655749997 hours"
       ]
      },
      {
       "output_type": "stream",
       "stream": "stdout",
       "text": [
        "\r",
        "Finding differences of reclassification 35 for data pairs 25 of 45.  Elapsed time: 2.3980388889 hours"
       ]
      },
      {
       "output_type": "stream",
       "stream": "stdout",
       "text": [
        "\r",
        "Finding differences of reclassification 35 for data pairs 26 of 45.  Elapsed time: 2.39951499999 hours"
       ]
      },
      {
       "output_type": "stream",
       "stream": "stdout",
       "text": [
        "\r",
        "Finding differences of reclassification 35 for data pairs 27 of 45.  Elapsed time: 2.4009972222 hours"
       ]
      },
      {
       "output_type": "stream",
       "stream": "stdout",
       "text": [
        "\r",
        "Finding differences of reclassification 35 for data pairs 28 of 45.  Elapsed time: 2.40252416664 hours"
       ]
      },
      {
       "output_type": "stream",
       "stream": "stdout",
       "text": [
        "\r",
        "Finding differences of reclassification 35 for data pairs 29 of 45.  Elapsed time: 2.40401555558 hours"
       ]
      },
      {
       "output_type": "stream",
       "stream": "stdout",
       "text": [
        "\r",
        "Finding differences of reclassification 35 for data pairs 30 of 45.  Elapsed time: 2.40552444445 hours"
       ]
      },
      {
       "output_type": "stream",
       "stream": "stdout",
       "text": [
        "\r",
        "Finding differences of reclassification 35 for data pairs 31 of 45.  Elapsed time: 2.40701777776 hours"
       ]
      },
      {
       "output_type": "stream",
       "stream": "stdout",
       "text": [
        "\r",
        "Finding differences of reclassification 35 for data pairs 32 of 45.  Elapsed time: 2.408475 hours"
       ]
      },
      {
       "output_type": "stream",
       "stream": "stdout",
       "text": [
        "\r",
        "Finding differences of reclassification 35 for data pairs 33 of 45.  Elapsed time: 2.41003805558 hours"
       ]
      },
      {
       "output_type": "stream",
       "stream": "stdout",
       "text": [
        "\r",
        "Finding differences of reclassification 35 for data pairs 34 of 45.  Elapsed time: 2.41152638886 hours"
       ]
      },
      {
       "output_type": "stream",
       "stream": "stdout",
       "text": [
        "\r",
        "Finding differences of reclassification 35 for data pairs 35 of 45.  Elapsed time: 2.41300166667 hours"
       ]
      },
      {
       "output_type": "stream",
       "stream": "stdout",
       "text": [
        "\r",
        "Finding differences of reclassification 35 for data pairs 36 of 45.  Elapsed time: 2.41446722223 hours"
       ]
      },
      {
       "output_type": "stream",
       "stream": "stdout",
       "text": [
        "\r",
        "Finding differences of reclassification 35 for data pairs 37 of 45.  Elapsed time: 2.41598166664 hours"
       ]
      },
      {
       "output_type": "stream",
       "stream": "stdout",
       "text": [
        "\r",
        "Finding differences of reclassification 35 for data pairs 38 of 45.  Elapsed time: 2.41747083333 hours"
       ]
      },
      {
       "output_type": "stream",
       "stream": "stdout",
       "text": [
        "\r",
        "Finding differences of reclassification 35 for data pairs 39 of 45.  Elapsed time: 2.41893611113 hours"
       ]
      },
      {
       "output_type": "stream",
       "stream": "stdout",
       "text": [
        "\r",
        "Finding differences of reclassification 35 for data pairs 40 of 45.  Elapsed time: 2.4204297222 hours"
       ]
      },
      {
       "output_type": "stream",
       "stream": "stdout",
       "text": [
        "\r",
        "Finding differences of reclassification 35 for data pairs 41 of 45.  Elapsed time: 2.42192416668 hours"
       ]
      },
      {
       "output_type": "stream",
       "stream": "stdout",
       "text": [
        "\r",
        "Finding differences of reclassification 35 for data pairs 42 of 45.  Elapsed time: 2.42342888892 hours"
       ]
      },
      {
       "output_type": "stream",
       "stream": "stdout",
       "text": [
        "\r",
        "Finding differences of reclassification 35 for data pairs 43 of 45.  Elapsed time: 2.42492472225 hours"
       ]
      },
      {
       "output_type": "stream",
       "stream": "stdout",
       "text": [
        "\r",
        "Finding differences of reclassification 35 for data pairs 44 of 45.  Elapsed time: 2.4264663889 hours"
       ]
      },
      {
       "output_type": "stream",
       "stream": "stdout",
       "text": [
        "\r",
        "Finding differences of reclassification 35 for data pairs 45 of 45.  Elapsed time: 2.42801083333 hours"
       ]
      },
      {
       "output_type": "stream",
       "stream": "stdout",
       "text": [
        "\r",
        "Finding differences of reclassification 36 for data pairs 1 of 45.  Elapsed time: 2.42947861109 hours"
       ]
      },
      {
       "output_type": "stream",
       "stream": "stdout",
       "text": [
        "\r",
        "Finding differences of reclassification 36 for data pairs 2 of 45.  Elapsed time: 2.43095833335 hours"
       ]
      },
      {
       "output_type": "stream",
       "stream": "stdout",
       "text": [
        "\r",
        "Finding differences of reclassification 36 for data pairs 3 of 45.  Elapsed time: 2.43244555553 hours"
       ]
      },
      {
       "output_type": "stream",
       "stream": "stdout",
       "text": [
        "\r",
        "Finding differences of reclassification 36 for data pairs 4 of 45.  Elapsed time: 2.43394916667 hours"
       ]
      },
      {
       "output_type": "stream",
       "stream": "stdout",
       "text": [
        "\r",
        "Finding differences of reclassification 36 for data pairs 5 of 45.  Elapsed time: 2.43550527778 hours"
       ]
      },
      {
       "output_type": "stream",
       "stream": "stdout",
       "text": [
        "\r",
        "Finding differences of reclassification 36 for data pairs 6 of 45.  Elapsed time: 2.43703722219 hours"
       ]
      },
      {
       "output_type": "stream",
       "stream": "stdout",
       "text": [
        "\r",
        "Finding differences of reclassification 36 for data pairs 7 of 45.  Elapsed time: 2.43855833332 hours"
       ]
      },
      {
       "output_type": "stream",
       "stream": "stdout",
       "text": [
        "\r",
        "Finding differences of reclassification 36 for data pairs 8 of 45.  Elapsed time: 2.4400838889 hours"
       ]
      },
      {
       "output_type": "stream",
       "stream": "stdout",
       "text": [
        "\r",
        "Finding differences of reclassification 36 for data pairs 9 of 45.  Elapsed time: 2.44169055555 hours"
       ]
      },
      {
       "output_type": "stream",
       "stream": "stdout",
       "text": [
        "\r",
        "Finding differences of reclassification 36 for data pairs 10 of 45.  Elapsed time: 2.44329833335 hours"
       ]
      },
      {
       "output_type": "stream",
       "stream": "stdout",
       "text": [
        "\r",
        "Finding differences of reclassification 36 for data pairs 11 of 45.  Elapsed time: 2.44488750001 hours"
       ]
      },
      {
       "output_type": "stream",
       "stream": "stdout",
       "text": [
        "\r",
        "Finding differences of reclassification 36 for data pairs 12 of 45.  Elapsed time: 2.44646277779 hours"
       ]
      },
      {
       "output_type": "stream",
       "stream": "stdout",
       "text": [
        "\r",
        "Finding differences of reclassification 36 for data pairs 13 of 45.  Elapsed time: 2.44794999997 hours"
       ]
      },
      {
       "output_type": "stream",
       "stream": "stdout",
       "text": [
        "\r",
        "Finding differences of reclassification 36 for data pairs 14 of 45.  Elapsed time: 2.44940555553 hours"
       ]
      },
      {
       "output_type": "stream",
       "stream": "stdout",
       "text": [
        "\r",
        "Finding differences of reclassification 36 for data pairs 15 of 45.  Elapsed time: 2.45090194444 hours"
       ]
      },
      {
       "output_type": "stream",
       "stream": "stdout",
       "text": [
        "\r",
        "Finding differences of reclassification 36 for data pairs 16 of 45.  Elapsed time: 2.45236111111 hours"
       ]
      },
      {
       "output_type": "stream",
       "stream": "stdout",
       "text": [
        "\r",
        "Finding differences of reclassification 36 for data pairs 17 of 45.  Elapsed time: 2.45384694444 hours"
       ]
      },
      {
       "output_type": "stream",
       "stream": "stdout",
       "text": [
        "\r",
        "Finding differences of reclassification 36 for data pairs 18 of 45.  Elapsed time: 2.45530972222 hours"
       ]
      },
      {
       "output_type": "stream",
       "stream": "stdout",
       "text": [
        "\r",
        "Finding differences of reclassification 36 for data pairs 19 of 45.  Elapsed time: 2.45681361112 hours"
       ]
      },
      {
       "output_type": "stream",
       "stream": "stdout",
       "text": [
        "\r",
        "Finding differences of reclassification 36 for data pairs 20 of 45.  Elapsed time: 2.45826805552 hours"
       ]
      },
      {
       "output_type": "stream",
       "stream": "stdout",
       "text": [
        "\r",
        "Finding differences of reclassification 36 for data pairs 21 of 45.  Elapsed time: 2.45979861114 hours"
       ]
      },
      {
       "output_type": "stream",
       "stream": "stdout",
       "text": [
        "\r",
        "Finding differences of reclassification 36 for data pairs 22 of 45.  Elapsed time: 2.46132694443 hours"
       ]
      },
      {
       "output_type": "stream",
       "stream": "stdout",
       "text": [
        "\r",
        "Finding differences of reclassification 36 for data pairs 23 of 45.  Elapsed time: 2.46277694444 hours"
       ]
      },
      {
       "output_type": "stream",
       "stream": "stdout",
       "text": [
        "\r",
        "Finding differences of reclassification 36 for data pairs 24 of 45.  Elapsed time: 2.46425111108 hours"
       ]
      },
      {
       "output_type": "stream",
       "stream": "stdout",
       "text": [
        "\r",
        "Finding differences of reclassification 36 for data pairs 25 of 45.  Elapsed time: 2.46574250003 hours"
       ]
      },
      {
       "output_type": "stream",
       "stream": "stdout",
       "text": [
        "\r",
        "Finding differences of reclassification 36 for data pairs 26 of 45.  Elapsed time: 2.46750222219 hours"
       ]
      },
      {
       "output_type": "stream",
       "stream": "stdout",
       "text": [
        "\r",
        "Finding differences of reclassification 36 for data pairs 27 of 45.  Elapsed time: 2.46916638891 hours"
       ]
      },
      {
       "output_type": "stream",
       "stream": "stdout",
       "text": [
        "\r",
        "Finding differences of reclassification 36 for data pairs 28 of 45.  Elapsed time: 2.47083749996 hours"
       ]
      },
      {
       "output_type": "stream",
       "stream": "stdout",
       "text": [
        "\r",
        "Finding differences of reclassification 36 for data pairs 29 of 45.  Elapsed time: 2.4724647222 hours"
       ]
      },
      {
       "output_type": "stream",
       "stream": "stdout",
       "text": [
        "\r",
        "Finding differences of reclassification 36 for data pairs 30 of 45.  Elapsed time: 2.47416361113 hours"
       ]
      },
      {
       "output_type": "stream",
       "stream": "stdout",
       "text": [
        "\r",
        "Finding differences of reclassification 36 for data pairs 31 of 45.  Elapsed time: 2.47593805558 hours"
       ]
      },
      {
       "output_type": "stream",
       "stream": "stdout",
       "text": [
        "\r",
        "Finding differences of reclassification 36 for data pairs 32 of 45.  Elapsed time: 2.47771388888 hours"
       ]
      },
      {
       "output_type": "stream",
       "stream": "stdout",
       "text": [
        "\r",
        "Finding differences of reclassification 36 for data pairs 33 of 45.  Elapsed time: 2.47975611111 hours"
       ]
      },
      {
       "output_type": "stream",
       "stream": "stdout",
       "text": [
        "\r",
        "Finding differences of reclassification 36 for data pairs 34 of 45.  Elapsed time: 2.48174972223 hours"
       ]
      },
      {
       "output_type": "stream",
       "stream": "stdout",
       "text": [
        "\r",
        "Finding differences of reclassification 36 for data pairs 35 of 45.  Elapsed time: 2.48359805557 hours"
       ]
      },
      {
       "output_type": "stream",
       "stream": "stdout",
       "text": [
        "\r",
        "Finding differences of reclassification 36 for data pairs 36 of 45.  Elapsed time: 2.48534722222 hours"
       ]
      },
      {
       "output_type": "stream",
       "stream": "stdout",
       "text": [
        "\r",
        "Finding differences of reclassification 36 for data pairs 37 of 45.  Elapsed time: 2.48685638891 hours"
       ]
      },
      {
       "output_type": "stream",
       "stream": "stdout",
       "text": [
        "\r",
        "Finding differences of reclassification 36 for data pairs 38 of 45.  Elapsed time: 2.48835638887 hours"
       ]
      },
      {
       "output_type": "stream",
       "stream": "stdout",
       "text": [
        "\r",
        "Finding differences of reclassification 36 for data pairs 39 of 45.  Elapsed time: 2.48991055555 hours"
       ]
      },
      {
       "output_type": "stream",
       "stream": "stdout",
       "text": [
        "\r",
        "Finding differences of reclassification 36 for data pairs 40 of 45.  Elapsed time: 2.49142111109 hours"
       ]
      },
      {
       "output_type": "stream",
       "stream": "stdout",
       "text": [
        "\r",
        "Finding differences of reclassification 36 for data pairs 41 of 45.  Elapsed time: 2.4929086111 hours"
       ]
      },
      {
       "output_type": "stream",
       "stream": "stdout",
       "text": [
        "\r",
        "Finding differences of reclassification 36 for data pairs 42 of 45.  Elapsed time: 2.49447722223 hours"
       ]
      },
      {
       "output_type": "stream",
       "stream": "stdout",
       "text": [
        "\r",
        "Finding differences of reclassification 36 for data pairs 43 of 45.  Elapsed time: 2.49597194446 hours"
       ]
      },
      {
       "output_type": "stream",
       "stream": "stdout",
       "text": [
        "\r",
        "Finding differences of reclassification 36 for data pairs 44 of 45.  Elapsed time: 2.49744361109 hours"
       ]
      },
      {
       "output_type": "stream",
       "stream": "stdout",
       "text": [
        "\r",
        "Finding differences of reclassification 36 for data pairs 45 of 45.  Elapsed time: 2.49889388886 hours"
       ]
      },
      {
       "output_type": "stream",
       "stream": "stdout",
       "text": [
        "\r",
        "Finding differences of reclassification 37 for data pairs 1 of 45.  Elapsed time: 2.50037027776 hours"
       ]
      },
      {
       "output_type": "stream",
       "stream": "stdout",
       "text": [
        "\r",
        "Finding differences of reclassification 37 for data pairs 2 of 45.  Elapsed time: 2.50185166664 hours"
       ]
      },
      {
       "output_type": "stream",
       "stream": "stdout",
       "text": [
        "\r",
        "Finding differences of reclassification 37 for data pairs 3 of 45.  Elapsed time: 2.50333055556 hours"
       ]
      },
      {
       "output_type": "stream",
       "stream": "stdout",
       "text": [
        "\r",
        "Finding differences of reclassification 37 for data pairs 4 of 45.  Elapsed time: 2.50481416669 hours"
       ]
      },
      {
       "output_type": "stream",
       "stream": "stdout",
       "text": [
        "\r",
        "Finding differences of reclassification 37 for data pairs 5 of 45.  Elapsed time: 2.50630583333 hours"
       ]
      },
      {
       "output_type": "stream",
       "stream": "stdout",
       "text": [
        "\r",
        "Finding differences of reclassification 37 for data pairs 6 of 45.  Elapsed time: 2.50777166665 hours"
       ]
      },
      {
       "output_type": "stream",
       "stream": "stdout",
       "text": [
        "\r",
        "Finding differences of reclassification 37 for data pairs 7 of 45.  Elapsed time: 2.50925555554 hours"
       ]
      },
      {
       "output_type": "stream",
       "stream": "stdout",
       "text": [
        "\r",
        "Finding differences of reclassification 37 for data pairs 8 of 45.  Elapsed time: 2.51079305556 hours"
       ]
      },
      {
       "output_type": "stream",
       "stream": "stdout",
       "text": [
        "\r",
        "Finding differences of reclassification 37 for data pairs 9 of 45.  Elapsed time: 2.5122736111 hours"
       ]
      },
      {
       "output_type": "stream",
       "stream": "stdout",
       "text": [
        "\r",
        "Finding differences of reclassification 37 for data pairs 10 of 45.  Elapsed time: 2.51373833332 hours"
       ]
      },
      {
       "output_type": "stream",
       "stream": "stdout",
       "text": [
        "\r",
        "Finding differences of reclassification 37 for data pairs 11 of 45.  Elapsed time: 2.51521305554 hours"
       ]
      },
      {
       "output_type": "stream",
       "stream": "stdout",
       "text": [
        "\r",
        "Finding differences of reclassification 37 for data pairs 12 of 45.  Elapsed time: 2.51670750002 hours"
       ]
      },
      {
       "output_type": "stream",
       "stream": "stdout",
       "text": [
        "\r",
        "Finding differences of reclassification 37 for data pairs 13 of 45.  Elapsed time: 2.51817444444 hours"
       ]
      },
      {
       "output_type": "stream",
       "stream": "stdout",
       "text": [
        "\r",
        "Finding differences of reclassification 37 for data pairs 14 of 45.  Elapsed time: 2.51963166667 hours"
       ]
      },
      {
       "output_type": "stream",
       "stream": "stdout",
       "text": [
        "\r",
        "Finding differences of reclassification 37 for data pairs 15 of 45.  Elapsed time: 2.52113138888 hours"
       ]
      },
      {
       "output_type": "stream",
       "stream": "stdout",
       "text": [
        "\r",
        "Finding differences of reclassification 37 for data pairs 16 of 45.  Elapsed time: 2.52260111113 hours"
       ]
      },
      {
       "output_type": "stream",
       "stream": "stdout",
       "text": [
        "\r",
        "Finding differences of reclassification 37 for data pairs 17 of 45.  Elapsed time: 2.52408527778 hours"
       ]
      },
      {
       "output_type": "stream",
       "stream": "stdout",
       "text": [
        "\r",
        "Finding differences of reclassification 37 for data pairs 18 of 45.  Elapsed time: 2.52556361112 hours"
       ]
      },
      {
       "output_type": "stream",
       "stream": "stdout",
       "text": [
        "\r",
        "Finding differences of reclassification 37 for data pairs 19 of 45.  Elapsed time: 2.52712805556 hours"
       ]
      },
      {
       "output_type": "stream",
       "stream": "stdout",
       "text": [
        "\r",
        "Finding differences of reclassification 37 for data pairs 20 of 45.  Elapsed time: 2.5285822222 hours"
       ]
      },
      {
       "output_type": "stream",
       "stream": "stdout",
       "text": [
        "\r",
        "Finding differences of reclassification 37 for data pairs 21 of 45.  Elapsed time: 2.53006416665 hours"
       ]
      },
      {
       "output_type": "stream",
       "stream": "stdout",
       "text": [
        "\r",
        "Finding differences of reclassification 37 for data pairs 22 of 45.  Elapsed time: 2.53155694445 hours"
       ]
      },
      {
       "output_type": "stream",
       "stream": "stdout",
       "text": [
        "\r",
        "Finding differences of reclassification 37 for data pairs 23 of 45.  Elapsed time: 2.53302722222 hours"
       ]
      },
      {
       "output_type": "stream",
       "stream": "stdout",
       "text": [
        "\r",
        "Finding differences of reclassification 37 for data pairs 24 of 45.  Elapsed time: 2.534555 hours"
       ]
      },
      {
       "output_type": "stream",
       "stream": "stdout",
       "text": [
        "\r",
        "Finding differences of reclassification 37 for data pairs 25 of 45.  Elapsed time: 2.53607833332 hours"
       ]
      },
      {
       "output_type": "stream",
       "stream": "stdout",
       "text": [
        "\r",
        "Finding differences of reclassification 37 for data pairs 26 of 45.  Elapsed time: 2.53763777779 hours"
       ]
      },
      {
       "output_type": "stream",
       "stream": "stdout",
       "text": [
        "\r",
        "Finding differences of reclassification 37 for data pairs 27 of 45.  Elapsed time: 2.53916388889 hours"
       ]
      },
      {
       "output_type": "stream",
       "stream": "stdout",
       "text": [
        "\r",
        "Finding differences of reclassification 37 for data pairs 28 of 45.  Elapsed time: 2.54071194443 hours"
       ]
      },
      {
       "output_type": "stream",
       "stream": "stdout",
       "text": [
        "\r",
        "Finding differences of reclassification 37 for data pairs 29 of 45.  Elapsed time: 2.54220916669 hours"
       ]
      },
      {
       "output_type": "stream",
       "stream": "stdout",
       "text": [
        "\r",
        "Finding differences of reclassification 37 for data pairs 30 of 45.  Elapsed time: 2.54379083335 hours"
       ]
      },
      {
       "output_type": "stream",
       "stream": "stdout",
       "text": [
        "\r",
        "Finding differences of reclassification 37 for data pairs 31 of 45.  Elapsed time: 2.54553833332 hours"
       ]
      },
      {
       "output_type": "stream",
       "stream": "stdout",
       "text": [
        "\r",
        "Finding differences of reclassification 37 for data pairs 32 of 45.  Elapsed time: 2.54733972225 hours"
       ]
      },
      {
       "output_type": "stream",
       "stream": "stdout",
       "text": [
        "\r",
        "Finding differences of reclassification 37 for data pairs 33 of 45.  Elapsed time: 2.54922111114 hours"
       ]
      },
      {
       "output_type": "stream",
       "stream": "stdout",
       "text": [
        "\r",
        "Finding differences of reclassification 37 for data pairs 34 of 45.  Elapsed time: 2.5511052778 hours"
       ]
      },
      {
       "output_type": "stream",
       "stream": "stdout",
       "text": [
        "\r",
        "Finding differences of reclassification 37 for data pairs 35 of 45.  Elapsed time: 2.55293055554 hours"
       ]
      },
      {
       "output_type": "stream",
       "stream": "stdout",
       "text": [
        "\r",
        "Finding differences of reclassification 37 for data pairs 36 of 45.  Elapsed time: 2.55472333332 hours"
       ]
      },
      {
       "output_type": "stream",
       "stream": "stdout",
       "text": [
        "\r",
        "Finding differences of reclassification 37 for data pairs 37 of 45.  Elapsed time: 2.55658805556 hours"
       ]
      },
      {
       "output_type": "stream",
       "stream": "stdout",
       "text": [
        "\r",
        "Finding differences of reclassification 37 for data pairs 38 of 45.  Elapsed time: 2.55838444445 hours"
       ]
      },
      {
       "output_type": "stream",
       "stream": "stdout",
       "text": [
        "\r",
        "Finding differences of reclassification 37 for data pairs 39 of 45.  Elapsed time: 2.5599758333 hours"
       ]
      },
      {
       "output_type": "stream",
       "stream": "stdout",
       "text": [
        "\r",
        "Finding differences of reclassification 37 for data pairs 40 of 45.  Elapsed time: 2.56151999997 hours"
       ]
      },
      {
       "output_type": "stream",
       "stream": "stdout",
       "text": [
        "\r",
        "Finding differences of reclassification 37 for data pairs 41 of 45.  Elapsed time: 2.56303138885 hours"
       ]
      },
      {
       "output_type": "stream",
       "stream": "stdout",
       "text": [
        "\r",
        "Finding differences of reclassification 37 for data pairs 42 of 45.  Elapsed time: 2.56455805553 hours"
       ]
      },
      {
       "output_type": "stream",
       "stream": "stdout",
       "text": [
        "\r",
        "Finding differences of reclassification 37 for data pairs 43 of 45.  Elapsed time: 2.56608250002 hours"
       ]
      },
      {
       "output_type": "stream",
       "stream": "stdout",
       "text": [
        "\r",
        "Finding differences of reclassification 37 for data pairs 44 of 45.  Elapsed time: 2.56758666668 hours"
       ]
      },
      {
       "output_type": "stream",
       "stream": "stdout",
       "text": [
        "\r",
        "Finding differences of reclassification 37 for data pairs 45 of 45.  Elapsed time: 2.56907722221 hours"
       ]
      },
      {
       "output_type": "stream",
       "stream": "stdout",
       "text": [
        "\r",
        "Finding differences of reclassification 38 for data pairs 1 of 45.  Elapsed time: 2.57057388888 hours"
       ]
      },
      {
       "output_type": "stream",
       "stream": "stdout",
       "text": [
        "\r",
        "Finding differences of reclassification 38 for data pairs 2 of 45.  Elapsed time: 2.57209500002 hours"
       ]
      },
      {
       "output_type": "stream",
       "stream": "stdout",
       "text": [
        "\r",
        "Finding differences of reclassification 38 for data pairs 3 of 45.  Elapsed time: 2.57358666665 hours"
       ]
      },
      {
       "output_type": "stream",
       "stream": "stdout",
       "text": [
        "\r",
        "Finding differences of reclassification 38 for data pairs 4 of 45.  Elapsed time: 2.57511333333 hours"
       ]
      },
      {
       "output_type": "stream",
       "stream": "stdout",
       "text": [
        "\r",
        "Finding differences of reclassification 38 for data pairs 5 of 45.  Elapsed time: 2.57668777777 hours"
       ]
      },
      {
       "output_type": "stream",
       "stream": "stdout",
       "text": [
        "\r",
        "Finding differences of reclassification 38 for data pairs 6 of 45.  Elapsed time: 2.57821027776 hours"
       ]
      },
      {
       "output_type": "stream",
       "stream": "stdout",
       "text": [
        "\r",
        "Finding differences of reclassification 38 for data pairs 7 of 45.  Elapsed time: 2.57973555558 hours"
       ]
      },
      {
       "output_type": "stream",
       "stream": "stdout",
       "text": [
        "\r",
        "Finding differences of reclassification 38 for data pairs 8 of 45.  Elapsed time: 2.58126055552 hours"
       ]
      },
      {
       "output_type": "stream",
       "stream": "stdout",
       "text": [
        "\r",
        "Finding differences of reclassification 38 for data pairs 9 of 45.  Elapsed time: 2.58279750003 hours"
       ]
      },
      {
       "output_type": "stream",
       "stream": "stdout",
       "text": [
        "\r",
        "Finding differences of reclassification 38 for data pairs 10 of 45.  Elapsed time: 2.58428805557 hours"
       ]
      },
      {
       "output_type": "stream",
       "stream": "stdout",
       "text": [
        "\r",
        "Finding differences of reclassification 38 for data pairs 11 of 45.  Elapsed time: 2.58577249997 hours"
       ]
      },
      {
       "output_type": "stream",
       "stream": "stdout",
       "text": [
        "\r",
        "Finding differences of reclassification 38 for data pairs 12 of 45.  Elapsed time: 2.58729972223 hours"
       ]
      },
      {
       "output_type": "stream",
       "stream": "stdout",
       "text": [
        "\r",
        "Finding differences of reclassification 38 for data pairs 13 of 45.  Elapsed time: 2.58879833334 hours"
       ]
      },
      {
       "output_type": "stream",
       "stream": "stdout",
       "text": [
        "\r",
        "Finding differences of reclassification 38 for data pairs 14 of 45.  Elapsed time: 2.59029555553 hours"
       ]
      },
      {
       "output_type": "stream",
       "stream": "stdout",
       "text": [
        "\r",
        "Finding differences of reclassification 38 for data pairs 15 of 45.  Elapsed time: 2.59181916667 hours"
       ]
      },
      {
       "output_type": "stream",
       "stream": "stdout",
       "text": [
        "\r",
        "Finding differences of reclassification 38 for data pairs 16 of 45.  Elapsed time: 2.59337916666 hours"
       ]
      },
      {
       "output_type": "stream",
       "stream": "stdout",
       "text": [
        "\r",
        "Finding differences of reclassification 38 for data pairs 17 of 45.  Elapsed time: 2.59490138888 hours"
       ]
      },
      {
       "output_type": "stream",
       "stream": "stdout",
       "text": [
        "\r",
        "Finding differences of reclassification 38 for data pairs 18 of 45.  Elapsed time: 2.59641277777 hours"
       ]
      },
      {
       "output_type": "stream",
       "stream": "stdout",
       "text": [
        "\r",
        "Finding differences of reclassification 38 for data pairs 19 of 45.  Elapsed time: 2.59794583334 hours"
       ]
      },
      {
       "output_type": "stream",
       "stream": "stdout",
       "text": [
        "\r",
        "Finding differences of reclassification 38 for data pairs 20 of 45.  Elapsed time: 2.59955972221 hours"
       ]
      },
      {
       "output_type": "stream",
       "stream": "stdout",
       "text": [
        "\r",
        "Finding differences of reclassification 38 for data pairs 21 of 45.  Elapsed time: 2.60120638887 hours"
       ]
      },
      {
       "output_type": "stream",
       "stream": "stdout",
       "text": [
        "\r",
        "Finding differences of reclassification 38 for data pairs 22 of 45.  Elapsed time: 2.60285416669 hours"
       ]
      },
      {
       "output_type": "stream",
       "stream": "stdout",
       "text": [
        "\r",
        "Finding differences of reclassification 38 for data pairs 23 of 45.  Elapsed time: 2.60453833335 hours"
       ]
      },
      {
       "output_type": "stream",
       "stream": "stdout",
       "text": [
        "\r",
        "Finding differences of reclassification 38 for data pairs 24 of 45.  Elapsed time: 2.60633583334 hours"
       ]
      },
      {
       "output_type": "stream",
       "stream": "stdout",
       "text": [
        "\r",
        "Finding differences of reclassification 38 for data pairs 25 of 45.  Elapsed time: 2.60805555556 hours"
       ]
      },
      {
       "output_type": "stream",
       "stream": "stdout",
       "text": [
        "\r",
        "Finding differences of reclassification 38 for data pairs 26 of 45.  Elapsed time: 2.60964666665 hours"
       ]
      },
      {
       "output_type": "stream",
       "stream": "stdout",
       "text": [
        "\r",
        "Finding differences of reclassification 38 for data pairs 27 of 45.  Elapsed time: 2.61137222224 hours"
       ]
      },
      {
       "output_type": "stream",
       "stream": "stdout",
       "text": [
        "\r",
        "Finding differences of reclassification 38 for data pairs 28 of 45.  Elapsed time: 2.61299194442 hours"
       ]
      },
      {
       "output_type": "stream",
       "stream": "stdout",
       "text": [
        "\r",
        "Finding differences of reclassification 38 for data pairs 29 of 45.  Elapsed time: 2.61491916663 hours"
       ]
      },
      {
       "output_type": "stream",
       "stream": "stdout",
       "text": [
        "\r",
        "Finding differences of reclassification 38 for data pairs 30 of 45.  Elapsed time: 2.61661527779 hours"
       ]
      },
      {
       "output_type": "stream",
       "stream": "stdout",
       "text": [
        "\r",
        "Finding differences of reclassification 38 for data pairs 31 of 45.  Elapsed time: 2.61856111109 hours"
       ]
      },
      {
       "output_type": "stream",
       "stream": "stdout",
       "text": [
        "\r",
        "Finding differences of reclassification 38 for data pairs 32 of 45.  Elapsed time: 2.62078333331 hours"
       ]
      },
      {
       "output_type": "stream",
       "stream": "stdout",
       "text": [
        "\r",
        "Finding differences of reclassification 38 for data pairs 33 of 45.  Elapsed time: 2.62275472224 hours"
       ]
      },
      {
       "output_type": "stream",
       "stream": "stdout",
       "text": [
        "\r",
        "Finding differences of reclassification 38 for data pairs 34 of 45.  Elapsed time: 2.62465916667 hours"
       ]
      },
      {
       "output_type": "stream",
       "stream": "stdout",
       "text": [
        "\r",
        "Finding differences of reclassification 38 for data pairs 35 of 45.  Elapsed time: 2.62657666663 hours"
       ]
      },
      {
       "output_type": "stream",
       "stream": "stdout",
       "text": [
        "\r",
        "Finding differences of reclassification 38 for data pairs 36 of 45.  Elapsed time: 2.62838361111 hours"
       ]
      },
      {
       "output_type": "stream",
       "stream": "stdout",
       "text": [
        "\r",
        "Finding differences of reclassification 38 for data pairs 37 of 45.  Elapsed time: 2.63003666666 hours"
       ]
      },
      {
       "output_type": "stream",
       "stream": "stdout",
       "text": [
        "\r",
        "Finding differences of reclassification 38 for data pairs 38 of 45.  Elapsed time: 2.63164361113 hours"
       ]
      },
      {
       "output_type": "stream",
       "stream": "stdout",
       "text": [
        "\r",
        "Finding differences of reclassification 38 for data pairs 39 of 45.  Elapsed time: 2.63314472225 hours"
       ]
      },
      {
       "output_type": "stream",
       "stream": "stdout",
       "text": [
        "\r",
        "Finding differences of reclassification 38 for data pairs 40 of 45.  Elapsed time: 2.63463361111 hours"
       ]
      },
      {
       "output_type": "stream",
       "stream": "stdout",
       "text": [
        "\r",
        "Finding differences of reclassification 38 for data pairs 41 of 45.  Elapsed time: 2.63612833334 hours"
       ]
      },
      {
       "output_type": "stream",
       "stream": "stdout",
       "text": [
        "\r",
        "Finding differences of reclassification 38 for data pairs 42 of 45.  Elapsed time: 2.63764333334 hours"
       ]
      },
      {
       "output_type": "stream",
       "stream": "stdout",
       "text": [
        "\r",
        "Finding differences of reclassification 38 for data pairs 43 of 45.  Elapsed time: 2.63914277779 hours"
       ]
      },
      {
       "output_type": "stream",
       "stream": "stdout",
       "text": [
        "\r",
        "Finding differences of reclassification 38 for data pairs 44 of 45.  Elapsed time: 2.64062472224 hours"
       ]
      },
      {
       "output_type": "stream",
       "stream": "stdout",
       "text": [
        "\r",
        "Finding differences of reclassification 38 for data pairs 45 of 45.  Elapsed time: 2.64212749998 hours"
       ]
      },
      {
       "output_type": "stream",
       "stream": "stdout",
       "text": [
        "\r",
        "Finding differences of reclassification 39 for data pairs 1 of 45.  Elapsed time: 2.64369694445 hours"
       ]
      },
      {
       "output_type": "stream",
       "stream": "stdout",
       "text": [
        "\r",
        "Finding differences of reclassification 39 for data pairs 2 of 45.  Elapsed time: 2.64521000001 hours"
       ]
      },
      {
       "output_type": "stream",
       "stream": "stdout",
       "text": [
        "\r",
        "Finding differences of reclassification 39 for data pairs 3 of 45.  Elapsed time: 2.64668361108 hours"
       ]
      },
      {
       "output_type": "stream",
       "stream": "stdout",
       "text": [
        "\r",
        "Finding differences of reclassification 39 for data pairs 4 of 45.  Elapsed time: 2.64818083333 hours"
       ]
      },
      {
       "output_type": "stream",
       "stream": "stdout",
       "text": [
        "\r",
        "Finding differences of reclassification 39 for data pairs 5 of 45.  Elapsed time: 2.64967833334 hours"
       ]
      },
      {
       "output_type": "stream",
       "stream": "stdout",
       "text": [
        "\r",
        "Finding differences of reclassification 39 for data pairs 6 of 45.  Elapsed time: 2.65114166664 hours"
       ]
      },
      {
       "output_type": "stream",
       "stream": "stdout",
       "text": [
        "\r",
        "Finding differences of reclassification 39 for data pairs 7 of 45.  Elapsed time: 2.65264055557 hours"
       ]
      },
      {
       "output_type": "stream",
       "stream": "stdout",
       "text": [
        "\r",
        "Finding differences of reclassification 39 for data pairs 8 of 45.  Elapsed time: 2.65413194444 hours"
       ]
      },
      {
       "output_type": "stream",
       "stream": "stdout",
       "text": [
        "\r",
        "Finding differences of reclassification 39 for data pairs 9 of 45.  Elapsed time: 2.65560555557 hours"
       ]
      },
      {
       "output_type": "stream",
       "stream": "stdout",
       "text": [
        "\r",
        "Finding differences of reclassification 39 for data pairs 10 of 45.  Elapsed time: 2.65716499998 hours"
       ]
      },
      {
       "output_type": "stream",
       "stream": "stdout",
       "text": [
        "\r",
        "Finding differences of reclassification 39 for data pairs 11 of 45.  Elapsed time: 2.65864888887 hours"
       ]
      },
      {
       "output_type": "stream",
       "stream": "stdout",
       "text": [
        "\r",
        "Finding differences of reclassification 39 for data pairs 12 of 45.  Elapsed time: 2.66023805552 hours"
       ]
      },
      {
       "output_type": "stream",
       "stream": "stdout",
       "text": [
        "\r",
        "Finding differences of reclassification 39 for data pairs 13 of 45.  Elapsed time: 2.66173333334 hours"
       ]
      },
      {
       "output_type": "stream",
       "stream": "stdout",
       "text": [
        "\r",
        "Finding differences of reclassification 39 for data pairs 14 of 45.  Elapsed time: 2.66320555554 hours"
       ]
      },
      {
       "output_type": "stream",
       "stream": "stdout",
       "text": [
        "\r",
        "Finding differences of reclassification 39 for data pairs 15 of 45.  Elapsed time: 2.66470555557 hours"
       ]
      },
      {
       "output_type": "stream",
       "stream": "stdout",
       "text": [
        "\r",
        "Finding differences of reclassification 39 for data pairs 16 of 45.  Elapsed time: 2.66617999997 hours"
       ]
      },
      {
       "output_type": "stream",
       "stream": "stdout",
       "text": [
        "\r",
        "Finding differences of reclassification 39 for data pairs 17 of 45.  Elapsed time: 2.66767055558 hours"
       ]
      },
      {
       "output_type": "stream",
       "stream": "stdout",
       "text": [
        "\r",
        "Finding differences of reclassification 39 for data pairs 18 of 45.  Elapsed time: 2.66914138887 hours"
       ]
      },
      {
       "output_type": "stream",
       "stream": "stdout",
       "text": [
        "\r",
        "Finding differences of reclassification 39 for data pairs 19 of 45.  Elapsed time: 2.67063805554 hours"
       ]
      },
      {
       "output_type": "stream",
       "stream": "stdout",
       "text": [
        "\r",
        "Finding differences of reclassification 39 for data pairs 20 of 45.  Elapsed time: 2.67209361109 hours"
       ]
      },
      {
       "output_type": "stream",
       "stream": "stdout",
       "text": [
        "\r",
        "Finding differences of reclassification 39 for data pairs 21 of 45.  Elapsed time: 2.67358944443 hours"
       ]
      },
      {
       "output_type": "stream",
       "stream": "stdout",
       "text": [
        "\r",
        "Finding differences of reclassification 39 for data pairs 22 of 45.  Elapsed time: 2.67507027778 hours"
       ]
      },
      {
       "output_type": "stream",
       "stream": "stdout",
       "text": [
        "\r",
        "Finding differences of reclassification 39 for data pairs 23 of 45.  Elapsed time: 2.67658277777 hours"
       ]
      },
      {
       "output_type": "stream",
       "stream": "stdout",
       "text": [
        "\r",
        "Finding differences of reclassification 39 for data pairs 24 of 45.  Elapsed time: 2.67807444447 hours"
       ]
      },
      {
       "output_type": "stream",
       "stream": "stdout",
       "text": [
        "\r",
        "Finding differences of reclassification 39 for data pairs 25 of 45.  Elapsed time: 2.679555 hours"
       ]
      },
      {
       "output_type": "stream",
       "stream": "stdout",
       "text": [
        "\r",
        "Finding differences of reclassification 39 for data pairs 26 of 45.  Elapsed time: 2.68103555553 hours"
       ]
      },
      {
       "output_type": "stream",
       "stream": "stdout",
       "text": [
        "\r",
        "Finding differences of reclassification 39 for data pairs 27 of 45.  Elapsed time: 2.6825152778 hours"
       ]
      },
      {
       "output_type": "stream",
       "stream": "stdout",
       "text": [
        "\r",
        "Finding differences of reclassification 39 for data pairs 28 of 45.  Elapsed time: 2.68403249999 hours"
       ]
      },
      {
       "output_type": "stream",
       "stream": "stdout",
       "text": [
        "\r",
        "Finding differences of reclassification 39 for data pairs 29 of 45.  Elapsed time: 2.68550111108 hours"
       ]
      },
      {
       "output_type": "stream",
       "stream": "stdout",
       "text": [
        "\r",
        "Finding differences of reclassification 39 for data pairs 30 of 45.  Elapsed time: 2.68698916667 hours"
       ]
      },
      {
       "output_type": "stream",
       "stream": "stdout",
       "text": [
        "\r",
        "Finding differences of reclassification 39 for data pairs 31 of 45.  Elapsed time: 2.68847888887 hours"
       ]
      },
      {
       "output_type": "stream",
       "stream": "stdout",
       "text": [
        "\r",
        "Finding differences of reclassification 39 for data pairs 32 of 45.  Elapsed time: 2.68993972222 hours"
       ]
      },
      {
       "output_type": "stream",
       "stream": "stdout",
       "text": [
        "\r",
        "Finding differences of reclassification 39 for data pairs 33 of 45.  Elapsed time: 2.69140805556 hours"
       ]
      },
      {
       "output_type": "stream",
       "stream": "stdout",
       "text": [
        "\r",
        "Finding differences of reclassification 39 for data pairs 34 of 45.  Elapsed time: 2.69290499998 hours"
       ]
      },
      {
       "output_type": "stream",
       "stream": "stdout",
       "text": [
        "\r",
        "Finding differences of reclassification 39 for data pairs 35 of 45.  Elapsed time: 2.69443305552 hours"
       ]
      },
      {
       "output_type": "stream",
       "stream": "stdout",
       "text": [
        "\r",
        "Finding differences of reclassification 39 for data pairs 36 of 45.  Elapsed time: 2.69588388887 hours"
       ]
      },
      {
       "output_type": "stream",
       "stream": "stdout",
       "text": [
        "\r",
        "Finding differences of reclassification 39 for data pairs 37 of 45.  Elapsed time: 2.6973663889 hours"
       ]
      },
      {
       "output_type": "stream",
       "stream": "stdout",
       "text": [
        "\r",
        "Finding differences of reclassification 39 for data pairs 38 of 45.  Elapsed time: 2.69881472223 hours"
       ]
      },
      {
       "output_type": "stream",
       "stream": "stdout",
       "text": [
        "\r",
        "Finding differences of reclassification 39 for data pairs 39 of 45.  Elapsed time: 2.70026999997 hours"
       ]
      },
      {
       "output_type": "stream",
       "stream": "stdout",
       "text": [
        "\r",
        "Finding differences of reclassification 39 for data pairs 40 of 45.  Elapsed time: 2.70174444444 hours"
       ]
      },
      {
       "output_type": "stream",
       "stream": "stdout",
       "text": [
        "\r",
        "Finding differences of reclassification 39 for data pairs 41 of 45.  Elapsed time: 2.70322138886 hours"
       ]
      },
      {
       "output_type": "stream",
       "stream": "stdout",
       "text": [
        "\r",
        "Finding differences of reclassification 39 for data pairs 42 of 45.  Elapsed time: 2.70472305556 hours"
       ]
      },
      {
       "output_type": "stream",
       "stream": "stdout",
       "text": [
        "\r",
        "Finding differences of reclassification 39 for data pairs 43 of 45.  Elapsed time: 2.7062147222 hours"
       ]
      },
      {
       "output_type": "stream",
       "stream": "stdout",
       "text": [
        "\r",
        "Finding differences of reclassification 39 for data pairs 44 of 45.  Elapsed time: 2.70767638889 hours"
       ]
      },
      {
       "output_type": "stream",
       "stream": "stdout",
       "text": [
        "\r",
        "Finding differences of reclassification 39 for data pairs 45 of 45.  Elapsed time: 2.70913111111 hours"
       ]
      },
      {
       "output_type": "stream",
       "stream": "stdout",
       "text": [
        "\r",
        "Finding differences of reclassification 40 for data pairs 1 of 45.  Elapsed time: 2.71067305558 hours"
       ]
      },
      {
       "output_type": "stream",
       "stream": "stdout",
       "text": [
        "\r",
        "Finding differences of reclassification 40 for data pairs 2 of 45.  Elapsed time: 2.71214833332 hours"
       ]
      },
      {
       "output_type": "stream",
       "stream": "stdout",
       "text": [
        "\r",
        "Finding differences of reclassification 40 for data pairs 3 of 45.  Elapsed time: 2.71360444446 hours"
       ]
      },
      {
       "output_type": "stream",
       "stream": "stdout",
       "text": [
        "\r",
        "Finding differences of reclassification 40 for data pairs 4 of 45.  Elapsed time: 2.71508111113 hours"
       ]
      },
      {
       "output_type": "stream",
       "stream": "stdout",
       "text": [
        "\r",
        "Finding differences of reclassification 40 for data pairs 5 of 45.  Elapsed time: 2.7165636111 hours"
       ]
      },
      {
       "output_type": "stream",
       "stream": "stdout",
       "text": [
        "\r",
        "Finding differences of reclassification 40 for data pairs 6 of 45.  Elapsed time: 2.71801999999 hours"
       ]
      },
      {
       "output_type": "stream",
       "stream": "stdout",
       "text": [
        "\r",
        "Finding differences of reclassification 40 for data pairs 7 of 45.  Elapsed time: 2.71949583332 hours"
       ]
      },
      {
       "output_type": "stream",
       "stream": "stdout",
       "text": [
        "\r",
        "Finding differences of reclassification 40 for data pairs 8 of 45.  Elapsed time: 2.72097055554 hours"
       ]
      },
      {
       "output_type": "stream",
       "stream": "stdout",
       "text": [
        "\r",
        "Finding differences of reclassification 40 for data pairs 9 of 45.  Elapsed time: 2.7224413889 hours"
       ]
      },
      {
       "output_type": "stream",
       "stream": "stdout",
       "text": [
        "\r",
        "Finding differences of reclassification 40 for data pairs 10 of 45.  Elapsed time: 2.7238866667 hours"
       ]
      },
      {
       "output_type": "stream",
       "stream": "stdout",
       "text": [
        "\r",
        "Finding differences of reclassification 40 for data pairs 11 of 45.  Elapsed time: 2.72535944442 hours"
       ]
      },
      {
       "output_type": "stream",
       "stream": "stdout",
       "text": [
        "\r",
        "Finding differences of reclassification 40 for data pairs 12 of 45.  Elapsed time: 2.72691361109 hours"
       ]
      },
      {
       "output_type": "stream",
       "stream": "stdout",
       "text": [
        "\r",
        "Finding differences of reclassification 40 for data pairs 13 of 45.  Elapsed time: 2.72837861107 hours"
       ]
      },
      {
       "output_type": "stream",
       "stream": "stdout",
       "text": [
        "\r",
        "Finding differences of reclassification 40 for data pairs 14 of 45.  Elapsed time: 2.72983888891 hours"
       ]
      },
      {
       "output_type": "stream",
       "stream": "stdout",
       "text": [
        "\r",
        "Finding differences of reclassification 40 for data pairs 15 of 45.  Elapsed time: 2.73134361108 hours"
       ]
      },
      {
       "output_type": "stream",
       "stream": "stdout",
       "text": [
        "\r",
        "Finding differences of reclassification 40 for data pairs 16 of 45.  Elapsed time: 2.73281222224 hours"
       ]
      },
      {
       "output_type": "stream",
       "stream": "stdout",
       "text": [
        "\r",
        "Finding differences of reclassification 40 for data pairs 17 of 45.  Elapsed time: 2.73429027776 hours"
       ]
      },
      {
       "output_type": "stream",
       "stream": "stdout",
       "text": [
        "\r",
        "Finding differences of reclassification 40 for data pairs 18 of 45.  Elapsed time: 2.73574722224 hours"
       ]
      },
      {
       "output_type": "stream",
       "stream": "stdout",
       "text": [
        "\r",
        "Finding differences of reclassification 40 for data pairs 19 of 45.  Elapsed time: 2.73722888887 hours"
       ]
      },
      {
       "output_type": "stream",
       "stream": "stdout",
       "text": [
        "\r",
        "Finding differences of reclassification 40 for data pairs 20 of 45.  Elapsed time: 2.73872277776 hours"
       ]
      },
      {
       "output_type": "stream",
       "stream": "stdout",
       "text": [
        "\r",
        "Finding differences of reclassification 40 for data pairs 21 of 45.  Elapsed time: 2.7401952778 hours"
       ]
      },
      {
       "output_type": "stream",
       "stream": "stdout",
       "text": [
        "\r",
        "Finding differences of reclassification 40 for data pairs 22 of 45.  Elapsed time: 2.74167249997 hours"
       ]
      },
      {
       "output_type": "stream",
       "stream": "stdout",
       "text": [
        "\r",
        "Finding differences of reclassification 40 for data pairs 23 of 45.  Elapsed time: 2.7432808333 hours"
       ]
      },
      {
       "output_type": "stream",
       "stream": "stdout",
       "text": [
        "\r",
        "Finding differences of reclassification 40 for data pairs 24 of 45.  Elapsed time: 2.7447825 hours"
       ]
      },
      {
       "output_type": "stream",
       "stream": "stdout",
       "text": [
        "\r",
        "Finding differences of reclassification 40 for data pairs 25 of 45.  Elapsed time: 2.74626555555 hours"
       ]
      },
      {
       "output_type": "stream",
       "stream": "stdout",
       "text": [
        "\r",
        "Finding differences of reclassification 40 for data pairs 26 of 45.  Elapsed time: 2.7479338889 hours"
       ]
      },
      {
       "output_type": "stream",
       "stream": "stdout",
       "text": [
        "\r",
        "Finding differences of reclassification 40 for data pairs 27 of 45.  Elapsed time: 2.74946194443 hours"
       ]
      },
      {
       "output_type": "stream",
       "stream": "stdout",
       "text": [
        "\r",
        "Finding differences of reclassification 40 for data pairs 28 of 45.  Elapsed time: 2.75099444442 hours"
       ]
      },
      {
       "output_type": "stream",
       "stream": "stdout",
       "text": [
        "\r",
        "Finding differences of reclassification 40 for data pairs 29 of 45.  Elapsed time: 2.75247972223 hours"
       ]
      },
      {
       "output_type": "stream",
       "stream": "stdout",
       "text": [
        "\r",
        "Finding differences of reclassification 40 for data pairs 30 of 45.  Elapsed time: 2.75397888886 hours"
       ]
      },
      {
       "output_type": "stream",
       "stream": "stdout",
       "text": [
        "\r",
        "Finding differences of reclassification 40 for data pairs 31 of 45.  Elapsed time: 2.75547611111 hours"
       ]
      },
      {
       "output_type": "stream",
       "stream": "stdout",
       "text": [
        "\r",
        "Finding differences of reclassification 40 for data pairs 32 of 45.  Elapsed time: 2.75694944441 hours"
       ]
      },
      {
       "output_type": "stream",
       "stream": "stdout",
       "text": [
        "\r",
        "Finding differences of reclassification 40 for data pairs 33 of 45.  Elapsed time: 2.75842861109 hours"
       ]
      },
      {
       "output_type": "stream",
       "stream": "stdout",
       "text": [
        "\r",
        "Finding differences of reclassification 40 for data pairs 34 of 45.  Elapsed time: 2.75996222225 hours"
       ]
      },
      {
       "output_type": "stream",
       "stream": "stdout",
       "text": [
        "\r",
        "Finding differences of reclassification 40 for data pairs 35 of 45.  Elapsed time: 2.76145055552 hours"
       ]
      },
      {
       "output_type": "stream",
       "stream": "stdout",
       "text": [
        "\r",
        "Finding differences of reclassification 40 for data pairs 36 of 45.  Elapsed time: 2.76291916668 hours"
       ]
      },
      {
       "output_type": "stream",
       "stream": "stdout",
       "text": [
        "\r",
        "Finding differences of reclassification 40 for data pairs 37 of 45.  Elapsed time: 2.7644102778 hours"
       ]
      },
      {
       "output_type": "stream",
       "stream": "stdout",
       "text": [
        "\r",
        "Finding differences of reclassification 40 for data pairs 38 of 45.  Elapsed time: 2.76589583331 hours"
       ]
      },
      {
       "output_type": "stream",
       "stream": "stdout",
       "text": [
        "\r",
        "Finding differences of reclassification 40 for data pairs 39 of 45.  Elapsed time: 2.76743138889 hours"
       ]
      },
      {
       "output_type": "stream",
       "stream": "stdout",
       "text": [
        "\r",
        "Finding differences of reclassification 40 for data pairs 40 of 45.  Elapsed time: 2.76900611109 hours"
       ]
      },
      {
       "output_type": "stream",
       "stream": "stdout",
       "text": [
        "\r",
        "Finding differences of reclassification 40 for data pairs 41 of 45.  Elapsed time: 2.77064694444 hours"
       ]
      },
      {
       "output_type": "stream",
       "stream": "stdout",
       "text": [
        "\r",
        "Finding differences of reclassification 40 for data pairs 42 of 45.  Elapsed time: 2.77235499998 hours"
       ]
      },
      {
       "output_type": "stream",
       "stream": "stdout",
       "text": [
        "\r",
        "Finding differences of reclassification 40 for data pairs 43 of 45.  Elapsed time: 2.77404916664 hours"
       ]
      },
      {
       "output_type": "stream",
       "stream": "stdout",
       "text": [
        "\r",
        "Finding differences of reclassification 40 for data pairs 44 of 45.  Elapsed time: 2.77596861111 hours"
       ]
      },
      {
       "output_type": "stream",
       "stream": "stdout",
       "text": [
        "\r",
        "Finding differences of reclassification 40 for data pairs 45 of 45.  Elapsed time: 2.77782500002 hours"
       ]
      }
     ],
     "prompt_number": 29
    },
    {
     "cell_type": "code",
     "collapsed": false,
     "input": [
      "aggre_clust_diffs_40 = aggre_clust_diffs\n",
      "med_clust_diffs_40 = med_clust_diffs"
     ],
     "language": "python",
     "metadata": {},
     "outputs": [],
     "prompt_number": 35
    },
    {
     "cell_type": "code",
     "collapsed": false,
     "input": [
      "med_clust_diffs_60 = np.load(\"med_clust_diffs_60.npy\")"
     ],
     "language": "python",
     "metadata": {},
     "outputs": [],
     "prompt_number": 51
    },
    {
     "cell_type": "code",
     "collapsed": false,
     "input": [
      "aggre_clust_diffs_60 = np.load(\"aggre_clust_diffs_60.npy\")"
     ],
     "language": "python",
     "metadata": {},
     "outputs": [],
     "prompt_number": 64
    },
    {
     "cell_type": "code",
     "collapsed": false,
     "input": [
      "med_clust_diffs_80_120 = np.concatenate((med_clust_diffs_60_78, med_clust_diffs[np.where(med_clust_diffs)]))"
     ],
     "language": "python",
     "metadata": {},
     "outputs": [],
     "prompt_number": 31
    },
    {
     "cell_type": "code",
     "collapsed": false,
     "input": [
      "aggre_clust_diffs_60_78 = np.load(\"aggre_clust_diffs_60_78.npy\")"
     ],
     "language": "python",
     "metadata": {},
     "outputs": [],
     "prompt_number": 32
    },
    {
     "cell_type": "code",
     "collapsed": false,
     "input": [
      "np.save(\"med_clust_diffs_80_120.npy\", med_clust_diffs_80_120)\n",
      "np.save(\"aggre_clust_diffs_80_120.npy\", np.concatenate((aggre_clust_diffs_60_78, aggre_clust_diffs)))"
     ],
     "language": "python",
     "metadata": {},
     "outputs": [],
     "prompt_number": 33
    },
    {
     "cell_type": "code",
     "collapsed": false,
     "input": [
      "np.save(\"med_clust_diffs_60_78.npy\", np.concatenate((med_clust_diffs_60, med_clust_diffs[np.where(med_clust_diffs)])))\n",
      "np.save(\"aggre_clust_diffs_60_78.npy\", np.concatenate((aggre_clust_diffs_60, aggre_clust_diffs)))"
     ],
     "language": "python",
     "metadata": {},
     "outputs": [],
     "prompt_number": 70
    },
    {
     "cell_type": "code",
     "collapsed": false,
     "input": [
      "np.save(\"aggre_clust_diffs_60.npy\", np.concatenate((aggre_clust_diffs_40, aggre_clust_diffs)))\n",
      "np.save(\"med_clust_diffs_60.npy\", np.concatenate((med_clust_diffs_40, med_clust_diffs)))"
     ],
     "language": "python",
     "metadata": {},
     "outputs": [],
     "prompt_number": 44
    },
    {
     "cell_type": "code",
     "collapsed": false,
     "input": [
      "plot(med_clust_diffs)"
     ],
     "language": "python",
     "metadata": {},
     "outputs": [
      {
       "metadata": {},
       "output_type": "pyout",
       "prompt_number": 22,
       "text": [
        "[<matplotlib.lines.Line2D at 0x249f3fd0>]"
       ]
      },
      {
       "metadata": {},
       "output_type": "display_data",
       "png": "[encoded data removed]",
       "text": [
        "<matplotlib.figure.Figure at 0x249e7da0>"
       ]
      }
     ],
     "prompt_number": 22
    },
    {
     "cell_type": "code",
     "collapsed": false,
     "input": [
      "plot(np.concatenate((med_clust_diffs_40, med_clust_diffs)))"
     ],
     "language": "python",
     "metadata": {},
     "outputs": [
      {
       "metadata": {},
       "output_type": "pyout",
       "prompt_number": 45,
       "text": [
        "[<matplotlib.lines.Line2D at 0x24dfecc0>]"
       ]
      },
      {
       "metadata": {},
       "output_type": "display_data",
       "png": "[encoded data removed]",
       "text": [
        "<matplotlib.figure.Figure at 0x24005b70>"
       ]
      }
     ],
     "prompt_number": 45
    },
    {
     "cell_type": "code",
     "collapsed": false,
     "input": [
      "plot(med_clust_diffs_78)"
     ],
     "language": "python",
     "metadata": {},
     "outputs": [
      {
       "metadata": {},
       "output_type": "pyout",
       "prompt_number": 56,
       "text": [
        "[<matplotlib.lines.Line2D at 0x1f0961d0>]"
       ]
      },
      {
       "metadata": {},
       "output_type": "display_data",
       "png": "[encoded data removed]",
       "text": [
        "<matplotlib.figure.Figure at 0x63a76a0>"
       ]
      }
     ],
     "prompt_number": 56
    },
    {
     "cell_type": "code",
     "collapsed": false,
     "input": [
      "plot(med_clust_diffs_80_120)"
     ],
     "language": "python",
     "metadata": {},
     "outputs": [
      {
       "metadata": {},
       "output_type": "pyout",
       "prompt_number": 34,
       "text": [
        "[<matplotlib.lines.Line2D at 0x211b16d8>]"
       ]
      },
      {
       "metadata": {},
       "output_type": "display_data",
       "png": "[encoded data removed]",
       "text": [
        "<matplotlib.figure.Figure at 0x1e728630>"
       ]
      }
     ],
     "prompt_number": 34
    },
    {
     "cell_type": "code",
     "collapsed": false,
     "input": [
      "b = 4"
     ],
     "language": "python",
     "metadata": {},
     "outputs": [],
     "prompt_number": "*"
    },
    {
     "cell_type": "code",
     "collapsed": false,
     "input": [
      "len(all_masks_list)"
     ],
     "language": "python",
     "metadata": {},
     "outputs": [
      {
       "metadata": {},
       "output_type": "pyout",
       "prompt_number": 18,
       "text": [
        "22"
       ]
      }
     ],
     "prompt_number": 18
    },
    {
     "cell_type": "code",
     "collapsed": false,
     "input": [
      "for i in np.arange(1,11):\n",
      "    np.save(\"sig_list_d%s.npy\"%i, all_masks_list[i-1])"
     ],
     "language": "python",
     "metadata": {},
     "outputs": [],
     "prompt_number": 12
    },
    {
     "cell_type": "code",
     "collapsed": false,
     "input": [
      "test = np.squeeze(np.array(rand_reclass13_masks))"
     ],
     "language": "python",
     "metadata": {},
     "outputs": [],
     "prompt_number": 166
    },
    {
     "cell_type": "code",
     "collapsed": false,
     "input": [
      "i = list(test)"
     ],
     "language": "python",
     "metadata": {},
     "outputs": [],
     "prompt_number": 168
    },
    {
     "cell_type": "code",
     "collapsed": false,
     "input": [],
     "language": "python",
     "metadata": {},
     "outputs": []
    }
   ],
   "metadata": {}
  }
 ]
}