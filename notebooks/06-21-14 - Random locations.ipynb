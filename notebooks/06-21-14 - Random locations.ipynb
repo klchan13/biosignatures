{
 "metadata": {
  "name": ""
 },
 "nbformat": 3,
 "nbformat_minor": 0,
 "worksheets": [
  {
   "cells": [
    {
     "cell_type": "code",
     "collapsed": false,
     "input": [
      "%pylab inline"
     ],
     "language": "python",
     "metadata": {},
     "outputs": [
      {
       "output_type": "stream",
       "stream": "stdout",
       "text": [
        "Populating the interactive namespace from numpy and matplotlib\n"
       ]
      }
     ],
     "prompt_number": 1
    },
    {
     "cell_type": "code",
     "collapsed": false,
     "input": [
      "import matplotlib.pyplot as plt\n",
      "import Image as im\n",
      "\n",
      "#These are needed in the cluster classification\n",
      "import numpy as np\n",
      "from scipy.ndimage.measurements import label\n",
      "import scipy.io\n",
      "from math import factorial as f\n",
      "import itertools\n",
      "import sys\n",
      "import scipy.stats.stats as stats\n",
      "import time"
     ],
     "language": "python",
     "metadata": {},
     "outputs": [],
     "prompt_number": 2
    },
    {
     "cell_type": "code",
     "collapsed": false,
     "input": [
      "import sys\n",
      "sys.path.append('c:/Users/Lirael/Source/osmosis/')\n",
      "import osmosis.utils as ozu\n",
      "import osmosis.viz.mpl as viz"
     ],
     "language": "python",
     "metadata": {},
     "outputs": [],
     "prompt_number": 3
    },
    {
     "cell_type": "code",
     "collapsed": false,
     "input": [
      "import biosignatures.cluster_analysis as ca\n",
      "import biosignatures.signature_analysis as sa\n",
      "import biosignatures.utils as bsu"
     ],
     "language": "python",
     "metadata": {},
     "outputs": [],
     "prompt_number": 4
    },
    {
     "cell_type": "code",
     "collapsed": false,
     "input": [
      "reload(ca)\n",
      "reload(sa)\n",
      "reload(bsu)"
     ],
     "language": "python",
     "metadata": {},
     "outputs": [
      {
       "metadata": {},
       "output_type": "pyout",
       "prompt_number": 5,
       "text": [
        "<module 'biosignatures.utils' from 'c:\\Anaconda\\lib\\site-packages\\biosignatures\\utils.pyc'>"
       ]
      }
     ],
     "prompt_number": 5
    },
    {
     "cell_type": "code",
     "collapsed": false,
     "input": [
      "cd ~/Source/biosignatures/data/"
     ],
     "language": "python",
     "metadata": {},
     "outputs": [
      {
       "output_type": "stream",
       "stream": "stdout",
       "text": [
        "c:\\Users\\Lirael\\Source\\biosignatures\\data\n"
       ]
      }
     ],
     "prompt_number": 6
    },
    {
     "cell_type": "code",
     "collapsed": false,
     "input": [
      "unpack_data_unalt = scipy.io.loadmat('data_unaltered.mat')\n",
      "unpack_data_alt = scipy.io.loadmat('data_altered.mat')\n",
      "# Median\n",
      "unpack_random = scipy.io.loadmat('random_sig_list.mat')"
     ],
     "language": "python",
     "metadata": {},
     "outputs": [],
     "prompt_number": 7
    },
    {
     "cell_type": "code",
     "collapsed": false,
     "input": [
      "#random_sig_list = np.squeeze(unpack_random['random_sig_list1'])\n",
      "lin_data_alt = np.squeeze(unpack_data_alt['linearData_alt'])\n",
      "lin_data = np.squeeze(unpack_data_unalt['linearData'])"
     ],
     "language": "python",
     "metadata": {},
     "outputs": [],
     "prompt_number": 8
    },
    {
     "cell_type": "code",
     "collapsed": false,
     "input": [
      "random_sigs = []\n",
      "for sig in np.arange(len(random_sig_list)):\n",
      "    rand_sigs_arr = np.zeros((1, 491*673))\n",
      "    if np.squeeze(random_sig_list[sig]).shape:\n",
      "        rand_sigs_arr[0, (np.squeeze(random_sig_list[sig]),)] = 1\n",
      "        random_sigs.append(rand_sigs_arr)"
     ],
     "language": "python",
     "metadata": {},
     "outputs": [
      {
       "output_type": "stream",
       "stream": "stdout",
       "text": [
        "Traceback (most recent call last):\n",
        "  File \"c:\\Anaconda\\lib\\site-packages\\ipython-1.0.0_dev-py2.7.egg\\IPython\\core\\ultratb.py\", line 759, in structured_traceback\n",
        "    records = _fixed_getinnerframes(etb, context, tb_offset)\n"
       ]
      },
      {
       "output_type": "stream",
       "stream": "stdout",
       "text": [
        "  File \"c:\\Anaconda\\lib\\site-packages\\ipython-1.0.0_dev-py2.7.egg\\IPython\\core\\ultratb.py\", line 242, in _fixed_getinnerframes\n",
        "    records  = fix_frame_records_filenames(inspect.getinnerframes(etb, context))\n",
        "  File \"c:\\Anaconda\\lib\\inspect.py\", line 1043, in getinnerframes\n",
        "    framelist.append((tb.tb_frame,) + getframeinfo(tb, context))\n"
       ]
      },
      {
       "output_type": "stream",
       "stream": "stdout",
       "text": [
        "  File \"c:\\Anaconda\\lib\\inspect.py\", line 1003, in getframeinfo\n",
        "    filename = getsourcefile(frame) or getfile(frame)\n",
        "  File \"c:\\Anaconda\\lib\\inspect.py\", line 454, in getsourcefile\n",
        "    if hasattr(getmodule(object, filename), '__loader__'):\n",
        "  File \"c:\\Anaconda\\lib\\inspect.py\", line 497, in getmodule\n",
        "    f = getabsfile(module)\n",
        "  File \"c:\\Anaconda\\lib\\inspect.py\", line 466, in getabsfile\n",
        "    _filename = getsourcefile(object) or getfile(object)\n",
        "  File \"c:\\Anaconda\\lib\\inspect.py\", line 451, in getsourcefile\n",
        "    if os.path.exists(filename):\n",
        "  File \"c:\\Anaconda\\lib\\genericpath.py\", line 18, in exists\n",
        "    os.stat(path)\n"
       ]
      },
      {
       "output_type": "stream",
       "stream": "stderr",
       "text": [
        "ERROR: Internal Python error in the inspect module.\n",
        "Below is the traceback from this internal error.\n",
        "\n"
       ]
      },
      {
       "ename": "NameError",
       "evalue": "name 'random_sig_list' is not defined",
       "output_type": "pyerr",
       "traceback": ""
      },
      {
       "output_type": "stream",
       "stream": "stdout",
       "text": [
        "KeyboardInterrupt\n"
       ]
      },
      {
       "output_type": "stream",
       "stream": "stderr",
       "text": [
        "\n",
        "Unfortunately, your original traceback can not be constructed.\n",
        "\n"
       ]
      }
     ],
     "prompt_number": 17
    },
    {
     "cell_type": "code",
     "collapsed": false,
     "input": [
      "figure(figsize=(10, 10))\n",
      "imshow(bsu.signature_map(random_sigs, 491, 673))"
     ],
     "language": "python",
     "metadata": {},
     "outputs": [
      {
       "metadata": {},
       "output_type": "pyout",
       "prompt_number": 18,
       "text": [
        "<matplotlib.image.AxesImage at 0x12ee1940>"
       ]
      },
      {
       "metadata": {},
       "output_type": "display_data",
       "png": "[encoded data removed]",
       "text": [
        "<matplotlib.figure.Figure at 0x12c79630>"
       ]
      }
     ],
     "prompt_number": 18
    },
    {
     "cell_type": "code",
     "collapsed": false,
     "input": [
      "rand_reclass1 = sa.reclass(lin_data_alt, sigList=random_sig_list, minReassignPix=10)"
     ],
     "language": "python",
     "metadata": {},
     "outputs": [],
     "prompt_number": 90
    },
    {
     "cell_type": "code",
     "collapsed": false,
     "input": [
      "rand_reclass1_masks = bsu.sig_list_to_mask(rand_reclass1)"
     ],
     "language": "python",
     "metadata": {},
     "outputs": [],
     "prompt_number": 91
    },
    {
     "cell_type": "code",
     "collapsed": false,
     "input": [
      "rand_reclass2_masks = bsu.sig_list_to_mask(sa.reclass(lin_data_alt, allSig=rand_reclass1_masks, minReassignPix=10))"
     ],
     "language": "python",
     "metadata": {},
     "outputs": [],
     "prompt_number": 92
    },
    {
     "cell_type": "code",
     "collapsed": false,
     "input": [
      "rand_reclass3_masks = bsu.sig_list_to_mask(sa.reclass(lin_data_alt, allSig=rand_reclass2_masks, minReassignPix=10))"
     ],
     "language": "python",
     "metadata": {},
     "outputs": [],
     "prompt_number": 101
    },
    {
     "cell_type": "code",
     "collapsed": false,
     "input": [
      "rand_reclass4_masks = bsu.sig_list_to_mask(sa.reclass(lin_data_alt, allSig=rand_reclass3_masks, minReassignPix=10))"
     ],
     "language": "python",
     "metadata": {},
     "outputs": [],
     "prompt_number": 105
    },
    {
     "cell_type": "code",
     "collapsed": false,
     "input": [
      "rand_reclass5_masks = bsu.sig_list_to_mask(sa.reclass(lin_data_alt, allSig=rand_reclass4_masks, minReassignPix=10))"
     ],
     "language": "python",
     "metadata": {},
     "outputs": [],
     "prompt_number": 112
    },
    {
     "cell_type": "code",
     "collapsed": false,
     "input": [
      "rand_reclass6_masks = bsu.sig_list_to_mask(sa.reclass(lin_data_alt, allSig=rand_reclass5_masks, minReassignPix=10))"
     ],
     "language": "python",
     "metadata": {},
     "outputs": [],
     "prompt_number": 117
    },
    {
     "cell_type": "code",
     "collapsed": false,
     "input": [
      "rand_reclass7_masks = bsu.sig_list_to_mask(sa.reclass(lin_data_alt, allSig=rand_reclass6_masks, minReassignPix=10))"
     ],
     "language": "python",
     "metadata": {},
     "outputs": [],
     "prompt_number": 124
    },
    {
     "cell_type": "code",
     "collapsed": false,
     "input": [
      "rand_reclass8_masks = bsu.sig_list_to_mask(sa.reclass(lin_data_alt, allSig=rand_reclass7_masks, minReassignPix=10))"
     ],
     "language": "python",
     "metadata": {},
     "outputs": [],
     "prompt_number": 129
    },
    {
     "cell_type": "code",
     "collapsed": false,
     "input": [
      "rand_reclass9_masks = bsu.sig_list_to_mask(sa.reclass(lin_data_alt, allSig=rand_reclass8_masks, minReassignPix=10))"
     ],
     "language": "python",
     "metadata": {},
     "outputs": [],
     "prompt_number": 133
    },
    {
     "cell_type": "code",
     "collapsed": false,
     "input": [
      "rand_reclass10_masks = bsu.sig_list_to_mask(sa.reclass(lin_data_alt, allSig=rand_reclass9_masks, minReassignPix=10))"
     ],
     "language": "python",
     "metadata": {},
     "outputs": [],
     "prompt_number": 137
    },
    {
     "cell_type": "code",
     "collapsed": false,
     "input": [
      "rand_reclass11_masks = bsu.sig_list_to_mask(sa.reclass(lin_data_alt, allSig=rand_reclass10_masks, minReassignPix=10))"
     ],
     "language": "python",
     "metadata": {},
     "outputs": [],
     "prompt_number": 140
    },
    {
     "cell_type": "code",
     "collapsed": false,
     "input": [
      "rand_reclass12_masks = bsu.sig_list_to_mask(sa.reclass(lin_data_alt, allSig=rand_reclass11_masks, minReassignPix=10))"
     ],
     "language": "python",
     "metadata": {},
     "outputs": [],
     "prompt_number": 146
    },
    {
     "cell_type": "code",
     "collapsed": false,
     "input": [
      "rand_reclass13_masks = bsu.sig_list_to_mask(sa.reclass(lin_data_alt, allSig=rand_reclass12_masks, minReassignPix=10))"
     ],
     "language": "python",
     "metadata": {},
     "outputs": [],
     "prompt_number": 149
    },
    {
     "cell_type": "code",
     "collapsed": false,
     "input": [
      "rand_reclass14_masks = bsu.sig_list_to_mask(sa.reclass(lin_data_alt, allSig=rand_reclass13_masks, minReassignPix=10))"
     ],
     "language": "python",
     "metadata": {},
     "outputs": [],
     "prompt_number": 156
    },
    {
     "cell_type": "code",
     "collapsed": false,
     "input": [
      "rand_reclass15_masks = bsu.sig_list_to_mask(sa.reclass(lin_data_alt, allSig=rand_reclass13_masks, minReassignPix=10))"
     ],
     "language": "python",
     "metadata": {},
     "outputs": []
    },
    {
     "cell_type": "code",
     "collapsed": false,
     "input": [
      "clust_diffs, clust_diff_list = ca.clust_diff(rand_reclass1_masks, rand_reclass2_masks, lin_data_alt)"
     ],
     "language": "python",
     "metadata": {},
     "outputs": [],
     "prompt_number": 98
    },
    {
     "cell_type": "code",
     "collapsed": false,
     "input": [
      "clust_diffs2, clust_diff_list = ca.clust_diff(rand_reclass2_masks, rand_reclass3_masks, lin_data_alt)"
     ],
     "language": "python",
     "metadata": {},
     "outputs": [],
     "prompt_number": 102
    },
    {
     "cell_type": "code",
     "collapsed": false,
     "input": [
      "clust_diffs3, clust_diff_list = ca.clust_diff(rand_reclass3_masks, rand_reclass4_masks, lin_data_alt)"
     ],
     "language": "python",
     "metadata": {},
     "outputs": [],
     "prompt_number": 106
    },
    {
     "cell_type": "code",
     "collapsed": false,
     "input": [
      "clust_diffs4, clust_diff_list = ca.clust_diff(rand_reclass4_masks, rand_reclass5_masks, lin_data_alt)"
     ],
     "language": "python",
     "metadata": {},
     "outputs": [],
     "prompt_number": 113
    },
    {
     "cell_type": "code",
     "collapsed": false,
     "input": [
      "clust_diffs5, clust_diff_list = ca.clust_diff(rand_reclass5_masks, rand_reclass6_masks, lin_data_alt)"
     ],
     "language": "python",
     "metadata": {},
     "outputs": [],
     "prompt_number": 121
    },
    {
     "cell_type": "code",
     "collapsed": false,
     "input": [
      "clust_diffs6, clust_diff_list = ca.clust_diff(rand_reclass6_masks, rand_reclass7_masks, lin_data_alt)"
     ],
     "language": "python",
     "metadata": {},
     "outputs": [],
     "prompt_number": 125
    },
    {
     "cell_type": "code",
     "collapsed": false,
     "input": [
      "clust_diffs7, clust_diff_list = ca.clust_diff(rand_reclass7_masks, rand_reclass8_masks, lin_data_alt)"
     ],
     "language": "python",
     "metadata": {},
     "outputs": [],
     "prompt_number": 130
    },
    {
     "cell_type": "code",
     "collapsed": false,
     "input": [
      "clust_diffs8, clust_diff_list = ca.clust_diff(rand_reclass8_masks, rand_reclass9_masks, lin_data_alt)"
     ],
     "language": "python",
     "metadata": {},
     "outputs": [],
     "prompt_number": 134
    },
    {
     "cell_type": "code",
     "collapsed": false,
     "input": [
      "clust_diffs9, clust_diff_list = ca.clust_diff(rand_reclass9_masks, rand_reclass10_masks, lin_data_alt)"
     ],
     "language": "python",
     "metadata": {},
     "outputs": [],
     "prompt_number": 138
    },
    {
     "cell_type": "code",
     "collapsed": false,
     "input": [
      "clust_diffs10, clust_diff_list = ca.clust_diff(rand_reclass10_masks, rand_reclass11_masks, lin_data_alt)"
     ],
     "language": "python",
     "metadata": {},
     "outputs": [],
     "prompt_number": 141
    },
    {
     "cell_type": "code",
     "collapsed": false,
     "input": [
      "clust_diffs11, clust_diff_list = ca.clust_diff(rand_reclass11_masks, rand_reclass12_masks, lin_data_alt)"
     ],
     "language": "python",
     "metadata": {},
     "outputs": [],
     "prompt_number": 147
    },
    {
     "cell_type": "code",
     "collapsed": false,
     "input": [
      "clust_diffs12, clust_diff_list = ca.clust_diff(rand_reclass12_masks, rand_reclass13_masks, lin_data_alt)"
     ],
     "language": "python",
     "metadata": {},
     "outputs": [],
     "prompt_number": 150
    },
    {
     "cell_type": "code",
     "collapsed": false,
     "input": [
      "clust_diffs13, clust_diff_list = ca.clust_diff(rand_reclass13_masks, rand_reclass14_masks, lin_data_alt)"
     ],
     "language": "python",
     "metadata": {},
     "outputs": [],
     "prompt_number": 157
    },
    {
     "cell_type": "code",
     "collapsed": false,
     "input": [
      "plt.rcParams['lines.linewidth'] = 2"
     ],
     "language": "python",
     "metadata": {},
     "outputs": [],
     "prompt_number": 99
    },
    {
     "cell_type": "code",
     "collapsed": false,
     "input": [
      "np.max(clust_diffs13)"
     ],
     "language": "python",
     "metadata": {},
     "outputs": [
      {
       "metadata": {},
       "output_type": "pyout",
       "prompt_number": 159,
       "text": [
        "62.0"
       ]
      }
     ],
     "prompt_number": 159
    },
    {
     "cell_type": "code",
     "collapsed": false,
     "input": [
      "fig = viz.probability_hist(clust_diffs, bins = 10)\n",
      "fig = viz.probability_hist(clust_diffs2, bins = 10, fig=fig)\n",
      "fig = viz.probability_hist(clust_diffs3, bins = 10, fig=fig)\n",
      "fig = viz.probability_hist(clust_diffs4, bins = 10, fig=fig)\n",
      "fig = viz.probability_hist(clust_diffs5, bins = 10, fig=fig)\n",
      "fig = viz.probability_hist(clust_diffs6, bins = 10, fig=fig)\n",
      "fig = viz.probability_hist(clust_diffs7, bins = 10, fig=fig)\n",
      "fig = viz.probability_hist(clust_diffs8, bins = 10, fig=fig)\n",
      "fig = viz.probability_hist(clust_diffs9, bins = 10, fig=fig)\n",
      "fig = viz.probability_hist(clust_diffs10, bins = 10, fig=fig)\n",
      "fig = viz.probability_hist(clust_diffs11, bins = 10, fig=fig)\n",
      "fig = viz.probability_hist(clust_diffs12, bins = 10, fig=fig)\n",
      "fig = viz.probability_hist(clust_diffs13, bins = 10, fig=fig)\n",
      "\n",
      "plt.xlabel('Differences in pixel number\\nbetween signatures of clusters', size = 18)\n",
      "plt.ylabel('Probability', size = 18)\n",
      "\n",
      "params = {'legend.fontsize': 15,\n",
      "          'legend.linewidth': 2}"
     ],
     "language": "python",
     "metadata": {},
     "outputs": [
      {
       "metadata": {},
       "output_type": "display_data",
       "png": "[encoded data removed]",
       "text": [
        "<matplotlib.figure.Figure at 0x39d11518>"
       ]
      }
     ],
     "prompt_number": 158
    },
    {
     "cell_type": "code",
     "collapsed": false,
     "input": [
      "figure(figsize=(12, 10))\n",
      "plt.subplot(121)\n",
      "imshow(bsu.signature_map(rand_reclass13_masks))\n",
      "\n",
      "plt.subplot(122)\n",
      "imshow(bsu.signature_map(rand_reclass14_masks))"
     ],
     "language": "python",
     "metadata": {},
     "outputs": [
      {
       "metadata": {},
       "output_type": "pyout",
       "prompt_number": 160,
       "text": [
        "<matplotlib.image.AxesImage at 0x3973dbe0>"
       ]
      },
      {
       "metadata": {},
       "output_type": "display_data",
       "png": "[encoded data removed]",
       "text": [
        "<matplotlib.figure.Figure at 0x39d0e5c0>"
       ]
      }
     ],
     "prompt_number": 160
    },
    {
     "cell_type": "code",
     "collapsed": false,
     "input": [
      "rand_reclass1[0]"
     ],
     "language": "python",
     "metadata": {},
     "outputs": [
      {
       "metadata": {},
       "output_type": "pyout",
       "prompt_number": 68,
       "text": [
        "array([222229,   7632, 294408, ...,   9099, 219309, 278226])"
       ]
      }
     ],
     "prompt_number": 68
    },
    {
     "cell_type": "code",
     "collapsed": false,
     "input": [
      "import itertools"
     ],
     "language": "python",
     "metadata": {},
     "outputs": [],
     "prompt_number": 161
    },
    {
     "cell_type": "code",
     "collapsed": false,
     "input": [
      "data_sets[0][0]"
     ],
     "language": "python",
     "metadata": {},
     "outputs": [
      {
       "metadata": {},
       "output_type": "pyout",
       "prompt_number": 179,
       "text": [
        "array([[ 51110, 253414,  99617, ...,  56028, 167453, 180105]])"
       ]
      }
     ],
     "prompt_number": 179
    },
    {
     "cell_type": "code",
     "collapsed": false,
     "input": [
      "data_sets = []\n",
      "for d_num in np.arange(1,11):\n",
      "    data_sets.append(np.squeeze(unpack_random['random_sig_list%s'%d_num]))"
     ],
     "language": "python",
     "metadata": {},
     "outputs": [],
     "prompt_number": 9
    },
    {
     "cell_type": "code",
     "collapsed": false,
     "input": [
      "new_data_sets = []\n",
      "for i in np.arange(len(all_masks_list)):\n",
      "    new_data_sets.append(all_masks_list[i][19])"
     ],
     "language": "python",
     "metadata": {},
     "outputs": [],
     "prompt_number": 48
    },
    {
     "cell_type": "code",
     "collapsed": false,
     "input": [
      "sig_list = np.load(\"sig_list_119_140.npy\")"
     ],
     "language": "python",
     "metadata": {},
     "outputs": [],
     "prompt_number": 10
    },
    {
     "cell_type": "code",
     "collapsed": false,
     "input": [
      "cd ~/Source/biosignatures/data/analyses/"
     ],
     "language": "python",
     "metadata": {},
     "outputs": [
      {
       "output_type": "stream",
       "stream": "stdout",
       "text": [
        "c:\\Users\\Lirael\\Source\\biosignatures\\data\\analyses\n"
       ]
      }
     ],
     "prompt_number": 9
    },
    {
     "cell_type": "code",
     "collapsed": false,
     "input": [
      "med_clust_diffs_80_120 = np.load(\"med_clust_diffs_80_120.npy\")"
     ],
     "language": "python",
     "metadata": {},
     "outputs": [],
     "prompt_number": 15
    },
    {
     "cell_type": "code",
     "collapsed": false,
     "input": [
      "new_data_sets = []\n",
      "for i in np.arange(sig_list.shape[0]):\n",
      "    new_data_sets.append(sig_list[i][19])"
     ],
     "language": "python",
     "metadata": {},
     "outputs": [],
     "prompt_number": 13
    },
    {
     "cell_type": "code",
     "collapsed": false,
     "input": [
      "np.arange(141, 180).shape"
     ],
     "language": "python",
     "metadata": {},
     "outputs": [
      {
       "metadata": {},
       "output_type": "pyout",
       "prompt_number": 15,
       "text": [
        "(39L,)"
       ]
      }
     ],
     "prompt_number": 15
    },
    {
     "cell_type": "code",
     "collapsed": false,
     "input": [
      "max_itr = 180\n",
      "xLen = 491\n",
      "yLen = 673\n",
      "all_masks_list = []\n",
      "t1 = time.time()\n",
      "for d_idx, data in enumerate(new_data_sets):\n",
      "    t2 = time.time()\n",
      "    all_masks = []\n",
      "    # Initial reclassification after data generation.\n",
      "    sys.stdout.write('\\r' + \"Reclassification %s for data set %s.  Elapsed time: %s mins\"%(140, d_idx+1,(t2-t1)/60.))\n",
      "    sys.stdout.flush() \n",
      "    rand_reclass = sa.reclass(lin_data_alt, sigList=data, minReassignPix=10)\n",
      "    \n",
      "    # Initialize an array to include all the masks from the reassignment.\n",
      "    # After the first relcassification, all the 1 pixel signatures should be gone\n",
      "    # and the number of signatures should be constant.\n",
      "    #np.zeros((max_itr, len(rand_reclass_masks), xLen*yLen))\n",
      "    for itr in np.arange(141, max_itr):\n",
      "        t2 = time.time()\n",
      "        sys.stdout.write('\\r' + \"Reclassification %s for data set %s.  Elapsed time: %s mins\"%(itr+2, d_idx+1,(t2-t1)/60.))\n",
      "        sys.stdout.flush() \n",
      "\n",
      "        # Reclassify and change from signature list to mask.\n",
      "        rand_reclass = sa.reclass(lin_data_alt, sigList=rand_reclass, minReassignPix=10)\n",
      "        all_masks.append(np.squeeze(np.array(rand_reclass)))\n",
      "    \n",
      "    # Save the masks for this data set.\n",
      "    all_masks_list.append(all_masks)\n",
      "    \n",
      "np.save(\"sig_list_140_180.npy\", all_masks_list)"
     ],
     "language": "python",
     "metadata": {},
     "outputs": [
      {
       "output_type": "stream",
       "stream": "stdout",
       "text": [
        "\r",
        "Reclassification 140 for data set 1.  Elapsed time: 1.66654586792e-05 mins"
       ]
      },
      {
       "output_type": "stream",
       "stream": "stdout",
       "text": [
        "\r",
        "Reclassification 143 for data set 1.  Elapsed time: 0.26173333327 mins"
       ]
      },
      {
       "output_type": "stream",
       "stream": "stdout",
       "text": [
        "\r",
        "Reclassification 144 for data set 1.  Elapsed time: 0.506833334764 mins"
       ]
      },
      {
       "output_type": "stream",
       "stream": "stdout",
       "text": [
        "\r",
        "Reclassification 145 for data set 1.  Elapsed time: 0.747433332602 mins"
       ]
      },
      {
       "output_type": "stream",
       "stream": "stdout",
       "text": [
        "\r",
        "Reclassification 146 for data set 1.  Elapsed time: 0.976166665554 mins"
       ]
      },
      {
       "output_type": "stream",
       "stream": "stdout",
       "text": [
        "\r",
        "Reclassification 147 for data set 1.  Elapsed time: 1.21081666549 mins"
       ]
      },
      {
       "output_type": "stream",
       "stream": "stdout",
       "text": [
        "\r",
        "Reclassification 148 for data set 1.  Elapsed time: 1.45153333346 mins"
       ]
      },
      {
       "output_type": "stream",
       "stream": "stdout",
       "text": [
        "\r",
        "Reclassification 149 for data set 1.  Elapsed time: 1.69529999892 mins"
       ]
      },
      {
       "output_type": "stream",
       "stream": "stdout",
       "text": [
        "\r",
        "Reclassification 150 for data set 1.  Elapsed time: 1.94704999924 mins"
       ]
      },
      {
       "output_type": "stream",
       "stream": "stdout",
       "text": [
        "\r",
        "Reclassification 151 for data set 1.  Elapsed time: 2.1740500013 mins"
       ]
      },
      {
       "output_type": "stream",
       "stream": "stdout",
       "text": [
        "\r",
        "Reclassification 152 for data set 1.  Elapsed time: 2.40356666644 mins"
       ]
      },
      {
       "output_type": "stream",
       "stream": "stdout",
       "text": [
        "\r",
        "Reclassification 153 for data set 1.  Elapsed time: 2.63578333457 mins"
       ]
      },
      {
       "output_type": "stream",
       "stream": "stdout",
       "text": [
        "\r",
        "Reclassification 154 for data set 1.  Elapsed time: 2.8839166681 mins"
       ]
      },
      {
       "output_type": "stream",
       "stream": "stdout",
       "text": [
        "\r",
        "Reclassification 155 for data set 1.  Elapsed time: 3.13245000045 mins"
       ]
      },
      {
       "output_type": "stream",
       "stream": "stdout",
       "text": [
        "\r",
        "Reclassification 156 for data set 1.  Elapsed time: 3.38771666686 mins"
       ]
      },
      {
       "output_type": "stream",
       "stream": "stdout",
       "text": [
        "\r",
        "Reclassification 157 for data set 1.  Elapsed time: 3.61550000111 mins"
       ]
      },
      {
       "output_type": "stream",
       "stream": "stdout",
       "text": [
        "\r",
        "Reclassification 158 for data set 1.  Elapsed time: 3.84201666514 mins"
       ]
      },
      {
       "output_type": "stream",
       "stream": "stdout",
       "text": [
        "\r",
        "Reclassification 159 for data set 1.  Elapsed time: 4.06789999803 mins"
       ]
      },
      {
       "output_type": "stream",
       "stream": "stdout",
       "text": [
        "\r",
        "Reclassification 160 for data set 1.  Elapsed time: 4.31119999886 mins"
       ]
      },
      {
       "output_type": "stream",
       "stream": "stdout",
       "text": [
        "\r",
        "Reclassification 161 for data set 1.  Elapsed time: 4.54994999965 mins"
       ]
      },
      {
       "output_type": "stream",
       "stream": "stdout",
       "text": [
        "\r",
        "Reclassification 162 for data set 1.  Elapsed time: 4.77953333457 mins"
       ]
      },
      {
       "output_type": "stream",
       "stream": "stdout",
       "text": [
        "\r",
        "Reclassification 163 for data set 1.  Elapsed time: 5.02236666679 mins"
       ]
      },
      {
       "output_type": "stream",
       "stream": "stdout",
       "text": [
        "\r",
        "Reclassification 164 for data set 1.  Elapsed time: 5.26226666768 mins"
       ]
      },
      {
       "output_type": "stream",
       "stream": "stdout",
       "text": [
        "\r",
        "Reclassification 165 for data set 1.  Elapsed time: 5.50789999962 mins"
       ]
      },
      {
       "output_type": "stream",
       "stream": "stdout",
       "text": [
        "\r",
        "Reclassification 166 for data set 1.  Elapsed time: 5.73868333499 mins"
       ]
      },
      {
       "output_type": "stream",
       "stream": "stdout",
       "text": [
        "\r",
        "Reclassification 167 for data set 1.  Elapsed time: 5.97086666822 mins"
       ]
      },
      {
       "output_type": "stream",
       "stream": "stdout",
       "text": [
        "\r",
        "Reclassification 168 for data set 1.  Elapsed time: 6.21440000137 mins"
       ]
      },
      {
       "output_type": "stream",
       "stream": "stdout",
       "text": [
        "\r",
        "Reclassification 169 for data set 1.  Elapsed time: 6.4614500006 mins"
       ]
      },
      {
       "output_type": "stream",
       "stream": "stdout",
       "text": [
        "\r",
        "Reclassification 170 for data set 1.  Elapsed time: 6.69101666609 mins"
       ]
      },
      {
       "output_type": "stream",
       "stream": "stdout",
       "text": [
        "\r",
        "Reclassification 171 for data set 1.  Elapsed time: 6.92254999876 mins"
       ]
      },
      {
       "output_type": "stream",
       "stream": "stdout",
       "text": [
        "\r",
        "Reclassification 172 for data set 1.  Elapsed time: 7.16011666457 mins"
       ]
      },
      {
       "output_type": "stream",
       "stream": "stdout",
       "text": [
        "\r",
        "Reclassification 173 for data set 1.  Elapsed time: 7.39079999924 mins"
       ]
      },
      {
       "output_type": "stream",
       "stream": "stdout",
       "text": [
        "\r",
        "Reclassification 174 for data set 1.  Elapsed time: 7.61726666689 mins"
       ]
      },
      {
       "output_type": "stream",
       "stream": "stdout",
       "text": [
        "\r",
        "Reclassification 175 for data set 1.  Elapsed time: 7.84429999987 mins"
       ]
      },
      {
       "output_type": "stream",
       "stream": "stdout",
       "text": [
        "\r",
        "Reclassification 176 for data set 1.  Elapsed time: 8.06518333356 mins"
       ]
      },
      {
       "output_type": "stream",
       "stream": "stdout",
       "text": [
        "\r",
        "Reclassification 177 for data set 1.  Elapsed time: 8.28700000048 mins"
       ]
      },
      {
       "output_type": "stream",
       "stream": "stdout",
       "text": [
        "\r",
        "Reclassification 178 for data set 1.  Elapsed time: 8.52539999882 mins"
       ]
      },
      {
       "output_type": "stream",
       "stream": "stdout",
       "text": [
        "\r",
        "Reclassification 179 for data set 1.  Elapsed time: 8.75006666581 mins"
       ]
      },
      {
       "output_type": "stream",
       "stream": "stdout",
       "text": [
        "\r",
        "Reclassification 180 for data set 1.  Elapsed time: 8.97153333426 mins"
       ]
      },
      {
       "output_type": "stream",
       "stream": "stdout",
       "text": [
        "\r",
        "Reclassification 181 for data set 1.  Elapsed time: 9.19261666536 mins"
       ]
      },
      {
       "output_type": "stream",
       "stream": "stdout",
       "text": [
        "\r",
        "Reclassification 140 for data set 2.  Elapsed time: 9.4199666659 mins"
       ]
      },
      {
       "output_type": "stream",
       "stream": "stdout",
       "text": [
        "\r",
        "Reclassification 143 for data set 2.  Elapsed time: 9.64336666663 mins"
       ]
      },
      {
       "output_type": "stream",
       "stream": "stdout",
       "text": [
        "\r",
        "Reclassification 144 for data set 2.  Elapsed time: 9.85554999908 mins"
       ]
      },
      {
       "output_type": "stream",
       "stream": "stdout",
       "text": [
        "\r",
        "Reclassification 145 for data set 2.  Elapsed time: 10.0683000008 mins"
       ]
      },
      {
       "output_type": "stream",
       "stream": "stdout",
       "text": [
        "\r",
        "Reclassification 146 for data set 2.  Elapsed time: 10.2907499989 mins"
       ]
      },
      {
       "output_type": "stream",
       "stream": "stdout",
       "text": [
        "\r",
        "Reclassification 147 for data set 2.  Elapsed time: 10.5124666651 mins"
       ]
      },
      {
       "output_type": "stream",
       "stream": "stdout",
       "text": [
        "\r",
        "Reclassification 148 for data set 2.  Elapsed time: 10.7573333343 mins"
       ]
      },
      {
       "output_type": "stream",
       "stream": "stdout",
       "text": [
        "\r",
        "Reclassification 149 for data set 2.  Elapsed time: 10.986133333 mins"
       ]
      },
      {
       "output_type": "stream",
       "stream": "stdout",
       "text": [
        "\r",
        "Reclassification 150 for data set 2.  Elapsed time: 11.2223999977 mins"
       ]
      },
      {
       "output_type": "stream",
       "stream": "stdout",
       "text": [
        "\r",
        "Reclassification 151 for data set 2.  Elapsed time: 11.4619166652 mins"
       ]
      },
      {
       "output_type": "stream",
       "stream": "stdout",
       "text": [
        "\r",
        "Reclassification 152 for data set 2.  Elapsed time: 11.6781166673 mins"
       ]
      },
      {
       "output_type": "stream",
       "stream": "stdout",
       "text": [
        "\r",
        "Reclassification 153 for data set 2.  Elapsed time: 11.8972500006 mins"
       ]
      },
      {
       "output_type": "stream",
       "stream": "stdout",
       "text": [
        "\r",
        "Reclassification 154 for data set 2.  Elapsed time: 12.1192166646 mins"
       ]
      },
      {
       "output_type": "stream",
       "stream": "stdout",
       "text": [
        "\r",
        "Reclassification 155 for data set 2.  Elapsed time: 12.3595499992 mins"
       ]
      },
      {
       "output_type": "stream",
       "stream": "stdout",
       "text": [
        "\r",
        "Reclassification 156 for data set 2.  Elapsed time: 12.5728000005 mins"
       ]
      },
      {
       "output_type": "stream",
       "stream": "stdout",
       "text": [
        "\r",
        "Reclassification 157 for data set 2.  Elapsed time: 12.7993166645 mins"
       ]
      },
      {
       "output_type": "stream",
       "stream": "stdout",
       "text": [
        "\r",
        "Reclassification 158 for data set 2.  Elapsed time: 13.0170166651 mins"
       ]
      },
      {
       "output_type": "stream",
       "stream": "stdout",
       "text": [
        "\r",
        "Reclassification 159 for data set 2.  Elapsed time: 13.2431166649 mins"
       ]
      },
      {
       "output_type": "stream",
       "stream": "stdout",
       "text": [
        "\r",
        "Reclassification 160 for data set 2.  Elapsed time: 13.4769999981 mins"
       ]
      },
      {
       "output_type": "stream",
       "stream": "stdout",
       "text": [
        "\r",
        "Reclassification 161 for data set 2.  Elapsed time: 13.706766665 mins"
       ]
      },
      {
       "output_type": "stream",
       "stream": "stdout",
       "text": [
        "\r",
        "Reclassification 162 for data set 2.  Elapsed time: 13.9385166645 mins"
       ]
      },
      {
       "output_type": "stream",
       "stream": "stdout",
       "text": [
        "\r",
        "Reclassification 163 for data set 2.  Elapsed time: 14.166383334 mins"
       ]
      },
      {
       "output_type": "stream",
       "stream": "stdout",
       "text": [
        "\r",
        "Reclassification 164 for data set 2.  Elapsed time: 14.4003999988 mins"
       ]
      },
      {
       "output_type": "stream",
       "stream": "stdout",
       "text": [
        "\r",
        "Reclassification 165 for data set 2.  Elapsed time: 14.6230499983 mins"
       ]
      },
      {
       "output_type": "stream",
       "stream": "stdout",
       "text": [
        "\r",
        "Reclassification 166 for data set 2.  Elapsed time: 14.8664499998 mins"
       ]
      },
      {
       "output_type": "stream",
       "stream": "stdout",
       "text": [
        "\r",
        "Reclassification 167 for data set 2.  Elapsed time: 15.0838833332 mins"
       ]
      },
      {
       "output_type": "stream",
       "stream": "stdout",
       "text": [
        "\r",
        "Reclassification 168 for data set 2.  Elapsed time: 15.311983331 mins"
       ]
      },
      {
       "output_type": "stream",
       "stream": "stdout",
       "text": [
        "\r",
        "Reclassification 169 for data set 2.  Elapsed time: 15.5300833344 mins"
       ]
      },
      {
       "output_type": "stream",
       "stream": "stdout",
       "text": [
        "\r",
        "Reclassification 170 for data set 2.  Elapsed time: 15.744933335 mins"
       ]
      },
      {
       "output_type": "stream",
       "stream": "stdout",
       "text": [
        "\r",
        "Reclassification 171 for data set 2.  Elapsed time: 15.9600833337 mins"
       ]
      },
      {
       "output_type": "stream",
       "stream": "stdout",
       "text": [
        "\r",
        "Reclassification 172 for data set 2.  Elapsed time: 16.1737999996 mins"
       ]
      },
      {
       "output_type": "stream",
       "stream": "stdout",
       "text": [
        "\r",
        "Reclassification 173 for data set 2.  Elapsed time: 16.3917000016 mins"
       ]
      },
      {
       "output_type": "stream",
       "stream": "stdout",
       "text": [
        "\r",
        "Reclassification 174 for data set 2.  Elapsed time: 16.6058166663 mins"
       ]
      },
      {
       "output_type": "stream",
       "stream": "stdout",
       "text": [
        "\r",
        "Reclassification 175 for data set 2.  Elapsed time: 16.82045 mins"
       ]
      },
      {
       "output_type": "stream",
       "stream": "stdout",
       "text": [
        "\r",
        "Reclassification 176 for data set 2.  Elapsed time: 17.0343999982 mins"
       ]
      },
      {
       "output_type": "stream",
       "stream": "stdout",
       "text": [
        "\r",
        "Reclassification 177 for data set 2.  Elapsed time: 17.2497833331 mins"
       ]
      },
      {
       "output_type": "stream",
       "stream": "stdout",
       "text": [
        "\r",
        "Reclassification 178 for data set 2.  Elapsed time: 17.4677833319 mins"
       ]
      },
      {
       "output_type": "stream",
       "stream": "stdout",
       "text": [
        "\r",
        "Reclassification 179 for data set 2.  Elapsed time: 17.6819666664 mins"
       ]
      },
      {
       "output_type": "stream",
       "stream": "stdout",
       "text": [
        "\r",
        "Reclassification 180 for data set 2.  Elapsed time: 17.8951333324 mins"
       ]
      },
      {
       "output_type": "stream",
       "stream": "stdout",
       "text": [
        "\r",
        "Reclassification 181 for data set 2.  Elapsed time: 18.1081833323 mins"
       ]
      },
      {
       "output_type": "stream",
       "stream": "stdout",
       "text": [
        "\r",
        "Reclassification 140 for data set 3.  Elapsed time: 18.325999999 mins"
       ]
      },
      {
       "output_type": "stream",
       "stream": "stdout",
       "text": [
        "\r",
        "Reclassification 143 for data set 3.  Elapsed time: 18.5612499992 mins"
       ]
      },
      {
       "output_type": "stream",
       "stream": "stdout",
       "text": [
        "\r",
        "Reclassification 144 for data set 3.  Elapsed time: 18.7866999984 mins"
       ]
      },
      {
       "output_type": "stream",
       "stream": "stdout",
       "text": [
        "\r",
        "Reclassification 145 for data set 3.  Elapsed time: 19.0179499984 mins"
       ]
      },
      {
       "output_type": "stream",
       "stream": "stdout",
       "text": [
        "\r",
        "Reclassification 146 for data set 3.  Elapsed time: 19.256066668 mins"
       ]
      },
      {
       "output_type": "stream",
       "stream": "stdout",
       "text": [
        "\r",
        "Reclassification 147 for data set 3.  Elapsed time: 19.5094999989 mins"
       ]
      },
      {
       "output_type": "stream",
       "stream": "stdout",
       "text": [
        "\r",
        "Reclassification 148 for data set 3.  Elapsed time: 19.7331999977 mins"
       ]
      },
      {
       "output_type": "stream",
       "stream": "stdout",
       "text": [
        "\r",
        "Reclassification 149 for data set 3.  Elapsed time: 19.9651833336 mins"
       ]
      },
      {
       "output_type": "stream",
       "stream": "stdout",
       "text": [
        "\r",
        "Reclassification 150 for data set 3.  Elapsed time: 20.1902833343 mins"
       ]
      },
      {
       "output_type": "stream",
       "stream": "stdout",
       "text": [
        "\r",
        "Reclassification 151 for data set 3.  Elapsed time: 20.4276666681 mins"
       ]
      },
      {
       "output_type": "stream",
       "stream": "stdout",
       "text": [
        "\r",
        "Reclassification 152 for data set 3.  Elapsed time: 20.6608166655 mins"
       ]
      },
      {
       "output_type": "stream",
       "stream": "stdout",
       "text": [
        "\r",
        "Reclassification 153 for data set 3.  Elapsed time: 20.8913499991 mins"
       ]
      },
      {
       "output_type": "stream",
       "stream": "stdout",
       "text": [
        "\r",
        "Reclassification 154 for data set 3.  Elapsed time: 21.1141666651 mins"
       ]
      },
      {
       "output_type": "stream",
       "stream": "stdout",
       "text": [
        "\r",
        "Reclassification 155 for data set 3.  Elapsed time: 21.3594499985 mins"
       ]
      },
      {
       "output_type": "stream",
       "stream": "stdout",
       "text": [
        "\r",
        "Reclassification 156 for data set 3.  Elapsed time: 21.6254499992 mins"
       ]
      },
      {
       "output_type": "stream",
       "stream": "stdout",
       "text": [
        "\r",
        "Reclassification 157 for data set 3.  Elapsed time: 21.8468166669 mins"
       ]
      },
      {
       "output_type": "stream",
       "stream": "stdout",
       "text": [
        "\r",
        "Reclassification 158 for data set 3.  Elapsed time: 22.0776499987 mins"
       ]
      },
      {
       "output_type": "stream",
       "stream": "stdout",
       "text": [
        "\r",
        "Reclassification 159 for data set 3.  Elapsed time: 22.3037833333 mins"
       ]
      },
      {
       "output_type": "stream",
       "stream": "stdout",
       "text": [
        "\r",
        "Reclassification 160 for data set 3.  Elapsed time: 22.5392666658 mins"
       ]
      },
      {
       "output_type": "stream",
       "stream": "stdout",
       "text": [
        "\r",
        "Reclassification 161 for data set 3.  Elapsed time: 22.7657499989 mins"
       ]
      },
      {
       "output_type": "stream",
       "stream": "stdout",
       "text": [
        "\r",
        "Reclassification 162 for data set 3.  Elapsed time: 22.9921833316 mins"
       ]
      },
      {
       "output_type": "stream",
       "stream": "stdout",
       "text": [
        "\r",
        "Reclassification 163 for data set 3.  Elapsed time: 23.2101666649 mins"
       ]
      },
      {
       "output_type": "stream",
       "stream": "stdout",
       "text": [
        "\r",
        "Reclassification 164 for data set 3.  Elapsed time: 23.4462166667 mins"
       ]
      },
      {
       "output_type": "stream",
       "stream": "stdout",
       "text": [
        "\r",
        "Reclassification 165 for data set 3.  Elapsed time: 23.6723333319 mins"
       ]
      },
      {
       "output_type": "stream",
       "stream": "stdout",
       "text": [
        "\r",
        "Reclassification 166 for data set 3.  Elapsed time: 23.8904833317 mins"
       ]
      },
      {
       "output_type": "stream",
       "stream": "stdout",
       "text": [
        "\r",
        "Reclassification 167 for data set 3.  Elapsed time: 24.1275333325 mins"
       ]
      },
      {
       "output_type": "stream",
       "stream": "stdout",
       "text": [
        "\r",
        "Reclassification 168 for data set 3.  Elapsed time: 24.3672000011 mins"
       ]
      },
      {
       "output_type": "stream",
       "stream": "stdout",
       "text": [
        "\r",
        "Reclassification 169 for data set 3.  Elapsed time: 24.6007500013 mins"
       ]
      },
      {
       "output_type": "stream",
       "stream": "stdout",
       "text": [
        "\r",
        "Reclassification 170 for data set 3.  Elapsed time: 24.8292999983 mins"
       ]
      },
      {
       "output_type": "stream",
       "stream": "stdout",
       "text": [
        "\r",
        "Reclassification 171 for data set 3.  Elapsed time: 25.061500001 mins"
       ]
      },
      {
       "output_type": "stream",
       "stream": "stdout",
       "text": [
        "\r",
        "Reclassification 172 for data set 3.  Elapsed time: 25.2944333315 mins"
       ]
      },
      {
       "output_type": "stream",
       "stream": "stdout",
       "text": [
        "\r",
        "Reclassification 173 for data set 3.  Elapsed time: 25.5172000011 mins"
       ]
      },
      {
       "output_type": "stream",
       "stream": "stdout",
       "text": [
        "\r",
        "Reclassification 174 for data set 3.  Elapsed time: 25.7360333323 mins"
       ]
      },
      {
       "output_type": "stream",
       "stream": "stdout",
       "text": [
        "\r",
        "Reclassification 175 for data set 3.  Elapsed time: 25.9765333335 mins"
       ]
      },
      {
       "output_type": "stream",
       "stream": "stdout",
       "text": [
        "\r",
        "Reclassification 176 for data set 3.  Elapsed time: 26.2101499995 mins"
       ]
      },
      {
       "output_type": "stream",
       "stream": "stdout",
       "text": [
        "\r",
        "Reclassification 177 for data set 3.  Elapsed time: 26.4354833325 mins"
       ]
      },
      {
       "output_type": "stream",
       "stream": "stdout",
       "text": [
        "\r",
        "Reclassification 178 for data set 3.  Elapsed time: 26.6590833346 mins"
       ]
      },
      {
       "output_type": "stream",
       "stream": "stdout",
       "text": [
        "\r",
        "Reclassification 179 for data set 3.  Elapsed time: 26.8963166674 mins"
       ]
      },
      {
       "output_type": "stream",
       "stream": "stdout",
       "text": [
        "\r",
        "Reclassification 180 for data set 3.  Elapsed time: 27.1152333339 mins"
       ]
      },
      {
       "output_type": "stream",
       "stream": "stdout",
       "text": [
        "\r",
        "Reclassification 181 for data set 3.  Elapsed time: 27.3380666653 mins"
       ]
      },
      {
       "output_type": "stream",
       "stream": "stdout",
       "text": [
        "\r",
        "Reclassification 140 for data set 4.  Elapsed time: 27.5667333325 mins"
       ]
      },
      {
       "output_type": "stream",
       "stream": "stdout",
       "text": [
        "\r",
        "Reclassification 143 for data set 4.  Elapsed time: 27.7948833346 mins"
       ]
      },
      {
       "output_type": "stream",
       "stream": "stdout",
       "text": [
        "\r",
        "Reclassification 144 for data set 4.  Elapsed time: 28.0088666677 mins"
       ]
      },
      {
       "output_type": "stream",
       "stream": "stdout",
       "text": [
        "\r",
        "Reclassification 145 for data set 4.  Elapsed time: 28.2237499992 mins"
       ]
      },
      {
       "output_type": "stream",
       "stream": "stdout",
       "text": [
        "\r",
        "Reclassification 146 for data set 4.  Elapsed time: 28.4490833322 mins"
       ]
      },
      {
       "output_type": "stream",
       "stream": "stdout",
       "text": [
        "\r",
        "Reclassification 147 for data set 4.  Elapsed time: 28.6684999983 mins"
       ]
      },
      {
       "output_type": "stream",
       "stream": "stdout",
       "text": [
        "\r",
        "Reclassification 148 for data set 4.  Elapsed time: 28.8852833311 mins"
       ]
      },
      {
       "output_type": "stream",
       "stream": "stdout",
       "text": [
        "\r",
        "Reclassification 149 for data set 4.  Elapsed time: 29.1011166652 mins"
       ]
      },
      {
       "output_type": "stream",
       "stream": "stdout",
       "text": [
        "\r",
        "Reclassification 150 for data set 4.  Elapsed time: 29.3196833332 mins"
       ]
      },
      {
       "output_type": "stream",
       "stream": "stdout",
       "text": [
        "\r",
        "Reclassification 151 for data set 4.  Elapsed time: 29.5387000004 mins"
       ]
      },
      {
       "output_type": "stream",
       "stream": "stdout",
       "text": [
        "\r",
        "Reclassification 152 for data set 4.  Elapsed time: 29.7738833348 mins"
       ]
      },
      {
       "output_type": "stream",
       "stream": "stdout",
       "text": [
        "\r",
        "Reclassification 153 for data set 4.  Elapsed time: 29.9995666663 mins"
       ]
      },
      {
       "output_type": "stream",
       "stream": "stdout",
       "text": [
        "\r",
        "Reclassification 154 for data set 4.  Elapsed time: 30.2302666664 mins"
       ]
      },
      {
       "output_type": "stream",
       "stream": "stdout",
       "text": [
        "\r",
        "Reclassification 155 for data set 4.  Elapsed time: 30.4675333341 mins"
       ]
      },
      {
       "output_type": "stream",
       "stream": "stdout",
       "text": [
        "\r",
        "Reclassification 156 for data set 4.  Elapsed time: 30.7254833341 mins"
       ]
      },
      {
       "output_type": "stream",
       "stream": "stdout",
       "text": [
        "\r",
        "Reclassification 157 for data set 4.  Elapsed time: 30.9544833342 mins"
       ]
      },
      {
       "output_type": "stream",
       "stream": "stdout",
       "text": [
        "\r",
        "Reclassification 158 for data set 4.  Elapsed time: 31.1833333333 mins"
       ]
      },
      {
       "output_type": "stream",
       "stream": "stdout",
       "text": [
        "\r",
        "Reclassification 159 for data set 4.  Elapsed time: 31.4245500008 mins"
       ]
      },
      {
       "output_type": "stream",
       "stream": "stdout",
       "text": [
        "\r",
        "Reclassification 160 for data set 4.  Elapsed time: 31.6528666655 mins"
       ]
      },
      {
       "output_type": "stream",
       "stream": "stdout",
       "text": [
        "\r",
        "Reclassification 161 for data set 4.  Elapsed time: 31.8704666654 mins"
       ]
      },
      {
       "output_type": "stream",
       "stream": "stdout",
       "text": [
        "\r",
        "Reclassification 162 for data set 4.  Elapsed time: 32.0865500013 mins"
       ]
      },
      {
       "output_type": "stream",
       "stream": "stdout",
       "text": [
        "\r",
        "Reclassification 163 for data set 4.  Elapsed time: 32.3092333317 mins"
       ]
      },
      {
       "output_type": "stream",
       "stream": "stdout",
       "text": [
        "\r",
        "Reclassification 164 for data set 4.  Elapsed time: 32.5360666672 mins"
       ]
      },
      {
       "output_type": "stream",
       "stream": "stdout",
       "text": [
        "\r",
        "Reclassification 165 for data set 4.  Elapsed time: 32.7738499999 mins"
       ]
      },
      {
       "output_type": "stream",
       "stream": "stdout",
       "text": [
        "\r",
        "Reclassification 166 for data set 4.  Elapsed time: 33.0554666678 mins"
       ]
      },
      {
       "output_type": "stream",
       "stream": "stdout",
       "text": [
        "\r",
        "Reclassification 167 for data set 4.  Elapsed time: 33.3866999984 mins"
       ]
      },
      {
       "output_type": "stream",
       "stream": "stdout",
       "text": [
        "\r",
        "Reclassification 168 for data set 4.  Elapsed time: 33.674149998 mins"
       ]
      },
      {
       "output_type": "stream",
       "stream": "stdout",
       "text": [
        "\r",
        "Reclassification 169 for data set 4.  Elapsed time: 33.9621999979 mins"
       ]
      },
      {
       "output_type": "stream",
       "stream": "stdout",
       "text": [
        "\r",
        "Reclassification 170 for data set 4.  Elapsed time: 34.2205166658 mins"
       ]
      },
      {
       "output_type": "stream",
       "stream": "stdout",
       "text": [
        "\r",
        "Reclassification 171 for data set 4.  Elapsed time: 34.4544833342 mins"
       ]
      },
      {
       "output_type": "stream",
       "stream": "stdout",
       "text": [
        "\r",
        "Reclassification 172 for data set 4.  Elapsed time: 34.6839166681 mins"
       ]
      },
      {
       "output_type": "stream",
       "stream": "stdout",
       "text": [
        "\r",
        "Reclassification 173 for data set 4.  Elapsed time: 34.9143333316 mins"
       ]
      },
      {
       "output_type": "stream",
       "stream": "stdout",
       "text": [
        "\r",
        "Reclassification 174 for data set 4.  Elapsed time: 35.1428166668 mins"
       ]
      },
      {
       "output_type": "stream",
       "stream": "stdout",
       "text": [
        "\r",
        "Reclassification 175 for data set 4.  Elapsed time: 35.3769499977 mins"
       ]
      },
      {
       "output_type": "stream",
       "stream": "stdout",
       "text": [
        "\r",
        "Reclassification 176 for data set 4.  Elapsed time: 35.6058333317 mins"
       ]
      },
      {
       "output_type": "stream",
       "stream": "stdout",
       "text": [
        "\r",
        "Reclassification 177 for data set 4.  Elapsed time: 35.8331333319 mins"
       ]
      },
      {
       "output_type": "stream",
       "stream": "stdout",
       "text": [
        "\r",
        "Reclassification 178 for data set 4.  Elapsed time: 36.0623333335 mins"
       ]
      },
      {
       "output_type": "stream",
       "stream": "stdout",
       "text": [
        "\r",
        "Reclassification 179 for data set 4.  Elapsed time: 36.2953333338 mins"
       ]
      },
      {
       "output_type": "stream",
       "stream": "stdout",
       "text": [
        "\r",
        "Reclassification 180 for data set 4.  Elapsed time: 36.5493499994 mins"
       ]
      },
      {
       "output_type": "stream",
       "stream": "stdout",
       "text": [
        "\r",
        "Reclassification 181 for data set 4.  Elapsed time: 36.8639499982 mins"
       ]
      },
      {
       "output_type": "stream",
       "stream": "stdout",
       "text": [
        "\r",
        "Reclassification 140 for data set 5.  Elapsed time: 37.153733333 mins"
       ]
      },
      {
       "output_type": "stream",
       "stream": "stdout",
       "text": [
        "\r",
        "Reclassification 143 for data set 5.  Elapsed time: 37.45 mins"
       ]
      },
      {
       "output_type": "stream",
       "stream": "stdout",
       "text": [
        "\r",
        "Reclassification 144 for data set 5.  Elapsed time: 37.743900001 mins"
       ]
      },
      {
       "output_type": "stream",
       "stream": "stdout",
       "text": [
        "\r",
        "Reclassification 145 for data set 5.  Elapsed time: 38.0324666659 mins"
       ]
      },
      {
       "output_type": "stream",
       "stream": "stdout",
       "text": [
        "\r",
        "Reclassification 146 for data set 5.  Elapsed time: 38.3147833347 mins"
       ]
      },
      {
       "output_type": "stream",
       "stream": "stdout",
       "text": [
        "\r",
        "Reclassification 147 for data set 5.  Elapsed time: 38.5938500007 mins"
       ]
      },
      {
       "output_type": "stream",
       "stream": "stdout",
       "text": [
        "\r",
        "Reclassification 148 for data set 5.  Elapsed time: 38.861983331 mins"
       ]
      },
      {
       "output_type": "stream",
       "stream": "stdout",
       "text": [
        "\r",
        "Reclassification 149 for data set 5.  Elapsed time: 39.1367333333 mins"
       ]
      },
      {
       "output_type": "stream",
       "stream": "stdout",
       "text": [
        "\r",
        "Reclassification 150 for data set 5.  Elapsed time: 39.4082166672 mins"
       ]
      },
      {
       "output_type": "stream",
       "stream": "stdout",
       "text": [
        "\r",
        "Reclassification 151 for data set 5.  Elapsed time: 39.6520499984 mins"
       ]
      },
      {
       "output_type": "stream",
       "stream": "stdout",
       "text": [
        "\r",
        "Reclassification 152 for data set 5.  Elapsed time: 39.8891499996 mins"
       ]
      },
      {
       "output_type": "stream",
       "stream": "stdout",
       "text": [
        "\r",
        "Reclassification 153 for data set 5.  Elapsed time: 40.1281499982 mins"
       ]
      },
      {
       "output_type": "stream",
       "stream": "stdout",
       "text": [
        "\r",
        "Reclassification 154 for data set 5.  Elapsed time: 40.3766833345 mins"
       ]
      },
      {
       "output_type": "stream",
       "stream": "stdout",
       "text": [
        "\r",
        "Reclassification 155 for data set 5.  Elapsed time: 40.6119333347 mins"
       ]
      },
      {
       "output_type": "stream",
       "stream": "stdout",
       "text": [
        "\r",
        "Reclassification 156 for data set 5.  Elapsed time: 40.8476666649 mins"
       ]
      },
      {
       "output_type": "stream",
       "stream": "stdout",
       "text": [
        "\r",
        "Reclassification 157 for data set 5.  Elapsed time: 41.0841166655 mins"
       ]
      },
      {
       "output_type": "stream",
       "stream": "stdout",
       "text": [
        "\r",
        "Reclassification 158 for data set 5.  Elapsed time: 41.3238333344 mins"
       ]
      },
      {
       "output_type": "stream",
       "stream": "stdout",
       "text": [
        "\r",
        "Reclassification 159 for data set 5.  Elapsed time: 41.5776666681 mins"
       ]
      },
      {
       "output_type": "stream",
       "stream": "stdout",
       "text": [
        "\r",
        "Reclassification 160 for data set 5.  Elapsed time: 41.8202499986 mins"
       ]
      },
      {
       "output_type": "stream",
       "stream": "stdout",
       "text": [
        "\r",
        "Reclassification 161 for data set 5.  Elapsed time: 42.0549333334 mins"
       ]
      },
      {
       "output_type": "stream",
       "stream": "stdout",
       "text": [
        "\r",
        "Reclassification 162 for data set 5.  Elapsed time: 42.2927166661 mins"
       ]
      },
      {
       "output_type": "stream",
       "stream": "stdout",
       "text": [
        "\r",
        "Reclassification 163 for data set 5.  Elapsed time: 42.5337166667 mins"
       ]
      },
      {
       "output_type": "stream",
       "stream": "stdout",
       "text": [
        "\r",
        "Reclassification 164 for data set 5.  Elapsed time: 42.7693500002 mins"
       ]
      },
      {
       "output_type": "stream",
       "stream": "stdout",
       "text": [
        "\r",
        "Reclassification 165 for data set 5.  Elapsed time: 43.006433332 mins"
       ]
      },
      {
       "output_type": "stream",
       "stream": "stdout",
       "text": [
        "\r",
        "Reclassification 166 for data set 5.  Elapsed time: 43.2430666645 mins"
       ]
      },
      {
       "output_type": "stream",
       "stream": "stdout",
       "text": [
        "\r",
        "Reclassification 167 for data set 5.  Elapsed time: 43.4849666675 mins"
       ]
      },
      {
       "output_type": "stream",
       "stream": "stdout",
       "text": [
        "\r",
        "Reclassification 168 for data set 5.  Elapsed time: 43.7208999991 mins"
       ]
      },
      {
       "output_type": "stream",
       "stream": "stdout",
       "text": [
        "\r",
        "Reclassification 169 for data set 5.  Elapsed time: 43.9575000008 mins"
       ]
      },
      {
       "output_type": "stream",
       "stream": "stdout",
       "text": [
        "\r",
        "Reclassification 170 for data set 5.  Elapsed time: 44.1921333313 mins"
       ]
      },
      {
       "output_type": "stream",
       "stream": "stdout",
       "text": [
        "\r",
        "Reclassification 171 for data set 5.  Elapsed time: 44.4394666672 mins"
       ]
      },
      {
       "output_type": "stream",
       "stream": "stdout",
       "text": [
        "\r",
        "Reclassification 172 for data set 5.  Elapsed time: 44.6781499982 mins"
       ]
      },
      {
       "output_type": "stream",
       "stream": "stdout",
       "text": [
        "\r",
        "Reclassification 173 for data set 5.  Elapsed time: 44.9144666672 mins"
       ]
      },
      {
       "output_type": "stream",
       "stream": "stdout",
       "text": [
        "\r",
        "Reclassification 174 for data set 5.  Elapsed time: 45.1512500008 mins"
       ]
      },
      {
       "output_type": "stream",
       "stream": "stdout",
       "text": [
        "\r",
        "Reclassification 175 for data set 5.  Elapsed time: 45.3929833333 mins"
       ]
      },
      {
       "output_type": "stream",
       "stream": "stdout",
       "text": [
        "\r",
        "Reclassification 176 for data set 5.  Elapsed time: 45.6265333335 mins"
       ]
      },
      {
       "output_type": "stream",
       "stream": "stdout",
       "text": [
        "\r",
        "Reclassification 177 for data set 5.  Elapsed time: 45.861133333 mins"
       ]
      },
      {
       "output_type": "stream",
       "stream": "stdout",
       "text": [
        "\r",
        "Reclassification 178 for data set 5.  Elapsed time: 46.0962833325 mins"
       ]
      },
      {
       "output_type": "stream",
       "stream": "stdout",
       "text": [
        "\r",
        "Reclassification 179 for data set 5.  Elapsed time: 46.3347833316 mins"
       ]
      },
      {
       "output_type": "stream",
       "stream": "stdout",
       "text": [
        "\r",
        "Reclassification 180 for data set 5.  Elapsed time: 46.5705500007 mins"
       ]
      },
      {
       "output_type": "stream",
       "stream": "stdout",
       "text": [
        "\r",
        "Reclassification 181 for data set 5.  Elapsed time: 46.8064166665 mins"
       ]
      },
      {
       "output_type": "stream",
       "stream": "stdout",
       "text": [
        "\r",
        "Reclassification 140 for data set 6.  Elapsed time: 47.0428833326 mins"
       ]
      },
      {
       "output_type": "stream",
       "stream": "stdout",
       "text": [
        "\r",
        "Reclassification 143 for data set 6.  Elapsed time: 47.2852666656 mins"
       ]
      },
      {
       "output_type": "stream",
       "stream": "stdout",
       "text": [
        "\r",
        "Reclassification 144 for data set 6.  Elapsed time: 47.5247166673 mins"
       ]
      },
      {
       "output_type": "stream",
       "stream": "stdout",
       "text": [
        "\r",
        "Reclassification 145 for data set 6.  Elapsed time: 47.7544666648 mins"
       ]
      },
      {
       "output_type": "stream",
       "stream": "stdout",
       "text": [
        "\r",
        "Reclassification 146 for data set 6.  Elapsed time: 47.9858166655 mins"
       ]
      },
      {
       "output_type": "stream",
       "stream": "stdout",
       "text": [
        "\r",
        "Reclassification 147 for data set 6.  Elapsed time: 48.2177666664 mins"
       ]
      },
      {
       "output_type": "stream",
       "stream": "stdout",
       "text": [
        "\r",
        "Reclassification 148 for data set 6.  Elapsed time: 48.4560333331 mins"
       ]
      },
      {
       "output_type": "stream",
       "stream": "stdout",
       "text": [
        "\r",
        "Reclassification 149 for data set 6.  Elapsed time: 48.6872166673 mins"
       ]
      },
      {
       "output_type": "stream",
       "stream": "stdout",
       "text": [
        "\r",
        "Reclassification 150 for data set 6.  Elapsed time: 48.9167333325 mins"
       ]
      },
      {
       "output_type": "stream",
       "stream": "stdout",
       "text": [
        "\r",
        "Reclassification 151 for data set 6.  Elapsed time: 49.1444666664 mins"
       ]
      },
      {
       "output_type": "stream",
       "stream": "stdout",
       "text": [
        "\r",
        "Reclassification 152 for data set 6.  Elapsed time: 49.3779666662 mins"
       ]
      },
      {
       "output_type": "stream",
       "stream": "stdout",
       "text": [
        "\r",
        "Reclassification 153 for data set 6.  Elapsed time: 49.6146333337 mins"
       ]
      },
      {
       "output_type": "stream",
       "stream": "stdout",
       "text": [
        "\r",
        "Reclassification 154 for data set 6.  Elapsed time: 49.8464833339 mins"
       ]
      },
      {
       "output_type": "stream",
       "stream": "stdout",
       "text": [
        "\r",
        "Reclassification 155 for data set 6.  Elapsed time: 50.0861166676 mins"
       ]
      },
      {
       "output_type": "stream",
       "stream": "stdout",
       "text": [
        "\r",
        "Reclassification 156 for data set 6.  Elapsed time: 50.371783332 mins"
       ]
      },
      {
       "output_type": "stream",
       "stream": "stdout",
       "text": [
        "\r",
        "Reclassification 157 for data set 6.  Elapsed time: 50.6263833324 mins"
       ]
      },
      {
       "output_type": "stream",
       "stream": "stdout",
       "text": [
        "\r",
        "Reclassification 158 for data set 6.  Elapsed time: 50.9402833343 mins"
       ]
      },
      {
       "output_type": "stream",
       "stream": "stdout",
       "text": [
        "\r",
        "Reclassification 159 for data set 6.  Elapsed time: 51.2171500007 mins"
       ]
      },
      {
       "output_type": "stream",
       "stream": "stdout",
       "text": [
        "\r",
        "Reclassification 160 for data set 6.  Elapsed time: 51.5463666677 mins"
       ]
      },
      {
       "output_type": "stream",
       "stream": "stdout",
       "text": [
        "\r",
        "Reclassification 161 for data set 6.  Elapsed time: 51.8530999978 mins"
       ]
      },
      {
       "output_type": "stream",
       "stream": "stdout",
       "text": [
        "\r",
        "Reclassification 162 for data set 6.  Elapsed time: 52.1364833315 mins"
       ]
      },
      {
       "output_type": "stream",
       "stream": "stdout",
       "text": [
        "\r",
        "Reclassification 163 for data set 6.  Elapsed time: 52.4431499998 mins"
       ]
      },
      {
       "output_type": "stream",
       "stream": "stdout",
       "text": [
        "\r",
        "Reclassification 164 for data set 6.  Elapsed time: 52.7429833333 mins"
       ]
      },
      {
       "output_type": "stream",
       "stream": "stdout",
       "text": [
        "\r",
        "Reclassification 165 for data set 6.  Elapsed time: 53.0566499988 mins"
       ]
      },
      {
       "output_type": "stream",
       "stream": "stdout",
       "text": [
        "\r",
        "Reclassification 166 for data set 6.  Elapsed time: 53.3975999991 mins"
       ]
      },
      {
       "output_type": "stream",
       "stream": "stdout",
       "text": [
        "\r",
        "Reclassification 167 for data set 6.  Elapsed time: 53.7212833325 mins"
       ]
      },
      {
       "output_type": "stream",
       "stream": "stdout",
       "text": [
        "\r",
        "Reclassification 168 for data set 6.  Elapsed time: 53.9851833344 mins"
       ]
      },
      {
       "output_type": "stream",
       "stream": "stdout",
       "text": [
        "\r",
        "Reclassification 169 for data set 6.  Elapsed time: 54.2740666668 mins"
       ]
      },
      {
       "output_type": "stream",
       "stream": "stdout",
       "text": [
        "\r",
        "Reclassification 170 for data set 6.  Elapsed time: 54.5235666672 mins"
       ]
      },
      {
       "output_type": "stream",
       "stream": "stdout",
       "text": [
        "\r",
        "Reclassification 171 for data set 6.  Elapsed time: 54.8174499989 mins"
       ]
      },
      {
       "output_type": "stream",
       "stream": "stdout",
       "text": [
        "\r",
        "Reclassification 172 for data set 6.  Elapsed time: 55.1072833339 mins"
       ]
      },
      {
       "output_type": "stream",
       "stream": "stdout",
       "text": [
        "\r",
        "Reclassification 173 for data set 6.  Elapsed time: 55.4164833347 mins"
       ]
      },
      {
       "output_type": "stream",
       "stream": "stdout",
       "text": [
        "\r",
        "Reclassification 174 for data set 6.  Elapsed time: 55.7022833347 mins"
       ]
      },
      {
       "output_type": "stream",
       "stream": "stdout",
       "text": [
        "\r",
        "Reclassification 175 for data set 6.  Elapsed time: 55.9531833331 mins"
       ]
      },
      {
       "output_type": "stream",
       "stream": "stdout",
       "text": [
        "\r",
        "Reclassification 176 for data set 6.  Elapsed time: 56.1825833321 mins"
       ]
      },
      {
       "output_type": "stream",
       "stream": "stdout",
       "text": [
        "\r",
        "Reclassification 177 for data set 6.  Elapsed time: 56.416383334 mins"
       ]
      },
      {
       "output_type": "stream",
       "stream": "stdout",
       "text": [
        "\r",
        "Reclassification 178 for data set 6.  Elapsed time: 56.647116665 mins"
       ]
      },
      {
       "output_type": "stream",
       "stream": "stdout",
       "text": [
        "\r",
        "Reclassification 179 for data set 6.  Elapsed time: 56.8753499985 mins"
       ]
      },
      {
       "output_type": "stream",
       "stream": "stdout",
       "text": [
        "\r",
        "Reclassification 180 for data set 6.  Elapsed time: 57.1039833347 mins"
       ]
      },
      {
       "output_type": "stream",
       "stream": "stdout",
       "text": [
        "\r",
        "Reclassification 181 for data set 6.  Elapsed time: 57.3387000004 mins"
       ]
      },
      {
       "output_type": "stream",
       "stream": "stdout",
       "text": [
        "\r",
        "Reclassification 140 for data set 7.  Elapsed time: 57.5672833323 mins"
       ]
      },
      {
       "output_type": "stream",
       "stream": "stdout",
       "text": [
        "\r",
        "Reclassification 143 for data set 7.  Elapsed time: 57.8056499998 mins"
       ]
      },
      {
       "output_type": "stream",
       "stream": "stdout",
       "text": [
        "\r",
        "Reclassification 144 for data set 7.  Elapsed time: 58.0309000015 mins"
       ]
      },
      {
       "output_type": "stream",
       "stream": "stdout",
       "text": [
        "\r",
        "Reclassification 145 for data set 7.  Elapsed time: 58.2599333326 mins"
       ]
      },
      {
       "output_type": "stream",
       "stream": "stdout",
       "text": [
        "\r",
        "Reclassification 146 for data set 7.  Elapsed time: 58.4978666663 mins"
       ]
      },
      {
       "output_type": "stream",
       "stream": "stdout",
       "text": [
        "\r",
        "Reclassification 147 for data set 7.  Elapsed time: 58.7478500009 mins"
       ]
      },
      {
       "output_type": "stream",
       "stream": "stdout",
       "text": [
        "\r",
        "Reclassification 148 for data set 7.  Elapsed time: 58.9888500015 mins"
       ]
      },
      {
       "output_type": "stream",
       "stream": "stdout",
       "text": [
        "\r",
        "Reclassification 149 for data set 7.  Elapsed time: 59.2277166645 mins"
       ]
      },
      {
       "output_type": "stream",
       "stream": "stdout",
       "text": [
        "\r",
        "Reclassification 150 for data set 7.  Elapsed time: 59.4603666663 mins"
       ]
      },
      {
       "output_type": "stream",
       "stream": "stdout",
       "text": [
        "\r",
        "Reclassification 151 for data set 7.  Elapsed time: 59.6892166654 mins"
       ]
      },
      {
       "output_type": "stream",
       "stream": "stdout",
       "text": [
        "\r",
        "Reclassification 152 for data set 7.  Elapsed time: 59.9161499977 mins"
       ]
      },
      {
       "output_type": "stream",
       "stream": "stdout",
       "text": [
        "\r",
        "Reclassification 153 for data set 7.  Elapsed time: 60.1472833316 mins"
       ]
      },
      {
       "output_type": "stream",
       "stream": "stdout",
       "text": [
        "\r",
        "Reclassification 154 for data set 7.  Elapsed time: 60.4190499981 mins"
       ]
      },
      {
       "output_type": "stream",
       "stream": "stdout",
       "text": [
        "\r",
        "Reclassification 155 for data set 7.  Elapsed time: 60.6663499991 mins"
       ]
      },
      {
       "output_type": "stream",
       "stream": "stdout",
       "text": [
        "\r",
        "Reclassification 156 for data set 7.  Elapsed time: 60.913349998 mins"
       ]
      },
      {
       "output_type": "stream",
       "stream": "stdout",
       "text": [
        "\r",
        "Reclassification 157 for data set 7.  Elapsed time: 61.1864166657 mins"
       ]
      },
      {
       "output_type": "stream",
       "stream": "stdout",
       "text": [
        "\r",
        "Reclassification 158 for data set 7.  Elapsed time: 61.4350333333 mins"
       ]
      },
      {
       "output_type": "stream",
       "stream": "stdout",
       "text": [
        "\r",
        "Reclassification 159 for data set 7.  Elapsed time: 61.6919333339 mins"
       ]
      },
      {
       "output_type": "stream",
       "stream": "stdout",
       "text": [
        "\r",
        "Reclassification 160 for data set 7.  Elapsed time: 61.9486999989 mins"
       ]
      },
      {
       "output_type": "stream",
       "stream": "stdout",
       "text": [
        "\r",
        "Reclassification 161 for data set 7.  Elapsed time: 62.2074500004 mins"
       ]
      },
      {
       "output_type": "stream",
       "stream": "stdout",
       "text": [
        "\r",
        "Reclassification 162 for data set 7.  Elapsed time: 62.5075333317 mins"
       ]
      },
      {
       "output_type": "stream",
       "stream": "stdout",
       "text": [
        "\r",
        "Reclassification 163 for data set 7.  Elapsed time: 62.7824666659 mins"
       ]
      },
      {
       "output_type": "stream",
       "stream": "stdout",
       "text": [
        "\r",
        "Reclassification 164 for data set 7.  Elapsed time: 63.0224166671 mins"
       ]
      },
      {
       "output_type": "stream",
       "stream": "stdout",
       "text": [
        "\r",
        "Reclassification 165 for data set 7.  Elapsed time: 63.2607499997 mins"
       ]
      },
      {
       "output_type": "stream",
       "stream": "stdout",
       "text": [
        "\r",
        "Reclassification 166 for data set 7.  Elapsed time: 63.5029833317 mins"
       ]
      },
      {
       "output_type": "stream",
       "stream": "stdout",
       "text": [
        "\r",
        "Reclassification 167 for data set 7.  Elapsed time: 63.7449000001 mins"
       ]
      },
      {
       "output_type": "stream",
       "stream": "stdout",
       "text": [
        "\r",
        "Reclassification 168 for data set 7.  Elapsed time: 63.986649998 mins"
       ]
      },
      {
       "output_type": "stream",
       "stream": "stdout",
       "text": [
        "\r",
        "Reclassification 169 for data set 7.  Elapsed time: 64.231099999 mins"
       ]
      },
      {
       "output_type": "stream",
       "stream": "stdout",
       "text": [
        "\r",
        "Reclassification 170 for data set 7.  Elapsed time: 64.4974999984 mins"
       ]
      },
      {
       "output_type": "stream",
       "stream": "stdout",
       "text": [
        "\r",
        "Reclassification 171 for data set 7.  Elapsed time: 64.7590833346 mins"
       ]
      },
      {
       "output_type": "stream",
       "stream": "stdout",
       "text": [
        "\r",
        "Reclassification 172 for data set 7.  Elapsed time: 65.0286666671 mins"
       ]
      },
      {
       "output_type": "stream",
       "stream": "stdout",
       "text": [
        "\r",
        "Reclassification 173 for data set 7.  Elapsed time: 65.286649998 mins"
       ]
      },
      {
       "output_type": "stream",
       "stream": "stdout",
       "text": [
        "\r",
        "Reclassification 174 for data set 7.  Elapsed time: 65.5341166655 mins"
       ]
      },
      {
       "output_type": "stream",
       "stream": "stdout",
       "text": [
        "\r",
        "Reclassification 175 for data set 7.  Elapsed time: 65.7818666657 mins"
       ]
      },
      {
       "output_type": "stream",
       "stream": "stdout",
       "text": [
        "\r",
        "Reclassification 176 for data set 7.  Elapsed time: 66.0341000001 mins"
       ]
      },
      {
       "output_type": "stream",
       "stream": "stdout",
       "text": [
        "\r",
        "Reclassification 177 for data set 7.  Elapsed time: 66.2792000016 mins"
       ]
      },
      {
       "output_type": "stream",
       "stream": "stdout",
       "text": [
        "\r",
        "Reclassification 178 for data set 7.  Elapsed time: 66.5268000007 mins"
       ]
      },
      {
       "output_type": "stream",
       "stream": "stdout",
       "text": [
        "\r",
        "Reclassification 179 for data set 7.  Elapsed time: 66.784133335 mins"
       ]
      },
      {
       "output_type": "stream",
       "stream": "stdout",
       "text": [
        "\r",
        "Reclassification 180 for data set 7.  Elapsed time: 67.0495666663 mins"
       ]
      },
      {
       "output_type": "stream",
       "stream": "stdout",
       "text": [
        "\r",
        "Reclassification 181 for data set 7.  Elapsed time: 67.3187833349 mins"
       ]
      },
      {
       "output_type": "stream",
       "stream": "stdout",
       "text": [
        "\r",
        "Reclassification 140 for data set 8.  Elapsed time: 67.6161499977 mins"
       ]
      },
      {
       "output_type": "stream",
       "stream": "stdout",
       "text": [
        "\r",
        "Reclassification 143 for data set 8.  Elapsed time: 67.900150001 mins"
       ]
      },
      {
       "output_type": "stream",
       "stream": "stdout",
       "text": [
        "\r",
        "Reclassification 144 for data set 8.  Elapsed time: 68.1569333315 mins"
       ]
      },
      {
       "output_type": "stream",
       "stream": "stdout",
       "text": [
        "\r",
        "Reclassification 145 for data set 8.  Elapsed time: 68.4122166673 mins"
       ]
      },
      {
       "output_type": "stream",
       "stream": "stdout",
       "text": [
        "\r",
        "Reclassification 146 for data set 8.  Elapsed time: 68.6709833344 mins"
       ]
      },
      {
       "output_type": "stream",
       "stream": "stdout",
       "text": [
        "\r",
        "Reclassification 147 for data set 8.  Elapsed time: 68.9229166667 mins"
       ]
      },
      {
       "output_type": "stream",
       "stream": "stdout",
       "text": [
        "\r",
        "Reclassification 148 for data set 8.  Elapsed time: 69.1652333339 mins"
       ]
      },
      {
       "output_type": "stream",
       "stream": "stdout",
       "text": [
        "\r",
        "Reclassification 149 for data set 8.  Elapsed time: 69.4184499979 mins"
       ]
      },
      {
       "output_type": "stream",
       "stream": "stdout",
       "text": [
        "\r",
        "Reclassification 150 for data set 8.  Elapsed time: 69.6735999982 mins"
       ]
      },
      {
       "output_type": "stream",
       "stream": "stdout",
       "text": [
        "\r",
        "Reclassification 151 for data set 8.  Elapsed time: 69.9284500003 mins"
       ]
      },
      {
       "output_type": "stream",
       "stream": "stdout",
       "text": [
        "\r",
        "Reclassification 152 for data set 8.  Elapsed time: 70.1813000003 mins"
       ]
      },
      {
       "output_type": "stream",
       "stream": "stdout",
       "text": [
        "\r",
        "Reclassification 153 for data set 8.  Elapsed time: 70.4502333323 mins"
       ]
      },
      {
       "output_type": "stream",
       "stream": "stdout",
       "text": [
        "\r",
        "Reclassification 154 for data set 8.  Elapsed time: 70.7191333334 mins"
       ]
      },
      {
       "output_type": "stream",
       "stream": "stdout",
       "text": [
        "\r",
        "Reclassification 155 for data set 8.  Elapsed time: 70.9905833324 mins"
       ]
      },
      {
       "output_type": "stream",
       "stream": "stdout",
       "text": [
        "\r",
        "Reclassification 156 for data set 8.  Elapsed time: 71.2619500001 mins"
       ]
      },
      {
       "output_type": "stream",
       "stream": "stdout",
       "text": [
        "\r",
        "Reclassification 157 for data set 8.  Elapsed time: 71.5392666658 mins"
       ]
      },
      {
       "output_type": "stream",
       "stream": "stdout",
       "text": [
        "\r",
        "Reclassification 158 for data set 8.  Elapsed time: 71.8750833313 mins"
       ]
      },
      {
       "output_type": "stream",
       "stream": "stdout",
       "text": [
        "\r",
        "Reclassification 159 for data set 8.  Elapsed time: 72.132766668 mins"
       ]
      },
      {
       "output_type": "stream",
       "stream": "stdout",
       "text": [
        "\r",
        "Reclassification 160 for data set 8.  Elapsed time: 72.3979000012 mins"
       ]
      },
      {
       "output_type": "stream",
       "stream": "stdout",
       "text": [
        "\r",
        "Reclassification 161 for data set 8.  Elapsed time: 72.6829666654 mins"
       ]
      },
      {
       "output_type": "stream",
       "stream": "stdout",
       "text": [
        "\r",
        "Reclassification 162 for data set 8.  Elapsed time: 72.9896333337 mins"
       ]
      },
      {
       "output_type": "stream",
       "stream": "stdout",
       "text": [
        "\r",
        "Reclassification 163 for data set 8.  Elapsed time: 73.2431166649 mins"
       ]
      },
      {
       "output_type": "stream",
       "stream": "stdout",
       "text": [
        "\r",
        "Reclassification 164 for data set 8.  Elapsed time: 73.4979999979 mins"
       ]
      },
      {
       "output_type": "stream",
       "stream": "stdout",
       "text": [
        "\r",
        "Reclassification 165 for data set 8.  Elapsed time: 73.7887333314 mins"
       ]
      },
      {
       "output_type": "stream",
       "stream": "stdout",
       "text": [
        "\r",
        "Reclassification 166 for data set 8.  Elapsed time: 74.057433335 mins"
       ]
      },
      {
       "output_type": "stream",
       "stream": "stdout",
       "text": [
        "\r",
        "Reclassification 167 for data set 8.  Elapsed time: 74.3125333349 mins"
       ]
      },
      {
       "output_type": "stream",
       "stream": "stdout",
       "text": [
        "\r",
        "Reclassification 168 for data set 8.  Elapsed time: 74.5711500009 mins"
       ]
      },
      {
       "output_type": "stream",
       "stream": "stdout",
       "text": [
        "\r",
        "Reclassification 169 for data set 8.  Elapsed time: 74.8462333322 mins"
       ]
      },
      {
       "output_type": "stream",
       "stream": "stdout",
       "text": [
        "\r",
        "Reclassification 170 for data set 8.  Elapsed time: 75.1282499989 mins"
       ]
      },
      {
       "output_type": "stream",
       "stream": "stdout",
       "text": [
        "\r",
        "Reclassification 171 for data set 8.  Elapsed time: 75.4605666677 mins"
       ]
      },
      {
       "output_type": "stream",
       "stream": "stdout",
       "text": [
        "\r",
        "Reclassification 172 for data set 8.  Elapsed time: 75.7021999995 mins"
       ]
      },
      {
       "output_type": "stream",
       "stream": "stdout",
       "text": [
        "\r",
        "Reclassification 173 for data set 8.  Elapsed time: 75.9415000002 mins"
       ]
      },
      {
       "output_type": "stream",
       "stream": "stdout",
       "text": [
        "\r",
        "Reclassification 174 for data set 8.  Elapsed time: 76.1816499988 mins"
       ]
      },
      {
       "output_type": "stream",
       "stream": "stdout",
       "text": [
        "\r",
        "Reclassification 175 for data set 8.  Elapsed time: 76.4288333337 mins"
       ]
      },
      {
       "output_type": "stream",
       "stream": "stdout",
       "text": [
        "\r",
        "Reclassification 176 for data set 8.  Elapsed time: 76.6698333343 mins"
       ]
      },
      {
       "output_type": "stream",
       "stream": "stdout",
       "text": [
        "\r",
        "Reclassification 177 for data set 8.  Elapsed time: 76.9279500008 mins"
       ]
      },
      {
       "output_type": "stream",
       "stream": "stdout",
       "text": [
        "\r",
        "Reclassification 178 for data set 8.  Elapsed time: 77.1647833347 mins"
       ]
      },
      {
       "output_type": "stream",
       "stream": "stdout",
       "text": [
        "\r",
        "Reclassification 179 for data set 8.  Elapsed time: 77.402366666 mins"
       ]
      },
      {
       "output_type": "stream",
       "stream": "stdout",
       "text": [
        "\r",
        "Reclassification 180 for data set 8.  Elapsed time: 77.6417000016 mins"
       ]
      },
      {
       "output_type": "stream",
       "stream": "stdout",
       "text": [
        "\r",
        "Reclassification 181 for data set 8.  Elapsed time: 77.8761166652 mins"
       ]
      },
      {
       "output_type": "stream",
       "stream": "stdout",
       "text": [
        "\r",
        "Reclassification 140 for data set 9.  Elapsed time: 78.1118833343 mins"
       ]
      },
      {
       "output_type": "stream",
       "stream": "stdout",
       "text": [
        "\r",
        "Reclassification 143 for data set 9.  Elapsed time: 78.3517 mins"
       ]
      },
      {
       "output_type": "stream",
       "stream": "stdout",
       "text": [
        "\r",
        "Reclassification 144 for data set 9.  Elapsed time: 78.5781166673 mins"
       ]
      },
      {
       "output_type": "stream",
       "stream": "stdout",
       "text": [
        "\r",
        "Reclassification 145 for data set 9.  Elapsed time: 78.8031333327 mins"
       ]
      },
      {
       "output_type": "stream",
       "stream": "stdout",
       "text": [
        "\r",
        "Reclassification 146 for data set 9.  Elapsed time: 79.027699999 mins"
       ]
      },
      {
       "output_type": "stream",
       "stream": "stdout",
       "text": [
        "\r",
        "Reclassification 147 for data set 9.  Elapsed time: 79.2559499979 mins"
       ]
      },
      {
       "output_type": "stream",
       "stream": "stdout",
       "text": [
        "\r",
        "Reclassification 148 for data set 9.  Elapsed time: 79.4976999998 mins"
       ]
      },
      {
       "output_type": "stream",
       "stream": "stdout",
       "text": [
        "\r",
        "Reclassification 149 for data set 9.  Elapsed time: 79.7908166647 mins"
       ]
      },
      {
       "output_type": "stream",
       "stream": "stdout",
       "text": [
        "\r",
        "Reclassification 150 for data set 9.  Elapsed time: 80.0275666674 mins"
       ]
      },
      {
       "output_type": "stream",
       "stream": "stdout",
       "text": [
        "\r",
        "Reclassification 151 for data set 9.  Elapsed time: 80.2520833333 mins"
       ]
      },
      {
       "output_type": "stream",
       "stream": "stdout",
       "text": [
        "\r",
        "Reclassification 152 for data set 9.  Elapsed time: 80.5355333328 mins"
       ]
      },
      {
       "output_type": "stream",
       "stream": "stdout",
       "text": [
        "\r",
        "Reclassification 153 for data set 9.  Elapsed time: 80.7797999978 mins"
       ]
      },
      {
       "output_type": "stream",
       "stream": "stdout",
       "text": [
        "\r",
        "Reclassification 154 for data set 9.  Elapsed time: 81.0376666665 mins"
       ]
      },
      {
       "output_type": "stream",
       "stream": "stdout",
       "text": [
        "\r",
        "Reclassification 155 for data set 9.  Elapsed time: 81.2929166675 mins"
       ]
      },
      {
       "output_type": "stream",
       "stream": "stdout",
       "text": [
        "\r",
        "Reclassification 156 for data set 9.  Elapsed time: 81.5470499992 mins"
       ]
      },
      {
       "output_type": "stream",
       "stream": "stdout",
       "text": [
        "\r",
        "Reclassification 157 for data set 9.  Elapsed time: 81.7762166659 mins"
       ]
      },
      {
       "output_type": "stream",
       "stream": "stdout",
       "text": [
        "\r",
        "Reclassification 158 for data set 9.  Elapsed time: 81.999483331 mins"
       ]
      },
      {
       "output_type": "stream",
       "stream": "stdout",
       "text": [
        "\r",
        "Reclassification 159 for data set 9.  Elapsed time: 82.2233833313 mins"
       ]
      },
      {
       "output_type": "stream",
       "stream": "stdout",
       "text": [
        "\r",
        "Reclassification 160 for data set 9.  Elapsed time: 82.4456166665 mins"
       ]
      },
      {
       "output_type": "stream",
       "stream": "stdout",
       "text": [
        "\r",
        "Reclassification 161 for data set 9.  Elapsed time: 82.6671500007 mins"
       ]
      },
      {
       "output_type": "stream",
       "stream": "stdout",
       "text": [
        "\r",
        "Reclassification 162 for data set 9.  Elapsed time: 82.8894499977 mins"
       ]
      },
      {
       "output_type": "stream",
       "stream": "stdout",
       "text": [
        "\r",
        "Reclassification 163 for data set 9.  Elapsed time: 83.1088666677 mins"
       ]
      },
      {
       "output_type": "stream",
       "stream": "stdout",
       "text": [
        "\r",
        "Reclassification 164 for data set 9.  Elapsed time: 83.3292833328 mins"
       ]
      },
      {
       "output_type": "stream",
       "stream": "stdout",
       "text": [
        "\r",
        "Reclassification 165 for data set 9.  Elapsed time: 83.5499166648 mins"
       ]
      },
      {
       "output_type": "stream",
       "stream": "stdout",
       "text": [
        "\r",
        "Reclassification 166 for data set 9.  Elapsed time: 83.7692833344 mins"
       ]
      },
      {
       "output_type": "stream",
       "stream": "stdout",
       "text": [
        "\r",
        "Reclassification 167 for data set 9.  Elapsed time: 83.9905166666 mins"
       ]
      },
      {
       "output_type": "stream",
       "stream": "stdout",
       "text": [
        "\r",
        "Reclassification 168 for data set 9.  Elapsed time: 84.2124833345 mins"
       ]
      },
      {
       "output_type": "stream",
       "stream": "stdout",
       "text": [
        "\r",
        "Reclassification 169 for data set 9.  Elapsed time: 84.4332999984 mins"
       ]
      },
      {
       "output_type": "stream",
       "stream": "stdout",
       "text": [
        "\r",
        "Reclassification 170 for data set 9.  Elapsed time: 84.6542999983 mins"
       ]
      },
      {
       "output_type": "stream",
       "stream": "stdout",
       "text": [
        "\r",
        "Reclassification 171 for data set 9.  Elapsed time: 84.8764333328 mins"
       ]
      },
      {
       "output_type": "stream",
       "stream": "stdout",
       "text": [
        "\r",
        "Reclassification 172 for data set 9.  Elapsed time: 85.0963499983 mins"
       ]
      },
      {
       "output_type": "stream",
       "stream": "stdout",
       "text": [
        "\r",
        "Reclassification 173 for data set 9.  Elapsed time: 85.3163499991 mins"
       ]
      },
      {
       "output_type": "stream",
       "stream": "stdout",
       "text": [
        "\r",
        "Reclassification 174 for data set 9.  Elapsed time: 85.5375833313 mins"
       ]
      },
      {
       "output_type": "stream",
       "stream": "stdout",
       "text": [
        "\r",
        "Reclassification 175 for data set 9.  Elapsed time: 85.756433332 mins"
       ]
      },
      {
       "output_type": "stream",
       "stream": "stdout",
       "text": [
        "\r",
        "Reclassification 176 for data set 9.  Elapsed time: 85.976516668 mins"
       ]
      },
      {
       "output_type": "stream",
       "stream": "stdout",
       "text": [
        "\r",
        "Reclassification 177 for data set 9.  Elapsed time: 86.1969833334 mins"
       ]
      },
      {
       "output_type": "stream",
       "stream": "stdout",
       "text": [
        "\r",
        "Reclassification 178 for data set 9.  Elapsed time: 86.4175166647 mins"
       ]
      },
      {
       "output_type": "stream",
       "stream": "stdout",
       "text": [
        "\r",
        "Reclassification 179 for data set 9.  Elapsed time: 86.6403333346 mins"
       ]
      },
      {
       "output_type": "stream",
       "stream": "stdout",
       "text": [
        "\r",
        "Reclassification 180 for data set 9.  Elapsed time: 86.8603333314 mins"
       ]
      },
      {
       "output_type": "stream",
       "stream": "stdout",
       "text": [
        "\r",
        "Reclassification 181 for data set 9.  Elapsed time: 87.0803500017 mins"
       ]
      },
      {
       "output_type": "stream",
       "stream": "stdout",
       "text": [
        "\r",
        "Reclassification 140 for data set 10.  Elapsed time: 87.300516665 mins"
       ]
      },
      {
       "output_type": "stream",
       "stream": "stdout",
       "text": [
        "\r",
        "Reclassification 143 for data set 10.  Elapsed time: 87.5383333325 mins"
       ]
      },
      {
       "output_type": "stream",
       "stream": "stdout",
       "text": [
        "\r",
        "Reclassification 144 for data set 10.  Elapsed time: 87.7612166683 mins"
       ]
      },
      {
       "output_type": "stream",
       "stream": "stdout",
       "text": [
        "\r",
        "Reclassification 145 for data set 10.  Elapsed time: 87.9867166678 mins"
       ]
      },
      {
       "output_type": "stream",
       "stream": "stdout",
       "text": [
        "\r",
        "Reclassification 146 for data set 10.  Elapsed time: 88.2104833325 mins"
       ]
      },
      {
       "output_type": "stream",
       "stream": "stdout",
       "text": [
        "\r",
        "Reclassification 147 for data set 10.  Elapsed time: 88.4343000015 mins"
       ]
      },
      {
       "output_type": "stream",
       "stream": "stdout",
       "text": [
        "\r",
        "Reclassification 148 for data set 10.  Elapsed time: 88.6607833346 mins"
       ]
      },
      {
       "output_type": "stream",
       "stream": "stdout",
       "text": [
        "\r",
        "Reclassification 149 for data set 10.  Elapsed time: 88.9049833337 mins"
       ]
      },
      {
       "output_type": "stream",
       "stream": "stdout",
       "text": [
        "\r",
        "Reclassification 150 for data set 10.  Elapsed time: 89.1783999999 mins"
       ]
      },
      {
       "output_type": "stream",
       "stream": "stdout",
       "text": [
        "\r",
        "Reclassification 151 for data set 10.  Elapsed time: 89.4293833335 mins"
       ]
      },
      {
       "output_type": "stream",
       "stream": "stdout",
       "text": [
        "\r",
        "Reclassification 152 for data set 10.  Elapsed time: 89.7133833329 mins"
       ]
      },
      {
       "output_type": "stream",
       "stream": "stdout",
       "text": [
        "\r",
        "Reclassification 153 for data set 10.  Elapsed time: 89.9589666645 mins"
       ]
      },
      {
       "output_type": "stream",
       "stream": "stdout",
       "text": [
        "\r",
        "Reclassification 154 for data set 10.  Elapsed time: 90.2517166654 mins"
       ]
      },
      {
       "output_type": "stream",
       "stream": "stdout",
       "text": [
        "\r",
        "Reclassification 155 for data set 10.  Elapsed time: 90.5003666679 mins"
       ]
      },
      {
       "output_type": "stream",
       "stream": "stdout",
       "text": [
        "\r",
        "Reclassification 156 for data set 10.  Elapsed time: 90.7390333335 mins"
       ]
      },
      {
       "output_type": "stream",
       "stream": "stdout",
       "text": [
        "\r",
        "Reclassification 157 for data set 10.  Elapsed time: 90.9749333342 mins"
       ]
      },
      {
       "output_type": "stream",
       "stream": "stdout",
       "text": [
        "\r",
        "Reclassification 158 for data set 10.  Elapsed time: 91.2114666661 mins"
       ]
      },
      {
       "output_type": "stream",
       "stream": "stdout",
       "text": [
        "\r",
        "Reclassification 159 for data set 10.  Elapsed time: 91.481766665 mins"
       ]
      },
      {
       "output_type": "stream",
       "stream": "stdout",
       "text": [
        "\r",
        "Reclassification 160 for data set 10.  Elapsed time: 91.7648333311 mins"
       ]
      },
      {
       "output_type": "stream",
       "stream": "stdout",
       "text": [
        "\r",
        "Reclassification 161 for data set 10.  Elapsed time: 92.0395499984 mins"
       ]
      },
      {
       "output_type": "stream",
       "stream": "stdout",
       "text": [
        "\r",
        "Reclassification 162 for data set 10.  Elapsed time: 92.3296666662 mins"
       ]
      },
      {
       "output_type": "stream",
       "stream": "stdout",
       "text": [
        "\r",
        "Reclassification 163 for data set 10.  Elapsed time: 92.5665166656 mins"
       ]
      },
      {
       "output_type": "stream",
       "stream": "stdout",
       "text": [
        "\r",
        "Reclassification 164 for data set 10.  Elapsed time: 92.8004333337 mins"
       ]
      },
      {
       "output_type": "stream",
       "stream": "stdout",
       "text": [
        "\r",
        "Reclassification 165 for data set 10.  Elapsed time: 93.0345666647 mins"
       ]
      },
      {
       "output_type": "stream",
       "stream": "stdout",
       "text": [
        "\r",
        "Reclassification 166 for data set 10.  Elapsed time: 93.2749499997 mins"
       ]
      },
      {
       "output_type": "stream",
       "stream": "stdout",
       "text": [
        "\r",
        "Reclassification 167 for data set 10.  Elapsed time: 93.5258666674 mins"
       ]
      },
      {
       "output_type": "stream",
       "stream": "stdout",
       "text": [
        "\r",
        "Reclassification 168 for data set 10.  Elapsed time: 93.7538333337 mins"
       ]
      },
      {
       "output_type": "stream",
       "stream": "stdout",
       "text": [
        "\r",
        "Reclassification 169 for data set 10.  Elapsed time: 93.9837333322 mins"
       ]
      },
      {
       "output_type": "stream",
       "stream": "stdout",
       "text": [
        "\r",
        "Reclassification 170 for data set 10.  Elapsed time: 94.2135166645 mins"
       ]
      },
      {
       "output_type": "stream",
       "stream": "stdout",
       "text": [
        "\r",
        "Reclassification 171 for data set 10.  Elapsed time: 94.4412166675 mins"
       ]
      },
      {
       "output_type": "stream",
       "stream": "stdout",
       "text": [
        "\r",
        "Reclassification 172 for data set 10.  Elapsed time: 94.6706500014 mins"
       ]
      },
      {
       "output_type": "stream",
       "stream": "stdout",
       "text": [
        "\r",
        "Reclassification 173 for data set 10.  Elapsed time: 94.8986833334 mins"
       ]
      },
      {
       "output_type": "stream",
       "stream": "stdout",
       "text": [
        "\r",
        "Reclassification 174 for data set 10.  Elapsed time: 95.1251666665 mins"
       ]
      },
      {
       "output_type": "stream",
       "stream": "stdout",
       "text": [
        "\r",
        "Reclassification 175 for data set 10.  Elapsed time: 95.353550001 mins"
       ]
      },
      {
       "output_type": "stream",
       "stream": "stdout",
       "text": [
        "\r",
        "Reclassification 176 for data set 10.  Elapsed time: 95.5814166665 mins"
       ]
      },
      {
       "output_type": "stream",
       "stream": "stdout",
       "text": [
        "\r",
        "Reclassification 177 for data set 10.  Elapsed time: 95.8118499994 mins"
       ]
      },
      {
       "output_type": "stream",
       "stream": "stdout",
       "text": [
        "\r",
        "Reclassification 178 for data set 10.  Elapsed time: 96.0971333345 mins"
       ]
      },
      {
       "output_type": "stream",
       "stream": "stdout",
       "text": [
        "\r",
        "Reclassification 179 for data set 10.  Elapsed time: 96.3628999988 mins"
       ]
      },
      {
       "output_type": "stream",
       "stream": "stdout",
       "text": [
        "\r",
        "Reclassification 180 for data set 10.  Elapsed time: 96.5995666663 mins"
       ]
      },
      {
       "output_type": "stream",
       "stream": "stdout",
       "text": [
        "\r",
        "Reclassification 181 for data set 10.  Elapsed time: 96.8468499978 mins"
       ]
      }
     ],
     "prompt_number": 16
    },
    {
     "cell_type": "code",
     "collapsed": false,
     "input": [
      "t1 = time.time()\n",
      "aggre_clust_diffs = []\n",
      "med_clust_diffs = np.zeros(max_itr - 140)\n",
      "for itr in np.arange(40):   \n",
      "    for d_inds, di in enumerate(itertools.combinations(np.arange(len(new_data_sets)), 2)):\n",
      "        t2 = time.time()\n",
      "        \n",
      "        # Change from minutes to hours if current run time is longer than an hour\n",
      "        if ((t2-t1)/60.) > 60.:\n",
      "            n = 60.\n",
      "            units = \"hours\"\n",
      "        else:\n",
      "            n = 1.\n",
      "            units = \"mins\"\n",
      "        sys.stdout.write('\\r' + \"Finding differences of reclassification %s for data pairs %s of %s.  Elapsed time: %s %s\"%(itr+1,\n",
      "                                                              d_inds+1, bsu.nchoosek(len(new_data_sets),2),(t2-t1)/(60.*n),units))\n",
      "        sys.stdout.flush()\n",
      "        # Find the cluster differences between mask lists from different data sets\n",
      "        # at the same iteration of reassignment.\n",
      "        clust_diffs, _ = ca.clust_diff(bsu.sig_list_to_mask(all_masks_list[di[0]][itr]),\n",
      "                                       bsu.sig_list_to_mask(all_masks_list[di[1]][itr]),\n",
      "                                       lin_data_alt)\n",
      "        if d_inds == 0:\n",
      "            # Initialize the array\n",
      "            clust_diffs_arr = clust_diffs\n",
      "        else:\n",
      "            clust_diffs_arr = np.concatenate((clust_diffs_arr, clust_diffs))\n",
      "    \n",
      "    # Save the cluster differences and their medians.\n",
      "    aggre_clust_diffs.append(clust_diffs_arr)\n",
      "    med_clust_diffs[itr] = np.median(clust_diffs_arr)"
     ],
     "language": "python",
     "metadata": {},
     "outputs": [
      {
       "output_type": "stream",
       "stream": "stdout",
       "text": [
        "\r",
        "Finding differences of reclassification 1 for data pairs 1 of 45.  Elapsed time: 1.66654586792e-05 mins"
       ]
      },
      {
       "output_type": "stream",
       "stream": "stdout",
       "text": [
        "\r",
        "Finding differences of reclassification 1 for data pairs 2 of 45.  Elapsed time: 0.101133330663 mins"
       ]
      },
      {
       "output_type": "stream",
       "stream": "stdout",
       "text": [
        "\r",
        "Finding differences of reclassification 1 for data pairs 3 of 45.  Elapsed time: 0.196516664823 mins"
       ]
      },
      {
       "output_type": "stream",
       "stream": "stdout",
       "text": [
        "\r",
        "Finding differences of reclassification 1 for data pairs 4 of 45.  Elapsed time: 0.291966664791 mins"
       ]
      },
      {
       "output_type": "stream",
       "stream": "stdout",
       "text": [
        "\r",
        "Finding differences of reclassification 1 for data pairs 5 of 45.  Elapsed time: 0.38654999733 mins"
       ]
      },
      {
       "output_type": "stream",
       "stream": "stdout",
       "text": [
        "\r",
        "Finding differences of reclassification 1 for data pairs 6 of 45.  Elapsed time: 0.479483334223 mins"
       ]
      },
      {
       "output_type": "stream",
       "stream": "stdout",
       "text": [
        "\r",
        "Finding differences of reclassification 1 for data pairs 7 of 45.  Elapsed time: 0.574216663837 mins"
       ]
      },
      {
       "output_type": "stream",
       "stream": "stdout",
       "text": [
        "\r",
        "Finding differences of reclassification 1 for data pairs 8 of 45.  Elapsed time: 0.668866666158 mins"
       ]
      },
      {
       "output_type": "stream",
       "stream": "stdout",
       "text": [
        "\r",
        "Finding differences of reclassification 1 for data pairs 9 of 45.  Elapsed time: 0.762933333715 mins"
       ]
      },
      {
       "output_type": "stream",
       "stream": "stdout",
       "text": [
        "\r",
        "Finding differences of reclassification 1 for data pairs 10 of 45.  Elapsed time: 0.85706666708 mins"
       ]
      },
      {
       "output_type": "stream",
       "stream": "stdout",
       "text": [
        "\r",
        "Finding differences of reclassification 1 for data pairs 11 of 45.  Elapsed time: 0.951166665554 mins"
       ]
      },
      {
       "output_type": "stream",
       "stream": "stdout",
       "text": [
        "\r",
        "Finding differences of reclassification 1 for data pairs 12 of 45.  Elapsed time: 1.04754999876 mins"
       ]
      },
      {
       "output_type": "stream",
       "stream": "stdout",
       "text": [
        "\r",
        "Finding differences of reclassification 1 for data pairs 13 of 45.  Elapsed time: 1.14153333108 mins"
       ]
      },
      {
       "output_type": "stream",
       "stream": "stdout",
       "text": [
        "\r",
        "Finding differences of reclassification 1 for data pairs 14 of 45.  Elapsed time: 1.23526666562 mins"
       ]
      },
      {
       "output_type": "stream",
       "stream": "stdout",
       "text": [
        "\r",
        "Finding differences of reclassification 1 for data pairs 15 of 45.  Elapsed time: 1.33131666581 mins"
       ]
      },
      {
       "output_type": "stream",
       "stream": "stdout",
       "text": [
        "\r",
        "Finding differences of reclassification 1 for data pairs 16 of 45.  Elapsed time: 1.42508333127 mins"
       ]
      },
      {
       "output_type": "stream",
       "stream": "stdout",
       "text": [
        "\r",
        "Finding differences of reclassification 1 for data pairs 17 of 45.  Elapsed time: 1.5198666652 mins"
       ]
      },
      {
       "output_type": "stream",
       "stream": "stdout",
       "text": [
        "\r",
        "Finding differences of reclassification 1 for data pairs 18 of 45.  Elapsed time: 1.61359999975 mins"
       ]
      },
      {
       "output_type": "stream",
       "stream": "stdout",
       "text": [
        "\r",
        "Finding differences of reclassification 1 for data pairs 19 of 45.  Elapsed time: 1.7084166646 mins"
       ]
      },
      {
       "output_type": "stream",
       "stream": "stdout",
       "text": [
        "\r",
        "Finding differences of reclassification 1 for data pairs 20 of 45.  Elapsed time: 1.80081666708 mins"
       ]
      },
      {
       "output_type": "stream",
       "stream": "stdout",
       "text": [
        "\r",
        "Finding differences of reclassification 1 for data pairs 21 of 45.  Elapsed time: 1.89529999892 mins"
       ]
      },
      {
       "output_type": "stream",
       "stream": "stdout",
       "text": [
        "\r",
        "Finding differences of reclassification 1 for data pairs 22 of 45.  Elapsed time: 1.99009999832 mins"
       ]
      },
      {
       "output_type": "stream",
       "stream": "stdout",
       "text": [
        "\r",
        "Finding differences of reclassification 1 for data pairs 23 of 45.  Elapsed time: 2.08334999879 mins"
       ]
      },
      {
       "output_type": "stream",
       "stream": "stdout",
       "text": [
        "\r",
        "Finding differences of reclassification 1 for data pairs 24 of 45.  Elapsed time: 2.17748333216 mins"
       ]
      },
      {
       "output_type": "stream",
       "stream": "stdout",
       "text": [
        "\r",
        "Finding differences of reclassification 1 for data pairs 25 of 45.  Elapsed time: 2.27214999994 mins"
       ]
      },
      {
       "output_type": "stream",
       "stream": "stdout",
       "text": [
        "\r",
        "Finding differences of reclassification 1 for data pairs 26 of 45.  Elapsed time: 2.3684499979 mins"
       ]
      },
      {
       "output_type": "stream",
       "stream": "stdout",
       "text": [
        "\r",
        "Finding differences of reclassification 1 for data pairs 27 of 45.  Elapsed time: 2.46549999714 mins"
       ]
      },
      {
       "output_type": "stream",
       "stream": "stdout",
       "text": [
        "\r",
        "Finding differences of reclassification 1 for data pairs 28 of 45.  Elapsed time: 2.5636166652 mins"
       ]
      },
      {
       "output_type": "stream",
       "stream": "stdout",
       "text": [
        "\r",
        "Finding differences of reclassification 1 for data pairs 29 of 45.  Elapsed time: 2.65869999727 mins"
       ]
      },
      {
       "output_type": "stream",
       "stream": "stdout",
       "text": [
        "\r",
        "Finding differences of reclassification 1 for data pairs 30 of 45.  Elapsed time: 2.75478333235 mins"
       ]
      },
      {
       "output_type": "stream",
       "stream": "stdout",
       "text": [
        "\r",
        "Finding differences of reclassification 1 for data pairs 31 of 45.  Elapsed time: 2.84956666629 mins"
       ]
      },
      {
       "output_type": "stream",
       "stream": "stdout",
       "text": [
        "\r",
        "Finding differences of reclassification 1 for data pairs 32 of 45.  Elapsed time: 2.94414999882 mins"
       ]
      },
      {
       "output_type": "stream",
       "stream": "stdout",
       "text": [
        "\r",
        "Finding differences of reclassification 1 for data pairs 33 of 45.  Elapsed time: 3.03999999762 mins"
       ]
      },
      {
       "output_type": "stream",
       "stream": "stdout",
       "text": [
        "\r",
        "Finding differences of reclassification 1 for data pairs 34 of 45.  Elapsed time: 3.134466664 mins"
       ]
      },
      {
       "output_type": "stream",
       "stream": "stdout",
       "text": [
        "\r",
        "Finding differences of reclassification 1 for data pairs 35 of 45.  Elapsed time: 3.23434999784 mins"
       ]
      },
      {
       "output_type": "stream",
       "stream": "stdout",
       "text": [
        "\r",
        "Finding differences of reclassification 1 for data pairs 36 of 45.  Elapsed time: 3.33173333406 mins"
       ]
      },
      {
       "output_type": "stream",
       "stream": "stdout",
       "text": [
        "\r",
        "Finding differences of reclassification 1 for data pairs 37 of 45.  Elapsed time: 3.43188333114 mins"
       ]
      },
      {
       "output_type": "stream",
       "stream": "stdout",
       "text": [
        "\r",
        "Finding differences of reclassification 1 for data pairs 38 of 45.  Elapsed time: 3.52879999876 mins"
       ]
      },
      {
       "output_type": "stream",
       "stream": "stdout",
       "text": [
        "\r",
        "Finding differences of reclassification 1 for data pairs 39 of 45.  Elapsed time: 3.62691666683 mins"
       ]
      },
      {
       "output_type": "stream",
       "stream": "stdout",
       "text": [
        "\r",
        "Finding differences of reclassification 1 for data pairs 40 of 45.  Elapsed time: 3.72829999924 mins"
       ]
      },
      {
       "output_type": "stream",
       "stream": "stdout",
       "text": [
        "\r",
        "Finding differences of reclassification 1 for data pairs 41 of 45.  Elapsed time: 3.83098333279 mins"
       ]
      },
      {
       "output_type": "stream",
       "stream": "stdout",
       "text": [
        "\r",
        "Finding differences of reclassification 1 for data pairs 42 of 45.  Elapsed time: 3.9324666659 mins"
       ]
      },
      {
       "output_type": "stream",
       "stream": "stdout",
       "text": [
        "\r",
        "Finding differences of reclassification 1 for data pairs 43 of 45.  Elapsed time: 4.03344999949 mins"
       ]
      },
      {
       "output_type": "stream",
       "stream": "stdout",
       "text": [
        "\r",
        "Finding differences of reclassification 1 for data pairs 44 of 45.  Elapsed time: 4.1338166674 mins"
       ]
      },
      {
       "output_type": "stream",
       "stream": "stdout",
       "text": [
        "\r",
        "Finding differences of reclassification 1 for data pairs 45 of 45.  Elapsed time: 4.22853333155 mins"
       ]
      },
      {
       "output_type": "stream",
       "stream": "stdout",
       "text": [
        "\r",
        "Finding differences of reclassification 2 for data pairs 1 of 45.  Elapsed time: 4.32254999876 mins"
       ]
      },
      {
       "output_type": "stream",
       "stream": "stdout",
       "text": [
        "\r",
        "Finding differences of reclassification 2 for data pairs 2 of 45.  Elapsed time: 4.41903333267 mins"
       ]
      },
      {
       "output_type": "stream",
       "stream": "stdout",
       "text": [
        "\r",
        "Finding differences of reclassification 2 for data pairs 3 of 45.  Elapsed time: 4.51218333244 mins"
       ]
      },
      {
       "output_type": "stream",
       "stream": "stdout",
       "text": [
        "\r",
        "Finding differences of reclassification 2 for data pairs 4 of 45.  Elapsed time: 4.60686666568 mins"
       ]
      },
      {
       "output_type": "stream",
       "stream": "stdout",
       "text": [
        "\r",
        "Finding differences of reclassification 2 for data pairs 5 of 45.  Elapsed time: 4.70180000067 mins"
       ]
      },
      {
       "output_type": "stream",
       "stream": "stdout",
       "text": [
        "\r",
        "Finding differences of reclassification 2 for data pairs 6 of 45.  Elapsed time: 4.7946999987 mins"
       ]
      },
      {
       "output_type": "stream",
       "stream": "stdout",
       "text": [
        "\r",
        "Finding differences of reclassification 2 for data pairs 7 of 45.  Elapsed time: 4.8896666646 mins"
       ]
      },
      {
       "output_type": "stream",
       "stream": "stdout",
       "text": [
        "\r",
        "Finding differences of reclassification 2 for data pairs 8 of 45.  Elapsed time: 4.9850333333 mins"
       ]
      },
      {
       "output_type": "stream",
       "stream": "stdout",
       "text": [
        "\r",
        "Finding differences of reclassification 2 for data pairs 9 of 45.  Elapsed time: 5.07916666667 mins"
       ]
      },
      {
       "output_type": "stream",
       "stream": "stdout",
       "text": [
        "\r",
        "Finding differences of reclassification 2 for data pairs 10 of 45.  Elapsed time: 5.17204999924 mins"
       ]
      },
      {
       "output_type": "stream",
       "stream": "stdout",
       "text": [
        "\r",
        "Finding differences of reclassification 2 for data pairs 11 of 45.  Elapsed time: 5.26639999946 mins"
       ]
      },
      {
       "output_type": "stream",
       "stream": "stdout",
       "text": [
        "\r",
        "Finding differences of reclassification 2 for data pairs 12 of 45.  Elapsed time: 5.3650666674 mins"
       ]
      },
      {
       "output_type": "stream",
       "stream": "stdout",
       "text": [
        "\r",
        "Finding differences of reclassification 2 for data pairs 13 of 45.  Elapsed time: 5.45898333391 mins"
       ]
      },
      {
       "output_type": "stream",
       "stream": "stdout",
       "text": [
        "\r",
        "Finding differences of reclassification 2 for data pairs 14 of 45.  Elapsed time: 5.55295000076 mins"
       ]
      },
      {
       "output_type": "stream",
       "stream": "stdout",
       "text": [
        "\r",
        "Finding differences of reclassification 2 for data pairs 15 of 45.  Elapsed time: 5.64936666489 mins"
       ]
      },
      {
       "output_type": "stream",
       "stream": "stdout",
       "text": [
        "\r",
        "Finding differences of reclassification 2 for data pairs 16 of 45.  Elapsed time: 5.74409999847 mins"
       ]
      },
      {
       "output_type": "stream",
       "stream": "stdout",
       "text": [
        "\r",
        "Finding differences of reclassification 2 for data pairs 17 of 45.  Elapsed time: 5.84004999797 mins"
       ]
      },
      {
       "output_type": "stream",
       "stream": "stdout",
       "text": [
        "\r",
        "Finding differences of reclassification 2 for data pairs 18 of 45.  Elapsed time: 5.93421666622 mins"
       ]
      },
      {
       "output_type": "stream",
       "stream": "stdout",
       "text": [
        "\r",
        "Finding differences of reclassification 2 for data pairs 19 of 45.  Elapsed time: 6.02871666749 mins"
       ]
      },
      {
       "output_type": "stream",
       "stream": "stdout",
       "text": [
        "\r",
        "Finding differences of reclassification 2 for data pairs 20 of 45.  Elapsed time: 6.12236666679 mins"
       ]
      },
      {
       "output_type": "stream",
       "stream": "stdout",
       "text": [
        "\r",
        "Finding differences of reclassification 2 for data pairs 21 of 45.  Elapsed time: 6.21891666651 mins"
       ]
      },
      {
       "output_type": "stream",
       "stream": "stdout",
       "text": [
        "\r",
        "Finding differences of reclassification 2 for data pairs 22 of 45.  Elapsed time: 6.31448333263 mins"
       ]
      },
      {
       "output_type": "stream",
       "stream": "stdout",
       "text": [
        "\r",
        "Finding differences of reclassification 2 for data pairs 23 of 45.  Elapsed time: 6.40876666705 mins"
       ]
      },
      {
       "output_type": "stream",
       "stream": "stdout",
       "text": [
        "\r",
        "Finding differences of reclassification 2 for data pairs 24 of 45.  Elapsed time: 6.50163333416 mins"
       ]
      },
      {
       "output_type": "stream",
       "stream": "stdout",
       "text": [
        "\r",
        "Finding differences of reclassification 2 for data pairs 25 of 45.  Elapsed time: 6.59674999714 mins"
       ]
      },
      {
       "output_type": "stream",
       "stream": "stdout",
       "text": [
        "\r",
        "Finding differences of reclassification 2 for data pairs 26 of 45.  Elapsed time: 6.69275000095 mins"
       ]
      },
      {
       "output_type": "stream",
       "stream": "stdout",
       "text": [
        "\r",
        "Finding differences of reclassification 2 for data pairs 27 of 45.  Elapsed time: 6.78784999847 mins"
       ]
      },
      {
       "output_type": "stream",
       "stream": "stdout",
       "text": [
        "\r",
        "Finding differences of reclassification 2 for data pairs 28 of 45.  Elapsed time: 6.88576666514 mins"
       ]
      },
      {
       "output_type": "stream",
       "stream": "stdout",
       "text": [
        "\r",
        "Finding differences of reclassification 2 for data pairs 29 of 45.  Elapsed time: 6.98101666768 mins"
       ]
      },
      {
       "output_type": "stream",
       "stream": "stdout",
       "text": [
        "\r",
        "Finding differences of reclassification 2 for data pairs 30 of 45.  Elapsed time: 7.0771666646 mins"
       ]
      },
      {
       "output_type": "stream",
       "stream": "stdout",
       "text": [
        "\r",
        "Finding differences of reclassification 2 for data pairs 31 of 45.  Elapsed time: 7.17316666444 mins"
       ]
      },
      {
       "output_type": "stream",
       "stream": "stdout",
       "text": [
        "\r",
        "Finding differences of reclassification 2 for data pairs 32 of 45.  Elapsed time: 7.26748333375 mins"
       ]
      },
      {
       "output_type": "stream",
       "stream": "stdout",
       "text": [
        "\r",
        "Finding differences of reclassification 2 for data pairs 33 of 45.  Elapsed time: 7.36294999917 mins"
       ]
      },
      {
       "output_type": "stream",
       "stream": "stdout",
       "text": [
        "\r",
        "Finding differences of reclassification 2 for data pairs 34 of 45.  Elapsed time: 7.46031666597 mins"
       ]
      },
      {
       "output_type": "stream",
       "stream": "stdout",
       "text": [
        "\r",
        "Finding differences of reclassification 2 for data pairs 35 of 45.  Elapsed time: 7.55633333127 mins"
       ]
      },
      {
       "output_type": "stream",
       "stream": "stdout",
       "text": [
        "\r",
        "Finding differences of reclassification 2 for data pairs 36 of 45.  Elapsed time: 7.65023333232 mins"
       ]
      },
      {
       "output_type": "stream",
       "stream": "stdout",
       "text": [
        "\r",
        "Finding differences of reclassification 2 for data pairs 37 of 45.  Elapsed time: 7.74531666438 mins"
       ]
      },
      {
       "output_type": "stream",
       "stream": "stdout",
       "text": [
        "\r",
        "Finding differences of reclassification 2 for data pairs 38 of 45.  Elapsed time: 7.83810000022 mins"
       ]
      },
      {
       "output_type": "stream",
       "stream": "stdout",
       "text": [
        "\r",
        "Finding differences of reclassification 2 for data pairs 39 of 45.  Elapsed time: 7.93191666603 mins"
       ]
      },
      {
       "output_type": "stream",
       "stream": "stdout",
       "text": [
        "\r",
        "Finding differences of reclassification 2 for data pairs 40 of 45.  Elapsed time: 8.02763333321 mins"
       ]
      },
      {
       "output_type": "stream",
       "stream": "stdout",
       "text": [
        "\r",
        "Finding differences of reclassification 2 for data pairs 41 of 45.  Elapsed time: 8.12326666514 mins"
       ]
      },
      {
       "output_type": "stream",
       "stream": "stdout",
       "text": [
        "\r",
        "Finding differences of reclassification 2 for data pairs 42 of 45.  Elapsed time: 8.21951666673 mins"
       ]
      },
      {
       "output_type": "stream",
       "stream": "stdout",
       "text": [
        "\r",
        "Finding differences of reclassification 2 for data pairs 43 of 45.  Elapsed time: 8.31576666435 mins"
       ]
      },
      {
       "output_type": "stream",
       "stream": "stdout",
       "text": [
        "\r",
        "Finding differences of reclassification 2 for data pairs 44 of 45.  Elapsed time: 8.4122999986 mins"
       ]
      },
      {
       "output_type": "stream",
       "stream": "stdout",
       "text": [
        "\r",
        "Finding differences of reclassification 2 for data pairs 45 of 45.  Elapsed time: 8.51368333101 mins"
       ]
      },
      {
       "output_type": "stream",
       "stream": "stdout",
       "text": [
        "\r",
        "Finding differences of reclassification 3 for data pairs 1 of 45.  Elapsed time: 8.60958333413 mins"
       ]
      },
      {
       "output_type": "stream",
       "stream": "stdout",
       "text": [
        "\r",
        "Finding differences of reclassification 3 for data pairs 2 of 45.  Elapsed time: 8.70443333387 mins"
       ]
      },
      {
       "output_type": "stream",
       "stream": "stdout",
       "text": [
        "\r",
        "Finding differences of reclassification 3 for data pairs 3 of 45.  Elapsed time: 8.79853333235 mins"
       ]
      },
      {
       "output_type": "stream",
       "stream": "stdout",
       "text": [
        "\r",
        "Finding differences of reclassification 3 for data pairs 4 of 45.  Elapsed time: 8.89388333162 mins"
       ]
      },
      {
       "output_type": "stream",
       "stream": "stdout",
       "text": [
        "\r",
        "Finding differences of reclassification 3 for data pairs 5 of 45.  Elapsed time: 8.98969999949 mins"
       ]
      },
      {
       "output_type": "stream",
       "stream": "stdout",
       "text": [
        "\r",
        "Finding differences of reclassification 3 for data pairs 6 of 45.  Elapsed time: 9.08423333168 mins"
       ]
      },
      {
       "output_type": "stream",
       "stream": "stdout",
       "text": [
        "\r",
        "Finding differences of reclassification 3 for data pairs 7 of 45.  Elapsed time: 9.17998333375 mins"
       ]
      },
      {
       "output_type": "stream",
       "stream": "stdout",
       "text": [
        "\r",
        "Finding differences of reclassification 3 for data pairs 8 of 45.  Elapsed time: 9.27561666568 mins"
       ]
      },
      {
       "output_type": "stream",
       "stream": "stdout",
       "text": [
        "\r",
        "Finding differences of reclassification 3 for data pairs 9 of 45.  Elapsed time: 9.37098333438 mins"
       ]
      },
      {
       "output_type": "stream",
       "stream": "stdout",
       "text": [
        "\r",
        "Finding differences of reclassification 3 for data pairs 10 of 45.  Elapsed time: 9.46535000006 mins"
       ]
      },
      {
       "output_type": "stream",
       "stream": "stdout",
       "text": [
        "\r",
        "Finding differences of reclassification 3 for data pairs 11 of 45.  Elapsed time: 9.56059999863 mins"
       ]
      },
      {
       "output_type": "stream",
       "stream": "stdout",
       "text": [
        "\r",
        "Finding differences of reclassification 3 for data pairs 12 of 45.  Elapsed time: 9.65723333359 mins"
       ]
      },
      {
       "output_type": "stream",
       "stream": "stdout",
       "text": [
        "\r",
        "Finding differences of reclassification 3 for data pairs 13 of 45.  Elapsed time: 9.75659999847 mins"
       ]
      },
      {
       "output_type": "stream",
       "stream": "stdout",
       "text": [
        "\r",
        "Finding differences of reclassification 3 for data pairs 14 of 45.  Elapsed time: 9.85583333174 mins"
       ]
      },
      {
       "output_type": "stream",
       "stream": "stdout",
       "text": [
        "\r",
        "Finding differences of reclassification 3 for data pairs 15 of 45.  Elapsed time: 9.95221666495 mins"
       ]
      },
      {
       "output_type": "stream",
       "stream": "stdout",
       "text": [
        "\r",
        "Finding differences of reclassification 3 for data pairs 16 of 45.  Elapsed time: 10.0491333326 mins"
       ]
      },
      {
       "output_type": "stream",
       "stream": "stdout",
       "text": [
        "\r",
        "Finding differences of reclassification 3 for data pairs 17 of 45.  Elapsed time: 10.1469333331 mins"
       ]
      },
      {
       "output_type": "stream",
       "stream": "stdout",
       "text": [
        "\r",
        "Finding differences of reclassification 3 for data pairs 18 of 45.  Elapsed time: 10.2405833324 mins"
       ]
      },
      {
       "output_type": "stream",
       "stream": "stdout",
       "text": [
        "\r",
        "Finding differences of reclassification 3 for data pairs 19 of 45.  Elapsed time: 10.3373999993 mins"
       ]
      },
      {
       "output_type": "stream",
       "stream": "stdout",
       "text": [
        "\r",
        "Finding differences of reclassification 3 for data pairs 20 of 45.  Elapsed time: 10.4347833316 mins"
       ]
      },
      {
       "output_type": "stream",
       "stream": "stdout",
       "text": [
        "\r",
        "Finding differences of reclassification 3 for data pairs 21 of 45.  Elapsed time: 10.5372333328 mins"
       ]
      },
      {
       "output_type": "stream",
       "stream": "stdout",
       "text": [
        "\r",
        "Finding differences of reclassification 3 for data pairs 22 of 45.  Elapsed time: 10.6400999983 mins"
       ]
      },
      {
       "output_type": "stream",
       "stream": "stdout",
       "text": [
        "\r",
        "Finding differences of reclassification 3 for data pairs 23 of 45.  Elapsed time: 10.7385999997 mins"
       ]
      },
      {
       "output_type": "stream",
       "stream": "stdout",
       "text": [
        "\r",
        "Finding differences of reclassification 3 for data pairs 24 of 45.  Elapsed time: 10.8350333333 mins"
       ]
      },
      {
       "output_type": "stream",
       "stream": "stdout",
       "text": [
        "\r",
        "Finding differences of reclassification 3 for data pairs 25 of 45.  Elapsed time: 10.9311666648 mins"
       ]
      },
      {
       "output_type": "stream",
       "stream": "stdout",
       "text": [
        "\r",
        "Finding differences of reclassification 3 for data pairs 26 of 45.  Elapsed time: 11.0254999995 mins"
       ]
      },
      {
       "output_type": "stream",
       "stream": "stdout",
       "text": [
        "\r",
        "Finding differences of reclassification 3 for data pairs 27 of 45.  Elapsed time: 11.1204833309 mins"
       ]
      },
      {
       "output_type": "stream",
       "stream": "stdout",
       "text": [
        "\r",
        "Finding differences of reclassification 3 for data pairs 28 of 45.  Elapsed time: 11.2181833307 mins"
       ]
      },
      {
       "output_type": "stream",
       "stream": "stdout",
       "text": [
        "\r",
        "Finding differences of reclassification 3 for data pairs 29 of 45.  Elapsed time: 11.3131833315 mins"
       ]
      },
      {
       "output_type": "stream",
       "stream": "stdout",
       "text": [
        "\r",
        "Finding differences of reclassification 3 for data pairs 30 of 45.  Elapsed time: 11.4092166662 mins"
       ]
      },
      {
       "output_type": "stream",
       "stream": "stdout",
       "text": [
        "\r",
        "Finding differences of reclassification 3 for data pairs 31 of 45.  Elapsed time: 11.5066166639 mins"
       ]
      },
      {
       "output_type": "stream",
       "stream": "stdout",
       "text": [
        "\r",
        "Finding differences of reclassification 3 for data pairs 32 of 45.  Elapsed time: 11.6000333309 mins"
       ]
      },
      {
       "output_type": "stream",
       "stream": "stdout",
       "text": [
        "\r",
        "Finding differences of reclassification 3 for data pairs 33 of 45.  Elapsed time: 11.6943666657 mins"
       ]
      },
      {
       "output_type": "stream",
       "stream": "stdout",
       "text": [
        "\r",
        "Finding differences of reclassification 3 for data pairs 34 of 45.  Elapsed time: 11.7890333335 mins"
       ]
      },
      {
       "output_type": "stream",
       "stream": "stdout",
       "text": [
        "\r",
        "Finding differences of reclassification 3 for data pairs 35 of 45.  Elapsed time: 11.8829166651 mins"
       ]
      },
      {
       "output_type": "stream",
       "stream": "stdout",
       "text": [
        "\r",
        "Finding differences of reclassification 3 for data pairs 36 of 45.  Elapsed time: 11.9796000004 mins"
       ]
      },
      {
       "output_type": "stream",
       "stream": "stdout",
       "text": [
        "\r",
        "Finding differences of reclassification 3 for data pairs 37 of 45.  Elapsed time: 12.0760833343 mins"
       ]
      },
      {
       "output_type": "stream",
       "stream": "stdout",
       "text": [
        "\r",
        "Finding differences of reclassification 3 for data pairs 38 of 45.  Elapsed time: 12.1692833304 mins"
       ]
      },
      {
       "output_type": "stream",
       "stream": "stdout",
       "text": [
        "\r",
        "Finding differences of reclassification 3 for data pairs 39 of 45.  Elapsed time: 12.2628666639 mins"
       ]
      },
      {
       "output_type": "stream",
       "stream": "stdout",
       "text": [
        "\r",
        "Finding differences of reclassification 3 for data pairs 40 of 45.  Elapsed time: 12.3576666673 mins"
       ]
      },
      {
       "output_type": "stream",
       "stream": "stdout",
       "text": [
        "\r",
        "Finding differences of reclassification 3 for data pairs 41 of 45.  Elapsed time: 12.4518166661 mins"
       ]
      },
      {
       "output_type": "stream",
       "stream": "stdout",
       "text": [
        "\r",
        "Finding differences of reclassification 3 for data pairs 42 of 45.  Elapsed time: 12.547483333 mins"
       ]
      },
      {
       "output_type": "stream",
       "stream": "stdout",
       "text": [
        "\r",
        "Finding differences of reclassification 3 for data pairs 43 of 45.  Elapsed time: 12.6421166658 mins"
       ]
      },
      {
       "output_type": "stream",
       "stream": "stdout",
       "text": [
        "\r",
        "Finding differences of reclassification 3 for data pairs 44 of 45.  Elapsed time: 12.7360333323 mins"
       ]
      },
      {
       "output_type": "stream",
       "stream": "stdout",
       "text": [
        "\r",
        "Finding differences of reclassification 3 for data pairs 45 of 45.  Elapsed time: 12.8287833333 mins"
       ]
      },
      {
       "output_type": "stream",
       "stream": "stdout",
       "text": [
        "\r",
        "Finding differences of reclassification 4 for data pairs 1 of 45.  Elapsed time: 12.9224499981 mins"
       ]
      },
      {
       "output_type": "stream",
       "stream": "stdout",
       "text": [
        "\r",
        "Finding differences of reclassification 4 for data pairs 2 of 45.  Elapsed time: 13.0162666639 mins"
       ]
      },
      {
       "output_type": "stream",
       "stream": "stdout",
       "text": [
        "\r",
        "Finding differences of reclassification 4 for data pairs 3 of 45.  Elapsed time: 13.1090166648 mins"
       ]
      },
      {
       "output_type": "stream",
       "stream": "stdout",
       "text": [
        "\r",
        "Finding differences of reclassification 4 for data pairs 4 of 45.  Elapsed time: 13.2088166674 mins"
       ]
      },
      {
       "output_type": "stream",
       "stream": "stdout",
       "text": [
        "\r",
        "Finding differences of reclassification 4 for data pairs 5 of 45.  Elapsed time: 13.3142833312 mins"
       ]
      },
      {
       "output_type": "stream",
       "stream": "stdout",
       "text": [
        "\r",
        "Finding differences of reclassification 4 for data pairs 6 of 45.  Elapsed time: 13.4134499987 mins"
       ]
      },
      {
       "output_type": "stream",
       "stream": "stdout",
       "text": [
        "\r",
        "Finding differences of reclassification 4 for data pairs 7 of 45.  Elapsed time: 13.5176333308 mins"
       ]
      },
      {
       "output_type": "stream",
       "stream": "stdout",
       "text": [
        "\r",
        "Finding differences of reclassification 4 for data pairs 8 of 45.  Elapsed time: 13.6120833317 mins"
       ]
      },
      {
       "output_type": "stream",
       "stream": "stdout",
       "text": [
        "\r",
        "Finding differences of reclassification 4 for data pairs 9 of 45.  Elapsed time: 13.7059666673 mins"
       ]
      },
      {
       "output_type": "stream",
       "stream": "stdout",
       "text": [
        "\r",
        "Finding differences of reclassification 4 for data pairs 10 of 45.  Elapsed time: 13.7991333326 mins"
       ]
      },
      {
       "output_type": "stream",
       "stream": "stdout",
       "text": [
        "\r",
        "Finding differences of reclassification 4 for data pairs 11 of 45.  Elapsed time: 13.8954333305 mins"
       ]
      },
      {
       "output_type": "stream",
       "stream": "stdout",
       "text": [
        "\r",
        "Finding differences of reclassification 4 for data pairs 12 of 45.  Elapsed time: 13.9975499988 mins"
       ]
      },
      {
       "output_type": "stream",
       "stream": "stdout",
       "text": [
        "\r",
        "Finding differences of reclassification 4 for data pairs 13 of 45.  Elapsed time: 14.096449999 mins"
       ]
      },
      {
       "output_type": "stream",
       "stream": "stdout",
       "text": [
        "\r",
        "Finding differences of reclassification 4 for data pairs 14 of 45.  Elapsed time: 14.1916666667 mins"
       ]
      },
      {
       "output_type": "stream",
       "stream": "stdout",
       "text": [
        "\r",
        "Finding differences of reclassification 4 for data pairs 15 of 45.  Elapsed time: 14.2875166655 mins"
       ]
      },
      {
       "output_type": "stream",
       "stream": "stdout",
       "text": [
        "\r",
        "Finding differences of reclassification 4 for data pairs 16 of 45.  Elapsed time: 14.3834833344 mins"
       ]
      },
      {
       "output_type": "stream",
       "stream": "stdout",
       "text": [
        "\r",
        "Finding differences of reclassification 4 for data pairs 17 of 45.  Elapsed time: 14.4784333309 mins"
       ]
      },
      {
       "output_type": "stream",
       "stream": "stdout",
       "text": [
        "\r",
        "Finding differences of reclassification 4 for data pairs 18 of 45.  Elapsed time: 14.5723999977 mins"
       ]
      },
      {
       "output_type": "stream",
       "stream": "stdout",
       "text": [
        "\r",
        "Finding differences of reclassification 4 for data pairs 19 of 45.  Elapsed time: 14.6684499979 mins"
       ]
      },
      {
       "output_type": "stream",
       "stream": "stdout",
       "text": [
        "\r",
        "Finding differences of reclassification 4 for data pairs 20 of 45.  Elapsed time: 14.7610666672 mins"
       ]
      },
      {
       "output_type": "stream",
       "stream": "stdout",
       "text": [
        "\r",
        "Finding differences of reclassification 4 for data pairs 21 of 45.  Elapsed time: 14.8560333331 mins"
       ]
      },
      {
       "output_type": "stream",
       "stream": "stdout",
       "text": [
        "\r",
        "Finding differences of reclassification 4 for data pairs 22 of 45.  Elapsed time: 14.9510166645 mins"
       ]
      },
      {
       "output_type": "stream",
       "stream": "stdout",
       "text": [
        "\r",
        "Finding differences of reclassification 4 for data pairs 23 of 45.  Elapsed time: 15.0439666669 mins"
       ]
      },
      {
       "output_type": "stream",
       "stream": "stdout",
       "text": [
        "\r",
        "Finding differences of reclassification 4 for data pairs 24 of 45.  Elapsed time: 15.1372333328 mins"
       ]
      },
      {
       "output_type": "stream",
       "stream": "stdout",
       "text": [
        "\r",
        "Finding differences of reclassification 4 for data pairs 25 of 45.  Elapsed time: 15.2324166656 mins"
       ]
      },
      {
       "output_type": "stream",
       "stream": "stdout",
       "text": [
        "\r",
        "Finding differences of reclassification 4 for data pairs 26 of 45.  Elapsed time: 15.3267 mins"
       ]
      },
      {
       "output_type": "stream",
       "stream": "stdout",
       "text": [
        "\r",
        "Finding differences of reclassification 4 for data pairs 27 of 45.  Elapsed time: 15.4212166667 mins"
       ]
      },
      {
       "output_type": "stream",
       "stream": "stdout",
       "text": [
        "\r",
        "Finding differences of reclassification 4 for data pairs 28 of 45.  Elapsed time: 15.521783332 mins"
       ]
      },
      {
       "output_type": "stream",
       "stream": "stdout",
       "text": [
        "\r",
        "Finding differences of reclassification 4 for data pairs 29 of 45.  Elapsed time: 15.619599998 mins"
       ]
      },
      {
       "output_type": "stream",
       "stream": "stdout",
       "text": [
        "\r",
        "Finding differences of reclassification 4 for data pairs 30 of 45.  Elapsed time: 15.7139333328 mins"
       ]
      },
      {
       "output_type": "stream",
       "stream": "stdout",
       "text": [
        "\r",
        "Finding differences of reclassification 4 for data pairs 31 of 45.  Elapsed time: 15.808466665 mins"
       ]
      },
      {
       "output_type": "stream",
       "stream": "stdout",
       "text": [
        "\r",
        "Finding differences of reclassification 4 for data pairs 32 of 45.  Elapsed time: 15.9000333309 mins"
       ]
      },
      {
       "output_type": "stream",
       "stream": "stdout",
       "text": [
        "\r",
        "Finding differences of reclassification 4 for data pairs 33 of 45.  Elapsed time: 15.9974999984 mins"
       ]
      },
      {
       "output_type": "stream",
       "stream": "stdout",
       "text": [
        "\r",
        "Finding differences of reclassification 4 for data pairs 34 of 45.  Elapsed time: 16.0924499989 mins"
       ]
      },
      {
       "output_type": "stream",
       "stream": "stdout",
       "text": [
        "\r",
        "Finding differences of reclassification 4 for data pairs 35 of 45.  Elapsed time: 16.1898333311 mins"
       ]
      },
      {
       "output_type": "stream",
       "stream": "stdout",
       "text": [
        "\r",
        "Finding differences of reclassification 4 for data pairs 36 of 45.  Elapsed time: 16.282249999 mins"
       ]
      },
      {
       "output_type": "stream",
       "stream": "stdout",
       "text": [
        "\r",
        "Finding differences of reclassification 4 for data pairs 37 of 45.  Elapsed time: 16.3774999976 mins"
       ]
      },
      {
       "output_type": "stream",
       "stream": "stdout",
       "text": [
        "\r",
        "Finding differences of reclassification 4 for data pairs 38 of 45.  Elapsed time: 16.4709499995 mins"
       ]
      },
      {
       "output_type": "stream",
       "stream": "stdout",
       "text": [
        "\r",
        "Finding differences of reclassification 4 for data pairs 39 of 45.  Elapsed time: 16.564683334 mins"
       ]
      },
      {
       "output_type": "stream",
       "stream": "stdout",
       "text": [
        "\r",
        "Finding differences of reclassification 4 for data pairs 40 of 45.  Elapsed time: 16.6603000005 mins"
       ]
      },
      {
       "output_type": "stream",
       "stream": "stdout",
       "text": [
        "\r",
        "Finding differences of reclassification 4 for data pairs 41 of 45.  Elapsed time: 16.7546333313 mins"
       ]
      },
      {
       "output_type": "stream",
       "stream": "stdout",
       "text": [
        "\r",
        "Finding differences of reclassification 4 for data pairs 42 of 45.  Elapsed time: 16.8498999993 mins"
       ]
      },
      {
       "output_type": "stream",
       "stream": "stdout",
       "text": [
        "\r",
        "Finding differences of reclassification 4 for data pairs 43 of 45.  Elapsed time: 16.9451833328 mins"
       ]
      },
      {
       "output_type": "stream",
       "stream": "stdout",
       "text": [
        "\r",
        "Finding differences of reclassification 4 for data pairs 44 of 45.  Elapsed time: 17.0393000007 mins"
       ]
      },
      {
       "output_type": "stream",
       "stream": "stdout",
       "text": [
        "\r",
        "Finding differences of reclassification 4 for data pairs 45 of 45.  Elapsed time: 17.1321499983 mins"
       ]
      },
      {
       "output_type": "stream",
       "stream": "stdout",
       "text": [
        "\r",
        "Finding differences of reclassification 5 for data pairs 1 of 45.  Elapsed time: 17.2261666656 mins"
       ]
      },
      {
       "output_type": "stream",
       "stream": "stdout",
       "text": [
        "\r",
        "Finding differences of reclassification 5 for data pairs 2 of 45.  Elapsed time: 17.3199166656 mins"
       ]
      },
      {
       "output_type": "stream",
       "stream": "stdout",
       "text": [
        "\r",
        "Finding differences of reclassification 5 for data pairs 3 of 45.  Elapsed time: 17.4128999988 mins"
       ]
      },
      {
       "output_type": "stream",
       "stream": "stdout",
       "text": [
        "\r",
        "Finding differences of reclassification 5 for data pairs 4 of 45.  Elapsed time: 17.5071833332 mins"
       ]
      },
      {
       "output_type": "stream",
       "stream": "stdout",
       "text": [
        "\r",
        "Finding differences of reclassification 5 for data pairs 5 of 45.  Elapsed time: 17.6012333314 mins"
       ]
      },
      {
       "output_type": "stream",
       "stream": "stdout",
       "text": [
        "\r",
        "Finding differences of reclassification 5 for data pairs 6 of 45.  Elapsed time: 17.6942833304 mins"
       ]
      },
      {
       "output_type": "stream",
       "stream": "stdout",
       "text": [
        "\r",
        "Finding differences of reclassification 5 for data pairs 7 of 45.  Elapsed time: 17.7889999986 mins"
       ]
      },
      {
       "output_type": "stream",
       "stream": "stdout",
       "text": [
        "\r",
        "Finding differences of reclassification 5 for data pairs 8 of 45.  Elapsed time: 17.8835333308 mins"
       ]
      },
      {
       "output_type": "stream",
       "stream": "stdout",
       "text": [
        "\r",
        "Finding differences of reclassification 5 for data pairs 9 of 45.  Elapsed time: 17.9777666648 mins"
       ]
      },
      {
       "output_type": "stream",
       "stream": "stdout",
       "text": [
        "\r",
        "Finding differences of reclassification 5 for data pairs 10 of 45.  Elapsed time: 18.071966664 mins"
       ]
      },
      {
       "output_type": "stream",
       "stream": "stdout",
       "text": [
        "\r",
        "Finding differences of reclassification 5 for data pairs 11 of 45.  Elapsed time: 18.1659166654 mins"
       ]
      },
      {
       "output_type": "stream",
       "stream": "stdout",
       "text": [
        "\r",
        "Finding differences of reclassification 5 for data pairs 12 of 45.  Elapsed time: 18.2610166669 mins"
       ]
      },
      {
       "output_type": "stream",
       "stream": "stdout",
       "text": [
        "\r",
        "Finding differences of reclassification 5 for data pairs 13 of 45.  Elapsed time: 18.3547499975 mins"
       ]
      },
      {
       "output_type": "stream",
       "stream": "stdout",
       "text": [
        "\r",
        "Finding differences of reclassification 5 for data pairs 14 of 45.  Elapsed time: 18.4479333321 mins"
       ]
      },
      {
       "output_type": "stream",
       "stream": "stdout",
       "text": [
        "\r",
        "Finding differences of reclassification 5 for data pairs 15 of 45.  Elapsed time: 18.5438833316 mins"
       ]
      },
      {
       "output_type": "stream",
       "stream": "stdout",
       "text": [
        "\r",
        "Finding differences of reclassification 5 for data pairs 16 of 45.  Elapsed time: 18.637166667 mins"
       ]
      },
      {
       "output_type": "stream",
       "stream": "stdout",
       "text": [
        "\r",
        "Finding differences of reclassification 5 for data pairs 17 of 45.  Elapsed time: 18.7323333343 mins"
       ]
      },
      {
       "output_type": "stream",
       "stream": "stdout",
       "text": [
        "\r",
        "Finding differences of reclassification 5 for data pairs 18 of 45.  Elapsed time: 18.8251333316 mins"
       ]
      },
      {
       "output_type": "stream",
       "stream": "stdout",
       "text": [
        "\r",
        "Finding differences of reclassification 5 for data pairs 19 of 45.  Elapsed time: 18.9195666671 mins"
       ]
      },
      {
       "output_type": "stream",
       "stream": "stdout",
       "text": [
        "\r",
        "Finding differences of reclassification 5 for data pairs 20 of 45.  Elapsed time: 19.0122999986 mins"
       ]
      },
      {
       "output_type": "stream",
       "stream": "stdout",
       "text": [
        "\r",
        "Finding differences of reclassification 5 for data pairs 21 of 45.  Elapsed time: 19.1067333341 mins"
       ]
      },
      {
       "output_type": "stream",
       "stream": "stdout",
       "text": [
        "\r",
        "Finding differences of reclassification 5 for data pairs 22 of 45.  Elapsed time: 19.201516664 mins"
       ]
      },
      {
       "output_type": "stream",
       "stream": "stdout",
       "text": [
        "\r",
        "Finding differences of reclassification 5 for data pairs 23 of 45.  Elapsed time: 19.2946666638 mins"
       ]
      },
      {
       "output_type": "stream",
       "stream": "stdout",
       "text": [
        "\r",
        "Finding differences of reclassification 5 for data pairs 24 of 45.  Elapsed time: 19.3907999992 mins"
       ]
      },
      {
       "output_type": "stream",
       "stream": "stdout",
       "text": [
        "\r",
        "Finding differences of reclassification 5 for data pairs 25 of 45.  Elapsed time: 19.486133333 mins"
       ]
      },
      {
       "output_type": "stream",
       "stream": "stdout",
       "text": [
        "\r",
        "Finding differences of reclassification 5 for data pairs 26 of 45.  Elapsed time: 19.5801333308 mins"
       ]
      },
      {
       "output_type": "stream",
       "stream": "stdout",
       "text": [
        "\r",
        "Finding differences of reclassification 5 for data pairs 27 of 45.  Elapsed time: 19.6757333318 mins"
       ]
      },
      {
       "output_type": "stream",
       "stream": "stdout",
       "text": [
        "\r",
        "Finding differences of reclassification 5 for data pairs 28 of 45.  Elapsed time: 19.7729499976 mins"
       ]
      },
      {
       "output_type": "stream",
       "stream": "stdout",
       "text": [
        "\r",
        "Finding differences of reclassification 5 for data pairs 29 of 45.  Elapsed time: 19.8673999985 mins"
       ]
      },
      {
       "output_type": "stream",
       "stream": "stdout",
       "text": [
        "\r",
        "Finding differences of reclassification 5 for data pairs 30 of 45.  Elapsed time: 19.9629333337 mins"
       ]
      },
      {
       "output_type": "stream",
       "stream": "stdout",
       "text": [
        "\r",
        "Finding differences of reclassification 5 for data pairs 31 of 45.  Elapsed time: 20.057616667 mins"
       ]
      },
      {
       "output_type": "stream",
       "stream": "stdout",
       "text": [
        "\r",
        "Finding differences of reclassification 5 for data pairs 32 of 45.  Elapsed time: 20.151183331 mins"
       ]
      },
      {
       "output_type": "stream",
       "stream": "stdout",
       "text": [
        "\r",
        "Finding differences of reclassification 5 for data pairs 33 of 45.  Elapsed time: 20.245783333 mins"
       ]
      },
      {
       "output_type": "stream",
       "stream": "stdout",
       "text": [
        "\r",
        "Finding differences of reclassification 5 for data pairs 34 of 45.  Elapsed time: 20.3402499994 mins"
       ]
      },
      {
       "output_type": "stream",
       "stream": "stdout",
       "text": [
        "\r",
        "Finding differences of reclassification 5 for data pairs 35 of 45.  Elapsed time: 20.4343166669 mins"
       ]
      },
      {
       "output_type": "stream",
       "stream": "stdout",
       "text": [
        "\r",
        "Finding differences of reclassification 5 for data pairs 36 of 45.  Elapsed time: 20.5268999974 mins"
       ]
      },
      {
       "output_type": "stream",
       "stream": "stdout",
       "text": [
        "\r",
        "Finding differences of reclassification 5 for data pairs 37 of 45.  Elapsed time: 20.6222333312 mins"
       ]
      },
      {
       "output_type": "stream",
       "stream": "stdout",
       "text": [
        "\r",
        "Finding differences of reclassification 5 for data pairs 38 of 45.  Elapsed time: 20.7150333325 mins"
       ]
      },
      {
       "output_type": "stream",
       "stream": "stdout",
       "text": [
        "\r",
        "Finding differences of reclassification 5 for data pairs 39 of 45.  Elapsed time: 20.8078499993 mins"
       ]
      },
      {
       "output_type": "stream",
       "stream": "stdout",
       "text": [
        "\r",
        "Finding differences of reclassification 5 for data pairs 40 of 45.  Elapsed time: 20.9018999974 mins"
       ]
      },
      {
       "output_type": "stream",
       "stream": "stdout",
       "text": [
        "\r",
        "Finding differences of reclassification 5 for data pairs 41 of 45.  Elapsed time: 20.9969166676 mins"
       ]
      },
      {
       "output_type": "stream",
       "stream": "stdout",
       "text": [
        "\r",
        "Finding differences of reclassification 5 for data pairs 42 of 45.  Elapsed time: 21.0925166647 mins"
       ]
      },
      {
       "output_type": "stream",
       "stream": "stdout",
       "text": [
        "\r",
        "Finding differences of reclassification 5 for data pairs 43 of 45.  Elapsed time: 21.1870500008 mins"
       ]
      },
      {
       "output_type": "stream",
       "stream": "stdout",
       "text": [
        "\r",
        "Finding differences of reclassification 5 for data pairs 44 of 45.  Elapsed time: 21.2815333327 mins"
       ]
      },
      {
       "output_type": "stream",
       "stream": "stdout",
       "text": [
        "\r",
        "Finding differences of reclassification 5 for data pairs 45 of 45.  Elapsed time: 21.3745666663 mins"
       ]
      },
      {
       "output_type": "stream",
       "stream": "stdout",
       "text": [
        "\r",
        "Finding differences of reclassification 6 for data pairs 1 of 45.  Elapsed time: 21.4687166651 mins"
       ]
      },
      {
       "output_type": "stream",
       "stream": "stdout",
       "text": [
        "\r",
        "Finding differences of reclassification 6 for data pairs 2 of 45.  Elapsed time: 21.5626666665 mins"
       ]
      },
      {
       "output_type": "stream",
       "stream": "stdout",
       "text": [
        "\r",
        "Finding differences of reclassification 6 for data pairs 3 of 45.  Elapsed time: 21.6557166656 mins"
       ]
      },
      {
       "output_type": "stream",
       "stream": "stdout",
       "text": [
        "\r",
        "Finding differences of reclassification 6 for data pairs 4 of 45.  Elapsed time: 21.7506333311 mins"
       ]
      },
      {
       "output_type": "stream",
       "stream": "stdout",
       "text": [
        "\r",
        "Finding differences of reclassification 6 for data pairs 5 of 45.  Elapsed time: 21.8461333315 mins"
       ]
      },
      {
       "output_type": "stream",
       "stream": "stdout",
       "text": [
        "\r",
        "Finding differences of reclassification 6 for data pairs 6 of 45.  Elapsed time: 21.9401666641 mins"
       ]
      },
      {
       "output_type": "stream",
       "stream": "stdout",
       "text": [
        "\r",
        "Finding differences of reclassification 6 for data pairs 7 of 45.  Elapsed time: 22.0358833313 mins"
       ]
      },
      {
       "output_type": "stream",
       "stream": "stdout",
       "text": [
        "\r",
        "Finding differences of reclassification 6 for data pairs 8 of 45.  Elapsed time: 22.1381333311 mins"
       ]
      },
      {
       "output_type": "stream",
       "stream": "stdout",
       "text": [
        "\r",
        "Finding differences of reclassification 6 for data pairs 9 of 45.  Elapsed time: 22.2393000007 mins"
       ]
      },
      {
       "output_type": "stream",
       "stream": "stdout",
       "text": [
        "\r",
        "Finding differences of reclassification 6 for data pairs 10 of 45.  Elapsed time: 22.3416333318 mins"
       ]
      },
      {
       "output_type": "stream",
       "stream": "stdout",
       "text": [
        "\r",
        "Finding differences of reclassification 6 for data pairs 11 of 45.  Elapsed time: 22.4436499993 mins"
       ]
      },
      {
       "output_type": "stream",
       "stream": "stdout",
       "text": [
        "\r",
        "Finding differences of reclassification 6 for data pairs 12 of 45.  Elapsed time: 22.5433499972 mins"
       ]
      },
      {
       "output_type": "stream",
       "stream": "stdout",
       "text": [
        "\r",
        "Finding differences of reclassification 6 for data pairs 13 of 45.  Elapsed time: 22.6370666663 mins"
       ]
      },
      {
       "output_type": "stream",
       "stream": "stdout",
       "text": [
        "\r",
        "Finding differences of reclassification 6 for data pairs 14 of 45.  Elapsed time: 22.7305499991 mins"
       ]
      },
      {
       "output_type": "stream",
       "stream": "stdout",
       "text": [
        "\r",
        "Finding differences of reclassification 6 for data pairs 15 of 45.  Elapsed time: 22.8257833322 mins"
       ]
      },
      {
       "output_type": "stream",
       "stream": "stdout",
       "text": [
        "\r",
        "Finding differences of reclassification 6 for data pairs 16 of 45.  Elapsed time: 22.9193833311 mins"
       ]
      },
      {
       "output_type": "stream",
       "stream": "stdout",
       "text": [
        "\r",
        "Finding differences of reclassification 6 for data pairs 17 of 45.  Elapsed time: 23.0143999974 mins"
       ]
      },
      {
       "output_type": "stream",
       "stream": "stdout",
       "text": [
        "\r",
        "Finding differences of reclassification 6 for data pairs 18 of 45.  Elapsed time: 23.10795 mins"
       ]
      },
      {
       "output_type": "stream",
       "stream": "stdout",
       "text": [
        "\r",
        "Finding differences of reclassification 6 for data pairs 19 of 45.  Elapsed time: 23.2059499979 mins"
       ]
      },
      {
       "output_type": "stream",
       "stream": "stdout",
       "text": [
        "\r",
        "Finding differences of reclassification 6 for data pairs 20 of 45.  Elapsed time: 23.3009666642 mins"
       ]
      },
      {
       "output_type": "stream",
       "stream": "stdout",
       "text": [
        "\r",
        "Finding differences of reclassification 6 for data pairs 21 of 45.  Elapsed time: 23.396266667 mins"
       ]
      },
      {
       "output_type": "stream",
       "stream": "stdout",
       "text": [
        "\r",
        "Finding differences of reclassification 6 for data pairs 22 of 45.  Elapsed time: 23.4933499972 mins"
       ]
      },
      {
       "output_type": "stream",
       "stream": "stdout",
       "text": [
        "\r",
        "Finding differences of reclassification 6 for data pairs 23 of 45.  Elapsed time: 23.5863333305 mins"
       ]
      },
      {
       "output_type": "stream",
       "stream": "stdout",
       "text": [
        "\r",
        "Finding differences of reclassification 6 for data pairs 24 of 45.  Elapsed time: 23.6810499986 mins"
       ]
      },
      {
       "output_type": "stream",
       "stream": "stdout",
       "text": [
        "\r",
        "Finding differences of reclassification 6 for data pairs 25 of 45.  Elapsed time: 23.7757166664 mins"
       ]
      },
      {
       "output_type": "stream",
       "stream": "stdout",
       "text": [
        "\r",
        "Finding differences of reclassification 6 for data pairs 26 of 45.  Elapsed time: 23.8726499995 mins"
       ]
      },
      {
       "output_type": "stream",
       "stream": "stdout",
       "text": [
        "\r",
        "Finding differences of reclassification 6 for data pairs 27 of 45.  Elapsed time: 23.9721666654 mins"
       ]
      },
      {
       "output_type": "stream",
       "stream": "stdout",
       "text": [
        "\r",
        "Finding differences of reclassification 6 for data pairs 28 of 45.  Elapsed time: 24.0694500009 mins"
       ]
      },
      {
       "output_type": "stream",
       "stream": "stdout",
       "text": [
        "\r",
        "Finding differences of reclassification 6 for data pairs 29 of 45.  Elapsed time: 24.1645833333 mins"
       ]
      },
      {
       "output_type": "stream",
       "stream": "stdout",
       "text": [
        "\r",
        "Finding differences of reclassification 6 for data pairs 30 of 45.  Elapsed time: 24.2602500002 mins"
       ]
      },
      {
       "output_type": "stream",
       "stream": "stdout",
       "text": [
        "\r",
        "Finding differences of reclassification 6 for data pairs 31 of 45.  Elapsed time: 24.3550833305 mins"
       ]
      },
      {
       "output_type": "stream",
       "stream": "stdout",
       "text": [
        "\r",
        "Finding differences of reclassification 6 for data pairs 32 of 45.  Elapsed time: 24.4476833344 mins"
       ]
      },
      {
       "output_type": "stream",
       "stream": "stdout",
       "text": [
        "\r",
        "Finding differences of reclassification 6 for data pairs 33 of 45.  Elapsed time: 24.5425333341 mins"
       ]
      },
      {
       "output_type": "stream",
       "stream": "stdout",
       "text": [
        "\r",
        "Finding differences of reclassification 6 for data pairs 34 of 45.  Elapsed time: 24.6365166664 mins"
       ]
      },
      {
       "output_type": "stream",
       "stream": "stdout",
       "text": [
        "\r",
        "Finding differences of reclassification 6 for data pairs 35 of 45.  Elapsed time: 24.730250001 mins"
       ]
      },
      {
       "output_type": "stream",
       "stream": "stdout",
       "text": [
        "\r",
        "Finding differences of reclassification 6 for data pairs 36 of 45.  Elapsed time: 24.8295166651 mins"
       ]
      },
      {
       "output_type": "stream",
       "stream": "stdout",
       "text": [
        "\r",
        "Finding differences of reclassification 6 for data pairs 37 of 45.  Elapsed time: 24.9274999976 mins"
       ]
      },
      {
       "output_type": "stream",
       "stream": "stdout",
       "text": [
        "\r",
        "Finding differences of reclassification 6 for data pairs 38 of 45.  Elapsed time: 25.0205000003 mins"
       ]
      },
      {
       "output_type": "stream",
       "stream": "stdout",
       "text": [
        "\r",
        "Finding differences of reclassification 6 for data pairs 39 of 45.  Elapsed time: 25.1137833317 mins"
       ]
      },
      {
       "output_type": "stream",
       "stream": "stdout",
       "text": [
        "\r",
        "Finding differences of reclassification 6 for data pairs 40 of 45.  Elapsed time: 25.209983333 mins"
       ]
      },
      {
       "output_type": "stream",
       "stream": "stdout",
       "text": [
        "\r",
        "Finding differences of reclassification 6 for data pairs 41 of 45.  Elapsed time: 25.3064166665 mins"
       ]
      },
      {
       "output_type": "stream",
       "stream": "stdout",
       "text": [
        "\r",
        "Finding differences of reclassification 6 for data pairs 42 of 45.  Elapsed time: 25.4023500005 mins"
       ]
      },
      {
       "output_type": "stream",
       "stream": "stdout",
       "text": [
        "\r",
        "Finding differences of reclassification 6 for data pairs 43 of 45.  Elapsed time: 25.4974166671 mins"
       ]
      },
      {
       "output_type": "stream",
       "stream": "stdout",
       "text": [
        "\r",
        "Finding differences of reclassification 6 for data pairs 44 of 45.  Elapsed time: 25.5932000001 mins"
       ]
      },
      {
       "output_type": "stream",
       "stream": "stdout",
       "text": [
        "\r",
        "Finding differences of reclassification 6 for data pairs 45 of 45.  Elapsed time: 25.6860333323 mins"
       ]
      },
      {
       "output_type": "stream",
       "stream": "stdout",
       "text": [
        "\r",
        "Finding differences of reclassification 7 for data pairs 1 of 45.  Elapsed time: 25.7797166665 mins"
       ]
      },
      {
       "output_type": "stream",
       "stream": "stdout",
       "text": [
        "\r",
        "Finding differences of reclassification 7 for data pairs 2 of 45.  Elapsed time: 25.8738499999 mins"
       ]
      },
      {
       "output_type": "stream",
       "stream": "stdout",
       "text": [
        "\r",
        "Finding differences of reclassification 7 for data pairs 3 of 45.  Elapsed time: 25.9682166656 mins"
       ]
      },
      {
       "output_type": "stream",
       "stream": "stdout",
       "text": [
        "\r",
        "Finding differences of reclassification 7 for data pairs 4 of 45.  Elapsed time: 26.063166666 mins"
       ]
      },
      {
       "output_type": "stream",
       "stream": "stdout",
       "text": [
        "\r",
        "Finding differences of reclassification 7 for data pairs 5 of 45.  Elapsed time: 26.1578666647 mins"
       ]
      },
      {
       "output_type": "stream",
       "stream": "stdout",
       "text": [
        "\r",
        "Finding differences of reclassification 7 for data pairs 6 of 45.  Elapsed time: 26.2507000009 mins"
       ]
      },
      {
       "output_type": "stream",
       "stream": "stdout",
       "text": [
        "\r",
        "Finding differences of reclassification 7 for data pairs 7 of 45.  Elapsed time: 26.3456666668 mins"
       ]
      },
      {
       "output_type": "stream",
       "stream": "stdout",
       "text": [
        "\r",
        "Finding differences of reclassification 7 for data pairs 8 of 45.  Elapsed time: 26.4400333325 mins"
       ]
      },
      {
       "output_type": "stream",
       "stream": "stdout",
       "text": [
        "\r",
        "Finding differences of reclassification 7 for data pairs 9 of 45.  Elapsed time: 26.5354833325 mins"
       ]
      },
      {
       "output_type": "stream",
       "stream": "stdout",
       "text": [
        "\r",
        "Finding differences of reclassification 7 for data pairs 10 of 45.  Elapsed time: 26.6285000006 mins"
       ]
      },
      {
       "output_type": "stream",
       "stream": "stdout",
       "text": [
        "\r",
        "Finding differences of reclassification 7 for data pairs 11 of 45.  Elapsed time: 26.7220333338 mins"
       ]
      },
      {
       "output_type": "stream",
       "stream": "stdout",
       "text": [
        "\r",
        "Finding differences of reclassification 7 for data pairs 12 of 45.  Elapsed time: 26.8176666657 mins"
       ]
      },
      {
       "output_type": "stream",
       "stream": "stdout",
       "text": [
        "\r",
        "Finding differences of reclassification 7 for data pairs 13 of 45.  Elapsed time: 26.9132499973 mins"
       ]
      },
      {
       "output_type": "stream",
       "stream": "stdout",
       "text": [
        "\r",
        "Finding differences of reclassification 7 for data pairs 14 of 45.  Elapsed time: 27.0068833311 mins"
       ]
      },
      {
       "output_type": "stream",
       "stream": "stdout",
       "text": [
        "\r",
        "Finding differences of reclassification 7 for data pairs 15 of 45.  Elapsed time: 27.1024166663 mins"
       ]
      },
      {
       "output_type": "stream",
       "stream": "stdout",
       "text": [
        "\r",
        "Finding differences of reclassification 7 for data pairs 16 of 45.  Elapsed time: 27.1961833318 mins"
       ]
      },
      {
       "output_type": "stream",
       "stream": "stdout",
       "text": [
        "\r",
        "Finding differences of reclassification 7 for data pairs 17 of 45.  Elapsed time: 27.2914166649 mins"
       ]
      },
      {
       "output_type": "stream",
       "stream": "stdout",
       "text": [
        "\r",
        "Finding differences of reclassification 7 for data pairs 18 of 45.  Elapsed time: 27.3854999979 mins"
       ]
      },
      {
       "output_type": "stream",
       "stream": "stdout",
       "text": [
        "\r",
        "Finding differences of reclassification 7 for data pairs 19 of 45.  Elapsed time: 27.4802833319 mins"
       ]
      },
      {
       "output_type": "stream",
       "stream": "stdout",
       "text": [
        "\r",
        "Finding differences of reclassification 7 for data pairs 20 of 45.  Elapsed time: 27.5730499983 mins"
       ]
      },
      {
       "output_type": "stream",
       "stream": "stdout",
       "text": [
        "\r",
        "Finding differences of reclassification 7 for data pairs 21 of 45.  Elapsed time: 27.6676833312 mins"
       ]
      },
      {
       "output_type": "stream",
       "stream": "stdout",
       "text": [
        "\r",
        "Finding differences of reclassification 7 for data pairs 22 of 45.  Elapsed time: 27.7627999981 mins"
       ]
      },
      {
       "output_type": "stream",
       "stream": "stdout",
       "text": [
        "\r",
        "Finding differences of reclassification 7 for data pairs 23 of 45.  Elapsed time: 27.8554499984 mins"
       ]
      },
      {
       "output_type": "stream",
       "stream": "stdout",
       "text": [
        "\r",
        "Finding differences of reclassification 7 for data pairs 24 of 45.  Elapsed time: 27.949849999 mins"
       ]
      },
      {
       "output_type": "stream",
       "stream": "stdout",
       "text": [
        "\r",
        "Finding differences of reclassification 7 for data pairs 25 of 45.  Elapsed time: 28.0442833304 mins"
       ]
      },
      {
       "output_type": "stream",
       "stream": "stdout",
       "text": [
        "\r",
        "Finding differences of reclassification 7 for data pairs 26 of 45.  Elapsed time: 28.1388499975 mins"
       ]
      },
      {
       "output_type": "stream",
       "stream": "stdout",
       "text": [
        "\r",
        "Finding differences of reclassification 7 for data pairs 27 of 45.  Elapsed time: 28.2334166646 mins"
       ]
      },
      {
       "output_type": "stream",
       "stream": "stdout",
       "text": [
        "\r",
        "Finding differences of reclassification 7 for data pairs 28 of 45.  Elapsed time: 28.3304999987 mins"
       ]
      },
      {
       "output_type": "stream",
       "stream": "stdout",
       "text": [
        "\r",
        "Finding differences of reclassification 7 for data pairs 29 of 45.  Elapsed time: 28.4248333335 mins"
       ]
      },
      {
       "output_type": "stream",
       "stream": "stdout",
       "text": [
        "\r",
        "Finding differences of reclassification 7 for data pairs 30 of 45.  Elapsed time: 28.5199166656 mins"
       ]
      },
      {
       "output_type": "stream",
       "stream": "stdout",
       "text": [
        "\r",
        "Finding differences of reclassification 7 for data pairs 31 of 45.  Elapsed time: 28.6147499998 mins"
       ]
      },
      {
       "output_type": "stream",
       "stream": "stdout",
       "text": [
        "\r",
        "Finding differences of reclassification 7 for data pairs 32 of 45.  Elapsed time: 28.7079166651 mins"
       ]
      },
      {
       "output_type": "stream",
       "stream": "stdout",
       "text": [
        "\r",
        "Finding differences of reclassification 7 for data pairs 33 of 45.  Elapsed time: 28.8021666646 mins"
       ]
      },
      {
       "output_type": "stream",
       "stream": "stdout",
       "text": [
        "\r",
        "Finding differences of reclassification 7 for data pairs 34 of 45.  Elapsed time: 28.8968333324 mins"
       ]
      },
      {
       "output_type": "stream",
       "stream": "stdout",
       "text": [
        "\r",
        "Finding differences of reclassification 7 for data pairs 35 of 45.  Elapsed time: 28.9904666662 mins"
       ]
      },
      {
       "output_type": "stream",
       "stream": "stdout",
       "text": [
        "\r",
        "Finding differences of reclassification 7 for data pairs 36 of 45.  Elapsed time: 29.083433334 mins"
       ]
      },
      {
       "output_type": "stream",
       "stream": "stdout",
       "text": [
        "\r",
        "Finding differences of reclassification 7 for data pairs 37 of 45.  Elapsed time: 29.178033332 mins"
       ]
      },
      {
       "output_type": "stream",
       "stream": "stdout",
       "text": [
        "\r",
        "Finding differences of reclassification 7 for data pairs 38 of 45.  Elapsed time: 29.2713499983 mins"
       ]
      },
      {
       "output_type": "stream",
       "stream": "stdout",
       "text": [
        "\r",
        "Finding differences of reclassification 7 for data pairs 39 of 45.  Elapsed time: 29.3678666671 mins"
       ]
      },
      {
       "output_type": "stream",
       "stream": "stdout",
       "text": [
        "\r",
        "Finding differences of reclassification 7 for data pairs 40 of 45.  Elapsed time: 29.4713999987 mins"
       ]
      },
      {
       "output_type": "stream",
       "stream": "stdout",
       "text": [
        "\r",
        "Finding differences of reclassification 7 for data pairs 41 of 45.  Elapsed time: 29.5695166667 mins"
       ]
      },
      {
       "output_type": "stream",
       "stream": "stdout",
       "text": [
        "\r",
        "Finding differences of reclassification 7 for data pairs 42 of 45.  Elapsed time: 29.6656999985 mins"
       ]
      },
      {
       "output_type": "stream",
       "stream": "stdout",
       "text": [
        "\r",
        "Finding differences of reclassification 7 for data pairs 43 of 45.  Elapsed time: 29.7601666649 mins"
       ]
      },
      {
       "output_type": "stream",
       "stream": "stdout",
       "text": [
        "\r",
        "Finding differences of reclassification 7 for data pairs 44 of 45.  Elapsed time: 29.8536499977 mins"
       ]
      },
      {
       "output_type": "stream",
       "stream": "stdout",
       "text": [
        "\r",
        "Finding differences of reclassification 7 for data pairs 45 of 45.  Elapsed time: 29.9472000003 mins"
       ]
      },
      {
       "output_type": "stream",
       "stream": "stdout",
       "text": [
        "\r",
        "Finding differences of reclassification 8 for data pairs 1 of 45.  Elapsed time: 30.0407666643 mins"
       ]
      },
      {
       "output_type": "stream",
       "stream": "stdout",
       "text": [
        "\r",
        "Finding differences of reclassification 8 for data pairs 2 of 45.  Elapsed time: 30.133766667 mins"
       ]
      },
      {
       "output_type": "stream",
       "stream": "stdout",
       "text": [
        "\r",
        "Finding differences of reclassification 8 for data pairs 3 of 45.  Elapsed time: 30.2269666672 mins"
       ]
      },
      {
       "output_type": "stream",
       "stream": "stdout",
       "text": [
        "\r",
        "Finding differences of reclassification 8 for data pairs 4 of 45.  Elapsed time: 30.320966665 mins"
       ]
      },
      {
       "output_type": "stream",
       "stream": "stdout",
       "text": [
        "\r",
        "Finding differences of reclassification 8 for data pairs 5 of 45.  Elapsed time: 30.4152833343 mins"
       ]
      },
      {
       "output_type": "stream",
       "stream": "stdout",
       "text": [
        "\r",
        "Finding differences of reclassification 8 for data pairs 6 of 45.  Elapsed time: 30.5078666647 mins"
       ]
      },
      {
       "output_type": "stream",
       "stream": "stdout",
       "text": [
        "\r",
        "Finding differences of reclassification 8 for data pairs 7 of 45.  Elapsed time: 30.6024999976 mins"
       ]
      },
      {
       "output_type": "stream",
       "stream": "stdout",
       "text": [
        "\r",
        "Finding differences of reclassification 8 for data pairs 8 of 45.  Elapsed time: 30.6964166641 mins"
       ]
      },
      {
       "output_type": "stream",
       "stream": "stdout",
       "text": [
        "\r",
        "Finding differences of reclassification 8 for data pairs 9 of 45.  Elapsed time: 30.7896666646 mins"
       ]
      },
      {
       "output_type": "stream",
       "stream": "stdout",
       "text": [
        "\r",
        "Finding differences of reclassification 8 for data pairs 10 of 45.  Elapsed time: 30.8819500009 mins"
       ]
      },
      {
       "output_type": "stream",
       "stream": "stdout",
       "text": [
        "\r",
        "Finding differences of reclassification 8 for data pairs 11 of 45.  Elapsed time: 30.9747499983 mins"
       ]
      },
      {
       "output_type": "stream",
       "stream": "stdout",
       "text": [
        "\r",
        "Finding differences of reclassification 8 for data pairs 12 of 45.  Elapsed time: 31.0701666673 mins"
       ]
      },
      {
       "output_type": "stream",
       "stream": "stdout",
       "text": [
        "\r",
        "Finding differences of reclassification 8 for data pairs 13 of 45.  Elapsed time: 31.1639166673 mins"
       ]
      },
      {
       "output_type": "stream",
       "stream": "stdout",
       "text": [
        "\r",
        "Finding differences of reclassification 8 for data pairs 14 of 45.  Elapsed time: 31.2578166644 mins"
       ]
      },
      {
       "output_type": "stream",
       "stream": "stdout",
       "text": [
        "\r",
        "Finding differences of reclassification 8 for data pairs 15 of 45.  Elapsed time: 31.3531333327 mins"
       ]
      },
      {
       "output_type": "stream",
       "stream": "stdout",
       "text": [
        "\r",
        "Finding differences of reclassification 8 for data pairs 16 of 45.  Elapsed time: 31.4466166655 mins"
       ]
      },
      {
       "output_type": "stream",
       "stream": "stdout",
       "text": [
        "\r",
        "Finding differences of reclassification 8 for data pairs 17 of 45.  Elapsed time: 31.5417333325 mins"
       ]
      },
      {
       "output_type": "stream",
       "stream": "stdout",
       "text": [
        "\r",
        "Finding differences of reclassification 8 for data pairs 18 of 45.  Elapsed time: 31.6347833316 mins"
       ]
      },
      {
       "output_type": "stream",
       "stream": "stdout",
       "text": [
        "\r",
        "Finding differences of reclassification 8 for data pairs 19 of 45.  Elapsed time: 31.7298499982 mins"
       ]
      },
      {
       "output_type": "stream",
       "stream": "stdout",
       "text": [
        "\r",
        "Finding differences of reclassification 8 for data pairs 20 of 45.  Elapsed time: 31.8226999998 mins"
       ]
      },
      {
       "output_type": "stream",
       "stream": "stdout",
       "text": [
        "\r",
        "Finding differences of reclassification 8 for data pairs 21 of 45.  Elapsed time: 31.9177999973 mins"
       ]
      },
      {
       "output_type": "stream",
       "stream": "stdout",
       "text": [
        "\r",
        "Finding differences of reclassification 8 for data pairs 22 of 45.  Elapsed time: 32.0135166645 mins"
       ]
      },
      {
       "output_type": "stream",
       "stream": "stdout",
       "text": [
        "\r",
        "Finding differences of reclassification 8 for data pairs 23 of 45.  Elapsed time: 32.1064833323 mins"
       ]
      },
      {
       "output_type": "stream",
       "stream": "stdout",
       "text": [
        "\r",
        "Finding differences of reclassification 8 for data pairs 24 of 45.  Elapsed time: 32.1997999986 mins"
       ]
      },
      {
       "output_type": "stream",
       "stream": "stdout",
       "text": [
        "\r",
        "Finding differences of reclassification 8 for data pairs 25 of 45.  Elapsed time: 32.2946166674 mins"
       ]
      },
      {
       "output_type": "stream",
       "stream": "stdout",
       "text": [
        "\r",
        "Finding differences of reclassification 8 for data pairs 26 of 45.  Elapsed time: 32.3902333339 mins"
       ]
      },
      {
       "output_type": "stream",
       "stream": "stdout",
       "text": [
        "\r",
        "Finding differences of reclassification 8 for data pairs 27 of 45.  Elapsed time: 32.4852333307 mins"
       ]
      },
      {
       "output_type": "stream",
       "stream": "stdout",
       "text": [
        "\r",
        "Finding differences of reclassification 8 for data pairs 28 of 45.  Elapsed time: 32.5816166639 mins"
       ]
      },
      {
       "output_type": "stream",
       "stream": "stdout",
       "text": [
        "\r",
        "Finding differences of reclassification 8 for data pairs 29 of 45.  Elapsed time: 32.6754999995 mins"
       ]
      },
      {
       "output_type": "stream",
       "stream": "stdout",
       "text": [
        "\r",
        "Finding differences of reclassification 8 for data pairs 30 of 45.  Elapsed time: 32.7716666659 mins"
       ]
      },
      {
       "output_type": "stream",
       "stream": "stdout",
       "text": [
        "\r",
        "Finding differences of reclassification 8 for data pairs 31 of 45.  Elapsed time: 32.866716667 mins"
       ]
      },
      {
       "output_type": "stream",
       "stream": "stdout",
       "text": [
        "\r",
        "Finding differences of reclassification 8 for data pairs 32 of 45.  Elapsed time: 32.9593833327 mins"
       ]
      },
      {
       "output_type": "stream",
       "stream": "stdout",
       "text": [
        "\r",
        "Finding differences of reclassification 8 for data pairs 33 of 45.  Elapsed time: 33.054399999 mins"
       ]
      },
      {
       "output_type": "stream",
       "stream": "stdout",
       "text": [
        "\r",
        "Finding differences of reclassification 8 for data pairs 34 of 45.  Elapsed time: 33.1490166664 mins"
       ]
      },
      {
       "output_type": "stream",
       "stream": "stdout",
       "text": [
        "\r",
        "Finding differences of reclassification 8 for data pairs 35 of 45.  Elapsed time: 33.2464999994 mins"
       ]
      },
      {
       "output_type": "stream",
       "stream": "stdout",
       "text": [
        "\r",
        "Finding differences of reclassification 8 for data pairs 36 of 45.  Elapsed time: 33.3440999985 mins"
       ]
      },
      {
       "output_type": "stream",
       "stream": "stdout",
       "text": [
        "\r",
        "Finding differences of reclassification 8 for data pairs 37 of 45.  Elapsed time: 33.4424499989 mins"
       ]
      },
      {
       "output_type": "stream",
       "stream": "stdout",
       "text": [
        "\r",
        "Finding differences of reclassification 8 for data pairs 38 of 45.  Elapsed time: 33.5391833305 mins"
       ]
      },
      {
       "output_type": "stream",
       "stream": "stdout",
       "text": [
        "\r",
        "Finding differences of reclassification 8 for data pairs 39 of 45.  Elapsed time: 33.636500001 mins"
       ]
      },
      {
       "output_type": "stream",
       "stream": "stdout",
       "text": [
        "\r",
        "Finding differences of reclassification 8 for data pairs 40 of 45.  Elapsed time: 33.7377666672 mins"
       ]
      },
      {
       "output_type": "stream",
       "stream": "stdout",
       "text": [
        "\r",
        "Finding differences of reclassification 8 for data pairs 41 of 45.  Elapsed time: 33.8335833311 mins"
       ]
      },
      {
       "output_type": "stream",
       "stream": "stdout",
       "text": [
        "\r",
        "Finding differences of reclassification 8 for data pairs 42 of 45.  Elapsed time: 33.930250001 mins"
       ]
      },
      {
       "output_type": "stream",
       "stream": "stdout",
       "text": [
        "\r",
        "Finding differences of reclassification 8 for data pairs 43 of 45.  Elapsed time: 34.0317166646 mins"
       ]
      },
      {
       "output_type": "stream",
       "stream": "stdout",
       "text": [
        "\r",
        "Finding differences of reclassification 8 for data pairs 44 of 45.  Elapsed time: 34.1452833335 mins"
       ]
      },
      {
       "output_type": "stream",
       "stream": "stdout",
       "text": [
        "\r",
        "Finding differences of reclassification 8 for data pairs 45 of 45.  Elapsed time: 34.2400666674 mins"
       ]
      },
      {
       "output_type": "stream",
       "stream": "stdout",
       "text": [
        "\r",
        "Finding differences of reclassification 9 for data pairs 1 of 45.  Elapsed time: 34.3336500009 mins"
       ]
      },
      {
       "output_type": "stream",
       "stream": "stdout",
       "text": [
        "\r",
        "Finding differences of reclassification 9 for data pairs 2 of 45.  Elapsed time: 34.4286833326 mins"
       ]
      },
      {
       "output_type": "stream",
       "stream": "stdout",
       "text": [
        "\r",
        "Finding differences of reclassification 9 for data pairs 3 of 45.  Elapsed time: 34.5224166671 mins"
       ]
      },
      {
       "output_type": "stream",
       "stream": "stdout",
       "text": [
        "\r",
        "Finding differences of reclassification 9 for data pairs 4 of 45.  Elapsed time: 34.6171333313 mins"
       ]
      },
      {
       "output_type": "stream",
       "stream": "stdout",
       "text": [
        "\r",
        "Finding differences of reclassification 9 for data pairs 5 of 45.  Elapsed time: 34.710649999 mins"
       ]
      },
      {
       "output_type": "stream",
       "stream": "stdout",
       "text": [
        "\r",
        "Finding differences of reclassification 9 for data pairs 6 of 45.  Elapsed time: 34.8034500003 mins"
       ]
      },
      {
       "output_type": "stream",
       "stream": "stdout",
       "text": [
        "\r",
        "Finding differences of reclassification 9 for data pairs 7 of 45.  Elapsed time: 34.8973999977 mins"
       ]
      },
      {
       "output_type": "stream",
       "stream": "stdout",
       "text": [
        "\r",
        "Finding differences of reclassification 9 for data pairs 8 of 45.  Elapsed time: 34.9916833321 mins"
       ]
      },
      {
       "output_type": "stream",
       "stream": "stdout",
       "text": [
        "\r",
        "Finding differences of reclassification 9 for data pairs 9 of 45.  Elapsed time: 35.0852500002 mins"
       ]
      },
      {
       "output_type": "stream",
       "stream": "stdout",
       "text": [
        "\r",
        "Finding differences of reclassification 9 for data pairs 10 of 45.  Elapsed time: 35.1774499973 mins"
       ]
      },
      {
       "output_type": "stream",
       "stream": "stdout",
       "text": [
        "\r",
        "Finding differences of reclassification 9 for data pairs 11 of 45.  Elapsed time: 35.2703833342 mins"
       ]
      },
      {
       "output_type": "stream",
       "stream": "stdout",
       "text": [
        "\r",
        "Finding differences of reclassification 9 for data pairs 12 of 45.  Elapsed time: 35.3679999987 mins"
       ]
      },
      {
       "output_type": "stream",
       "stream": "stdout",
       "text": [
        "\r",
        "Finding differences of reclassification 9 for data pairs 13 of 45.  Elapsed time: 35.461833334 mins"
       ]
      },
      {
       "output_type": "stream",
       "stream": "stdout",
       "text": [
        "\r",
        "Finding differences of reclassification 9 for data pairs 14 of 45.  Elapsed time: 35.5550499996 mins"
       ]
      },
      {
       "output_type": "stream",
       "stream": "stdout",
       "text": [
        "\r",
        "Finding differences of reclassification 9 for data pairs 15 of 45.  Elapsed time: 35.6502833327 mins"
       ]
      },
      {
       "output_type": "stream",
       "stream": "stdout",
       "text": [
        "\r",
        "Finding differences of reclassification 9 for data pairs 16 of 45.  Elapsed time: 35.7432833314 mins"
       ]
      },
      {
       "output_type": "stream",
       "stream": "stdout",
       "text": [
        "\r",
        "Finding differences of reclassification 9 for data pairs 17 of 45.  Elapsed time: 35.8385666649 mins"
       ]
      },
      {
       "output_type": "stream",
       "stream": "stdout",
       "text": [
        "\r",
        "Finding differences of reclassification 9 for data pairs 18 of 45.  Elapsed time: 35.9368833343 mins"
       ]
      },
      {
       "output_type": "stream",
       "stream": "stdout",
       "text": [
        "\r",
        "Finding differences of reclassification 9 for data pairs 19 of 45.  Elapsed time: 36.0331166665 mins"
       ]
      },
      {
       "output_type": "stream",
       "stream": "stdout",
       "text": [
        "\r",
        "Finding differences of reclassification 9 for data pairs 20 of 45.  Elapsed time: 36.125999999 mins"
       ]
      },
      {
       "output_type": "stream",
       "stream": "stdout",
       "text": [
        "\r",
        "Finding differences of reclassification 9 for data pairs 21 of 45.  Elapsed time: 36.2206166665 mins"
       ]
      },
      {
       "output_type": "stream",
       "stream": "stdout",
       "text": [
        "\r",
        "Finding differences of reclassification 9 for data pairs 22 of 45.  Elapsed time: 36.3153666655 mins"
       ]
      },
      {
       "output_type": "stream",
       "stream": "stdout",
       "text": [
        "\r",
        "Finding differences of reclassification 9 for data pairs 23 of 45.  Elapsed time: 36.4068666657 mins"
       ]
      },
      {
       "output_type": "stream",
       "stream": "stdout",
       "text": [
        "\r",
        "Finding differences of reclassification 9 for data pairs 24 of 45.  Elapsed time: 36.5006333311 mins"
       ]
      },
      {
       "output_type": "stream",
       "stream": "stdout",
       "text": [
        "\r",
        "Finding differences of reclassification 9 for data pairs 25 of 45.  Elapsed time: 36.5952166677 mins"
       ]
      },
      {
       "output_type": "stream",
       "stream": "stdout",
       "text": [
        "\r",
        "Finding differences of reclassification 9 for data pairs 26 of 45.  Elapsed time: 36.6904333313 mins"
       ]
      },
      {
       "output_type": "stream",
       "stream": "stdout",
       "text": [
        "\r",
        "Finding differences of reclassification 9 for data pairs 27 of 45.  Elapsed time: 36.7850166639 mins"
       ]
      },
      {
       "output_type": "stream",
       "stream": "stdout",
       "text": [
        "\r",
        "Finding differences of reclassification 9 for data pairs 28 of 45.  Elapsed time: 36.8824000001 mins"
       ]
      },
      {
       "output_type": "stream",
       "stream": "stdout",
       "text": [
        "\r",
        "Finding differences of reclassification 9 for data pairs 29 of 45.  Elapsed time: 36.9771499991 mins"
       ]
      },
      {
       "output_type": "stream",
       "stream": "stdout",
       "text": [
        "\r",
        "Finding differences of reclassification 9 for data pairs 30 of 45.  Elapsed time: 37.0729999979 mins"
       ]
      },
      {
       "output_type": "stream",
       "stream": "stdout",
       "text": [
        "\r",
        "Finding differences of reclassification 9 for data pairs 31 of 45.  Elapsed time: 37.1683499972 mins"
       ]
      },
      {
       "output_type": "stream",
       "stream": "stdout",
       "text": [
        "\r",
        "Finding differences of reclassification 9 for data pairs 32 of 45.  Elapsed time: 37.261166664 mins"
       ]
      },
      {
       "output_type": "stream",
       "stream": "stdout",
       "text": [
        "\r",
        "Finding differences of reclassification 9 for data pairs 33 of 45.  Elapsed time: 37.3556166649 mins"
       ]
      },
      {
       "output_type": "stream",
       "stream": "stdout",
       "text": [
        "\r",
        "Finding differences of reclassification 9 for data pairs 34 of 45.  Elapsed time: 37.4507833322 mins"
       ]
      },
      {
       "output_type": "stream",
       "stream": "stdout",
       "text": [
        "\r",
        "Finding differences of reclassification 9 for data pairs 35 of 45.  Elapsed time: 37.545266664 mins"
       ]
      },
      {
       "output_type": "stream",
       "stream": "stdout",
       "text": [
        "\r",
        "Finding differences of reclassification 9 for data pairs 36 of 45.  Elapsed time: 37.6375833313 mins"
       ]
      },
      {
       "output_type": "stream",
       "stream": "stdout",
       "text": [
        "\r",
        "Finding differences of reclassification 9 for data pairs 37 of 45.  Elapsed time: 37.7326499979 mins"
       ]
      },
      {
       "output_type": "stream",
       "stream": "stdout",
       "text": [
        "\r",
        "Finding differences of reclassification 9 for data pairs 38 of 45.  Elapsed time: 37.8256166657 mins"
       ]
      },
      {
       "output_type": "stream",
       "stream": "stdout",
       "text": [
        "\r",
        "Finding differences of reclassification 9 for data pairs 39 of 45.  Elapsed time: 37.9193500002 mins"
       ]
      },
      {
       "output_type": "stream",
       "stream": "stdout",
       "text": [
        "\r",
        "Finding differences of reclassification 9 for data pairs 40 of 45.  Elapsed time: 38.0141666651 mins"
       ]
      },
      {
       "output_type": "stream",
       "stream": "stdout",
       "text": [
        "\r",
        "Finding differences of reclassification 9 for data pairs 41 of 45.  Elapsed time: 38.1086999973 mins"
       ]
      },
      {
       "output_type": "stream",
       "stream": "stdout",
       "text": [
        "\r",
        "Finding differences of reclassification 9 for data pairs 42 of 45.  Elapsed time: 38.2045833309 mins"
       ]
      },
      {
       "output_type": "stream",
       "stream": "stdout",
       "text": [
        "\r",
        "Finding differences of reclassification 9 for data pairs 43 of 45.  Elapsed time: 38.3000333309 mins"
       ]
      },
      {
       "output_type": "stream",
       "stream": "stdout",
       "text": [
        "\r",
        "Finding differences of reclassification 9 for data pairs 44 of 45.  Elapsed time: 38.3943666657 mins"
       ]
      },
      {
       "output_type": "stream",
       "stream": "stdout",
       "text": [
        "\r",
        "Finding differences of reclassification 9 for data pairs 45 of 45.  Elapsed time: 38.4872833331 mins"
       ]
      },
      {
       "output_type": "stream",
       "stream": "stdout",
       "text": [
        "\r",
        "Finding differences of reclassification 10 for data pairs 1 of 45.  Elapsed time: 38.5804833333 mins"
       ]
      },
      {
       "output_type": "stream",
       "stream": "stdout",
       "text": [
        "\r",
        "Finding differences of reclassification 10 for data pairs 2 of 45.  Elapsed time: 38.6742499987 mins"
       ]
      },
      {
       "output_type": "stream",
       "stream": "stdout",
       "text": [
        "\r",
        "Finding differences of reclassification 10 for data pairs 3 of 45.  Elapsed time: 38.7672999978 mins"
       ]
      },
      {
       "output_type": "stream",
       "stream": "stdout",
       "text": [
        "\r",
        "Finding differences of reclassification 10 for data pairs 4 of 45.  Elapsed time: 38.8615999977 mins"
       ]
      },
      {
       "output_type": "stream",
       "stream": "stdout",
       "text": [
        "\r",
        "Finding differences of reclassification 10 for data pairs 5 of 45.  Elapsed time: 38.9556333343 mins"
       ]
      },
      {
       "output_type": "stream",
       "stream": "stdout",
       "text": [
        "\r",
        "Finding differences of reclassification 10 for data pairs 6 of 45.  Elapsed time: 39.0488333305 mins"
       ]
      },
      {
       "output_type": "stream",
       "stream": "stdout",
       "text": [
        "\r",
        "Finding differences of reclassification 10 for data pairs 7 of 45.  Elapsed time: 39.1433166663 mins"
       ]
      },
      {
       "output_type": "stream",
       "stream": "stdout",
       "text": [
        "\r",
        "Finding differences of reclassification 10 for data pairs 8 of 45.  Elapsed time: 39.2375333309 mins"
       ]
      },
      {
       "output_type": "stream",
       "stream": "stdout",
       "text": [
        "\r",
        "Finding differences of reclassification 10 for data pairs 9 of 45.  Elapsed time: 39.3315499981 mins"
       ]
      },
      {
       "output_type": "stream",
       "stream": "stdout",
       "text": [
        "\r",
        "Finding differences of reclassification 10 for data pairs 10 of 45.  Elapsed time: 39.4243499994 mins"
       ]
      },
      {
       "output_type": "stream",
       "stream": "stdout",
       "text": [
        "\r",
        "Finding differences of reclassification 10 for data pairs 11 of 45.  Elapsed time: 39.5186999997 mins"
       ]
      },
      {
       "output_type": "stream",
       "stream": "stdout",
       "text": [
        "\r",
        "Finding differences of reclassification 10 for data pairs 12 of 45.  Elapsed time: 39.6205833316 mins"
       ]
      },
      {
       "output_type": "stream",
       "stream": "stdout",
       "text": [
        "\r",
        "Finding differences of reclassification 10 for data pairs 13 of 45.  Elapsed time: 39.7159500003 mins"
       ]
      },
      {
       "output_type": "stream",
       "stream": "stdout",
       "text": [
        "\r",
        "Finding differences of reclassification 10 for data pairs 14 of 45.  Elapsed time: 39.8104166667 mins"
       ]
      },
      {
       "output_type": "stream",
       "stream": "stdout",
       "text": [
        "\r",
        "Finding differences of reclassification 10 for data pairs 15 of 45.  Elapsed time: 39.9069500009 mins"
       ]
      },
      {
       "output_type": "stream",
       "stream": "stdout",
       "text": [
        "\r",
        "Finding differences of reclassification 10 for data pairs 16 of 45.  Elapsed time: 40.001516664 mins"
       ]
      },
      {
       "output_type": "stream",
       "stream": "stdout",
       "text": [
        "\r",
        "Finding differences of reclassification 10 for data pairs 17 of 45.  Elapsed time: 40.0974666675 mins"
       ]
      },
      {
       "output_type": "stream",
       "stream": "stdout",
       "text": [
        "\r",
        "Finding differences of reclassification 10 for data pairs 18 of 45.  Elapsed time: 40.1934666673 mins"
       ]
      },
      {
       "output_type": "stream",
       "stream": "stdout",
       "text": [
        "\r",
        "Finding differences of reclassification 10 for data pairs 19 of 45.  Elapsed time: 40.2899000009 mins"
       ]
      },
      {
       "output_type": "stream",
       "stream": "stdout",
       "text": [
        "\r",
        "Finding differences of reclassification 10 for data pairs 20 of 45.  Elapsed time: 40.3847166657 mins"
       ]
      },
      {
       "output_type": "stream",
       "stream": "stdout",
       "text": [
        "\r",
        "Finding differences of reclassification 10 for data pairs 21 of 45.  Elapsed time: 40.481766665 mins"
       ]
      },
      {
       "output_type": "stream",
       "stream": "stdout",
       "text": [
        "\r",
        "Finding differences of reclassification 10 for data pairs 22 of 45.  Elapsed time: 40.5780999978 mins"
       ]
      },
      {
       "output_type": "stream",
       "stream": "stdout",
       "text": [
        "\r",
        "Finding differences of reclassification 10 for data pairs 23 of 45.  Elapsed time: 40.672966667 mins"
       ]
      },
      {
       "output_type": "stream",
       "stream": "stdout",
       "text": [
        "\r",
        "Finding differences of reclassification 10 for data pairs 24 of 45.  Elapsed time: 40.7691833337 mins"
       ]
      },
      {
       "output_type": "stream",
       "stream": "stdout",
       "text": [
        "\r",
        "Finding differences of reclassification 10 for data pairs 25 of 45.  Elapsed time: 40.8669666648 mins"
       ]
      },
      {
       "output_type": "stream",
       "stream": "stdout",
       "text": [
        "\r",
        "Finding differences of reclassification 10 for data pairs 26 of 45.  Elapsed time: 40.9635333339 mins"
       ]
      },
      {
       "output_type": "stream",
       "stream": "stdout",
       "text": [
        "\r",
        "Finding differences of reclassification 10 for data pairs 27 of 45.  Elapsed time: 41.0598833323 mins"
       ]
      },
      {
       "output_type": "stream",
       "stream": "stdout",
       "text": [
        "\r",
        "Finding differences of reclassification 10 for data pairs 28 of 45.  Elapsed time: 41.1591833313 mins"
       ]
      },
      {
       "output_type": "stream",
       "stream": "stdout",
       "text": [
        "\r",
        "Finding differences of reclassification 10 for data pairs 29 of 45.  Elapsed time: 41.2849999984 mins"
       ]
      },
      {
       "output_type": "stream",
       "stream": "stdout",
       "text": [
        "\r",
        "Finding differences of reclassification 10 for data pairs 30 of 45.  Elapsed time: 41.3961000005 mins"
       ]
      },
      {
       "output_type": "stream",
       "stream": "stdout",
       "text": [
        "\r",
        "Finding differences of reclassification 10 for data pairs 31 of 45.  Elapsed time: 41.5080166658 mins"
       ]
      },
      {
       "output_type": "stream",
       "stream": "stdout",
       "text": [
        "\r",
        "Finding differences of reclassification 10 for data pairs 32 of 45.  Elapsed time: 41.6163166642 mins"
       ]
      },
      {
       "output_type": "stream",
       "stream": "stdout",
       "text": [
        "\r",
        "Finding differences of reclassification 10 for data pairs 33 of 45.  Elapsed time: 41.727033333 mins"
       ]
      },
      {
       "output_type": "stream",
       "stream": "stdout",
       "text": [
        "\r",
        "Finding differences of reclassification 10 for data pairs 34 of 45.  Elapsed time: 41.8334499995 mins"
       ]
      },
      {
       "output_type": "stream",
       "stream": "stdout",
       "text": [
        "\r",
        "Finding differences of reclassification 10 for data pairs 35 of 45.  Elapsed time: 41.9429333329 mins"
       ]
      },
      {
       "output_type": "stream",
       "stream": "stdout",
       "text": [
        "\r",
        "Finding differences of reclassification 10 for data pairs 36 of 45.  Elapsed time: 42.052516667 mins"
       ]
      },
      {
       "output_type": "stream",
       "stream": "stdout",
       "text": [
        "\r",
        "Finding differences of reclassification 10 for data pairs 37 of 45.  Elapsed time: 42.154883333 mins"
       ]
      },
      {
       "output_type": "stream",
       "stream": "stdout",
       "text": [
        "\r",
        "Finding differences of reclassification 10 for data pairs 38 of 45.  Elapsed time: 42.2507499973 mins"
       ]
      },
      {
       "output_type": "stream",
       "stream": "stdout",
       "text": [
        "\r",
        "Finding differences of reclassification 10 for data pairs 39 of 45.  Elapsed time: 42.3521166643 mins"
       ]
      },
      {
       "output_type": "stream",
       "stream": "stdout",
       "text": [
        "\r",
        "Finding differences of reclassification 10 for data pairs 40 of 45.  Elapsed time: 42.4613333305 mins"
       ]
      },
      {
       "output_type": "stream",
       "stream": "stdout",
       "text": [
        "\r",
        "Finding differences of reclassification 10 for data pairs 41 of 45.  Elapsed time: 42.5602833311 mins"
       ]
      },
      {
       "output_type": "stream",
       "stream": "stdout",
       "text": [
        "\r",
        "Finding differences of reclassification 10 for data pairs 42 of 45.  Elapsed time: 42.6631500006 mins"
       ]
      },
      {
       "output_type": "stream",
       "stream": "stdout",
       "text": [
        "\r",
        "Finding differences of reclassification 10 for data pairs 43 of 45.  Elapsed time: 42.7611166676 mins"
       ]
      },
      {
       "output_type": "stream",
       "stream": "stdout",
       "text": [
        "\r",
        "Finding differences of reclassification 10 for data pairs 44 of 45.  Elapsed time: 42.8574666659 mins"
       ]
      },
      {
       "output_type": "stream",
       "stream": "stdout",
       "text": [
        "\r",
        "Finding differences of reclassification 10 for data pairs 45 of 45.  Elapsed time: 42.9570499976 mins"
       ]
      },
      {
       "output_type": "stream",
       "stream": "stdout",
       "text": [
        "\r",
        "Finding differences of reclassification 11 for data pairs 1 of 45.  Elapsed time: 43.052366666 mins"
       ]
      },
      {
       "output_type": "stream",
       "stream": "stdout",
       "text": [
        "\r",
        "Finding differences of reclassification 11 for data pairs 2 of 45.  Elapsed time: 43.1478666663 mins"
       ]
      },
      {
       "output_type": "stream",
       "stream": "stdout",
       "text": [
        "\r",
        "Finding differences of reclassification 11 for data pairs 3 of 45.  Elapsed time: 43.2449833314 mins"
       ]
      },
      {
       "output_type": "stream",
       "stream": "stdout",
       "text": [
        "\r",
        "Finding differences of reclassification 11 for data pairs 4 of 45.  Elapsed time: 43.3412833333 mins"
       ]
      },
      {
       "output_type": "stream",
       "stream": "stdout",
       "text": [
        "\r",
        "Finding differences of reclassification 11 for data pairs 5 of 45.  Elapsed time: 43.4371166666 mins"
       ]
      },
      {
       "output_type": "stream",
       "stream": "stdout",
       "text": [
        "\r",
        "Finding differences of reclassification 11 for data pairs 6 of 45.  Elapsed time: 43.5309833328 mins"
       ]
      },
      {
       "output_type": "stream",
       "stream": "stdout",
       "text": [
        "\r",
        "Finding differences of reclassification 11 for data pairs 7 of 45.  Elapsed time: 43.6264333328 mins"
       ]
      },
      {
       "output_type": "stream",
       "stream": "stdout",
       "text": [
        "\r",
        "Finding differences of reclassification 11 for data pairs 8 of 45.  Elapsed time: 43.7223166664 mins"
       ]
      },
      {
       "output_type": "stream",
       "stream": "stdout",
       "text": [
        "\r",
        "Finding differences of reclassification 11 for data pairs 9 of 45.  Elapsed time: 43.818083334 mins"
       ]
      },
      {
       "output_type": "stream",
       "stream": "stdout",
       "text": [
        "\r",
        "Finding differences of reclassification 11 for data pairs 10 of 45.  Elapsed time: 43.9123166641 mins"
       ]
      },
      {
       "output_type": "stream",
       "stream": "stdout",
       "text": [
        "\r",
        "Finding differences of reclassification 11 for data pairs 11 of 45.  Elapsed time: 44.0066833337 mins"
       ]
      },
      {
       "output_type": "stream",
       "stream": "stdout",
       "text": [
        "\r",
        "Finding differences of reclassification 11 for data pairs 12 of 45.  Elapsed time: 44.1059333324 mins"
       ]
      },
      {
       "output_type": "stream",
       "stream": "stdout",
       "text": [
        "\r",
        "Finding differences of reclassification 11 for data pairs 13 of 45.  Elapsed time: 44.2087333322 mins"
       ]
      },
      {
       "output_type": "stream",
       "stream": "stdout",
       "text": [
        "\r",
        "Finding differences of reclassification 11 for data pairs 14 of 45.  Elapsed time: 44.3142166654 mins"
       ]
      },
      {
       "output_type": "stream",
       "stream": "stdout",
       "text": [
        "\r",
        "Finding differences of reclassification 11 for data pairs 15 of 45.  Elapsed time: 44.4167833328 mins"
       ]
      },
      {
       "output_type": "stream",
       "stream": "stdout",
       "text": [
        "\r",
        "Finding differences of reclassification 11 for data pairs 16 of 45.  Elapsed time: 44.5220999996 mins"
       ]
      },
      {
       "output_type": "stream",
       "stream": "stdout",
       "text": [
        "\r",
        "Finding differences of reclassification 11 for data pairs 17 of 45.  Elapsed time: 44.6314166665 mins"
       ]
      },
      {
       "output_type": "stream",
       "stream": "stdout",
       "text": [
        "\r",
        "Finding differences of reclassification 11 for data pairs 18 of 45.  Elapsed time: 44.7304333329 mins"
       ]
      },
      {
       "output_type": "stream",
       "stream": "stdout",
       "text": [
        "\r",
        "Finding differences of reclassification 11 for data pairs 19 of 45.  Elapsed time: 44.827366666 mins"
       ]
      },
      {
       "output_type": "stream",
       "stream": "stdout",
       "text": [
        "\r",
        "Finding differences of reclassification 11 for data pairs 20 of 45.  Elapsed time: 44.9205666661 mins"
       ]
      },
      {
       "output_type": "stream",
       "stream": "stdout",
       "text": [
        "\r",
        "Finding differences of reclassification 11 for data pairs 21 of 45.  Elapsed time: 45.015533332 mins"
       ]
      },
      {
       "output_type": "stream",
       "stream": "stdout",
       "text": [
        "\r",
        "Finding differences of reclassification 11 for data pairs 22 of 45.  Elapsed time: 45.1115166664 mins"
       ]
      },
      {
       "output_type": "stream",
       "stream": "stdout",
       "text": [
        "\r",
        "Finding differences of reclassification 11 for data pairs 23 of 45.  Elapsed time: 45.205733331 mins"
       ]
      },
      {
       "output_type": "stream",
       "stream": "stdout",
       "text": [
        "\r",
        "Finding differences of reclassification 11 for data pairs 24 of 45.  Elapsed time: 45.2997999986 mins"
       ]
      },
      {
       "output_type": "stream",
       "stream": "stdout",
       "text": [
        "\r",
        "Finding differences of reclassification 11 for data pairs 25 of 45.  Elapsed time: 45.3949500004 mins"
       ]
      },
      {
       "output_type": "stream",
       "stream": "stdout",
       "text": [
        "\r",
        "Finding differences of reclassification 11 for data pairs 26 of 45.  Elapsed time: 45.4907499989 mins"
       ]
      },
      {
       "output_type": "stream",
       "stream": "stdout",
       "text": [
        "\r",
        "Finding differences of reclassification 11 for data pairs 27 of 45.  Elapsed time: 45.586316665 mins"
       ]
      },
      {
       "output_type": "stream",
       "stream": "stdout",
       "text": [
        "\r",
        "Finding differences of reclassification 11 for data pairs 28 of 45.  Elapsed time: 45.6855499983 mins"
       ]
      },
      {
       "output_type": "stream",
       "stream": "stdout",
       "text": [
        "\r",
        "Finding differences of reclassification 11 for data pairs 29 of 45.  Elapsed time: 45.7806499998 mins"
       ]
      },
      {
       "output_type": "stream",
       "stream": "stdout",
       "text": [
        "\r",
        "Finding differences of reclassification 11 for data pairs 30 of 45.  Elapsed time: 45.8731833339 mins"
       ]
      },
      {
       "output_type": "stream",
       "stream": "stdout",
       "text": [
        "\r",
        "Finding differences of reclassification 11 for data pairs 31 of 45.  Elapsed time: 45.9653500001 mins"
       ]
      },
      {
       "output_type": "stream",
       "stream": "stdout",
       "text": [
        "\r",
        "Finding differences of reclassification 11 for data pairs 32 of 45.  Elapsed time: 46.0560833335 mins"
       ]
      },
      {
       "output_type": "stream",
       "stream": "stdout",
       "text": [
        "\r",
        "Finding differences of reclassification 11 for data pairs 33 of 45.  Elapsed time: 46.1484000007 mins"
       ]
      },
      {
       "output_type": "stream",
       "stream": "stdout",
       "text": [
        "\r",
        "Finding differences of reclassification 11 for data pairs 34 of 45.  Elapsed time: 46.2409833312 mins"
       ]
      },
      {
       "output_type": "stream",
       "stream": "stdout",
       "text": [
        "\r",
        "Finding differences of reclassification 11 for data pairs 35 of 45.  Elapsed time: 46.331400001 mins"
       ]
      },
      {
       "output_type": "stream",
       "stream": "stdout",
       "text": [
        "\r",
        "Finding differences of reclassification 11 for data pairs 36 of 45.  Elapsed time: 46.4217000008 mins"
       ]
      },
      {
       "output_type": "stream",
       "stream": "stdout",
       "text": [
        "\r",
        "Finding differences of reclassification 11 for data pairs 37 of 45.  Elapsed time: 46.513499999 mins"
       ]
      },
      {
       "output_type": "stream",
       "stream": "stdout",
       "text": [
        "\r",
        "Finding differences of reclassification 11 for data pairs 38 of 45.  Elapsed time: 46.6037166675 mins"
       ]
      },
      {
       "output_type": "stream",
       "stream": "stdout",
       "text": [
        "\r",
        "Finding differences of reclassification 11 for data pairs 39 of 45.  Elapsed time: 46.6945666671 mins"
       ]
      },
      {
       "output_type": "stream",
       "stream": "stdout",
       "text": [
        "\r",
        "Finding differences of reclassification 11 for data pairs 40 of 45.  Elapsed time: 46.7867999991 mins"
       ]
      },
      {
       "output_type": "stream",
       "stream": "stdout",
       "text": [
        "\r",
        "Finding differences of reclassification 11 for data pairs 41 of 45.  Elapsed time: 46.8782999992 mins"
       ]
      },
      {
       "output_type": "stream",
       "stream": "stdout",
       "text": [
        "\r",
        "Finding differences of reclassification 11 for data pairs 42 of 45.  Elapsed time: 46.9750333309 mins"
       ]
      },
      {
       "output_type": "stream",
       "stream": "stdout",
       "text": [
        "\r",
        "Finding differences of reclassification 11 for data pairs 43 of 45.  Elapsed time: 47.0766499996 mins"
       ]
      },
      {
       "output_type": "stream",
       "stream": "stdout",
       "text": [
        "\r",
        "Finding differences of reclassification 11 for data pairs 44 of 45.  Elapsed time: 47.1722500006 mins"
       ]
      },
      {
       "output_type": "stream",
       "stream": "stdout",
       "text": [
        "\r",
        "Finding differences of reclassification 11 for data pairs 45 of 45.  Elapsed time: 47.2708166639 mins"
       ]
      },
      {
       "output_type": "stream",
       "stream": "stdout",
       "text": [
        "\r",
        "Finding differences of reclassification 12 for data pairs 1 of 45.  Elapsed time: 47.3667666674 mins"
       ]
      },
      {
       "output_type": "stream",
       "stream": "stdout",
       "text": [
        "\r",
        "Finding differences of reclassification 12 for data pairs 2 of 45.  Elapsed time: 47.4581666668 mins"
       ]
      },
      {
       "output_type": "stream",
       "stream": "stdout",
       "text": [
        "\r",
        "Finding differences of reclassification 12 for data pairs 3 of 45.  Elapsed time: 47.5496499976 mins"
       ]
      },
      {
       "output_type": "stream",
       "stream": "stdout",
       "text": [
        "\r",
        "Finding differences of reclassification 12 for data pairs 4 of 45.  Elapsed time: 47.6433166663 mins"
       ]
      },
      {
       "output_type": "stream",
       "stream": "stdout",
       "text": [
        "\r",
        "Finding differences of reclassification 12 for data pairs 5 of 45.  Elapsed time: 47.7388999979 mins"
       ]
      },
      {
       "output_type": "stream",
       "stream": "stdout",
       "text": [
        "\r",
        "Finding differences of reclassification 12 for data pairs 6 of 45.  Elapsed time: 47.8300499996 mins"
       ]
      },
      {
       "output_type": "stream",
       "stream": "stdout",
       "text": [
        "\r",
        "Finding differences of reclassification 12 for data pairs 7 of 45.  Elapsed time: 47.9231666644 mins"
       ]
      },
      {
       "output_type": "stream",
       "stream": "stdout",
       "text": [
        "\r",
        "Finding differences of reclassification 12 for data pairs 8 of 45.  Elapsed time: 48.0182500005 mins"
       ]
      },
      {
       "output_type": "stream",
       "stream": "stdout",
       "text": [
        "\r",
        "Finding differences of reclassification 12 for data pairs 9 of 45.  Elapsed time: 48.1092666666 mins"
       ]
      },
      {
       "output_type": "stream",
       "stream": "stdout",
       "text": [
        "\r",
        "Finding differences of reclassification 12 for data pairs 10 of 45.  Elapsed time: 48.1996333321 mins"
       ]
      },
      {
       "output_type": "stream",
       "stream": "stdout",
       "text": [
        "\r",
        "Finding differences of reclassification 12 for data pairs 11 of 45.  Elapsed time: 48.2924666643 mins"
       ]
      },
      {
       "output_type": "stream",
       "stream": "stdout",
       "text": [
        "\r",
        "Finding differences of reclassification 12 for data pairs 12 of 45.  Elapsed time: 48.3873999993 mins"
       ]
      },
      {
       "output_type": "stream",
       "stream": "stdout",
       "text": [
        "\r",
        "Finding differences of reclassification 12 for data pairs 13 of 45.  Elapsed time: 48.4793666641 mins"
       ]
      },
      {
       "output_type": "stream",
       "stream": "stdout",
       "text": [
        "\r",
        "Finding differences of reclassification 12 for data pairs 14 of 45.  Elapsed time: 48.570266664 mins"
       ]
      },
      {
       "output_type": "stream",
       "stream": "stdout",
       "text": [
        "\r",
        "Finding differences of reclassification 12 for data pairs 15 of 45.  Elapsed time: 48.6673166672 mins"
       ]
      },
      {
       "output_type": "stream",
       "stream": "stdout",
       "text": [
        "\r",
        "Finding differences of reclassification 12 for data pairs 16 of 45.  Elapsed time: 48.7607833306 mins"
       ]
      },
      {
       "output_type": "stream",
       "stream": "stdout",
       "text": [
        "\r",
        "Finding differences of reclassification 12 for data pairs 17 of 45.  Elapsed time: 48.8596333305 mins"
       ]
      },
      {
       "output_type": "stream",
       "stream": "stdout",
       "text": [
        "\r",
        "Finding differences of reclassification 12 for data pairs 18 of 45.  Elapsed time: 48.952883331 mins"
       ]
      },
      {
       "output_type": "stream",
       "stream": "stdout",
       "text": [
        "\r",
        "Finding differences of reclassification 12 for data pairs 19 of 45.  Elapsed time: 49.0488833308 mins"
       ]
      },
      {
       "output_type": "stream",
       "stream": "stdout",
       "text": [
        "\r",
        "Finding differences of reclassification 12 for data pairs 20 of 45.  Elapsed time: 49.1429666638 mins"
       ]
      },
      {
       "output_type": "stream",
       "stream": "stdout",
       "text": [
        "\r",
        "Finding differences of reclassification 12 for data pairs 21 of 45.  Elapsed time: 49.2402499994 mins"
       ]
      },
      {
       "output_type": "stream",
       "stream": "stdout",
       "text": [
        "\r",
        "Finding differences of reclassification 12 for data pairs 22 of 45.  Elapsed time: 49.3346499999 mins"
       ]
      },
      {
       "output_type": "stream",
       "stream": "stdout",
       "text": [
        "\r",
        "Finding differences of reclassification 12 for data pairs 23 of 45.  Elapsed time: 49.4308000008 mins"
       ]
      },
      {
       "output_type": "stream",
       "stream": "stdout",
       "text": [
        "\r",
        "Finding differences of reclassification 12 for data pairs 24 of 45.  Elapsed time: 49.5256166657 mins"
       ]
      },
      {
       "output_type": "stream",
       "stream": "stdout",
       "text": [
        "\r",
        "Finding differences of reclassification 12 for data pairs 25 of 45.  Elapsed time: 49.6256500006 mins"
       ]
      },
      {
       "output_type": "stream",
       "stream": "stdout",
       "text": [
        "\r",
        "Finding differences of reclassification 12 for data pairs 26 of 45.  Elapsed time: 49.7211833318 mins"
       ]
      },
      {
       "output_type": "stream",
       "stream": "stdout",
       "text": [
        "\r",
        "Finding differences of reclassification 12 for data pairs 27 of 45.  Elapsed time: 49.8330666661 mins"
       ]
      },
      {
       "output_type": "stream",
       "stream": "stdout",
       "text": [
        "\r",
        "Finding differences of reclassification 12 for data pairs 28 of 45.  Elapsed time: 49.9438666662 mins"
       ]
      },
      {
       "output_type": "stream",
       "stream": "stdout",
       "text": [
        "\r",
        "Finding differences of reclassification 12 for data pairs 29 of 45.  Elapsed time: 50.0416499972 mins"
       ]
      },
      {
       "output_type": "stream",
       "stream": "stdout",
       "text": [
        "\r",
        "Finding differences of reclassification 12 for data pairs 30 of 45.  Elapsed time: 50.1351999998 mins"
       ]
      },
      {
       "output_type": "stream",
       "stream": "stdout",
       "text": [
        "\r",
        "Finding differences of reclassification 12 for data pairs 31 of 45.  Elapsed time: 50.2333499988 mins"
       ]
      },
      {
       "output_type": "stream",
       "stream": "stdout",
       "text": [
        "\r",
        "Finding differences of reclassification 12 for data pairs 32 of 45.  Elapsed time: 50.323816665 mins"
       ]
      },
      {
       "output_type": "stream",
       "stream": "stdout",
       "text": [
        "\r",
        "Finding differences of reclassification 12 for data pairs 33 of 45.  Elapsed time: 50.4158333341 mins"
       ]
      },
      {
       "output_type": "stream",
       "stream": "stdout",
       "text": [
        "\r",
        "Finding differences of reclassification 12 for data pairs 34 of 45.  Elapsed time: 50.5081499974 mins"
       ]
      },
      {
       "output_type": "stream",
       "stream": "stdout",
       "text": [
        "\r",
        "Finding differences of reclassification 12 for data pairs 35 of 45.  Elapsed time: 50.5986999989 mins"
       ]
      },
      {
       "output_type": "stream",
       "stream": "stdout",
       "text": [
        "\r",
        "Finding differences of reclassification 12 for data pairs 36 of 45.  Elapsed time: 50.6888333321 mins"
       ]
      },
      {
       "output_type": "stream",
       "stream": "stdout",
       "text": [
        "\r",
        "Finding differences of reclassification 12 for data pairs 37 of 45.  Elapsed time: 50.7809999983 mins"
       ]
      },
      {
       "output_type": "stream",
       "stream": "stdout",
       "text": [
        "\r",
        "Finding differences of reclassification 12 for data pairs 38 of 45.  Elapsed time: 50.871266667 mins"
       ]
      },
      {
       "output_type": "stream",
       "stream": "stdout",
       "text": [
        "\r",
        "Finding differences of reclassification 12 for data pairs 39 of 45.  Elapsed time: 50.9614833315 mins"
       ]
      },
      {
       "output_type": "stream",
       "stream": "stdout",
       "text": [
        "\r",
        "Finding differences of reclassification 12 for data pairs 40 of 45.  Elapsed time: 51.0526333332 mins"
       ]
      },
      {
       "output_type": "stream",
       "stream": "stdout",
       "text": [
        "\r",
        "Finding differences of reclassification 12 for data pairs 41 of 45.  Elapsed time: 51.1433833321 mins"
       ]
      },
      {
       "output_type": "stream",
       "stream": "stdout",
       "text": [
        "\r",
        "Finding differences of reclassification 12 for data pairs 42 of 45.  Elapsed time: 51.2359499971 mins"
       ]
      },
      {
       "output_type": "stream",
       "stream": "stdout",
       "text": [
        "\r",
        "Finding differences of reclassification 12 for data pairs 43 of 45.  Elapsed time: 51.3276166638 mins"
       ]
      },
      {
       "output_type": "stream",
       "stream": "stdout",
       "text": [
        "\r",
        "Finding differences of reclassification 12 for data pairs 44 of 45.  Elapsed time: 51.4185499986 mins"
       ]
      },
      {
       "output_type": "stream",
       "stream": "stdout",
       "text": [
        "\r",
        "Finding differences of reclassification 12 for data pairs 45 of 45.  Elapsed time: 51.5133666674 mins"
       ]
      },
      {
       "output_type": "stream",
       "stream": "stdout",
       "text": [
        "\r",
        "Finding differences of reclassification 13 for data pairs 1 of 45.  Elapsed time: 51.6099333326 mins"
       ]
      },
      {
       "output_type": "stream",
       "stream": "stdout",
       "text": [
        "\r",
        "Finding differences of reclassification 13 for data pairs 2 of 45.  Elapsed time: 51.705916667 mins"
       ]
      },
      {
       "output_type": "stream",
       "stream": "stdout",
       "text": [
        "\r",
        "Finding differences of reclassification 13 for data pairs 3 of 45.  Elapsed time: 51.8013333321 mins"
       ]
      },
      {
       "output_type": "stream",
       "stream": "stdout",
       "text": [
        "\r",
        "Finding differences of reclassification 13 for data pairs 4 of 45.  Elapsed time: 51.9106666644 mins"
       ]
      },
      {
       "output_type": "stream",
       "stream": "stdout",
       "text": [
        "\r",
        "Finding differences of reclassification 13 for data pairs 5 of 45.  Elapsed time: 52.0224333326 mins"
       ]
      },
      {
       "output_type": "stream",
       "stream": "stdout",
       "text": [
        "\r",
        "Finding differences of reclassification 13 for data pairs 6 of 45.  Elapsed time: 52.1200499972 mins"
       ]
      },
      {
       "output_type": "stream",
       "stream": "stdout",
       "text": [
        "\r",
        "Finding differences of reclassification 13 for data pairs 7 of 45.  Elapsed time: 52.2231833339 mins"
       ]
      },
      {
       "output_type": "stream",
       "stream": "stdout",
       "text": [
        "\r",
        "Finding differences of reclassification 13 for data pairs 8 of 45.  Elapsed time: 52.3298333327 mins"
       ]
      },
      {
       "output_type": "stream",
       "stream": "stdout",
       "text": [
        "\r",
        "Finding differences of reclassification 13 for data pairs 9 of 45.  Elapsed time: 52.4310499986 mins"
       ]
      },
      {
       "output_type": "stream",
       "stream": "stdout",
       "text": [
        "\r",
        "Finding differences of reclassification 13 for data pairs 10 of 45.  Elapsed time: 52.5331666668 mins"
       ]
      },
      {
       "output_type": "stream",
       "stream": "stdout",
       "text": [
        "\r",
        "Finding differences of reclassification 13 for data pairs 11 of 45.  Elapsed time: 52.6381166657 mins"
       ]
      },
      {
       "output_type": "stream",
       "stream": "stdout",
       "text": [
        "\r",
        "Finding differences of reclassification 13 for data pairs 12 of 45.  Elapsed time: 52.7360999982 mins"
       ]
      },
      {
       "output_type": "stream",
       "stream": "stdout",
       "text": [
        "\r",
        "Finding differences of reclassification 13 for data pairs 13 of 45.  Elapsed time: 52.8462833325 mins"
       ]
      },
      {
       "output_type": "stream",
       "stream": "stdout",
       "text": [
        "\r",
        "Finding differences of reclassification 13 for data pairs 14 of 45.  Elapsed time: 52.9654166659 mins"
       ]
      },
      {
       "output_type": "stream",
       "stream": "stdout",
       "text": [
        "\r",
        "Finding differences of reclassification 13 for data pairs 15 of 45.  Elapsed time: 53.0810499986 mins"
       ]
      },
      {
       "output_type": "stream",
       "stream": "stdout",
       "text": [
        "\r",
        "Finding differences of reclassification 13 for data pairs 16 of 45.  Elapsed time: 53.1998666644 mins"
       ]
      },
      {
       "output_type": "stream",
       "stream": "stdout",
       "text": [
        "\r",
        "Finding differences of reclassification 13 for data pairs 17 of 45.  Elapsed time: 53.302183334 mins"
       ]
      },
      {
       "output_type": "stream",
       "stream": "stdout",
       "text": [
        "\r",
        "Finding differences of reclassification 13 for data pairs 18 of 45.  Elapsed time: 53.4003166676 mins"
       ]
      },
      {
       "output_type": "stream",
       "stream": "stdout",
       "text": [
        "\r",
        "Finding differences of reclassification 13 for data pairs 19 of 45.  Elapsed time: 53.4968499978 mins"
       ]
      },
      {
       "output_type": "stream",
       "stream": "stdout",
       "text": [
        "\r",
        "Finding differences of reclassification 13 for data pairs 20 of 45.  Elapsed time: 53.5893833319 mins"
       ]
      },
      {
       "output_type": "stream",
       "stream": "stdout",
       "text": [
        "\r",
        "Finding differences of reclassification 13 for data pairs 21 of 45.  Elapsed time: 53.6807666659 mins"
       ]
      },
      {
       "output_type": "stream",
       "stream": "stdout",
       "text": [
        "\r",
        "Finding differences of reclassification 13 for data pairs 22 of 45.  Elapsed time: 53.7796333313 mins"
       ]
      },
      {
       "output_type": "stream",
       "stream": "stdout",
       "text": [
        "\r",
        "Finding differences of reclassification 13 for data pairs 23 of 45.  Elapsed time: 53.870783333 mins"
       ]
      },
      {
       "output_type": "stream",
       "stream": "stdout",
       "text": [
        "\r",
        "Finding differences of reclassification 13 for data pairs 24 of 45.  Elapsed time: 53.9626666665 mins"
       ]
      },
      {
       "output_type": "stream",
       "stream": "stdout",
       "text": [
        "\r",
        "Finding differences of reclassification 13 for data pairs 25 of 45.  Elapsed time: 54.0578833342 mins"
       ]
      },
      {
       "output_type": "stream",
       "stream": "stdout",
       "text": [
        "\r",
        "Finding differences of reclassification 13 for data pairs 26 of 45.  Elapsed time: 54.1505666653 mins"
       ]
      },
      {
       "output_type": "stream",
       "stream": "stdout",
       "text": [
        "\r",
        "Finding differences of reclassification 13 for data pairs 27 of 45.  Elapsed time: 54.249000001 mins"
       ]
      },
      {
       "output_type": "stream",
       "stream": "stdout",
       "text": [
        "\r",
        "Finding differences of reclassification 13 for data pairs 28 of 45.  Elapsed time: 54.3508333325 mins"
       ]
      },
      {
       "output_type": "stream",
       "stream": "stdout",
       "text": [
        "\r",
        "Finding differences of reclassification 13 for data pairs 29 of 45.  Elapsed time: 54.449849999 mins"
       ]
      },
      {
       "output_type": "stream",
       "stream": "stdout",
       "text": [
        "\r",
        "Finding differences of reclassification 13 for data pairs 30 of 45.  Elapsed time: 54.5480999986 mins"
       ]
      },
      {
       "output_type": "stream",
       "stream": "stdout",
       "text": [
        "\r",
        "Finding differences of reclassification 13 for data pairs 31 of 45.  Elapsed time: 54.6441833337 mins"
       ]
      },
      {
       "output_type": "stream",
       "stream": "stdout",
       "text": [
        "\r",
        "Finding differences of reclassification 13 for data pairs 32 of 45.  Elapsed time: 54.7355499983 mins"
       ]
      },
      {
       "output_type": "stream",
       "stream": "stdout",
       "text": [
        "\r",
        "Finding differences of reclassification 13 for data pairs 33 of 45.  Elapsed time: 54.8356833339 mins"
       ]
      },
      {
       "output_type": "stream",
       "stream": "stdout",
       "text": [
        "\r",
        "Finding differences of reclassification 13 for data pairs 34 of 45.  Elapsed time: 54.9335333308 mins"
       ]
      },
      {
       "output_type": "stream",
       "stream": "stdout",
       "text": [
        "\r",
        "Finding differences of reclassification 13 for data pairs 35 of 45.  Elapsed time: 55.0326499979 mins"
       ]
      },
      {
       "output_type": "stream",
       "stream": "stdout",
       "text": [
        "\r",
        "Finding differences of reclassification 13 for data pairs 36 of 45.  Elapsed time: 55.127883331 mins"
       ]
      },
      {
       "output_type": "stream",
       "stream": "stdout",
       "text": [
        "\r",
        "Finding differences of reclassification 13 for data pairs 37 of 45.  Elapsed time: 55.2220333338 mins"
       ]
      },
      {
       "output_type": "stream",
       "stream": "stdout",
       "text": [
        "\r",
        "Finding differences of reclassification 13 for data pairs 38 of 45.  Elapsed time: 55.3198666652 mins"
       ]
      },
      {
       "output_type": "stream",
       "stream": "stdout",
       "text": [
        "\r",
        "Finding differences of reclassification 13 for data pairs 39 of 45.  Elapsed time: 55.4170833309 mins"
       ]
      },
      {
       "output_type": "stream",
       "stream": "stdout",
       "text": [
        "\r",
        "Finding differences of reclassification 13 for data pairs 40 of 45.  Elapsed time: 55.5103000005 mins"
       ]
      },
      {
       "output_type": "stream",
       "stream": "stdout",
       "text": [
        "\r",
        "Finding differences of reclassification 13 for data pairs 41 of 45.  Elapsed time: 55.6023833315 mins"
       ]
      },
      {
       "output_type": "stream",
       "stream": "stdout",
       "text": [
        "\r",
        "Finding differences of reclassification 13 for data pairs 42 of 45.  Elapsed time: 55.6993666649 mins"
       ]
      },
      {
       "output_type": "stream",
       "stream": "stdout",
       "text": [
        "\r",
        "Finding differences of reclassification 13 for data pairs 43 of 45.  Elapsed time: 55.7931333343 mins"
       ]
      },
      {
       "output_type": "stream",
       "stream": "stdout",
       "text": [
        "\r",
        "Finding differences of reclassification 13 for data pairs 44 of 45.  Elapsed time: 55.8875833313 mins"
       ]
      },
      {
       "output_type": "stream",
       "stream": "stdout",
       "text": [
        "\r",
        "Finding differences of reclassification 13 for data pairs 45 of 45.  Elapsed time: 55.9830666661 mins"
       ]
      },
      {
       "output_type": "stream",
       "stream": "stdout",
       "text": [
        "\r",
        "Finding differences of reclassification 14 for data pairs 1 of 45.  Elapsed time: 56.076850001 mins"
       ]
      },
      {
       "output_type": "stream",
       "stream": "stdout",
       "text": [
        "\r",
        "Finding differences of reclassification 14 for data pairs 2 of 45.  Elapsed time: 56.1685833335 mins"
       ]
      },
      {
       "output_type": "stream",
       "stream": "stdout",
       "text": [
        "\r",
        "Finding differences of reclassification 14 for data pairs 3 of 45.  Elapsed time: 56.2591166655 mins"
       ]
      },
      {
       "output_type": "stream",
       "stream": "stdout",
       "text": [
        "\r",
        "Finding differences of reclassification 14 for data pairs 4 of 45.  Elapsed time: 56.3525833329 mins"
       ]
      },
      {
       "output_type": "stream",
       "stream": "stdout",
       "text": [
        "\r",
        "Finding differences of reclassification 14 for data pairs 5 of 45.  Elapsed time: 56.4446499983 mins"
       ]
      },
      {
       "output_type": "stream",
       "stream": "stdout",
       "text": [
        "\r",
        "Finding differences of reclassification 14 for data pairs 6 of 45.  Elapsed time: 56.5348833323 mins"
       ]
      },
      {
       "output_type": "stream",
       "stream": "stdout",
       "text": [
        "\r",
        "Finding differences of reclassification 14 for data pairs 7 of 45.  Elapsed time: 56.6279333313 mins"
       ]
      },
      {
       "output_type": "stream",
       "stream": "stdout",
       "text": [
        "\r",
        "Finding differences of reclassification 14 for data pairs 8 of 45.  Elapsed time: 56.720266664 mins"
       ]
      },
      {
       "output_type": "stream",
       "stream": "stdout",
       "text": [
        "\r",
        "Finding differences of reclassification 14 for data pairs 9 of 45.  Elapsed time: 56.8117833336 mins"
       ]
      },
      {
       "output_type": "stream",
       "stream": "stdout",
       "text": [
        "\r",
        "Finding differences of reclassification 14 for data pairs 10 of 45.  Elapsed time: 56.9035833319 mins"
       ]
      },
      {
       "output_type": "stream",
       "stream": "stdout",
       "text": [
        "\r",
        "Finding differences of reclassification 14 for data pairs 11 of 45.  Elapsed time: 56.9962833325 mins"
       ]
      },
      {
       "output_type": "stream",
       "stream": "stdout",
       "text": [
        "\r",
        "Finding differences of reclassification 14 for data pairs 12 of 45.  Elapsed time: 57.0925999999 mins"
       ]
      },
      {
       "output_type": "stream",
       "stream": "stdout",
       "text": [
        "\r",
        "Finding differences of reclassification 14 for data pairs 13 of 45.  Elapsed time: 57.1891333342 mins"
       ]
      },
      {
       "output_type": "stream",
       "stream": "stdout",
       "text": [
        "\r",
        "Finding differences of reclassification 14 for data pairs 14 of 45.  Elapsed time: 57.2910000006 mins"
       ]
      },
      {
       "output_type": "stream",
       "stream": "stdout",
       "text": [
        "\r",
        "Finding differences of reclassification 14 for data pairs 15 of 45.  Elapsed time: 57.3911499977 mins"
       ]
      },
      {
       "output_type": "stream",
       "stream": "stdout",
       "text": [
        "\r",
        "Finding differences of reclassification 14 for data pairs 16 of 45.  Elapsed time: 57.4896666646 mins"
       ]
      },
      {
       "output_type": "stream",
       "stream": "stdout",
       "text": [
        "\r",
        "Finding differences of reclassification 14 for data pairs 17 of 45.  Elapsed time: 57.5839833339 mins"
       ]
      },
      {
       "output_type": "stream",
       "stream": "stdout",
       "text": [
        "\r",
        "Finding differences of reclassification 14 for data pairs 18 of 45.  Elapsed time: 57.6766166647 mins"
       ]
      },
      {
       "output_type": "stream",
       "stream": "stdout",
       "text": [
        "\r",
        "Finding differences of reclassification 14 for data pairs 19 of 45.  Elapsed time: 57.7705666661 mins"
       ]
      },
      {
       "output_type": "stream",
       "stream": "stdout",
       "text": [
        "\r",
        "Finding differences of reclassification 14 for data pairs 20 of 45.  Elapsed time: 57.8622499983 mins"
       ]
      },
      {
       "output_type": "stream",
       "stream": "stdout",
       "text": [
        "\r",
        "Finding differences of reclassification 14 for data pairs 21 of 45.  Elapsed time: 57.9541833321 mins"
       ]
      },
      {
       "output_type": "stream",
       "stream": "stdout",
       "text": [
        "\r",
        "Finding differences of reclassification 14 for data pairs 22 of 45.  Elapsed time: 58.0470166643 mins"
       ]
      },
      {
       "output_type": "stream",
       "stream": "stdout",
       "text": [
        "\r",
        "Finding differences of reclassification 14 for data pairs 23 of 45.  Elapsed time: 58.1357166648 mins"
       ]
      },
      {
       "output_type": "stream",
       "stream": "stdout",
       "text": [
        "\r",
        "Finding differences of reclassification 14 for data pairs 24 of 45.  Elapsed time: 58.225 mins"
       ]
      },
      {
       "output_type": "stream",
       "stream": "stdout",
       "text": [
        "\r",
        "Finding differences of reclassification 14 for data pairs 25 of 45.  Elapsed time: 58.3148000002 mins"
       ]
      },
      {
       "output_type": "stream",
       "stream": "stdout",
       "text": [
        "\r",
        "Finding differences of reclassification 14 for data pairs 26 of 45.  Elapsed time: 58.4051500003 mins"
       ]
      },
      {
       "output_type": "stream",
       "stream": "stdout",
       "text": [
        "\r",
        "Finding differences of reclassification 14 for data pairs 27 of 45.  Elapsed time: 58.49545 mins"
       ]
      },
      {
       "output_type": "stream",
       "stream": "stdout",
       "text": [
        "\r",
        "Finding differences of reclassification 14 for data pairs 28 of 45.  Elapsed time: 58.5877499978 mins"
       ]
      },
      {
       "output_type": "stream",
       "stream": "stdout",
       "text": [
        "\r",
        "Finding differences of reclassification 14 for data pairs 29 of 45.  Elapsed time: 58.679733332 mins"
       ]
      },
      {
       "output_type": "stream",
       "stream": "stdout",
       "text": [
        "\r",
        "Finding differences of reclassification 14 for data pairs 30 of 45.  Elapsed time: 58.7723333319 mins"
       ]
      },
      {
       "output_type": "stream",
       "stream": "stdout",
       "text": [
        "\r",
        "Finding differences of reclassification 14 for data pairs 31 of 45.  Elapsed time: 58.8644499977 mins"
       ]
      },
      {
       "output_type": "stream",
       "stream": "stdout",
       "text": [
        "\r",
        "Finding differences of reclassification 14 for data pairs 32 of 45.  Elapsed time: 58.9538666646 mins"
       ]
      },
      {
       "output_type": "stream",
       "stream": "stdout",
       "text": [
        "\r",
        "Finding differences of reclassification 14 for data pairs 33 of 45.  Elapsed time: 59.0443833311 mins"
       ]
      },
      {
       "output_type": "stream",
       "stream": "stdout",
       "text": [
        "\r",
        "Finding differences of reclassification 14 for data pairs 34 of 45.  Elapsed time: 59.1359499971 mins"
       ]
      },
      {
       "output_type": "stream",
       "stream": "stdout",
       "text": [
        "\r",
        "Finding differences of reclassification 14 for data pairs 35 of 45.  Elapsed time: 59.2261333307 mins"
       ]
      },
      {
       "output_type": "stream",
       "stream": "stdout",
       "text": [
        "\r",
        "Finding differences of reclassification 14 for data pairs 36 of 45.  Elapsed time: 59.3152999997 mins"
       ]
      },
      {
       "output_type": "stream",
       "stream": "stdout",
       "text": [
        "\r",
        "Finding differences of reclassification 14 for data pairs 37 of 45.  Elapsed time: 59.4065499981 mins"
       ]
      },
      {
       "output_type": "stream",
       "stream": "stdout",
       "text": [
        "\r",
        "Finding differences of reclassification 14 for data pairs 38 of 45.  Elapsed time: 59.4965333343 mins"
       ]
      },
      {
       "output_type": "stream",
       "stream": "stdout",
       "text": [
        "\r",
        "Finding differences of reclassification 14 for data pairs 39 of 45.  Elapsed time: 59.5877833327 mins"
       ]
      },
      {
       "output_type": "stream",
       "stream": "stdout",
       "text": [
        "\r",
        "Finding differences of reclassification 14 for data pairs 40 of 45.  Elapsed time: 59.6789166649 mins"
       ]
      },
      {
       "output_type": "stream",
       "stream": "stdout",
       "text": [
        "\r",
        "Finding differences of reclassification 14 for data pairs 41 of 45.  Elapsed time: 59.770266664 mins"
       ]
      },
      {
       "output_type": "stream",
       "stream": "stdout",
       "text": [
        "\r",
        "Finding differences of reclassification 14 for data pairs 42 of 45.  Elapsed time: 59.8627166669 mins"
       ]
      },
      {
       "output_type": "stream",
       "stream": "stdout",
       "text": [
        "\r",
        "Finding differences of reclassification 14 for data pairs 43 of 45.  Elapsed time: 59.9541000009 mins"
       ]
      },
      {
       "output_type": "stream",
       "stream": "stdout",
       "text": [
        "\r",
        "Finding differences of reclassification 14 for data pairs 44 of 45.  Elapsed time: 1.00074499998 hours"
       ]
      },
      {
       "output_type": "stream",
       "stream": "stdout",
       "text": [
        "\r",
        "Finding differences of reclassification 14 for data pairs 45 of 45.  Elapsed time: 1.00224055555 hours"
       ]
      },
      {
       "output_type": "stream",
       "stream": "stdout",
       "text": [
        "\r",
        "Finding differences of reclassification 15 for data pairs 1 of 45.  Elapsed time: 1.0037458333 hours"
       ]
      },
      {
       "output_type": "stream",
       "stream": "stdout",
       "text": [
        "\r",
        "Finding differences of reclassification 15 for data pairs 2 of 45.  Elapsed time: 1.00524777777 hours"
       ]
      },
      {
       "output_type": "stream",
       "stream": "stdout",
       "text": [
        "\r",
        "Finding differences of reclassification 15 for data pairs 3 of 45.  Elapsed time: 1.00674277776 hours"
       ]
      },
      {
       "output_type": "stream",
       "stream": "stdout",
       "text": [
        "\r",
        "Finding differences of reclassification 15 for data pairs 4 of 45.  Elapsed time: 1.00825722218 hours"
       ]
      },
      {
       "output_type": "stream",
       "stream": "stdout",
       "text": [
        "\r",
        "Finding differences of reclassification 15 for data pairs 5 of 45.  Elapsed time: 1.00977305551 hours"
       ]
      },
      {
       "output_type": "stream",
       "stream": "stdout",
       "text": [
        "\r",
        "Finding differences of reclassification 15 for data pairs 6 of 45.  Elapsed time: 1.01127472222 hours"
       ]
      },
      {
       "output_type": "stream",
       "stream": "stdout",
       "text": [
        "\r",
        "Finding differences of reclassification 15 for data pairs 7 of 45.  Elapsed time: 1.01279249999 hours"
       ]
      },
      {
       "output_type": "stream",
       "stream": "stdout",
       "text": [
        "\r",
        "Finding differences of reclassification 15 for data pairs 8 of 45.  Elapsed time: 1.01432194445 hours"
       ]
      },
      {
       "output_type": "stream",
       "stream": "stdout",
       "text": [
        "\r",
        "Finding differences of reclassification 15 for data pairs 9 of 45.  Elapsed time: 1.01582222223 hours"
       ]
      },
      {
       "output_type": "stream",
       "stream": "stdout",
       "text": [
        "\r",
        "Finding differences of reclassification 15 for data pairs 10 of 45.  Elapsed time: 1.01731444445 hours"
       ]
      },
      {
       "output_type": "stream",
       "stream": "stdout",
       "text": [
        "\r",
        "Finding differences of reclassification 15 for data pairs 11 of 45.  Elapsed time: 1.0188208333 hours"
       ]
      },
      {
       "output_type": "stream",
       "stream": "stdout",
       "text": [
        "\r",
        "Finding differences of reclassification 15 for data pairs 12 of 45.  Elapsed time: 1.02034944442 hours"
       ]
      },
      {
       "output_type": "stream",
       "stream": "stdout",
       "text": [
        "\r",
        "Finding differences of reclassification 15 for data pairs 13 of 45.  Elapsed time: 1.02184666667 hours"
       ]
      },
      {
       "output_type": "stream",
       "stream": "stdout",
       "text": [
        "\r",
        "Finding differences of reclassification 15 for data pairs 14 of 45.  Elapsed time: 1.02335499995 hours"
       ]
      },
      {
       "output_type": "stream",
       "stream": "stdout",
       "text": [
        "\r",
        "Finding differences of reclassification 15 for data pairs 15 of 45.  Elapsed time: 1.02488750001 hours"
       ]
      },
      {
       "output_type": "stream",
       "stream": "stdout",
       "text": [
        "\r",
        "Finding differences of reclassification 15 for data pairs 16 of 45.  Elapsed time: 1.02641055551 hours"
       ]
      },
      {
       "output_type": "stream",
       "stream": "stdout",
       "text": [
        "\r",
        "Finding differences of reclassification 15 for data pairs 17 of 45.  Elapsed time: 1.02796638886 hours"
       ]
      },
      {
       "output_type": "stream",
       "stream": "stdout",
       "text": [
        "\r",
        "Finding differences of reclassification 15 for data pairs 18 of 45.  Elapsed time: 1.02948361112 hours"
       ]
      },
      {
       "output_type": "stream",
       "stream": "stdout",
       "text": [
        "\r",
        "Finding differences of reclassification 15 for data pairs 19 of 45.  Elapsed time: 1.03100416667 hours"
       ]
      },
      {
       "output_type": "stream",
       "stream": "stdout",
       "text": [
        "\r",
        "Finding differences of reclassification 15 for data pairs 20 of 45.  Elapsed time: 1.03249666664 hours"
       ]
      },
      {
       "output_type": "stream",
       "stream": "stdout",
       "text": [
        "\r",
        "Finding differences of reclassification 15 for data pairs 21 of 45.  Elapsed time: 1.0340138889 hours"
       ]
      },
      {
       "output_type": "stream",
       "stream": "stdout",
       "text": [
        "\r",
        "Finding differences of reclassification 15 for data pairs 22 of 45.  Elapsed time: 1.03554027776 hours"
       ]
      },
      {
       "output_type": "stream",
       "stream": "stdout",
       "text": [
        "\r",
        "Finding differences of reclassification 15 for data pairs 23 of 45.  Elapsed time: 1.03703027778 hours"
       ]
      },
      {
       "output_type": "stream",
       "stream": "stdout",
       "text": [
        "\r",
        "Finding differences of reclassification 15 for data pairs 24 of 45.  Elapsed time: 1.03852333334 hours"
       ]
      },
      {
       "output_type": "stream",
       "stream": "stdout",
       "text": [
        "\r",
        "Finding differences of reclassification 15 for data pairs 25 of 45.  Elapsed time: 1.04002888885 hours"
       ]
      },
      {
       "output_type": "stream",
       "stream": "stdout",
       "text": [
        "\r",
        "Finding differences of reclassification 15 for data pairs 26 of 45.  Elapsed time: 1.04154166665 hours"
       ]
      },
      {
       "output_type": "stream",
       "stream": "stdout",
       "text": [
        "\r",
        "Finding differences of reclassification 15 for data pairs 27 of 45.  Elapsed time: 1.04305388888 hours"
       ]
      },
      {
       "output_type": "stream",
       "stream": "stdout",
       "text": [
        "\r",
        "Finding differences of reclassification 15 for data pairs 28 of 45.  Elapsed time: 1.04461194442 hours"
       ]
      },
      {
       "output_type": "stream",
       "stream": "stdout",
       "text": [
        "\r",
        "Finding differences of reclassification 15 for data pairs 29 of 45.  Elapsed time: 1.04613111112 hours"
       ]
      },
      {
       "output_type": "stream",
       "stream": "stdout",
       "text": [
        "\r",
        "Finding differences of reclassification 15 for data pairs 30 of 45.  Elapsed time: 1.04766944442 hours"
       ]
      },
      {
       "output_type": "stream",
       "stream": "stdout",
       "text": [
        "\r",
        "Finding differences of reclassification 15 for data pairs 31 of 45.  Elapsed time: 1.04919444442 hours"
       ]
      },
      {
       "output_type": "stream",
       "stream": "stdout",
       "text": [
        "\r",
        "Finding differences of reclassification 15 for data pairs 32 of 45.  Elapsed time: 1.05070222219 hours"
       ]
      },
      {
       "output_type": "stream",
       "stream": "stdout",
       "text": [
        "\r",
        "Finding differences of reclassification 15 for data pairs 33 of 45.  Elapsed time: 1.05222166664 hours"
       ]
      },
      {
       "output_type": "stream",
       "stream": "stdout",
       "text": [
        "\r",
        "Finding differences of reclassification 15 for data pairs 34 of 45.  Elapsed time: 1.05376749999 hours"
       ]
      },
      {
       "output_type": "stream",
       "stream": "stdout",
       "text": [
        "\r",
        "Finding differences of reclassification 15 for data pairs 35 of 45.  Elapsed time: 1.05526444442 hours"
       ]
      },
      {
       "output_type": "stream",
       "stream": "stdout",
       "text": [
        "\r",
        "Finding differences of reclassification 15 for data pairs 36 of 45.  Elapsed time: 1.05676527778 hours"
       ]
      },
      {
       "output_type": "stream",
       "stream": "stdout",
       "text": [
        "\r",
        "Finding differences of reclassification 15 for data pairs 37 of 45.  Elapsed time: 1.05828861111 hours"
       ]
      },
      {
       "output_type": "stream",
       "stream": "stdout",
       "text": [
        "\r",
        "Finding differences of reclassification 15 for data pairs 38 of 45.  Elapsed time: 1.05978388886 hours"
       ]
      },
      {
       "output_type": "stream",
       "stream": "stdout",
       "text": [
        "\r",
        "Finding differences of reclassification 15 for data pairs 39 of 45.  Elapsed time: 1.06130638884 hours"
       ]
      },
      {
       "output_type": "stream",
       "stream": "stdout",
       "text": [
        "\r",
        "Finding differences of reclassification 15 for data pairs 40 of 45.  Elapsed time: 1.06282277776 hours"
       ]
      },
      {
       "output_type": "stream",
       "stream": "stdout",
       "text": [
        "\r",
        "Finding differences of reclassification 15 for data pairs 41 of 45.  Elapsed time: 1.06434638884 hours"
       ]
      },
      {
       "output_type": "stream",
       "stream": "stdout",
       "text": [
        "\r",
        "Finding differences of reclassification 15 for data pairs 42 of 45.  Elapsed time: 1.06588083333 hours"
       ]
      },
      {
       "output_type": "stream",
       "stream": "stdout",
       "text": [
        "\r",
        "Finding differences of reclassification 15 for data pairs 43 of 45.  Elapsed time: 1.06739916662 hours"
       ]
      },
      {
       "output_type": "stream",
       "stream": "stdout",
       "text": [
        "\r",
        "Finding differences of reclassification 15 for data pairs 44 of 45.  Elapsed time: 1.06889583329 hours"
       ]
      },
      {
       "output_type": "stream",
       "stream": "stdout",
       "text": [
        "\r",
        "Finding differences of reclassification 15 for data pairs 45 of 45.  Elapsed time: 1.07036722223 hours"
       ]
      },
      {
       "output_type": "stream",
       "stream": "stdout",
       "text": [
        "\r",
        "Finding differences of reclassification 16 for data pairs 1 of 45.  Elapsed time: 1.07188111107 hours"
       ]
      },
      {
       "output_type": "stream",
       "stream": "stdout",
       "text": [
        "\r",
        "Finding differences of reclassification 16 for data pairs 2 of 45.  Elapsed time: 1.0734163889 hours"
       ]
      },
      {
       "output_type": "stream",
       "stream": "stdout",
       "text": [
        "\r",
        "Finding differences of reclassification 16 for data pairs 3 of 45.  Elapsed time: 1.07490666668 hours"
       ]
      },
      {
       "output_type": "stream",
       "stream": "stdout",
       "text": [
        "\r",
        "Finding differences of reclassification 16 for data pairs 4 of 45.  Elapsed time: 1.07642250001 hours"
       ]
      },
      {
       "output_type": "stream",
       "stream": "stdout",
       "text": [
        "\r",
        "Finding differences of reclassification 16 for data pairs 5 of 45.  Elapsed time: 1.07793361108 hours"
       ]
      },
      {
       "output_type": "stream",
       "stream": "stdout",
       "text": [
        "\r",
        "Finding differences of reclassification 16 for data pairs 6 of 45.  Elapsed time: 1.07942388886 hours"
       ]
      },
      {
       "output_type": "stream",
       "stream": "stdout",
       "text": [
        "\r",
        "Finding differences of reclassification 16 for data pairs 7 of 45.  Elapsed time: 1.0810083333 hours"
       ]
      },
      {
       "output_type": "stream",
       "stream": "stdout",
       "text": [
        "\r",
        "Finding differences of reclassification 16 for data pairs 8 of 45.  Elapsed time: 1.08257055554 hours"
       ]
      },
      {
       "output_type": "stream",
       "stream": "stdout",
       "text": [
        "\r",
        "Finding differences of reclassification 16 for data pairs 9 of 45.  Elapsed time: 1.08408277777 hours"
       ]
      },
      {
       "output_type": "stream",
       "stream": "stdout",
       "text": [
        "\r",
        "Finding differences of reclassification 16 for data pairs 10 of 45.  Elapsed time: 1.08569694446 hours"
       ]
      },
      {
       "output_type": "stream",
       "stream": "stdout",
       "text": [
        "\r",
        "Finding differences of reclassification 16 for data pairs 11 of 45.  Elapsed time: 1.0873047222 hours"
       ]
      },
      {
       "output_type": "stream",
       "stream": "stdout",
       "text": [
        "\r",
        "Finding differences of reclassification 16 for data pairs 12 of 45.  Elapsed time: 1.08890055557 hours"
       ]
      },
      {
       "output_type": "stream",
       "stream": "stdout",
       "text": [
        "\r",
        "Finding differences of reclassification 16 for data pairs 13 of 45.  Elapsed time: 1.09053333329 hours"
       ]
      },
      {
       "output_type": "stream",
       "stream": "stdout",
       "text": [
        "\r",
        "Finding differences of reclassification 16 for data pairs 14 of 45.  Elapsed time: 1.09225999998 hours"
       ]
      },
      {
       "output_type": "stream",
       "stream": "stdout",
       "text": [
        "\r",
        "Finding differences of reclassification 16 for data pairs 15 of 45.  Elapsed time: 1.09401638885 hours"
       ]
      },
      {
       "output_type": "stream",
       "stream": "stdout",
       "text": [
        "\r",
        "Finding differences of reclassification 16 for data pairs 16 of 45.  Elapsed time: 1.09568055557 hours"
       ]
      },
      {
       "output_type": "stream",
       "stream": "stdout",
       "text": [
        "\r",
        "Finding differences of reclassification 16 for data pairs 17 of 45.  Elapsed time: 1.0973675 hours"
       ]
      },
      {
       "output_type": "stream",
       "stream": "stdout",
       "text": [
        "\r",
        "Finding differences of reclassification 16 for data pairs 18 of 45.  Elapsed time: 1.09897611108 hours"
       ]
      },
      {
       "output_type": "stream",
       "stream": "stdout",
       "text": [
        "\r",
        "Finding differences of reclassification 16 for data pairs 19 of 45.  Elapsed time: 1.10068694446 hours"
       ]
      },
      {
       "output_type": "stream",
       "stream": "stdout",
       "text": [
        "\r",
        "Finding differences of reclassification 16 for data pairs 20 of 45.  Elapsed time: 1.10237388889 hours"
       ]
      },
      {
       "output_type": "stream",
       "stream": "stdout",
       "text": [
        "\r",
        "Finding differences of reclassification 16 for data pairs 21 of 45.  Elapsed time: 1.10396583332 hours"
       ]
      },
      {
       "output_type": "stream",
       "stream": "stdout",
       "text": [
        "\r",
        "Finding differences of reclassification 16 for data pairs 22 of 45.  Elapsed time: 1.1056219444 hours"
       ]
      },
      {
       "output_type": "stream",
       "stream": "stdout",
       "text": [
        "\r",
        "Finding differences of reclassification 16 for data pairs 23 of 45.  Elapsed time: 1.10724444442 hours"
       ]
      },
      {
       "output_type": "stream",
       "stream": "stdout",
       "text": [
        "\r",
        "Finding differences of reclassification 16 for data pairs 24 of 45.  Elapsed time: 1.10882055554 hours"
       ]
      },
      {
       "output_type": "stream",
       "stream": "stdout",
       "text": [
        "\r",
        "Finding differences of reclassification 16 for data pairs 25 of 45.  Elapsed time: 1.1104097222 hours"
       ]
      },
      {
       "output_type": "stream",
       "stream": "stdout",
       "text": [
        "\r",
        "Finding differences of reclassification 16 for data pairs 26 of 45.  Elapsed time: 1.11199138886 hours"
       ]
      },
      {
       "output_type": "stream",
       "stream": "stdout",
       "text": [
        "\r",
        "Finding differences of reclassification 16 for data pairs 27 of 45.  Elapsed time: 1.11358583331 hours"
       ]
      },
      {
       "output_type": "stream",
       "stream": "stdout",
       "text": [
        "\r",
        "Finding differences of reclassification 16 for data pairs 28 of 45.  Elapsed time: 1.11521499998 hours"
       ]
      },
      {
       "output_type": "stream",
       "stream": "stdout",
       "text": [
        "\r",
        "Finding differences of reclassification 16 for data pairs 29 of 45.  Elapsed time: 1.11680083334 hours"
       ]
      },
      {
       "output_type": "stream",
       "stream": "stdout",
       "text": [
        "\r",
        "Finding differences of reclassification 16 for data pairs 30 of 45.  Elapsed time: 1.11841722223 hours"
       ]
      },
      {
       "output_type": "stream",
       "stream": "stdout",
       "text": [
        "\r",
        "Finding differences of reclassification 16 for data pairs 31 of 45.  Elapsed time: 1.12001 hours"
       ]
      },
      {
       "output_type": "stream",
       "stream": "stdout",
       "text": [
        "\r",
        "Finding differences of reclassification 16 for data pairs 32 of 45.  Elapsed time: 1.12157388886 hours"
       ]
      },
      {
       "output_type": "stream",
       "stream": "stdout",
       "text": [
        "\r",
        "Finding differences of reclassification 16 for data pairs 33 of 45.  Elapsed time: 1.12315444443 hours"
       ]
      },
      {
       "output_type": "stream",
       "stream": "stdout",
       "text": [
        "\r",
        "Finding differences of reclassification 16 for data pairs 34 of 45.  Elapsed time: 1.12472555551 hours"
       ]
      },
      {
       "output_type": "stream",
       "stream": "stdout",
       "text": [
        "\r",
        "Finding differences of reclassification 16 for data pairs 35 of 45.  Elapsed time: 1.12630222221 hours"
       ]
      },
      {
       "output_type": "stream",
       "stream": "stdout",
       "text": [
        "\r",
        "Finding differences of reclassification 16 for data pairs 36 of 45.  Elapsed time: 1.12785805557 hours"
       ]
      },
      {
       "output_type": "stream",
       "stream": "stdout",
       "text": [
        "\r",
        "Finding differences of reclassification 16 for data pairs 37 of 45.  Elapsed time: 1.12944972224 hours"
       ]
      },
      {
       "output_type": "stream",
       "stream": "stdout",
       "text": [
        "\r",
        "Finding differences of reclassification 16 for data pairs 38 of 45.  Elapsed time: 1.13100361109 hours"
       ]
      },
      {
       "output_type": "stream",
       "stream": "stdout",
       "text": [
        "\r",
        "Finding differences of reclassification 16 for data pairs 39 of 45.  Elapsed time: 1.13256750001 hours"
       ]
      },
      {
       "output_type": "stream",
       "stream": "stdout",
       "text": [
        "\r",
        "Finding differences of reclassification 16 for data pairs 40 of 45.  Elapsed time: 1.13415000002 hours"
       ]
      },
      {
       "output_type": "stream",
       "stream": "stdout",
       "text": [
        "\r",
        "Finding differences of reclassification 16 for data pairs 41 of 45.  Elapsed time: 1.13573722223 hours"
       ]
      },
      {
       "output_type": "stream",
       "stream": "stdout",
       "text": [
        "\r",
        "Finding differences of reclassification 16 for data pairs 42 of 45.  Elapsed time: 1.13734166662 hours"
       ]
      },
      {
       "output_type": "stream",
       "stream": "stdout",
       "text": [
        "\r",
        "Finding differences of reclassification 16 for data pairs 43 of 45.  Elapsed time: 1.13892972218 hours"
       ]
      },
      {
       "output_type": "stream",
       "stream": "stdout",
       "text": [
        "\r",
        "Finding differences of reclassification 16 for data pairs 44 of 45.  Elapsed time: 1.14050527778 hours"
       ]
      },
      {
       "output_type": "stream",
       "stream": "stdout",
       "text": [
        "\r",
        "Finding differences of reclassification 16 for data pairs 45 of 45.  Elapsed time: 1.14205138889 hours"
       ]
      },
      {
       "output_type": "stream",
       "stream": "stdout",
       "text": [
        "\r",
        "Finding differences of reclassification 17 for data pairs 1 of 45.  Elapsed time: 1.14361777776 hours"
       ]
      },
      {
       "output_type": "stream",
       "stream": "stdout",
       "text": [
        "\r",
        "Finding differences of reclassification 17 for data pairs 2 of 45.  Elapsed time: 1.14518666665 hours"
       ]
      },
      {
       "output_type": "stream",
       "stream": "stdout",
       "text": [
        "\r",
        "Finding differences of reclassification 17 for data pairs 3 of 45.  Elapsed time: 1.1467313889 hours"
       ]
      },
      {
       "output_type": "stream",
       "stream": "stdout",
       "text": [
        "\r",
        "Finding differences of reclassification 17 for data pairs 4 of 45.  Elapsed time: 1.14830222223 hours"
       ]
      },
      {
       "output_type": "stream",
       "stream": "stdout",
       "text": [
        "\r",
        "Finding differences of reclassification 17 for data pairs 5 of 45.  Elapsed time: 1.14988194446 hours"
       ]
      },
      {
       "output_type": "stream",
       "stream": "stdout",
       "text": [
        "\r",
        "Finding differences of reclassification 17 for data pairs 6 of 45.  Elapsed time: 1.15143555555 hours"
       ]
      },
      {
       "output_type": "stream",
       "stream": "stdout",
       "text": [
        "\r",
        "Finding differences of reclassification 17 for data pairs 7 of 45.  Elapsed time: 1.15300277776 hours"
       ]
      },
      {
       "output_type": "stream",
       "stream": "stdout",
       "text": [
        "\r",
        "Finding differences of reclassification 17 for data pairs 8 of 45.  Elapsed time: 1.15452194446 hours"
       ]
      },
      {
       "output_type": "stream",
       "stream": "stdout",
       "text": [
        "\r",
        "Finding differences of reclassification 17 for data pairs 9 of 45.  Elapsed time: 1.15603694446 hours"
       ]
      },
      {
       "output_type": "stream",
       "stream": "stdout",
       "text": [
        "\r",
        "Finding differences of reclassification 17 for data pairs 10 of 45.  Elapsed time: 1.15752249996 hours"
       ]
      },
      {
       "output_type": "stream",
       "stream": "stdout",
       "text": [
        "\r",
        "Finding differences of reclassification 17 for data pairs 11 of 45.  Elapsed time: 1.15903111107 hours"
       ]
      },
      {
       "output_type": "stream",
       "stream": "stdout",
       "text": [
        "\r",
        "Finding differences of reclassification 17 for data pairs 12 of 45.  Elapsed time: 1.16059916662 hours"
       ]
      },
      {
       "output_type": "stream",
       "stream": "stdout",
       "text": [
        "\r",
        "Finding differences of reclassification 17 for data pairs 13 of 45.  Elapsed time: 1.1621722222 hours"
       ]
      },
      {
       "output_type": "stream",
       "stream": "stdout",
       "text": [
        "\r",
        "Finding differences of reclassification 17 for data pairs 14 of 45.  Elapsed time: 1.16384666668 hours"
       ]
      },
      {
       "output_type": "stream",
       "stream": "stdout",
       "text": [
        "\r",
        "Finding differences of reclassification 17 for data pairs 15 of 45.  Elapsed time: 1.16551027775 hours"
       ]
      },
      {
       "output_type": "stream",
       "stream": "stdout",
       "text": [
        "\r",
        "Finding differences of reclassification 17 for data pairs 16 of 45.  Elapsed time: 1.16719611108 hours"
       ]
      },
      {
       "output_type": "stream",
       "stream": "stdout",
       "text": [
        "\r",
        "Finding differences of reclassification 17 for data pairs 17 of 45.  Elapsed time: 1.16892472221 hours"
       ]
      },
      {
       "output_type": "stream",
       "stream": "stdout",
       "text": [
        "\r",
        "Finding differences of reclassification 17 for data pairs 18 of 45.  Elapsed time: 1.17084083332 hours"
       ]
      },
      {
       "output_type": "stream",
       "stream": "stdout",
       "text": [
        "\r",
        "Finding differences of reclassification 17 for data pairs 19 of 45.  Elapsed time: 1.17258944445 hours"
       ]
      },
      {
       "output_type": "stream",
       "stream": "stdout",
       "text": [
        "\r",
        "Finding differences of reclassification 17 for data pairs 20 of 45.  Elapsed time: 1.17412888885 hours"
       ]
      },
      {
       "output_type": "stream",
       "stream": "stdout",
       "text": [
        "\r",
        "Finding differences of reclassification 17 for data pairs 21 of 45.  Elapsed time: 1.17581416667 hours"
       ]
      },
      {
       "output_type": "stream",
       "stream": "stdout",
       "text": [
        "\r",
        "Finding differences of reclassification 17 for data pairs 22 of 45.  Elapsed time: 1.17745972223 hours"
       ]
      },
      {
       "output_type": "stream",
       "stream": "stdout",
       "text": [
        "\r",
        "Finding differences of reclassification 17 for data pairs 23 of 45.  Elapsed time: 1.17896916668 hours"
       ]
      },
      {
       "output_type": "stream",
       "stream": "stdout",
       "text": [
        "\r",
        "Finding differences of reclassification 17 for data pairs 24 of 45.  Elapsed time: 1.18047388885 hours"
       ]
      },
      {
       "output_type": "stream",
       "stream": "stdout",
       "text": [
        "\r",
        "Finding differences of reclassification 17 for data pairs 25 of 45.  Elapsed time: 1.18200972219 hours"
       ]
      },
      {
       "output_type": "stream",
       "stream": "stdout",
       "text": [
        "\r",
        "Finding differences of reclassification 17 for data pairs 26 of 45.  Elapsed time: 1.18353333334 hours"
       ]
      },
      {
       "output_type": "stream",
       "stream": "stdout",
       "text": [
        "\r",
        "Finding differences of reclassification 17 for data pairs 27 of 45.  Elapsed time: 1.18509333332 hours"
       ]
      },
      {
       "output_type": "stream",
       "stream": "stdout",
       "text": [
        "\r",
        "Finding differences of reclassification 17 for data pairs 28 of 45.  Elapsed time: 1.18667472223 hours"
       ]
      },
      {
       "output_type": "stream",
       "stream": "stdout",
       "text": [
        "\r",
        "Finding differences of reclassification 17 for data pairs 29 of 45.  Elapsed time: 1.18818333334 hours"
       ]
      },
      {
       "output_type": "stream",
       "stream": "stdout",
       "text": [
        "\r",
        "Finding differences of reclassification 17 for data pairs 30 of 45.  Elapsed time: 1.18972777777 hours"
       ]
      },
      {
       "output_type": "stream",
       "stream": "stdout",
       "text": [
        "\r",
        "Finding differences of reclassification 17 for data pairs 31 of 45.  Elapsed time: 1.19125361111 hours"
       ]
      },
      {
       "output_type": "stream",
       "stream": "stdout",
       "text": [
        "\r",
        "Finding differences of reclassification 17 for data pairs 32 of 45.  Elapsed time: 1.19275750001 hours"
       ]
      },
      {
       "output_type": "stream",
       "stream": "stdout",
       "text": [
        "\r",
        "Finding differences of reclassification 17 for data pairs 33 of 45.  Elapsed time: 1.1942911111 hours"
       ]
      },
      {
       "output_type": "stream",
       "stream": "stdout",
       "text": [
        "\r",
        "Finding differences of reclassification 17 for data pairs 34 of 45.  Elapsed time: 1.19581472218 hours"
       ]
      },
      {
       "output_type": "stream",
       "stream": "stdout",
       "text": [
        "\r",
        "Finding differences of reclassification 17 for data pairs 35 of 45.  Elapsed time: 1.19732027776 hours"
       ]
      },
      {
       "output_type": "stream",
       "stream": "stdout",
       "text": [
        "\r",
        "Finding differences of reclassification 17 for data pairs 36 of 45.  Elapsed time: 1.19882805553 hours"
       ]
      },
      {
       "output_type": "stream",
       "stream": "stdout",
       "text": [
        "\r",
        "Finding differences of reclassification 17 for data pairs 37 of 45.  Elapsed time: 1.20035972218 hours"
       ]
      },
      {
       "output_type": "stream",
       "stream": "stdout",
       "text": [
        "\r",
        "Finding differences of reclassification 17 for data pairs 38 of 45.  Elapsed time: 1.20185222222 hours"
       ]
      },
      {
       "output_type": "stream",
       "stream": "stdout",
       "text": [
        "\r",
        "Finding differences of reclassification 17 for data pairs 39 of 45.  Elapsed time: 1.20336250001 hours"
       ]
      },
      {
       "output_type": "stream",
       "stream": "stdout",
       "text": [
        "\r",
        "Finding differences of reclassification 17 for data pairs 40 of 45.  Elapsed time: 1.20489138888 hours"
       ]
      },
      {
       "output_type": "stream",
       "stream": "stdout",
       "text": [
        "\r",
        "Finding differences of reclassification 17 for data pairs 41 of 45.  Elapsed time: 1.20641611112 hours"
       ]
      },
      {
       "output_type": "stream",
       "stream": "stdout",
       "text": [
        "\r",
        "Finding differences of reclassification 17 for data pairs 42 of 45.  Elapsed time: 1.20796027773 hours"
       ]
      },
      {
       "output_type": "stream",
       "stream": "stdout",
       "text": [
        "\r",
        "Finding differences of reclassification 17 for data pairs 43 of 45.  Elapsed time: 1.20949249996 hours"
       ]
      },
      {
       "output_type": "stream",
       "stream": "stdout",
       "text": [
        "\r",
        "Finding differences of reclassification 17 for data pairs 44 of 45.  Elapsed time: 1.2109983333 hours"
       ]
      },
      {
       "output_type": "stream",
       "stream": "stdout",
       "text": [
        "\r",
        "Finding differences of reclassification 17 for data pairs 45 of 45.  Elapsed time: 1.2125011111 hours"
       ]
      },
      {
       "output_type": "stream",
       "stream": "stdout",
       "text": [
        "\r",
        "Finding differences of reclassification 18 for data pairs 1 of 45.  Elapsed time: 1.21401166664 hours"
       ]
      },
      {
       "output_type": "stream",
       "stream": "stdout",
       "text": [
        "\r",
        "Finding differences of reclassification 18 for data pairs 2 of 45.  Elapsed time: 1.21552166667 hours"
       ]
      },
      {
       "output_type": "stream",
       "stream": "stdout",
       "text": [
        "\r",
        "Finding differences of reclassification 18 for data pairs 3 of 45.  Elapsed time: 1.21702888886 hours"
       ]
      },
      {
       "output_type": "stream",
       "stream": "stdout",
       "text": [
        "\r",
        "Finding differences of reclassification 18 for data pairs 4 of 45.  Elapsed time: 1.21856805556 hours"
       ]
      },
      {
       "output_type": "stream",
       "stream": "stdout",
       "text": [
        "\r",
        "Finding differences of reclassification 18 for data pairs 5 of 45.  Elapsed time: 1.22010694444 hours"
       ]
      },
      {
       "output_type": "stream",
       "stream": "stdout",
       "text": [
        "\r",
        "Finding differences of reclassification 18 for data pairs 6 of 45.  Elapsed time: 1.22170388891 hours"
       ]
      },
      {
       "output_type": "stream",
       "stream": "stdout",
       "text": [
        "\r",
        "Finding differences of reclassification 18 for data pairs 7 of 45.  Elapsed time: 1.22337944441 hours"
       ]
      },
      {
       "output_type": "stream",
       "stream": "stdout",
       "text": [
        "\r",
        "Finding differences of reclassification 18 for data pairs 8 of 45.  Elapsed time: 1.22524027778 hours"
       ]
      },
      {
       "output_type": "stream",
       "stream": "stdout",
       "text": [
        "\r",
        "Finding differences of reclassification 18 for data pairs 9 of 45.  Elapsed time: 1.22705444442 hours"
       ]
      },
      {
       "output_type": "stream",
       "stream": "stdout",
       "text": [
        "\r",
        "Finding differences of reclassification 18 for data pairs 10 of 45.  Elapsed time: 1.22904305551 hours"
       ]
      },
      {
       "output_type": "stream",
       "stream": "stdout",
       "text": [
        "\r",
        "Finding differences of reclassification 18 for data pairs 11 of 45.  Elapsed time: 1.23081527776 hours"
       ]
      },
      {
       "output_type": "stream",
       "stream": "stdout",
       "text": [
        "\r",
        "Finding differences of reclassification 18 for data pairs 12 of 45.  Elapsed time: 1.23253888885 hours"
       ]
      },
      {
       "output_type": "stream",
       "stream": "stdout",
       "text": [
        "\r",
        "Finding differences of reclassification 18 for data pairs 13 of 45.  Elapsed time: 1.23423222224 hours"
       ]
      },
      {
       "output_type": "stream",
       "stream": "stdout",
       "text": [
        "\r",
        "Finding differences of reclassification 18 for data pairs 14 of 45.  Elapsed time: 1.23583249999 hours"
       ]
      },
      {
       "output_type": "stream",
       "stream": "stdout",
       "text": [
        "\r",
        "Finding differences of reclassification 18 for data pairs 15 of 45.  Elapsed time: 1.23739111112 hours"
       ]
      },
      {
       "output_type": "stream",
       "stream": "stdout",
       "text": [
        "\r",
        "Finding differences of reclassification 18 for data pairs 16 of 45.  Elapsed time: 1.23893055552 hours"
       ]
      },
      {
       "output_type": "stream",
       "stream": "stdout",
       "text": [
        "\r",
        "Finding differences of reclassification 18 for data pairs 17 of 45.  Elapsed time: 1.2406208333 hours"
       ]
      },
      {
       "output_type": "stream",
       "stream": "stdout",
       "text": [
        "\r",
        "Finding differences of reclassification 18 for data pairs 18 of 45.  Elapsed time: 1.24233166668 hours"
       ]
      },
      {
       "output_type": "stream",
       "stream": "stdout",
       "text": [
        "\r",
        "Finding differences of reclassification 18 for data pairs 19 of 45.  Elapsed time: 1.24403138889 hours"
       ]
      },
      {
       "output_type": "stream",
       "stream": "stdout",
       "text": [
        "\r",
        "Finding differences of reclassification 18 for data pairs 20 of 45.  Elapsed time: 1.2455422222 hours"
       ]
      },
      {
       "output_type": "stream",
       "stream": "stdout",
       "text": [
        "\r",
        "Finding differences of reclassification 18 for data pairs 21 of 45.  Elapsed time: 1.24708388885 hours"
       ]
      },
      {
       "output_type": "stream",
       "stream": "stdout",
       "text": [
        "\r",
        "Finding differences of reclassification 18 for data pairs 22 of 45.  Elapsed time: 1.24862249997 hours"
       ]
      },
      {
       "output_type": "stream",
       "stream": "stdout",
       "text": [
        "\r",
        "Finding differences of reclassification 18 for data pairs 23 of 45.  Elapsed time: 1.25013083332 hours"
       ]
      },
      {
       "output_type": "stream",
       "stream": "stdout",
       "text": [
        "\r",
        "Finding differences of reclassification 18 for data pairs 24 of 45.  Elapsed time: 1.25163722224 hours"
       ]
      },
      {
       "output_type": "stream",
       "stream": "stdout",
       "text": [
        "\r",
        "Finding differences of reclassification 18 for data pairs 25 of 45.  Elapsed time: 1.25320055551 hours"
       ]
      },
      {
       "output_type": "stream",
       "stream": "stdout",
       "text": [
        "\r",
        "Finding differences of reclassification 18 for data pairs 26 of 45.  Elapsed time: 1.25484861109 hours"
       ]
      },
      {
       "output_type": "stream",
       "stream": "stdout",
       "text": [
        "\r",
        "Finding differences of reclassification 18 for data pairs 27 of 45.  Elapsed time: 1.25641416662 hours"
       ]
      },
      {
       "output_type": "stream",
       "stream": "stdout",
       "text": [
        "\r",
        "Finding differences of reclassification 18 for data pairs 28 of 45.  Elapsed time: 1.25797999998 hours"
       ]
      },
      {
       "output_type": "stream",
       "stream": "stdout",
       "text": [
        "\r",
        "Finding differences of reclassification 18 for data pairs 29 of 45.  Elapsed time: 1.2595144444 hours"
       ]
      },
      {
       "output_type": "stream",
       "stream": "stdout",
       "text": [
        "\r",
        "Finding differences of reclassification 18 for data pairs 30 of 45.  Elapsed time: 1.26104416668 hours"
       ]
      },
      {
       "output_type": "stream",
       "stream": "stdout",
       "text": [
        "\r",
        "Finding differences of reclassification 18 for data pairs 31 of 45.  Elapsed time: 1.26256194446 hours"
       ]
      },
      {
       "output_type": "stream",
       "stream": "stdout",
       "text": [
        "\r",
        "Finding differences of reclassification 18 for data pairs 32 of 45.  Elapsed time: 1.26405361109 hours"
       ]
      },
      {
       "output_type": "stream",
       "stream": "stdout",
       "text": [
        "\r",
        "Finding differences of reclassification 18 for data pairs 33 of 45.  Elapsed time: 1.26561722219 hours"
       ]
      },
      {
       "output_type": "stream",
       "stream": "stdout",
       "text": [
        "\r",
        "Finding differences of reclassification 18 for data pairs 34 of 45.  Elapsed time: 1.26713222219 hours"
       ]
      },
      {
       "output_type": "stream",
       "stream": "stdout",
       "text": [
        "\r",
        "Finding differences of reclassification 18 for data pairs 35 of 45.  Elapsed time: 1.26868388885 hours"
       ]
      },
      {
       "output_type": "stream",
       "stream": "stdout",
       "text": [
        "\r",
        "Finding differences of reclassification 18 for data pairs 36 of 45.  Elapsed time: 1.27018888884 hours"
       ]
      },
      {
       "output_type": "stream",
       "stream": "stdout",
       "text": [
        "\r",
        "Finding differences of reclassification 18 for data pairs 37 of 45.  Elapsed time: 1.2717272222 hours"
       ]
      },
      {
       "output_type": "stream",
       "stream": "stdout",
       "text": [
        "\r",
        "Finding differences of reclassification 18 for data pairs 38 of 45.  Elapsed time: 1.27323444446 hours"
       ]
      },
      {
       "output_type": "stream",
       "stream": "stdout",
       "text": [
        "\r",
        "Finding differences of reclassification 18 for data pairs 39 of 45.  Elapsed time: 1.27475555552 hours"
       ]
      },
      {
       "output_type": "stream",
       "stream": "stdout",
       "text": [
        "\r",
        "Finding differences of reclassification 18 for data pairs 40 of 45.  Elapsed time: 1.27629111111 hours"
       ]
      },
      {
       "output_type": "stream",
       "stream": "stdout",
       "text": [
        "\r",
        "Finding differences of reclassification 18 for data pairs 41 of 45.  Elapsed time: 1.27782305552 hours"
       ]
      },
      {
       "output_type": "stream",
       "stream": "stdout",
       "text": [
        "\r",
        "Finding differences of reclassification 18 for data pairs 42 of 45.  Elapsed time: 1.27939249999 hours"
       ]
      },
      {
       "output_type": "stream",
       "stream": "stdout",
       "text": [
        "\r",
        "Finding differences of reclassification 18 for data pairs 43 of 45.  Elapsed time: 1.28094055553 hours"
       ]
      },
      {
       "output_type": "stream",
       "stream": "stdout",
       "text": [
        "\r",
        "Finding differences of reclassification 18 for data pairs 44 of 45.  Elapsed time: 1.2824513889 hours"
       ]
      },
      {
       "output_type": "stream",
       "stream": "stdout",
       "text": [
        "\r",
        "Finding differences of reclassification 18 for data pairs 45 of 45.  Elapsed time: 1.2839522222 hours"
       ]
      },
      {
       "output_type": "stream",
       "stream": "stdout",
       "text": [
        "\r",
        "Finding differences of reclassification 19 for data pairs 1 of 45.  Elapsed time: 1.28545666668 hours"
       ]
      },
      {
       "output_type": "stream",
       "stream": "stdout",
       "text": [
        "\r",
        "Finding differences of reclassification 19 for data pairs 2 of 45.  Elapsed time: 1.28698166668 hours"
       ]
      },
      {
       "output_type": "stream",
       "stream": "stdout",
       "text": [
        "\r",
        "Finding differences of reclassification 19 for data pairs 3 of 45.  Elapsed time: 1.28849166665 hours"
       ]
      },
      {
       "output_type": "stream",
       "stream": "stdout",
       "text": [
        "\r",
        "Finding differences of reclassification 19 for data pairs 4 of 45.  Elapsed time: 1.29000972218 hours"
       ]
      },
      {
       "output_type": "stream",
       "stream": "stdout",
       "text": [
        "\r",
        "Finding differences of reclassification 19 for data pairs 5 of 45.  Elapsed time: 1.29154194441 hours"
       ]
      },
      {
       "output_type": "stream",
       "stream": "stdout",
       "text": [
        "\r",
        "Finding differences of reclassification 19 for data pairs 6 of 45.  Elapsed time: 1.29303583331 hours"
       ]
      },
      {
       "output_type": "stream",
       "stream": "stdout",
       "text": [
        "\r",
        "Finding differences of reclassification 19 for data pairs 7 of 45.  Elapsed time: 1.29455166664 hours"
       ]
      },
      {
       "output_type": "stream",
       "stream": "stdout",
       "text": [
        "\r",
        "Finding differences of reclassification 19 for data pairs 8 of 45.  Elapsed time: 1.29607138885 hours"
       ]
      },
      {
       "output_type": "stream",
       "stream": "stdout",
       "text": [
        "\r",
        "Finding differences of reclassification 19 for data pairs 9 of 45.  Elapsed time: 1.29757750001 hours"
       ]
      },
      {
       "output_type": "stream",
       "stream": "stdout",
       "text": [
        "\r",
        "Finding differences of reclassification 19 for data pairs 10 of 45.  Elapsed time: 1.29909055551 hours"
       ]
      },
      {
       "output_type": "stream",
       "stream": "stdout",
       "text": [
        "\r",
        "Finding differences of reclassification 19 for data pairs 11 of 45.  Elapsed time: 1.30060305556 hours"
       ]
      },
      {
       "output_type": "stream",
       "stream": "stdout",
       "text": [
        "\r",
        "Finding differences of reclassification 19 for data pairs 12 of 45.  Elapsed time: 1.30214055551 hours"
       ]
      },
      {
       "output_type": "stream",
       "stream": "stdout",
       "text": [
        "\r",
        "Finding differences of reclassification 19 for data pairs 13 of 45.  Elapsed time: 1.30364555551 hours"
       ]
      },
      {
       "output_type": "stream",
       "stream": "stdout",
       "text": [
        "\r",
        "Finding differences of reclassification 19 for data pairs 14 of 45.  Elapsed time: 1.30514555554 hours"
       ]
      },
      {
       "output_type": "stream",
       "stream": "stdout",
       "text": [
        "\r",
        "Finding differences of reclassification 19 for data pairs 15 of 45.  Elapsed time: 1.30670444442 hours"
       ]
      },
      {
       "output_type": "stream",
       "stream": "stdout",
       "text": [
        "\r",
        "Finding differences of reclassification 19 for data pairs 16 of 45.  Elapsed time: 1.30820777774 hours"
       ]
      },
      {
       "output_type": "stream",
       "stream": "stdout",
       "text": [
        "\r",
        "Finding differences of reclassification 19 for data pairs 17 of 45.  Elapsed time: 1.30972861111 hours"
       ]
      },
      {
       "output_type": "stream",
       "stream": "stdout",
       "text": [
        "\r",
        "Finding differences of reclassification 19 for data pairs 18 of 45.  Elapsed time: 1.31124083334 hours"
       ]
      },
      {
       "output_type": "stream",
       "stream": "stdout",
       "text": [
        "\r",
        "Finding differences of reclassification 19 for data pairs 19 of 45.  Elapsed time: 1.31276138888 hours"
       ]
      },
      {
       "output_type": "stream",
       "stream": "stdout",
       "text": [
        "\r",
        "Finding differences of reclassification 19 for data pairs 20 of 45.  Elapsed time: 1.31424638887 hours"
       ]
      },
      {
       "output_type": "stream",
       "stream": "stdout",
       "text": [
        "\r",
        "Finding differences of reclassification 19 for data pairs 21 of 45.  Elapsed time: 1.3157697222 hours"
       ]
      },
      {
       "output_type": "stream",
       "stream": "stdout",
       "text": [
        "\r",
        "Finding differences of reclassification 19 for data pairs 22 of 45.  Elapsed time: 1.31730138885 hours"
       ]
      },
      {
       "output_type": "stream",
       "stream": "stdout",
       "text": [
        "\r",
        "Finding differences of reclassification 19 for data pairs 23 of 45.  Elapsed time: 1.31879361106 hours"
       ]
      },
      {
       "output_type": "stream",
       "stream": "stdout",
       "text": [
        "\r",
        "Finding differences of reclassification 19 for data pairs 24 of 45.  Elapsed time: 1.32030416667 hours"
       ]
      },
      {
       "output_type": "stream",
       "stream": "stdout",
       "text": [
        "\r",
        "Finding differences of reclassification 19 for data pairs 25 of 45.  Elapsed time: 1.3218163889 hours"
       ]
      },
      {
       "output_type": "stream",
       "stream": "stdout",
       "text": [
        "\r",
        "Finding differences of reclassification 19 for data pairs 26 of 45.  Elapsed time: 1.32335722221 hours"
       ]
      },
      {
       "output_type": "stream",
       "stream": "stdout",
       "text": [
        "\r",
        "Finding differences of reclassification 19 for data pairs 27 of 45.  Elapsed time: 1.32489444441 hours"
       ]
      },
      {
       "output_type": "stream",
       "stream": "stdout",
       "text": [
        "\r",
        "Finding differences of reclassification 19 for data pairs 28 of 45.  Elapsed time: 1.32643083334 hours"
       ]
      },
      {
       "output_type": "stream",
       "stream": "stdout",
       "text": [
        "\r",
        "Finding differences of reclassification 19 for data pairs 29 of 45.  Elapsed time: 1.32793527775 hours"
       ]
      },
      {
       "output_type": "stream",
       "stream": "stdout",
       "text": [
        "\r",
        "Finding differences of reclassification 19 for data pairs 30 of 45.  Elapsed time: 1.32945722222 hours"
       ]
      },
      {
       "output_type": "stream",
       "stream": "stdout",
       "text": [
        "\r",
        "Finding differences of reclassification 19 for data pairs 31 of 45.  Elapsed time: 1.3309597222 hours"
       ]
      },
      {
       "output_type": "stream",
       "stream": "stdout",
       "text": [
        "\r",
        "Finding differences of reclassification 19 for data pairs 32 of 45.  Elapsed time: 1.33244472219 hours"
       ]
      },
      {
       "output_type": "stream",
       "stream": "stdout",
       "text": [
        "\r",
        "Finding differences of reclassification 19 for data pairs 33 of 45.  Elapsed time: 1.33397138887 hours"
       ]
      },
      {
       "output_type": "stream",
       "stream": "stdout",
       "text": [
        "\r",
        "Finding differences of reclassification 19 for data pairs 34 of 45.  Elapsed time: 1.33550222218 hours"
       ]
      },
      {
       "output_type": "stream",
       "stream": "stdout",
       "text": [
        "\r",
        "Finding differences of reclassification 19 for data pairs 35 of 45.  Elapsed time: 1.3370086111 hours"
       ]
      },
      {
       "output_type": "stream",
       "stream": "stdout",
       "text": [
        "\r",
        "Finding differences of reclassification 19 for data pairs 36 of 45.  Elapsed time: 1.33852583329 hours"
       ]
      },
      {
       "output_type": "stream",
       "stream": "stdout",
       "text": [
        "\r",
        "Finding differences of reclassification 19 for data pairs 37 of 45.  Elapsed time: 1.34013888889 hours"
       ]
      },
      {
       "output_type": "stream",
       "stream": "stdout",
       "text": [
        "\r",
        "Finding differences of reclassification 19 for data pairs 38 of 45.  Elapsed time: 1.34172638887 hours"
       ]
      },
      {
       "output_type": "stream",
       "stream": "stdout",
       "text": [
        "\r",
        "Finding differences of reclassification 19 for data pairs 39 of 45.  Elapsed time: 1.34326499999 hours"
       ]
      },
      {
       "output_type": "stream",
       "stream": "stdout",
       "text": [
        "\r",
        "Finding differences of reclassification 19 for data pairs 40 of 45.  Elapsed time: 1.34489999996 hours"
       ]
      },
      {
       "output_type": "stream",
       "stream": "stdout",
       "text": [
        "\r",
        "Finding differences of reclassification 19 for data pairs 41 of 45.  Elapsed time: 1.3464786111 hours"
       ]
      },
      {
       "output_type": "stream",
       "stream": "stdout",
       "text": [
        "\r",
        "Finding differences of reclassification 19 for data pairs 42 of 45.  Elapsed time: 1.3480622222 hours"
       ]
      },
      {
       "output_type": "stream",
       "stream": "stdout",
       "text": [
        "\r",
        "Finding differences of reclassification 19 for data pairs 43 of 45.  Elapsed time: 1.3496247222 hours"
       ]
      },
      {
       "output_type": "stream",
       "stream": "stdout",
       "text": [
        "\r",
        "Finding differences of reclassification 19 for data pairs 44 of 45.  Elapsed time: 1.35117916663 hours"
       ]
      },
      {
       "output_type": "stream",
       "stream": "stdout",
       "text": [
        "\r",
        "Finding differences of reclassification 19 for data pairs 45 of 45.  Elapsed time: 1.35269611107 hours"
       ]
      },
      {
       "output_type": "stream",
       "stream": "stdout",
       "text": [
        "\r",
        "Finding differences of reclassification 20 for data pairs 1 of 45.  Elapsed time: 1.35424166666 hours"
       ]
      },
      {
       "output_type": "stream",
       "stream": "stdout",
       "text": [
        "\r",
        "Finding differences of reclassification 20 for data pairs 2 of 45.  Elapsed time: 1.35575777776 hours"
       ]
      },
      {
       "output_type": "stream",
       "stream": "stdout",
       "text": [
        "\r",
        "Finding differences of reclassification 20 for data pairs 3 of 45.  Elapsed time: 1.35725055556 hours"
       ]
      },
      {
       "output_type": "stream",
       "stream": "stdout",
       "text": [
        "\r",
        "Finding differences of reclassification 20 for data pairs 4 of 45.  Elapsed time: 1.35877722224 hours"
       ]
      },
      {
       "output_type": "stream",
       "stream": "stdout",
       "text": [
        "\r",
        "Finding differences of reclassification 20 for data pairs 5 of 45.  Elapsed time: 1.36031666663 hours"
       ]
      },
      {
       "output_type": "stream",
       "stream": "stdout",
       "text": [
        "\r",
        "Finding differences of reclassification 20 for data pairs 6 of 45.  Elapsed time: 1.36184805552 hours"
       ]
      },
      {
       "output_type": "stream",
       "stream": "stdout",
       "text": [
        "\r",
        "Finding differences of reclassification 20 for data pairs 7 of 45.  Elapsed time: 1.36341083335 hours"
       ]
      },
      {
       "output_type": "stream",
       "stream": "stdout",
       "text": [
        "\r",
        "Finding differences of reclassification 20 for data pairs 8 of 45.  Elapsed time: 1.36503972219 hours"
       ]
      },
      {
       "output_type": "stream",
       "stream": "stdout",
       "text": [
        "\r",
        "Finding differences of reclassification 20 for data pairs 9 of 45.  Elapsed time: 1.36665583332 hours"
       ]
      },
      {
       "output_type": "stream",
       "stream": "stdout",
       "text": [
        "\r",
        "Finding differences of reclassification 20 for data pairs 10 of 45.  Elapsed time: 1.3682169444 hours"
       ]
      },
      {
       "output_type": "stream",
       "stream": "stdout",
       "text": [
        "\r",
        "Finding differences of reclassification 20 for data pairs 11 of 45.  Elapsed time: 1.36987583333 hours"
       ]
      },
      {
       "output_type": "stream",
       "stream": "stdout",
       "text": [
        "\r",
        "Finding differences of reclassification 20 for data pairs 12 of 45.  Elapsed time: 1.37159749998 hours"
       ]
      },
      {
       "output_type": "stream",
       "stream": "stdout",
       "text": [
        "\r",
        "Finding differences of reclassification 20 for data pairs 13 of 45.  Elapsed time: 1.37324249996 hours"
       ]
      },
      {
       "output_type": "stream",
       "stream": "stdout",
       "text": [
        "\r",
        "Finding differences of reclassification 20 for data pairs 14 of 45.  Elapsed time: 1.37484527773 hours"
       ]
      },
      {
       "output_type": "stream",
       "stream": "stdout",
       "text": [
        "\r",
        "Finding differences of reclassification 20 for data pairs 15 of 45.  Elapsed time: 1.37650999996 hours"
       ]
      },
      {
       "output_type": "stream",
       "stream": "stdout",
       "text": [
        "\r",
        "Finding differences of reclassification 20 for data pairs 16 of 45.  Elapsed time: 1.37806416664 hours"
       ]
      },
      {
       "output_type": "stream",
       "stream": "stdout",
       "text": [
        "\r",
        "Finding differences of reclassification 20 for data pairs 17 of 45.  Elapsed time: 1.37964361111 hours"
       ]
      },
      {
       "output_type": "stream",
       "stream": "stdout",
       "text": [
        "\r",
        "Finding differences of reclassification 20 for data pairs 18 of 45.  Elapsed time: 1.38126527773 hours"
       ]
      },
      {
       "output_type": "stream",
       "stream": "stdout",
       "text": [
        "\r",
        "Finding differences of reclassification 20 for data pairs 19 of 45.  Elapsed time: 1.3830897222 hours"
       ]
      },
      {
       "output_type": "stream",
       "stream": "stdout",
       "text": [
        "\r",
        "Finding differences of reclassification 20 for data pairs 20 of 45.  Elapsed time: 1.38465305554 hours"
       ]
      },
      {
       "output_type": "stream",
       "stream": "stdout",
       "text": [
        "\r",
        "Finding differences of reclassification 20 for data pairs 21 of 45.  Elapsed time: 1.38622027775 hours"
       ]
      },
      {
       "output_type": "stream",
       "stream": "stdout",
       "text": [
        "\r",
        "Finding differences of reclassification 20 for data pairs 22 of 45.  Elapsed time: 1.38783333335 hours"
       ]
      },
      {
       "output_type": "stream",
       "stream": "stdout",
       "text": [
        "\r",
        "Finding differences of reclassification 20 for data pairs 23 of 45.  Elapsed time: 1.38945861108 hours"
       ]
      },
      {
       "output_type": "stream",
       "stream": "stdout",
       "text": [
        "\r",
        "Finding differences of reclassification 20 for data pairs 24 of 45.  Elapsed time: 1.39118555552 hours"
       ]
      },
      {
       "output_type": "stream",
       "stream": "stdout",
       "text": [
        "\r",
        "Finding differences of reclassification 20 for data pairs 25 of 45.  Elapsed time: 1.39293027778 hours"
       ]
      },
      {
       "output_type": "stream",
       "stream": "stdout",
       "text": [
        "\r",
        "Finding differences of reclassification 20 for data pairs 26 of 45.  Elapsed time: 1.3945508333 hours"
       ]
      },
      {
       "output_type": "stream",
       "stream": "stdout",
       "text": [
        "\r",
        "Finding differences of reclassification 20 for data pairs 27 of 45.  Elapsed time: 1.39618138889 hours"
       ]
      },
      {
       "output_type": "stream",
       "stream": "stdout",
       "text": [
        "\r",
        "Finding differences of reclassification 20 for data pairs 28 of 45.  Elapsed time: 1.39788000001 hours"
       ]
      },
      {
       "output_type": "stream",
       "stream": "stdout",
       "text": [
        "\r",
        "Finding differences of reclassification 20 for data pairs 29 of 45.  Elapsed time: 1.39952805552 hours"
       ]
      },
      {
       "output_type": "stream",
       "stream": "stdout",
       "text": [
        "\r",
        "Finding differences of reclassification 20 for data pairs 30 of 45.  Elapsed time: 1.40118666662 hours"
       ]
      },
      {
       "output_type": "stream",
       "stream": "stdout",
       "text": [
        "\r",
        "Finding differences of reclassification 20 for data pairs 31 of 45.  Elapsed time: 1.40283805556 hours"
       ]
      },
      {
       "output_type": "stream",
       "stream": "stdout",
       "text": [
        "\r",
        "Finding differences of reclassification 20 for data pairs 32 of 45.  Elapsed time: 1.40444277777 hours"
       ]
      },
      {
       "output_type": "stream",
       "stream": "stdout",
       "text": [
        "\r",
        "Finding differences of reclassification 20 for data pairs 33 of 45.  Elapsed time: 1.40606388887 hours"
       ]
      },
      {
       "output_type": "stream",
       "stream": "stdout",
       "text": [
        "\r",
        "Finding differences of reclassification 20 for data pairs 34 of 45.  Elapsed time: 1.40796055555 hours"
       ]
      },
      {
       "output_type": "stream",
       "stream": "stdout",
       "text": [
        "\r",
        "Finding differences of reclassification 20 for data pairs 35 of 45.  Elapsed time: 1.40973583334 hours"
       ]
      },
      {
       "output_type": "stream",
       "stream": "stdout",
       "text": [
        "\r",
        "Finding differences of reclassification 20 for data pairs 36 of 45.  Elapsed time: 1.41137638887 hours"
       ]
      },
      {
       "output_type": "stream",
       "stream": "stdout",
       "text": [
        "\r",
        "Finding differences of reclassification 20 for data pairs 37 of 45.  Elapsed time: 1.41304972218 hours"
       ]
      },
      {
       "output_type": "stream",
       "stream": "stdout",
       "text": [
        "\r",
        "Finding differences of reclassification 20 for data pairs 38 of 45.  Elapsed time: 1.41487083329 hours"
       ]
      },
      {
       "output_type": "stream",
       "stream": "stdout",
       "text": [
        "\r",
        "Finding differences of reclassification 20 for data pairs 39 of 45.  Elapsed time: 1.41647277779 hours"
       ]
      },
      {
       "output_type": "stream",
       "stream": "stdout",
       "text": [
        "\r",
        "Finding differences of reclassification 20 for data pairs 40 of 45.  Elapsed time: 1.41844833334 hours"
       ]
      },
      {
       "output_type": "stream",
       "stream": "stdout",
       "text": [
        "\r",
        "Finding differences of reclassification 20 for data pairs 41 of 45.  Elapsed time: 1.42026222222 hours"
       ]
      },
      {
       "output_type": "stream",
       "stream": "stdout",
       "text": [
        "\r",
        "Finding differences of reclassification 20 for data pairs 42 of 45.  Elapsed time: 1.42208333333 hours"
       ]
      },
      {
       "output_type": "stream",
       "stream": "stdout",
       "text": [
        "\r",
        "Finding differences of reclassification 20 for data pairs 43 of 45.  Elapsed time: 1.42377499998 hours"
       ]
      },
      {
       "output_type": "stream",
       "stream": "stdout",
       "text": [
        "\r",
        "Finding differences of reclassification 20 for data pairs 44 of 45.  Elapsed time: 1.4253822222 hours"
       ]
      },
      {
       "output_type": "stream",
       "stream": "stdout",
       "text": [
        "\r",
        "Finding differences of reclassification 20 for data pairs 45 of 45.  Elapsed time: 1.42700666666 hours"
       ]
      },
      {
       "output_type": "stream",
       "stream": "stdout",
       "text": [
        "\r",
        "Finding differences of reclassification 21 for data pairs 1 of 45.  Elapsed time: 1.42864027778 hours"
       ]
      },
      {
       "output_type": "stream",
       "stream": "stdout",
       "text": [
        "\r",
        "Finding differences of reclassification 21 for data pairs 2 of 45.  Elapsed time: 1.43025666667 hours"
       ]
      },
      {
       "output_type": "stream",
       "stream": "stdout",
       "text": [
        "\r",
        "Finding differences of reclassification 21 for data pairs 3 of 45.  Elapsed time: 1.43186111112 hours"
       ]
      },
      {
       "output_type": "stream",
       "stream": "stdout",
       "text": [
        "\r",
        "Finding differences of reclassification 21 for data pairs 4 of 45.  Elapsed time: 1.43352916665 hours"
       ]
      },
      {
       "output_type": "stream",
       "stream": "stdout",
       "text": [
        "\r",
        "Finding differences of reclassification 21 for data pairs 5 of 45.  Elapsed time: 1.43511166665 hours"
       ]
      },
      {
       "output_type": "stream",
       "stream": "stdout",
       "text": [
        "\r",
        "Finding differences of reclassification 21 for data pairs 6 of 45.  Elapsed time: 1.4366919444 hours"
       ]
      },
      {
       "output_type": "stream",
       "stream": "stdout",
       "text": [
        "\r",
        "Finding differences of reclassification 21 for data pairs 7 of 45.  Elapsed time: 1.43829666668 hours"
       ]
      },
      {
       "output_type": "stream",
       "stream": "stdout",
       "text": [
        "\r",
        "Finding differences of reclassification 21 for data pairs 8 of 45.  Elapsed time: 1.43986083329 hours"
       ]
      },
      {
       "output_type": "stream",
       "stream": "stdout",
       "text": [
        "\r",
        "Finding differences of reclassification 21 for data pairs 9 of 45.  Elapsed time: 1.44142666664 hours"
       ]
      },
      {
       "output_type": "stream",
       "stream": "stdout",
       "text": [
        "\r",
        "Finding differences of reclassification 21 for data pairs 10 of 45.  Elapsed time: 1.44296027773 hours"
       ]
      },
      {
       "output_type": "stream",
       "stream": "stdout",
       "text": [
        "\r",
        "Finding differences of reclassification 21 for data pairs 11 of 45.  Elapsed time: 1.44450138887 hours"
       ]
      },
      {
       "output_type": "stream",
       "stream": "stdout",
       "text": [
        "\r",
        "Finding differences of reclassification 21 for data pairs 12 of 45.  Elapsed time: 1.44609555556 hours"
       ]
      },
      {
       "output_type": "stream",
       "stream": "stdout",
       "text": [
        "\r",
        "Finding differences of reclassification 21 for data pairs 13 of 45.  Elapsed time: 1.44764194442 hours"
       ]
      },
      {
       "output_type": "stream",
       "stream": "stdout",
       "text": [
        "\r",
        "Finding differences of reclassification 21 for data pairs 14 of 45.  Elapsed time: 1.4491908333 hours"
       ]
      },
      {
       "output_type": "stream",
       "stream": "stdout",
       "text": [
        "\r",
        "Finding differences of reclassification 21 for data pairs 15 of 45.  Elapsed time: 1.45077055554 hours"
       ]
      },
      {
       "output_type": "stream",
       "stream": "stdout",
       "text": [
        "\r",
        "Finding differences of reclassification 21 for data pairs 16 of 45.  Elapsed time: 1.4523169444 hours"
       ]
      },
      {
       "output_type": "stream",
       "stream": "stdout",
       "text": [
        "\r",
        "Finding differences of reclassification 21 for data pairs 17 of 45.  Elapsed time: 1.45388916665 hours"
       ]
      },
      {
       "output_type": "stream",
       "stream": "stdout",
       "text": [
        "\r",
        "Finding differences of reclassification 21 for data pairs 18 of 45.  Elapsed time: 1.45548194442 hours"
       ]
      },
      {
       "output_type": "stream",
       "stream": "stdout",
       "text": [
        "\r",
        "Finding differences of reclassification 21 for data pairs 19 of 45.  Elapsed time: 1.45702805552 hours"
       ]
      },
      {
       "output_type": "stream",
       "stream": "stdout",
       "text": [
        "\r",
        "Finding differences of reclassification 21 for data pairs 20 of 45.  Elapsed time: 1.45852722221 hours"
       ]
      },
      {
       "output_type": "stream",
       "stream": "stdout",
       "text": [
        "\r",
        "Finding differences of reclassification 21 for data pairs 21 of 45.  Elapsed time: 1.46009861112 hours"
       ]
      },
      {
       "output_type": "stream",
       "stream": "stdout",
       "text": [
        "\r",
        "Finding differences of reclassification 21 for data pairs 22 of 45.  Elapsed time: 1.46167555551 hours"
       ]
      },
      {
       "output_type": "stream",
       "stream": "stdout",
       "text": [
        "\r",
        "Finding differences of reclassification 21 for data pairs 23 of 45.  Elapsed time: 1.46332916664 hours"
       ]
      },
      {
       "output_type": "stream",
       "stream": "stdout",
       "text": [
        "\r",
        "Finding differences of reclassification 21 for data pairs 24 of 45.  Elapsed time: 1.46492472218 hours"
       ]
      },
      {
       "output_type": "stream",
       "stream": "stdout",
       "text": [
        "\r",
        "Finding differences of reclassification 21 for data pairs 25 of 45.  Elapsed time: 1.46646361113 hours"
       ]
      },
      {
       "output_type": "stream",
       "stream": "stdout",
       "text": [
        "\r",
        "Finding differences of reclassification 21 for data pairs 26 of 45.  Elapsed time: 1.46809499999 hours"
       ]
      },
      {
       "output_type": "stream",
       "stream": "stdout",
       "text": [
        "\r",
        "Finding differences of reclassification 21 for data pairs 27 of 45.  Elapsed time: 1.46971499999 hours"
       ]
      },
      {
       "output_type": "stream",
       "stream": "stdout",
       "text": [
        "\r",
        "Finding differences of reclassification 21 for data pairs 28 of 45.  Elapsed time: 1.47142916666 hours"
       ]
      },
      {
       "output_type": "stream",
       "stream": "stdout",
       "text": [
        "\r",
        "Finding differences of reclassification 21 for data pairs 29 of 45.  Elapsed time: 1.47307499998 hours"
       ]
      },
      {
       "output_type": "stream",
       "stream": "stdout",
       "text": [
        "\r",
        "Finding differences of reclassification 21 for data pairs 30 of 45.  Elapsed time: 1.47472611109 hours"
       ]
      },
      {
       "output_type": "stream",
       "stream": "stdout",
       "text": [
        "\r",
        "Finding differences of reclassification 21 for data pairs 31 of 45.  Elapsed time: 1.47636361109 hours"
       ]
      },
      {
       "output_type": "stream",
       "stream": "stdout",
       "text": [
        "\r",
        "Finding differences of reclassification 21 for data pairs 32 of 45.  Elapsed time: 1.47791777776 hours"
       ]
      },
      {
       "output_type": "stream",
       "stream": "stdout",
       "text": [
        "\r",
        "Finding differences of reclassification 21 for data pairs 33 of 45.  Elapsed time: 1.47951944444 hours"
       ]
      },
      {
       "output_type": "stream",
       "stream": "stdout",
       "text": [
        "\r",
        "Finding differences of reclassification 21 for data pairs 34 of 45.  Elapsed time: 1.48103027774 hours"
       ]
      },
      {
       "output_type": "stream",
       "stream": "stdout",
       "text": [
        "\r",
        "Finding differences of reclassification 21 for data pairs 35 of 45.  Elapsed time: 1.48260388884 hours"
       ]
      },
      {
       "output_type": "stream",
       "stream": "stdout",
       "text": [
        "\r",
        "Finding differences of reclassification 21 for data pairs 36 of 45.  Elapsed time: 1.4840836111 hours"
       ]
      },
      {
       "output_type": "stream",
       "stream": "stdout",
       "text": [
        "\r",
        "Finding differences of reclassification 21 for data pairs 37 of 45.  Elapsed time: 1.4855897222 hours"
       ]
      },
      {
       "output_type": "stream",
       "stream": "stdout",
       "text": [
        "\r",
        "Finding differences of reclassification 21 for data pairs 38 of 45.  Elapsed time: 1.48711916665 hours"
       ]
      },
      {
       "output_type": "stream",
       "stream": "stdout",
       "text": [
        "\r",
        "Finding differences of reclassification 21 for data pairs 39 of 45.  Elapsed time: 1.48861777776 hours"
       ]
      },
      {
       "output_type": "stream",
       "stream": "stdout",
       "text": [
        "\r",
        "Finding differences of reclassification 21 for data pairs 40 of 45.  Elapsed time: 1.4901225 hours"
       ]
      },
      {
       "output_type": "stream",
       "stream": "stdout",
       "text": [
        "\r",
        "Finding differences of reclassification 21 for data pairs 41 of 45.  Elapsed time: 1.49162166668 hours"
       ]
      },
      {
       "output_type": "stream",
       "stream": "stdout",
       "text": [
        "\r",
        "Finding differences of reclassification 21 for data pairs 42 of 45.  Elapsed time: 1.49314055555 hours"
       ]
      },
      {
       "output_type": "stream",
       "stream": "stdout",
       "text": [
        "\r",
        "Finding differences of reclassification 21 for data pairs 43 of 45.  Elapsed time: 1.49464611106 hours"
       ]
      },
      {
       "output_type": "stream",
       "stream": "stdout",
       "text": [
        "\r",
        "Finding differences of reclassification 21 for data pairs 44 of 45.  Elapsed time: 1.49612666667 hours"
       ]
      },
      {
       "output_type": "stream",
       "stream": "stdout",
       "text": [
        "\r",
        "Finding differences of reclassification 21 for data pairs 45 of 45.  Elapsed time: 1.49763527777 hours"
       ]
      },
      {
       "output_type": "stream",
       "stream": "stdout",
       "text": [
        "\r",
        "Finding differences of reclassification 22 for data pairs 1 of 45.  Elapsed time: 1.49929694441 hours"
       ]
      },
      {
       "output_type": "stream",
       "stream": "stdout",
       "text": [
        "\r",
        "Finding differences of reclassification 22 for data pairs 2 of 45.  Elapsed time: 1.5009133333 hours"
       ]
      },
      {
       "output_type": "stream",
       "stream": "stdout",
       "text": [
        "\r",
        "Finding differences of reclassification 22 for data pairs 3 of 45.  Elapsed time: 1.50251749999 hours"
       ]
      },
      {
       "output_type": "stream",
       "stream": "stdout",
       "text": [
        "\r",
        "Finding differences of reclassification 22 for data pairs 4 of 45.  Elapsed time: 1.5041211111 hours"
       ]
      },
      {
       "output_type": "stream",
       "stream": "stdout",
       "text": [
        "\r",
        "Finding differences of reclassification 22 for data pairs 5 of 45.  Elapsed time: 1.5057088889 hours"
       ]
      },
      {
       "output_type": "stream",
       "stream": "stdout",
       "text": [
        "\r",
        "Finding differences of reclassification 22 for data pairs 6 of 45.  Elapsed time: 1.50733749999 hours"
       ]
      },
      {
       "output_type": "stream",
       "stream": "stdout",
       "text": [
        "\r",
        "Finding differences of reclassification 22 for data pairs 7 of 45.  Elapsed time: 1.50890499996 hours"
       ]
      },
      {
       "output_type": "stream",
       "stream": "stdout",
       "text": [
        "\r",
        "Finding differences of reclassification 22 for data pairs 8 of 45.  Elapsed time: 1.51048666663 hours"
       ]
      },
      {
       "output_type": "stream",
       "stream": "stdout",
       "text": [
        "\r",
        "Finding differences of reclassification 22 for data pairs 9 of 45.  Elapsed time: 1.51208027773 hours"
       ]
      },
      {
       "output_type": "stream",
       "stream": "stdout",
       "text": [
        "\r",
        "Finding differences of reclassification 22 for data pairs 10 of 45.  Elapsed time: 1.51356416663 hours"
       ]
      },
      {
       "output_type": "stream",
       "stream": "stdout",
       "text": [
        "\r",
        "Finding differences of reclassification 22 for data pairs 11 of 45.  Elapsed time: 1.51506722218 hours"
       ]
      },
      {
       "output_type": "stream",
       "stream": "stdout",
       "text": [
        "\r",
        "Finding differences of reclassification 22 for data pairs 12 of 45.  Elapsed time: 1.51685611109 hours"
       ]
      },
      {
       "output_type": "stream",
       "stream": "stdout",
       "text": [
        "\r",
        "Finding differences of reclassification 22 for data pairs 13 of 45.  Elapsed time: 1.51856972218 hours"
       ]
      },
      {
       "output_type": "stream",
       "stream": "stdout",
       "text": [
        "\r",
        "Finding differences of reclassification 22 for data pairs 14 of 45.  Elapsed time: 1.52066277775 hours"
       ]
      },
      {
       "output_type": "stream",
       "stream": "stdout",
       "text": [
        "\r",
        "Finding differences of reclassification 22 for data pairs 15 of 45.  Elapsed time: 1.52229027775 hours"
       ]
      },
      {
       "output_type": "stream",
       "stream": "stdout",
       "text": [
        "\r",
        "Finding differences of reclassification 22 for data pairs 16 of 45.  Elapsed time: 1.52382861111 hours"
       ]
      },
      {
       "output_type": "stream",
       "stream": "stdout",
       "text": [
        "\r",
        "Finding differences of reclassification 22 for data pairs 17 of 45.  Elapsed time: 1.52534499996 hours"
       ]
      },
      {
       "output_type": "stream",
       "stream": "stdout",
       "text": [
        "\r",
        "Finding differences of reclassification 22 for data pairs 18 of 45.  Elapsed time: 1.52684083329 hours"
       ]
      },
      {
       "output_type": "stream",
       "stream": "stdout",
       "text": [
        "\r",
        "Finding differences of reclassification 22 for data pairs 19 of 45.  Elapsed time: 1.52840472221 hours"
       ]
      },
      {
       "output_type": "stream",
       "stream": "stdout",
       "text": [
        "\r",
        "Finding differences of reclassification 22 for data pairs 20 of 45.  Elapsed time: 1.52989638885 hours"
       ]
      },
      {
       "output_type": "stream",
       "stream": "stdout",
       "text": [
        "\r",
        "Finding differences of reclassification 22 for data pairs 21 of 45.  Elapsed time: 1.5314422222 hours"
       ]
      },
      {
       "output_type": "stream",
       "stream": "stdout",
       "text": [
        "\r",
        "Finding differences of reclassification 22 for data pairs 22 of 45.  Elapsed time: 1.53295583334 hours"
       ]
      },
      {
       "output_type": "stream",
       "stream": "stdout",
       "text": [
        "\r",
        "Finding differences of reclassification 22 for data pairs 23 of 45.  Elapsed time: 1.53444416662 hours"
       ]
      },
      {
       "output_type": "stream",
       "stream": "stdout",
       "text": [
        "\r",
        "Finding differences of reclassification 22 for data pairs 24 of 45.  Elapsed time: 1.5359344444 hours"
       ]
      },
      {
       "output_type": "stream",
       "stream": "stdout",
       "text": [
        "\r",
        "Finding differences of reclassification 22 for data pairs 25 of 45.  Elapsed time: 1.53748777774 hours"
       ]
      },
      {
       "output_type": "stream",
       "stream": "stdout",
       "text": [
        "\r",
        "Finding differences of reclassification 22 for data pairs 26 of 45.  Elapsed time: 1.53900861111 hours"
       ]
      },
      {
       "output_type": "stream",
       "stream": "stdout",
       "text": [
        "\r",
        "Finding differences of reclassification 22 for data pairs 27 of 45.  Elapsed time: 1.54054472221 hours"
       ]
      },
      {
       "output_type": "stream",
       "stream": "stdout",
       "text": [
        "\r",
        "Finding differences of reclassification 22 for data pairs 28 of 45.  Elapsed time: 1.54208916664 hours"
       ]
      },
      {
       "output_type": "stream",
       "stream": "stdout",
       "text": [
        "\r",
        "Finding differences of reclassification 22 for data pairs 29 of 45.  Elapsed time: 1.54359166662 hours"
       ]
      },
      {
       "output_type": "stream",
       "stream": "stdout",
       "text": [
        "\r",
        "Finding differences of reclassification 22 for data pairs 30 of 45.  Elapsed time: 1.54511749996 hours"
       ]
      },
      {
       "output_type": "stream",
       "stream": "stdout",
       "text": [
        "\r",
        "Finding differences of reclassification 22 for data pairs 31 of 45.  Elapsed time: 1.54662888885 hours"
       ]
      },
      {
       "output_type": "stream",
       "stream": "stdout",
       "text": [
        "\r",
        "Finding differences of reclassification 22 for data pairs 32 of 45.  Elapsed time: 1.54816833331 hours"
       ]
      },
      {
       "output_type": "stream",
       "stream": "stdout",
       "text": [
        "\r",
        "Finding differences of reclassification 22 for data pairs 33 of 45.  Elapsed time: 1.54968000001 hours"
       ]
      },
      {
       "output_type": "stream",
       "stream": "stdout",
       "text": [
        "\r",
        "Finding differences of reclassification 22 for data pairs 34 of 45.  Elapsed time: 1.5511872222 hours"
       ]
      },
      {
       "output_type": "stream",
       "stream": "stdout",
       "text": [
        "\r",
        "Finding differences of reclassification 22 for data pairs 35 of 45.  Elapsed time: 1.55271777776 hours"
       ]
      },
      {
       "output_type": "stream",
       "stream": "stdout",
       "text": [
        "\r",
        "Finding differences of reclassification 22 for data pairs 36 of 45.  Elapsed time: 1.55428027776 hours"
       ]
      },
      {
       "output_type": "stream",
       "stream": "stdout",
       "text": [
        "\r",
        "Finding differences of reclassification 22 for data pairs 37 of 45.  Elapsed time: 1.55593472222 hours"
       ]
      },
      {
       "output_type": "stream",
       "stream": "stdout",
       "text": [
        "\r",
        "Finding differences of reclassification 22 for data pairs 38 of 45.  Elapsed time: 1.55751888884 hours"
       ]
      },
      {
       "output_type": "stream",
       "stream": "stdout",
       "text": [
        "\r",
        "Finding differences of reclassification 22 for data pairs 39 of 45.  Elapsed time: 1.55918694443 hours"
       ]
      },
      {
       "output_type": "stream",
       "stream": "stdout",
       "text": [
        "\r",
        "Finding differences of reclassification 22 for data pairs 40 of 45.  Elapsed time: 1.56074083335 hours"
       ]
      },
      {
       "output_type": "stream",
       "stream": "stdout",
       "text": [
        "\r",
        "Finding differences of reclassification 22 for data pairs 41 of 45.  Elapsed time: 1.56233 hours"
       ]
      },
      {
       "output_type": "stream",
       "stream": "stdout",
       "text": [
        "\r",
        "Finding differences of reclassification 22 for data pairs 42 of 45.  Elapsed time: 1.56398472223 hours"
       ]
      },
      {
       "output_type": "stream",
       "stream": "stdout",
       "text": [
        "\r",
        "Finding differences of reclassification 22 for data pairs 43 of 45.  Elapsed time: 1.56561722219 hours"
       ]
      },
      {
       "output_type": "stream",
       "stream": "stdout",
       "text": [
        "\r",
        "Finding differences of reclassification 22 for data pairs 44 of 45.  Elapsed time: 1.56714916666 hours"
       ]
      },
      {
       "output_type": "stream",
       "stream": "stdout",
       "text": [
        "\r",
        "Finding differences of reclassification 22 for data pairs 45 of 45.  Elapsed time: 1.56867111107 hours"
       ]
      },
      {
       "output_type": "stream",
       "stream": "stdout",
       "text": [
        "\r",
        "Finding differences of reclassification 23 for data pairs 1 of 45.  Elapsed time: 1.57017277777 hours"
       ]
      },
      {
       "output_type": "stream",
       "stream": "stdout",
       "text": [
        "\r",
        "Finding differences of reclassification 23 for data pairs 2 of 45.  Elapsed time: 1.57167555551 hours"
       ]
      },
      {
       "output_type": "stream",
       "stream": "stdout",
       "text": [
        "\r",
        "Finding differences of reclassification 23 for data pairs 3 of 45.  Elapsed time: 1.57329527775 hours"
       ]
      },
      {
       "output_type": "stream",
       "stream": "stdout",
       "text": [
        "\r",
        "Finding differences of reclassification 23 for data pairs 4 of 45.  Elapsed time: 1.57494805555 hours"
       ]
      },
      {
       "output_type": "stream",
       "stream": "stdout",
       "text": [
        "\r",
        "Finding differences of reclassification 23 for data pairs 5 of 45.  Elapsed time: 1.57667138888 hours"
       ]
      },
      {
       "output_type": "stream",
       "stream": "stdout",
       "text": [
        "\r",
        "Finding differences of reclassification 23 for data pairs 6 of 45.  Elapsed time: 1.57821333329 hours"
       ]
      },
      {
       "output_type": "stream",
       "stream": "stdout",
       "text": [
        "\r",
        "Finding differences of reclassification 23 for data pairs 7 of 45.  Elapsed time: 1.57970999996 hours"
       ]
      },
      {
       "output_type": "stream",
       "stream": "stdout",
       "text": [
        "\r",
        "Finding differences of reclassification 23 for data pairs 8 of 45.  Elapsed time: 1.5812036111 hours"
       ]
      },
      {
       "output_type": "stream",
       "stream": "stdout",
       "text": [
        "\r",
        "Finding differences of reclassification 23 for data pairs 9 of 45.  Elapsed time: 1.5827397222 hours"
       ]
      },
      {
       "output_type": "stream",
       "stream": "stdout",
       "text": [
        "\r",
        "Finding differences of reclassification 23 for data pairs 10 of 45.  Elapsed time: 1.58421972222 hours"
       ]
      },
      {
       "output_type": "stream",
       "stream": "stdout",
       "text": [
        "\r",
        "Finding differences of reclassification 23 for data pairs 11 of 45.  Elapsed time: 1.58571861108 hours"
       ]
      },
      {
       "output_type": "stream",
       "stream": "stdout",
       "text": [
        "\r",
        "Finding differences of reclassification 23 for data pairs 12 of 45.  Elapsed time: 1.58724083331 hours"
       ]
      },
      {
       "output_type": "stream",
       "stream": "stdout",
       "text": [
        "\r",
        "Finding differences of reclassification 23 for data pairs 13 of 45.  Elapsed time: 1.58883166664 hours"
       ]
      },
      {
       "output_type": "stream",
       "stream": "stdout",
       "text": [
        "\r",
        "Finding differences of reclassification 23 for data pairs 14 of 45.  Elapsed time: 1.59046527776 hours"
       ]
      },
      {
       "output_type": "stream",
       "stream": "stdout",
       "text": [
        "\r",
        "Finding differences of reclassification 23 for data pairs 15 of 45.  Elapsed time: 1.59211250001 hours"
       ]
      },
      {
       "output_type": "stream",
       "stream": "stdout",
       "text": [
        "\r",
        "Finding differences of reclassification 23 for data pairs 16 of 45.  Elapsed time: 1.59362777776 hours"
       ]
      },
      {
       "output_type": "stream",
       "stream": "stdout",
       "text": [
        "\r",
        "Finding differences of reclassification 23 for data pairs 17 of 45.  Elapsed time: 1.59515999999 hours"
       ]
      },
      {
       "output_type": "stream",
       "stream": "stdout",
       "text": [
        "\r",
        "Finding differences of reclassification 23 for data pairs 18 of 45.  Elapsed time: 1.59663583332 hours"
       ]
      },
      {
       "output_type": "stream",
       "stream": "stdout",
       "text": [
        "\r",
        "Finding differences of reclassification 23 for data pairs 19 of 45.  Elapsed time: 1.59813527776 hours"
       ]
      },
      {
       "output_type": "stream",
       "stream": "stdout",
       "text": [
        "\r",
        "Finding differences of reclassification 23 for data pairs 20 of 45.  Elapsed time: 1.59961166667 hours"
       ]
      },
      {
       "output_type": "stream",
       "stream": "stdout",
       "text": [
        "\r",
        "Finding differences of reclassification 23 for data pairs 21 of 45.  Elapsed time: 1.60113694443 hours"
       ]
      },
      {
       "output_type": "stream",
       "stream": "stdout",
       "text": [
        "\r",
        "Finding differences of reclassification 23 for data pairs 22 of 45.  Elapsed time: 1.6026688889 hours"
       ]
      },
      {
       "output_type": "stream",
       "stream": "stdout",
       "text": [
        "\r",
        "Finding differences of reclassification 23 for data pairs 23 of 45.  Elapsed time: 1.60413777775 hours"
       ]
      },
      {
       "output_type": "stream",
       "stream": "stdout",
       "text": [
        "\r",
        "Finding differences of reclassification 23 for data pairs 24 of 45.  Elapsed time: 1.60561611109 hours"
       ]
      },
      {
       "output_type": "stream",
       "stream": "stdout",
       "text": [
        "\r",
        "Finding differences of reclassification 23 for data pairs 25 of 45.  Elapsed time: 1.60716055552 hours"
       ]
      },
      {
       "output_type": "stream",
       "stream": "stdout",
       "text": [
        "\r",
        "Finding differences of reclassification 23 for data pairs 26 of 45.  Elapsed time: 1.60865027779 hours"
       ]
      },
      {
       "output_type": "stream",
       "stream": "stdout",
       "text": [
        "\r",
        "Finding differences of reclassification 23 for data pairs 27 of 45.  Elapsed time: 1.61014388886 hours"
       ]
      },
      {
       "output_type": "stream",
       "stream": "stdout",
       "text": [
        "\r",
        "Finding differences of reclassification 23 for data pairs 28 of 45.  Elapsed time: 1.61170055555 hours"
       ]
      },
      {
       "output_type": "stream",
       "stream": "stdout",
       "text": [
        "\r",
        "Finding differences of reclassification 23 for data pairs 29 of 45.  Elapsed time: 1.61335055557 hours"
       ]
      },
      {
       "output_type": "stream",
       "stream": "stdout",
       "text": [
        "\r",
        "Finding differences of reclassification 23 for data pairs 30 of 45.  Elapsed time: 1.61486916668 hours"
       ]
      },
      {
       "output_type": "stream",
       "stream": "stdout",
       "text": [
        "\r",
        "Finding differences of reclassification 23 for data pairs 31 of 45.  Elapsed time: 1.6164058333 hours"
       ]
      },
      {
       "output_type": "stream",
       "stream": "stdout",
       "text": [
        "\r",
        "Finding differences of reclassification 23 for data pairs 32 of 45.  Elapsed time: 1.61787194444 hours"
       ]
      },
      {
       "output_type": "stream",
       "stream": "stdout",
       "text": [
        "\r",
        "Finding differences of reclassification 23 for data pairs 33 of 45.  Elapsed time: 1.61939388884 hours"
       ]
      },
      {
       "output_type": "stream",
       "stream": "stdout",
       "text": [
        "\r",
        "Finding differences of reclassification 23 for data pairs 34 of 45.  Elapsed time: 1.62100777778 hours"
       ]
      },
      {
       "output_type": "stream",
       "stream": "stdout",
       "text": [
        "\r",
        "Finding differences of reclassification 23 for data pairs 35 of 45.  Elapsed time: 1.62265111109 hours"
       ]
      },
      {
       "output_type": "stream",
       "stream": "stdout",
       "text": [
        "\r",
        "Finding differences of reclassification 23 for data pairs 36 of 45.  Elapsed time: 1.62419805553 hours"
       ]
      },
      {
       "output_type": "stream",
       "stream": "stdout",
       "text": [
        "\r",
        "Finding differences of reclassification 23 for data pairs 37 of 45.  Elapsed time: 1.62569999999 hours"
       ]
      },
      {
       "output_type": "stream",
       "stream": "stdout",
       "text": [
        "\r",
        "Finding differences of reclassification 23 for data pairs 38 of 45.  Elapsed time: 1.62716305554 hours"
       ]
      },
      {
       "output_type": "stream",
       "stream": "stdout",
       "text": [
        "\r",
        "Finding differences of reclassification 23 for data pairs 39 of 45.  Elapsed time: 1.62864027778 hours"
       ]
      },
      {
       "output_type": "stream",
       "stream": "stdout",
       "text": [
        "\r",
        "Finding differences of reclassification 23 for data pairs 40 of 45.  Elapsed time: 1.63013055556 hours"
       ]
      },
      {
       "output_type": "stream",
       "stream": "stdout",
       "text": [
        "\r",
        "Finding differences of reclassification 23 for data pairs 41 of 45.  Elapsed time: 1.63162277778 hours"
       ]
      },
      {
       "output_type": "stream",
       "stream": "stdout",
       "text": [
        "\r",
        "Finding differences of reclassification 23 for data pairs 42 of 45.  Elapsed time: 1.63314944446 hours"
       ]
      },
      {
       "output_type": "stream",
       "stream": "stdout",
       "text": [
        "\r",
        "Finding differences of reclassification 23 for data pairs 43 of 45.  Elapsed time: 1.6346622222 hours"
       ]
      },
      {
       "output_type": "stream",
       "stream": "stdout",
       "text": [
        "\r",
        "Finding differences of reclassification 23 for data pairs 44 of 45.  Elapsed time: 1.63614305556 hours"
       ]
      },
      {
       "output_type": "stream",
       "stream": "stdout",
       "text": [
        "\r",
        "Finding differences of reclassification 23 for data pairs 45 of 45.  Elapsed time: 1.63761361109 hours"
       ]
      },
      {
       "output_type": "stream",
       "stream": "stdout",
       "text": [
        "\r",
        "Finding differences of reclassification 24 for data pairs 1 of 45.  Elapsed time: 1.63912361112 hours"
       ]
      },
      {
       "output_type": "stream",
       "stream": "stdout",
       "text": [
        "\r",
        "Finding differences of reclassification 24 for data pairs 2 of 45.  Elapsed time: 1.64062777778 hours"
       ]
      },
      {
       "output_type": "stream",
       "stream": "stdout",
       "text": [
        "\r",
        "Finding differences of reclassification 24 for data pairs 3 of 45.  Elapsed time: 1.64210583329 hours"
       ]
      },
      {
       "output_type": "stream",
       "stream": "stdout",
       "text": [
        "\r",
        "Finding differences of reclassification 24 for data pairs 4 of 45.  Elapsed time: 1.64359305554 hours"
       ]
      },
      {
       "output_type": "stream",
       "stream": "stdout",
       "text": [
        "\r",
        "Finding differences of reclassification 24 for data pairs 5 of 45.  Elapsed time: 1.6450697222 hours"
       ]
      },
      {
       "output_type": "stream",
       "stream": "stdout",
       "text": [
        "\r",
        "Finding differences of reclassification 24 for data pairs 6 of 45.  Elapsed time: 1.64653166665 hours"
       ]
      },
      {
       "output_type": "stream",
       "stream": "stdout",
       "text": [
        "\r",
        "Finding differences of reclassification 24 for data pairs 7 of 45.  Elapsed time: 1.64802722222 hours"
       ]
      },
      {
       "output_type": "stream",
       "stream": "stdout",
       "text": [
        "\r",
        "Finding differences of reclassification 24 for data pairs 8 of 45.  Elapsed time: 1.64950916668 hours"
       ]
      },
      {
       "output_type": "stream",
       "stream": "stdout",
       "text": [
        "\r",
        "Finding differences of reclassification 24 for data pairs 9 of 45.  Elapsed time: 1.65098555552 hours"
       ]
      },
      {
       "output_type": "stream",
       "stream": "stdout",
       "text": [
        "\r",
        "Finding differences of reclassification 24 for data pairs 10 of 45.  Elapsed time: 1.65244527777 hours"
       ]
      },
      {
       "output_type": "stream",
       "stream": "stdout",
       "text": [
        "\r",
        "Finding differences of reclassification 24 for data pairs 11 of 45.  Elapsed time: 1.65391222219 hours"
       ]
      },
      {
       "output_type": "stream",
       "stream": "stdout",
       "text": [
        "\r",
        "Finding differences of reclassification 24 for data pairs 12 of 45.  Elapsed time: 1.65541666667 hours"
       ]
      },
      {
       "output_type": "stream",
       "stream": "stdout",
       "text": [
        "\r",
        "Finding differences of reclassification 24 for data pairs 13 of 45.  Elapsed time: 1.65694944441 hours"
       ]
      },
      {
       "output_type": "stream",
       "stream": "stdout",
       "text": [
        "\r",
        "Finding differences of reclassification 24 for data pairs 14 of 45.  Elapsed time: 1.65845166663 hours"
       ]
      },
      {
       "output_type": "stream",
       "stream": "stdout",
       "text": [
        "\r",
        "Finding differences of reclassification 24 for data pairs 15 of 45.  Elapsed time: 1.65996388886 hours"
       ]
      },
      {
       "output_type": "stream",
       "stream": "stdout",
       "text": [
        "\r",
        "Finding differences of reclassification 24 for data pairs 16 of 45.  Elapsed time: 1.66143749999 hours"
       ]
      },
      {
       "output_type": "stream",
       "stream": "stdout",
       "text": [
        "\r",
        "Finding differences of reclassification 24 for data pairs 17 of 45.  Elapsed time: 1.66293972221 hours"
       ]
      },
      {
       "output_type": "stream",
       "stream": "stdout",
       "text": [
        "\r",
        "Finding differences of reclassification 24 for data pairs 18 of 45.  Elapsed time: 1.66442305552 hours"
       ]
      },
      {
       "output_type": "stream",
       "stream": "stdout",
       "text": [
        "\r",
        "Finding differences of reclassification 24 for data pairs 19 of 45.  Elapsed time: 1.6659275 hours"
       ]
      },
      {
       "output_type": "stream",
       "stream": "stdout",
       "text": [
        "\r",
        "Finding differences of reclassification 24 for data pairs 20 of 45.  Elapsed time: 1.66742583334 hours"
       ]
      },
      {
       "output_type": "stream",
       "stream": "stdout",
       "text": [
        "\r",
        "Finding differences of reclassification 24 for data pairs 21 of 45.  Elapsed time: 1.66901055555 hours"
       ]
      },
      {
       "output_type": "stream",
       "stream": "stdout",
       "text": [
        "\r",
        "Finding differences of reclassification 24 for data pairs 22 of 45.  Elapsed time: 1.67051083333 hours"
       ]
      },
      {
       "output_type": "stream",
       "stream": "stdout",
       "text": [
        "\r",
        "Finding differences of reclassification 24 for data pairs 23 of 45.  Elapsed time: 1.67198805551 hours"
       ]
      },
      {
       "output_type": "stream",
       "stream": "stdout",
       "text": [
        "\r",
        "Finding differences of reclassification 24 for data pairs 24 of 45.  Elapsed time: 1.67346361107 hours"
       ]
      },
      {
       "output_type": "stream",
       "stream": "stdout",
       "text": [
        "\r",
        "Finding differences of reclassification 24 for data pairs 25 of 45.  Elapsed time: 1.67500555555 hours"
       ]
      },
      {
       "output_type": "stream",
       "stream": "stdout",
       "text": [
        "\r",
        "Finding differences of reclassification 24 for data pairs 26 of 45.  Elapsed time: 1.67649861111 hours"
       ]
      },
      {
       "output_type": "stream",
       "stream": "stdout",
       "text": [
        "\r",
        "Finding differences of reclassification 24 for data pairs 27 of 45.  Elapsed time: 1.67801027775 hours"
       ]
      },
      {
       "output_type": "stream",
       "stream": "stdout",
       "text": [
        "\r",
        "Finding differences of reclassification 24 for data pairs 28 of 45.  Elapsed time: 1.67953777777 hours"
       ]
      },
      {
       "output_type": "stream",
       "stream": "stdout",
       "text": [
        "\r",
        "Finding differences of reclassification 24 for data pairs 29 of 45.  Elapsed time: 1.6810294444 hours"
       ]
      },
      {
       "output_type": "stream",
       "stream": "stdout",
       "text": [
        "\r",
        "Finding differences of reclassification 24 for data pairs 30 of 45.  Elapsed time: 1.6825322222 hours"
       ]
      },
      {
       "output_type": "stream",
       "stream": "stdout",
       "text": [
        "\r",
        "Finding differences of reclassification 24 for data pairs 31 of 45.  Elapsed time: 1.6840725 hours"
       ]
      },
      {
       "output_type": "stream",
       "stream": "stdout",
       "text": [
        "\r",
        "Finding differences of reclassification 24 for data pairs 32 of 45.  Elapsed time: 1.68560444441 hours"
       ]
      },
      {
       "output_type": "stream",
       "stream": "stdout",
       "text": [
        "\r",
        "Finding differences of reclassification 24 for data pairs 33 of 45.  Elapsed time: 1.68713749998 hours"
       ]
      },
      {
       "output_type": "stream",
       "stream": "stdout",
       "text": [
        "\r",
        "Finding differences of reclassification 24 for data pairs 34 of 45.  Elapsed time: 1.68868055556 hours"
       ]
      },
      {
       "output_type": "stream",
       "stream": "stdout",
       "text": [
        "\r",
        "Finding differences of reclassification 24 for data pairs 35 of 45.  Elapsed time: 1.69021138887 hours"
       ]
      },
      {
       "output_type": "stream",
       "stream": "stdout",
       "text": [
        "\r",
        "Finding differences of reclassification 24 for data pairs 36 of 45.  Elapsed time: 1.69174472219 hours"
       ]
      },
      {
       "output_type": "stream",
       "stream": "stdout",
       "text": [
        "\r",
        "Finding differences of reclassification 24 for data pairs 37 of 45.  Elapsed time: 1.69329222222 hours"
       ]
      },
      {
       "output_type": "stream",
       "stream": "stdout",
       "text": [
        "\r",
        "Finding differences of reclassification 24 for data pairs 38 of 45.  Elapsed time: 1.69482527779 hours"
       ]
      },
      {
       "output_type": "stream",
       "stream": "stdout",
       "text": [
        "\r",
        "Finding differences of reclassification 24 for data pairs 39 of 45.  Elapsed time: 1.69635888888 hours"
       ]
      },
      {
       "output_type": "stream",
       "stream": "stdout",
       "text": [
        "\r",
        "Finding differences of reclassification 24 for data pairs 40 of 45.  Elapsed time: 1.69788249996 hours"
       ]
      },
      {
       "output_type": "stream",
       "stream": "stdout",
       "text": [
        "\r",
        "Finding differences of reclassification 24 for data pairs 41 of 45.  Elapsed time: 1.69944333335 hours"
       ]
      },
      {
       "output_type": "stream",
       "stream": "stdout",
       "text": [
        "\r",
        "Finding differences of reclassification 24 for data pairs 42 of 45.  Elapsed time: 1.7010083333 hours"
       ]
      },
      {
       "output_type": "stream",
       "stream": "stdout",
       "text": [
        "\r",
        "Finding differences of reclassification 24 for data pairs 43 of 45.  Elapsed time: 1.70254333331 hours"
       ]
      },
      {
       "output_type": "stream",
       "stream": "stdout",
       "text": [
        "\r",
        "Finding differences of reclassification 24 for data pairs 44 of 45.  Elapsed time: 1.70404222223 hours"
       ]
      },
      {
       "output_type": "stream",
       "stream": "stdout",
       "text": [
        "\r",
        "Finding differences of reclassification 24 for data pairs 45 of 45.  Elapsed time: 1.70552666664 hours"
       ]
      },
      {
       "output_type": "stream",
       "stream": "stdout",
       "text": [
        "\r",
        "Finding differences of reclassification 25 for data pairs 1 of 45.  Elapsed time: 1.7070519444 hours"
       ]
      },
      {
       "output_type": "stream",
       "stream": "stdout",
       "text": [
        "\r",
        "Finding differences of reclassification 25 for data pairs 2 of 45.  Elapsed time: 1.70878166662 hours"
       ]
      },
      {
       "output_type": "stream",
       "stream": "stdout",
       "text": [
        "\r",
        "Finding differences of reclassification 25 for data pairs 3 of 45.  Elapsed time: 1.71029277775 hours"
       ]
      },
      {
       "output_type": "stream",
       "stream": "stdout",
       "text": [
        "\r",
        "Finding differences of reclassification 25 for data pairs 4 of 45.  Elapsed time: 1.7118961111 hours"
       ]
      },
      {
       "output_type": "stream",
       "stream": "stdout",
       "text": [
        "\r",
        "Finding differences of reclassification 25 for data pairs 5 of 45.  Elapsed time: 1.71360027777 hours"
       ]
      },
      {
       "output_type": "stream",
       "stream": "stdout",
       "text": [
        "\r",
        "Finding differences of reclassification 25 for data pairs 6 of 45.  Elapsed time: 1.71515805556 hours"
       ]
      },
      {
       "output_type": "stream",
       "stream": "stdout",
       "text": [
        "\r",
        "Finding differences of reclassification 25 for data pairs 7 of 45.  Elapsed time: 1.71710749997 hours"
       ]
      },
      {
       "output_type": "stream",
       "stream": "stdout",
       "text": [
        "\r",
        "Finding differences of reclassification 25 for data pairs 8 of 45.  Elapsed time: 1.71885583334 hours"
       ]
      },
      {
       "output_type": "stream",
       "stream": "stdout",
       "text": [
        "\r",
        "Finding differences of reclassification 25 for data pairs 9 of 45.  Elapsed time: 1.72051138884 hours"
       ]
      },
      {
       "output_type": "stream",
       "stream": "stdout",
       "text": [
        "\r",
        "Finding differences of reclassification 25 for data pairs 10 of 45.  Elapsed time: 1.72206361108 hours"
       ]
      },
      {
       "output_type": "stream",
       "stream": "stdout",
       "text": [
        "\r",
        "Finding differences of reclassification 25 for data pairs 11 of 45.  Elapsed time: 1.72355777774 hours"
       ]
      },
      {
       "output_type": "stream",
       "stream": "stdout",
       "text": [
        "\r",
        "Finding differences of reclassification 25 for data pairs 12 of 45.  Elapsed time: 1.72515444444 hours"
       ]
      },
      {
       "output_type": "stream",
       "stream": "stdout",
       "text": [
        "\r",
        "Finding differences of reclassification 25 for data pairs 13 of 45.  Elapsed time: 1.72667694443 hours"
       ]
      },
      {
       "output_type": "stream",
       "stream": "stdout",
       "text": [
        "\r",
        "Finding differences of reclassification 25 for data pairs 14 of 45.  Elapsed time: 1.72829972221 hours"
       ]
      },
      {
       "output_type": "stream",
       "stream": "stdout",
       "text": [
        "\r",
        "Finding differences of reclassification 25 for data pairs 15 of 45.  Elapsed time: 1.72992472218 hours"
       ]
      },
      {
       "output_type": "stream",
       "stream": "stdout",
       "text": [
        "\r",
        "Finding differences of reclassification 25 for data pairs 16 of 45.  Elapsed time: 1.73152249999 hours"
       ]
      },
      {
       "output_type": "stream",
       "stream": "stdout",
       "text": [
        "\r",
        "Finding differences of reclassification 25 for data pairs 17 of 45.  Elapsed time: 1.73306055552 hours"
       ]
      },
      {
       "output_type": "stream",
       "stream": "stdout",
       "text": [
        "\r",
        "Finding differences of reclassification 25 for data pairs 18 of 45.  Elapsed time: 1.73461861107 hours"
       ]
      },
      {
       "output_type": "stream",
       "stream": "stdout",
       "text": [
        "\r",
        "Finding differences of reclassification 25 for data pairs 19 of 45.  Elapsed time: 1.73635083331 hours"
       ]
      },
      {
       "output_type": "stream",
       "stream": "stdout",
       "text": [
        "\r",
        "Finding differences of reclassification 25 for data pairs 20 of 45.  Elapsed time: 1.73791083329 hours"
       ]
      },
      {
       "output_type": "stream",
       "stream": "stdout",
       "text": [
        "\r",
        "Finding differences of reclassification 25 for data pairs 21 of 45.  Elapsed time: 1.73946361111 hours"
       ]
      },
      {
       "output_type": "stream",
       "stream": "stdout",
       "text": [
        "\r",
        "Finding differences of reclassification 25 for data pairs 22 of 45.  Elapsed time: 1.74105916666 hours"
       ]
      },
      {
       "output_type": "stream",
       "stream": "stdout",
       "text": [
        "\r",
        "Finding differences of reclassification 25 for data pairs 23 of 45.  Elapsed time: 1.74258777777 hours"
       ]
      },
      {
       "output_type": "stream",
       "stream": "stdout",
       "text": [
        "\r",
        "Finding differences of reclassification 25 for data pairs 24 of 45.  Elapsed time: 1.74412277778 hours"
       ]
      },
      {
       "output_type": "stream",
       "stream": "stdout",
       "text": [
        "\r",
        "Finding differences of reclassification 25 for data pairs 25 of 45.  Elapsed time: 1.74569111109 hours"
       ]
      },
      {
       "output_type": "stream",
       "stream": "stdout",
       "text": [
        "\r",
        "Finding differences of reclassification 25 for data pairs 26 of 45.  Elapsed time: 1.74721999996 hours"
       ]
      },
      {
       "output_type": "stream",
       "stream": "stdout",
       "text": [
        "\r",
        "Finding differences of reclassification 25 for data pairs 27 of 45.  Elapsed time: 1.74886916664 hours"
       ]
      },
      {
       "output_type": "stream",
       "stream": "stdout",
       "text": [
        "\r",
        "Finding differences of reclassification 25 for data pairs 28 of 45.  Elapsed time: 1.75061944445 hours"
       ]
      },
      {
       "output_type": "stream",
       "stream": "stdout",
       "text": [
        "\r",
        "Finding differences of reclassification 25 for data pairs 29 of 45.  Elapsed time: 1.75219277779 hours"
       ]
      },
      {
       "output_type": "stream",
       "stream": "stdout",
       "text": [
        "\r",
        "Finding differences of reclassification 25 for data pairs 30 of 45.  Elapsed time: 1.75374666664 hours"
       ]
      },
      {
       "output_type": "stream",
       "stream": "stdout",
       "text": [
        "\r",
        "Finding differences of reclassification 25 for data pairs 31 of 45.  Elapsed time: 1.75529166665 hours"
       ]
      },
      {
       "output_type": "stream",
       "stream": "stdout",
       "text": [
        "\r",
        "Finding differences of reclassification 25 for data pairs 32 of 45.  Elapsed time: 1.75685111112 hours"
       ]
      },
      {
       "output_type": "stream",
       "stream": "stdout",
       "text": [
        "\r",
        "Finding differences of reclassification 25 for data pairs 33 of 45.  Elapsed time: 1.75837805556 hours"
       ]
      },
      {
       "output_type": "stream",
       "stream": "stdout",
       "text": [
        "\r",
        "Finding differences of reclassification 25 for data pairs 34 of 45.  Elapsed time: 1.75988694443 hours"
       ]
      },
      {
       "output_type": "stream",
       "stream": "stdout",
       "text": [
        "\r",
        "Finding differences of reclassification 25 for data pairs 35 of 45.  Elapsed time: 1.76139833331 hours"
       ]
      },
      {
       "output_type": "stream",
       "stream": "stdout",
       "text": [
        "\r",
        "Finding differences of reclassification 25 for data pairs 36 of 45.  Elapsed time: 1.76288888885 hours"
       ]
      },
      {
       "output_type": "stream",
       "stream": "stdout",
       "text": [
        "\r",
        "Finding differences of reclassification 25 for data pairs 37 of 45.  Elapsed time: 1.76440416667 hours"
       ]
      },
      {
       "output_type": "stream",
       "stream": "stdout",
       "text": [
        "\r",
        "Finding differences of reclassification 25 for data pairs 38 of 45.  Elapsed time: 1.76589527779 hours"
       ]
      },
      {
       "output_type": "stream",
       "stream": "stdout",
       "text": [
        "\r",
        "Finding differences of reclassification 25 for data pairs 39 of 45.  Elapsed time: 1.76739777777 hours"
       ]
      },
      {
       "output_type": "stream",
       "stream": "stdout",
       "text": [
        "\r",
        "Finding differences of reclassification 25 for data pairs 40 of 45.  Elapsed time: 1.76890972224 hours"
       ]
      },
      {
       "output_type": "stream",
       "stream": "stdout",
       "text": [
        "\r",
        "Finding differences of reclassification 25 for data pairs 41 of 45.  Elapsed time: 1.77045999997 hours"
       ]
      },
      {
       "output_type": "stream",
       "stream": "stdout",
       "text": [
        "\r",
        "Finding differences of reclassification 25 for data pairs 42 of 45.  Elapsed time: 1.77199166662 hours"
       ]
      },
      {
       "output_type": "stream",
       "stream": "stdout",
       "text": [
        "\r",
        "Finding differences of reclassification 25 for data pairs 43 of 45.  Elapsed time: 1.77352888889 hours"
       ]
      },
      {
       "output_type": "stream",
       "stream": "stdout",
       "text": [
        "\r",
        "Finding differences of reclassification 25 for data pairs 44 of 45.  Elapsed time: 1.77502722224 hours"
       ]
      },
      {
       "output_type": "stream",
       "stream": "stdout",
       "text": [
        "\r",
        "Finding differences of reclassification 25 for data pairs 45 of 45.  Elapsed time: 1.77653388884 hours"
       ]
      },
      {
       "output_type": "stream",
       "stream": "stdout",
       "text": [
        "\r",
        "Finding differences of reclassification 26 for data pairs 1 of 45.  Elapsed time: 1.77802722222 hours"
       ]
      },
      {
       "output_type": "stream",
       "stream": "stdout",
       "text": [
        "\r",
        "Finding differences of reclassification 26 for data pairs 2 of 45.  Elapsed time: 1.77952194446 hours"
       ]
      },
      {
       "output_type": "stream",
       "stream": "stdout",
       "text": [
        "\r",
        "Finding differences of reclassification 26 for data pairs 3 of 45.  Elapsed time: 1.78099944446 hours"
       ]
      },
      {
       "output_type": "stream",
       "stream": "stdout",
       "text": [
        "\r",
        "Finding differences of reclassification 26 for data pairs 4 of 45.  Elapsed time: 1.78260333333 hours"
       ]
      },
      {
       "output_type": "stream",
       "stream": "stdout",
       "text": [
        "\r",
        "Finding differences of reclassification 26 for data pairs 5 of 45.  Elapsed time: 1.78411638889 hours"
       ]
      },
      {
       "output_type": "stream",
       "stream": "stdout",
       "text": [
        "\r",
        "Finding differences of reclassification 26 for data pairs 6 of 45.  Elapsed time: 1.7856108333 hours"
       ]
      },
      {
       "output_type": "stream",
       "stream": "stdout",
       "text": [
        "\r",
        "Finding differences of reclassification 26 for data pairs 7 of 45.  Elapsed time: 1.78714250002 hours"
       ]
      },
      {
       "output_type": "stream",
       "stream": "stdout",
       "text": [
        "\r",
        "Finding differences of reclassification 26 for data pairs 8 of 45.  Elapsed time: 1.78865805553 hours"
       ]
      },
      {
       "output_type": "stream",
       "stream": "stdout",
       "text": [
        "\r",
        "Finding differences of reclassification 26 for data pairs 9 of 45.  Elapsed time: 1.79016944442 hours"
       ]
      },
      {
       "output_type": "stream",
       "stream": "stdout",
       "text": [
        "\r",
        "Finding differences of reclassification 26 for data pairs 10 of 45.  Elapsed time: 1.79167555551 hours"
       ]
      },
      {
       "output_type": "stream",
       "stream": "stdout",
       "text": [
        "\r",
        "Finding differences of reclassification 26 for data pairs 11 of 45.  Elapsed time: 1.79322666665 hours"
       ]
      },
      {
       "output_type": "stream",
       "stream": "stdout",
       "text": [
        "\r",
        "Finding differences of reclassification 26 for data pairs 12 of 45.  Elapsed time: 1.79476472219 hours"
       ]
      },
      {
       "output_type": "stream",
       "stream": "stdout",
       "text": [
        "\r",
        "Finding differences of reclassification 26 for data pairs 13 of 45.  Elapsed time: 1.79624861108 hours"
       ]
      },
      {
       "output_type": "stream",
       "stream": "stdout",
       "text": [
        "\r",
        "Finding differences of reclassification 26 for data pairs 14 of 45.  Elapsed time: 1.79773083329 hours"
       ]
      },
      {
       "output_type": "stream",
       "stream": "stdout",
       "text": [
        "\r",
        "Finding differences of reclassification 26 for data pairs 15 of 45.  Elapsed time: 1.79934999996 hours"
       ]
      },
      {
       "output_type": "stream",
       "stream": "stdout",
       "text": [
        "\r",
        "Finding differences of reclassification 26 for data pairs 16 of 45.  Elapsed time: 1.8010213889 hours"
       ]
      },
      {
       "output_type": "stream",
       "stream": "stdout",
       "text": [
        "\r",
        "Finding differences of reclassification 26 for data pairs 17 of 45.  Elapsed time: 1.8025575 hours"
       ]
      },
      {
       "output_type": "stream",
       "stream": "stdout",
       "text": [
        "\r",
        "Finding differences of reclassification 26 for data pairs 18 of 45.  Elapsed time: 1.80405861113 hours"
       ]
      },
      {
       "output_type": "stream",
       "stream": "stdout",
       "text": [
        "\r",
        "Finding differences of reclassification 26 for data pairs 19 of 45.  Elapsed time: 1.80557777776 hours"
       ]
      },
      {
       "output_type": "stream",
       "stream": "stdout",
       "text": [
        "\r",
        "Finding differences of reclassification 26 for data pairs 20 of 45.  Elapsed time: 1.8072713889 hours"
       ]
      },
      {
       "output_type": "stream",
       "stream": "stdout",
       "text": [
        "\r",
        "Finding differences of reclassification 26 for data pairs 21 of 45.  Elapsed time: 1.80878805551 hours"
       ]
      },
      {
       "output_type": "stream",
       "stream": "stdout",
       "text": [
        "\r",
        "Finding differences of reclassification 26 for data pairs 22 of 45.  Elapsed time: 1.81030861113 hours"
       ]
      },
      {
       "output_type": "stream",
       "stream": "stdout",
       "text": [
        "\r",
        "Finding differences of reclassification 26 for data pairs 23 of 45.  Elapsed time: 1.81183000002 hours"
       ]
      },
      {
       "output_type": "stream",
       "stream": "stdout",
       "text": [
        "\r",
        "Finding differences of reclassification 26 for data pairs 24 of 45.  Elapsed time: 1.8133494444 hours"
       ]
      },
      {
       "output_type": "stream",
       "stream": "stdout",
       "text": [
        "\r",
        "Finding differences of reclassification 26 for data pairs 25 of 45.  Elapsed time: 1.81489916662 hours"
       ]
      },
      {
       "output_type": "stream",
       "stream": "stdout",
       "text": [
        "\r",
        "Finding differences of reclassification 26 for data pairs 26 of 45.  Elapsed time: 1.81643138885 hours"
       ]
      },
      {
       "output_type": "stream",
       "stream": "stdout",
       "text": [
        "\r",
        "Finding differences of reclassification 26 for data pairs 27 of 45.  Elapsed time: 1.817955 hours"
       ]
      },
      {
       "output_type": "stream",
       "stream": "stdout",
       "text": [
        "\r",
        "Finding differences of reclassification 26 for data pairs 28 of 45.  Elapsed time: 1.81950472222 hours"
       ]
      },
      {
       "output_type": "stream",
       "stream": "stdout",
       "text": [
        "\r",
        "Finding differences of reclassification 26 for data pairs 29 of 45.  Elapsed time: 1.82101999998 hours"
       ]
      },
      {
       "output_type": "stream",
       "stream": "stdout",
       "text": [
        "\r",
        "Finding differences of reclassification 26 for data pairs 30 of 45.  Elapsed time: 1.82260111107 hours"
       ]
      },
      {
       "output_type": "stream",
       "stream": "stdout",
       "text": [
        "\r",
        "Finding differences of reclassification 26 for data pairs 31 of 45.  Elapsed time: 1.82412611107 hours"
       ]
      },
      {
       "output_type": "stream",
       "stream": "stdout",
       "text": [
        "\r",
        "Finding differences of reclassification 26 for data pairs 32 of 45.  Elapsed time: 1.82562583334 hours"
       ]
      },
      {
       "output_type": "stream",
       "stream": "stdout",
       "text": [
        "\r",
        "Finding differences of reclassification 26 for data pairs 33 of 45.  Elapsed time: 1.8271552778 hours"
       ]
      },
      {
       "output_type": "stream",
       "stream": "stdout",
       "text": [
        "\r",
        "Finding differences of reclassification 26 for data pairs 34 of 45.  Elapsed time: 1.82869361109 hours"
       ]
      },
      {
       "output_type": "stream",
       "stream": "stdout",
       "text": [
        "\r",
        "Finding differences of reclassification 26 for data pairs 35 of 45.  Elapsed time: 1.83026472218 hours"
       ]
      },
      {
       "output_type": "stream",
       "stream": "stdout",
       "text": [
        "\r",
        "Finding differences of reclassification 26 for data pairs 36 of 45.  Elapsed time: 1.83175777773 hours"
       ]
      },
      {
       "output_type": "stream",
       "stream": "stdout",
       "text": [
        "\r",
        "Finding differences of reclassification 26 for data pairs 37 of 45.  Elapsed time: 1.83328333331 hours"
       ]
      },
      {
       "output_type": "stream",
       "stream": "stdout",
       "text": [
        "\r",
        "Finding differences of reclassification 26 for data pairs 38 of 45.  Elapsed time: 1.83477500002 hours"
       ]
      },
      {
       "output_type": "stream",
       "stream": "stdout",
       "text": [
        "\r",
        "Finding differences of reclassification 26 for data pairs 39 of 45.  Elapsed time: 1.83626777775 hours"
       ]
      },
      {
       "output_type": "stream",
       "stream": "stdout",
       "text": [
        "\r",
        "Finding differences of reclassification 26 for data pairs 40 of 45.  Elapsed time: 1.83781888889 hours"
       ]
      },
      {
       "output_type": "stream",
       "stream": "stdout",
       "text": [
        "\r",
        "Finding differences of reclassification 26 for data pairs 41 of 45.  Elapsed time: 1.83935611109 hours"
       ]
      },
      {
       "output_type": "stream",
       "stream": "stdout",
       "text": [
        "\r",
        "Finding differences of reclassification 26 for data pairs 42 of 45.  Elapsed time: 1.84093666666 hours"
       ]
      },
      {
       "output_type": "stream",
       "stream": "stdout",
       "text": [
        "\r",
        "Finding differences of reclassification 26 for data pairs 43 of 45.  Elapsed time: 1.84260305557 hours"
       ]
      },
      {
       "output_type": "stream",
       "stream": "stdout",
       "text": [
        "\r",
        "Finding differences of reclassification 26 for data pairs 44 of 45.  Elapsed time: 1.84419027779 hours"
       ]
      },
      {
       "output_type": "stream",
       "stream": "stdout",
       "text": [
        "\r",
        "Finding differences of reclassification 26 for data pairs 45 of 45.  Elapsed time: 1.84569444444 hours"
       ]
      },
      {
       "output_type": "stream",
       "stream": "stdout",
       "text": [
        "\r",
        "Finding differences of reclassification 27 for data pairs 1 of 45.  Elapsed time: 1.84719777776 hours"
       ]
      },
      {
       "output_type": "stream",
       "stream": "stdout",
       "text": [
        "\r",
        "Finding differences of reclassification 27 for data pairs 2 of 45.  Elapsed time: 1.84869166666 hours"
       ]
      },
      {
       "output_type": "stream",
       "stream": "stdout",
       "text": [
        "\r",
        "Finding differences of reclassification 27 for data pairs 3 of 45.  Elapsed time: 1.85017416663 hours"
       ]
      },
      {
       "output_type": "stream",
       "stream": "stdout",
       "text": [
        "\r",
        "Finding differences of reclassification 27 for data pairs 4 of 45.  Elapsed time: 1.8516797222 hours"
       ]
      },
      {
       "output_type": "stream",
       "stream": "stdout",
       "text": [
        "\r",
        "Finding differences of reclassification 27 for data pairs 5 of 45.  Elapsed time: 1.85319305552 hours"
       ]
      },
      {
       "output_type": "stream",
       "stream": "stdout",
       "text": [
        "\r",
        "Finding differences of reclassification 27 for data pairs 6 of 45.  Elapsed time: 1.85469416665 hours"
       ]
      },
      {
       "output_type": "stream",
       "stream": "stdout",
       "text": [
        "\r",
        "Finding differences of reclassification 27 for data pairs 7 of 45.  Elapsed time: 1.85620777779 hours"
       ]
      },
      {
       "output_type": "stream",
       "stream": "stdout",
       "text": [
        "\r",
        "Finding differences of reclassification 27 for data pairs 8 of 45.  Elapsed time: 1.85771555556 hours"
       ]
      },
      {
       "output_type": "stream",
       "stream": "stdout",
       "text": [
        "\r",
        "Finding differences of reclassification 27 for data pairs 9 of 45.  Elapsed time: 1.8593244444 hours"
       ]
      },
      {
       "output_type": "stream",
       "stream": "stdout",
       "text": [
        "\r",
        "Finding differences of reclassification 27 for data pairs 10 of 45.  Elapsed time: 1.86083888888 hours"
       ]
      },
      {
       "output_type": "stream",
       "stream": "stdout",
       "text": [
        "\r",
        "Finding differences of reclassification 27 for data pairs 11 of 45.  Elapsed time: 1.86234861109 hours"
       ]
      },
      {
       "output_type": "stream",
       "stream": "stdout",
       "text": [
        "\r",
        "Finding differences of reclassification 27 for data pairs 12 of 45.  Elapsed time: 1.86400111112 hours"
       ]
      },
      {
       "output_type": "stream",
       "stream": "stdout",
       "text": [
        "\r",
        "Finding differences of reclassification 27 for data pairs 13 of 45.  Elapsed time: 1.86561527775 hours"
       ]
      },
      {
       "output_type": "stream",
       "stream": "stdout",
       "text": [
        "\r",
        "Finding differences of reclassification 27 for data pairs 14 of 45.  Elapsed time: 1.86711138884 hours"
       ]
      },
      {
       "output_type": "stream",
       "stream": "stdout",
       "text": [
        "\r",
        "Finding differences of reclassification 27 for data pairs 15 of 45.  Elapsed time: 1.86863527775 hours"
       ]
      },
      {
       "output_type": "stream",
       "stream": "stdout",
       "text": [
        "\r",
        "Finding differences of reclassification 27 for data pairs 16 of 45.  Elapsed time: 1.87012222224 hours"
       ]
      },
      {
       "output_type": "stream",
       "stream": "stdout",
       "text": [
        "\r",
        "Finding differences of reclassification 27 for data pairs 17 of 45.  Elapsed time: 1.87163472222 hours"
       ]
      },
      {
       "output_type": "stream",
       "stream": "stdout",
       "text": [
        "\r",
        "Finding differences of reclassification 27 for data pairs 18 of 45.  Elapsed time: 1.87314999998 hours"
       ]
      },
      {
       "output_type": "stream",
       "stream": "stdout",
       "text": [
        "\r",
        "Finding differences of reclassification 27 for data pairs 19 of 45.  Elapsed time: 1.8746763889 hours"
       ]
      },
      {
       "output_type": "stream",
       "stream": "stdout",
       "text": [
        "\r",
        "Finding differences of reclassification 27 for data pairs 20 of 45.  Elapsed time: 1.87617777778 hours"
       ]
      },
      {
       "output_type": "stream",
       "stream": "stdout",
       "text": [
        "\r",
        "Finding differences of reclassification 27 for data pairs 21 of 45.  Elapsed time: 1.87777055555 hours"
       ]
      },
      {
       "output_type": "stream",
       "stream": "stdout",
       "text": [
        "\r",
        "Finding differences of reclassification 27 for data pairs 22 of 45.  Elapsed time: 1.87940888888 hours"
       ]
      },
      {
       "output_type": "stream",
       "stream": "stdout",
       "text": [
        "\r",
        "Finding differences of reclassification 27 for data pairs 23 of 45.  Elapsed time: 1.88099555552 hours"
       ]
      },
      {
       "output_type": "stream",
       "stream": "stdout",
       "text": [
        "\r",
        "Finding differences of reclassification 27 for data pairs 24 of 45.  Elapsed time: 1.88250472221 hours"
       ]
      },
      {
       "output_type": "stream",
       "stream": "stdout",
       "text": [
        "\r",
        "Finding differences of reclassification 27 for data pairs 25 of 45.  Elapsed time: 1.88401222222 hours"
       ]
      },
      {
       "output_type": "stream",
       "stream": "stdout",
       "text": [
        "\r",
        "Finding differences of reclassification 27 for data pairs 26 of 45.  Elapsed time: 1.88552138885 hours"
       ]
      },
      {
       "output_type": "stream",
       "stream": "stdout",
       "text": [
        "\r",
        "Finding differences of reclassification 27 for data pairs 27 of 45.  Elapsed time: 1.88706777778 hours"
       ]
      },
      {
       "output_type": "stream",
       "stream": "stdout",
       "text": [
        "\r",
        "Finding differences of reclassification 27 for data pairs 28 of 45.  Elapsed time: 1.8886872222 hours"
       ]
      },
      {
       "output_type": "stream",
       "stream": "stdout",
       "text": [
        "\r",
        "Finding differences of reclassification 27 for data pairs 29 of 45.  Elapsed time: 1.8902033333 hours"
       ]
      },
      {
       "output_type": "stream",
       "stream": "stdout",
       "text": [
        "\r",
        "Finding differences of reclassification 27 for data pairs 30 of 45.  Elapsed time: 1.89173583329 hours"
       ]
      },
      {
       "output_type": "stream",
       "stream": "stdout",
       "text": [
        "\r",
        "Finding differences of reclassification 27 for data pairs 31 of 45.  Elapsed time: 1.89331555552 hours"
       ]
      },
      {
       "output_type": "stream",
       "stream": "stdout",
       "text": [
        "\r",
        "Finding differences of reclassification 27 for data pairs 32 of 45.  Elapsed time: 1.89483333329 hours"
       ]
      },
      {
       "output_type": "stream",
       "stream": "stdout",
       "text": [
        "\r",
        "Finding differences of reclassification 27 for data pairs 33 of 45.  Elapsed time: 1.89635694444 hours"
       ]
      },
      {
       "output_type": "stream",
       "stream": "stdout",
       "text": [
        "\r",
        "Finding differences of reclassification 27 for data pairs 34 of 45.  Elapsed time: 1.89790249997 hours"
       ]
      },
      {
       "output_type": "stream",
       "stream": "stdout",
       "text": [
        "\r",
        "Finding differences of reclassification 27 for data pairs 35 of 45.  Elapsed time: 1.89942111108 hours"
       ]
      },
      {
       "output_type": "stream",
       "stream": "stdout",
       "text": [
        "\r",
        "Finding differences of reclassification 27 for data pairs 36 of 45.  Elapsed time: 1.90090694441 hours"
       ]
      },
      {
       "output_type": "stream",
       "stream": "stdout",
       "text": [
        "\r",
        "Finding differences of reclassification 27 for data pairs 37 of 45.  Elapsed time: 1.90241944446 hours"
       ]
      },
      {
       "output_type": "stream",
       "stream": "stdout",
       "text": [
        "\r",
        "Finding differences of reclassification 27 for data pairs 38 of 45.  Elapsed time: 1.90390138884 hours"
       ]
      },
      {
       "output_type": "stream",
       "stream": "stdout",
       "text": [
        "\r",
        "Finding differences of reclassification 27 for data pairs 39 of 45.  Elapsed time: 1.90539527774 hours"
       ]
      },
      {
       "output_type": "stream",
       "stream": "stdout",
       "text": [
        "\r",
        "Finding differences of reclassification 27 for data pairs 40 of 45.  Elapsed time: 1.90692055557 hours"
       ]
      },
      {
       "output_type": "stream",
       "stream": "stdout",
       "text": [
        "\r",
        "Finding differences of reclassification 27 for data pairs 41 of 45.  Elapsed time: 1.90842944443 hours"
       ]
      },
      {
       "output_type": "stream",
       "stream": "stdout",
       "text": [
        "\r",
        "Finding differences of reclassification 27 for data pairs 42 of 45.  Elapsed time: 1.90997305552 hours"
       ]
      },
      {
       "output_type": "stream",
       "stream": "stdout",
       "text": [
        "\r",
        "Finding differences of reclassification 27 for data pairs 43 of 45.  Elapsed time: 1.91151333332 hours"
       ]
      },
      {
       "output_type": "stream",
       "stream": "stdout",
       "text": [
        "\r",
        "Finding differences of reclassification 27 for data pairs 44 of 45.  Elapsed time: 1.91306277778 hours"
       ]
      },
      {
       "output_type": "stream",
       "stream": "stdout",
       "text": [
        "\r",
        "Finding differences of reclassification 27 for data pairs 45 of 45.  Elapsed time: 1.9145661111 hours"
       ]
      },
      {
       "output_type": "stream",
       "stream": "stdout",
       "text": [
        "\r",
        "Finding differences of reclassification 28 for data pairs 1 of 45.  Elapsed time: 1.91607444445 hours"
       ]
      },
      {
       "output_type": "stream",
       "stream": "stdout",
       "text": [
        "\r",
        "Finding differences of reclassification 28 for data pairs 2 of 45.  Elapsed time: 1.91757777777 hours"
       ]
      },
      {
       "output_type": "stream",
       "stream": "stdout",
       "text": [
        "\r",
        "Finding differences of reclassification 28 for data pairs 3 of 45.  Elapsed time: 1.91911611107 hours"
       ]
      },
      {
       "output_type": "stream",
       "stream": "stdout",
       "text": [
        "\r",
        "Finding differences of reclassification 28 for data pairs 4 of 45.  Elapsed time: 1.92064333333 hours"
       ]
      },
      {
       "output_type": "stream",
       "stream": "stdout",
       "text": [
        "\r",
        "Finding differences of reclassification 28 for data pairs 5 of 45.  Elapsed time: 1.92217527774 hours"
       ]
      },
      {
       "output_type": "stream",
       "stream": "stdout",
       "text": [
        "\r",
        "Finding differences of reclassification 28 for data pairs 6 of 45.  Elapsed time: 1.92365888887 hours"
       ]
      },
      {
       "output_type": "stream",
       "stream": "stdout",
       "text": [
        "\r",
        "Finding differences of reclassification 28 for data pairs 7 of 45.  Elapsed time: 1.92517916666 hours"
       ]
      },
      {
       "output_type": "stream",
       "stream": "stdout",
       "text": [
        "\r",
        "Finding differences of reclassification 28 for data pairs 8 of 45.  Elapsed time: 1.92670055555 hours"
       ]
      },
      {
       "output_type": "stream",
       "stream": "stdout",
       "text": [
        "\r",
        "Finding differences of reclassification 28 for data pairs 9 of 45.  Elapsed time: 1.92817666663 hours"
       ]
      },
      {
       "output_type": "stream",
       "stream": "stdout",
       "text": [
        "\r",
        "Finding differences of reclassification 28 for data pairs 10 of 45.  Elapsed time: 1.9296522222 hours"
       ]
      },
      {
       "output_type": "stream",
       "stream": "stdout",
       "text": [
        "\r",
        "Finding differences of reclassification 28 for data pairs 11 of 45.  Elapsed time: 1.93115166664 hours"
       ]
      },
      {
       "output_type": "stream",
       "stream": "stdout",
       "text": [
        "\r",
        "Finding differences of reclassification 28 for data pairs 12 of 45.  Elapsed time: 1.9326788889 hours"
       ]
      },
      {
       "output_type": "stream",
       "stream": "stdout",
       "text": [
        "\r",
        "Finding differences of reclassification 28 for data pairs 13 of 45.  Elapsed time: 1.93422749996 hours"
       ]
      },
      {
       "output_type": "stream",
       "stream": "stdout",
       "text": [
        "\r",
        "Finding differences of reclassification 28 for data pairs 14 of 45.  Elapsed time: 1.93577083329 hours"
       ]
      },
      {
       "output_type": "stream",
       "stream": "stdout",
       "text": [
        "\r",
        "Finding differences of reclassification 28 for data pairs 15 of 45.  Elapsed time: 1.93727749997 hours"
       ]
      },
      {
       "output_type": "stream",
       "stream": "stdout",
       "text": [
        "\r",
        "Finding differences of reclassification 28 for data pairs 16 of 45.  Elapsed time: 1.93877277778 hours"
       ]
      },
      {
       "output_type": "stream",
       "stream": "stdout",
       "text": [
        "\r",
        "Finding differences of reclassification 28 for data pairs 17 of 45.  Elapsed time: 1.94032333334 hours"
       ]
      },
      {
       "output_type": "stream",
       "stream": "stdout",
       "text": [
        "\r",
        "Finding differences of reclassification 28 for data pairs 18 of 45.  Elapsed time: 1.9418386111 hours"
       ]
      },
      {
       "output_type": "stream",
       "stream": "stdout",
       "text": [
        "\r",
        "Finding differences of reclassification 28 for data pairs 19 of 45.  Elapsed time: 1.9433788889 hours"
       ]
      },
      {
       "output_type": "stream",
       "stream": "stdout",
       "text": [
        "\r",
        "Finding differences of reclassification 28 for data pairs 20 of 45.  Elapsed time: 1.94486055553 hours"
       ]
      },
      {
       "output_type": "stream",
       "stream": "stdout",
       "text": [
        "\r",
        "Finding differences of reclassification 28 for data pairs 21 of 45.  Elapsed time: 1.94637305551 hours"
       ]
      },
      {
       "output_type": "stream",
       "stream": "stdout",
       "text": [
        "\r",
        "Finding differences of reclassification 28 for data pairs 22 of 45.  Elapsed time: 1.9478833333 hours"
       ]
      },
      {
       "output_type": "stream",
       "stream": "stdout",
       "text": [
        "\r",
        "Finding differences of reclassification 28 for data pairs 23 of 45.  Elapsed time: 1.94938694444 hours"
       ]
      },
      {
       "output_type": "stream",
       "stream": "stdout",
       "text": [
        "\r",
        "Finding differences of reclassification 28 for data pairs 24 of 45.  Elapsed time: 1.95091194444 hours"
       ]
      },
      {
       "output_type": "stream",
       "stream": "stdout",
       "text": [
        "\r",
        "Finding differences of reclassification 28 for data pairs 25 of 45.  Elapsed time: 1.95249555555 hours"
       ]
      },
      {
       "output_type": "stream",
       "stream": "stdout",
       "text": [
        "\r",
        "Finding differences of reclassification 28 for data pairs 26 of 45.  Elapsed time: 1.95408777773 hours"
       ]
      },
      {
       "output_type": "stream",
       "stream": "stdout",
       "text": [
        "\r",
        "Finding differences of reclassification 28 for data pairs 27 of 45.  Elapsed time: 1.95586555554 hours"
       ]
      },
      {
       "output_type": "stream",
       "stream": "stdout",
       "text": [
        "\r",
        "Finding differences of reclassification 28 for data pairs 28 of 45.  Elapsed time: 1.95767861108 hours"
       ]
      },
      {
       "output_type": "stream",
       "stream": "stdout",
       "text": [
        "\r",
        "Finding differences of reclassification 28 for data pairs 29 of 45.  Elapsed time: 1.95940388885 hours"
       ]
      },
      {
       "output_type": "stream",
       "stream": "stdout",
       "text": [
        "\r",
        "Finding differences of reclassification 28 for data pairs 30 of 45.  Elapsed time: 1.96097638885 hours"
       ]
      },
      {
       "output_type": "stream",
       "stream": "stdout",
       "text": [
        "\r",
        "Finding differences of reclassification 28 for data pairs 31 of 45.  Elapsed time: 1.96254972219 hours"
       ]
      },
      {
       "output_type": "stream",
       "stream": "stdout",
       "text": [
        "\r",
        "Finding differences of reclassification 28 for data pairs 32 of 45.  Elapsed time: 1.96405999998 hours"
       ]
      },
      {
       "output_type": "stream",
       "stream": "stdout",
       "text": [
        "\r",
        "Finding differences of reclassification 28 for data pairs 33 of 45.  Elapsed time: 1.96559472223 hours"
       ]
      },
      {
       "output_type": "stream",
       "stream": "stdout",
       "text": [
        "\r",
        "Finding differences of reclassification 28 for data pairs 34 of 45.  Elapsed time: 1.9671269444 hours"
       ]
      },
      {
       "output_type": "stream",
       "stream": "stdout",
       "text": [
        "\r",
        "Finding differences of reclassification 28 for data pairs 35 of 45.  Elapsed time: 1.96863472223 hours"
       ]
      },
      {
       "output_type": "stream",
       "stream": "stdout",
       "text": [
        "\r",
        "Finding differences of reclassification 28 for data pairs 36 of 45.  Elapsed time: 1.97014055557 hours"
       ]
      },
      {
       "output_type": "stream",
       "stream": "stdout",
       "text": [
        "\r",
        "Finding differences of reclassification 28 for data pairs 37 of 45.  Elapsed time: 1.9717172222 hours"
       ]
      },
      {
       "output_type": "stream",
       "stream": "stdout",
       "text": [
        "\r",
        "Finding differences of reclassification 28 for data pairs 38 of 45.  Elapsed time: 1.97323444446 hours"
       ]
      },
      {
       "output_type": "stream",
       "stream": "stdout",
       "text": [
        "\r",
        "Finding differences of reclassification 28 for data pairs 39 of 45.  Elapsed time: 1.97478222218 hours"
       ]
      },
      {
       "output_type": "stream",
       "stream": "stdout",
       "text": [
        "\r",
        "Finding differences of reclassification 28 for data pairs 40 of 45.  Elapsed time: 1.9763361111 hours"
       ]
      },
      {
       "output_type": "stream",
       "stream": "stdout",
       "text": [
        "\r",
        "Finding differences of reclassification 28 for data pairs 41 of 45.  Elapsed time: 1.97788777775 hours"
       ]
      },
      {
       "output_type": "stream",
       "stream": "stdout",
       "text": [
        "\r",
        "Finding differences of reclassification 28 for data pairs 42 of 45.  Elapsed time: 1.97941500001 hours"
       ]
      },
      {
       "output_type": "stream",
       "stream": "stdout",
       "text": [
        "\r",
        "Finding differences of reclassification 28 for data pairs 43 of 45.  Elapsed time: 1.98095166663 hours"
       ]
      },
      {
       "output_type": "stream",
       "stream": "stdout",
       "text": [
        "\r",
        "Finding differences of reclassification 28 for data pairs 44 of 45.  Elapsed time: 1.98245972223 hours"
       ]
      },
      {
       "output_type": "stream",
       "stream": "stdout",
       "text": [
        "\r",
        "Finding differences of reclassification 28 for data pairs 45 of 45.  Elapsed time: 1.98398444441 hours"
       ]
      },
      {
       "output_type": "stream",
       "stream": "stdout",
       "text": [
        "\r",
        "Finding differences of reclassification 29 for data pairs 1 of 45.  Elapsed time: 1.98549444444 hours"
       ]
      },
      {
       "output_type": "stream",
       "stream": "stdout",
       "text": [
        "\r",
        "Finding differences of reclassification 29 for data pairs 2 of 45.  Elapsed time: 1.98701666666 hours"
       ]
      },
      {
       "output_type": "stream",
       "stream": "stdout",
       "text": [
        "\r",
        "Finding differences of reclassification 29 for data pairs 3 of 45.  Elapsed time: 1.98852388885 hours"
       ]
      },
      {
       "output_type": "stream",
       "stream": "stdout",
       "text": [
        "\r",
        "Finding differences of reclassification 29 for data pairs 4 of 45.  Elapsed time: 1.99008305556 hours"
       ]
      },
      {
       "output_type": "stream",
       "stream": "stdout",
       "text": [
        "\r",
        "Finding differences of reclassification 29 for data pairs 5 of 45.  Elapsed time: 1.99161333329 hours"
       ]
      },
      {
       "output_type": "stream",
       "stream": "stdout",
       "text": [
        "\r",
        "Finding differences of reclassification 29 for data pairs 6 of 45.  Elapsed time: 1.99312222222 hours"
       ]
      },
      {
       "output_type": "stream",
       "stream": "stdout",
       "text": [
        "\r",
        "Finding differences of reclassification 29 for data pairs 7 of 45.  Elapsed time: 1.99482194444 hours"
       ]
      },
      {
       "output_type": "stream",
       "stream": "stdout",
       "text": [
        "\r",
        "Finding differences of reclassification 29 for data pairs 8 of 45.  Elapsed time: 1.99636027773 hours"
       ]
      },
      {
       "output_type": "stream",
       "stream": "stdout",
       "text": [
        "\r",
        "Finding differences of reclassification 29 for data pairs 9 of 45.  Elapsed time: 1.99788000001 hours"
       ]
      },
      {
       "output_type": "stream",
       "stream": "stdout",
       "text": [
        "\r",
        "Finding differences of reclassification 29 for data pairs 10 of 45.  Elapsed time: 1.9995286111 hours"
       ]
      },
      {
       "output_type": "stream",
       "stream": "stdout",
       "text": [
        "\r",
        "Finding differences of reclassification 29 for data pairs 11 of 45.  Elapsed time: 2.00119361109 hours"
       ]
      },
      {
       "output_type": "stream",
       "stream": "stdout",
       "text": [
        "\r",
        "Finding differences of reclassification 29 for data pairs 12 of 45.  Elapsed time: 2.00299666663 hours"
       ]
      },
      {
       "output_type": "stream",
       "stream": "stdout",
       "text": [
        "\r",
        "Finding differences of reclassification 29 for data pairs 13 of 45.  Elapsed time: 2.00453138888 hours"
       ]
      },
      {
       "output_type": "stream",
       "stream": "stdout",
       "text": [
        "\r",
        "Finding differences of reclassification 29 for data pairs 14 of 45.  Elapsed time: 2.00604777773 hours"
       ]
      },
      {
       "output_type": "stream",
       "stream": "stdout",
       "text": [
        "\r",
        "Finding differences of reclassification 29 for data pairs 15 of 45.  Elapsed time: 2.00760388884 hours"
       ]
      },
      {
       "output_type": "stream",
       "stream": "stdout",
       "text": [
        "\r",
        "Finding differences of reclassification 29 for data pairs 16 of 45.  Elapsed time: 2.00919694444 hours"
       ]
      },
      {
       "output_type": "stream",
       "stream": "stdout",
       "text": [
        "\r",
        "Finding differences of reclassification 29 for data pairs 17 of 45.  Elapsed time: 2.01076361107 hours"
       ]
      },
      {
       "output_type": "stream",
       "stream": "stdout",
       "text": [
        "\r",
        "Finding differences of reclassification 29 for data pairs 18 of 45.  Elapsed time: 2.01230138885 hours"
       ]
      },
      {
       "output_type": "stream",
       "stream": "stdout",
       "text": [
        "\r",
        "Finding differences of reclassification 29 for data pairs 19 of 45.  Elapsed time: 2.01395944443 hours"
       ]
      },
      {
       "output_type": "stream",
       "stream": "stdout",
       "text": [
        "\r",
        "Finding differences of reclassification 29 for data pairs 20 of 45.  Elapsed time: 2.0154883333 hours"
       ]
      },
      {
       "output_type": "stream",
       "stream": "stdout",
       "text": [
        "\r",
        "Finding differences of reclassification 29 for data pairs 21 of 45.  Elapsed time: 2.01718249997 hours"
       ]
      },
      {
       "output_type": "stream",
       "stream": "stdout",
       "text": [
        "\r",
        "Finding differences of reclassification 29 for data pairs 22 of 45.  Elapsed time: 2.01894944443 hours"
       ]
      },
      {
       "output_type": "stream",
       "stream": "stdout",
       "text": [
        "\r",
        "Finding differences of reclassification 29 for data pairs 23 of 45.  Elapsed time: 2.02045472218 hours"
       ]
      },
      {
       "output_type": "stream",
       "stream": "stdout",
       "text": [
        "\r",
        "Finding differences of reclassification 29 for data pairs 24 of 45.  Elapsed time: 2.02204305556 hours"
       ]
      },
      {
       "output_type": "stream",
       "stream": "stdout",
       "text": [
        "\r",
        "Finding differences of reclassification 29 for data pairs 25 of 45.  Elapsed time: 2.02359722224 hours"
       ]
      },
      {
       "output_type": "stream",
       "stream": "stdout",
       "text": [
        "\r",
        "Finding differences of reclassification 29 for data pairs 26 of 45.  Elapsed time: 2.02513111108 hours"
       ]
      },
      {
       "output_type": "stream",
       "stream": "stdout",
       "text": [
        "\r",
        "Finding differences of reclassification 29 for data pairs 27 of 45.  Elapsed time: 2.0266586111 hours"
       ]
      },
      {
       "output_type": "stream",
       "stream": "stdout",
       "text": [
        "\r",
        "Finding differences of reclassification 29 for data pairs 28 of 45.  Elapsed time: 2.02826722218 hours"
       ]
      },
      {
       "output_type": "stream",
       "stream": "stdout",
       "text": [
        "\r",
        "Finding differences of reclassification 29 for data pairs 29 of 45.  Elapsed time: 2.02976749996 hours"
       ]
      },
      {
       "output_type": "stream",
       "stream": "stdout",
       "text": [
        "\r",
        "Finding differences of reclassification 29 for data pairs 30 of 45.  Elapsed time: 2.03133166664 hours"
       ]
      },
      {
       "output_type": "stream",
       "stream": "stdout",
       "text": [
        "\r",
        "Finding differences of reclassification 29 for data pairs 31 of 45.  Elapsed time: 2.03284749998 hours"
       ]
      },
      {
       "output_type": "stream",
       "stream": "stdout",
       "text": [
        "\r",
        "Finding differences of reclassification 29 for data pairs 32 of 45.  Elapsed time: 2.0343344444 hours"
       ]
      },
      {
       "output_type": "stream",
       "stream": "stdout",
       "text": [
        "\r",
        "Finding differences of reclassification 29 for data pairs 33 of 45.  Elapsed time: 2.03586499996 hours"
       ]
      },
      {
       "output_type": "stream",
       "stream": "stdout",
       "text": [
        "\r",
        "Finding differences of reclassification 29 for data pairs 34 of 45.  Elapsed time: 2.03739111112 hours"
       ]
      },
      {
       "output_type": "stream",
       "stream": "stdout",
       "text": [
        "\r",
        "Finding differences of reclassification 29 for data pairs 35 of 45.  Elapsed time: 2.03887777779 hours"
       ]
      },
      {
       "output_type": "stream",
       "stream": "stdout",
       "text": [
        "\r",
        "Finding differences of reclassification 29 for data pairs 36 of 45.  Elapsed time: 2.04043833329 hours"
       ]
      },
      {
       "output_type": "stream",
       "stream": "stdout",
       "text": [
        "\r",
        "Finding differences of reclassification 29 for data pairs 37 of 45.  Elapsed time: 2.04194944441 hours"
       ]
      },
      {
       "output_type": "stream",
       "stream": "stdout",
       "text": [
        "\r",
        "Finding differences of reclassification 29 for data pairs 38 of 45.  Elapsed time: 2.04343611108 hours"
       ]
      },
      {
       "output_type": "stream",
       "stream": "stdout",
       "text": [
        "\r",
        "Finding differences of reclassification 29 for data pairs 39 of 45.  Elapsed time: 2.04492638886 hours"
       ]
      },
      {
       "output_type": "stream",
       "stream": "stdout",
       "text": [
        "\r",
        "Finding differences of reclassification 29 for data pairs 40 of 45.  Elapsed time: 2.04649805552 hours"
       ]
      },
      {
       "output_type": "stream",
       "stream": "stdout",
       "text": [
        "\r",
        "Finding differences of reclassification 29 for data pairs 41 of 45.  Elapsed time: 2.04827499999 hours"
       ]
      },
      {
       "output_type": "stream",
       "stream": "stdout",
       "text": [
        "\r",
        "Finding differences of reclassification 29 for data pairs 42 of 45.  Elapsed time: 2.05013388885 hours"
       ]
      },
      {
       "output_type": "stream",
       "stream": "stdout",
       "text": [
        "\r",
        "Finding differences of reclassification 29 for data pairs 43 of 45.  Elapsed time: 2.05179444446 hours"
       ]
      },
      {
       "output_type": "stream",
       "stream": "stdout",
       "text": [
        "\r",
        "Finding differences of reclassification 29 for data pairs 44 of 45.  Elapsed time: 2.05368666662 hours"
       ]
      },
      {
       "output_type": "stream",
       "stream": "stdout",
       "text": [
        "\r",
        "Finding differences of reclassification 29 for data pairs 45 of 45.  Elapsed time: 2.05565222224 hours"
       ]
      },
      {
       "output_type": "stream",
       "stream": "stdout",
       "text": [
        "\r",
        "Finding differences of reclassification 30 for data pairs 1 of 45.  Elapsed time: 2.05728444444 hours"
       ]
      },
      {
       "output_type": "stream",
       "stream": "stdout",
       "text": [
        "\r",
        "Finding differences of reclassification 30 for data pairs 2 of 45.  Elapsed time: 2.05887722221 hours"
       ]
      },
      {
       "output_type": "stream",
       "stream": "stdout",
       "text": [
        "\r",
        "Finding differences of reclassification 30 for data pairs 3 of 45.  Elapsed time: 2.06036416663 hours"
       ]
      },
      {
       "output_type": "stream",
       "stream": "stdout",
       "text": [
        "\r",
        "Finding differences of reclassification 30 for data pairs 4 of 45.  Elapsed time: 2.06189888888 hours"
       ]
      },
      {
       "output_type": "stream",
       "stream": "stdout",
       "text": [
        "\r",
        "Finding differences of reclassification 30 for data pairs 5 of 45.  Elapsed time: 2.06346999996 hours"
       ]
      },
      {
       "output_type": "stream",
       "stream": "stdout",
       "text": [
        "\r",
        "Finding differences of reclassification 30 for data pairs 6 of 45.  Elapsed time: 2.0649647222 hours"
       ]
      },
      {
       "output_type": "stream",
       "stream": "stdout",
       "text": [
        "\r",
        "Finding differences of reclassification 30 for data pairs 7 of 45.  Elapsed time: 2.06648416665 hours"
       ]
      },
      {
       "output_type": "stream",
       "stream": "stdout",
       "text": [
        "\r",
        "Finding differences of reclassification 30 for data pairs 8 of 45.  Elapsed time: 2.06799749997 hours"
       ]
      },
      {
       "output_type": "stream",
       "stream": "stdout",
       "text": [
        "\r",
        "Finding differences of reclassification 30 for data pairs 9 of 45.  Elapsed time: 2.06949583332 hours"
       ]
      },
      {
       "output_type": "stream",
       "stream": "stdout",
       "text": [
        "\r",
        "Finding differences of reclassification 30 for data pairs 10 of 45.  Elapsed time: 2.07097805553 hours"
       ]
      },
      {
       "output_type": "stream",
       "stream": "stdout",
       "text": [
        "\r",
        "Finding differences of reclassification 30 for data pairs 11 of 45.  Elapsed time: 2.07248805556 hours"
       ]
      },
      {
       "output_type": "stream",
       "stream": "stdout",
       "text": [
        "\r",
        "Finding differences of reclassification 30 for data pairs 12 of 45.  Elapsed time: 2.07402333332 hours"
       ]
      },
      {
       "output_type": "stream",
       "stream": "stdout",
       "text": [
        "\r",
        "Finding differences of reclassification 30 for data pairs 13 of 45.  Elapsed time: 2.0755136111 hours"
       ]
      },
      {
       "output_type": "stream",
       "stream": "stdout",
       "text": [
        "\r",
        "Finding differences of reclassification 30 for data pairs 14 of 45.  Elapsed time: 2.07699416664 hours"
       ]
      },
      {
       "output_type": "stream",
       "stream": "stdout",
       "text": [
        "\r",
        "Finding differences of reclassification 30 for data pairs 15 of 45.  Elapsed time: 2.07851583329 hours"
       ]
      },
      {
       "output_type": "stream",
       "stream": "stdout",
       "text": [
        "\r",
        "Finding differences of reclassification 30 for data pairs 16 of 45.  Elapsed time: 2.0800122222 hours"
       ]
      },
      {
       "output_type": "stream",
       "stream": "stdout",
       "text": [
        "\r",
        "Finding differences of reclassification 30 for data pairs 17 of 45.  Elapsed time: 2.08152861112 hours"
       ]
      },
      {
       "output_type": "stream",
       "stream": "stdout",
       "text": [
        "\r",
        "Finding differences of reclassification 30 for data pairs 18 of 45.  Elapsed time: 2.0830188889 hours"
       ]
      },
      {
       "output_type": "stream",
       "stream": "stdout",
       "text": [
        "\r",
        "Finding differences of reclassification 30 for data pairs 19 of 45.  Elapsed time: 2.08451499999 hours"
       ]
      },
      {
       "output_type": "stream",
       "stream": "stdout",
       "text": [
        "\r",
        "Finding differences of reclassification 30 for data pairs 20 of 45.  Elapsed time: 2.08600861112 hours"
       ]
      },
      {
       "output_type": "stream",
       "stream": "stdout",
       "text": [
        "\r",
        "Finding differences of reclassification 30 for data pairs 21 of 45.  Elapsed time: 2.0875122222 hours"
       ]
      },
      {
       "output_type": "stream",
       "stream": "stdout",
       "text": [
        "\r",
        "Finding differences of reclassification 30 for data pairs 22 of 45.  Elapsed time: 2.08903111107 hours"
       ]
      },
      {
       "output_type": "stream",
       "stream": "stdout",
       "text": [
        "\r",
        "Finding differences of reclassification 30 for data pairs 23 of 45.  Elapsed time: 2.09048805555 hours"
       ]
      },
      {
       "output_type": "stream",
       "stream": "stdout",
       "text": [
        "\r",
        "Finding differences of reclassification 30 for data pairs 24 of 45.  Elapsed time: 2.09195555554 hours"
       ]
      },
      {
       "output_type": "stream",
       "stream": "stdout",
       "text": [
        "\r",
        "Finding differences of reclassification 30 for data pairs 25 of 45.  Elapsed time: 2.09343972219 hours"
       ]
      },
      {
       "output_type": "stream",
       "stream": "stdout",
       "text": [
        "\r",
        "Finding differences of reclassification 30 for data pairs 26 of 45.  Elapsed time: 2.09492388884 hours"
       ]
      },
      {
       "output_type": "stream",
       "stream": "stdout",
       "text": [
        "\r",
        "Finding differences of reclassification 30 for data pairs 27 of 45.  Elapsed time: 2.09641055551 hours"
       ]
      },
      {
       "output_type": "stream",
       "stream": "stdout",
       "text": [
        "\r",
        "Finding differences of reclassification 30 for data pairs 28 of 45.  Elapsed time: 2.09793666667 hours"
       ]
      },
      {
       "output_type": "stream",
       "stream": "stdout",
       "text": [
        "\r",
        "Finding differences of reclassification 30 for data pairs 29 of 45.  Elapsed time: 2.09942499995 hours"
       ]
      },
      {
       "output_type": "stream",
       "stream": "stdout",
       "text": [
        "\r",
        "Finding differences of reclassification 30 for data pairs 30 of 45.  Elapsed time: 2.10093277779 hours"
       ]
      },
      {
       "output_type": "stream",
       "stream": "stdout",
       "text": [
        "\r",
        "Finding differences of reclassification 30 for data pairs 31 of 45.  Elapsed time: 2.10242777778 hours"
       ]
      },
      {
       "output_type": "stream",
       "stream": "stdout",
       "text": [
        "\r",
        "Finding differences of reclassification 30 for data pairs 32 of 45.  Elapsed time: 2.10388694445 hours"
       ]
      },
      {
       "output_type": "stream",
       "stream": "stdout",
       "text": [
        "\r",
        "Finding differences of reclassification 30 for data pairs 33 of 45.  Elapsed time: 2.1053963889 hours"
       ]
      },
      {
       "output_type": "stream",
       "stream": "stdout",
       "text": [
        "\r",
        "Finding differences of reclassification 30 for data pairs 34 of 45.  Elapsed time: 2.1068872222 hours"
       ]
      },
      {
       "output_type": "stream",
       "stream": "stdout",
       "text": [
        "\r",
        "Finding differences of reclassification 30 for data pairs 35 of 45.  Elapsed time: 2.10859805551 hours"
       ]
      },
      {
       "output_type": "stream",
       "stream": "stdout",
       "text": [
        "\r",
        "Finding differences of reclassification 30 for data pairs 36 of 45.  Elapsed time: 2.11019444446 hours"
       ]
      },
      {
       "output_type": "stream",
       "stream": "stdout",
       "text": [
        "\r",
        "Finding differences of reclassification 30 for data pairs 37 of 45.  Elapsed time: 2.11183638891 hours"
       ]
      },
      {
       "output_type": "stream",
       "stream": "stdout",
       "text": [
        "\r",
        "Finding differences of reclassification 30 for data pairs 38 of 45.  Elapsed time: 2.11336972223 hours"
       ]
      },
      {
       "output_type": "stream",
       "stream": "stdout",
       "text": [
        "\r",
        "Finding differences of reclassification 30 for data pairs 39 of 45.  Elapsed time: 2.11505416665 hours"
       ]
      },
      {
       "output_type": "stream",
       "stream": "stdout",
       "text": [
        "\r",
        "Finding differences of reclassification 30 for data pairs 40 of 45.  Elapsed time: 2.1166333333 hours"
       ]
      },
      {
       "output_type": "stream",
       "stream": "stdout",
       "text": [
        "\r",
        "Finding differences of reclassification 30 for data pairs 41 of 45.  Elapsed time: 2.11830916663 hours"
       ]
      },
      {
       "output_type": "stream",
       "stream": "stdout",
       "text": [
        "\r",
        "Finding differences of reclassification 30 for data pairs 42 of 45.  Elapsed time: 2.11995027774 hours"
       ]
      },
      {
       "output_type": "stream",
       "stream": "stdout",
       "text": [
        "\r",
        "Finding differences of reclassification 30 for data pairs 43 of 45.  Elapsed time: 2.12159027775 hours"
       ]
      },
      {
       "output_type": "stream",
       "stream": "stdout",
       "text": [
        "\r",
        "Finding differences of reclassification 30 for data pairs 44 of 45.  Elapsed time: 2.12320055551 hours"
       ]
      },
      {
       "output_type": "stream",
       "stream": "stdout",
       "text": [
        "\r",
        "Finding differences of reclassification 30 for data pairs 45 of 45.  Elapsed time: 2.12482555555 hours"
       ]
      },
      {
       "output_type": "stream",
       "stream": "stdout",
       "text": [
        "\r",
        "Finding differences of reclassification 31 for data pairs 1 of 45.  Elapsed time: 2.12638166666 hours"
       ]
      },
      {
       "output_type": "stream",
       "stream": "stdout",
       "text": [
        "\r",
        "Finding differences of reclassification 31 for data pairs 2 of 45.  Elapsed time: 2.12790611108 hours"
       ]
      },
      {
       "output_type": "stream",
       "stream": "stdout",
       "text": [
        "\r",
        "Finding differences of reclassification 31 for data pairs 3 of 45.  Elapsed time: 2.12940805554 hours"
       ]
      },
      {
       "output_type": "stream",
       "stream": "stdout",
       "text": [
        "\r",
        "Finding differences of reclassification 31 for data pairs 4 of 45.  Elapsed time: 2.13091416664 hours"
       ]
      },
      {
       "output_type": "stream",
       "stream": "stdout",
       "text": [
        "\r",
        "Finding differences of reclassification 31 for data pairs 5 of 45.  Elapsed time: 2.13240361108 hours"
       ]
      },
      {
       "output_type": "stream",
       "stream": "stdout",
       "text": [
        "\r",
        "Finding differences of reclassification 31 for data pairs 6 of 45.  Elapsed time: 2.13389611112 hours"
       ]
      },
      {
       "output_type": "stream",
       "stream": "stdout",
       "text": [
        "\r",
        "Finding differences of reclassification 31 for data pairs 7 of 45.  Elapsed time: 2.13540249997 hours"
       ]
      },
      {
       "output_type": "stream",
       "stream": "stdout",
       "text": [
        "\r",
        "Finding differences of reclassification 31 for data pairs 8 of 45.  Elapsed time: 2.13690583335 hours"
       ]
      },
      {
       "output_type": "stream",
       "stream": "stdout",
       "text": [
        "\r",
        "Finding differences of reclassification 31 for data pairs 9 of 45.  Elapsed time: 2.13839333329 hours"
       ]
      },
      {
       "output_type": "stream",
       "stream": "stdout",
       "text": [
        "\r",
        "Finding differences of reclassification 31 for data pairs 10 of 45.  Elapsed time: 2.13988166663 hours"
       ]
      },
      {
       "output_type": "stream",
       "stream": "stdout",
       "text": [
        "\r",
        "Finding differences of reclassification 31 for data pairs 11 of 45.  Elapsed time: 2.14137416667 hours"
       ]
      },
      {
       "output_type": "stream",
       "stream": "stdout",
       "text": [
        "\r",
        "Finding differences of reclassification 31 for data pairs 12 of 45.  Elapsed time: 2.14288472222 hours"
       ]
      },
      {
       "output_type": "stream",
       "stream": "stdout",
       "text": [
        "\r",
        "Finding differences of reclassification 31 for data pairs 13 of 45.  Elapsed time: 2.14436472224 hours"
       ]
      },
      {
       "output_type": "stream",
       "stream": "stdout",
       "text": [
        "\r",
        "Finding differences of reclassification 31 for data pairs 14 of 45.  Elapsed time: 2.14585611112 hours"
       ]
      },
      {
       "output_type": "stream",
       "stream": "stdout",
       "text": [
        "\r",
        "Finding differences of reclassification 31 for data pairs 15 of 45.  Elapsed time: 2.14736888885 hours"
       ]
      },
      {
       "output_type": "stream",
       "stream": "stdout",
       "text": [
        "\r",
        "Finding differences of reclassification 31 for data pairs 16 of 45.  Elapsed time: 2.14884444442 hours"
       ]
      },
      {
       "output_type": "stream",
       "stream": "stdout",
       "text": [
        "\r",
        "Finding differences of reclassification 31 for data pairs 17 of 45.  Elapsed time: 2.15034972224 hours"
       ]
      },
      {
       "output_type": "stream",
       "stream": "stdout",
       "text": [
        "\r",
        "Finding differences of reclassification 31 for data pairs 18 of 45.  Elapsed time: 2.15182722218 hours"
       ]
      },
      {
       "output_type": "stream",
       "stream": "stdout",
       "text": [
        "\r",
        "Finding differences of reclassification 31 for data pairs 19 of 45.  Elapsed time: 2.15333361109 hours"
       ]
      },
      {
       "output_type": "stream",
       "stream": "stdout",
       "text": [
        "\r",
        "Finding differences of reclassification 31 for data pairs 20 of 45.  Elapsed time: 2.15480749998 hours"
       ]
      },
      {
       "output_type": "stream",
       "stream": "stdout",
       "text": [
        "\r",
        "Finding differences of reclassification 31 for data pairs 21 of 45.  Elapsed time: 2.15631499999 hours"
       ]
      },
      {
       "output_type": "stream",
       "stream": "stdout",
       "text": [
        "\r",
        "Finding differences of reclassification 31 for data pairs 22 of 45.  Elapsed time: 2.1578136111 hours"
       ]
      },
      {
       "output_type": "stream",
       "stream": "stdout",
       "text": [
        "\r",
        "Finding differences of reclassification 31 for data pairs 23 of 45.  Elapsed time: 2.15929027776 hours"
       ]
      },
      {
       "output_type": "stream",
       "stream": "stdout",
       "text": [
        "\r",
        "Finding differences of reclassification 31 for data pairs 24 of 45.  Elapsed time: 2.16077611109 hours"
       ]
      },
      {
       "output_type": "stream",
       "stream": "stdout",
       "text": [
        "\r",
        "Finding differences of reclassification 31 for data pairs 25 of 45.  Elapsed time: 2.16226416667 hours"
       ]
      },
      {
       "output_type": "stream",
       "stream": "stdout",
       "text": [
        "\r",
        "Finding differences of reclassification 31 for data pairs 26 of 45.  Elapsed time: 2.16375888884 hours"
       ]
      },
      {
       "output_type": "stream",
       "stream": "stdout",
       "text": [
        "\r",
        "Finding differences of reclassification 31 for data pairs 27 of 45.  Elapsed time: 2.16525638885 hours"
       ]
      },
      {
       "output_type": "stream",
       "stream": "stdout",
       "text": [
        "\r",
        "Finding differences of reclassification 31 for data pairs 28 of 45.  Elapsed time: 2.16679027776 hours"
       ]
      },
      {
       "output_type": "stream",
       "stream": "stdout",
       "text": [
        "\r",
        "Finding differences of reclassification 31 for data pairs 29 of 45.  Elapsed time: 2.16828333331 hours"
       ]
      },
      {
       "output_type": "stream",
       "stream": "stdout",
       "text": [
        "\r",
        "Finding differences of reclassification 31 for data pairs 30 of 45.  Elapsed time: 2.16979138884 hours"
       ]
      },
      {
       "output_type": "stream",
       "stream": "stdout",
       "text": [
        "\r",
        "Finding differences of reclassification 31 for data pairs 31 of 45.  Elapsed time: 2.17129138887 hours"
       ]
      },
      {
       "output_type": "stream",
       "stream": "stdout",
       "text": [
        "\r",
        "Finding differences of reclassification 31 for data pairs 32 of 45.  Elapsed time: 2.17274861111 hours"
       ]
      },
      {
       "output_type": "stream",
       "stream": "stdout",
       "text": [
        "\r",
        "Finding differences of reclassification 31 for data pairs 33 of 45.  Elapsed time: 2.17423888889 hours"
       ]
      },
      {
       "output_type": "stream",
       "stream": "stdout",
       "text": [
        "\r",
        "Finding differences of reclassification 31 for data pairs 34 of 45.  Elapsed time: 2.17572777775 hours"
       ]
      },
      {
       "output_type": "stream",
       "stream": "stdout",
       "text": [
        "\r",
        "Finding differences of reclassification 31 for data pairs 35 of 45.  Elapsed time: 2.17720999996 hours"
       ]
      },
      {
       "output_type": "stream",
       "stream": "stdout",
       "text": [
        "\r",
        "Finding differences of reclassification 31 for data pairs 36 of 45.  Elapsed time: 2.17869277775 hours"
       ]
      },
      {
       "output_type": "stream",
       "stream": "stdout",
       "text": [
        "\r",
        "Finding differences of reclassification 31 for data pairs 37 of 45.  Elapsed time: 2.18020611107 hours"
       ]
      },
      {
       "output_type": "stream",
       "stream": "stdout",
       "text": [
        "\r",
        "Finding differences of reclassification 31 for data pairs 38 of 45.  Elapsed time: 2.18206277774 hours"
       ]
      },
      {
       "output_type": "stream",
       "stream": "stdout",
       "text": [
        "\r",
        "Finding differences of reclassification 31 for data pairs 39 of 45.  Elapsed time: 2.1840138889 hours"
       ]
      },
      {
       "output_type": "stream",
       "stream": "stdout",
       "text": [
        "\r",
        "Finding differences of reclassification 31 for data pairs 40 of 45.  Elapsed time: 2.18567833331 hours"
       ]
      },
      {
       "output_type": "stream",
       "stream": "stdout",
       "text": [
        "\r",
        "Finding differences of reclassification 31 for data pairs 41 of 45.  Elapsed time: 2.18741638886 hours"
       ]
      },
      {
       "output_type": "stream",
       "stream": "stdout",
       "text": [
        "\r",
        "Finding differences of reclassification 31 for data pairs 42 of 45.  Elapsed time: 2.18924416668 hours"
       ]
      },
      {
       "output_type": "stream",
       "stream": "stdout",
       "text": [
        "\r",
        "Finding differences of reclassification 31 for data pairs 43 of 45.  Elapsed time: 2.19086305552 hours"
       ]
      },
      {
       "output_type": "stream",
       "stream": "stdout",
       "text": [
        "\r",
        "Finding differences of reclassification 31 for data pairs 44 of 45.  Elapsed time: 2.1924869444 hours"
       ]
      },
      {
       "output_type": "stream",
       "stream": "stdout",
       "text": [
        "\r",
        "Finding differences of reclassification 31 for data pairs 45 of 45.  Elapsed time: 2.19406611111 hours"
       ]
      },
      {
       "output_type": "stream",
       "stream": "stdout",
       "text": [
        "\r",
        "Finding differences of reclassification 32 for data pairs 1 of 45.  Elapsed time: 2.19557277779 hours"
       ]
      },
      {
       "output_type": "stream",
       "stream": "stdout",
       "text": [
        "\r",
        "Finding differences of reclassification 32 for data pairs 2 of 45.  Elapsed time: 2.19714833332 hours"
       ]
      },
      {
       "output_type": "stream",
       "stream": "stdout",
       "text": [
        "\r",
        "Finding differences of reclassification 32 for data pairs 3 of 45.  Elapsed time: 2.19873277777 hours"
       ]
      },
      {
       "output_type": "stream",
       "stream": "stdout",
       "text": [
        "\r",
        "Finding differences of reclassification 32 for data pairs 4 of 45.  Elapsed time: 2.20029361109 hours"
       ]
      },
      {
       "output_type": "stream",
       "stream": "stdout",
       "text": [
        "\r",
        "Finding differences of reclassification 32 for data pairs 5 of 45.  Elapsed time: 2.20187527776 hours"
       ]
      },
      {
       "output_type": "stream",
       "stream": "stdout",
       "text": [
        "\r",
        "Finding differences of reclassification 32 for data pairs 6 of 45.  Elapsed time: 2.2034961111 hours"
       ]
      },
      {
       "output_type": "stream",
       "stream": "stdout",
       "text": [
        "\r",
        "Finding differences of reclassification 32 for data pairs 7 of 45.  Elapsed time: 2.20514305552 hours"
       ]
      },
      {
       "output_type": "stream",
       "stream": "stdout",
       "text": [
        "\r",
        "Finding differences of reclassification 32 for data pairs 8 of 45.  Elapsed time: 2.20669277774 hours"
       ]
      },
      {
       "output_type": "stream",
       "stream": "stdout",
       "text": [
        "\r",
        "Finding differences of reclassification 32 for data pairs 9 of 45.  Elapsed time: 2.2082475 hours"
       ]
      },
      {
       "output_type": "stream",
       "stream": "stdout",
       "text": [
        "\r",
        "Finding differences of reclassification 32 for data pairs 10 of 45.  Elapsed time: 2.20978833331 hours"
       ]
      },
      {
       "output_type": "stream",
       "stream": "stdout",
       "text": [
        "\r",
        "Finding differences of reclassification 32 for data pairs 11 of 45.  Elapsed time: 2.2113572222 hours"
       ]
      },
      {
       "output_type": "stream",
       "stream": "stdout",
       "text": [
        "\r",
        "Finding differences of reclassification 32 for data pairs 12 of 45.  Elapsed time: 2.21326472223 hours"
       ]
      },
      {
       "output_type": "stream",
       "stream": "stdout",
       "text": [
        "\r",
        "Finding differences of reclassification 32 for data pairs 13 of 45.  Elapsed time: 2.21479499996 hours"
       ]
      },
      {
       "output_type": "stream",
       "stream": "stdout",
       "text": [
        "\r",
        "Finding differences of reclassification 32 for data pairs 14 of 45.  Elapsed time: 2.21635416667 hours"
       ]
      },
      {
       "output_type": "stream",
       "stream": "stdout",
       "text": [
        "\r",
        "Finding differences of reclassification 32 for data pairs 15 of 45.  Elapsed time: 2.21868777778 hours"
       ]
      },
      {
       "output_type": "stream",
       "stream": "stdout",
       "text": [
        "\r",
        "Finding differences of reclassification 32 for data pairs 16 of 45.  Elapsed time: 2.22048916664 hours"
       ]
      },
      {
       "output_type": "stream",
       "stream": "stdout",
       "text": [
        "\r",
        "Finding differences of reclassification 32 for data pairs 17 of 45.  Elapsed time: 2.22219666666 hours"
       ]
      },
      {
       "output_type": "stream",
       "stream": "stdout",
       "text": [
        "\r",
        "Finding differences of reclassification 32 for data pairs 18 of 45.  Elapsed time: 2.22381055554 hours"
       ]
      },
      {
       "output_type": "stream",
       "stream": "stdout",
       "text": [
        "\r",
        "Finding differences of reclassification 32 for data pairs 19 of 45.  Elapsed time: 2.22533388886 hours"
       ]
      },
      {
       "output_type": "stream",
       "stream": "stdout",
       "text": [
        "\r",
        "Finding differences of reclassification 32 for data pairs 20 of 45.  Elapsed time: 2.22681777775 hours"
       ]
      },
      {
       "output_type": "stream",
       "stream": "stdout",
       "text": [
        "\r",
        "Finding differences of reclassification 32 for data pairs 21 of 45.  Elapsed time: 2.22846805553 hours"
       ]
      },
      {
       "output_type": "stream",
       "stream": "stdout",
       "text": [
        "\r",
        "Finding differences of reclassification 32 for data pairs 22 of 45.  Elapsed time: 2.23018277778 hours"
       ]
      },
      {
       "output_type": "stream",
       "stream": "stdout",
       "text": [
        "\r",
        "Finding differences of reclassification 32 for data pairs 23 of 45.  Elapsed time: 2.23213555555 hours"
       ]
      },
      {
       "output_type": "stream",
       "stream": "stdout",
       "text": [
        "\r",
        "Finding differences of reclassification 32 for data pairs 24 of 45.  Elapsed time: 2.23380638884 hours"
       ]
      },
      {
       "output_type": "stream",
       "stream": "stdout",
       "text": [
        "\r",
        "Finding differences of reclassification 32 for data pairs 25 of 45.  Elapsed time: 2.23533527778 hours"
       ]
      },
      {
       "output_type": "stream",
       "stream": "stdout",
       "text": [
        "\r",
        "Finding differences of reclassification 32 for data pairs 26 of 45.  Elapsed time: 2.23690916664 hours"
       ]
      },
      {
       "output_type": "stream",
       "stream": "stdout",
       "text": [
        "\r",
        "Finding differences of reclassification 32 for data pairs 27 of 45.  Elapsed time: 2.23856555555 hours"
       ]
      },
      {
       "output_type": "stream",
       "stream": "stdout",
       "text": [
        "\r",
        "Finding differences of reclassification 32 for data pairs 28 of 45.  Elapsed time: 2.24015555554 hours"
       ]
      },
      {
       "output_type": "stream",
       "stream": "stdout",
       "text": [
        "\r",
        "Finding differences of reclassification 32 for data pairs 29 of 45.  Elapsed time: 2.24174888889 hours"
       ]
      },
      {
       "output_type": "stream",
       "stream": "stdout",
       "text": [
        "\r",
        "Finding differences of reclassification 32 for data pairs 30 of 45.  Elapsed time: 2.24333861113 hours"
       ]
      },
      {
       "output_type": "stream",
       "stream": "stdout",
       "text": [
        "\r",
        "Finding differences of reclassification 32 for data pairs 31 of 45.  Elapsed time: 2.24486694442 hours"
       ]
      },
      {
       "output_type": "stream",
       "stream": "stdout",
       "text": [
        "\r",
        "Finding differences of reclassification 32 for data pairs 32 of 45.  Elapsed time: 2.24636055556 hours"
       ]
      },
      {
       "output_type": "stream",
       "stream": "stdout",
       "text": [
        "\r",
        "Finding differences of reclassification 32 for data pairs 33 of 45.  Elapsed time: 2.24788472222 hours"
       ]
      },
      {
       "output_type": "stream",
       "stream": "stdout",
       "text": [
        "\r",
        "Finding differences of reclassification 32 for data pairs 34 of 45.  Elapsed time: 2.24980111109 hours"
       ]
      },
      {
       "output_type": "stream",
       "stream": "stdout",
       "text": [
        "\r",
        "Finding differences of reclassification 32 for data pairs 35 of 45.  Elapsed time: 2.25150638885 hours"
       ]
      },
      {
       "output_type": "stream",
       "stream": "stdout",
       "text": [
        "\r",
        "Finding differences of reclassification 32 for data pairs 36 of 45.  Elapsed time: 2.25304583331 hours"
       ]
      },
      {
       "output_type": "stream",
       "stream": "stdout",
       "text": [
        "\r",
        "Finding differences of reclassification 32 for data pairs 37 of 45.  Elapsed time: 2.25465722223 hours"
       ]
      },
      {
       "output_type": "stream",
       "stream": "stdout",
       "text": [
        "\r",
        "Finding differences of reclassification 32 for data pairs 38 of 45.  Elapsed time: 2.25618888888 hours"
       ]
      },
      {
       "output_type": "stream",
       "stream": "stdout",
       "text": [
        "\r",
        "Finding differences of reclassification 32 for data pairs 39 of 45.  Elapsed time: 2.25775888887 hours"
       ]
      },
      {
       "output_type": "stream",
       "stream": "stdout",
       "text": [
        "\r",
        "Finding differences of reclassification 32 for data pairs 40 of 45.  Elapsed time: 2.25932249996 hours"
       ]
      },
      {
       "output_type": "stream",
       "stream": "stdout",
       "text": [
        "\r",
        "Finding differences of reclassification 32 for data pairs 41 of 45.  Elapsed time: 2.26092083335 hours"
       ]
      },
      {
       "output_type": "stream",
       "stream": "stdout",
       "text": [
        "\r",
        "Finding differences of reclassification 32 for data pairs 42 of 45.  Elapsed time: 2.2625363889 hours"
       ]
      },
      {
       "output_type": "stream",
       "stream": "stdout",
       "text": [
        "\r",
        "Finding differences of reclassification 32 for data pairs 43 of 45.  Elapsed time: 2.26408861107 hours"
       ]
      },
      {
       "output_type": "stream",
       "stream": "stdout",
       "text": [
        "\r",
        "Finding differences of reclassification 32 for data pairs 44 of 45.  Elapsed time: 2.26559666667 hours"
       ]
      },
      {
       "output_type": "stream",
       "stream": "stdout",
       "text": [
        "\r",
        "Finding differences of reclassification 32 for data pairs 45 of 45.  Elapsed time: 2.26710666663 hours"
       ]
      },
      {
       "output_type": "stream",
       "stream": "stdout",
       "text": [
        "\r",
        "Finding differences of reclassification 33 for data pairs 1 of 45.  Elapsed time: 2.26867972222 hours"
       ]
      },
      {
       "output_type": "stream",
       "stream": "stdout",
       "text": [
        "\r",
        "Finding differences of reclassification 33 for data pairs 2 of 45.  Elapsed time: 2.270275 hours"
       ]
      },
      {
       "output_type": "stream",
       "stream": "stdout",
       "text": [
        "\r",
        "Finding differences of reclassification 33 for data pairs 3 of 45.  Elapsed time: 2.27179861108 hours"
       ]
      },
      {
       "output_type": "stream",
       "stream": "stdout",
       "text": [
        "\r",
        "Finding differences of reclassification 33 for data pairs 4 of 45.  Elapsed time: 2.2733494444 hours"
       ]
      },
      {
       "output_type": "stream",
       "stream": "stdout",
       "text": [
        "\r",
        "Finding differences of reclassification 33 for data pairs 5 of 45.  Elapsed time: 2.27486138887 hours"
       ]
      },
      {
       "output_type": "stream",
       "stream": "stdout",
       "text": [
        "\r",
        "Finding differences of reclassification 33 for data pairs 6 of 45.  Elapsed time: 2.27638527777 hours"
       ]
      },
      {
       "output_type": "stream",
       "stream": "stdout",
       "text": [
        "\r",
        "Finding differences of reclassification 33 for data pairs 7 of 45.  Elapsed time: 2.27792555551 hours"
       ]
      },
      {
       "output_type": "stream",
       "stream": "stdout",
       "text": [
        "\r",
        "Finding differences of reclassification 33 for data pairs 8 of 45.  Elapsed time: 2.27942944441 hours"
       ]
      },
      {
       "output_type": "stream",
       "stream": "stdout",
       "text": [
        "\r",
        "Finding differences of reclassification 33 for data pairs 9 of 45.  Elapsed time: 2.28097166664 hours"
       ]
      },
      {
       "output_type": "stream",
       "stream": "stdout",
       "text": [
        "\r",
        "Finding differences of reclassification 33 for data pairs 10 of 45.  Elapsed time: 2.2824788889 hours"
       ]
      },
      {
       "output_type": "stream",
       "stream": "stdout",
       "text": [
        "\r",
        "Finding differences of reclassification 33 for data pairs 11 of 45.  Elapsed time: 2.28411333329 hours"
       ]
      },
      {
       "output_type": "stream",
       "stream": "stdout",
       "text": [
        "\r",
        "Finding differences of reclassification 33 for data pairs 12 of 45.  Elapsed time: 2.28576111111 hours"
       ]
      },
      {
       "output_type": "stream",
       "stream": "stdout",
       "text": [
        "\r",
        "Finding differences of reclassification 33 for data pairs 13 of 45.  Elapsed time: 2.28739999996 hours"
       ]
      },
      {
       "output_type": "stream",
       "stream": "stdout",
       "text": [
        "\r",
        "Finding differences of reclassification 33 for data pairs 14 of 45.  Elapsed time: 2.28903083331 hours"
       ]
      },
      {
       "output_type": "stream",
       "stream": "stdout",
       "text": [
        "\r",
        "Finding differences of reclassification 33 for data pairs 15 of 45.  Elapsed time: 2.29068861107 hours"
       ]
      },
      {
       "output_type": "stream",
       "stream": "stdout",
       "text": [
        "\r",
        "Finding differences of reclassification 33 for data pairs 16 of 45.  Elapsed time: 2.29227777779 hours"
       ]
      },
      {
       "output_type": "stream",
       "stream": "stdout",
       "text": [
        "\r",
        "Finding differences of reclassification 33 for data pairs 17 of 45.  Elapsed time: 2.29389583329 hours"
       ]
      },
      {
       "output_type": "stream",
       "stream": "stdout",
       "text": [
        "\r",
        "Finding differences of reclassification 33 for data pairs 18 of 45.  Elapsed time: 2.29552277777 hours"
       ]
      },
      {
       "output_type": "stream",
       "stream": "stdout",
       "text": [
        "\r",
        "Finding differences of reclassification 33 for data pairs 19 of 45.  Elapsed time: 2.29709500002 hours"
       ]
      },
      {
       "output_type": "stream",
       "stream": "stdout",
       "text": [
        "\r",
        "Finding differences of reclassification 33 for data pairs 20 of 45.  Elapsed time: 2.29866666668 hours"
       ]
      },
      {
       "output_type": "stream",
       "stream": "stdout",
       "text": [
        "\r",
        "Finding differences of reclassification 33 for data pairs 21 of 45.  Elapsed time: 2.30026277774 hours"
       ]
      },
      {
       "output_type": "stream",
       "stream": "stdout",
       "text": [
        "\r",
        "Finding differences of reclassification 33 for data pairs 22 of 45.  Elapsed time: 2.30179749999 hours"
       ]
      },
      {
       "output_type": "stream",
       "stream": "stdout",
       "text": [
        "\r",
        "Finding differences of reclassification 33 for data pairs 23 of 45.  Elapsed time: 2.30332222223 hours"
       ]
      },
      {
       "output_type": "stream",
       "stream": "stdout",
       "text": [
        "\r",
        "Finding differences of reclassification 33 for data pairs 24 of 45.  Elapsed time: 2.30524444441 hours"
       ]
      },
      {
       "output_type": "stream",
       "stream": "stdout",
       "text": [
        "\r",
        "Finding differences of reclassification 33 for data pairs 25 of 45.  Elapsed time: 2.30720277773 hours"
       ]
      },
      {
       "output_type": "stream",
       "stream": "stdout",
       "text": [
        "\r",
        "Finding differences of reclassification 33 for data pairs 26 of 45.  Elapsed time: 2.30901027779 hours"
       ]
      },
      {
       "output_type": "stream",
       "stream": "stdout",
       "text": [
        "\r",
        "Finding differences of reclassification 33 for data pairs 27 of 45.  Elapsed time: 2.31060555551 hours"
       ]
      },
      {
       "output_type": "stream",
       "stream": "stdout",
       "text": [
        "\r",
        "Finding differences of reclassification 33 for data pairs 28 of 45.  Elapsed time: 2.31256444441 hours"
       ]
      },
      {
       "output_type": "stream",
       "stream": "stdout",
       "text": [
        "\r",
        "Finding differences of reclassification 33 for data pairs 29 of 45.  Elapsed time: 2.31417638885 hours"
       ]
      },
      {
       "output_type": "stream",
       "stream": "stdout",
       "text": [
        "\r",
        "Finding differences of reclassification 33 for data pairs 30 of 45.  Elapsed time: 2.31578999996 hours"
       ]
      },
      {
       "output_type": "stream",
       "stream": "stdout",
       "text": [
        "\r",
        "Finding differences of reclassification 33 for data pairs 31 of 45.  Elapsed time: 2.31769277778 hours"
       ]
      },
      {
       "output_type": "stream",
       "stream": "stdout",
       "text": [
        "\r",
        "Finding differences of reclassification 33 for data pairs 32 of 45.  Elapsed time: 2.31933388889 hours"
       ]
      },
      {
       "output_type": "stream",
       "stream": "stdout",
       "text": [
        "\r",
        "Finding differences of reclassification 33 for data pairs 33 of 45.  Elapsed time: 2.32119861113 hours"
       ]
      },
      {
       "output_type": "stream",
       "stream": "stdout",
       "text": [
        "\r",
        "Finding differences of reclassification 33 for data pairs 34 of 45.  Elapsed time: 2.32309833335 hours"
       ]
      },
      {
       "output_type": "stream",
       "stream": "stdout",
       "text": [
        "\r",
        "Finding differences of reclassification 33 for data pairs 35 of 45.  Elapsed time: 2.3250344444 hours"
       ]
      },
      {
       "output_type": "stream",
       "stream": "stdout",
       "text": [
        "\r",
        "Finding differences of reclassification 33 for data pairs 36 of 45.  Elapsed time: 2.32664944443 hours"
       ]
      },
      {
       "output_type": "stream",
       "stream": "stdout",
       "text": [
        "\r",
        "Finding differences of reclassification 33 for data pairs 37 of 45.  Elapsed time: 2.32834694445 hours"
       ]
      },
      {
       "output_type": "stream",
       "stream": "stdout",
       "text": [
        "\r",
        "Finding differences of reclassification 33 for data pairs 38 of 45.  Elapsed time: 2.33000055552 hours"
       ]
      },
      {
       "output_type": "stream",
       "stream": "stdout",
       "text": [
        "\r",
        "Finding differences of reclassification 33 for data pairs 39 of 45.  Elapsed time: 2.33187166664 hours"
       ]
      },
      {
       "output_type": "stream",
       "stream": "stdout",
       "text": [
        "\r",
        "Finding differences of reclassification 33 for data pairs 40 of 45.  Elapsed time: 2.33351361109 hours"
       ]
      },
      {
       "output_type": "stream",
       "stream": "stdout",
       "text": [
        "\r",
        "Finding differences of reclassification 33 for data pairs 41 of 45.  Elapsed time: 2.33511916664 hours"
       ]
      },
      {
       "output_type": "stream",
       "stream": "stdout",
       "text": [
        "\r",
        "Finding differences of reclassification 33 for data pairs 42 of 45.  Elapsed time: 2.33683944444 hours"
       ]
      },
      {
       "output_type": "stream",
       "stream": "stdout",
       "text": [
        "\r",
        "Finding differences of reclassification 33 for data pairs 43 of 45.  Elapsed time: 2.3385558333 hours"
       ]
      },
      {
       "output_type": "stream",
       "stream": "stdout",
       "text": [
        "\r",
        "Finding differences of reclassification 33 for data pairs 44 of 45.  Elapsed time: 2.34028444442 hours"
       ]
      },
      {
       "output_type": "stream",
       "stream": "stdout",
       "text": [
        "\r",
        "Finding differences of reclassification 33 for data pairs 45 of 45.  Elapsed time: 2.34192194442 hours"
       ]
      },
      {
       "output_type": "stream",
       "stream": "stdout",
       "text": [
        "\r",
        "Finding differences of reclassification 34 for data pairs 1 of 45.  Elapsed time: 2.34347666668 hours"
       ]
      },
      {
       "output_type": "stream",
       "stream": "stdout",
       "text": [
        "\r",
        "Finding differences of reclassification 34 for data pairs 2 of 45.  Elapsed time: 2.34511083331 hours"
       ]
      },
      {
       "output_type": "stream",
       "stream": "stdout",
       "text": [
        "\r",
        "Finding differences of reclassification 34 for data pairs 3 of 45.  Elapsed time: 2.34666416665 hours"
       ]
      },
      {
       "output_type": "stream",
       "stream": "stdout",
       "text": [
        "\r",
        "Finding differences of reclassification 34 for data pairs 4 of 45.  Elapsed time: 2.34834527777 hours"
       ]
      },
      {
       "output_type": "stream",
       "stream": "stdout",
       "text": [
        "\r",
        "Finding differences of reclassification 34 for data pairs 5 of 45.  Elapsed time: 2.35040388889 hours"
       ]
      },
      {
       "output_type": "stream",
       "stream": "stdout",
       "text": [
        "\r",
        "Finding differences of reclassification 34 for data pairs 6 of 45.  Elapsed time: 2.35209888889 hours"
       ]
      },
      {
       "output_type": "stream",
       "stream": "stdout",
       "text": [
        "\r",
        "Finding differences of reclassification 34 for data pairs 7 of 45.  Elapsed time: 2.35371666663 hours"
       ]
      },
      {
       "output_type": "stream",
       "stream": "stdout",
       "text": [
        "\r",
        "Finding differences of reclassification 34 for data pairs 8 of 45.  Elapsed time: 2.35532944441 hours"
       ]
      },
      {
       "output_type": "stream",
       "stream": "stdout",
       "text": [
        "\r",
        "Finding differences of reclassification 34 for data pairs 9 of 45.  Elapsed time: 2.35703111112 hours"
       ]
      },
      {
       "output_type": "stream",
       "stream": "stdout",
       "text": [
        "\r",
        "Finding differences of reclassification 34 for data pairs 10 of 45.  Elapsed time: 2.35866361108 hours"
       ]
      },
      {
       "output_type": "stream",
       "stream": "stdout",
       "text": [
        "\r",
        "Finding differences of reclassification 34 for data pairs 11 of 45.  Elapsed time: 2.36059472223 hours"
       ]
      },
      {
       "output_type": "stream",
       "stream": "stdout",
       "text": [
        "\r",
        "Finding differences of reclassification 34 for data pairs 12 of 45.  Elapsed time: 2.36223527776 hours"
       ]
      },
      {
       "output_type": "stream",
       "stream": "stdout",
       "text": [
        "\r",
        "Finding differences of reclassification 34 for data pairs 13 of 45.  Elapsed time: 2.36382166664 hours"
       ]
      },
      {
       "output_type": "stream",
       "stream": "stdout",
       "text": [
        "\r",
        "Finding differences of reclassification 34 for data pairs 14 of 45.  Elapsed time: 2.36536749999 hours"
       ]
      },
      {
       "output_type": "stream",
       "stream": "stdout",
       "text": [
        "\r",
        "Finding differences of reclassification 34 for data pairs 15 of 45.  Elapsed time: 2.36693277776 hours"
       ]
      },
      {
       "output_type": "stream",
       "stream": "stdout",
       "text": [
        "\r",
        "Finding differences of reclassification 34 for data pairs 16 of 45.  Elapsed time: 2.36847777777 hours"
       ]
      },
      {
       "output_type": "stream",
       "stream": "stdout",
       "text": [
        "\r",
        "Finding differences of reclassification 34 for data pairs 17 of 45.  Elapsed time: 2.37006055554 hours"
       ]
      },
      {
       "output_type": "stream",
       "stream": "stdout",
       "text": [
        "\r",
        "Finding differences of reclassification 34 for data pairs 18 of 45.  Elapsed time: 2.37161749999 hours"
       ]
      },
      {
       "output_type": "stream",
       "stream": "stdout",
       "text": [
        "\r",
        "Finding differences of reclassification 34 for data pairs 19 of 45.  Elapsed time: 2.37326249997 hours"
       ]
      },
      {
       "output_type": "stream",
       "stream": "stdout",
       "text": [
        "\r",
        "Finding differences of reclassification 34 for data pairs 20 of 45.  Elapsed time: 2.37491861112 hours"
       ]
      },
      {
       "output_type": "stream",
       "stream": "stdout",
       "text": [
        "\r",
        "Finding differences of reclassification 34 for data pairs 21 of 45.  Elapsed time: 2.37657111108 hours"
       ]
      },
      {
       "output_type": "stream",
       "stream": "stdout",
       "text": [
        "\r",
        "Finding differences of reclassification 34 for data pairs 22 of 45.  Elapsed time: 2.37819111109 hours"
       ]
      },
      {
       "output_type": "stream",
       "stream": "stdout",
       "text": [
        "\r",
        "Finding differences of reclassification 34 for data pairs 23 of 45.  Elapsed time: 2.37972027779 hours"
       ]
      },
      {
       "output_type": "stream",
       "stream": "stdout",
       "text": [
        "\r",
        "Finding differences of reclassification 34 for data pairs 24 of 45.  Elapsed time: 2.38124194443 hours"
       ]
      },
      {
       "output_type": "stream",
       "stream": "stdout",
       "text": [
        "\r",
        "Finding differences of reclassification 34 for data pairs 25 of 45.  Elapsed time: 2.38284861108 hours"
       ]
      },
      {
       "output_type": "stream",
       "stream": "stdout",
       "text": [
        "\r",
        "Finding differences of reclassification 34 for data pairs 26 of 45.  Elapsed time: 2.38483027776 hours"
       ]
      },
      {
       "output_type": "stream",
       "stream": "stdout",
       "text": [
        "\r",
        "Finding differences of reclassification 34 for data pairs 27 of 45.  Elapsed time: 2.38674527778 hours"
       ]
      },
      {
       "output_type": "stream",
       "stream": "stdout",
       "text": [
        "\r",
        "Finding differences of reclassification 34 for data pairs 28 of 45.  Elapsed time: 2.38860916668 hours"
       ]
      },
      {
       "output_type": "stream",
       "stream": "stdout",
       "text": [
        "\r",
        "Finding differences of reclassification 34 for data pairs 29 of 45.  Elapsed time: 2.39047416667 hours"
       ]
      },
      {
       "output_type": "stream",
       "stream": "stdout",
       "text": [
        "\r",
        "Finding differences of reclassification 34 for data pairs 30 of 45.  Elapsed time: 2.39234583331 hours"
       ]
      },
      {
       "output_type": "stream",
       "stream": "stdout",
       "text": [
        "\r",
        "Finding differences of reclassification 34 for data pairs 31 of 45.  Elapsed time: 2.39427388887 hours"
       ]
      },
      {
       "output_type": "stream",
       "stream": "stdout",
       "text": [
        "\r",
        "Finding differences of reclassification 34 for data pairs 32 of 45.  Elapsed time: 2.39613444441 hours"
       ]
      },
      {
       "output_type": "stream",
       "stream": "stdout",
       "text": [
        "\r",
        "Finding differences of reclassification 34 for data pairs 33 of 45.  Elapsed time: 2.39812944445 hours"
       ]
      },
      {
       "output_type": "stream",
       "stream": "stdout",
       "text": [
        "\r",
        "Finding differences of reclassification 34 for data pairs 34 of 45.  Elapsed time: 2.39985833334 hours"
       ]
      },
      {
       "output_type": "stream",
       "stream": "stdout",
       "text": [
        "\r",
        "Finding differences of reclassification 34 for data pairs 35 of 45.  Elapsed time: 2.40167833335 hours"
       ]
      },
      {
       "output_type": "stream",
       "stream": "stdout",
       "text": [
        "\r",
        "Finding differences of reclassification 34 for data pairs 36 of 45.  Elapsed time: 2.40345944444 hours"
       ]
      },
      {
       "output_type": "stream",
       "stream": "stdout",
       "text": [
        "\r",
        "Finding differences of reclassification 34 for data pairs 37 of 45.  Elapsed time: 2.40533999999 hours"
       ]
      },
      {
       "output_type": "stream",
       "stream": "stdout",
       "text": [
        "\r",
        "Finding differences of reclassification 34 for data pairs 38 of 45.  Elapsed time: 2.40709749997 hours"
       ]
      },
      {
       "output_type": "stream",
       "stream": "stdout",
       "text": [
        "\r",
        "Finding differences of reclassification 34 for data pairs 39 of 45.  Elapsed time: 2.40886638886 hours"
       ]
      },
      {
       "output_type": "stream",
       "stream": "stdout",
       "text": [
        "\r",
        "Finding differences of reclassification 34 for data pairs 40 of 45.  Elapsed time: 2.41065527777 hours"
       ]
      },
      {
       "output_type": "stream",
       "stream": "stdout",
       "text": [
        "\r",
        "Finding differences of reclassification 34 for data pairs 41 of 45.  Elapsed time: 2.41243333333 hours"
       ]
      },
      {
       "output_type": "stream",
       "stream": "stdout",
       "text": [
        "\r",
        "Finding differences of reclassification 34 for data pairs 42 of 45.  Elapsed time: 2.41435777777 hours"
       ]
      },
      {
       "output_type": "stream",
       "stream": "stdout",
       "text": [
        "\r",
        "Finding differences of reclassification 34 for data pairs 43 of 45.  Elapsed time: 2.41616222223 hours"
       ]
      },
      {
       "output_type": "stream",
       "stream": "stdout",
       "text": [
        "\r",
        "Finding differences of reclassification 34 for data pairs 44 of 45.  Elapsed time: 2.41770611107 hours"
       ]
      },
      {
       "output_type": "stream",
       "stream": "stdout",
       "text": [
        "\r",
        "Finding differences of reclassification 34 for data pairs 45 of 45.  Elapsed time: 2.41919916663 hours"
       ]
      },
      {
       "output_type": "stream",
       "stream": "stdout",
       "text": [
        "\r",
        "Finding differences of reclassification 35 for data pairs 1 of 45.  Elapsed time: 2.42070333329 hours"
       ]
      },
      {
       "output_type": "stream",
       "stream": "stdout",
       "text": [
        "\r",
        "Finding differences of reclassification 35 for data pairs 2 of 45.  Elapsed time: 2.42219722218 hours"
       ]
      },
      {
       "output_type": "stream",
       "stream": "stdout",
       "text": [
        "\r",
        "Finding differences of reclassification 35 for data pairs 3 of 45.  Elapsed time: 2.42371888889 hours"
       ]
      },
      {
       "output_type": "stream",
       "stream": "stdout",
       "text": [
        "\r",
        "Finding differences of reclassification 35 for data pairs 4 of 45.  Elapsed time: 2.42541527775 hours"
       ]
      },
      {
       "output_type": "stream",
       "stream": "stdout",
       "text": [
        "\r",
        "Finding differences of reclassification 35 for data pairs 5 of 45.  Elapsed time: 2.42715166668 hours"
       ]
      },
      {
       "output_type": "stream",
       "stream": "stdout",
       "text": [
        "\r",
        "Finding differences of reclassification 35 for data pairs 6 of 45.  Elapsed time: 2.42884305557 hours"
       ]
      },
      {
       "output_type": "stream",
       "stream": "stdout",
       "text": [
        "\r",
        "Finding differences of reclassification 35 for data pairs 7 of 45.  Elapsed time: 2.43056027777 hours"
       ]
      },
      {
       "output_type": "stream",
       "stream": "stdout",
       "text": [
        "\r",
        "Finding differences of reclassification 35 for data pairs 8 of 45.  Elapsed time: 2.4322338889 hours"
       ]
      },
      {
       "output_type": "stream",
       "stream": "stdout",
       "text": [
        "\r",
        "Finding differences of reclassification 35 for data pairs 9 of 45.  Elapsed time: 2.43390805556 hours"
       ]
      },
      {
       "output_type": "stream",
       "stream": "stdout",
       "text": [
        "\r",
        "Finding differences of reclassification 35 for data pairs 10 of 45.  Elapsed time: 2.4356713889 hours"
       ]
      },
      {
       "output_type": "stream",
       "stream": "stdout",
       "text": [
        "\r",
        "Finding differences of reclassification 35 for data pairs 11 of 45.  Elapsed time: 2.43730305552 hours"
       ]
      },
      {
       "output_type": "stream",
       "stream": "stdout",
       "text": [
        "\r",
        "Finding differences of reclassification 35 for data pairs 12 of 45.  Elapsed time: 2.43897361106 hours"
       ]
      },
      {
       "output_type": "stream",
       "stream": "stdout",
       "text": [
        "\r",
        "Finding differences of reclassification 35 for data pairs 13 of 45.  Elapsed time: 2.44060222222 hours"
       ]
      },
      {
       "output_type": "stream",
       "stream": "stdout",
       "text": [
        "\r",
        "Finding differences of reclassification 35 for data pairs 14 of 45.  Elapsed time: 2.44227333334 hours"
       ]
      },
      {
       "output_type": "stream",
       "stream": "stdout",
       "text": [
        "\r",
        "Finding differences of reclassification 35 for data pairs 15 of 45.  Elapsed time: 2.44396472222 hours"
       ]
      },
      {
       "output_type": "stream",
       "stream": "stdout",
       "text": [
        "\r",
        "Finding differences of reclassification 35 for data pairs 16 of 45.  Elapsed time: 2.44560111112 hours"
       ]
      },
      {
       "output_type": "stream",
       "stream": "stdout",
       "text": [
        "\r",
        "Finding differences of reclassification 35 for data pairs 17 of 45.  Elapsed time: 2.4472361111 hours"
       ]
      },
      {
       "output_type": "stream",
       "stream": "stdout",
       "text": [
        "\r",
        "Finding differences of reclassification 35 for data pairs 18 of 45.  Elapsed time: 2.44884333332 hours"
       ]
      },
      {
       "output_type": "stream",
       "stream": "stdout",
       "text": [
        "\r",
        "Finding differences of reclassification 35 for data pairs 19 of 45.  Elapsed time: 2.45056055552 hours"
       ]
      },
      {
       "output_type": "stream",
       "stream": "stdout",
       "text": [
        "\r",
        "Finding differences of reclassification 35 for data pairs 20 of 45.  Elapsed time: 2.45220527775 hours"
       ]
      },
      {
       "output_type": "stream",
       "stream": "stdout",
       "text": [
        "\r",
        "Finding differences of reclassification 35 for data pairs 21 of 45.  Elapsed time: 2.45384666668 hours"
       ]
      },
      {
       "output_type": "stream",
       "stream": "stdout",
       "text": [
        "\r",
        "Finding differences of reclassification 35 for data pairs 22 of 45.  Elapsed time: 2.45547500001 hours"
       ]
      },
      {
       "output_type": "stream",
       "stream": "stdout",
       "text": [
        "\r",
        "Finding differences of reclassification 35 for data pairs 23 of 45.  Elapsed time: 2.45733916667 hours"
       ]
      },
      {
       "output_type": "stream",
       "stream": "stdout",
       "text": [
        "\r",
        "Finding differences of reclassification 35 for data pairs 24 of 45.  Elapsed time: 2.45924111108 hours"
       ]
      },
      {
       "output_type": "stream",
       "stream": "stdout",
       "text": [
        "\r",
        "Finding differences of reclassification 35 for data pairs 25 of 45.  Elapsed time: 2.46108166668 hours"
       ]
      },
      {
       "output_type": "stream",
       "stream": "stdout",
       "text": [
        "\r",
        "Finding differences of reclassification 35 for data pairs 26 of 45.  Elapsed time: 2.46274916662 hours"
       ]
      },
      {
       "output_type": "stream",
       "stream": "stdout",
       "text": [
        "\r",
        "Finding differences of reclassification 35 for data pairs 27 of 45.  Elapsed time: 2.46451416665 hours"
       ]
      },
      {
       "output_type": "stream",
       "stream": "stdout",
       "text": [
        "\r",
        "Finding differences of reclassification 35 for data pairs 28 of 45.  Elapsed time: 2.46624055551 hours"
       ]
      },
      {
       "output_type": "stream",
       "stream": "stdout",
       "text": [
        "\r",
        "Finding differences of reclassification 35 for data pairs 29 of 45.  Elapsed time: 2.46792888886 hours"
       ]
      },
      {
       "output_type": "stream",
       "stream": "stdout",
       "text": [
        "\r",
        "Finding differences of reclassification 35 for data pairs 30 of 45.  Elapsed time: 2.46960055557 hours"
       ]
      },
      {
       "output_type": "stream",
       "stream": "stdout",
       "text": [
        "\r",
        "Finding differences of reclassification 35 for data pairs 31 of 45.  Elapsed time: 2.47122694446 hours"
       ]
      },
      {
       "output_type": "stream",
       "stream": "stdout",
       "text": [
        "\r",
        "Finding differences of reclassification 35 for data pairs 32 of 45.  Elapsed time: 2.4727972222 hours"
       ]
      },
      {
       "output_type": "stream",
       "stream": "stdout",
       "text": [
        "\r",
        "Finding differences of reclassification 35 for data pairs 33 of 45.  Elapsed time: 2.47435499999 hours"
       ]
      },
      {
       "output_type": "stream",
       "stream": "stdout",
       "text": [
        "\r",
        "Finding differences of reclassification 35 for data pairs 34 of 45.  Elapsed time: 2.47594083329 hours"
       ]
      },
      {
       "output_type": "stream",
       "stream": "stdout",
       "text": [
        "\r",
        "Finding differences of reclassification 35 for data pairs 35 of 45.  Elapsed time: 2.47764305552 hours"
       ]
      },
      {
       "output_type": "stream",
       "stream": "stdout",
       "text": [
        "\r",
        "Finding differences of reclassification 35 for data pairs 36 of 45.  Elapsed time: 2.47912805557 hours"
       ]
      },
      {
       "output_type": "stream",
       "stream": "stdout",
       "text": [
        "\r",
        "Finding differences of reclassification 35 for data pairs 37 of 45.  Elapsed time: 2.48064888888 hours"
       ]
      },
      {
       "output_type": "stream",
       "stream": "stdout",
       "text": [
        "\r",
        "Finding differences of reclassification 35 for data pairs 38 of 45.  Elapsed time: 2.48213055551 hours"
       ]
      },
      {
       "output_type": "stream",
       "stream": "stdout",
       "text": [
        "\r",
        "Finding differences of reclassification 35 for data pairs 39 of 45.  Elapsed time: 2.48362666667 hours"
       ]
      },
      {
       "output_type": "stream",
       "stream": "stdout",
       "text": [
        "\r",
        "Finding differences of reclassification 35 for data pairs 40 of 45.  Elapsed time: 2.48513111108 hours"
       ]
      },
      {
       "output_type": "stream",
       "stream": "stdout",
       "text": [
        "\r",
        "Finding differences of reclassification 35 for data pairs 41 of 45.  Elapsed time: 2.48663944443 hours"
       ]
      },
      {
       "output_type": "stream",
       "stream": "stdout",
       "text": [
        "\r",
        "Finding differences of reclassification 35 for data pairs 42 of 45.  Elapsed time: 2.48817388886 hours"
       ]
      },
      {
       "output_type": "stream",
       "stream": "stdout",
       "text": [
        "\r",
        "Finding differences of reclassification 35 for data pairs 43 of 45.  Elapsed time: 2.48969777776 hours"
       ]
      },
      {
       "output_type": "stream",
       "stream": "stdout",
       "text": [
        "\r",
        "Finding differences of reclassification 35 for data pairs 44 of 45.  Elapsed time: 2.49118333333 hours"
       ]
      },
      {
       "output_type": "stream",
       "stream": "stdout",
       "text": [
        "\r",
        "Finding differences of reclassification 35 for data pairs 45 of 45.  Elapsed time: 2.49266444445 hours"
       ]
      },
      {
       "output_type": "stream",
       "stream": "stdout",
       "text": [
        "\r",
        "Finding differences of reclassification 36 for data pairs 1 of 45.  Elapsed time: 2.49415194445 hours"
       ]
      },
      {
       "output_type": "stream",
       "stream": "stdout",
       "text": [
        "\r",
        "Finding differences of reclassification 36 for data pairs 2 of 45.  Elapsed time: 2.49564500001 hours"
       ]
      },
      {
       "output_type": "stream",
       "stream": "stdout",
       "text": [
        "\r",
        "Finding differences of reclassification 36 for data pairs 3 of 45.  Elapsed time: 2.49719611108 hours"
       ]
      },
      {
       "output_type": "stream",
       "stream": "stdout",
       "text": [
        "\r",
        "Finding differences of reclassification 36 for data pairs 4 of 45.  Elapsed time: 2.49906916665 hours"
       ]
      },
      {
       "output_type": "stream",
       "stream": "stdout",
       "text": [
        "\r",
        "Finding differences of reclassification 36 for data pairs 5 of 45.  Elapsed time: 2.50078499999 hours"
       ]
      },
      {
       "output_type": "stream",
       "stream": "stdout",
       "text": [
        "\r",
        "Finding differences of reclassification 36 for data pairs 6 of 45.  Elapsed time: 2.50247611112 hours"
       ]
      },
      {
       "output_type": "stream",
       "stream": "stdout",
       "text": [
        "\r",
        "Finding differences of reclassification 36 for data pairs 7 of 45.  Elapsed time: 2.50406305552 hours"
       ]
      },
      {
       "output_type": "stream",
       "stream": "stdout",
       "text": [
        "\r",
        "Finding differences of reclassification 36 for data pairs 8 of 45.  Elapsed time: 2.50568555554 hours"
       ]
      },
      {
       "output_type": "stream",
       "stream": "stdout",
       "text": [
        "\r",
        "Finding differences of reclassification 36 for data pairs 9 of 45.  Elapsed time: 2.50733611107 hours"
       ]
      },
      {
       "output_type": "stream",
       "stream": "stdout",
       "text": [
        "\r",
        "Finding differences of reclassification 36 for data pairs 10 of 45.  Elapsed time: 2.50883638885 hours"
       ]
      },
      {
       "output_type": "stream",
       "stream": "stdout",
       "text": [
        "\r",
        "Finding differences of reclassification 36 for data pairs 11 of 45.  Elapsed time: 2.51045277774 hours"
       ]
      },
      {
       "output_type": "stream",
       "stream": "stdout",
       "text": [
        "\r",
        "Finding differences of reclassification 36 for data pairs 12 of 45.  Elapsed time: 2.51221944445 hours"
       ]
      },
      {
       "output_type": "stream",
       "stream": "stdout",
       "text": [
        "\r",
        "Finding differences of reclassification 36 for data pairs 13 of 45.  Elapsed time: 2.5137258333 hours"
       ]
      },
      {
       "output_type": "stream",
       "stream": "stdout",
       "text": [
        "\r",
        "Finding differences of reclassification 36 for data pairs 14 of 45.  Elapsed time: 2.51533222218 hours"
       ]
      },
      {
       "output_type": "stream",
       "stream": "stdout",
       "text": [
        "\r",
        "Finding differences of reclassification 36 for data pairs 15 of 45.  Elapsed time: 2.51702249997 hours"
       ]
      },
      {
       "output_type": "stream",
       "stream": "stdout",
       "text": [
        "\r",
        "Finding differences of reclassification 36 for data pairs 16 of 45.  Elapsed time: 2.51871722221 hours"
       ]
      },
      {
       "output_type": "stream",
       "stream": "stdout",
       "text": [
        "\r",
        "Finding differences of reclassification 36 for data pairs 17 of 45.  Elapsed time: 2.52027805554 hours"
       ]
      },
      {
       "output_type": "stream",
       "stream": "stdout",
       "text": [
        "\r",
        "Finding differences of reclassification 36 for data pairs 18 of 45.  Elapsed time: 2.52190055556 hours"
       ]
      },
      {
       "output_type": "stream",
       "stream": "stdout",
       "text": [
        "\r",
        "Finding differences of reclassification 36 for data pairs 19 of 45.  Elapsed time: 2.52345944444 hours"
       ]
      },
      {
       "output_type": "stream",
       "stream": "stdout",
       "text": [
        "\r",
        "Finding differences of reclassification 36 for data pairs 20 of 45.  Elapsed time: 2.52498027775 hours"
       ]
      },
      {
       "output_type": "stream",
       "stream": "stdout",
       "text": [
        "\r",
        "Finding differences of reclassification 36 for data pairs 21 of 45.  Elapsed time: 2.52662888885 hours"
       ]
      },
      {
       "output_type": "stream",
       "stream": "stdout",
       "text": [
        "\r",
        "Finding differences of reclassification 36 for data pairs 22 of 45.  Elapsed time: 2.5282169444 hours"
       ]
      },
      {
       "output_type": "stream",
       "stream": "stdout",
       "text": [
        "\r",
        "Finding differences of reclassification 36 for data pairs 23 of 45.  Elapsed time: 2.52991666668 hours"
       ]
      },
      {
       "output_type": "stream",
       "stream": "stdout",
       "text": [
        "\r",
        "Finding differences of reclassification 36 for data pairs 24 of 45.  Elapsed time: 2.53184833335 hours"
       ]
      },
      {
       "output_type": "stream",
       "stream": "stdout",
       "text": [
        "\r",
        "Finding differences of reclassification 36 for data pairs 25 of 45.  Elapsed time: 2.53355388886 hours"
       ]
      },
      {
       "output_type": "stream",
       "stream": "stdout",
       "text": [
        "\r",
        "Finding differences of reclassification 36 for data pairs 26 of 45.  Elapsed time: 2.53521000001 hours"
       ]
      },
      {
       "output_type": "stream",
       "stream": "stdout",
       "text": [
        "\r",
        "Finding differences of reclassification 36 for data pairs 27 of 45.  Elapsed time: 2.53683722218 hours"
       ]
      },
      {
       "output_type": "stream",
       "stream": "stdout",
       "text": [
        "\r",
        "Finding differences of reclassification 36 for data pairs 28 of 45.  Elapsed time: 2.53868777778 hours"
       ]
      },
      {
       "output_type": "stream",
       "stream": "stdout",
       "text": [
        "\r",
        "Finding differences of reclassification 36 for data pairs 29 of 45.  Elapsed time: 2.54038055552 hours"
       ]
      },
      {
       "output_type": "stream",
       "stream": "stdout",
       "text": [
        "\r",
        "Finding differences of reclassification 36 for data pairs 30 of 45.  Elapsed time: 2.54203194446 hours"
       ]
      },
      {
       "output_type": "stream",
       "stream": "stdout",
       "text": [
        "\r",
        "Finding differences of reclassification 36 for data pairs 31 of 45.  Elapsed time: 2.54360694442 hours"
       ]
      },
      {
       "output_type": "stream",
       "stream": "stdout",
       "text": [
        "\r",
        "Finding differences of reclassification 36 for data pairs 32 of 45.  Elapsed time: 2.54515694446 hours"
       ]
      },
      {
       "output_type": "stream",
       "stream": "stdout",
       "text": [
        "\r",
        "Finding differences of reclassification 36 for data pairs 33 of 45.  Elapsed time: 2.5468033333 hours"
       ]
      },
      {
       "output_type": "stream",
       "stream": "stdout",
       "text": [
        "\r",
        "Finding differences of reclassification 36 for data pairs 34 of 45.  Elapsed time: 2.54863638884 hours"
       ]
      },
      {
       "output_type": "stream",
       "stream": "stdout",
       "text": [
        "\r",
        "Finding differences of reclassification 36 for data pairs 35 of 45.  Elapsed time: 2.55048222224 hours"
       ]
      },
      {
       "output_type": "stream",
       "stream": "stdout",
       "text": [
        "\r",
        "Finding differences of reclassification 36 for data pairs 36 of 45.  Elapsed time: 2.5522683333 hours"
       ]
      },
      {
       "output_type": "stream",
       "stream": "stdout",
       "text": [
        "\r",
        "Finding differences of reclassification 36 for data pairs 37 of 45.  Elapsed time: 2.55418805553 hours"
       ]
      },
      {
       "output_type": "stream",
       "stream": "stdout",
       "text": [
        "\r",
        "Finding differences of reclassification 36 for data pairs 38 of 45.  Elapsed time: 2.5557838889 hours"
       ]
      },
      {
       "output_type": "stream",
       "stream": "stdout",
       "text": [
        "\r",
        "Finding differences of reclassification 36 for data pairs 39 of 45.  Elapsed time: 2.5572988889 hours"
       ]
      },
      {
       "output_type": "stream",
       "stream": "stdout",
       "text": [
        "\r",
        "Finding differences of reclassification 36 for data pairs 40 of 45.  Elapsed time: 2.55882888887 hours"
       ]
      },
      {
       "output_type": "stream",
       "stream": "stdout",
       "text": [
        "\r",
        "Finding differences of reclassification 36 for data pairs 41 of 45.  Elapsed time: 2.56046555552 hours"
       ]
      },
      {
       "output_type": "stream",
       "stream": "stdout",
       "text": [
        "\r",
        "Finding differences of reclassification 36 for data pairs 42 of 45.  Elapsed time: 2.56202444441 hours"
       ]
      },
      {
       "output_type": "stream",
       "stream": "stdout",
       "text": [
        "\r",
        "Finding differences of reclassification 36 for data pairs 43 of 45.  Elapsed time: 2.56355833332 hours"
       ]
      },
      {
       "output_type": "stream",
       "stream": "stdout",
       "text": [
        "\r",
        "Finding differences of reclassification 36 for data pairs 44 of 45.  Elapsed time: 2.56514916665 hours"
       ]
      },
      {
       "output_type": "stream",
       "stream": "stdout",
       "text": [
        "\r",
        "Finding differences of reclassification 36 for data pairs 45 of 45.  Elapsed time: 2.56667194446 hours"
       ]
      },
      {
       "output_type": "stream",
       "stream": "stdout",
       "text": [
        "\r",
        "Finding differences of reclassification 37 for data pairs 1 of 45.  Elapsed time: 2.56817861107 hours"
       ]
      },
      {
       "output_type": "stream",
       "stream": "stdout",
       "text": [
        "\r",
        "Finding differences of reclassification 37 for data pairs 2 of 45.  Elapsed time: 2.56968472222 hours"
       ]
      },
      {
       "output_type": "stream",
       "stream": "stdout",
       "text": [
        "\r",
        "Finding differences of reclassification 37 for data pairs 3 of 45.  Elapsed time: 2.57118138889 hours"
       ]
      },
      {
       "output_type": "stream",
       "stream": "stdout",
       "text": [
        "\r",
        "Finding differences of reclassification 37 for data pairs 4 of 45.  Elapsed time: 2.57274055554 hours"
       ]
      },
      {
       "output_type": "stream",
       "stream": "stdout",
       "text": [
        "\r",
        "Finding differences of reclassification 37 for data pairs 5 of 45.  Elapsed time: 2.57427138885 hours"
       ]
      },
      {
       "output_type": "stream",
       "stream": "stdout",
       "text": [
        "\r",
        "Finding differences of reclassification 37 for data pairs 6 of 45.  Elapsed time: 2.57575277779 hours"
       ]
      },
      {
       "output_type": "stream",
       "stream": "stdout",
       "text": [
        "\r",
        "Finding differences of reclassification 37 for data pairs 7 of 45.  Elapsed time: 2.57724805554 hours"
       ]
      },
      {
       "output_type": "stream",
       "stream": "stdout",
       "text": [
        "\r",
        "Finding differences of reclassification 37 for data pairs 8 of 45.  Elapsed time: 2.57875777774 hours"
       ]
      },
      {
       "output_type": "stream",
       "stream": "stdout",
       "text": [
        "\r",
        "Finding differences of reclassification 37 for data pairs 9 of 45.  Elapsed time: 2.58025555551 hours"
       ]
      },
      {
       "output_type": "stream",
       "stream": "stdout",
       "text": [
        "\r",
        "Finding differences of reclassification 37 for data pairs 10 of 45.  Elapsed time: 2.58173972223 hours"
       ]
      },
      {
       "output_type": "stream",
       "stream": "stdout",
       "text": [
        "\r",
        "Finding differences of reclassification 37 for data pairs 11 of 45.  Elapsed time: 2.58325111111 hours"
       ]
      },
      {
       "output_type": "stream",
       "stream": "stdout",
       "text": [
        "\r",
        "Finding differences of reclassification 37 for data pairs 12 of 45.  Elapsed time: 2.58478666663 hours"
       ]
      },
      {
       "output_type": "stream",
       "stream": "stdout",
       "text": [
        "\r",
        "Finding differences of reclassification 37 for data pairs 13 of 45.  Elapsed time: 2.58627666665 hours"
       ]
      },
      {
       "output_type": "stream",
       "stream": "stdout",
       "text": [
        "\r",
        "Finding differences of reclassification 37 for data pairs 14 of 45.  Elapsed time: 2.58776944445 hours"
       ]
      },
      {
       "output_type": "stream",
       "stream": "stdout",
       "text": [
        "\r",
        "Finding differences of reclassification 37 for data pairs 15 of 45.  Elapsed time: 2.58930305554 hours"
       ]
      },
      {
       "output_type": "stream",
       "stream": "stdout",
       "text": [
        "\r",
        "Finding differences of reclassification 37 for data pairs 16 of 45.  Elapsed time: 2.590805 hours"
       ]
      },
      {
       "output_type": "stream",
       "stream": "stdout",
       "text": [
        "\r",
        "Finding differences of reclassification 37 for data pairs 17 of 45.  Elapsed time: 2.59233083334 hours"
       ]
      },
      {
       "output_type": "stream",
       "stream": "stdout",
       "text": [
        "\r",
        "Finding differences of reclassification 37 for data pairs 18 of 45.  Elapsed time: 2.59382861111 hours"
       ]
      },
      {
       "output_type": "stream",
       "stream": "stdout",
       "text": [
        "\r",
        "Finding differences of reclassification 37 for data pairs 19 of 45.  Elapsed time: 2.59534555554 hours"
       ]
      },
      {
       "output_type": "stream",
       "stream": "stdout",
       "text": [
        "\r",
        "Finding differences of reclassification 37 for data pairs 20 of 45.  Elapsed time: 2.59684194446 hours"
       ]
      },
      {
       "output_type": "stream",
       "stream": "stdout",
       "text": [
        "\r",
        "Finding differences of reclassification 37 for data pairs 21 of 45.  Elapsed time: 2.59835111108 hours"
       ]
      },
      {
       "output_type": "stream",
       "stream": "stdout",
       "text": [
        "\r",
        "Finding differences of reclassification 37 for data pairs 22 of 45.  Elapsed time: 2.59988305555 hours"
       ]
      },
      {
       "output_type": "stream",
       "stream": "stdout",
       "text": [
        "\r",
        "Finding differences of reclassification 37 for data pairs 23 of 45.  Elapsed time: 2.6016738889 hours"
       ]
      },
      {
       "output_type": "stream",
       "stream": "stdout",
       "text": [
        "\r",
        "Finding differences of reclassification 37 for data pairs 24 of 45.  Elapsed time: 2.60332666662 hours"
       ]
      },
      {
       "output_type": "stream",
       "stream": "stdout",
       "text": [
        "\r",
        "Finding differences of reclassification 37 for data pairs 25 of 45.  Elapsed time: 2.60498222219 hours"
       ]
      },
      {
       "output_type": "stream",
       "stream": "stdout",
       "text": [
        "\r",
        "Finding differences of reclassification 37 for data pairs 26 of 45.  Elapsed time: 2.60680138886 hours"
       ]
      },
      {
       "output_type": "stream",
       "stream": "stdout",
       "text": [
        "\r",
        "Finding differences of reclassification 37 for data pairs 27 of 45.  Elapsed time: 2.60839749999 hours"
       ]
      },
      {
       "output_type": "stream",
       "stream": "stdout",
       "text": [
        "\r",
        "Finding differences of reclassification 37 for data pairs 28 of 45.  Elapsed time: 2.61001249995 hours"
       ]
      },
      {
       "output_type": "stream",
       "stream": "stdout",
       "text": [
        "\r",
        "Finding differences of reclassification 37 for data pairs 29 of 45.  Elapsed time: 2.6115383333 hours"
       ]
      },
      {
       "output_type": "stream",
       "stream": "stdout",
       "text": [
        "\r",
        "Finding differences of reclassification 37 for data pairs 30 of 45.  Elapsed time: 2.61308000002 hours"
       ]
      },
      {
       "output_type": "stream",
       "stream": "stdout",
       "text": [
        "\r",
        "Finding differences of reclassification 37 for data pairs 31 of 45.  Elapsed time: 2.61465888884 hours"
       ]
      },
      {
       "output_type": "stream",
       "stream": "stdout",
       "text": [
        "\r",
        "Finding differences of reclassification 37 for data pairs 32 of 45.  Elapsed time: 2.61624416663 hours"
       ]
      },
      {
       "output_type": "stream",
       "stream": "stdout",
       "text": [
        "\r",
        "Finding differences of reclassification 37 for data pairs 33 of 45.  Elapsed time: 2.61787388888 hours"
       ]
      },
      {
       "output_type": "stream",
       "stream": "stdout",
       "text": [
        "\r",
        "Finding differences of reclassification 37 for data pairs 34 of 45.  Elapsed time: 2.61940083332 hours"
       ]
      },
      {
       "output_type": "stream",
       "stream": "stdout",
       "text": [
        "\r",
        "Finding differences of reclassification 37 for data pairs 35 of 45.  Elapsed time: 2.62096750001 hours"
       ]
      },
      {
       "output_type": "stream",
       "stream": "stdout",
       "text": [
        "\r",
        "Finding differences of reclassification 37 for data pairs 36 of 45.  Elapsed time: 2.62253944443 hours"
       ]
      },
      {
       "output_type": "stream",
       "stream": "stdout",
       "text": [
        "\r",
        "Finding differences of reclassification 37 for data pairs 37 of 45.  Elapsed time: 2.62416916668 hours"
       ]
      },
      {
       "output_type": "stream",
       "stream": "stdout",
       "text": [
        "\r",
        "Finding differences of reclassification 37 for data pairs 38 of 45.  Elapsed time: 2.6256947222 hours"
       ]
      },
      {
       "output_type": "stream",
       "stream": "stdout",
       "text": [
        "\r",
        "Finding differences of reclassification 37 for data pairs 39 of 45.  Elapsed time: 2.62719055553 hours"
       ]
      },
      {
       "output_type": "stream",
       "stream": "stdout",
       "text": [
        "\r",
        "Finding differences of reclassification 37 for data pairs 40 of 45.  Elapsed time: 2.62870055556 hours"
       ]
      },
      {
       "output_type": "stream",
       "stream": "stdout",
       "text": [
        "\r",
        "Finding differences of reclassification 37 for data pairs 41 of 45.  Elapsed time: 2.63022999995 hours"
       ]
      },
      {
       "output_type": "stream",
       "stream": "stdout",
       "text": [
        "\r",
        "Finding differences of reclassification 37 for data pairs 42 of 45.  Elapsed time: 2.63176111109 hours"
       ]
      },
      {
       "output_type": "stream",
       "stream": "stdout",
       "text": [
        "\r",
        "Finding differences of reclassification 37 for data pairs 43 of 45.  Elapsed time: 2.63327666667 hours"
       ]
      },
      {
       "output_type": "stream",
       "stream": "stdout",
       "text": [
        "\r",
        "Finding differences of reclassification 37 for data pairs 44 of 45.  Elapsed time: 2.63478722221 hours"
       ]
      },
      {
       "output_type": "stream",
       "stream": "stdout",
       "text": [
        "\r",
        "Finding differences of reclassification 37 for data pairs 45 of 45.  Elapsed time: 2.63627694441 hours"
       ]
      },
      {
       "output_type": "stream",
       "stream": "stdout",
       "text": [
        "\r",
        "Finding differences of reclassification 38 for data pairs 1 of 45.  Elapsed time: 2.63776972221 hours"
       ]
      },
      {
       "output_type": "stream",
       "stream": "stdout",
       "text": [
        "\r",
        "Finding differences of reclassification 38 for data pairs 2 of 45.  Elapsed time: 2.63927472221 hours"
       ]
      },
      {
       "output_type": "stream",
       "stream": "stdout",
       "text": [
        "\r",
        "Finding differences of reclassification 38 for data pairs 3 of 45.  Elapsed time: 2.64075888885 hours"
       ]
      },
      {
       "output_type": "stream",
       "stream": "stdout",
       "text": [
        "\r",
        "Finding differences of reclassification 38 for data pairs 4 of 45.  Elapsed time: 2.64226472219 hours"
       ]
      },
      {
       "output_type": "stream",
       "stream": "stdout",
       "text": [
        "\r",
        "Finding differences of reclassification 38 for data pairs 5 of 45.  Elapsed time: 2.64376333329 hours"
       ]
      },
      {
       "output_type": "stream",
       "stream": "stdout",
       "text": [
        "\r",
        "Finding differences of reclassification 38 for data pairs 6 of 45.  Elapsed time: 2.64524999996 hours"
       ]
      },
      {
       "output_type": "stream",
       "stream": "stdout",
       "text": [
        "\r",
        "Finding differences of reclassification 38 for data pairs 7 of 45.  Elapsed time: 2.64676083333 hours"
       ]
      },
      {
       "output_type": "stream",
       "stream": "stdout",
       "text": [
        "\r",
        "Finding differences of reclassification 38 for data pairs 8 of 45.  Elapsed time: 2.64826361107 hours"
       ]
      },
      {
       "output_type": "stream",
       "stream": "stdout",
       "text": [
        "\r",
        "Finding differences of reclassification 38 for data pairs 9 of 45.  Elapsed time: 2.64975944446 hours"
       ]
      },
      {
       "output_type": "stream",
       "stream": "stdout",
       "text": [
        "\r",
        "Finding differences of reclassification 38 for data pairs 10 of 45.  Elapsed time: 2.65123944441 hours"
       ]
      },
      {
       "output_type": "stream",
       "stream": "stdout",
       "text": [
        "\r",
        "Finding differences of reclassification 38 for data pairs 11 of 45.  Elapsed time: 2.65273277779 hours"
       ]
      },
      {
       "output_type": "stream",
       "stream": "stdout",
       "text": [
        "\r",
        "Finding differences of reclassification 38 for data pairs 12 of 45.  Elapsed time: 2.65425222218 hours"
       ]
      },
      {
       "output_type": "stream",
       "stream": "stdout",
       "text": [
        "\r",
        "Finding differences of reclassification 38 for data pairs 13 of 45.  Elapsed time: 2.65574027777 hours"
       ]
      },
      {
       "output_type": "stream",
       "stream": "stdout",
       "text": [
        "\r",
        "Finding differences of reclassification 38 for data pairs 14 of 45.  Elapsed time: 2.65725416667 hours"
       ]
      },
      {
       "output_type": "stream",
       "stream": "stdout",
       "text": [
        "\r",
        "Finding differences of reclassification 38 for data pairs 15 of 45.  Elapsed time: 2.65877611107 hours"
       ]
      },
      {
       "output_type": "stream",
       "stream": "stdout",
       "text": [
        "\r",
        "Finding differences of reclassification 38 for data pairs 16 of 45.  Elapsed time: 2.66027388891 hours"
       ]
      },
      {
       "output_type": "stream",
       "stream": "stdout",
       "text": [
        "\r",
        "Finding differences of reclassification 38 for data pairs 17 of 45.  Elapsed time: 2.66179861108 hours"
       ]
      },
      {
       "output_type": "stream",
       "stream": "stdout",
       "text": [
        "\r",
        "Finding differences of reclassification 38 for data pairs 18 of 45.  Elapsed time: 2.66330638885 hours"
       ]
      },
      {
       "output_type": "stream",
       "stream": "stdout",
       "text": [
        "\r",
        "Finding differences of reclassification 38 for data pairs 19 of 45.  Elapsed time: 2.6648158333 hours"
       ]
      },
      {
       "output_type": "stream",
       "stream": "stdout",
       "text": [
        "\r",
        "Finding differences of reclassification 38 for data pairs 20 of 45.  Elapsed time: 2.66629833334 hours"
       ]
      },
      {
       "output_type": "stream",
       "stream": "stdout",
       "text": [
        "\r",
        "Finding differences of reclassification 38 for data pairs 21 of 45.  Elapsed time: 2.66779555553 hours"
       ]
      },
      {
       "output_type": "stream",
       "stream": "stdout",
       "text": [
        "\r",
        "Finding differences of reclassification 38 for data pairs 22 of 45.  Elapsed time: 2.66929083334 hours"
       ]
      },
      {
       "output_type": "stream",
       "stream": "stdout",
       "text": [
        "\r",
        "Finding differences of reclassification 38 for data pairs 23 of 45.  Elapsed time: 2.67077083329 hours"
       ]
      },
      {
       "output_type": "stream",
       "stream": "stdout",
       "text": [
        "\r",
        "Finding differences of reclassification 38 for data pairs 24 of 45.  Elapsed time: 2.67225999998 hours"
       ]
      },
      {
       "output_type": "stream",
       "stream": "stdout",
       "text": [
        "\r",
        "Finding differences of reclassification 38 for data pairs 25 of 45.  Elapsed time: 2.67377388888 hours"
       ]
      },
      {
       "output_type": "stream",
       "stream": "stdout",
       "text": [
        "\r",
        "Finding differences of reclassification 38 for data pairs 26 of 45.  Elapsed time: 2.67528583335 hours"
       ]
      },
      {
       "output_type": "stream",
       "stream": "stdout",
       "text": [
        "\r",
        "Finding differences of reclassification 38 for data pairs 27 of 45.  Elapsed time: 2.67679805557 hours"
       ]
      },
      {
       "output_type": "stream",
       "stream": "stdout",
       "text": [
        "\r",
        "Finding differences of reclassification 38 for data pairs 28 of 45.  Elapsed time: 2.6783525 hours"
       ]
      },
      {
       "output_type": "stream",
       "stream": "stdout",
       "text": [
        "\r",
        "Finding differences of reclassification 38 for data pairs 29 of 45.  Elapsed time: 2.67985305554 hours"
       ]
      },
      {
       "output_type": "stream",
       "stream": "stdout",
       "text": [
        "\r",
        "Finding differences of reclassification 38 for data pairs 30 of 45.  Elapsed time: 2.68137361109 hours"
       ]
      },
      {
       "output_type": "stream",
       "stream": "stdout",
       "text": [
        "\r",
        "Finding differences of reclassification 38 for data pairs 31 of 45.  Elapsed time: 2.68288444446 hours"
       ]
      },
      {
       "output_type": "stream",
       "stream": "stdout",
       "text": [
        "\r",
        "Finding differences of reclassification 38 for data pairs 32 of 45.  Elapsed time: 2.68436583334 hours"
       ]
      },
      {
       "output_type": "stream",
       "stream": "stdout",
       "text": [
        "\r",
        "Finding differences of reclassification 38 for data pairs 33 of 45.  Elapsed time: 2.68586749997 hours"
       ]
      },
      {
       "output_type": "stream",
       "stream": "stdout",
       "text": [
        "\r",
        "Finding differences of reclassification 38 for data pairs 34 of 45.  Elapsed time: 2.68736722218 hours"
       ]
      },
      {
       "output_type": "stream",
       "stream": "stdout",
       "text": [
        "\r",
        "Finding differences of reclassification 38 for data pairs 35 of 45.  Elapsed time: 2.6888694444 hours"
       ]
      },
      {
       "output_type": "stream",
       "stream": "stdout",
       "text": [
        "\r",
        "Finding differences of reclassification 38 for data pairs 36 of 45.  Elapsed time: 2.69036749999 hours"
       ]
      },
      {
       "output_type": "stream",
       "stream": "stdout",
       "text": [
        "\r",
        "Finding differences of reclassification 38 for data pairs 37 of 45.  Elapsed time: 2.69187138889 hours"
       ]
      },
      {
       "output_type": "stream",
       "stream": "stdout",
       "text": [
        "\r",
        "Finding differences of reclassification 38 for data pairs 38 of 45.  Elapsed time: 2.69334527777 hours"
       ]
      },
      {
       "output_type": "stream",
       "stream": "stdout",
       "text": [
        "\r",
        "Finding differences of reclassification 38 for data pairs 39 of 45.  Elapsed time: 2.69483333329 hours"
       ]
      },
      {
       "output_type": "stream",
       "stream": "stdout",
       "text": [
        "\r",
        "Finding differences of reclassification 38 for data pairs 40 of 45.  Elapsed time: 2.69633750002 hours"
       ]
      },
      {
       "output_type": "stream",
       "stream": "stdout",
       "text": [
        "\r",
        "Finding differences of reclassification 38 for data pairs 41 of 45.  Elapsed time: 2.69783444444 hours"
       ]
      },
      {
       "output_type": "stream",
       "stream": "stdout",
       "text": [
        "\r",
        "Finding differences of reclassification 38 for data pairs 42 of 45.  Elapsed time: 2.69935805553 hours"
       ]
      },
      {
       "output_type": "stream",
       "stream": "stdout",
       "text": [
        "\r",
        "Finding differences of reclassification 38 for data pairs 43 of 45.  Elapsed time: 2.70088277777 hours"
       ]
      },
      {
       "output_type": "stream",
       "stream": "stdout",
       "text": [
        "\r",
        "Finding differences of reclassification 38 for data pairs 44 of 45.  Elapsed time: 2.70237916668 hours"
       ]
      },
      {
       "output_type": "stream",
       "stream": "stdout",
       "text": [
        "\r",
        "Finding differences of reclassification 38 for data pairs 45 of 45.  Elapsed time: 2.70386361109 hours"
       ]
      },
      {
       "output_type": "stream",
       "stream": "stdout",
       "text": [
        "\r",
        "Finding differences of reclassification 39 for data pairs 1 of 45.  Elapsed time: 2.70535805557 hours"
       ]
      },
      {
       "output_type": "stream",
       "stream": "stdout",
       "text": [
        "\r",
        "Finding differences of reclassification 39 for data pairs 2 of 45.  Elapsed time: 2.70684916662 hours"
       ]
      },
      {
       "output_type": "stream",
       "stream": "stdout",
       "text": [
        "\r",
        "Finding differences of reclassification 39 for data pairs 3 of 45.  Elapsed time: 2.70833222224 hours"
       ]
      },
      {
       "output_type": "stream",
       "stream": "stdout",
       "text": [
        "\r",
        "Finding differences of reclassification 39 for data pairs 4 of 45.  Elapsed time: 2.7098463889 hours"
       ]
      },
      {
       "output_type": "stream",
       "stream": "stdout",
       "text": [
        "\r",
        "Finding differences of reclassification 39 for data pairs 5 of 45.  Elapsed time: 2.71134305557 hours"
       ]
      },
      {
       "output_type": "stream",
       "stream": "stdout",
       "text": [
        "\r",
        "Finding differences of reclassification 39 for data pairs 6 of 45.  Elapsed time: 2.71282638888 hours"
       ]
      },
      {
       "output_type": "stream",
       "stream": "stdout",
       "text": [
        "\r",
        "Finding differences of reclassification 39 for data pairs 7 of 45.  Elapsed time: 2.71433111111 hours"
       ]
      },
      {
       "output_type": "stream",
       "stream": "stdout",
       "text": [
        "\r",
        "Finding differences of reclassification 39 for data pairs 8 of 45.  Elapsed time: 2.71583361109 hours"
       ]
      },
      {
       "output_type": "stream",
       "stream": "stdout",
       "text": [
        "\r",
        "Finding differences of reclassification 39 for data pairs 9 of 45.  Elapsed time: 2.71732583331 hours"
       ]
      },
      {
       "output_type": "stream",
       "stream": "stdout",
       "text": [
        "\r",
        "Finding differences of reclassification 39 for data pairs 10 of 45.  Elapsed time: 2.71880499999 hours"
       ]
      },
      {
       "output_type": "stream",
       "stream": "stdout",
       "text": [
        "\r",
        "Finding differences of reclassification 39 for data pairs 11 of 45.  Elapsed time: 2.72037083334 hours"
       ]
      },
      {
       "output_type": "stream",
       "stream": "stdout",
       "text": [
        "\r",
        "Finding differences of reclassification 39 for data pairs 12 of 45.  Elapsed time: 2.72196333329 hours"
       ]
      },
      {
       "output_type": "stream",
       "stream": "stdout",
       "text": [
        "\r",
        "Finding differences of reclassification 39 for data pairs 13 of 45.  Elapsed time: 2.72352666663 hours"
       ]
      },
      {
       "output_type": "stream",
       "stream": "stdout",
       "text": [
        "\r",
        "Finding differences of reclassification 39 for data pairs 14 of 45.  Elapsed time: 2.72509805553 hours"
       ]
      },
      {
       "output_type": "stream",
       "stream": "stdout",
       "text": [
        "\r",
        "Finding differences of reclassification 39 for data pairs 15 of 45.  Elapsed time: 2.7267172222 hours"
       ]
      },
      {
       "output_type": "stream",
       "stream": "stdout",
       "text": [
        "\r",
        "Finding differences of reclassification 39 for data pairs 16 of 45.  Elapsed time: 2.72841777775 hours"
       ]
      },
      {
       "output_type": "stream",
       "stream": "stdout",
       "text": [
        "\r",
        "Finding differences of reclassification 39 for data pairs 17 of 45.  Elapsed time: 2.72994277775 hours"
       ]
      },
      {
       "output_type": "stream",
       "stream": "stdout",
       "text": [
        "\r",
        "Finding differences of reclassification 39 for data pairs 18 of 45.  Elapsed time: 2.73155472219 hours"
       ]
      },
      {
       "output_type": "stream",
       "stream": "stdout",
       "text": [
        "\r",
        "Finding differences of reclassification 39 for data pairs 19 of 45.  Elapsed time: 2.73328638885 hours"
       ]
      },
      {
       "output_type": "stream",
       "stream": "stdout",
       "text": [
        "\r",
        "Finding differences of reclassification 39 for data pairs 20 of 45.  Elapsed time: 2.73499027775 hours"
       ]
      },
      {
       "output_type": "stream",
       "stream": "stdout",
       "text": [
        "\r",
        "Finding differences of reclassification 39 for data pairs 21 of 45.  Elapsed time: 2.73657861107 hours"
       ]
      },
      {
       "output_type": "stream",
       "stream": "stdout",
       "text": [
        "\r",
        "Finding differences of reclassification 39 for data pairs 22 of 45.  Elapsed time: 2.73808027777 hours"
       ]
      },
      {
       "output_type": "stream",
       "stream": "stdout",
       "text": [
        "\r",
        "Finding differences of reclassification 39 for data pairs 23 of 45.  Elapsed time: 2.73956111107 hours"
       ]
      },
      {
       "output_type": "stream",
       "stream": "stdout",
       "text": [
        "\r",
        "Finding differences of reclassification 39 for data pairs 24 of 45.  Elapsed time: 2.74105250001 hours"
       ]
      },
      {
       "output_type": "stream",
       "stream": "stdout",
       "text": [
        "\r",
        "Finding differences of reclassification 39 for data pairs 25 of 45.  Elapsed time: 2.74258472217 hours"
       ]
      },
      {
       "output_type": "stream",
       "stream": "stdout",
       "text": [
        "\r",
        "Finding differences of reclassification 39 for data pairs 26 of 45.  Elapsed time: 2.74447361112 hours"
       ]
      },
      {
       "output_type": "stream",
       "stream": "stdout",
       "text": [
        "\r",
        "Finding differences of reclassification 39 for data pairs 27 of 45.  Elapsed time: 2.74608694441 hours"
       ]
      },
      {
       "output_type": "stream",
       "stream": "stdout",
       "text": [
        "\r",
        "Finding differences of reclassification 39 for data pairs 28 of 45.  Elapsed time: 2.74786388887 hours"
       ]
      },
      {
       "output_type": "stream",
       "stream": "stdout",
       "text": [
        "\r",
        "Finding differences of reclassification 39 for data pairs 29 of 45.  Elapsed time: 2.7494488889 hours"
       ]
      },
      {
       "output_type": "stream",
       "stream": "stdout",
       "text": [
        "\r",
        "Finding differences of reclassification 39 for data pairs 30 of 45.  Elapsed time: 2.75106305553 hours"
       ]
      },
      {
       "output_type": "stream",
       "stream": "stdout",
       "text": [
        "\r",
        "Finding differences of reclassification 39 for data pairs 31 of 45.  Elapsed time: 2.75267166668 hours"
       ]
      },
      {
       "output_type": "stream",
       "stream": "stdout",
       "text": [
        "\r",
        "Finding differences of reclassification 39 for data pairs 32 of 45.  Elapsed time: 2.75453888887 hours"
       ]
      },
      {
       "output_type": "stream",
       "stream": "stdout",
       "text": [
        "\r",
        "Finding differences of reclassification 39 for data pairs 33 of 45.  Elapsed time: 2.75623166667 hours"
       ]
      },
      {
       "output_type": "stream",
       "stream": "stdout",
       "text": [
        "\r",
        "Finding differences of reclassification 39 for data pairs 34 of 45.  Elapsed time: 2.75775249998 hours"
       ]
      },
      {
       "output_type": "stream",
       "stream": "stdout",
       "text": [
        "\r",
        "Finding differences of reclassification 39 for data pairs 35 of 45.  Elapsed time: 2.75926499996 hours"
       ]
      },
      {
       "output_type": "stream",
       "stream": "stdout",
       "text": [
        "\r",
        "Finding differences of reclassification 39 for data pairs 36 of 45.  Elapsed time: 2.76075194445 hours"
       ]
      },
      {
       "output_type": "stream",
       "stream": "stdout",
       "text": [
        "\r",
        "Finding differences of reclassification 39 for data pairs 37 of 45.  Elapsed time: 2.76238750001 hours"
       ]
      },
      {
       "output_type": "stream",
       "stream": "stdout",
       "text": [
        "\r",
        "Finding differences of reclassification 39 for data pairs 38 of 45.  Elapsed time: 2.7641697222 hours"
       ]
      },
      {
       "output_type": "stream",
       "stream": "stdout",
       "text": [
        "\r",
        "Finding differences of reclassification 39 for data pairs 39 of 45.  Elapsed time: 2.76606499996 hours"
       ]
      },
      {
       "output_type": "stream",
       "stream": "stdout",
       "text": [
        "\r",
        "Finding differences of reclassification 39 for data pairs 40 of 45.  Elapsed time: 2.76802861108 hours"
       ]
      },
      {
       "output_type": "stream",
       "stream": "stdout",
       "text": [
        "\r",
        "Finding differences of reclassification 39 for data pairs 41 of 45.  Elapsed time: 2.76994999998 hours"
       ]
      },
      {
       "output_type": "stream",
       "stream": "stdout",
       "text": [
        "\r",
        "Finding differences of reclassification 39 for data pairs 42 of 45.  Elapsed time: 2.77189166665 hours"
       ]
      },
      {
       "output_type": "stream",
       "stream": "stdout",
       "text": [
        "\r",
        "Finding differences of reclassification 39 for data pairs 43 of 45.  Elapsed time: 2.77386111107 hours"
       ]
      },
      {
       "output_type": "stream",
       "stream": "stdout",
       "text": [
        "\r",
        "Finding differences of reclassification 39 for data pairs 44 of 45.  Elapsed time: 2.77541611109 hours"
       ]
      },
      {
       "output_type": "stream",
       "stream": "stdout",
       "text": [
        "\r",
        "Finding differences of reclassification 39 for data pairs 45 of 45.  Elapsed time: 2.77699972219 hours"
       ]
      },
      {
       "output_type": "stream",
       "stream": "stdout",
       "text": [
        "\r",
        "Finding differences of reclassification 40 for data pairs 1 of 45.  Elapsed time: 2.77853055557 hours"
       ]
      },
      {
       "ename": "IndexError",
       "evalue": "list index out of range",
       "output_type": "pyerr",
       "traceback": [
        "\u001b[1;31m---------------------------------------------------------------------------\u001b[0m\n\u001b[1;31mIndexError\u001b[0m                                Traceback (most recent call last)",
        "\u001b[1;32m<ipython-input-17-08258471b15c>\u001b[0m in \u001b[0;36m<module>\u001b[1;34m()\u001b[0m\n\u001b[0;32m     18\u001b[0m         \u001b[1;31m# Find the cluster differences between mask lists from different data sets\u001b[0m\u001b[1;33m\u001b[0m\u001b[1;33m\u001b[0m\u001b[0m\n\u001b[0;32m     19\u001b[0m         \u001b[1;31m# at the same iteration of reassignment.\u001b[0m\u001b[1;33m\u001b[0m\u001b[1;33m\u001b[0m\u001b[0m\n\u001b[1;32m---> 20\u001b[1;33m         clust_diffs, _ = ca.clust_diff(bsu.sig_list_to_mask(all_masks_list[di[0]][itr]),\n\u001b[0m\u001b[0;32m     21\u001b[0m                                        \u001b[0mbsu\u001b[0m\u001b[1;33m.\u001b[0m\u001b[0msig_list_to_mask\u001b[0m\u001b[1;33m(\u001b[0m\u001b[0mall_masks_list\u001b[0m\u001b[1;33m[\u001b[0m\u001b[0mdi\u001b[0m\u001b[1;33m[\u001b[0m\u001b[1;36m1\u001b[0m\u001b[1;33m]\u001b[0m\u001b[1;33m]\u001b[0m\u001b[1;33m[\u001b[0m\u001b[0mitr\u001b[0m\u001b[1;33m]\u001b[0m\u001b[1;33m)\u001b[0m\u001b[1;33m,\u001b[0m\u001b[1;33m\u001b[0m\u001b[0m\n\u001b[0;32m     22\u001b[0m                                        lin_data_alt)\n",
        "\u001b[1;31mIndexError\u001b[0m: list index out of range"
       ]
      }
     ],
     "prompt_number": 17
    },
    {
     "cell_type": "code",
     "collapsed": false,
     "input": [
      "np.median(aggre_clust_diffs[0])"
     ],
     "language": "python",
     "metadata": {},
     "outputs": [
      {
       "metadata": {},
       "output_type": "pyout",
       "prompt_number": 34,
       "text": [
        "16.0"
       ]
      }
     ],
     "prompt_number": 34
    },
    {
     "cell_type": "code",
     "collapsed": false,
     "input": [
      "all_aggre_clust_diffs[160]"
     ],
     "language": "python",
     "metadata": {},
     "outputs": [
      {
       "metadata": {},
       "output_type": "pyout",
       "prompt_number": 39,
       "text": [
        "array([ 202.,   20.,    0., ...,    0.,  374.,  138.])"
       ]
      }
     ],
     "prompt_number": 39
    },
    {
     "cell_type": "code",
     "collapsed": false,
     "input": [
      "all_aggre_clust_diffs = np.concatenate((aggre_clust_diffs_prev, aggre_clust_diffs))"
     ],
     "language": "python",
     "metadata": {},
     "outputs": [],
     "prompt_number": 21
    },
    {
     "cell_type": "code",
     "collapsed": false,
     "input": [
      "all_aggre_clust_diffs.shape"
     ],
     "language": "python",
     "metadata": {},
     "outputs": [
      {
       "metadata": {},
       "output_type": "pyout",
       "prompt_number": 22,
       "text": [
        "(177L, 2835L)"
       ]
      }
     ],
     "prompt_number": 22
    },
    {
     "cell_type": "code",
     "collapsed": false,
     "input": [
      "aggre_clust_diffs_prev = np.load(\"aggre_clust_diffs_118_138.npy\")\n",
      "med_clust_diffs_prev = np.load(\"med_clust_diffs_thru_138.npy\")"
     ],
     "language": "python",
     "metadata": {},
     "outputs": [],
     "prompt_number": 19
    },
    {
     "cell_type": "code",
     "collapsed": false,
     "input": [
      "np.save(\"med_clust_diffs_thru_180.npy\", np.concatenate((med_clust_diffs_prev, med_clust_diffs)))\n",
      "np.save(\"aggre_clust_diffs_thru_180.npy\", np.concatenate((aggre_clust_diffs_prev, aggre_clust_diffs)))"
     ],
     "language": "python",
     "metadata": {},
     "outputs": [],
     "prompt_number": 20
    },
    {
     "cell_type": "code",
     "collapsed": false,
     "input": [
      "arr_aggre_clust_diffs = np.array(all_aggre_clust_diffs)"
     ],
     "language": "python",
     "metadata": {},
     "outputs": [],
     "prompt_number": 31
    },
    {
     "cell_type": "code",
     "collapsed": false,
     "input": [
      "arr_aggre_clust_diffs[176][61]"
     ],
     "language": "python",
     "metadata": {},
     "outputs": [
      {
       "metadata": {},
       "output_type": "pyout",
       "prompt_number": 42,
       "text": [
        "138.0"
       ]
      }
     ],
     "prompt_number": 42
    },
    {
     "cell_type": "code",
     "collapsed": false,
     "input": [
      "err = np.zeros((177, 63))\n",
      "for rea in np.arange(177):\n",
      "    for rnd in np.arange(63):\n",
      "        low = 45*rnd\n",
      "        high = 45*(rnd+1)\n",
      "        err[rea, rnd] = np.median(arr_aggre_clust_diffs[rea, low:high])"
     ],
     "language": "python",
     "metadata": {},
     "outputs": [],
     "prompt_number": 35
    },
    {
     "cell_type": "code",
     "collapsed": false,
     "input": [
      "plot(np.median(err, -1))"
     ],
     "language": "python",
     "metadata": {},
     "outputs": [
      {
       "metadata": {},
       "output_type": "pyout",
       "prompt_number": 36,
       "text": [
        "[<matplotlib.lines.Line2D at 0x210caac8>]"
       ]
      },
      {
       "metadata": {},
       "output_type": "display_data",
       "png": "[encoded data removed]",
       "text": [
        "<matplotlib.figure.Figure at 0x20fae048>"
       ]
      }
     ],
     "prompt_number": 36
    },
    {
     "cell_type": "code",
     "collapsed": false,
     "input": [
      "plot(med_clust_diffs)"
     ],
     "language": "python",
     "metadata": {},
     "outputs": [
      {
       "metadata": {},
       "output_type": "pyout",
       "prompt_number": 22,
       "text": [
        "[<matplotlib.lines.Line2D at 0x249f3fd0>]"
       ]
      },
      {
       "metadata": {},
       "output_type": "display_data",
       "png": "[encoded data removed]",
       "text": [
        "<matplotlib.figure.Figure at 0x249e7da0>"
       ]
      }
     ],
     "prompt_number": 22
    },
    {
     "cell_type": "code",
     "collapsed": false,
     "input": [
      "plot(np.concatenate((med_clust_diffs_40, med_clust_diffs)))"
     ],
     "language": "python",
     "metadata": {},
     "outputs": [
      {
       "metadata": {},
       "output_type": "pyout",
       "prompt_number": 45,
       "text": [
        "[<matplotlib.lines.Line2D at 0x24dfecc0>]"
       ]
      },
      {
       "metadata": {},
       "output_type": "display_data",
       "png": "[encoded data removed]",
       "text": [
        "<matplotlib.figure.Figure at 0x24005b70>"
       ]
      }
     ],
     "prompt_number": 45
    },
    {
     "cell_type": "code",
     "collapsed": false,
     "input": [
      "plot(med_clust_diffs_78)"
     ],
     "language": "python",
     "metadata": {},
     "outputs": [
      {
       "metadata": {},
       "output_type": "pyout",
       "prompt_number": 56,
       "text": [
        "[<matplotlib.lines.Line2D at 0x1f0961d0>]"
       ]
      },
      {
       "metadata": {},
       "output_type": "display_data",
       "png": "[encoded data removed]",
       "text": [
        "<matplotlib.figure.Figure at 0x63a76a0>"
       ]
      }
     ],
     "prompt_number": 56
    },
    {
     "cell_type": "code",
     "collapsed": false,
     "input": [
      "plot(med_clust_diffs_120_140[:len(med_clust_diffs_120_140)-2])"
     ],
     "language": "python",
     "metadata": {},
     "outputs": [
      {
       "metadata": {},
       "output_type": "pyout",
       "prompt_number": 49,
       "text": [
        "[<matplotlib.lines.Line2D at 0x24e40550>]"
       ]
      },
      {
       "metadata": {},
       "output_type": "display_data",
       "png": "[encoded data removed]",
       "text": [
        "<matplotlib.figure.Figure at 0x24e16e48>"
       ]
      }
     ],
     "prompt_number": 49
    },
    {
     "cell_type": "code",
     "collapsed": false,
     "input": [
      "med_clust_diffs_120_140.shape"
     ],
     "language": "python",
     "metadata": {},
     "outputs": [
      {
       "metadata": {},
       "output_type": "pyout",
       "prompt_number": 24,
       "text": [
        "(139L,)"
       ]
      }
     ],
     "prompt_number": 24
    },
    {
     "cell_type": "code",
     "collapsed": false,
     "input": [
      "plot(med_clust_diffs_120_140[:len(med_clust_diffs_120_140)-1])"
     ],
     "language": "python",
     "metadata": {},
     "outputs": [
      {
       "metadata": {},
       "output_type": "pyout",
       "prompt_number": 52,
       "text": [
        "[<matplotlib.lines.Line2D at 0x2550d4a8>]"
       ]
      },
      {
       "metadata": {},
       "output_type": "display_data",
       "png": "[encoded data removed]",
       "text": [
        "<matplotlib.figure.Figure at 0x25149b38>"
       ]
      }
     ],
     "prompt_number": 52
    },
    {
     "cell_type": "code",
     "collapsed": false,
     "input": [
      "aggre_clust_diffs[39]"
     ],
     "language": "python",
     "metadata": {},
     "outputs": [
      {
       "metadata": {},
       "output_type": "pyout",
       "prompt_number": 39,
       "text": [
        "40"
       ]
      }
     ],
     "prompt_number": 39
    },
    {
     "cell_type": "code",
     "collapsed": false,
     "input": [
      "plt.rcParams['lines.linewidth'] = 2"
     ],
     "language": "python",
     "metadata": {},
     "outputs": [],
     "prompt_number": 40
    },
    {
     "cell_type": "code",
     "collapsed": false,
     "input": [
      "fig = viz.probability_hist(aggre_clust_diffs_60_78[9])\n",
      "fig = viz.probability_hist(aggre_clust_diffs[39], fig = fig)\n",
      "fig.axes[0].set_xlim([0,200])"
     ],
     "language": "python",
     "metadata": {},
     "outputs": [
      {
       "metadata": {},
       "output_type": "pyout",
       "prompt_number": 42,
       "text": [
        "(0, 200)"
       ]
      },
      {
       "metadata": {},
       "output_type": "display_data",
       "png": "[encoded data removed]",
       "text": [
        "<matplotlib.figure.Figure at 0x958eb00>"
       ]
      }
     ],
     "prompt_number": 42
    },
    {
     "cell_type": "code",
     "collapsed": false,
     "input": [
      "len(all_masks_list)"
     ],
     "language": "python",
     "metadata": {},
     "outputs": [
      {
       "metadata": {},
       "output_type": "pyout",
       "prompt_number": 18,
       "text": [
        "22"
       ]
      }
     ],
     "prompt_number": 18
    },
    {
     "cell_type": "code",
     "collapsed": false,
     "input": [
      "for i in np.arange(1,11):\n",
      "    np.save(\"sig_list_d%s.npy\"%i, all_masks_list[i-1])"
     ],
     "language": "python",
     "metadata": {},
     "outputs": [],
     "prompt_number": 12
    },
    {
     "cell_type": "code",
     "collapsed": false,
     "input": [
      "test = np.squeeze(np.array(rand_reclass13_masks))"
     ],
     "language": "python",
     "metadata": {},
     "outputs": [],
     "prompt_number": 166
    },
    {
     "cell_type": "code",
     "collapsed": false,
     "input": [
      "i = list(test)"
     ],
     "language": "python",
     "metadata": {},
     "outputs": [],
     "prompt_number": 168
    },
    {
     "cell_type": "code",
     "collapsed": false,
     "input": [],
     "language": "python",
     "metadata": {},
     "outputs": []
    }
   ],
   "metadata": {}
  }
 ]
}